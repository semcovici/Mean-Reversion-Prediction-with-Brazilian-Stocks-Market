





import plotly.graph_objects as go
from statsmodels.tsa.seasonal import seasonal_decompose
import numpy as np
import pandas as pd
import seaborn as sns
import matplotlib.pyplot as plt


sns.set_style('darkgrid')





path_data_dir = '../data/'


list_assets = ["PETR3.SA","PRIO3.SA", "VALE3.SA", "GGBR3.SA", "ABCB4.SA", "ITUB3.SA", "FLRY3.SA", "RADL3.SA"]


relevant_cols = ['Date', 'Close', 'Volume']





dict_dfs = {}
for asset in list_assets:

    df = pd.read_csv(path_data_dir + f"processed/train_price_history_{asset.replace('.', '_')}_meta_dataset_ffill.csv", index_col= 0)
    
    dict_dfs.update({asset:df})


dict_dfs


def create_joint_df(dict_dfs, col):
    
    df_final = pd.DataFrame({})

    for asset, df in dict_dfs.items():
            
        df_rel = df[col].reset_index()
        
        df_rel.rename({col: asset},axis= 1, inplace = True)
        
        
        if len(df_final) == 0:
            
            df_final = df_rel
        else:
        
            df_final = df_final.merge(
                df_rel,
                on = 'Date',
                how = 'left'
            )
            
    return df_final    


# df_dp = create_joint_df(dict_dfs, 'diff_close_mean_z_score_21')

# df_dp.Date = pd.to_datetime(df_dp.Date)
# df_dp.set_index("Date", inplace=True)
# df_dp

# df_dp_int = df_dp.copy()
# for asset in list_assets:
    
#     df_dp_int[asset] = df_dp_int[asset].apply(int)
    
    
# df_dp_int

df_close = create_joint_df(dict_dfs, 'Close')
df_close.Date = pd.to_datetime(df_close.Date)
df_close.set_index("Date", inplace=True)
df_close








df_close.rename({col:col.replace(".SA", "") for col in df_close.columns},axis=1).describe()


print(df_close.rename({col:col.replace(".SA", "") for col in df_close.columns},axis=1).describe().round(2).to_latex(float_format="%.2f"))


sns.boxplot(data=df_close.rename({col:col.replace(".SA", "") for col in df_close.columns},axis=1))


df_plt = df_close.rename({col:col.replace(".SA", "") for col in df_close.columns},axis=1).reset_index()


# Transformando o DataFrame para o formato long (necessário para seaborn)
df_long = df_plt.melt(id_vars='Date', var_name='series', value_name='value')

# Plotando com seaborn
plt.figure(figsize=(12, 6))
sns.lineplot(data=df_long, x='Date', y='value', hue='series')

plt.title("Séries Temporais dos valores de close ao longo do tempo")
plt.xlabel("Data")
plt.ylabel("Valor")
plt.legend(title="Séries")
plt.grid(True)
plt.show()







# close correlation
corr_mtrx_close = df_close.rename({col:col.replace(".SA", "") for col in df_close.columns},axis=1).corr()
print(display(corr_mtrx_close))

sns.heatmap(corr_mtrx_close, annot=True)
plt.show()


mask = np.triu(np.ones_like(corr_mtrx_close, dtype=bool))

sns.heatmap(corr_mtrx_close, annot=True, mask=mask)
plt.show()





windows = [7,14,21]


# create df with moving zcores (7,14,21)

df_z = []
for window in windows:

    df = create_joint_df(dict_dfs, f'diff_close_mean_z_score_{window}')
    df.Date = pd.to_datetime(df.Date)
    df.set_index("Date", inplace=True)
    df.columns = pd.MultiIndex.from_tuples((window, col) for col in df.columns)
    df_z.append(df)
    
df_z = pd.concat(df_z, axis =1)
df_z.head()


custom_palette = {
    7: "#E41A1C",   # Vermelho
    14: "#377EB8",  # Azul
    21: "#4DAF4A",  # Verde
}

for asset in list_assets:
    
    df_plt = df_z[[col for col in df_z.columns if col[1] == asset]]
    df_plt.columns = [col[0] for col in df_plt.columns]
    

    # Convertendo o DataFrame para o formato longo (long format) para facilitar o uso no Seaborn
    df_melted = df_plt.reset_index().melt(id_vars="Date", value_vars=[7, 14, 21], 
                                    var_name="Tamanho janela móvel", value_name="Valores")

    # Plotando as curvas KDE com uma paleta personalizada
    plt.figure(figsize=(10, 2))
    sns.kdeplot(data=df_melted, x="Valores", hue="Tamanho janela móvel", fill=True, palette=custom_palette)

    plt.title(f"Distribuições dos valores de Z-score móvel para diferentes janelas móveis - {asset}")
    plt.xlabel("Z-score móvel")
    plt.ylabel("Densidade")
    plt.grid(axis='y', linestyle='--', alpha=0.7)
    plt.show()



# Criando a figura para colocar os gráficos em diferentes linhas
fig, axes = plt.subplots(len(list_assets), 1, figsize=(10, 3 * len(list_assets)), sharex=True)

# Ajuste para o caso de apenas um asset (evitar erro com subplots)
if len(list_assets) == 1:
    axes = [axes]

for i, asset in enumerate(list_assets):
    # Simulando o DataFrame para este exemplo (substitua com seus dados)
    df_plt = df_z[[col for col in df_z.columns if col[1] == asset]]
    df_plt.columns = [col[0] for col in df_plt.columns]
    
    # Convertendo o DataFrame para o formato longo
    df_melted = df_plt.reset_index().melt(id_vars="Date", value_vars=[7, 14, 21], 
                                    var_name="Tamanho janela móvel", value_name="Valores")
    
    # Plotando cada gráfico no eixo correspondente
    sns.kdeplot(
        data=df_melted,
        x="Valores",
        hue="Tamanho janela móvel",
        fill=True,
        palette=custom_palette,
        ax=axes[i]
    )
    
    axes[i].set_title(f"Distribuições dos valores de Z-score móvel - {asset}")
    axes[i].set_xlabel("Z-score móvel")
    axes[i].set_ylabel("Densidade")
    axes[i].grid(axis='y', linestyle='--', alpha=0.7)

# Ajustando os espaçamentos entre os subplots
plt.tight_layout()
plt.show()


# Criando a figura para colocar os gráficos em diferentes linhas
fig, axes = plt.subplots(len(list_assets), 1, figsize=(30, 10 * len(list_assets)), sharex=True)

# Ajuste para o caso de apenas um asset (evitar erro com subplots)
if len(list_assets) == 1:
    axes = [axes]

for i, asset in enumerate(list_assets):
    # Simulando o DataFrame para este exemplo (substitua com seus dados)
    df_plt = df_z[[col for col in df_z.columns if col[1] == asset]]
    df_plt.columns = [col[0] for col in df_plt.columns]
    
    # Convertendo o DataFrame para o formato longo
    df_melted = df_plt.reset_index().melt(id_vars="Date", value_vars=[7, 14, 21], 
                                          var_name="Tamanho janela móvel", value_name="Valores")
    
    # Plotando cada gráfico no eixo correspondente
    sns.lineplot(
        data=df_melted,
        x="Date",
        y="Valores",
        hue="Tamanho janela móvel",
        palette=custom_palette,
        ax=axes[i]
    )
    
    axes[i].set_title(f"Séries temporais - {asset}")
    axes[i].set_xlabel("Data")
    axes[i].set_ylabel("Valores")
    axes[i].grid(axis='y', alpha=0.7)

# Ajustando os espaçamentos entre os subplots
plt.tight_layout()
plt.show()



df_plt = df_z[[col for col in df_z.columns if col[1] == asset]]



df_plt





# create df with moving zcores (7,14,21)

df_z = []
for window in windows:

    df = create_joint_df(dict_dfs, f'meta_{window}')
    df.Date = pd.to_datetime(df.Date)
    df.set_index("Date", inplace=True)
    df.columns = pd.MultiIndex.from_tuples((window, col) for col in df.columns)
    df_z.append(df)
    
df_z = pd.concat(df_z, axis =1)
df_z.head()


# Criando a figura para colocar os gráficos em diferentes linhas
fig, axes = plt.subplots(len(list_assets), 1, figsize=(10, 3 * len(list_assets)), sharex=True)

# Ajuste para o caso de apenas um asset (evitar erro com subplots)
if len(list_assets) == 1:
    axes = [axes]

for i, asset in enumerate(list_assets):
    # Simulando o DataFrame para este exemplo (substitua com seus dados)
    df_plt = df_z[[col for col in df_z.columns if col[1] == asset]]
    df_plt.columns = [col[0] for col in df_plt.columns]
    
    # Convertendo o DataFrame para o formato longo
    df_melted = df_plt.reset_index().melt(id_vars="Date", value_vars=[7, 14, 21], 
                                    var_name="Tamanho janela móvel", value_name="Valores")
    
    # Plotando cada gráfico no eixo correspondente
    sns.kdeplot(
        data=df_melted,
        x="Valores",
        hue="Tamanho janela móvel",
        fill=True,
        palette=custom_palette,
        ax=axes[i]
    )
    
    axes[i].set_title(f"Distribuições dos valores de k - {asset}")
    axes[i].set_xlabel("k")
    axes[i].set_ylabel("Densidade")
    axes[i].grid(axis='y', linestyle='--', alpha=0.7)

# Ajustando os espaçamentos entre os subplots
plt.tight_layout()
plt.show()


# Criando a figura para colocar os gráficos em diferentes linhas
fig, axes = plt.subplots(len(list_assets), 1, figsize=(10, 3 * len(list_assets)), sharex=True)

# Ajuste para o caso de apenas um asset (evitar erro com subplots)
if len(list_assets) == 1:
    axes = [axes]

for i, asset in enumerate(list_assets):
    # Simulando o DataFrame para este exemplo (substitua com seus dados)
    df_plt = df_z[[col for col in df_z.columns if col[1] == asset]]
    df_plt.columns = [col[0] for col in df_plt.columns]
    
    # Convertendo o DataFrame para o formato longo
    df_melted = df_plt.reset_index().melt(id_vars="Date", value_vars=[7, 14, 21], 
                                          var_name="Tamanho janela móvel", value_name="Valores")
    
    # Plotando cada gráfico no eixo correspondente
    sns.lineplot(
        data=df_melted,
        x="Date",
        y="Valores",
        hue="Tamanho janela móvel",
        palette=custom_palette,
        ax=axes[i]
    )
    
    axes[i].set_title(f"Séries temporais - {asset}")
    axes[i].set_xlabel("Data")
    axes[i].set_ylabel("Valores")
    axes[i].grid(axis='y', linestyle='--', alpha=0.7)

# Ajustando os espaçamentos entre os subplots
plt.tight_layout()
plt.show()




