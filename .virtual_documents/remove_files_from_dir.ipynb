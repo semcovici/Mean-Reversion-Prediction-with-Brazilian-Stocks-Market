import os

def remover_arquivos_com_substring(diretorio, substring):
    # Verifica se o diretório existe
    if not os.path.exists(diretorio):
        print(f"O diretório {diretorio} não existe.")
        return
    
    # Itera sobre os arquivos do diretório
    for nome_arquivo in os.listdir(diretorio):
        caminho_arquivo = os.path.join(diretorio, nome_arquivo)
        
        # Verifica se o nome do arquivo contém a substring e se é um arquivo
        if substring in nome_arquivo and os.path.isfile(caminho_arquivo):
            try:
                os.remove(caminho_arquivo)
                print(f"Arquivo removido: {nome_arquivo}")
            except Exception as e:
                print(f"Erro ao remover o arquivo {nome_arquivo}: {e}")

# Exemplo de uso
diretorio = "reports/test_results"
substring = "KAN"  # Substring que deseja remover dos arquivos

remover_arquivos_com_substring(diretorio, substring)




