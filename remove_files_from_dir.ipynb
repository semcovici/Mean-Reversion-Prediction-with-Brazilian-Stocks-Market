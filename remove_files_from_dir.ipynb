{
 "cells": [
  {
   "cell_type": "code",
   "execution_count": 8,
   "metadata": {},
   "outputs": [],
   "source": [
    "import os\n",
    "\n",
    "def remover_arquivos_com_substring(diretorio, substring):\n",
    "    # Verifica se o diretório existe\n",
    "    if not os.path.exists(diretorio):\n",
    "        print(f\"O diretório {diretorio} não existe.\")\n",
    "        return\n",
    "    \n",
    "    # Itera sobre os arquivos do diretório\n",
    "    for nome_arquivo in os.listdir(diretorio):\n",
    "        caminho_arquivo = os.path.join(diretorio, nome_arquivo)\n",
    "        \n",
    "        # Verifica se o nome do arquivo contém a substring e se é um arquivo\n",
    "        if substring in nome_arquivo and os.path.isfile(caminho_arquivo):\n",
    "            try:\n",
    "                os.remove(caminho_arquivo)\n",
    "                print(f\"Arquivo removido: {nome_arquivo}\")\n",
    "            except Exception as e:\n",
    "                print(f\"Erro ao remover o arquivo {nome_arquivo}: {e}\")\n",
    "\n",
    "# Exemplo de uso\n",
    "diretorio = \"reports/test_results\"\n",
    "substring = \"meta\"  # Substring que deseja remover dos arquivos\n",
    "\n",
    "remover_arquivos_com_substring(diretorio, substring)\n"
   ]
  },
  {
   "cell_type": "code",
   "execution_count": null,
   "metadata": {},
   "outputs": [],
   "source": []
  }
 ],
 "metadata": {
  "kernelspec": {
   "display_name": "env-tcc-tf-gpu",
   "language": "python",
   "name": "python3"
  },
  "language_info": {
   "codemirror_mode": {
    "name": "ipython",
    "version": 3
   },
   "file_extension": ".py",
   "mimetype": "text/x-python",
   "name": "python",
   "nbconvert_exporter": "python",
   "pygments_lexer": "ipython3",
   "version": "3.12.4"
  }
 },
 "nbformat": 4,
 "nbformat_minor": 2
}
