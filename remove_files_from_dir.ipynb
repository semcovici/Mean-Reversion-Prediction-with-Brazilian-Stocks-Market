{
 "cells": [
  {
   "cell_type": "code",
   "execution_count": 1,
   "metadata": {},
   "outputs": [
    {
     "name": "stdout",
     "output_type": "stream",
     "text": [
      "Arquivo removido: KAN_PETR3_SA_features=diff_close_mean_z_score_7__label=diff_close_mean_z_score_7__sql_len=1__scaling_method=None_test_results.csv\n",
      "Arquivo removido: KAN_PETR3_SA_features=meta_14__label=meta_14__sql_len=1__scaling_method=None_test_results.csv\n",
      "Arquivo removido: KAN_PETR3_SA_features=meta_7__label=meta_7__sql_len=1__scaling_method=None_test_results.csv\n"
     ]
    }
   ],
   "source": [
    "import os\n",
    "\n",
    "def remover_arquivos_com_substring(diretorio, substring):\n",
    "    # Verifica se o diretório existe\n",
    "    if not os.path.exists(diretorio):\n",
    "        print(f\"O diretório {diretorio} não existe.\")\n",
    "        return\n",
    "    \n",
    "    # Itera sobre os arquivos do diretório\n",
    "    for nome_arquivo in os.listdir(diretorio):\n",
    "        caminho_arquivo = os.path.join(diretorio, nome_arquivo)\n",
    "        \n",
    "        # Verifica se o nome do arquivo contém a substring e se é um arquivo\n",
    "        if substring in nome_arquivo and os.path.isfile(caminho_arquivo):\n",
    "            try:\n",
    "                os.remove(caminho_arquivo)\n",
    "                print(f\"Arquivo removido: {nome_arquivo}\")\n",
    "            except Exception as e:\n",
    "                print(f\"Erro ao remover o arquivo {nome_arquivo}: {e}\")\n",
    "\n",
    "# Exemplo de uso\n",
    "diretorio = \"reports/test_results\"\n",
    "substring = \"KAN\"  # Substring que deseja remover dos arquivos\n",
    "\n",
    "remover_arquivos_com_substring(diretorio, substring)\n"
   ]
  },
  {
   "cell_type": "code",
   "execution_count": null,
   "metadata": {},
   "outputs": [],
   "source": []
  }
 ],
 "metadata": {
  "kernelspec": {
   "display_name": "Python 3 (ipykernel)",
   "language": "python",
   "name": "python3"
  },
  "language_info": {
   "codemirror_mode": {
    "name": "ipython",
    "version": 3
   },
   "file_extension": ".py",
   "mimetype": "text/x-python",
   "name": "python",
   "nbconvert_exporter": "python",
   "pygments_lexer": "ipython3",
   "version": "3.9.13"
  }
 },
 "nbformat": 4,
 "nbformat_minor": 4
}
