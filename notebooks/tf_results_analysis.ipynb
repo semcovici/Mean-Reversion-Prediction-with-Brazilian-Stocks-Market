{
 "cells": [
  {
   "cell_type": "code",
   "execution_count": 6,
   "metadata": {},
   "outputs": [],
   "source": [
    "import pandas as pd\n",
    "PATH_REPORTS = '../reports/'\n",
    "lstm_results_path = 'test_results/LSTM_with_Attention_{asset}_test_results.csv'\n",
    "mlp_results_path =  'test_results/MLP_{asset}_test_results.csv'"
   ]
  },
  {
   "cell_type": "code",
   "execution_count": 7,
   "metadata": {},
   "outputs": [],
   "source": [
    "ASSETS = [\"PETR3.SA\", \"PRIO3.SA\", \"VALE3.SA\", \"GGBR3.SA\", \"ABCB4.SA\", \"ITUB3.SA\", \"FLRY3.SA\", \"RADL3.SA\"]"
   ]
  },
  {
   "cell_type": "code",
   "execution_count": 12,
   "metadata": {},
   "outputs": [
    {
     "name": "stdout",
     "output_type": "stream",
     "text": [
      "PETR3.SA\n",
      "PRIO3.SA\n",
      "VALE3.SA\n",
      "GGBR3.SA\n",
      "ABCB4.SA\n",
      "ITUB3.SA\n",
      "FLRY3.SA\n",
      "RADL3.SA\n"
     ]
    }
   ],
   "source": [
    "for asset in ASSETS:\n",
    "    \n",
    "    lstm_results = pd.read_csv(PATH_REPORTS + lstm_results_path.format(asset = asset.replace(\".\", \"_\")), index_col = 0)\n",
    "    mlp_results = pd.read_csv(PATH_REPORTS + mlp_results_path.format(asset = asset.replace(\".\", \"_\")), index_col = 0)\n",
    "    \n",
    "    print(asset)"
   ]
  },
  {
   "cell_type": "code",
   "execution_count": 15,
   "metadata": {},
   "outputs": [
    {
     "data": {
      "text/plain": [
       "'['"
      ]
     },
     "execution_count": 15,
     "metadata": {},
     "output_type": "execute_result"
    }
   ],
   "source": [
    "lstm_results.iloc[0,0][0]"
   ]
  },
  {
   "cell_type": "code",
   "execution_count": 16,
   "metadata": {},
   "outputs": [
    {
     "data": {
      "text/html": [
       "<div>\n",
       "<style scoped>\n",
       "    .dataframe tbody tr th:only-of-type {\n",
       "        vertical-align: middle;\n",
       "    }\n",
       "\n",
       "    .dataframe tbody tr th {\n",
       "        vertical-align: top;\n",
       "    }\n",
       "\n",
       "    .dataframe thead th {\n",
       "        text-align: right;\n",
       "    }\n",
       "</style>\n",
       "<table border=\"1\" class=\"dataframe\">\n",
       "  <thead>\n",
       "    <tr style=\"text-align: right;\">\n",
       "      <th></th>\n",
       "      <th>y_test</th>\n",
       "      <th>y_pred</th>\n",
       "    </tr>\n",
       "  </thead>\n",
       "  <tbody>\n",
       "    <tr>\n",
       "      <th>0</th>\n",
       "      <td>[-0.1283354]</td>\n",
       "      <td>-0.026802</td>\n",
       "    </tr>\n",
       "    <tr>\n",
       "      <th>1</th>\n",
       "      <td>[0.18002863]</td>\n",
       "      <td>0.025595</td>\n",
       "    </tr>\n",
       "    <tr>\n",
       "      <th>2</th>\n",
       "      <td>[0.93982095]</td>\n",
       "      <td>0.254662</td>\n",
       "    </tr>\n",
       "    <tr>\n",
       "      <th>3</th>\n",
       "      <td>[1.11934331]</td>\n",
       "      <td>0.784867</td>\n",
       "    </tr>\n",
       "    <tr>\n",
       "      <th>4</th>\n",
       "      <td>[1.48142243]</td>\n",
       "      <td>0.903238</td>\n",
       "    </tr>\n",
       "    <tr>\n",
       "      <th>...</th>\n",
       "      <td>...</td>\n",
       "      <td>...</td>\n",
       "    </tr>\n",
       "    <tr>\n",
       "      <th>959</th>\n",
       "      <td>[1.30153032]</td>\n",
       "      <td>1.011319</td>\n",
       "    </tr>\n",
       "    <tr>\n",
       "      <th>960</th>\n",
       "      <td>[1.89789484]</td>\n",
       "      <td>1.034221</td>\n",
       "    </tr>\n",
       "    <tr>\n",
       "      <th>961</th>\n",
       "      <td>[1.74071159]</td>\n",
       "      <td>1.411713</td>\n",
       "    </tr>\n",
       "    <tr>\n",
       "      <th>962</th>\n",
       "      <td>[1.70210743]</td>\n",
       "      <td>1.303902</td>\n",
       "    </tr>\n",
       "    <tr>\n",
       "      <th>963</th>\n",
       "      <td>[1.57239591]</td>\n",
       "      <td>1.214168</td>\n",
       "    </tr>\n",
       "  </tbody>\n",
       "</table>\n",
       "<p>964 rows × 2 columns</p>\n",
       "</div>"
      ],
      "text/plain": [
       "           y_test    y_pred\n",
       "0    [-0.1283354] -0.026802\n",
       "1    [0.18002863]  0.025595\n",
       "2    [0.93982095]  0.254662\n",
       "3    [1.11934331]  0.784867\n",
       "4    [1.48142243]  0.903238\n",
       "..            ...       ...\n",
       "959  [1.30153032]  1.011319\n",
       "960  [1.89789484]  1.034221\n",
       "961  [1.74071159]  1.411713\n",
       "962  [1.70210743]  1.303902\n",
       "963  [1.57239591]  1.214168\n",
       "\n",
       "[964 rows x 2 columns]"
      ]
     },
     "execution_count": 16,
     "metadata": {},
     "output_type": "execute_result"
    }
   ],
   "source": [
    "lstm_results"
   ]
  }
 ],
 "metadata": {
  "kernelspec": {
   "display_name": "env-tcc-tf-gpu",
   "language": "python",
   "name": "python3"
  },
  "language_info": {
   "codemirror_mode": {
    "name": "ipython",
    "version": 3
   },
   "file_extension": ".py",
   "mimetype": "text/x-python",
   "name": "python",
   "nbconvert_exporter": "python",
   "pygments_lexer": "ipython3",
   "version": "3.12.4"
  }
 },
 "nbformat": 4,
 "nbformat_minor": 2
}
