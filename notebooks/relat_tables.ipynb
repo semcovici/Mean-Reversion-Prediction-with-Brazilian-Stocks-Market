{
 "cells": [
  {
   "cell_type": "code",
   "execution_count": 1,
   "metadata": {},
   "outputs": [],
   "source": [
    "import pandas as pd"
   ]
  },
  {
   "cell_type": "code",
   "execution_count": 6,
   "metadata": {},
   "outputs": [],
   "source": [
    "asset = \"PETR3.SA\"\n",
    "path_data_dir = '../data/'\n",
    "n_prev_meta = 1"
   ]
  },
  {
   "cell_type": "code",
   "execution_count": 10,
   "metadata": {},
   "outputs": [],
   "source": [
    "ctg_tbl = pd.read_csv(path_data_dir + f'processed/contingency_table_price_history_{asset.replace('.', '_')}_meta_range({n_prev_meta})_dataset_ffill.csv', index_col = 0)"
   ]
  },
  {
   "cell_type": "code",
   "execution_count": 14,
   "metadata": {},
   "outputs": [
    {
     "data": {
      "text/html": [
       "<div>\n",
       "<style scoped>\n",
       "    .dataframe tbody tr th:only-of-type {\n",
       "        vertical-align: middle;\n",
       "    }\n",
       "\n",
       "    .dataframe tbody tr th {\n",
       "        vertical-align: top;\n",
       "    }\n",
       "\n",
       "    .dataframe thead th {\n",
       "        text-align: right;\n",
       "    }\n",
       "</style>\n",
       "<table border=\"1\" class=\"dataframe\">\n",
       "  <thead>\n",
       "    <tr style=\"text-align: right;\">\n",
       "      <th></th>\n",
       "      <th>-3</th>\n",
       "      <th>-2</th>\n",
       "      <th>-1</th>\n",
       "      <th>0</th>\n",
       "      <th>1</th>\n",
       "      <th>2</th>\n",
       "      <th>3</th>\n",
       "    </tr>\n",
       "    <tr>\n",
       "      <th>p</th>\n",
       "      <th></th>\n",
       "      <th></th>\n",
       "      <th></th>\n",
       "      <th></th>\n",
       "      <th></th>\n",
       "      <th></th>\n",
       "      <th></th>\n",
       "    </tr>\n",
       "  </thead>\n",
       "  <tbody>\n",
       "    <tr>\n",
       "      <th>-3</th>\n",
       "      <td>2</td>\n",
       "      <td>4</td>\n",
       "      <td>4</td>\n",
       "      <td>1</td>\n",
       "      <td>0</td>\n",
       "      <td>0</td>\n",
       "      <td>0</td>\n",
       "    </tr>\n",
       "    <tr>\n",
       "      <th>-2</th>\n",
       "      <td>9</td>\n",
       "      <td>137</td>\n",
       "      <td>69</td>\n",
       "      <td>18</td>\n",
       "      <td>2</td>\n",
       "      <td>0</td>\n",
       "      <td>0</td>\n",
       "    </tr>\n",
       "    <tr>\n",
       "      <th>-1</th>\n",
       "      <td>0</td>\n",
       "      <td>88</td>\n",
       "      <td>756</td>\n",
       "      <td>161</td>\n",
       "      <td>5</td>\n",
       "      <td>0</td>\n",
       "      <td>0</td>\n",
       "    </tr>\n",
       "    <tr>\n",
       "      <th>0</th>\n",
       "      <td>0</td>\n",
       "      <td>6</td>\n",
       "      <td>178</td>\n",
       "      <td>1788</td>\n",
       "      <td>194</td>\n",
       "      <td>7</td>\n",
       "      <td>0</td>\n",
       "    </tr>\n",
       "    <tr>\n",
       "      <th>1</th>\n",
       "      <td>0</td>\n",
       "      <td>0</td>\n",
       "      <td>1</td>\n",
       "      <td>184</td>\n",
       "      <td>871</td>\n",
       "      <td>106</td>\n",
       "      <td>0</td>\n",
       "    </tr>\n",
       "    <tr>\n",
       "      <th>2</th>\n",
       "      <td>0</td>\n",
       "      <td>0</td>\n",
       "      <td>2</td>\n",
       "      <td>21</td>\n",
       "      <td>86</td>\n",
       "      <td>176</td>\n",
       "      <td>6</td>\n",
       "    </tr>\n",
       "    <tr>\n",
       "      <th>3</th>\n",
       "      <td>0</td>\n",
       "      <td>0</td>\n",
       "      <td>0</td>\n",
       "      <td>1</td>\n",
       "      <td>3</td>\n",
       "      <td>2</td>\n",
       "      <td>5</td>\n",
       "    </tr>\n",
       "  </tbody>\n",
       "</table>\n",
       "</div>"
      ],
      "text/plain": [
       "    -3   -2   -1     0    1    2  3\n",
       "p                                  \n",
       "-3   2    4    4     1    0    0  0\n",
       "-2   9  137   69    18    2    0  0\n",
       "-1   0   88  756   161    5    0  0\n",
       " 0   0    6  178  1788  194    7  0\n",
       " 1   0    0    1   184  871  106  0\n",
       " 2   0    0    2    21   86  176  6\n",
       " 3   0    0    0     1    3    2  5"
      ]
     },
     "execution_count": 14,
     "metadata": {},
     "output_type": "execute_result"
    }
   ],
   "source": [
    "ctg_tbl.index.names = ['p']\n",
    "ctg_tbl"
   ]
  },
  {
   "cell_type": "code",
   "execution_count": 20,
   "metadata": {},
   "outputs": [
    {
     "name": "stdout",
     "output_type": "stream",
     "text": [
      "\\begin{tabular}{lrrrrrrr}\n",
      "\\toprule\n",
      " & -3 & -2 & -1 & 0 & 1 & 2 & 3 \\\\\n",
      "p &  &  &  &  &  &  &  \\\\\n",
      "\\midrule\n",
      "-3 & 0.180000 & 0.020000 & 0.000000 & 0.000000 & 0.000000 & 0.000000 & 0.000000 \\\\\n",
      "-2 & 0.820000 & 0.580000 & 0.070000 & 0.010000 & 0.000000 & 0.000000 & 0.000000 \\\\\n",
      "-1 & 0.000000 & 0.370000 & 0.750000 & 0.070000 & 0.000000 & 0.000000 & 0.000000 \\\\\n",
      "0 & 0.000000 & 0.030000 & 0.180000 & 0.820000 & 0.170000 & 0.020000 & 0.000000 \\\\\n",
      "1 & 0.000000 & 0.000000 & 0.000000 & 0.080000 & 0.750000 & 0.360000 & 0.000000 \\\\\n",
      "2 & 0.000000 & 0.000000 & 0.000000 & 0.010000 & 0.070000 & 0.600000 & 0.550000 \\\\\n",
      "3 & 0.000000 & 0.000000 & 0.000000 & 0.000000 & 0.000000 & 0.010000 & 0.450000 \\\\\n",
      "\\bottomrule\n",
      "\\end{tabular}\n",
      "\n"
     ]
    }
   ],
   "source": [
    "print(ctg_tbl.apply(lambda x: [col/sum(x) for col in x]).round(2).to_latex())"
   ]
  },
  {
   "cell_type": "code",
   "execution_count": 16,
   "metadata": {},
   "outputs": [
    {
     "name": "stdout",
     "output_type": "stream",
     "text": [
      "\\begin{tabular}{lrrrrrrr}\n",
      "\\toprule\n",
      " & -3 & -2 & -1 & 0 & 1 & 2 & 3 \\\\\n",
      "p &  &  &  &  &  &  &  \\\\\n",
      "\\midrule\n",
      "-3 & 2 & 4 & 4 & 1 & 0 & 0 & 0 \\\\\n",
      "-2 & 9 & 137 & 69 & 18 & 2 & 0 & 0 \\\\\n",
      "-1 & 0 & 88 & 756 & 161 & 5 & 0 & 0 \\\\\n",
      "0 & 0 & 6 & 178 & 1788 & 194 & 7 & 0 \\\\\n",
      "1 & 0 & 0 & 1 & 184 & 871 & 106 & 0 \\\\\n",
      "2 & 0 & 0 & 2 & 21 & 86 & 176 & 6 \\\\\n",
      "3 & 0 & 0 & 0 & 1 & 3 & 2 & 5 \\\\\n",
      "\\bottomrule\n",
      "\\end{tabular}\n",
      "\n"
     ]
    }
   ],
   "source": [
    "print(ctg_tbl.to_latex())"
   ]
  }
 ],
 "metadata": {
  "kernelspec": {
   "display_name": "env-tcc",
   "language": "python",
   "name": "python3"
  },
  "language_info": {
   "codemirror_mode": {
    "name": "ipython",
    "version": 3
   },
   "file_extension": ".py",
   "mimetype": "text/x-python",
   "name": "python",
   "nbconvert_exporter": "python",
   "pygments_lexer": "ipython3",
   "version": "3.12.3"
  }
 },
 "nbformat": 4,
 "nbformat_minor": 2
}
