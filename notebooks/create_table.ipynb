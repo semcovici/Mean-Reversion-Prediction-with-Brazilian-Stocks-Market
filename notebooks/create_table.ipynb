{
 "cells": [
  {
   "cell_type": "markdown",
   "metadata": {},
   "source": [
    "## Setup"
   ]
  },
  {
   "cell_type": "markdown",
   "metadata": {},
   "source": [
    "### Imports"
   ]
  },
  {
   "cell_type": "code",
   "execution_count": 1,
   "metadata": {},
   "outputs": [],
   "source": [
    "import plotly.graph_objects as go\n",
    "import numpy as np\n",
    "import pandas as pd\n",
    "from tqdm import tqdm\n",
    "tqdm.pandas()\n",
    "import seaborn as sns\n",
    "from math import isnan\n",
    "import matplotlib.pyplot as plt"
   ]
  },
  {
   "cell_type": "code",
   "execution_count": 2,
   "metadata": {},
   "outputs": [],
   "source": [
    "sns.set_style('darkgrid')"
   ]
  },
  {
   "cell_type": "markdown",
   "metadata": {},
   "source": [
    "### Definitions"
   ]
  },
  {
   "cell_type": "code",
   "execution_count": 3,
   "metadata": {},
   "outputs": [],
   "source": [
    "path_data_dir = '../data/'"
   ]
  },
  {
   "cell_type": "code",
   "execution_count": 4,
   "metadata": {},
   "outputs": [],
   "source": [
    "list_assets = [\"PETR3.SA\",\"PRIO3.SA\", \"VALE3.SA\", \"GGBR3.SA\", \"ABCB4.SA\", \"ITUB3.SA\", \"FLRY3.SA\", \"RADL3.SA\"]"
   ]
  },
  {
   "cell_type": "code",
   "execution_count": 5,
   "metadata": {},
   "outputs": [],
   "source": [
    "relevant_cols = ['Date', 'Close', 'Volume']"
   ]
  },
  {
   "cell_type": "code",
   "execution_count": 6,
   "metadata": {},
   "outputs": [],
   "source": [
    "# simple moving average \n",
    "window_size = 21"
   ]
  },
  {
   "cell_type": "markdown",
   "metadata": {},
   "source": [
    "###  Prepare the data"
   ]
  },
  {
   "cell_type": "code",
   "execution_count": 7,
   "metadata": {},
   "outputs": [],
   "source": [
    "def expand_days(\n",
    "    data\n",
    "):\n",
    "\n",
    "    # get all dates in the range\n",
    "    date_range = pd.date_range(start=data['Date'].min(), end=data['Date'].max())\n",
    "\n",
    "    # create df with all dates\n",
    "    full_dates_df = pd.DataFrame({'Date': date_range})\n",
    "\n",
    "    # merge dataframe with all dates and original \n",
    "    data = full_dates_df.merge(data, on='Date', how='left')\n",
    "    \n",
    "    return data"
   ]
  },
  {
   "cell_type": "code",
   "execution_count": 8,
   "metadata": {},
   "outputs": [],
   "source": [
    "def calculate_features(data):\n",
    "    \n",
    "    data['diff_close_mean'] = data.Close - data.SMA_21\n",
    "    data['diff_close_mean_z_score'] = data.diff_close_mean / data.MSTD_21\n",
    "    data['diff_close_mean_z_score'] = data['diff_close_mean_z_score'].fillna(0)\n",
    "    data['meta'] = data.diff_close_mean_z_score.apply(int)\n",
    "    \n",
    "    return data "
   ]
  },
  {
   "cell_type": "markdown",
   "metadata": {},
   "source": [
    "#### create dataframe"
   ]
  },
  {
   "cell_type": "code",
   "execution_count": 9,
   "metadata": {},
   "outputs": [
    {
     "name": "stderr",
     "output_type": "stream",
     "text": [
      "100%|██████████| 8/8 [00:02<00:00,  3.62it/s]\n"
     ]
    }
   ],
   "source": [
    "for asset in tqdm(list_assets):\n",
    "    \n",
    "    # get data\n",
    "    data =  pd.read_excel(path_data_dir + f'raw/price_history_{asset.replace('.', '_')}.xlsx')[relevant_cols]\n",
    "    \n",
    "    data[f'SMA_{window_size}'] = data[f'Close'].rolling(window = window_size).mean()\n",
    "    data[f'MSTD_{window_size}'] = data[f'Close'].rolling(window = window_size).std()\n",
    "    \n",
    "    # remove n first rows that not enter in the SMA\n",
    "    data = data.iloc[window_size - 1:,:]\n",
    "    \n",
    "    # expand days\n",
    "    data = expand_days(data)\n",
    "    \n",
    "    \n",
    "    cols_to_ffill = [f'SMA_{window_size}',f'MSTD_{window_size}'] \n",
    "    data[cols_to_ffill] = data[cols_to_ffill].ffill()\n",
    "    \n",
    "    # create column with day of week\n",
    "    data['Day_of_week'] = data.Date.dt.day_of_week\n",
    "    \n",
    "    # tag weekend\n",
    "    data['Weekend'] = data.Day_of_week.apply(lambda x: 1 if x in [5,6] else 0)\n",
    "    \n",
    "    # data invalid days \n",
    "    data['Invalid_Days'] = data.Close.apply(lambda x: 1 if isnan(x) else 0)\n",
    "    \n",
    "    data.set_index('Date', inplace=True)\n",
    "    \n",
    "    data_filled = data.ffill()\n",
    "    data_interpolate = data.interpolate()\n",
    "    \n",
    "    data_filled = calculate_features(data_filled)\n",
    "    data_interpolate = calculate_features(data_interpolate)\n",
    "    \n",
    "    data_filled.to_csv(path_data_dir + f'processed/price_history_{asset.replace('.', '_')}_meta_dataset_ffill.csv')\n",
    "    data_interpolate.to_csv(path_data_dir + f'processed/price_history_{asset.replace('.', '_')}_meta_dataset_interpolate.csv')"
   ]
  }
 ],
 "metadata": {
  "kernelspec": {
   "display_name": "env-tcc",
   "language": "python",
   "name": "python3"
  },
  "language_info": {
   "codemirror_mode": {
    "name": "ipython",
    "version": 3
   },
   "file_extension": ".py",
   "mimetype": "text/x-python",
   "name": "python",
   "nbconvert_exporter": "python",
   "pygments_lexer": "ipython3",
   "version": "3.12.2"
  }
 },
 "nbformat": 4,
 "nbformat_minor": 2
}
