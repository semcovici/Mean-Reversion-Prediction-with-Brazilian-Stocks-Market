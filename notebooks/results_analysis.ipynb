{
 "cells": [
  {
   "cell_type": "code",
   "execution_count": 1,
   "metadata": {
    "notebookRunGroups": {
     "groupValue": "2"
    }
   },
   "outputs": [],
   "source": [
    "\n",
    "# import external libs\n",
    "import pandas as pd\n",
    "import warnings\n",
    "from tqdm import tqdm\n",
    "import os\n",
    "import sys\n",
    "sys.path.append('../src/')\n",
    "import re\n",
    "import plotly.express as px\n",
    "\n",
    "# import internal libs\n",
    "from model.evaluation import classification_report, regression_metrics, get_classification_report\n",
    "from model.config import create_experiment_configs_dummy, create_experiment_configs_tf\n",
    "from data.preparation import load_dataset"
   ]
  },
  {
   "cell_type": "code",
   "execution_count": 2,
   "metadata": {},
   "outputs": [],
   "source": [
    "# remove warning\n",
    "warnings.filterwarnings('ignore')"
   ]
  },
  {
   "cell_type": "code",
   "execution_count": 3,
   "metadata": {},
   "outputs": [],
   "source": [
    "# define paths\n",
    "PATH_REPORTS = '../reports/'\n",
    "lstm_results_path = 'test_results/LSTM_with_Attention_{asset}_test_results.csv'\n",
    "mlp_results_path =  'test_results/MLP_{asset}_test_results.csv'\n",
    "DATA_DIR = '../data/'"
   ]
  },
  {
   "cell_type": "code",
   "execution_count": 4,
   "metadata": {},
   "outputs": [],
   "source": [
    "# define experiments\n",
    "ASSETS = [\n",
    "    \"PETR3.SA\", \n",
    "    \"PRIO3.SA\", \n",
    "    \"VALE3.SA\", \n",
    "    \"GGBR3.SA\", \n",
    "    \"ABCB4.SA\", \n",
    "    \"ITUB3.SA\", \n",
    "    \"FLRY3.SA\", \n",
    "    \"RADL3.SA\"\n",
    "    ]\n",
    "\n",
    "seq_len_list = [1,2,3,4,5,6,7,14,21,28,35,42,49\n",
    "                # ,56,63,70\n",
    "                ]\n",
    "\n",
    "moving_windows = [7,14,21]\n",
    "\n",
    "algorithms=[\n",
    "    'LSTM_with_Attention', \n",
    "    # 'MLP',\n",
    "    # 'KAN'\n",
    "    ]\n",
    "\n",
    "dict_experiments_dummy = create_experiment_configs_dummy(ASSETS, moving_windows)\n",
    "dict_experiments_tf = create_experiment_configs_tf(ASSETS, seq_len_list, moving_windows,algorithms=algorithms)"
   ]
  },
  {
   "cell_type": "markdown",
   "metadata": {},
   "source": [
    "## General results"
   ]
  },
  {
   "cell_type": "markdown",
   "metadata": {},
   "source": [
    "### Create table"
   ]
  },
  {
   "cell_type": "code",
   "execution_count": 5,
   "metadata": {},
   "outputs": [
    {
     "name": "stderr",
     "output_type": "stream",
     "text": [
      "100%|██████████| 624/624 [00:22<00:00, 27.78it/s]\n",
      "100%|██████████| 48/48 [00:01<00:00, 30.31it/s]\n"
     ]
    }
   ],
   "source": [
    "list_results_clf = []\n",
    "list_results_reg = []\n",
    "# list_results = []\n",
    "\n",
    "for name, dict_experiments, path_results in [\n",
    "    (\"tf\", dict_experiments_tf, PATH_REPORTS + 'test_results/{algorithm}_{asset}_features={features}__label={label_col}__sql_len={seq_len}__scaling_method={scaling_method}_test_results.csv'),\n",
    "    ('dummy', dict_experiments_dummy, PATH_REPORTS + \"test_results/Dummy_model_{asset}_features={feature_col}__label={label_col}_test_results.csv\")\n",
    "]:\n",
    "    \n",
    "    for exp_name, config in tqdm(dict_experiments.items()):\n",
    "        \n",
    "        if name == \"tf\":\n",
    "            \n",
    "            feature_cols = config['feature_cols']\n",
    "            label_col = config['label_col']\n",
    "            seq_len = config['seq_len']\n",
    "            asset = config['asset']\n",
    "            scaling_method = config['scaling_method']\n",
    "            algorithm = config['algorithm']\n",
    "            asset = config['asset']\n",
    "            prediction_type = config['prediction_type']\n",
    "            \n",
    "            filepath = path_results.format(\n",
    "                algorithm = algorithm,\n",
    "                features = \"_\".join(feature_cols),\n",
    "                label_col = label_col,\n",
    "                asset = asset.replace(\".\", \"_\"),\n",
    "                scaling_method = scaling_method.__str__(),\n",
    "                seq_len = seq_len\n",
    "            )\n",
    "            \n",
    "            if not os.path.exists(filepath): \n",
    "                print(f\"The file {filepath} dont't exists\")\n",
    "                continue\n",
    "\n",
    "            results = pd.read_csv(filepath)\n",
    "            \n",
    "        elif name == 'dummy':\n",
    "            feature_cols = [config['feature_col']]\n",
    "            label_col = config['label_col']\n",
    "            asset = config['asset']\n",
    "            algorithm = \"Dummy_model\"\n",
    "            seq_len = 1\n",
    "            scaling_method = None\n",
    "            prediction_type = 'dummy'\n",
    "            asset_formated = asset.replace(\".\", \"_\")\n",
    "            \n",
    "            filepath = path_results.format(\n",
    "                algorithm = algorithm,\n",
    "                feature_col = feature_cols[0],\n",
    "                label_col = label_col,\n",
    "                asset = asset_formated\n",
    "            )\n",
    "            \n",
    "            if  not os.path.exists(filepath): \n",
    "                print(f\"The file {filepath} dont't exists\")\n",
    "                continue\n",
    "            \n",
    "            results = pd.read_csv(filepath)\n",
    "        \n",
    "        # concat with the test dataset\n",
    "        full_test = load_dataset(asset=asset, data_dir=DATA_DIR,dataset_split='test')\n",
    "        results = pd.concat([results,full_test], axis =1)\n",
    "        \n",
    "        # find the window for label calculation (get the number of the string)\n",
    "        window = int(re.findall(r'\\d+', label_col)[0])\n",
    "\n",
    "        # results without leak\n",
    "        results_wo_leak = results.iloc[max(seq_len, window):]\n",
    "        \n",
    "        # remove invalid days\n",
    "        results = results[results.Invalid_Days == 0]\n",
    "        \n",
    "        # raise error if there is nan values\n",
    "        if results.isna().sum().sum() > 0: \n",
    "            raise ValueError('Há dados nulos no dataframe de resultados')\n",
    "                \n",
    "                \n",
    "        new_coluns = [asset, str(feature_cols), str(label_col), seq_len, algorithm, scaling_method, prediction_type]\n",
    "        new_columns_nms = ['asset','feature_cols','label_col','seq_len','model','scaling_method','prediction_type', 'leak']\n",
    "                \n",
    "        # regression metrics\n",
    "        reg_metrics = regression_metrics(results.y_test, results.y_pred)\n",
    "        reg_metrics_wo_leak = regression_metrics(results_wo_leak.y_test, results_wo_leak.y_pred)\n",
    "        \n",
    "    \n",
    "        # add columns with experiment config \n",
    "\n",
    "        reg_metrics[\n",
    "            new_columns_nms\n",
    "            ] = new_coluns + [True]\n",
    "        reg_metrics_wo_leak[\n",
    "            new_columns_nms\n",
    "            ] = new_coluns+ [False]\n",
    "        \n",
    "        list_results_reg.append(reg_metrics)\n",
    "        list_results_reg.append(reg_metrics_wo_leak)\n",
    "    \n",
    "    \n",
    "        # obtem metricas de classificacao, truncando os valores (se o valor já for a meta, não terá diferenca)\n",
    "        y_test_trunc = [int(i) for i in results.y_test]\n",
    "        y_pred_trunc = [int(i) for i in results.y_pred]\n",
    "        df_cr = get_classification_report(y_test_trunc, y_pred_trunc)\n",
    "        \n",
    "        y_test_trunc_woleak = [int(i) for i in results_wo_leak.y_test]\n",
    "        y_pred_trunc_woleak = [int(i) for i in results_wo_leak.y_pred]\n",
    "        df_cr_wo_leak = get_classification_report(y_test_trunc_woleak, y_pred_trunc_woleak)\n",
    "        \n",
    "        df_cr[new_columns_nms] = new_coluns + [True]\n",
    "        df_cr_wo_leak[new_columns_nms] = new_coluns + [False]\n",
    "        \n",
    "        list_results_clf.append(df_cr)\n",
    "        list_results_clf.append(df_cr_wo_leak)"
   ]
  },
  {
   "cell_type": "code",
   "execution_count": 6,
   "metadata": {},
   "outputs": [],
   "source": [
    "# concat results\n",
    "final_results_reg = pd.concat(list_results_reg).reset_index(drop=True)\n",
    "final_results_clf = pd.concat(list_results_clf).reset_index(drop=True)"
   ]
  },
  {
   "cell_type": "code",
   "execution_count": 7,
   "metadata": {},
   "outputs": [],
   "source": [
    "# only the \"right\" labels\n",
    "final_results_clf = final_results_clf[final_results_clf.label_col.str.contains('meta')]\n",
    "final_results_reg = final_results_reg[final_results_reg.label_col.str.contains('diff_close_mean_z_score')]"
   ]
  },
  {
   "cell_type": "markdown",
   "metadata": {},
   "source": [
    "### Results"
   ]
  },
  {
   "cell_type": "code",
   "execution_count": 8,
   "metadata": {},
   "outputs": [],
   "source": [
    "assets_domain = [([\"PETR3.SA\",\"PRIO3.SA\"], 'Petróleo'), ([\"VALE3.SA\", \"GGBR3.SA\"], \"Mineração\"), ([\"ABCB4.SA\", \"ITUB3.SA\"], 'Financeiro'), ([\"FLRY3.SA\", \"RADL3.SA\"], 'Saúde')]\n",
    "\n",
    "# Configuração para não omitir linhas\n",
    "pd.set_option('display.max_rows', None)\n",
    "pd.set_option('display.max_columns', None)"
   ]
  },
  {
   "cell_type": "markdown",
   "metadata": {},
   "source": [
    "\n",
    "#### Dummy results"
   ]
  },
  {
   "cell_type": "code",
   "execution_count": 9,
   "metadata": {},
   "outputs": [],
   "source": [
    "assets_domain = [([\"PETR3.SA\",\"PRIO3.SA\"], 'Petróleo'), ([\"VALE3.SA\", \"GGBR3.SA\"], \"Mineração\"), ([\"ABCB4.SA\", \"ITUB3.SA\"], 'Financeiro'), ([\"FLRY3.SA\", \"RADL3.SA\"], 'Saúde')]\n",
    "\n",
    "asset_to_domain = lambda x: 'Petróleo' if x in [\"PETR3.SA\",\"PRIO3.SA\"] else \"Mineração\" if x in [\"VALE3.SA\", \"GGBR3.SA\"] else 'Financeiro' if x in [\"ABCB4.SA\", \"ITUB3.SA\"] else 'Saúde' if x in [\"FLRY3.SA\", \"RADL3.SA\"] else None"
   ]
  },
  {
   "cell_type": "code",
   "execution_count": 10,
   "metadata": {},
   "outputs": [],
   "source": [
    "# general \n",
    "macro_dummy = final_results_clf[\n",
    "    (final_results_clf['class'] == 'macro avg') &\n",
    "    (final_results_clf['prediction_type'] == 'dummy')\n",
    "    \n",
    "    ].round(2)\n",
    "macro_dummy['domain'] = macro_dummy.asset.apply(asset_to_domain)\n",
    "\n",
    "reg_dummy = final_results_reg[\n",
    "    (final_results_reg['prediction_type'] == 'dummy')\n",
    "    ].round(2)\n",
    "reg_dummy['domain'] = reg_dummy.asset.apply(asset_to_domain)"
   ]
  },
  {
   "cell_type": "code",
   "execution_count": 11,
   "metadata": {},
   "outputs": [],
   "source": [
    "# for label in macro_dummy.label_col.unique():\n",
    "#     for model in macro_dummy.model.unique():\n",
    "\n",
    "#         print(label, model)\n",
    "        \n",
    "#         fig = px.box(macro_dummy, x=\"model\", y=\"f1-score\", points=\"all\")\n",
    "#         fig.show()"
   ]
  },
  {
   "cell_type": "code",
   "execution_count": 12,
   "metadata": {},
   "outputs": [
    {
     "name": "stdout",
     "output_type": "stream",
     "text": [
      "\n",
      "##############################################\n",
      "# DOMAIN: Petróleo\n",
      "# ASSETS: ['PETR3.SA', 'PRIO3.SA']\n",
      "##############################################\n",
      "          \n",
      "Metricas macro - label meta\n"
     ]
    },
    {
     "data": {
      "text/html": [
       "<div>\n",
       "<style scoped>\n",
       "    .dataframe tbody tr th:only-of-type {\n",
       "        vertical-align: middle;\n",
       "    }\n",
       "\n",
       "    .dataframe tbody tr th {\n",
       "        vertical-align: top;\n",
       "    }\n",
       "\n",
       "    .dataframe thead th {\n",
       "        text-align: right;\n",
       "    }\n",
       "</style>\n",
       "<table border=\"1\" class=\"dataframe\">\n",
       "  <thead>\n",
       "    <tr style=\"text-align: right;\">\n",
       "      <th></th>\n",
       "      <th>precision</th>\n",
       "      <th>recall</th>\n",
       "      <th>f1-score</th>\n",
       "      <th>ativo</th>\n",
       "      <th>feature_cols</th>\n",
       "      <th>alvo</th>\n",
       "      <th>leak</th>\n",
       "      <th>domain</th>\n",
       "    </tr>\n",
       "  </thead>\n",
       "  <tbody>\n",
       "    <tr>\n",
       "      <th>11805</th>\n",
       "      <td>0.67</td>\n",
       "      <td>0.67</td>\n",
       "      <td>0.67</td>\n",
       "      <td>PETR3.SA</td>\n",
       "      <td>['past_meta_14']</td>\n",
       "      <td>meta_14</td>\n",
       "      <td>False</td>\n",
       "      <td>Petróleo</td>\n",
       "    </tr>\n",
       "    <tr>\n",
       "      <th>11906</th>\n",
       "      <td>0.65</td>\n",
       "      <td>0.65</td>\n",
       "      <td>0.65</td>\n",
       "      <td>PRIO3.SA</td>\n",
       "      <td>['past_meta_14']</td>\n",
       "      <td>meta_14</td>\n",
       "      <td>False</td>\n",
       "      <td>Petróleo</td>\n",
       "    </tr>\n",
       "    <tr>\n",
       "      <th>11796</th>\n",
       "      <td>0.43</td>\n",
       "      <td>0.43</td>\n",
       "      <td>0.43</td>\n",
       "      <td>PETR3.SA</td>\n",
       "      <td>['past_meta_14']</td>\n",
       "      <td>meta_14</td>\n",
       "      <td>True</td>\n",
       "      <td>Petróleo</td>\n",
       "    </tr>\n",
       "    <tr>\n",
       "      <th>11898</th>\n",
       "      <td>0.49</td>\n",
       "      <td>0.49</td>\n",
       "      <td>0.49</td>\n",
       "      <td>PRIO3.SA</td>\n",
       "      <td>['past_meta_14']</td>\n",
       "      <td>meta_14</td>\n",
       "      <td>True</td>\n",
       "      <td>Petróleo</td>\n",
       "    </tr>\n",
       "    <tr>\n",
       "      <th>11841</th>\n",
       "      <td>0.71</td>\n",
       "      <td>0.70</td>\n",
       "      <td>0.70</td>\n",
       "      <td>PETR3.SA</td>\n",
       "      <td>['past_meta_21']</td>\n",
       "      <td>meta_21</td>\n",
       "      <td>False</td>\n",
       "      <td>Petróleo</td>\n",
       "    </tr>\n",
       "    <tr>\n",
       "      <th>11937</th>\n",
       "      <td>0.74</td>\n",
       "      <td>0.74</td>\n",
       "      <td>0.74</td>\n",
       "      <td>PRIO3.SA</td>\n",
       "      <td>['past_meta_21']</td>\n",
       "      <td>meta_21</td>\n",
       "      <td>False</td>\n",
       "      <td>Petróleo</td>\n",
       "    </tr>\n",
       "    <tr>\n",
       "      <th>11832</th>\n",
       "      <td>0.49</td>\n",
       "      <td>0.49</td>\n",
       "      <td>0.49</td>\n",
       "      <td>PETR3.SA</td>\n",
       "      <td>['past_meta_21']</td>\n",
       "      <td>meta_21</td>\n",
       "      <td>True</td>\n",
       "      <td>Petróleo</td>\n",
       "    </tr>\n",
       "    <tr>\n",
       "      <th>11929</th>\n",
       "      <td>0.62</td>\n",
       "      <td>0.62</td>\n",
       "      <td>0.62</td>\n",
       "      <td>PRIO3.SA</td>\n",
       "      <td>['past_meta_21']</td>\n",
       "      <td>meta_21</td>\n",
       "      <td>True</td>\n",
       "      <td>Petróleo</td>\n",
       "    </tr>\n",
       "    <tr>\n",
       "      <th>11770</th>\n",
       "      <td>0.54</td>\n",
       "      <td>0.54</td>\n",
       "      <td>0.54</td>\n",
       "      <td>PETR3.SA</td>\n",
       "      <td>['past_meta_7']</td>\n",
       "      <td>meta_7</td>\n",
       "      <td>False</td>\n",
       "      <td>Petróleo</td>\n",
       "    </tr>\n",
       "    <tr>\n",
       "      <th>11874</th>\n",
       "      <td>0.48</td>\n",
       "      <td>0.48</td>\n",
       "      <td>0.48</td>\n",
       "      <td>PRIO3.SA</td>\n",
       "      <td>['past_meta_7']</td>\n",
       "      <td>meta_7</td>\n",
       "      <td>False</td>\n",
       "      <td>Petróleo</td>\n",
       "    </tr>\n",
       "    <tr>\n",
       "      <th>11762</th>\n",
       "      <td>0.33</td>\n",
       "      <td>0.33</td>\n",
       "      <td>0.33</td>\n",
       "      <td>PETR3.SA</td>\n",
       "      <td>['past_meta_7']</td>\n",
       "      <td>meta_7</td>\n",
       "      <td>True</td>\n",
       "      <td>Petróleo</td>\n",
       "    </tr>\n",
       "    <tr>\n",
       "      <th>11866</th>\n",
       "      <td>0.34</td>\n",
       "      <td>0.34</td>\n",
       "      <td>0.34</td>\n",
       "      <td>PRIO3.SA</td>\n",
       "      <td>['past_meta_7']</td>\n",
       "      <td>meta_7</td>\n",
       "      <td>True</td>\n",
       "      <td>Petróleo</td>\n",
       "    </tr>\n",
       "  </tbody>\n",
       "</table>\n",
       "</div>"
      ],
      "text/plain": [
       "       precision  recall  f1-score     ativo      feature_cols     alvo  \\\n",
       "11805       0.67    0.67      0.67  PETR3.SA  ['past_meta_14']  meta_14   \n",
       "11906       0.65    0.65      0.65  PRIO3.SA  ['past_meta_14']  meta_14   \n",
       "11796       0.43    0.43      0.43  PETR3.SA  ['past_meta_14']  meta_14   \n",
       "11898       0.49    0.49      0.49  PRIO3.SA  ['past_meta_14']  meta_14   \n",
       "11841       0.71    0.70      0.70  PETR3.SA  ['past_meta_21']  meta_21   \n",
       "11937       0.74    0.74      0.74  PRIO3.SA  ['past_meta_21']  meta_21   \n",
       "11832       0.49    0.49      0.49  PETR3.SA  ['past_meta_21']  meta_21   \n",
       "11929       0.62    0.62      0.62  PRIO3.SA  ['past_meta_21']  meta_21   \n",
       "11770       0.54    0.54      0.54  PETR3.SA   ['past_meta_7']   meta_7   \n",
       "11874       0.48    0.48      0.48  PRIO3.SA   ['past_meta_7']   meta_7   \n",
       "11762       0.33    0.33      0.33  PETR3.SA   ['past_meta_7']   meta_7   \n",
       "11866       0.34    0.34      0.34  PRIO3.SA   ['past_meta_7']   meta_7   \n",
       "\n",
       "        leak    domain  \n",
       "11805  False  Petróleo  \n",
       "11906  False  Petróleo  \n",
       "11796   True  Petróleo  \n",
       "11898   True  Petróleo  \n",
       "11841  False  Petróleo  \n",
       "11937  False  Petróleo  \n",
       "11832   True  Petróleo  \n",
       "11929   True  Petróleo  \n",
       "11770  False  Petróleo  \n",
       "11874  False  Petróleo  \n",
       "11762   True  Petróleo  \n",
       "11866   True  Petróleo  "
      ]
     },
     "metadata": {},
     "output_type": "display_data"
    },
    {
     "name": "stdout",
     "output_type": "stream",
     "text": [
      "Metricas regressao - label diff_close_mean_z_score\n"
     ]
    },
    {
     "data": {
      "text/html": [
       "<div>\n",
       "<style scoped>\n",
       "    .dataframe tbody tr th:only-of-type {\n",
       "        vertical-align: middle;\n",
       "    }\n",
       "\n",
       "    .dataframe tbody tr th {\n",
       "        vertical-align: top;\n",
       "    }\n",
       "\n",
       "    .dataframe thead th {\n",
       "        text-align: right;\n",
       "    }\n",
       "</style>\n",
       "<table border=\"1\" class=\"dataframe\">\n",
       "  <thead>\n",
       "    <tr style=\"text-align: right;\">\n",
       "      <th></th>\n",
       "      <th>Mean Absolute Error (MAE)</th>\n",
       "      <th>Mean Squared Error (MSE)</th>\n",
       "      <th>Root Mean Squared Error (RMSE)</th>\n",
       "      <th>R-squared (R2)</th>\n",
       "      <th>Mean Absolute Percentage Error (MAPE)</th>\n",
       "      <th>ativo</th>\n",
       "      <th>alvo</th>\n",
       "      <th>leak</th>\n",
       "      <th>domain</th>\n",
       "    </tr>\n",
       "  </thead>\n",
       "  <tbody>\n",
       "    <tr>\n",
       "      <th>1248</th>\n",
       "      <td>0.71</td>\n",
       "      <td>0.92</td>\n",
       "      <td>0.96</td>\n",
       "      <td>0.26</td>\n",
       "      <td>2.07</td>\n",
       "      <td>PETR3.SA</td>\n",
       "      <td>diff_close_mean_z_score_7</td>\n",
       "      <td>True</td>\n",
       "      <td>Petróleo</td>\n",
       "    </tr>\n",
       "    <tr>\n",
       "      <th>1249</th>\n",
       "      <td>0.49</td>\n",
       "      <td>0.63</td>\n",
       "      <td>0.79</td>\n",
       "      <td>0.48</td>\n",
       "      <td>1.42</td>\n",
       "      <td>PETR3.SA</td>\n",
       "      <td>diff_close_mean_z_score_7</td>\n",
       "      <td>False</td>\n",
       "      <td>Petróleo</td>\n",
       "    </tr>\n",
       "    <tr>\n",
       "      <th>1252</th>\n",
       "      <td>0.57</td>\n",
       "      <td>0.65</td>\n",
       "      <td>0.81</td>\n",
       "      <td>0.58</td>\n",
       "      <td>1.78</td>\n",
       "      <td>PETR3.SA</td>\n",
       "      <td>diff_close_mean_z_score_14</td>\n",
       "      <td>True</td>\n",
       "      <td>Petróleo</td>\n",
       "    </tr>\n",
       "    <tr>\n",
       "      <th>1253</th>\n",
       "      <td>0.39</td>\n",
       "      <td>0.45</td>\n",
       "      <td>0.67</td>\n",
       "      <td>0.71</td>\n",
       "      <td>1.23</td>\n",
       "      <td>PETR3.SA</td>\n",
       "      <td>diff_close_mean_z_score_14</td>\n",
       "      <td>False</td>\n",
       "      <td>Petróleo</td>\n",
       "    </tr>\n",
       "    <tr>\n",
       "      <th>1256</th>\n",
       "      <td>0.48</td>\n",
       "      <td>0.48</td>\n",
       "      <td>0.69</td>\n",
       "      <td>0.70</td>\n",
       "      <td>1.08</td>\n",
       "      <td>PETR3.SA</td>\n",
       "      <td>diff_close_mean_z_score_21</td>\n",
       "      <td>True</td>\n",
       "      <td>Petróleo</td>\n",
       "    </tr>\n",
       "    <tr>\n",
       "      <th>1257</th>\n",
       "      <td>0.33</td>\n",
       "      <td>0.33</td>\n",
       "      <td>0.58</td>\n",
       "      <td>0.79</td>\n",
       "      <td>0.74</td>\n",
       "      <td>PETR3.SA</td>\n",
       "      <td>diff_close_mean_z_score_21</td>\n",
       "      <td>False</td>\n",
       "      <td>Petróleo</td>\n",
       "    </tr>\n",
       "    <tr>\n",
       "      <th>1260</th>\n",
       "      <td>0.69</td>\n",
       "      <td>0.84</td>\n",
       "      <td>0.92</td>\n",
       "      <td>0.33</td>\n",
       "      <td>2.15</td>\n",
       "      <td>PRIO3.SA</td>\n",
       "      <td>diff_close_mean_z_score_7</td>\n",
       "      <td>True</td>\n",
       "      <td>Petróleo</td>\n",
       "    </tr>\n",
       "    <tr>\n",
       "      <th>1261</th>\n",
       "      <td>0.48</td>\n",
       "      <td>0.58</td>\n",
       "      <td>0.76</td>\n",
       "      <td>0.53</td>\n",
       "      <td>1.48</td>\n",
       "      <td>PRIO3.SA</td>\n",
       "      <td>diff_close_mean_z_score_7</td>\n",
       "      <td>False</td>\n",
       "      <td>Petróleo</td>\n",
       "    </tr>\n",
       "    <tr>\n",
       "      <th>1264</th>\n",
       "      <td>0.56</td>\n",
       "      <td>0.58</td>\n",
       "      <td>0.76</td>\n",
       "      <td>0.61</td>\n",
       "      <td>1.58</td>\n",
       "      <td>PRIO3.SA</td>\n",
       "      <td>diff_close_mean_z_score_14</td>\n",
       "      <td>True</td>\n",
       "      <td>Petróleo</td>\n",
       "    </tr>\n",
       "    <tr>\n",
       "      <th>1265</th>\n",
       "      <td>0.38</td>\n",
       "      <td>0.40</td>\n",
       "      <td>0.63</td>\n",
       "      <td>0.73</td>\n",
       "      <td>1.09</td>\n",
       "      <td>PRIO3.SA</td>\n",
       "      <td>diff_close_mean_z_score_14</td>\n",
       "      <td>False</td>\n",
       "      <td>Petróleo</td>\n",
       "    </tr>\n",
       "    <tr>\n",
       "      <th>1268</th>\n",
       "      <td>0.48</td>\n",
       "      <td>0.43</td>\n",
       "      <td>0.65</td>\n",
       "      <td>0.74</td>\n",
       "      <td>1.27</td>\n",
       "      <td>PRIO3.SA</td>\n",
       "      <td>diff_close_mean_z_score_21</td>\n",
       "      <td>True</td>\n",
       "      <td>Petróleo</td>\n",
       "    </tr>\n",
       "    <tr>\n",
       "      <th>1269</th>\n",
       "      <td>0.33</td>\n",
       "      <td>0.30</td>\n",
       "      <td>0.54</td>\n",
       "      <td>0.82</td>\n",
       "      <td>0.88</td>\n",
       "      <td>PRIO3.SA</td>\n",
       "      <td>diff_close_mean_z_score_21</td>\n",
       "      <td>False</td>\n",
       "      <td>Petróleo</td>\n",
       "    </tr>\n",
       "  </tbody>\n",
       "</table>\n",
       "</div>"
      ],
      "text/plain": [
       "      Mean Absolute Error (MAE)  Mean Squared Error (MSE)  \\\n",
       "1248                       0.71                      0.92   \n",
       "1249                       0.49                      0.63   \n",
       "1252                       0.57                      0.65   \n",
       "1253                       0.39                      0.45   \n",
       "1256                       0.48                      0.48   \n",
       "1257                       0.33                      0.33   \n",
       "1260                       0.69                      0.84   \n",
       "1261                       0.48                      0.58   \n",
       "1264                       0.56                      0.58   \n",
       "1265                       0.38                      0.40   \n",
       "1268                       0.48                      0.43   \n",
       "1269                       0.33                      0.30   \n",
       "\n",
       "      Root Mean Squared Error (RMSE)  R-squared (R2)  \\\n",
       "1248                            0.96            0.26   \n",
       "1249                            0.79            0.48   \n",
       "1252                            0.81            0.58   \n",
       "1253                            0.67            0.71   \n",
       "1256                            0.69            0.70   \n",
       "1257                            0.58            0.79   \n",
       "1260                            0.92            0.33   \n",
       "1261                            0.76            0.53   \n",
       "1264                            0.76            0.61   \n",
       "1265                            0.63            0.73   \n",
       "1268                            0.65            0.74   \n",
       "1269                            0.54            0.82   \n",
       "\n",
       "      Mean Absolute Percentage Error (MAPE)     ativo  \\\n",
       "1248                                   2.07  PETR3.SA   \n",
       "1249                                   1.42  PETR3.SA   \n",
       "1252                                   1.78  PETR3.SA   \n",
       "1253                                   1.23  PETR3.SA   \n",
       "1256                                   1.08  PETR3.SA   \n",
       "1257                                   0.74  PETR3.SA   \n",
       "1260                                   2.15  PRIO3.SA   \n",
       "1261                                   1.48  PRIO3.SA   \n",
       "1264                                   1.58  PRIO3.SA   \n",
       "1265                                   1.09  PRIO3.SA   \n",
       "1268                                   1.27  PRIO3.SA   \n",
       "1269                                   0.88  PRIO3.SA   \n",
       "\n",
       "                            alvo   leak    domain  \n",
       "1248   diff_close_mean_z_score_7   True  Petróleo  \n",
       "1249   diff_close_mean_z_score_7  False  Petróleo  \n",
       "1252  diff_close_mean_z_score_14   True  Petróleo  \n",
       "1253  diff_close_mean_z_score_14  False  Petróleo  \n",
       "1256  diff_close_mean_z_score_21   True  Petróleo  \n",
       "1257  diff_close_mean_z_score_21  False  Petróleo  \n",
       "1260   diff_close_mean_z_score_7   True  Petróleo  \n",
       "1261   diff_close_mean_z_score_7  False  Petróleo  \n",
       "1264  diff_close_mean_z_score_14   True  Petróleo  \n",
       "1265  diff_close_mean_z_score_14  False  Petróleo  \n",
       "1268  diff_close_mean_z_score_21   True  Petróleo  \n",
       "1269  diff_close_mean_z_score_21  False  Petróleo  "
      ]
     },
     "metadata": {},
     "output_type": "display_data"
    },
    {
     "name": "stdout",
     "output_type": "stream",
     "text": [
      "\n",
      "##############################################\n",
      "# DOMAIN: Mineração\n",
      "# ASSETS: ['VALE3.SA', 'GGBR3.SA']\n",
      "##############################################\n",
      "          \n",
      "Metricas macro - label meta\n"
     ]
    },
    {
     "data": {
      "text/html": [
       "<div>\n",
       "<style scoped>\n",
       "    .dataframe tbody tr th:only-of-type {\n",
       "        vertical-align: middle;\n",
       "    }\n",
       "\n",
       "    .dataframe tbody tr th {\n",
       "        vertical-align: top;\n",
       "    }\n",
       "\n",
       "    .dataframe thead th {\n",
       "        text-align: right;\n",
       "    }\n",
       "</style>\n",
       "<table border=\"1\" class=\"dataframe\">\n",
       "  <thead>\n",
       "    <tr style=\"text-align: right;\">\n",
       "      <th></th>\n",
       "      <th>precision</th>\n",
       "      <th>recall</th>\n",
       "      <th>f1-score</th>\n",
       "      <th>ativo</th>\n",
       "      <th>feature_cols</th>\n",
       "      <th>alvo</th>\n",
       "      <th>leak</th>\n",
       "      <th>domain</th>\n",
       "    </tr>\n",
       "  </thead>\n",
       "  <tbody>\n",
       "    <tr>\n",
       "      <th>12105</th>\n",
       "      <td>0.69</td>\n",
       "      <td>0.69</td>\n",
       "      <td>0.69</td>\n",
       "      <td>GGBR3.SA</td>\n",
       "      <td>['past_meta_14']</td>\n",
       "      <td>meta_14</td>\n",
       "      <td>False</td>\n",
       "      <td>Mineração</td>\n",
       "    </tr>\n",
       "    <tr>\n",
       "      <th>12002</th>\n",
       "      <td>0.70</td>\n",
       "      <td>0.70</td>\n",
       "      <td>0.70</td>\n",
       "      <td>VALE3.SA</td>\n",
       "      <td>['past_meta_14']</td>\n",
       "      <td>meta_14</td>\n",
       "      <td>False</td>\n",
       "      <td>Mineração</td>\n",
       "    </tr>\n",
       "    <tr>\n",
       "      <th>12098</th>\n",
       "      <td>0.53</td>\n",
       "      <td>0.53</td>\n",
       "      <td>0.53</td>\n",
       "      <td>GGBR3.SA</td>\n",
       "      <td>['past_meta_14']</td>\n",
       "      <td>meta_14</td>\n",
       "      <td>True</td>\n",
       "      <td>Mineração</td>\n",
       "    </tr>\n",
       "    <tr>\n",
       "      <th>11994</th>\n",
       "      <td>0.56</td>\n",
       "      <td>0.56</td>\n",
       "      <td>0.56</td>\n",
       "      <td>VALE3.SA</td>\n",
       "      <td>['past_meta_14']</td>\n",
       "      <td>meta_14</td>\n",
       "      <td>True</td>\n",
       "      <td>Mineração</td>\n",
       "    </tr>\n",
       "    <tr>\n",
       "      <th>12146</th>\n",
       "      <td>0.66</td>\n",
       "      <td>0.66</td>\n",
       "      <td>0.66</td>\n",
       "      <td>GGBR3.SA</td>\n",
       "      <td>['past_meta_21']</td>\n",
       "      <td>meta_21</td>\n",
       "      <td>False</td>\n",
       "      <td>Mineração</td>\n",
       "    </tr>\n",
       "    <tr>\n",
       "      <th>12041</th>\n",
       "      <td>0.71</td>\n",
       "      <td>0.71</td>\n",
       "      <td>0.71</td>\n",
       "      <td>VALE3.SA</td>\n",
       "      <td>['past_meta_21']</td>\n",
       "      <td>meta_21</td>\n",
       "      <td>False</td>\n",
       "      <td>Mineração</td>\n",
       "    </tr>\n",
       "    <tr>\n",
       "      <th>12136</th>\n",
       "      <td>0.42</td>\n",
       "      <td>0.42</td>\n",
       "      <td>0.42</td>\n",
       "      <td>GGBR3.SA</td>\n",
       "      <td>['past_meta_21']</td>\n",
       "      <td>meta_21</td>\n",
       "      <td>True</td>\n",
       "      <td>Mineração</td>\n",
       "    </tr>\n",
       "    <tr>\n",
       "      <th>12032</th>\n",
       "      <td>0.45</td>\n",
       "      <td>0.45</td>\n",
       "      <td>0.45</td>\n",
       "      <td>VALE3.SA</td>\n",
       "      <td>['past_meta_21']</td>\n",
       "      <td>meta_21</td>\n",
       "      <td>True</td>\n",
       "      <td>Mineração</td>\n",
       "    </tr>\n",
       "    <tr>\n",
       "      <th>12074</th>\n",
       "      <td>0.52</td>\n",
       "      <td>0.52</td>\n",
       "      <td>0.52</td>\n",
       "      <td>GGBR3.SA</td>\n",
       "      <td>['past_meta_7']</td>\n",
       "      <td>meta_7</td>\n",
       "      <td>False</td>\n",
       "      <td>Mineração</td>\n",
       "    </tr>\n",
       "    <tr>\n",
       "      <th>11970</th>\n",
       "      <td>0.60</td>\n",
       "      <td>0.60</td>\n",
       "      <td>0.60</td>\n",
       "      <td>VALE3.SA</td>\n",
       "      <td>['past_meta_7']</td>\n",
       "      <td>meta_7</td>\n",
       "      <td>False</td>\n",
       "      <td>Mineração</td>\n",
       "    </tr>\n",
       "    <tr>\n",
       "      <th>12066</th>\n",
       "      <td>0.34</td>\n",
       "      <td>0.34</td>\n",
       "      <td>0.34</td>\n",
       "      <td>GGBR3.SA</td>\n",
       "      <td>['past_meta_7']</td>\n",
       "      <td>meta_7</td>\n",
       "      <td>True</td>\n",
       "      <td>Mineração</td>\n",
       "    </tr>\n",
       "    <tr>\n",
       "      <th>11962</th>\n",
       "      <td>0.40</td>\n",
       "      <td>0.40</td>\n",
       "      <td>0.40</td>\n",
       "      <td>VALE3.SA</td>\n",
       "      <td>['past_meta_7']</td>\n",
       "      <td>meta_7</td>\n",
       "      <td>True</td>\n",
       "      <td>Mineração</td>\n",
       "    </tr>\n",
       "  </tbody>\n",
       "</table>\n",
       "</div>"
      ],
      "text/plain": [
       "       precision  recall  f1-score     ativo      feature_cols     alvo  \\\n",
       "12105       0.69    0.69      0.69  GGBR3.SA  ['past_meta_14']  meta_14   \n",
       "12002       0.70    0.70      0.70  VALE3.SA  ['past_meta_14']  meta_14   \n",
       "12098       0.53    0.53      0.53  GGBR3.SA  ['past_meta_14']  meta_14   \n",
       "11994       0.56    0.56      0.56  VALE3.SA  ['past_meta_14']  meta_14   \n",
       "12146       0.66    0.66      0.66  GGBR3.SA  ['past_meta_21']  meta_21   \n",
       "12041       0.71    0.71      0.71  VALE3.SA  ['past_meta_21']  meta_21   \n",
       "12136       0.42    0.42      0.42  GGBR3.SA  ['past_meta_21']  meta_21   \n",
       "12032       0.45    0.45      0.45  VALE3.SA  ['past_meta_21']  meta_21   \n",
       "12074       0.52    0.52      0.52  GGBR3.SA   ['past_meta_7']   meta_7   \n",
       "11970       0.60    0.60      0.60  VALE3.SA   ['past_meta_7']   meta_7   \n",
       "12066       0.34    0.34      0.34  GGBR3.SA   ['past_meta_7']   meta_7   \n",
       "11962       0.40    0.40      0.40  VALE3.SA   ['past_meta_7']   meta_7   \n",
       "\n",
       "        leak     domain  \n",
       "12105  False  Mineração  \n",
       "12002  False  Mineração  \n",
       "12098   True  Mineração  \n",
       "11994   True  Mineração  \n",
       "12146  False  Mineração  \n",
       "12041  False  Mineração  \n",
       "12136   True  Mineração  \n",
       "12032   True  Mineração  \n",
       "12074  False  Mineração  \n",
       "11970  False  Mineração  \n",
       "12066   True  Mineração  \n",
       "11962   True  Mineração  "
      ]
     },
     "metadata": {},
     "output_type": "display_data"
    },
    {
     "name": "stdout",
     "output_type": "stream",
     "text": [
      "Metricas regressao - label diff_close_mean_z_score\n"
     ]
    },
    {
     "data": {
      "text/html": [
       "<div>\n",
       "<style scoped>\n",
       "    .dataframe tbody tr th:only-of-type {\n",
       "        vertical-align: middle;\n",
       "    }\n",
       "\n",
       "    .dataframe tbody tr th {\n",
       "        vertical-align: top;\n",
       "    }\n",
       "\n",
       "    .dataframe thead th {\n",
       "        text-align: right;\n",
       "    }\n",
       "</style>\n",
       "<table border=\"1\" class=\"dataframe\">\n",
       "  <thead>\n",
       "    <tr style=\"text-align: right;\">\n",
       "      <th></th>\n",
       "      <th>Mean Absolute Error (MAE)</th>\n",
       "      <th>Mean Squared Error (MSE)</th>\n",
       "      <th>Root Mean Squared Error (RMSE)</th>\n",
       "      <th>R-squared (R2)</th>\n",
       "      <th>Mean Absolute Percentage Error (MAPE)</th>\n",
       "      <th>ativo</th>\n",
       "      <th>alvo</th>\n",
       "      <th>leak</th>\n",
       "      <th>domain</th>\n",
       "    </tr>\n",
       "  </thead>\n",
       "  <tbody>\n",
       "    <tr>\n",
       "      <th>1272</th>\n",
       "      <td>0.66</td>\n",
       "      <td>0.76</td>\n",
       "      <td>0.87</td>\n",
       "      <td>0.41</td>\n",
       "      <td>2.647450e+11</td>\n",
       "      <td>VALE3.SA</td>\n",
       "      <td>diff_close_mean_z_score_7</td>\n",
       "      <td>True</td>\n",
       "      <td>Mineração</td>\n",
       "    </tr>\n",
       "    <tr>\n",
       "      <th>1273</th>\n",
       "      <td>0.45</td>\n",
       "      <td>0.51</td>\n",
       "      <td>0.72</td>\n",
       "      <td>0.61</td>\n",
       "      <td>1.820295e+11</td>\n",
       "      <td>VALE3.SA</td>\n",
       "      <td>diff_close_mean_z_score_7</td>\n",
       "      <td>False</td>\n",
       "      <td>Mineração</td>\n",
       "    </tr>\n",
       "    <tr>\n",
       "      <th>1276</th>\n",
       "      <td>0.52</td>\n",
       "      <td>0.52</td>\n",
       "      <td>0.72</td>\n",
       "      <td>0.67</td>\n",
       "      <td>1.190000e+00</td>\n",
       "      <td>VALE3.SA</td>\n",
       "      <td>diff_close_mean_z_score_14</td>\n",
       "      <td>True</td>\n",
       "      <td>Mineração</td>\n",
       "    </tr>\n",
       "    <tr>\n",
       "      <th>1277</th>\n",
       "      <td>0.35</td>\n",
       "      <td>0.35</td>\n",
       "      <td>0.59</td>\n",
       "      <td>0.78</td>\n",
       "      <td>7.800000e-01</td>\n",
       "      <td>VALE3.SA</td>\n",
       "      <td>diff_close_mean_z_score_14</td>\n",
       "      <td>False</td>\n",
       "      <td>Mineração</td>\n",
       "    </tr>\n",
       "    <tr>\n",
       "      <th>1280</th>\n",
       "      <td>0.43</td>\n",
       "      <td>0.37</td>\n",
       "      <td>0.61</td>\n",
       "      <td>0.79</td>\n",
       "      <td>1.370000e+00</td>\n",
       "      <td>VALE3.SA</td>\n",
       "      <td>diff_close_mean_z_score_21</td>\n",
       "      <td>True</td>\n",
       "      <td>Mineração</td>\n",
       "    </tr>\n",
       "    <tr>\n",
       "      <th>1281</th>\n",
       "      <td>0.29</td>\n",
       "      <td>0.23</td>\n",
       "      <td>0.48</td>\n",
       "      <td>0.87</td>\n",
       "      <td>9.200000e-01</td>\n",
       "      <td>VALE3.SA</td>\n",
       "      <td>diff_close_mean_z_score_21</td>\n",
       "      <td>False</td>\n",
       "      <td>Mineração</td>\n",
       "    </tr>\n",
       "    <tr>\n",
       "      <th>1284</th>\n",
       "      <td>0.71</td>\n",
       "      <td>0.88</td>\n",
       "      <td>0.94</td>\n",
       "      <td>0.27</td>\n",
       "      <td>1.760000e+00</td>\n",
       "      <td>GGBR3.SA</td>\n",
       "      <td>diff_close_mean_z_score_7</td>\n",
       "      <td>True</td>\n",
       "      <td>Mineração</td>\n",
       "    </tr>\n",
       "    <tr>\n",
       "      <th>1285</th>\n",
       "      <td>0.48</td>\n",
       "      <td>0.60</td>\n",
       "      <td>0.78</td>\n",
       "      <td>0.49</td>\n",
       "      <td>1.200000e+00</td>\n",
       "      <td>GGBR3.SA</td>\n",
       "      <td>diff_close_mean_z_score_7</td>\n",
       "      <td>False</td>\n",
       "      <td>Mineração</td>\n",
       "    </tr>\n",
       "    <tr>\n",
       "      <th>1288</th>\n",
       "      <td>0.56</td>\n",
       "      <td>0.57</td>\n",
       "      <td>0.76</td>\n",
       "      <td>0.62</td>\n",
       "      <td>3.220000e+00</td>\n",
       "      <td>GGBR3.SA</td>\n",
       "      <td>diff_close_mean_z_score_14</td>\n",
       "      <td>True</td>\n",
       "      <td>Mineração</td>\n",
       "    </tr>\n",
       "    <tr>\n",
       "      <th>1289</th>\n",
       "      <td>0.38</td>\n",
       "      <td>0.39</td>\n",
       "      <td>0.62</td>\n",
       "      <td>0.75</td>\n",
       "      <td>2.200000e+00</td>\n",
       "      <td>GGBR3.SA</td>\n",
       "      <td>diff_close_mean_z_score_14</td>\n",
       "      <td>False</td>\n",
       "      <td>Mineração</td>\n",
       "    </tr>\n",
       "    <tr>\n",
       "      <th>1292</th>\n",
       "      <td>0.48</td>\n",
       "      <td>0.43</td>\n",
       "      <td>0.66</td>\n",
       "      <td>0.73</td>\n",
       "      <td>1.800000e+00</td>\n",
       "      <td>GGBR3.SA</td>\n",
       "      <td>diff_close_mean_z_score_21</td>\n",
       "      <td>True</td>\n",
       "      <td>Mineração</td>\n",
       "    </tr>\n",
       "    <tr>\n",
       "      <th>1293</th>\n",
       "      <td>0.33</td>\n",
       "      <td>0.29</td>\n",
       "      <td>0.54</td>\n",
       "      <td>0.83</td>\n",
       "      <td>1.230000e+00</td>\n",
       "      <td>GGBR3.SA</td>\n",
       "      <td>diff_close_mean_z_score_21</td>\n",
       "      <td>False</td>\n",
       "      <td>Mineração</td>\n",
       "    </tr>\n",
       "  </tbody>\n",
       "</table>\n",
       "</div>"
      ],
      "text/plain": [
       "      Mean Absolute Error (MAE)  Mean Squared Error (MSE)  \\\n",
       "1272                       0.66                      0.76   \n",
       "1273                       0.45                      0.51   \n",
       "1276                       0.52                      0.52   \n",
       "1277                       0.35                      0.35   \n",
       "1280                       0.43                      0.37   \n",
       "1281                       0.29                      0.23   \n",
       "1284                       0.71                      0.88   \n",
       "1285                       0.48                      0.60   \n",
       "1288                       0.56                      0.57   \n",
       "1289                       0.38                      0.39   \n",
       "1292                       0.48                      0.43   \n",
       "1293                       0.33                      0.29   \n",
       "\n",
       "      Root Mean Squared Error (RMSE)  R-squared (R2)  \\\n",
       "1272                            0.87            0.41   \n",
       "1273                            0.72            0.61   \n",
       "1276                            0.72            0.67   \n",
       "1277                            0.59            0.78   \n",
       "1280                            0.61            0.79   \n",
       "1281                            0.48            0.87   \n",
       "1284                            0.94            0.27   \n",
       "1285                            0.78            0.49   \n",
       "1288                            0.76            0.62   \n",
       "1289                            0.62            0.75   \n",
       "1292                            0.66            0.73   \n",
       "1293                            0.54            0.83   \n",
       "\n",
       "      Mean Absolute Percentage Error (MAPE)     ativo  \\\n",
       "1272                           2.647450e+11  VALE3.SA   \n",
       "1273                           1.820295e+11  VALE3.SA   \n",
       "1276                           1.190000e+00  VALE3.SA   \n",
       "1277                           7.800000e-01  VALE3.SA   \n",
       "1280                           1.370000e+00  VALE3.SA   \n",
       "1281                           9.200000e-01  VALE3.SA   \n",
       "1284                           1.760000e+00  GGBR3.SA   \n",
       "1285                           1.200000e+00  GGBR3.SA   \n",
       "1288                           3.220000e+00  GGBR3.SA   \n",
       "1289                           2.200000e+00  GGBR3.SA   \n",
       "1292                           1.800000e+00  GGBR3.SA   \n",
       "1293                           1.230000e+00  GGBR3.SA   \n",
       "\n",
       "                            alvo   leak     domain  \n",
       "1272   diff_close_mean_z_score_7   True  Mineração  \n",
       "1273   diff_close_mean_z_score_7  False  Mineração  \n",
       "1276  diff_close_mean_z_score_14   True  Mineração  \n",
       "1277  diff_close_mean_z_score_14  False  Mineração  \n",
       "1280  diff_close_mean_z_score_21   True  Mineração  \n",
       "1281  diff_close_mean_z_score_21  False  Mineração  \n",
       "1284   diff_close_mean_z_score_7   True  Mineração  \n",
       "1285   diff_close_mean_z_score_7  False  Mineração  \n",
       "1288  diff_close_mean_z_score_14   True  Mineração  \n",
       "1289  diff_close_mean_z_score_14  False  Mineração  \n",
       "1292  diff_close_mean_z_score_21   True  Mineração  \n",
       "1293  diff_close_mean_z_score_21  False  Mineração  "
      ]
     },
     "metadata": {},
     "output_type": "display_data"
    },
    {
     "name": "stdout",
     "output_type": "stream",
     "text": [
      "\n",
      "##############################################\n",
      "# DOMAIN: Financeiro\n",
      "# ASSETS: ['ABCB4.SA', 'ITUB3.SA']\n",
      "##############################################\n",
      "          \n",
      "Metricas macro - label meta\n"
     ]
    },
    {
     "data": {
      "text/html": [
       "<div>\n",
       "<style scoped>\n",
       "    .dataframe tbody tr th:only-of-type {\n",
       "        vertical-align: middle;\n",
       "    }\n",
       "\n",
       "    .dataframe tbody tr th {\n",
       "        vertical-align: top;\n",
       "    }\n",
       "\n",
       "    .dataframe thead th {\n",
       "        text-align: right;\n",
       "    }\n",
       "</style>\n",
       "<table border=\"1\" class=\"dataframe\">\n",
       "  <thead>\n",
       "    <tr style=\"text-align: right;\">\n",
       "      <th></th>\n",
       "      <th>precision</th>\n",
       "      <th>recall</th>\n",
       "      <th>f1-score</th>\n",
       "      <th>ativo</th>\n",
       "      <th>feature_cols</th>\n",
       "      <th>alvo</th>\n",
       "      <th>leak</th>\n",
       "      <th>domain</th>\n",
       "    </tr>\n",
       "  </thead>\n",
       "  <tbody>\n",
       "    <tr>\n",
       "      <th>12210</th>\n",
       "      <td>0.65</td>\n",
       "      <td>0.65</td>\n",
       "      <td>0.65</td>\n",
       "      <td>ABCB4.SA</td>\n",
       "      <td>['past_meta_14']</td>\n",
       "      <td>meta_14</td>\n",
       "      <td>False</td>\n",
       "      <td>Financeiro</td>\n",
       "    </tr>\n",
       "    <tr>\n",
       "      <th>12314</th>\n",
       "      <td>0.58</td>\n",
       "      <td>0.58</td>\n",
       "      <td>0.58</td>\n",
       "      <td>ITUB3.SA</td>\n",
       "      <td>['past_meta_14']</td>\n",
       "      <td>meta_14</td>\n",
       "      <td>False</td>\n",
       "      <td>Financeiro</td>\n",
       "    </tr>\n",
       "    <tr>\n",
       "      <th>12202</th>\n",
       "      <td>0.47</td>\n",
       "      <td>0.47</td>\n",
       "      <td>0.47</td>\n",
       "      <td>ABCB4.SA</td>\n",
       "      <td>['past_meta_14']</td>\n",
       "      <td>meta_14</td>\n",
       "      <td>True</td>\n",
       "      <td>Financeiro</td>\n",
       "    </tr>\n",
       "    <tr>\n",
       "      <th>12305</th>\n",
       "      <td>0.46</td>\n",
       "      <td>0.46</td>\n",
       "      <td>0.46</td>\n",
       "      <td>ITUB3.SA</td>\n",
       "      <td>['past_meta_14']</td>\n",
       "      <td>meta_14</td>\n",
       "      <td>True</td>\n",
       "      <td>Financeiro</td>\n",
       "    </tr>\n",
       "    <tr>\n",
       "      <th>12247</th>\n",
       "      <td>0.57</td>\n",
       "      <td>0.57</td>\n",
       "      <td>0.57</td>\n",
       "      <td>ABCB4.SA</td>\n",
       "      <td>['past_meta_21']</td>\n",
       "      <td>meta_21</td>\n",
       "      <td>False</td>\n",
       "      <td>Financeiro</td>\n",
       "    </tr>\n",
       "    <tr>\n",
       "      <th>12354</th>\n",
       "      <td>0.54</td>\n",
       "      <td>0.54</td>\n",
       "      <td>0.54</td>\n",
       "      <td>ITUB3.SA</td>\n",
       "      <td>['past_meta_21']</td>\n",
       "      <td>meta_21</td>\n",
       "      <td>False</td>\n",
       "      <td>Financeiro</td>\n",
       "    </tr>\n",
       "    <tr>\n",
       "      <th>12237</th>\n",
       "      <td>0.45</td>\n",
       "      <td>0.45</td>\n",
       "      <td>0.45</td>\n",
       "      <td>ABCB4.SA</td>\n",
       "      <td>['past_meta_21']</td>\n",
       "      <td>meta_21</td>\n",
       "      <td>True</td>\n",
       "      <td>Financeiro</td>\n",
       "    </tr>\n",
       "    <tr>\n",
       "      <th>12344</th>\n",
       "      <td>0.46</td>\n",
       "      <td>0.46</td>\n",
       "      <td>0.46</td>\n",
       "      <td>ITUB3.SA</td>\n",
       "      <td>['past_meta_21']</td>\n",
       "      <td>meta_21</td>\n",
       "      <td>True</td>\n",
       "      <td>Financeiro</td>\n",
       "    </tr>\n",
       "    <tr>\n",
       "      <th>12178</th>\n",
       "      <td>0.51</td>\n",
       "      <td>0.51</td>\n",
       "      <td>0.51</td>\n",
       "      <td>ABCB4.SA</td>\n",
       "      <td>['past_meta_7']</td>\n",
       "      <td>meta_7</td>\n",
       "      <td>False</td>\n",
       "      <td>Financeiro</td>\n",
       "    </tr>\n",
       "    <tr>\n",
       "      <th>12278</th>\n",
       "      <td>0.43</td>\n",
       "      <td>0.43</td>\n",
       "      <td>0.43</td>\n",
       "      <td>ITUB3.SA</td>\n",
       "      <td>['past_meta_7']</td>\n",
       "      <td>meta_7</td>\n",
       "      <td>False</td>\n",
       "      <td>Financeiro</td>\n",
       "    </tr>\n",
       "    <tr>\n",
       "      <th>12170</th>\n",
       "      <td>0.35</td>\n",
       "      <td>0.35</td>\n",
       "      <td>0.35</td>\n",
       "      <td>ABCB4.SA</td>\n",
       "      <td>['past_meta_7']</td>\n",
       "      <td>meta_7</td>\n",
       "      <td>True</td>\n",
       "      <td>Financeiro</td>\n",
       "    </tr>\n",
       "    <tr>\n",
       "      <th>12270</th>\n",
       "      <td>0.35</td>\n",
       "      <td>0.35</td>\n",
       "      <td>0.35</td>\n",
       "      <td>ITUB3.SA</td>\n",
       "      <td>['past_meta_7']</td>\n",
       "      <td>meta_7</td>\n",
       "      <td>True</td>\n",
       "      <td>Financeiro</td>\n",
       "    </tr>\n",
       "  </tbody>\n",
       "</table>\n",
       "</div>"
      ],
      "text/plain": [
       "       precision  recall  f1-score     ativo      feature_cols     alvo  \\\n",
       "12210       0.65    0.65      0.65  ABCB4.SA  ['past_meta_14']  meta_14   \n",
       "12314       0.58    0.58      0.58  ITUB3.SA  ['past_meta_14']  meta_14   \n",
       "12202       0.47    0.47      0.47  ABCB4.SA  ['past_meta_14']  meta_14   \n",
       "12305       0.46    0.46      0.46  ITUB3.SA  ['past_meta_14']  meta_14   \n",
       "12247       0.57    0.57      0.57  ABCB4.SA  ['past_meta_21']  meta_21   \n",
       "12354       0.54    0.54      0.54  ITUB3.SA  ['past_meta_21']  meta_21   \n",
       "12237       0.45    0.45      0.45  ABCB4.SA  ['past_meta_21']  meta_21   \n",
       "12344       0.46    0.46      0.46  ITUB3.SA  ['past_meta_21']  meta_21   \n",
       "12178       0.51    0.51      0.51  ABCB4.SA   ['past_meta_7']   meta_7   \n",
       "12278       0.43    0.43      0.43  ITUB3.SA   ['past_meta_7']   meta_7   \n",
       "12170       0.35    0.35      0.35  ABCB4.SA   ['past_meta_7']   meta_7   \n",
       "12270       0.35    0.35      0.35  ITUB3.SA   ['past_meta_7']   meta_7   \n",
       "\n",
       "        leak      domain  \n",
       "12210  False  Financeiro  \n",
       "12314  False  Financeiro  \n",
       "12202   True  Financeiro  \n",
       "12305   True  Financeiro  \n",
       "12247  False  Financeiro  \n",
       "12354  False  Financeiro  \n",
       "12237   True  Financeiro  \n",
       "12344   True  Financeiro  \n",
       "12178  False  Financeiro  \n",
       "12278  False  Financeiro  \n",
       "12170   True  Financeiro  \n",
       "12270   True  Financeiro  "
      ]
     },
     "metadata": {},
     "output_type": "display_data"
    },
    {
     "name": "stdout",
     "output_type": "stream",
     "text": [
      "Metricas regressao - label diff_close_mean_z_score\n"
     ]
    },
    {
     "data": {
      "text/html": [
       "<div>\n",
       "<style scoped>\n",
       "    .dataframe tbody tr th:only-of-type {\n",
       "        vertical-align: middle;\n",
       "    }\n",
       "\n",
       "    .dataframe tbody tr th {\n",
       "        vertical-align: top;\n",
       "    }\n",
       "\n",
       "    .dataframe thead th {\n",
       "        text-align: right;\n",
       "    }\n",
       "</style>\n",
       "<table border=\"1\" class=\"dataframe\">\n",
       "  <thead>\n",
       "    <tr style=\"text-align: right;\">\n",
       "      <th></th>\n",
       "      <th>Mean Absolute Error (MAE)</th>\n",
       "      <th>Mean Squared Error (MSE)</th>\n",
       "      <th>Root Mean Squared Error (RMSE)</th>\n",
       "      <th>R-squared (R2)</th>\n",
       "      <th>Mean Absolute Percentage Error (MAPE)</th>\n",
       "      <th>ativo</th>\n",
       "      <th>alvo</th>\n",
       "      <th>leak</th>\n",
       "      <th>domain</th>\n",
       "    </tr>\n",
       "  </thead>\n",
       "  <tbody>\n",
       "    <tr>\n",
       "      <th>1296</th>\n",
       "      <td>0.76</td>\n",
       "      <td>1.00</td>\n",
       "      <td>1.00</td>\n",
       "      <td>0.17</td>\n",
       "      <td>2.658000e+02</td>\n",
       "      <td>ABCB4.SA</td>\n",
       "      <td>diff_close_mean_z_score_7</td>\n",
       "      <td>True</td>\n",
       "      <td>Financeiro</td>\n",
       "    </tr>\n",
       "    <tr>\n",
       "      <th>1297</th>\n",
       "      <td>0.52</td>\n",
       "      <td>0.68</td>\n",
       "      <td>0.82</td>\n",
       "      <td>0.44</td>\n",
       "      <td>1.827400e+02</td>\n",
       "      <td>ABCB4.SA</td>\n",
       "      <td>diff_close_mean_z_score_7</td>\n",
       "      <td>False</td>\n",
       "      <td>Financeiro</td>\n",
       "    </tr>\n",
       "    <tr>\n",
       "      <th>1300</th>\n",
       "      <td>0.62</td>\n",
       "      <td>0.71</td>\n",
       "      <td>0.84</td>\n",
       "      <td>0.50</td>\n",
       "      <td>2.740000e+00</td>\n",
       "      <td>ABCB4.SA</td>\n",
       "      <td>diff_close_mean_z_score_14</td>\n",
       "      <td>True</td>\n",
       "      <td>Financeiro</td>\n",
       "    </tr>\n",
       "    <tr>\n",
       "      <th>1301</th>\n",
       "      <td>0.43</td>\n",
       "      <td>0.49</td>\n",
       "      <td>0.70</td>\n",
       "      <td>0.66</td>\n",
       "      <td>1.900000e+00</td>\n",
       "      <td>ABCB4.SA</td>\n",
       "      <td>diff_close_mean_z_score_14</td>\n",
       "      <td>False</td>\n",
       "      <td>Financeiro</td>\n",
       "    </tr>\n",
       "    <tr>\n",
       "      <th>1304</th>\n",
       "      <td>0.54</td>\n",
       "      <td>0.52</td>\n",
       "      <td>0.72</td>\n",
       "      <td>0.66</td>\n",
       "      <td>1.690000e+00</td>\n",
       "      <td>ABCB4.SA</td>\n",
       "      <td>diff_close_mean_z_score_21</td>\n",
       "      <td>True</td>\n",
       "      <td>Financeiro</td>\n",
       "    </tr>\n",
       "    <tr>\n",
       "      <th>1305</th>\n",
       "      <td>0.37</td>\n",
       "      <td>0.36</td>\n",
       "      <td>0.60</td>\n",
       "      <td>0.77</td>\n",
       "      <td>1.170000e+00</td>\n",
       "      <td>ABCB4.SA</td>\n",
       "      <td>diff_close_mean_z_score_21</td>\n",
       "      <td>False</td>\n",
       "      <td>Financeiro</td>\n",
       "    </tr>\n",
       "    <tr>\n",
       "      <th>1308</th>\n",
       "      <td>0.68</td>\n",
       "      <td>0.88</td>\n",
       "      <td>0.94</td>\n",
       "      <td>0.33</td>\n",
       "      <td>4.948931e+12</td>\n",
       "      <td>ITUB3.SA</td>\n",
       "      <td>diff_close_mean_z_score_7</td>\n",
       "      <td>True</td>\n",
       "      <td>Financeiro</td>\n",
       "    </tr>\n",
       "    <tr>\n",
       "      <th>1309</th>\n",
       "      <td>0.46</td>\n",
       "      <td>0.59</td>\n",
       "      <td>0.77</td>\n",
       "      <td>0.54</td>\n",
       "      <td>3.402713e+12</td>\n",
       "      <td>ITUB3.SA</td>\n",
       "      <td>diff_close_mean_z_score_7</td>\n",
       "      <td>False</td>\n",
       "      <td>Financeiro</td>\n",
       "    </tr>\n",
       "    <tr>\n",
       "      <th>1312</th>\n",
       "      <td>0.52</td>\n",
       "      <td>0.55</td>\n",
       "      <td>0.74</td>\n",
       "      <td>0.67</td>\n",
       "      <td>1.679800e+02</td>\n",
       "      <td>ITUB3.SA</td>\n",
       "      <td>diff_close_mean_z_score_14</td>\n",
       "      <td>True</td>\n",
       "      <td>Financeiro</td>\n",
       "    </tr>\n",
       "    <tr>\n",
       "      <th>1313</th>\n",
       "      <td>0.36</td>\n",
       "      <td>0.37</td>\n",
       "      <td>0.61</td>\n",
       "      <td>0.78</td>\n",
       "      <td>1.163400e+02</td>\n",
       "      <td>ITUB3.SA</td>\n",
       "      <td>diff_close_mean_z_score_14</td>\n",
       "      <td>False</td>\n",
       "      <td>Financeiro</td>\n",
       "    </tr>\n",
       "    <tr>\n",
       "      <th>1316</th>\n",
       "      <td>0.43</td>\n",
       "      <td>0.39</td>\n",
       "      <td>0.62</td>\n",
       "      <td>0.79</td>\n",
       "      <td>2.790000e+00</td>\n",
       "      <td>ITUB3.SA</td>\n",
       "      <td>diff_close_mean_z_score_21</td>\n",
       "      <td>True</td>\n",
       "      <td>Financeiro</td>\n",
       "    </tr>\n",
       "    <tr>\n",
       "      <th>1317</th>\n",
       "      <td>0.30</td>\n",
       "      <td>0.26</td>\n",
       "      <td>0.51</td>\n",
       "      <td>0.86</td>\n",
       "      <td>1.940000e+00</td>\n",
       "      <td>ITUB3.SA</td>\n",
       "      <td>diff_close_mean_z_score_21</td>\n",
       "      <td>False</td>\n",
       "      <td>Financeiro</td>\n",
       "    </tr>\n",
       "  </tbody>\n",
       "</table>\n",
       "</div>"
      ],
      "text/plain": [
       "      Mean Absolute Error (MAE)  Mean Squared Error (MSE)  \\\n",
       "1296                       0.76                      1.00   \n",
       "1297                       0.52                      0.68   \n",
       "1300                       0.62                      0.71   \n",
       "1301                       0.43                      0.49   \n",
       "1304                       0.54                      0.52   \n",
       "1305                       0.37                      0.36   \n",
       "1308                       0.68                      0.88   \n",
       "1309                       0.46                      0.59   \n",
       "1312                       0.52                      0.55   \n",
       "1313                       0.36                      0.37   \n",
       "1316                       0.43                      0.39   \n",
       "1317                       0.30                      0.26   \n",
       "\n",
       "      Root Mean Squared Error (RMSE)  R-squared (R2)  \\\n",
       "1296                            1.00            0.17   \n",
       "1297                            0.82            0.44   \n",
       "1300                            0.84            0.50   \n",
       "1301                            0.70            0.66   \n",
       "1304                            0.72            0.66   \n",
       "1305                            0.60            0.77   \n",
       "1308                            0.94            0.33   \n",
       "1309                            0.77            0.54   \n",
       "1312                            0.74            0.67   \n",
       "1313                            0.61            0.78   \n",
       "1316                            0.62            0.79   \n",
       "1317                            0.51            0.86   \n",
       "\n",
       "      Mean Absolute Percentage Error (MAPE)     ativo  \\\n",
       "1296                           2.658000e+02  ABCB4.SA   \n",
       "1297                           1.827400e+02  ABCB4.SA   \n",
       "1300                           2.740000e+00  ABCB4.SA   \n",
       "1301                           1.900000e+00  ABCB4.SA   \n",
       "1304                           1.690000e+00  ABCB4.SA   \n",
       "1305                           1.170000e+00  ABCB4.SA   \n",
       "1308                           4.948931e+12  ITUB3.SA   \n",
       "1309                           3.402713e+12  ITUB3.SA   \n",
       "1312                           1.679800e+02  ITUB3.SA   \n",
       "1313                           1.163400e+02  ITUB3.SA   \n",
       "1316                           2.790000e+00  ITUB3.SA   \n",
       "1317                           1.940000e+00  ITUB3.SA   \n",
       "\n",
       "                            alvo   leak      domain  \n",
       "1296   diff_close_mean_z_score_7   True  Financeiro  \n",
       "1297   diff_close_mean_z_score_7  False  Financeiro  \n",
       "1300  diff_close_mean_z_score_14   True  Financeiro  \n",
       "1301  diff_close_mean_z_score_14  False  Financeiro  \n",
       "1304  diff_close_mean_z_score_21   True  Financeiro  \n",
       "1305  diff_close_mean_z_score_21  False  Financeiro  \n",
       "1308   diff_close_mean_z_score_7   True  Financeiro  \n",
       "1309   diff_close_mean_z_score_7  False  Financeiro  \n",
       "1312  diff_close_mean_z_score_14   True  Financeiro  \n",
       "1313  diff_close_mean_z_score_14  False  Financeiro  \n",
       "1316  diff_close_mean_z_score_21   True  Financeiro  \n",
       "1317  diff_close_mean_z_score_21  False  Financeiro  "
      ]
     },
     "metadata": {},
     "output_type": "display_data"
    },
    {
     "name": "stdout",
     "output_type": "stream",
     "text": [
      "\n",
      "##############################################\n",
      "# DOMAIN: Saúde\n",
      "# ASSETS: ['FLRY3.SA', 'RADL3.SA']\n",
      "##############################################\n",
      "          \n",
      "Metricas macro - label meta\n"
     ]
    },
    {
     "data": {
      "text/html": [
       "<div>\n",
       "<style scoped>\n",
       "    .dataframe tbody tr th:only-of-type {\n",
       "        vertical-align: middle;\n",
       "    }\n",
       "\n",
       "    .dataframe tbody tr th {\n",
       "        vertical-align: top;\n",
       "    }\n",
       "\n",
       "    .dataframe thead th {\n",
       "        text-align: right;\n",
       "    }\n",
       "</style>\n",
       "<table border=\"1\" class=\"dataframe\">\n",
       "  <thead>\n",
       "    <tr style=\"text-align: right;\">\n",
       "      <th></th>\n",
       "      <th>precision</th>\n",
       "      <th>recall</th>\n",
       "      <th>f1-score</th>\n",
       "      <th>ativo</th>\n",
       "      <th>feature_cols</th>\n",
       "      <th>alvo</th>\n",
       "      <th>leak</th>\n",
       "      <th>domain</th>\n",
       "    </tr>\n",
       "  </thead>\n",
       "  <tbody>\n",
       "    <tr>\n",
       "      <th>12422</th>\n",
       "      <td>0.63</td>\n",
       "      <td>0.63</td>\n",
       "      <td>0.63</td>\n",
       "      <td>FLRY3.SA</td>\n",
       "      <td>['past_meta_14']</td>\n",
       "      <td>meta_14</td>\n",
       "      <td>False</td>\n",
       "      <td>Saúde</td>\n",
       "    </tr>\n",
       "    <tr>\n",
       "      <th>12522</th>\n",
       "      <td>0.66</td>\n",
       "      <td>0.66</td>\n",
       "      <td>0.66</td>\n",
       "      <td>RADL3.SA</td>\n",
       "      <td>['past_meta_14']</td>\n",
       "      <td>meta_14</td>\n",
       "      <td>False</td>\n",
       "      <td>Saúde</td>\n",
       "    </tr>\n",
       "    <tr>\n",
       "      <th>12412</th>\n",
       "      <td>0.38</td>\n",
       "      <td>0.38</td>\n",
       "      <td>0.38</td>\n",
       "      <td>FLRY3.SA</td>\n",
       "      <td>['past_meta_14']</td>\n",
       "      <td>meta_14</td>\n",
       "      <td>True</td>\n",
       "      <td>Saúde</td>\n",
       "    </tr>\n",
       "    <tr>\n",
       "      <th>12514</th>\n",
       "      <td>0.50</td>\n",
       "      <td>0.50</td>\n",
       "      <td>0.50</td>\n",
       "      <td>RADL3.SA</td>\n",
       "      <td>['past_meta_14']</td>\n",
       "      <td>meta_14</td>\n",
       "      <td>True</td>\n",
       "      <td>Saúde</td>\n",
       "    </tr>\n",
       "    <tr>\n",
       "      <th>12457</th>\n",
       "      <td>0.70</td>\n",
       "      <td>0.70</td>\n",
       "      <td>0.70</td>\n",
       "      <td>FLRY3.SA</td>\n",
       "      <td>['past_meta_21']</td>\n",
       "      <td>meta_21</td>\n",
       "      <td>False</td>\n",
       "      <td>Saúde</td>\n",
       "    </tr>\n",
       "    <tr>\n",
       "      <th>12558</th>\n",
       "      <td>0.61</td>\n",
       "      <td>0.61</td>\n",
       "      <td>0.61</td>\n",
       "      <td>RADL3.SA</td>\n",
       "      <td>['past_meta_21']</td>\n",
       "      <td>meta_21</td>\n",
       "      <td>False</td>\n",
       "      <td>Saúde</td>\n",
       "    </tr>\n",
       "    <tr>\n",
       "      <th>12449</th>\n",
       "      <td>0.48</td>\n",
       "      <td>0.48</td>\n",
       "      <td>0.48</td>\n",
       "      <td>FLRY3.SA</td>\n",
       "      <td>['past_meta_21']</td>\n",
       "      <td>meta_21</td>\n",
       "      <td>True</td>\n",
       "      <td>Saúde</td>\n",
       "    </tr>\n",
       "    <tr>\n",
       "      <th>12549</th>\n",
       "      <td>0.52</td>\n",
       "      <td>0.52</td>\n",
       "      <td>0.52</td>\n",
       "      <td>RADL3.SA</td>\n",
       "      <td>['past_meta_21']</td>\n",
       "      <td>meta_21</td>\n",
       "      <td>True</td>\n",
       "      <td>Saúde</td>\n",
       "    </tr>\n",
       "    <tr>\n",
       "      <th>12386</th>\n",
       "      <td>0.51</td>\n",
       "      <td>0.51</td>\n",
       "      <td>0.51</td>\n",
       "      <td>FLRY3.SA</td>\n",
       "      <td>['past_meta_7']</td>\n",
       "      <td>meta_7</td>\n",
       "      <td>False</td>\n",
       "      <td>Saúde</td>\n",
       "    </tr>\n",
       "    <tr>\n",
       "      <th>12490</th>\n",
       "      <td>0.50</td>\n",
       "      <td>0.50</td>\n",
       "      <td>0.50</td>\n",
       "      <td>RADL3.SA</td>\n",
       "      <td>['past_meta_7']</td>\n",
       "      <td>meta_7</td>\n",
       "      <td>False</td>\n",
       "      <td>Saúde</td>\n",
       "    </tr>\n",
       "    <tr>\n",
       "      <th>12378</th>\n",
       "      <td>0.33</td>\n",
       "      <td>0.33</td>\n",
       "      <td>0.33</td>\n",
       "      <td>FLRY3.SA</td>\n",
       "      <td>['past_meta_7']</td>\n",
       "      <td>meta_7</td>\n",
       "      <td>True</td>\n",
       "      <td>Saúde</td>\n",
       "    </tr>\n",
       "    <tr>\n",
       "      <th>12482</th>\n",
       "      <td>0.33</td>\n",
       "      <td>0.33</td>\n",
       "      <td>0.33</td>\n",
       "      <td>RADL3.SA</td>\n",
       "      <td>['past_meta_7']</td>\n",
       "      <td>meta_7</td>\n",
       "      <td>True</td>\n",
       "      <td>Saúde</td>\n",
       "    </tr>\n",
       "  </tbody>\n",
       "</table>\n",
       "</div>"
      ],
      "text/plain": [
       "       precision  recall  f1-score     ativo      feature_cols     alvo  \\\n",
       "12422       0.63    0.63      0.63  FLRY3.SA  ['past_meta_14']  meta_14   \n",
       "12522       0.66    0.66      0.66  RADL3.SA  ['past_meta_14']  meta_14   \n",
       "12412       0.38    0.38      0.38  FLRY3.SA  ['past_meta_14']  meta_14   \n",
       "12514       0.50    0.50      0.50  RADL3.SA  ['past_meta_14']  meta_14   \n",
       "12457       0.70    0.70      0.70  FLRY3.SA  ['past_meta_21']  meta_21   \n",
       "12558       0.61    0.61      0.61  RADL3.SA  ['past_meta_21']  meta_21   \n",
       "12449       0.48    0.48      0.48  FLRY3.SA  ['past_meta_21']  meta_21   \n",
       "12549       0.52    0.52      0.52  RADL3.SA  ['past_meta_21']  meta_21   \n",
       "12386       0.51    0.51      0.51  FLRY3.SA   ['past_meta_7']   meta_7   \n",
       "12490       0.50    0.50      0.50  RADL3.SA   ['past_meta_7']   meta_7   \n",
       "12378       0.33    0.33      0.33  FLRY3.SA   ['past_meta_7']   meta_7   \n",
       "12482       0.33    0.33      0.33  RADL3.SA   ['past_meta_7']   meta_7   \n",
       "\n",
       "        leak domain  \n",
       "12422  False  Saúde  \n",
       "12522  False  Saúde  \n",
       "12412   True  Saúde  \n",
       "12514   True  Saúde  \n",
       "12457  False  Saúde  \n",
       "12558  False  Saúde  \n",
       "12449   True  Saúde  \n",
       "12549   True  Saúde  \n",
       "12386  False  Saúde  \n",
       "12490  False  Saúde  \n",
       "12378   True  Saúde  \n",
       "12482   True  Saúde  "
      ]
     },
     "metadata": {},
     "output_type": "display_data"
    },
    {
     "name": "stdout",
     "output_type": "stream",
     "text": [
      "Metricas regressao - label diff_close_mean_z_score\n"
     ]
    },
    {
     "data": {
      "text/html": [
       "<div>\n",
       "<style scoped>\n",
       "    .dataframe tbody tr th:only-of-type {\n",
       "        vertical-align: middle;\n",
       "    }\n",
       "\n",
       "    .dataframe tbody tr th {\n",
       "        vertical-align: top;\n",
       "    }\n",
       "\n",
       "    .dataframe thead th {\n",
       "        text-align: right;\n",
       "    }\n",
       "</style>\n",
       "<table border=\"1\" class=\"dataframe\">\n",
       "  <thead>\n",
       "    <tr style=\"text-align: right;\">\n",
       "      <th></th>\n",
       "      <th>Mean Absolute Error (MAE)</th>\n",
       "      <th>Mean Squared Error (MSE)</th>\n",
       "      <th>Root Mean Squared Error (RMSE)</th>\n",
       "      <th>R-squared (R2)</th>\n",
       "      <th>Mean Absolute Percentage Error (MAPE)</th>\n",
       "      <th>ativo</th>\n",
       "      <th>alvo</th>\n",
       "      <th>leak</th>\n",
       "      <th>domain</th>\n",
       "    </tr>\n",
       "  </thead>\n",
       "  <tbody>\n",
       "    <tr>\n",
       "      <th>1320</th>\n",
       "      <td>0.72</td>\n",
       "      <td>0.91</td>\n",
       "      <td>0.95</td>\n",
       "      <td>0.25</td>\n",
       "      <td>2.83</td>\n",
       "      <td>FLRY3.SA</td>\n",
       "      <td>diff_close_mean_z_score_7</td>\n",
       "      <td>True</td>\n",
       "      <td>Saúde</td>\n",
       "    </tr>\n",
       "    <tr>\n",
       "      <th>1321</th>\n",
       "      <td>0.49</td>\n",
       "      <td>0.62</td>\n",
       "      <td>0.79</td>\n",
       "      <td>0.48</td>\n",
       "      <td>1.94</td>\n",
       "      <td>FLRY3.SA</td>\n",
       "      <td>diff_close_mean_z_score_7</td>\n",
       "      <td>False</td>\n",
       "      <td>Saúde</td>\n",
       "    </tr>\n",
       "    <tr>\n",
       "      <th>1324</th>\n",
       "      <td>0.58</td>\n",
       "      <td>0.56</td>\n",
       "      <td>0.75</td>\n",
       "      <td>0.61</td>\n",
       "      <td>2.25</td>\n",
       "      <td>FLRY3.SA</td>\n",
       "      <td>diff_close_mean_z_score_14</td>\n",
       "      <td>True</td>\n",
       "      <td>Saúde</td>\n",
       "    </tr>\n",
       "    <tr>\n",
       "      <th>1325</th>\n",
       "      <td>0.39</td>\n",
       "      <td>0.39</td>\n",
       "      <td>0.62</td>\n",
       "      <td>0.74</td>\n",
       "      <td>1.56</td>\n",
       "      <td>FLRY3.SA</td>\n",
       "      <td>diff_close_mean_z_score_14</td>\n",
       "      <td>False</td>\n",
       "      <td>Saúde</td>\n",
       "    </tr>\n",
       "    <tr>\n",
       "      <th>1328</th>\n",
       "      <td>0.49</td>\n",
       "      <td>0.42</td>\n",
       "      <td>0.65</td>\n",
       "      <td>0.73</td>\n",
       "      <td>203.79</td>\n",
       "      <td>FLRY3.SA</td>\n",
       "      <td>diff_close_mean_z_score_21</td>\n",
       "      <td>True</td>\n",
       "      <td>Saúde</td>\n",
       "    </tr>\n",
       "    <tr>\n",
       "      <th>1329</th>\n",
       "      <td>0.34</td>\n",
       "      <td>0.29</td>\n",
       "      <td>0.54</td>\n",
       "      <td>0.81</td>\n",
       "      <td>142.19</td>\n",
       "      <td>FLRY3.SA</td>\n",
       "      <td>diff_close_mean_z_score_21</td>\n",
       "      <td>False</td>\n",
       "      <td>Saúde</td>\n",
       "    </tr>\n",
       "    <tr>\n",
       "      <th>1332</th>\n",
       "      <td>0.68</td>\n",
       "      <td>0.82</td>\n",
       "      <td>0.91</td>\n",
       "      <td>0.36</td>\n",
       "      <td>2.85</td>\n",
       "      <td>RADL3.SA</td>\n",
       "      <td>diff_close_mean_z_score_7</td>\n",
       "      <td>True</td>\n",
       "      <td>Saúde</td>\n",
       "    </tr>\n",
       "    <tr>\n",
       "      <th>1333</th>\n",
       "      <td>0.47</td>\n",
       "      <td>0.56</td>\n",
       "      <td>0.75</td>\n",
       "      <td>0.57</td>\n",
       "      <td>1.96</td>\n",
       "      <td>RADL3.SA</td>\n",
       "      <td>diff_close_mean_z_score_7</td>\n",
       "      <td>False</td>\n",
       "      <td>Saúde</td>\n",
       "    </tr>\n",
       "    <tr>\n",
       "      <th>1336</th>\n",
       "      <td>0.56</td>\n",
       "      <td>0.58</td>\n",
       "      <td>0.76</td>\n",
       "      <td>0.62</td>\n",
       "      <td>3164.58</td>\n",
       "      <td>RADL3.SA</td>\n",
       "      <td>diff_close_mean_z_score_14</td>\n",
       "      <td>True</td>\n",
       "      <td>Saúde</td>\n",
       "    </tr>\n",
       "    <tr>\n",
       "      <th>1337</th>\n",
       "      <td>0.39</td>\n",
       "      <td>0.40</td>\n",
       "      <td>0.63</td>\n",
       "      <td>0.74</td>\n",
       "      <td>2191.88</td>\n",
       "      <td>RADL3.SA</td>\n",
       "      <td>diff_close_mean_z_score_14</td>\n",
       "      <td>False</td>\n",
       "      <td>Saúde</td>\n",
       "    </tr>\n",
       "    <tr>\n",
       "      <th>1340</th>\n",
       "      <td>0.48</td>\n",
       "      <td>0.43</td>\n",
       "      <td>0.65</td>\n",
       "      <td>0.74</td>\n",
       "      <td>4.37</td>\n",
       "      <td>RADL3.SA</td>\n",
       "      <td>diff_close_mean_z_score_21</td>\n",
       "      <td>True</td>\n",
       "      <td>Saúde</td>\n",
       "    </tr>\n",
       "    <tr>\n",
       "      <th>1341</th>\n",
       "      <td>0.33</td>\n",
       "      <td>0.29</td>\n",
       "      <td>0.54</td>\n",
       "      <td>0.82</td>\n",
       "      <td>3.03</td>\n",
       "      <td>RADL3.SA</td>\n",
       "      <td>diff_close_mean_z_score_21</td>\n",
       "      <td>False</td>\n",
       "      <td>Saúde</td>\n",
       "    </tr>\n",
       "  </tbody>\n",
       "</table>\n",
       "</div>"
      ],
      "text/plain": [
       "      Mean Absolute Error (MAE)  Mean Squared Error (MSE)  \\\n",
       "1320                       0.72                      0.91   \n",
       "1321                       0.49                      0.62   \n",
       "1324                       0.58                      0.56   \n",
       "1325                       0.39                      0.39   \n",
       "1328                       0.49                      0.42   \n",
       "1329                       0.34                      0.29   \n",
       "1332                       0.68                      0.82   \n",
       "1333                       0.47                      0.56   \n",
       "1336                       0.56                      0.58   \n",
       "1337                       0.39                      0.40   \n",
       "1340                       0.48                      0.43   \n",
       "1341                       0.33                      0.29   \n",
       "\n",
       "      Root Mean Squared Error (RMSE)  R-squared (R2)  \\\n",
       "1320                            0.95            0.25   \n",
       "1321                            0.79            0.48   \n",
       "1324                            0.75            0.61   \n",
       "1325                            0.62            0.74   \n",
       "1328                            0.65            0.73   \n",
       "1329                            0.54            0.81   \n",
       "1332                            0.91            0.36   \n",
       "1333                            0.75            0.57   \n",
       "1336                            0.76            0.62   \n",
       "1337                            0.63            0.74   \n",
       "1340                            0.65            0.74   \n",
       "1341                            0.54            0.82   \n",
       "\n",
       "      Mean Absolute Percentage Error (MAPE)     ativo  \\\n",
       "1320                                   2.83  FLRY3.SA   \n",
       "1321                                   1.94  FLRY3.SA   \n",
       "1324                                   2.25  FLRY3.SA   \n",
       "1325                                   1.56  FLRY3.SA   \n",
       "1328                                 203.79  FLRY3.SA   \n",
       "1329                                 142.19  FLRY3.SA   \n",
       "1332                                   2.85  RADL3.SA   \n",
       "1333                                   1.96  RADL3.SA   \n",
       "1336                                3164.58  RADL3.SA   \n",
       "1337                                2191.88  RADL3.SA   \n",
       "1340                                   4.37  RADL3.SA   \n",
       "1341                                   3.03  RADL3.SA   \n",
       "\n",
       "                            alvo   leak domain  \n",
       "1320   diff_close_mean_z_score_7   True  Saúde  \n",
       "1321   diff_close_mean_z_score_7  False  Saúde  \n",
       "1324  diff_close_mean_z_score_14   True  Saúde  \n",
       "1325  diff_close_mean_z_score_14  False  Saúde  \n",
       "1328  diff_close_mean_z_score_21   True  Saúde  \n",
       "1329  diff_close_mean_z_score_21  False  Saúde  \n",
       "1332   diff_close_mean_z_score_7   True  Saúde  \n",
       "1333   diff_close_mean_z_score_7  False  Saúde  \n",
       "1336  diff_close_mean_z_score_14   True  Saúde  \n",
       "1337  diff_close_mean_z_score_14  False  Saúde  \n",
       "1340  diff_close_mean_z_score_21   True  Saúde  \n",
       "1341  diff_close_mean_z_score_21  False  Saúde  "
      ]
     },
     "metadata": {},
     "output_type": "display_data"
    }
   ],
   "source": [
    "for assets, domain in assets_domain:\n",
    "    print(f'''\n",
    "##############################################\n",
    "# DOMAIN: {domain}\n",
    "# ASSETS: {assets}\n",
    "##############################################\n",
    "          ''')\n",
    "    \n",
    "    print('Metricas macro - label meta')\n",
    "    metrics_clf = macro_dummy[macro_dummy.label_col.str.contains('meta') & macro_dummy.asset.isin(assets)].\\\n",
    "    drop(['support', 'scaling_method', 'prediction_type', 'seq_len', 'class', 'model'], axis =1 ).\\\n",
    "            rename({'asset': 'ativo', 'label_col': 'alvo'},axis=1)\n",
    "        \n",
    "        \n",
    "    display(metrics_clf.sort_values(['alvo', 'leak', 'ativo']))\n",
    "    \n",
    "    print('Metricas regressao - label diff_close_mean_z_score')\n",
    "    \n",
    "    metrics_reg = reg_dummy[reg_dummy.label_col.str.contains('diff_close_mean_z_score') & reg_dummy.asset.isin(assets)].\\\n",
    "        drop(['scaling_method', 'prediction_type', 'seq_len', 'model', 'feature_cols'], axis = 1).\\\n",
    "            rename({'asset': 'ativo', 'label_col': 'alvo'},axis=1)\n",
    "    display(metrics_reg)"
   ]
  },
  {
   "cell_type": "code",
   "execution_count": 13,
   "metadata": {},
   "outputs": [
    {
     "data": {
      "application/vnd.plotly.v1+json": {
       "config": {
        "plotlyServerURL": "https://plot.ly"
       },
       "data": [
        {
         "alignmentgroup": "True",
         "boxpoints": "all",
         "hovertemplate": "label_col=%{x}<br>f1-score=%{y}<extra></extra>",
         "legendgroup": "",
         "marker": {
          "color": "#636efa"
         },
         "name": "",
         "notched": false,
         "offsetgroup": "",
         "orientation": "v",
         "showlegend": false,
         "type": "box",
         "x": [
          "meta_7",
          "meta_14",
          "meta_21",
          "meta_7",
          "meta_14",
          "meta_21",
          "meta_7",
          "meta_14",
          "meta_21",
          "meta_7",
          "meta_14",
          "meta_21",
          "meta_7",
          "meta_14",
          "meta_21",
          "meta_7",
          "meta_14",
          "meta_21",
          "meta_7",
          "meta_14",
          "meta_21",
          "meta_7",
          "meta_14",
          "meta_21"
         ],
         "x0": " ",
         "xaxis": "x",
         "y": [
          0.33,
          0.43,
          0.49,
          0.34,
          0.49,
          0.62,
          0.4,
          0.56,
          0.45,
          0.34,
          0.53,
          0.42,
          0.35,
          0.47,
          0.45,
          0.35,
          0.46,
          0.46,
          0.33,
          0.38,
          0.48,
          0.33,
          0.5,
          0.52
         ],
         "y0": " ",
         "yaxis": "y"
        }
       ],
       "layout": {
        "boxmode": "group",
        "legend": {
         "tracegroupgap": 0
        },
        "template": {
         "data": {
          "bar": [
           {
            "error_x": {
             "color": "#2a3f5f"
            },
            "error_y": {
             "color": "#2a3f5f"
            },
            "marker": {
             "line": {
              "color": "#E5ECF6",
              "width": 0.5
             },
             "pattern": {
              "fillmode": "overlay",
              "size": 10,
              "solidity": 0.2
             }
            },
            "type": "bar"
           }
          ],
          "barpolar": [
           {
            "marker": {
             "line": {
              "color": "#E5ECF6",
              "width": 0.5
             },
             "pattern": {
              "fillmode": "overlay",
              "size": 10,
              "solidity": 0.2
             }
            },
            "type": "barpolar"
           }
          ],
          "carpet": [
           {
            "aaxis": {
             "endlinecolor": "#2a3f5f",
             "gridcolor": "white",
             "linecolor": "white",
             "minorgridcolor": "white",
             "startlinecolor": "#2a3f5f"
            },
            "baxis": {
             "endlinecolor": "#2a3f5f",
             "gridcolor": "white",
             "linecolor": "white",
             "minorgridcolor": "white",
             "startlinecolor": "#2a3f5f"
            },
            "type": "carpet"
           }
          ],
          "choropleth": [
           {
            "colorbar": {
             "outlinewidth": 0,
             "ticks": ""
            },
            "type": "choropleth"
           }
          ],
          "contour": [
           {
            "colorbar": {
             "outlinewidth": 0,
             "ticks": ""
            },
            "colorscale": [
             [
              0,
              "#0d0887"
             ],
             [
              0.1111111111111111,
              "#46039f"
             ],
             [
              0.2222222222222222,
              "#7201a8"
             ],
             [
              0.3333333333333333,
              "#9c179e"
             ],
             [
              0.4444444444444444,
              "#bd3786"
             ],
             [
              0.5555555555555556,
              "#d8576b"
             ],
             [
              0.6666666666666666,
              "#ed7953"
             ],
             [
              0.7777777777777778,
              "#fb9f3a"
             ],
             [
              0.8888888888888888,
              "#fdca26"
             ],
             [
              1,
              "#f0f921"
             ]
            ],
            "type": "contour"
           }
          ],
          "contourcarpet": [
           {
            "colorbar": {
             "outlinewidth": 0,
             "ticks": ""
            },
            "type": "contourcarpet"
           }
          ],
          "heatmap": [
           {
            "colorbar": {
             "outlinewidth": 0,
             "ticks": ""
            },
            "colorscale": [
             [
              0,
              "#0d0887"
             ],
             [
              0.1111111111111111,
              "#46039f"
             ],
             [
              0.2222222222222222,
              "#7201a8"
             ],
             [
              0.3333333333333333,
              "#9c179e"
             ],
             [
              0.4444444444444444,
              "#bd3786"
             ],
             [
              0.5555555555555556,
              "#d8576b"
             ],
             [
              0.6666666666666666,
              "#ed7953"
             ],
             [
              0.7777777777777778,
              "#fb9f3a"
             ],
             [
              0.8888888888888888,
              "#fdca26"
             ],
             [
              1,
              "#f0f921"
             ]
            ],
            "type": "heatmap"
           }
          ],
          "heatmapgl": [
           {
            "colorbar": {
             "outlinewidth": 0,
             "ticks": ""
            },
            "colorscale": [
             [
              0,
              "#0d0887"
             ],
             [
              0.1111111111111111,
              "#46039f"
             ],
             [
              0.2222222222222222,
              "#7201a8"
             ],
             [
              0.3333333333333333,
              "#9c179e"
             ],
             [
              0.4444444444444444,
              "#bd3786"
             ],
             [
              0.5555555555555556,
              "#d8576b"
             ],
             [
              0.6666666666666666,
              "#ed7953"
             ],
             [
              0.7777777777777778,
              "#fb9f3a"
             ],
             [
              0.8888888888888888,
              "#fdca26"
             ],
             [
              1,
              "#f0f921"
             ]
            ],
            "type": "heatmapgl"
           }
          ],
          "histogram": [
           {
            "marker": {
             "pattern": {
              "fillmode": "overlay",
              "size": 10,
              "solidity": 0.2
             }
            },
            "type": "histogram"
           }
          ],
          "histogram2d": [
           {
            "colorbar": {
             "outlinewidth": 0,
             "ticks": ""
            },
            "colorscale": [
             [
              0,
              "#0d0887"
             ],
             [
              0.1111111111111111,
              "#46039f"
             ],
             [
              0.2222222222222222,
              "#7201a8"
             ],
             [
              0.3333333333333333,
              "#9c179e"
             ],
             [
              0.4444444444444444,
              "#bd3786"
             ],
             [
              0.5555555555555556,
              "#d8576b"
             ],
             [
              0.6666666666666666,
              "#ed7953"
             ],
             [
              0.7777777777777778,
              "#fb9f3a"
             ],
             [
              0.8888888888888888,
              "#fdca26"
             ],
             [
              1,
              "#f0f921"
             ]
            ],
            "type": "histogram2d"
           }
          ],
          "histogram2dcontour": [
           {
            "colorbar": {
             "outlinewidth": 0,
             "ticks": ""
            },
            "colorscale": [
             [
              0,
              "#0d0887"
             ],
             [
              0.1111111111111111,
              "#46039f"
             ],
             [
              0.2222222222222222,
              "#7201a8"
             ],
             [
              0.3333333333333333,
              "#9c179e"
             ],
             [
              0.4444444444444444,
              "#bd3786"
             ],
             [
              0.5555555555555556,
              "#d8576b"
             ],
             [
              0.6666666666666666,
              "#ed7953"
             ],
             [
              0.7777777777777778,
              "#fb9f3a"
             ],
             [
              0.8888888888888888,
              "#fdca26"
             ],
             [
              1,
              "#f0f921"
             ]
            ],
            "type": "histogram2dcontour"
           }
          ],
          "mesh3d": [
           {
            "colorbar": {
             "outlinewidth": 0,
             "ticks": ""
            },
            "type": "mesh3d"
           }
          ],
          "parcoords": [
           {
            "line": {
             "colorbar": {
              "outlinewidth": 0,
              "ticks": ""
             }
            },
            "type": "parcoords"
           }
          ],
          "pie": [
           {
            "automargin": true,
            "type": "pie"
           }
          ],
          "scatter": [
           {
            "fillpattern": {
             "fillmode": "overlay",
             "size": 10,
             "solidity": 0.2
            },
            "type": "scatter"
           }
          ],
          "scatter3d": [
           {
            "line": {
             "colorbar": {
              "outlinewidth": 0,
              "ticks": ""
             }
            },
            "marker": {
             "colorbar": {
              "outlinewidth": 0,
              "ticks": ""
             }
            },
            "type": "scatter3d"
           }
          ],
          "scattercarpet": [
           {
            "marker": {
             "colorbar": {
              "outlinewidth": 0,
              "ticks": ""
             }
            },
            "type": "scattercarpet"
           }
          ],
          "scattergeo": [
           {
            "marker": {
             "colorbar": {
              "outlinewidth": 0,
              "ticks": ""
             }
            },
            "type": "scattergeo"
           }
          ],
          "scattergl": [
           {
            "marker": {
             "colorbar": {
              "outlinewidth": 0,
              "ticks": ""
             }
            },
            "type": "scattergl"
           }
          ],
          "scattermapbox": [
           {
            "marker": {
             "colorbar": {
              "outlinewidth": 0,
              "ticks": ""
             }
            },
            "type": "scattermapbox"
           }
          ],
          "scatterpolar": [
           {
            "marker": {
             "colorbar": {
              "outlinewidth": 0,
              "ticks": ""
             }
            },
            "type": "scatterpolar"
           }
          ],
          "scatterpolargl": [
           {
            "marker": {
             "colorbar": {
              "outlinewidth": 0,
              "ticks": ""
             }
            },
            "type": "scatterpolargl"
           }
          ],
          "scatterternary": [
           {
            "marker": {
             "colorbar": {
              "outlinewidth": 0,
              "ticks": ""
             }
            },
            "type": "scatterternary"
           }
          ],
          "surface": [
           {
            "colorbar": {
             "outlinewidth": 0,
             "ticks": ""
            },
            "colorscale": [
             [
              0,
              "#0d0887"
             ],
             [
              0.1111111111111111,
              "#46039f"
             ],
             [
              0.2222222222222222,
              "#7201a8"
             ],
             [
              0.3333333333333333,
              "#9c179e"
             ],
             [
              0.4444444444444444,
              "#bd3786"
             ],
             [
              0.5555555555555556,
              "#d8576b"
             ],
             [
              0.6666666666666666,
              "#ed7953"
             ],
             [
              0.7777777777777778,
              "#fb9f3a"
             ],
             [
              0.8888888888888888,
              "#fdca26"
             ],
             [
              1,
              "#f0f921"
             ]
            ],
            "type": "surface"
           }
          ],
          "table": [
           {
            "cells": {
             "fill": {
              "color": "#EBF0F8"
             },
             "line": {
              "color": "white"
             }
            },
            "header": {
             "fill": {
              "color": "#C8D4E3"
             },
             "line": {
              "color": "white"
             }
            },
            "type": "table"
           }
          ]
         },
         "layout": {
          "annotationdefaults": {
           "arrowcolor": "#2a3f5f",
           "arrowhead": 0,
           "arrowwidth": 1
          },
          "autotypenumbers": "strict",
          "coloraxis": {
           "colorbar": {
            "outlinewidth": 0,
            "ticks": ""
           }
          },
          "colorscale": {
           "diverging": [
            [
             0,
             "#8e0152"
            ],
            [
             0.1,
             "#c51b7d"
            ],
            [
             0.2,
             "#de77ae"
            ],
            [
             0.3,
             "#f1b6da"
            ],
            [
             0.4,
             "#fde0ef"
            ],
            [
             0.5,
             "#f7f7f7"
            ],
            [
             0.6,
             "#e6f5d0"
            ],
            [
             0.7,
             "#b8e186"
            ],
            [
             0.8,
             "#7fbc41"
            ],
            [
             0.9,
             "#4d9221"
            ],
            [
             1,
             "#276419"
            ]
           ],
           "sequential": [
            [
             0,
             "#0d0887"
            ],
            [
             0.1111111111111111,
             "#46039f"
            ],
            [
             0.2222222222222222,
             "#7201a8"
            ],
            [
             0.3333333333333333,
             "#9c179e"
            ],
            [
             0.4444444444444444,
             "#bd3786"
            ],
            [
             0.5555555555555556,
             "#d8576b"
            ],
            [
             0.6666666666666666,
             "#ed7953"
            ],
            [
             0.7777777777777778,
             "#fb9f3a"
            ],
            [
             0.8888888888888888,
             "#fdca26"
            ],
            [
             1,
             "#f0f921"
            ]
           ],
           "sequentialminus": [
            [
             0,
             "#0d0887"
            ],
            [
             0.1111111111111111,
             "#46039f"
            ],
            [
             0.2222222222222222,
             "#7201a8"
            ],
            [
             0.3333333333333333,
             "#9c179e"
            ],
            [
             0.4444444444444444,
             "#bd3786"
            ],
            [
             0.5555555555555556,
             "#d8576b"
            ],
            [
             0.6666666666666666,
             "#ed7953"
            ],
            [
             0.7777777777777778,
             "#fb9f3a"
            ],
            [
             0.8888888888888888,
             "#fdca26"
            ],
            [
             1,
             "#f0f921"
            ]
           ]
          },
          "colorway": [
           "#636efa",
           "#EF553B",
           "#00cc96",
           "#ab63fa",
           "#FFA15A",
           "#19d3f3",
           "#FF6692",
           "#B6E880",
           "#FF97FF",
           "#FECB52"
          ],
          "font": {
           "color": "#2a3f5f"
          },
          "geo": {
           "bgcolor": "white",
           "lakecolor": "white",
           "landcolor": "#E5ECF6",
           "showlakes": true,
           "showland": true,
           "subunitcolor": "white"
          },
          "hoverlabel": {
           "align": "left"
          },
          "hovermode": "closest",
          "mapbox": {
           "style": "light"
          },
          "paper_bgcolor": "white",
          "plot_bgcolor": "#E5ECF6",
          "polar": {
           "angularaxis": {
            "gridcolor": "white",
            "linecolor": "white",
            "ticks": ""
           },
           "bgcolor": "#E5ECF6",
           "radialaxis": {
            "gridcolor": "white",
            "linecolor": "white",
            "ticks": ""
           }
          },
          "scene": {
           "xaxis": {
            "backgroundcolor": "#E5ECF6",
            "gridcolor": "white",
            "gridwidth": 2,
            "linecolor": "white",
            "showbackground": true,
            "ticks": "",
            "zerolinecolor": "white"
           },
           "yaxis": {
            "backgroundcolor": "#E5ECF6",
            "gridcolor": "white",
            "gridwidth": 2,
            "linecolor": "white",
            "showbackground": true,
            "ticks": "",
            "zerolinecolor": "white"
           },
           "zaxis": {
            "backgroundcolor": "#E5ECF6",
            "gridcolor": "white",
            "gridwidth": 2,
            "linecolor": "white",
            "showbackground": true,
            "ticks": "",
            "zerolinecolor": "white"
           }
          },
          "shapedefaults": {
           "line": {
            "color": "#2a3f5f"
           }
          },
          "ternary": {
           "aaxis": {
            "gridcolor": "white",
            "linecolor": "white",
            "ticks": ""
           },
           "baxis": {
            "gridcolor": "white",
            "linecolor": "white",
            "ticks": ""
           },
           "bgcolor": "#E5ECF6",
           "caxis": {
            "gridcolor": "white",
            "linecolor": "white",
            "ticks": ""
           }
          },
          "title": {
           "x": 0.05
          },
          "xaxis": {
           "automargin": true,
           "gridcolor": "white",
           "linecolor": "white",
           "ticks": "",
           "title": {
            "standoff": 15
           },
           "zerolinecolor": "white",
           "zerolinewidth": 2
          },
          "yaxis": {
           "automargin": true,
           "gridcolor": "white",
           "linecolor": "white",
           "ticks": "",
           "title": {
            "standoff": 15
           },
           "zerolinecolor": "white",
           "zerolinewidth": 2
          }
         }
        },
        "title": {
         "text": "Distribuição de resultados para cada alvo com leak=True | model=dummy"
        },
        "xaxis": {
         "anchor": "y",
         "domain": [
          0,
          1
         ],
         "title": {
          "text": "label_col"
         }
        },
        "yaxis": {
         "anchor": "x",
         "domain": [
          0,
          1
         ],
         "title": {
          "text": "f1-score"
         }
        }
       }
      }
     },
     "metadata": {},
     "output_type": "display_data"
    },
    {
     "data": {
      "application/vnd.plotly.v1+json": {
       "config": {
        "plotlyServerURL": "https://plot.ly"
       },
       "data": [
        {
         "alignmentgroup": "True",
         "boxpoints": "all",
         "hovertemplate": "label_col=%{x}<br>f1-score=%{y}<extra></extra>",
         "legendgroup": "",
         "marker": {
          "color": "#636efa"
         },
         "name": "",
         "notched": false,
         "offsetgroup": "",
         "orientation": "v",
         "showlegend": false,
         "type": "box",
         "x": [
          "meta_7",
          "meta_14",
          "meta_21",
          "meta_7",
          "meta_14",
          "meta_21",
          "meta_7",
          "meta_14",
          "meta_21",
          "meta_7",
          "meta_14",
          "meta_21",
          "meta_7",
          "meta_14",
          "meta_21",
          "meta_7",
          "meta_14",
          "meta_21",
          "meta_7",
          "meta_14",
          "meta_21",
          "meta_7",
          "meta_14",
          "meta_21"
         ],
         "x0": " ",
         "xaxis": "x",
         "y": [
          0.54,
          0.67,
          0.7,
          0.48,
          0.65,
          0.74,
          0.6,
          0.7,
          0.71,
          0.52,
          0.69,
          0.66,
          0.51,
          0.65,
          0.57,
          0.43,
          0.58,
          0.54,
          0.51,
          0.63,
          0.7,
          0.5,
          0.66,
          0.61
         ],
         "y0": " ",
         "yaxis": "y"
        }
       ],
       "layout": {
        "boxmode": "group",
        "legend": {
         "tracegroupgap": 0
        },
        "template": {
         "data": {
          "bar": [
           {
            "error_x": {
             "color": "#2a3f5f"
            },
            "error_y": {
             "color": "#2a3f5f"
            },
            "marker": {
             "line": {
              "color": "#E5ECF6",
              "width": 0.5
             },
             "pattern": {
              "fillmode": "overlay",
              "size": 10,
              "solidity": 0.2
             }
            },
            "type": "bar"
           }
          ],
          "barpolar": [
           {
            "marker": {
             "line": {
              "color": "#E5ECF6",
              "width": 0.5
             },
             "pattern": {
              "fillmode": "overlay",
              "size": 10,
              "solidity": 0.2
             }
            },
            "type": "barpolar"
           }
          ],
          "carpet": [
           {
            "aaxis": {
             "endlinecolor": "#2a3f5f",
             "gridcolor": "white",
             "linecolor": "white",
             "minorgridcolor": "white",
             "startlinecolor": "#2a3f5f"
            },
            "baxis": {
             "endlinecolor": "#2a3f5f",
             "gridcolor": "white",
             "linecolor": "white",
             "minorgridcolor": "white",
             "startlinecolor": "#2a3f5f"
            },
            "type": "carpet"
           }
          ],
          "choropleth": [
           {
            "colorbar": {
             "outlinewidth": 0,
             "ticks": ""
            },
            "type": "choropleth"
           }
          ],
          "contour": [
           {
            "colorbar": {
             "outlinewidth": 0,
             "ticks": ""
            },
            "colorscale": [
             [
              0,
              "#0d0887"
             ],
             [
              0.1111111111111111,
              "#46039f"
             ],
             [
              0.2222222222222222,
              "#7201a8"
             ],
             [
              0.3333333333333333,
              "#9c179e"
             ],
             [
              0.4444444444444444,
              "#bd3786"
             ],
             [
              0.5555555555555556,
              "#d8576b"
             ],
             [
              0.6666666666666666,
              "#ed7953"
             ],
             [
              0.7777777777777778,
              "#fb9f3a"
             ],
             [
              0.8888888888888888,
              "#fdca26"
             ],
             [
              1,
              "#f0f921"
             ]
            ],
            "type": "contour"
           }
          ],
          "contourcarpet": [
           {
            "colorbar": {
             "outlinewidth": 0,
             "ticks": ""
            },
            "type": "contourcarpet"
           }
          ],
          "heatmap": [
           {
            "colorbar": {
             "outlinewidth": 0,
             "ticks": ""
            },
            "colorscale": [
             [
              0,
              "#0d0887"
             ],
             [
              0.1111111111111111,
              "#46039f"
             ],
             [
              0.2222222222222222,
              "#7201a8"
             ],
             [
              0.3333333333333333,
              "#9c179e"
             ],
             [
              0.4444444444444444,
              "#bd3786"
             ],
             [
              0.5555555555555556,
              "#d8576b"
             ],
             [
              0.6666666666666666,
              "#ed7953"
             ],
             [
              0.7777777777777778,
              "#fb9f3a"
             ],
             [
              0.8888888888888888,
              "#fdca26"
             ],
             [
              1,
              "#f0f921"
             ]
            ],
            "type": "heatmap"
           }
          ],
          "heatmapgl": [
           {
            "colorbar": {
             "outlinewidth": 0,
             "ticks": ""
            },
            "colorscale": [
             [
              0,
              "#0d0887"
             ],
             [
              0.1111111111111111,
              "#46039f"
             ],
             [
              0.2222222222222222,
              "#7201a8"
             ],
             [
              0.3333333333333333,
              "#9c179e"
             ],
             [
              0.4444444444444444,
              "#bd3786"
             ],
             [
              0.5555555555555556,
              "#d8576b"
             ],
             [
              0.6666666666666666,
              "#ed7953"
             ],
             [
              0.7777777777777778,
              "#fb9f3a"
             ],
             [
              0.8888888888888888,
              "#fdca26"
             ],
             [
              1,
              "#f0f921"
             ]
            ],
            "type": "heatmapgl"
           }
          ],
          "histogram": [
           {
            "marker": {
             "pattern": {
              "fillmode": "overlay",
              "size": 10,
              "solidity": 0.2
             }
            },
            "type": "histogram"
           }
          ],
          "histogram2d": [
           {
            "colorbar": {
             "outlinewidth": 0,
             "ticks": ""
            },
            "colorscale": [
             [
              0,
              "#0d0887"
             ],
             [
              0.1111111111111111,
              "#46039f"
             ],
             [
              0.2222222222222222,
              "#7201a8"
             ],
             [
              0.3333333333333333,
              "#9c179e"
             ],
             [
              0.4444444444444444,
              "#bd3786"
             ],
             [
              0.5555555555555556,
              "#d8576b"
             ],
             [
              0.6666666666666666,
              "#ed7953"
             ],
             [
              0.7777777777777778,
              "#fb9f3a"
             ],
             [
              0.8888888888888888,
              "#fdca26"
             ],
             [
              1,
              "#f0f921"
             ]
            ],
            "type": "histogram2d"
           }
          ],
          "histogram2dcontour": [
           {
            "colorbar": {
             "outlinewidth": 0,
             "ticks": ""
            },
            "colorscale": [
             [
              0,
              "#0d0887"
             ],
             [
              0.1111111111111111,
              "#46039f"
             ],
             [
              0.2222222222222222,
              "#7201a8"
             ],
             [
              0.3333333333333333,
              "#9c179e"
             ],
             [
              0.4444444444444444,
              "#bd3786"
             ],
             [
              0.5555555555555556,
              "#d8576b"
             ],
             [
              0.6666666666666666,
              "#ed7953"
             ],
             [
              0.7777777777777778,
              "#fb9f3a"
             ],
             [
              0.8888888888888888,
              "#fdca26"
             ],
             [
              1,
              "#f0f921"
             ]
            ],
            "type": "histogram2dcontour"
           }
          ],
          "mesh3d": [
           {
            "colorbar": {
             "outlinewidth": 0,
             "ticks": ""
            },
            "type": "mesh3d"
           }
          ],
          "parcoords": [
           {
            "line": {
             "colorbar": {
              "outlinewidth": 0,
              "ticks": ""
             }
            },
            "type": "parcoords"
           }
          ],
          "pie": [
           {
            "automargin": true,
            "type": "pie"
           }
          ],
          "scatter": [
           {
            "fillpattern": {
             "fillmode": "overlay",
             "size": 10,
             "solidity": 0.2
            },
            "type": "scatter"
           }
          ],
          "scatter3d": [
           {
            "line": {
             "colorbar": {
              "outlinewidth": 0,
              "ticks": ""
             }
            },
            "marker": {
             "colorbar": {
              "outlinewidth": 0,
              "ticks": ""
             }
            },
            "type": "scatter3d"
           }
          ],
          "scattercarpet": [
           {
            "marker": {
             "colorbar": {
              "outlinewidth": 0,
              "ticks": ""
             }
            },
            "type": "scattercarpet"
           }
          ],
          "scattergeo": [
           {
            "marker": {
             "colorbar": {
              "outlinewidth": 0,
              "ticks": ""
             }
            },
            "type": "scattergeo"
           }
          ],
          "scattergl": [
           {
            "marker": {
             "colorbar": {
              "outlinewidth": 0,
              "ticks": ""
             }
            },
            "type": "scattergl"
           }
          ],
          "scattermapbox": [
           {
            "marker": {
             "colorbar": {
              "outlinewidth": 0,
              "ticks": ""
             }
            },
            "type": "scattermapbox"
           }
          ],
          "scatterpolar": [
           {
            "marker": {
             "colorbar": {
              "outlinewidth": 0,
              "ticks": ""
             }
            },
            "type": "scatterpolar"
           }
          ],
          "scatterpolargl": [
           {
            "marker": {
             "colorbar": {
              "outlinewidth": 0,
              "ticks": ""
             }
            },
            "type": "scatterpolargl"
           }
          ],
          "scatterternary": [
           {
            "marker": {
             "colorbar": {
              "outlinewidth": 0,
              "ticks": ""
             }
            },
            "type": "scatterternary"
           }
          ],
          "surface": [
           {
            "colorbar": {
             "outlinewidth": 0,
             "ticks": ""
            },
            "colorscale": [
             [
              0,
              "#0d0887"
             ],
             [
              0.1111111111111111,
              "#46039f"
             ],
             [
              0.2222222222222222,
              "#7201a8"
             ],
             [
              0.3333333333333333,
              "#9c179e"
             ],
             [
              0.4444444444444444,
              "#bd3786"
             ],
             [
              0.5555555555555556,
              "#d8576b"
             ],
             [
              0.6666666666666666,
              "#ed7953"
             ],
             [
              0.7777777777777778,
              "#fb9f3a"
             ],
             [
              0.8888888888888888,
              "#fdca26"
             ],
             [
              1,
              "#f0f921"
             ]
            ],
            "type": "surface"
           }
          ],
          "table": [
           {
            "cells": {
             "fill": {
              "color": "#EBF0F8"
             },
             "line": {
              "color": "white"
             }
            },
            "header": {
             "fill": {
              "color": "#C8D4E3"
             },
             "line": {
              "color": "white"
             }
            },
            "type": "table"
           }
          ]
         },
         "layout": {
          "annotationdefaults": {
           "arrowcolor": "#2a3f5f",
           "arrowhead": 0,
           "arrowwidth": 1
          },
          "autotypenumbers": "strict",
          "coloraxis": {
           "colorbar": {
            "outlinewidth": 0,
            "ticks": ""
           }
          },
          "colorscale": {
           "diverging": [
            [
             0,
             "#8e0152"
            ],
            [
             0.1,
             "#c51b7d"
            ],
            [
             0.2,
             "#de77ae"
            ],
            [
             0.3,
             "#f1b6da"
            ],
            [
             0.4,
             "#fde0ef"
            ],
            [
             0.5,
             "#f7f7f7"
            ],
            [
             0.6,
             "#e6f5d0"
            ],
            [
             0.7,
             "#b8e186"
            ],
            [
             0.8,
             "#7fbc41"
            ],
            [
             0.9,
             "#4d9221"
            ],
            [
             1,
             "#276419"
            ]
           ],
           "sequential": [
            [
             0,
             "#0d0887"
            ],
            [
             0.1111111111111111,
             "#46039f"
            ],
            [
             0.2222222222222222,
             "#7201a8"
            ],
            [
             0.3333333333333333,
             "#9c179e"
            ],
            [
             0.4444444444444444,
             "#bd3786"
            ],
            [
             0.5555555555555556,
             "#d8576b"
            ],
            [
             0.6666666666666666,
             "#ed7953"
            ],
            [
             0.7777777777777778,
             "#fb9f3a"
            ],
            [
             0.8888888888888888,
             "#fdca26"
            ],
            [
             1,
             "#f0f921"
            ]
           ],
           "sequentialminus": [
            [
             0,
             "#0d0887"
            ],
            [
             0.1111111111111111,
             "#46039f"
            ],
            [
             0.2222222222222222,
             "#7201a8"
            ],
            [
             0.3333333333333333,
             "#9c179e"
            ],
            [
             0.4444444444444444,
             "#bd3786"
            ],
            [
             0.5555555555555556,
             "#d8576b"
            ],
            [
             0.6666666666666666,
             "#ed7953"
            ],
            [
             0.7777777777777778,
             "#fb9f3a"
            ],
            [
             0.8888888888888888,
             "#fdca26"
            ],
            [
             1,
             "#f0f921"
            ]
           ]
          },
          "colorway": [
           "#636efa",
           "#EF553B",
           "#00cc96",
           "#ab63fa",
           "#FFA15A",
           "#19d3f3",
           "#FF6692",
           "#B6E880",
           "#FF97FF",
           "#FECB52"
          ],
          "font": {
           "color": "#2a3f5f"
          },
          "geo": {
           "bgcolor": "white",
           "lakecolor": "white",
           "landcolor": "#E5ECF6",
           "showlakes": true,
           "showland": true,
           "subunitcolor": "white"
          },
          "hoverlabel": {
           "align": "left"
          },
          "hovermode": "closest",
          "mapbox": {
           "style": "light"
          },
          "paper_bgcolor": "white",
          "plot_bgcolor": "#E5ECF6",
          "polar": {
           "angularaxis": {
            "gridcolor": "white",
            "linecolor": "white",
            "ticks": ""
           },
           "bgcolor": "#E5ECF6",
           "radialaxis": {
            "gridcolor": "white",
            "linecolor": "white",
            "ticks": ""
           }
          },
          "scene": {
           "xaxis": {
            "backgroundcolor": "#E5ECF6",
            "gridcolor": "white",
            "gridwidth": 2,
            "linecolor": "white",
            "showbackground": true,
            "ticks": "",
            "zerolinecolor": "white"
           },
           "yaxis": {
            "backgroundcolor": "#E5ECF6",
            "gridcolor": "white",
            "gridwidth": 2,
            "linecolor": "white",
            "showbackground": true,
            "ticks": "",
            "zerolinecolor": "white"
           },
           "zaxis": {
            "backgroundcolor": "#E5ECF6",
            "gridcolor": "white",
            "gridwidth": 2,
            "linecolor": "white",
            "showbackground": true,
            "ticks": "",
            "zerolinecolor": "white"
           }
          },
          "shapedefaults": {
           "line": {
            "color": "#2a3f5f"
           }
          },
          "ternary": {
           "aaxis": {
            "gridcolor": "white",
            "linecolor": "white",
            "ticks": ""
           },
           "baxis": {
            "gridcolor": "white",
            "linecolor": "white",
            "ticks": ""
           },
           "bgcolor": "#E5ECF6",
           "caxis": {
            "gridcolor": "white",
            "linecolor": "white",
            "ticks": ""
           }
          },
          "title": {
           "x": 0.05
          },
          "xaxis": {
           "automargin": true,
           "gridcolor": "white",
           "linecolor": "white",
           "ticks": "",
           "title": {
            "standoff": 15
           },
           "zerolinecolor": "white",
           "zerolinewidth": 2
          },
          "yaxis": {
           "automargin": true,
           "gridcolor": "white",
           "linecolor": "white",
           "ticks": "",
           "title": {
            "standoff": 15
           },
           "zerolinecolor": "white",
           "zerolinewidth": 2
          }
         }
        },
        "title": {
         "text": "Distribuição de resultados para cada alvo com leak=False | model=dummy"
        },
        "xaxis": {
         "anchor": "y",
         "domain": [
          0,
          1
         ],
         "title": {
          "text": "label_col"
         }
        },
        "yaxis": {
         "anchor": "x",
         "domain": [
          0,
          1
         ],
         "title": {
          "text": "f1-score"
         }
        }
       }
      }
     },
     "metadata": {},
     "output_type": "display_data"
    },
    {
     "data": {
      "application/vnd.plotly.v1+json": {
       "config": {
        "plotlyServerURL": "https://plot.ly"
       },
       "data": [
        {
         "alignmentgroup": "True",
         "boxpoints": "all",
         "hovertemplate": "label_col=%{x}<br>R-squared (R2)=%{y}<extra></extra>",
         "legendgroup": "",
         "marker": {
          "color": "#636efa"
         },
         "name": "",
         "notched": false,
         "offsetgroup": "",
         "orientation": "v",
         "showlegend": false,
         "type": "box",
         "x": [
          "diff_close_mean_z_score_7",
          "diff_close_mean_z_score_14",
          "diff_close_mean_z_score_21",
          "diff_close_mean_z_score_7",
          "diff_close_mean_z_score_14",
          "diff_close_mean_z_score_21",
          "diff_close_mean_z_score_7",
          "diff_close_mean_z_score_14",
          "diff_close_mean_z_score_21",
          "diff_close_mean_z_score_7",
          "diff_close_mean_z_score_14",
          "diff_close_mean_z_score_21",
          "diff_close_mean_z_score_7",
          "diff_close_mean_z_score_14",
          "diff_close_mean_z_score_21",
          "diff_close_mean_z_score_7",
          "diff_close_mean_z_score_14",
          "diff_close_mean_z_score_21",
          "diff_close_mean_z_score_7",
          "diff_close_mean_z_score_14",
          "diff_close_mean_z_score_21",
          "diff_close_mean_z_score_7",
          "diff_close_mean_z_score_14",
          "diff_close_mean_z_score_21"
         ],
         "x0": " ",
         "xaxis": "x",
         "y": [
          0.26,
          0.58,
          0.7,
          0.33,
          0.61,
          0.74,
          0.41,
          0.67,
          0.79,
          0.27,
          0.62,
          0.73,
          0.17,
          0.5,
          0.66,
          0.33,
          0.67,
          0.79,
          0.25,
          0.61,
          0.73,
          0.36,
          0.62,
          0.74
         ],
         "y0": " ",
         "yaxis": "y"
        }
       ],
       "layout": {
        "boxmode": "group",
        "legend": {
         "tracegroupgap": 0
        },
        "template": {
         "data": {
          "bar": [
           {
            "error_x": {
             "color": "#2a3f5f"
            },
            "error_y": {
             "color": "#2a3f5f"
            },
            "marker": {
             "line": {
              "color": "#E5ECF6",
              "width": 0.5
             },
             "pattern": {
              "fillmode": "overlay",
              "size": 10,
              "solidity": 0.2
             }
            },
            "type": "bar"
           }
          ],
          "barpolar": [
           {
            "marker": {
             "line": {
              "color": "#E5ECF6",
              "width": 0.5
             },
             "pattern": {
              "fillmode": "overlay",
              "size": 10,
              "solidity": 0.2
             }
            },
            "type": "barpolar"
           }
          ],
          "carpet": [
           {
            "aaxis": {
             "endlinecolor": "#2a3f5f",
             "gridcolor": "white",
             "linecolor": "white",
             "minorgridcolor": "white",
             "startlinecolor": "#2a3f5f"
            },
            "baxis": {
             "endlinecolor": "#2a3f5f",
             "gridcolor": "white",
             "linecolor": "white",
             "minorgridcolor": "white",
             "startlinecolor": "#2a3f5f"
            },
            "type": "carpet"
           }
          ],
          "choropleth": [
           {
            "colorbar": {
             "outlinewidth": 0,
             "ticks": ""
            },
            "type": "choropleth"
           }
          ],
          "contour": [
           {
            "colorbar": {
             "outlinewidth": 0,
             "ticks": ""
            },
            "colorscale": [
             [
              0,
              "#0d0887"
             ],
             [
              0.1111111111111111,
              "#46039f"
             ],
             [
              0.2222222222222222,
              "#7201a8"
             ],
             [
              0.3333333333333333,
              "#9c179e"
             ],
             [
              0.4444444444444444,
              "#bd3786"
             ],
             [
              0.5555555555555556,
              "#d8576b"
             ],
             [
              0.6666666666666666,
              "#ed7953"
             ],
             [
              0.7777777777777778,
              "#fb9f3a"
             ],
             [
              0.8888888888888888,
              "#fdca26"
             ],
             [
              1,
              "#f0f921"
             ]
            ],
            "type": "contour"
           }
          ],
          "contourcarpet": [
           {
            "colorbar": {
             "outlinewidth": 0,
             "ticks": ""
            },
            "type": "contourcarpet"
           }
          ],
          "heatmap": [
           {
            "colorbar": {
             "outlinewidth": 0,
             "ticks": ""
            },
            "colorscale": [
             [
              0,
              "#0d0887"
             ],
             [
              0.1111111111111111,
              "#46039f"
             ],
             [
              0.2222222222222222,
              "#7201a8"
             ],
             [
              0.3333333333333333,
              "#9c179e"
             ],
             [
              0.4444444444444444,
              "#bd3786"
             ],
             [
              0.5555555555555556,
              "#d8576b"
             ],
             [
              0.6666666666666666,
              "#ed7953"
             ],
             [
              0.7777777777777778,
              "#fb9f3a"
             ],
             [
              0.8888888888888888,
              "#fdca26"
             ],
             [
              1,
              "#f0f921"
             ]
            ],
            "type": "heatmap"
           }
          ],
          "heatmapgl": [
           {
            "colorbar": {
             "outlinewidth": 0,
             "ticks": ""
            },
            "colorscale": [
             [
              0,
              "#0d0887"
             ],
             [
              0.1111111111111111,
              "#46039f"
             ],
             [
              0.2222222222222222,
              "#7201a8"
             ],
             [
              0.3333333333333333,
              "#9c179e"
             ],
             [
              0.4444444444444444,
              "#bd3786"
             ],
             [
              0.5555555555555556,
              "#d8576b"
             ],
             [
              0.6666666666666666,
              "#ed7953"
             ],
             [
              0.7777777777777778,
              "#fb9f3a"
             ],
             [
              0.8888888888888888,
              "#fdca26"
             ],
             [
              1,
              "#f0f921"
             ]
            ],
            "type": "heatmapgl"
           }
          ],
          "histogram": [
           {
            "marker": {
             "pattern": {
              "fillmode": "overlay",
              "size": 10,
              "solidity": 0.2
             }
            },
            "type": "histogram"
           }
          ],
          "histogram2d": [
           {
            "colorbar": {
             "outlinewidth": 0,
             "ticks": ""
            },
            "colorscale": [
             [
              0,
              "#0d0887"
             ],
             [
              0.1111111111111111,
              "#46039f"
             ],
             [
              0.2222222222222222,
              "#7201a8"
             ],
             [
              0.3333333333333333,
              "#9c179e"
             ],
             [
              0.4444444444444444,
              "#bd3786"
             ],
             [
              0.5555555555555556,
              "#d8576b"
             ],
             [
              0.6666666666666666,
              "#ed7953"
             ],
             [
              0.7777777777777778,
              "#fb9f3a"
             ],
             [
              0.8888888888888888,
              "#fdca26"
             ],
             [
              1,
              "#f0f921"
             ]
            ],
            "type": "histogram2d"
           }
          ],
          "histogram2dcontour": [
           {
            "colorbar": {
             "outlinewidth": 0,
             "ticks": ""
            },
            "colorscale": [
             [
              0,
              "#0d0887"
             ],
             [
              0.1111111111111111,
              "#46039f"
             ],
             [
              0.2222222222222222,
              "#7201a8"
             ],
             [
              0.3333333333333333,
              "#9c179e"
             ],
             [
              0.4444444444444444,
              "#bd3786"
             ],
             [
              0.5555555555555556,
              "#d8576b"
             ],
             [
              0.6666666666666666,
              "#ed7953"
             ],
             [
              0.7777777777777778,
              "#fb9f3a"
             ],
             [
              0.8888888888888888,
              "#fdca26"
             ],
             [
              1,
              "#f0f921"
             ]
            ],
            "type": "histogram2dcontour"
           }
          ],
          "mesh3d": [
           {
            "colorbar": {
             "outlinewidth": 0,
             "ticks": ""
            },
            "type": "mesh3d"
           }
          ],
          "parcoords": [
           {
            "line": {
             "colorbar": {
              "outlinewidth": 0,
              "ticks": ""
             }
            },
            "type": "parcoords"
           }
          ],
          "pie": [
           {
            "automargin": true,
            "type": "pie"
           }
          ],
          "scatter": [
           {
            "fillpattern": {
             "fillmode": "overlay",
             "size": 10,
             "solidity": 0.2
            },
            "type": "scatter"
           }
          ],
          "scatter3d": [
           {
            "line": {
             "colorbar": {
              "outlinewidth": 0,
              "ticks": ""
             }
            },
            "marker": {
             "colorbar": {
              "outlinewidth": 0,
              "ticks": ""
             }
            },
            "type": "scatter3d"
           }
          ],
          "scattercarpet": [
           {
            "marker": {
             "colorbar": {
              "outlinewidth": 0,
              "ticks": ""
             }
            },
            "type": "scattercarpet"
           }
          ],
          "scattergeo": [
           {
            "marker": {
             "colorbar": {
              "outlinewidth": 0,
              "ticks": ""
             }
            },
            "type": "scattergeo"
           }
          ],
          "scattergl": [
           {
            "marker": {
             "colorbar": {
              "outlinewidth": 0,
              "ticks": ""
             }
            },
            "type": "scattergl"
           }
          ],
          "scattermapbox": [
           {
            "marker": {
             "colorbar": {
              "outlinewidth": 0,
              "ticks": ""
             }
            },
            "type": "scattermapbox"
           }
          ],
          "scatterpolar": [
           {
            "marker": {
             "colorbar": {
              "outlinewidth": 0,
              "ticks": ""
             }
            },
            "type": "scatterpolar"
           }
          ],
          "scatterpolargl": [
           {
            "marker": {
             "colorbar": {
              "outlinewidth": 0,
              "ticks": ""
             }
            },
            "type": "scatterpolargl"
           }
          ],
          "scatterternary": [
           {
            "marker": {
             "colorbar": {
              "outlinewidth": 0,
              "ticks": ""
             }
            },
            "type": "scatterternary"
           }
          ],
          "surface": [
           {
            "colorbar": {
             "outlinewidth": 0,
             "ticks": ""
            },
            "colorscale": [
             [
              0,
              "#0d0887"
             ],
             [
              0.1111111111111111,
              "#46039f"
             ],
             [
              0.2222222222222222,
              "#7201a8"
             ],
             [
              0.3333333333333333,
              "#9c179e"
             ],
             [
              0.4444444444444444,
              "#bd3786"
             ],
             [
              0.5555555555555556,
              "#d8576b"
             ],
             [
              0.6666666666666666,
              "#ed7953"
             ],
             [
              0.7777777777777778,
              "#fb9f3a"
             ],
             [
              0.8888888888888888,
              "#fdca26"
             ],
             [
              1,
              "#f0f921"
             ]
            ],
            "type": "surface"
           }
          ],
          "table": [
           {
            "cells": {
             "fill": {
              "color": "#EBF0F8"
             },
             "line": {
              "color": "white"
             }
            },
            "header": {
             "fill": {
              "color": "#C8D4E3"
             },
             "line": {
              "color": "white"
             }
            },
            "type": "table"
           }
          ]
         },
         "layout": {
          "annotationdefaults": {
           "arrowcolor": "#2a3f5f",
           "arrowhead": 0,
           "arrowwidth": 1
          },
          "autotypenumbers": "strict",
          "coloraxis": {
           "colorbar": {
            "outlinewidth": 0,
            "ticks": ""
           }
          },
          "colorscale": {
           "diverging": [
            [
             0,
             "#8e0152"
            ],
            [
             0.1,
             "#c51b7d"
            ],
            [
             0.2,
             "#de77ae"
            ],
            [
             0.3,
             "#f1b6da"
            ],
            [
             0.4,
             "#fde0ef"
            ],
            [
             0.5,
             "#f7f7f7"
            ],
            [
             0.6,
             "#e6f5d0"
            ],
            [
             0.7,
             "#b8e186"
            ],
            [
             0.8,
             "#7fbc41"
            ],
            [
             0.9,
             "#4d9221"
            ],
            [
             1,
             "#276419"
            ]
           ],
           "sequential": [
            [
             0,
             "#0d0887"
            ],
            [
             0.1111111111111111,
             "#46039f"
            ],
            [
             0.2222222222222222,
             "#7201a8"
            ],
            [
             0.3333333333333333,
             "#9c179e"
            ],
            [
             0.4444444444444444,
             "#bd3786"
            ],
            [
             0.5555555555555556,
             "#d8576b"
            ],
            [
             0.6666666666666666,
             "#ed7953"
            ],
            [
             0.7777777777777778,
             "#fb9f3a"
            ],
            [
             0.8888888888888888,
             "#fdca26"
            ],
            [
             1,
             "#f0f921"
            ]
           ],
           "sequentialminus": [
            [
             0,
             "#0d0887"
            ],
            [
             0.1111111111111111,
             "#46039f"
            ],
            [
             0.2222222222222222,
             "#7201a8"
            ],
            [
             0.3333333333333333,
             "#9c179e"
            ],
            [
             0.4444444444444444,
             "#bd3786"
            ],
            [
             0.5555555555555556,
             "#d8576b"
            ],
            [
             0.6666666666666666,
             "#ed7953"
            ],
            [
             0.7777777777777778,
             "#fb9f3a"
            ],
            [
             0.8888888888888888,
             "#fdca26"
            ],
            [
             1,
             "#f0f921"
            ]
           ]
          },
          "colorway": [
           "#636efa",
           "#EF553B",
           "#00cc96",
           "#ab63fa",
           "#FFA15A",
           "#19d3f3",
           "#FF6692",
           "#B6E880",
           "#FF97FF",
           "#FECB52"
          ],
          "font": {
           "color": "#2a3f5f"
          },
          "geo": {
           "bgcolor": "white",
           "lakecolor": "white",
           "landcolor": "#E5ECF6",
           "showlakes": true,
           "showland": true,
           "subunitcolor": "white"
          },
          "hoverlabel": {
           "align": "left"
          },
          "hovermode": "closest",
          "mapbox": {
           "style": "light"
          },
          "paper_bgcolor": "white",
          "plot_bgcolor": "#E5ECF6",
          "polar": {
           "angularaxis": {
            "gridcolor": "white",
            "linecolor": "white",
            "ticks": ""
           },
           "bgcolor": "#E5ECF6",
           "radialaxis": {
            "gridcolor": "white",
            "linecolor": "white",
            "ticks": ""
           }
          },
          "scene": {
           "xaxis": {
            "backgroundcolor": "#E5ECF6",
            "gridcolor": "white",
            "gridwidth": 2,
            "linecolor": "white",
            "showbackground": true,
            "ticks": "",
            "zerolinecolor": "white"
           },
           "yaxis": {
            "backgroundcolor": "#E5ECF6",
            "gridcolor": "white",
            "gridwidth": 2,
            "linecolor": "white",
            "showbackground": true,
            "ticks": "",
            "zerolinecolor": "white"
           },
           "zaxis": {
            "backgroundcolor": "#E5ECF6",
            "gridcolor": "white",
            "gridwidth": 2,
            "linecolor": "white",
            "showbackground": true,
            "ticks": "",
            "zerolinecolor": "white"
           }
          },
          "shapedefaults": {
           "line": {
            "color": "#2a3f5f"
           }
          },
          "ternary": {
           "aaxis": {
            "gridcolor": "white",
            "linecolor": "white",
            "ticks": ""
           },
           "baxis": {
            "gridcolor": "white",
            "linecolor": "white",
            "ticks": ""
           },
           "bgcolor": "#E5ECF6",
           "caxis": {
            "gridcolor": "white",
            "linecolor": "white",
            "ticks": ""
           }
          },
          "title": {
           "x": 0.05
          },
          "xaxis": {
           "automargin": true,
           "gridcolor": "white",
           "linecolor": "white",
           "ticks": "",
           "title": {
            "standoff": 15
           },
           "zerolinecolor": "white",
           "zerolinewidth": 2
          },
          "yaxis": {
           "automargin": true,
           "gridcolor": "white",
           "linecolor": "white",
           "ticks": "",
           "title": {
            "standoff": 15
           },
           "zerolinecolor": "white",
           "zerolinewidth": 2
          }
         }
        },
        "title": {
         "text": "Distribuição de resultados para cada alvo com leak=True | model=dummy"
        },
        "xaxis": {
         "anchor": "y",
         "domain": [
          0,
          1
         ],
         "title": {
          "text": "label_col"
         }
        },
        "yaxis": {
         "anchor": "x",
         "domain": [
          0,
          1
         ],
         "title": {
          "text": "R-squared (R2)"
         }
        }
       }
      }
     },
     "metadata": {},
     "output_type": "display_data"
    },
    {
     "data": {
      "application/vnd.plotly.v1+json": {
       "config": {
        "plotlyServerURL": "https://plot.ly"
       },
       "data": [
        {
         "alignmentgroup": "True",
         "boxpoints": "all",
         "hovertemplate": "label_col=%{x}<br>R-squared (R2)=%{y}<extra></extra>",
         "legendgroup": "",
         "marker": {
          "color": "#636efa"
         },
         "name": "",
         "notched": false,
         "offsetgroup": "",
         "orientation": "v",
         "showlegend": false,
         "type": "box",
         "x": [
          "diff_close_mean_z_score_7",
          "diff_close_mean_z_score_14",
          "diff_close_mean_z_score_21",
          "diff_close_mean_z_score_7",
          "diff_close_mean_z_score_14",
          "diff_close_mean_z_score_21",
          "diff_close_mean_z_score_7",
          "diff_close_mean_z_score_14",
          "diff_close_mean_z_score_21",
          "diff_close_mean_z_score_7",
          "diff_close_mean_z_score_14",
          "diff_close_mean_z_score_21",
          "diff_close_mean_z_score_7",
          "diff_close_mean_z_score_14",
          "diff_close_mean_z_score_21",
          "diff_close_mean_z_score_7",
          "diff_close_mean_z_score_14",
          "diff_close_mean_z_score_21",
          "diff_close_mean_z_score_7",
          "diff_close_mean_z_score_14",
          "diff_close_mean_z_score_21",
          "diff_close_mean_z_score_7",
          "diff_close_mean_z_score_14",
          "diff_close_mean_z_score_21"
         ],
         "x0": " ",
         "xaxis": "x",
         "y": [
          0.48,
          0.71,
          0.79,
          0.53,
          0.73,
          0.82,
          0.61,
          0.78,
          0.87,
          0.49,
          0.75,
          0.83,
          0.44,
          0.66,
          0.77,
          0.54,
          0.78,
          0.86,
          0.48,
          0.74,
          0.81,
          0.57,
          0.74,
          0.82
         ],
         "y0": " ",
         "yaxis": "y"
        }
       ],
       "layout": {
        "boxmode": "group",
        "legend": {
         "tracegroupgap": 0
        },
        "template": {
         "data": {
          "bar": [
           {
            "error_x": {
             "color": "#2a3f5f"
            },
            "error_y": {
             "color": "#2a3f5f"
            },
            "marker": {
             "line": {
              "color": "#E5ECF6",
              "width": 0.5
             },
             "pattern": {
              "fillmode": "overlay",
              "size": 10,
              "solidity": 0.2
             }
            },
            "type": "bar"
           }
          ],
          "barpolar": [
           {
            "marker": {
             "line": {
              "color": "#E5ECF6",
              "width": 0.5
             },
             "pattern": {
              "fillmode": "overlay",
              "size": 10,
              "solidity": 0.2
             }
            },
            "type": "barpolar"
           }
          ],
          "carpet": [
           {
            "aaxis": {
             "endlinecolor": "#2a3f5f",
             "gridcolor": "white",
             "linecolor": "white",
             "minorgridcolor": "white",
             "startlinecolor": "#2a3f5f"
            },
            "baxis": {
             "endlinecolor": "#2a3f5f",
             "gridcolor": "white",
             "linecolor": "white",
             "minorgridcolor": "white",
             "startlinecolor": "#2a3f5f"
            },
            "type": "carpet"
           }
          ],
          "choropleth": [
           {
            "colorbar": {
             "outlinewidth": 0,
             "ticks": ""
            },
            "type": "choropleth"
           }
          ],
          "contour": [
           {
            "colorbar": {
             "outlinewidth": 0,
             "ticks": ""
            },
            "colorscale": [
             [
              0,
              "#0d0887"
             ],
             [
              0.1111111111111111,
              "#46039f"
             ],
             [
              0.2222222222222222,
              "#7201a8"
             ],
             [
              0.3333333333333333,
              "#9c179e"
             ],
             [
              0.4444444444444444,
              "#bd3786"
             ],
             [
              0.5555555555555556,
              "#d8576b"
             ],
             [
              0.6666666666666666,
              "#ed7953"
             ],
             [
              0.7777777777777778,
              "#fb9f3a"
             ],
             [
              0.8888888888888888,
              "#fdca26"
             ],
             [
              1,
              "#f0f921"
             ]
            ],
            "type": "contour"
           }
          ],
          "contourcarpet": [
           {
            "colorbar": {
             "outlinewidth": 0,
             "ticks": ""
            },
            "type": "contourcarpet"
           }
          ],
          "heatmap": [
           {
            "colorbar": {
             "outlinewidth": 0,
             "ticks": ""
            },
            "colorscale": [
             [
              0,
              "#0d0887"
             ],
             [
              0.1111111111111111,
              "#46039f"
             ],
             [
              0.2222222222222222,
              "#7201a8"
             ],
             [
              0.3333333333333333,
              "#9c179e"
             ],
             [
              0.4444444444444444,
              "#bd3786"
             ],
             [
              0.5555555555555556,
              "#d8576b"
             ],
             [
              0.6666666666666666,
              "#ed7953"
             ],
             [
              0.7777777777777778,
              "#fb9f3a"
             ],
             [
              0.8888888888888888,
              "#fdca26"
             ],
             [
              1,
              "#f0f921"
             ]
            ],
            "type": "heatmap"
           }
          ],
          "heatmapgl": [
           {
            "colorbar": {
             "outlinewidth": 0,
             "ticks": ""
            },
            "colorscale": [
             [
              0,
              "#0d0887"
             ],
             [
              0.1111111111111111,
              "#46039f"
             ],
             [
              0.2222222222222222,
              "#7201a8"
             ],
             [
              0.3333333333333333,
              "#9c179e"
             ],
             [
              0.4444444444444444,
              "#bd3786"
             ],
             [
              0.5555555555555556,
              "#d8576b"
             ],
             [
              0.6666666666666666,
              "#ed7953"
             ],
             [
              0.7777777777777778,
              "#fb9f3a"
             ],
             [
              0.8888888888888888,
              "#fdca26"
             ],
             [
              1,
              "#f0f921"
             ]
            ],
            "type": "heatmapgl"
           }
          ],
          "histogram": [
           {
            "marker": {
             "pattern": {
              "fillmode": "overlay",
              "size": 10,
              "solidity": 0.2
             }
            },
            "type": "histogram"
           }
          ],
          "histogram2d": [
           {
            "colorbar": {
             "outlinewidth": 0,
             "ticks": ""
            },
            "colorscale": [
             [
              0,
              "#0d0887"
             ],
             [
              0.1111111111111111,
              "#46039f"
             ],
             [
              0.2222222222222222,
              "#7201a8"
             ],
             [
              0.3333333333333333,
              "#9c179e"
             ],
             [
              0.4444444444444444,
              "#bd3786"
             ],
             [
              0.5555555555555556,
              "#d8576b"
             ],
             [
              0.6666666666666666,
              "#ed7953"
             ],
             [
              0.7777777777777778,
              "#fb9f3a"
             ],
             [
              0.8888888888888888,
              "#fdca26"
             ],
             [
              1,
              "#f0f921"
             ]
            ],
            "type": "histogram2d"
           }
          ],
          "histogram2dcontour": [
           {
            "colorbar": {
             "outlinewidth": 0,
             "ticks": ""
            },
            "colorscale": [
             [
              0,
              "#0d0887"
             ],
             [
              0.1111111111111111,
              "#46039f"
             ],
             [
              0.2222222222222222,
              "#7201a8"
             ],
             [
              0.3333333333333333,
              "#9c179e"
             ],
             [
              0.4444444444444444,
              "#bd3786"
             ],
             [
              0.5555555555555556,
              "#d8576b"
             ],
             [
              0.6666666666666666,
              "#ed7953"
             ],
             [
              0.7777777777777778,
              "#fb9f3a"
             ],
             [
              0.8888888888888888,
              "#fdca26"
             ],
             [
              1,
              "#f0f921"
             ]
            ],
            "type": "histogram2dcontour"
           }
          ],
          "mesh3d": [
           {
            "colorbar": {
             "outlinewidth": 0,
             "ticks": ""
            },
            "type": "mesh3d"
           }
          ],
          "parcoords": [
           {
            "line": {
             "colorbar": {
              "outlinewidth": 0,
              "ticks": ""
             }
            },
            "type": "parcoords"
           }
          ],
          "pie": [
           {
            "automargin": true,
            "type": "pie"
           }
          ],
          "scatter": [
           {
            "fillpattern": {
             "fillmode": "overlay",
             "size": 10,
             "solidity": 0.2
            },
            "type": "scatter"
           }
          ],
          "scatter3d": [
           {
            "line": {
             "colorbar": {
              "outlinewidth": 0,
              "ticks": ""
             }
            },
            "marker": {
             "colorbar": {
              "outlinewidth": 0,
              "ticks": ""
             }
            },
            "type": "scatter3d"
           }
          ],
          "scattercarpet": [
           {
            "marker": {
             "colorbar": {
              "outlinewidth": 0,
              "ticks": ""
             }
            },
            "type": "scattercarpet"
           }
          ],
          "scattergeo": [
           {
            "marker": {
             "colorbar": {
              "outlinewidth": 0,
              "ticks": ""
             }
            },
            "type": "scattergeo"
           }
          ],
          "scattergl": [
           {
            "marker": {
             "colorbar": {
              "outlinewidth": 0,
              "ticks": ""
             }
            },
            "type": "scattergl"
           }
          ],
          "scattermapbox": [
           {
            "marker": {
             "colorbar": {
              "outlinewidth": 0,
              "ticks": ""
             }
            },
            "type": "scattermapbox"
           }
          ],
          "scatterpolar": [
           {
            "marker": {
             "colorbar": {
              "outlinewidth": 0,
              "ticks": ""
             }
            },
            "type": "scatterpolar"
           }
          ],
          "scatterpolargl": [
           {
            "marker": {
             "colorbar": {
              "outlinewidth": 0,
              "ticks": ""
             }
            },
            "type": "scatterpolargl"
           }
          ],
          "scatterternary": [
           {
            "marker": {
             "colorbar": {
              "outlinewidth": 0,
              "ticks": ""
             }
            },
            "type": "scatterternary"
           }
          ],
          "surface": [
           {
            "colorbar": {
             "outlinewidth": 0,
             "ticks": ""
            },
            "colorscale": [
             [
              0,
              "#0d0887"
             ],
             [
              0.1111111111111111,
              "#46039f"
             ],
             [
              0.2222222222222222,
              "#7201a8"
             ],
             [
              0.3333333333333333,
              "#9c179e"
             ],
             [
              0.4444444444444444,
              "#bd3786"
             ],
             [
              0.5555555555555556,
              "#d8576b"
             ],
             [
              0.6666666666666666,
              "#ed7953"
             ],
             [
              0.7777777777777778,
              "#fb9f3a"
             ],
             [
              0.8888888888888888,
              "#fdca26"
             ],
             [
              1,
              "#f0f921"
             ]
            ],
            "type": "surface"
           }
          ],
          "table": [
           {
            "cells": {
             "fill": {
              "color": "#EBF0F8"
             },
             "line": {
              "color": "white"
             }
            },
            "header": {
             "fill": {
              "color": "#C8D4E3"
             },
             "line": {
              "color": "white"
             }
            },
            "type": "table"
           }
          ]
         },
         "layout": {
          "annotationdefaults": {
           "arrowcolor": "#2a3f5f",
           "arrowhead": 0,
           "arrowwidth": 1
          },
          "autotypenumbers": "strict",
          "coloraxis": {
           "colorbar": {
            "outlinewidth": 0,
            "ticks": ""
           }
          },
          "colorscale": {
           "diverging": [
            [
             0,
             "#8e0152"
            ],
            [
             0.1,
             "#c51b7d"
            ],
            [
             0.2,
             "#de77ae"
            ],
            [
             0.3,
             "#f1b6da"
            ],
            [
             0.4,
             "#fde0ef"
            ],
            [
             0.5,
             "#f7f7f7"
            ],
            [
             0.6,
             "#e6f5d0"
            ],
            [
             0.7,
             "#b8e186"
            ],
            [
             0.8,
             "#7fbc41"
            ],
            [
             0.9,
             "#4d9221"
            ],
            [
             1,
             "#276419"
            ]
           ],
           "sequential": [
            [
             0,
             "#0d0887"
            ],
            [
             0.1111111111111111,
             "#46039f"
            ],
            [
             0.2222222222222222,
             "#7201a8"
            ],
            [
             0.3333333333333333,
             "#9c179e"
            ],
            [
             0.4444444444444444,
             "#bd3786"
            ],
            [
             0.5555555555555556,
             "#d8576b"
            ],
            [
             0.6666666666666666,
             "#ed7953"
            ],
            [
             0.7777777777777778,
             "#fb9f3a"
            ],
            [
             0.8888888888888888,
             "#fdca26"
            ],
            [
             1,
             "#f0f921"
            ]
           ],
           "sequentialminus": [
            [
             0,
             "#0d0887"
            ],
            [
             0.1111111111111111,
             "#46039f"
            ],
            [
             0.2222222222222222,
             "#7201a8"
            ],
            [
             0.3333333333333333,
             "#9c179e"
            ],
            [
             0.4444444444444444,
             "#bd3786"
            ],
            [
             0.5555555555555556,
             "#d8576b"
            ],
            [
             0.6666666666666666,
             "#ed7953"
            ],
            [
             0.7777777777777778,
             "#fb9f3a"
            ],
            [
             0.8888888888888888,
             "#fdca26"
            ],
            [
             1,
             "#f0f921"
            ]
           ]
          },
          "colorway": [
           "#636efa",
           "#EF553B",
           "#00cc96",
           "#ab63fa",
           "#FFA15A",
           "#19d3f3",
           "#FF6692",
           "#B6E880",
           "#FF97FF",
           "#FECB52"
          ],
          "font": {
           "color": "#2a3f5f"
          },
          "geo": {
           "bgcolor": "white",
           "lakecolor": "white",
           "landcolor": "#E5ECF6",
           "showlakes": true,
           "showland": true,
           "subunitcolor": "white"
          },
          "hoverlabel": {
           "align": "left"
          },
          "hovermode": "closest",
          "mapbox": {
           "style": "light"
          },
          "paper_bgcolor": "white",
          "plot_bgcolor": "#E5ECF6",
          "polar": {
           "angularaxis": {
            "gridcolor": "white",
            "linecolor": "white",
            "ticks": ""
           },
           "bgcolor": "#E5ECF6",
           "radialaxis": {
            "gridcolor": "white",
            "linecolor": "white",
            "ticks": ""
           }
          },
          "scene": {
           "xaxis": {
            "backgroundcolor": "#E5ECF6",
            "gridcolor": "white",
            "gridwidth": 2,
            "linecolor": "white",
            "showbackground": true,
            "ticks": "",
            "zerolinecolor": "white"
           },
           "yaxis": {
            "backgroundcolor": "#E5ECF6",
            "gridcolor": "white",
            "gridwidth": 2,
            "linecolor": "white",
            "showbackground": true,
            "ticks": "",
            "zerolinecolor": "white"
           },
           "zaxis": {
            "backgroundcolor": "#E5ECF6",
            "gridcolor": "white",
            "gridwidth": 2,
            "linecolor": "white",
            "showbackground": true,
            "ticks": "",
            "zerolinecolor": "white"
           }
          },
          "shapedefaults": {
           "line": {
            "color": "#2a3f5f"
           }
          },
          "ternary": {
           "aaxis": {
            "gridcolor": "white",
            "linecolor": "white",
            "ticks": ""
           },
           "baxis": {
            "gridcolor": "white",
            "linecolor": "white",
            "ticks": ""
           },
           "bgcolor": "#E5ECF6",
           "caxis": {
            "gridcolor": "white",
            "linecolor": "white",
            "ticks": ""
           }
          },
          "title": {
           "x": 0.05
          },
          "xaxis": {
           "automargin": true,
           "gridcolor": "white",
           "linecolor": "white",
           "ticks": "",
           "title": {
            "standoff": 15
           },
           "zerolinecolor": "white",
           "zerolinewidth": 2
          },
          "yaxis": {
           "automargin": true,
           "gridcolor": "white",
           "linecolor": "white",
           "ticks": "",
           "title": {
            "standoff": 15
           },
           "zerolinecolor": "white",
           "zerolinewidth": 2
          }
         }
        },
        "title": {
         "text": "Distribuição de resultados para cada alvo com leak=False | model=dummy"
        },
        "xaxis": {
         "anchor": "y",
         "domain": [
          0,
          1
         ],
         "title": {
          "text": "label_col"
         }
        },
        "yaxis": {
         "anchor": "x",
         "domain": [
          0,
          1
         ],
         "title": {
          "text": "R-squared (R2)"
         }
        }
       }
      }
     },
     "metadata": {},
     "output_type": "display_data"
    }
   ],
   "source": [
    "for leak in [True, False]:\n",
    "        \n",
    "    fig = px.box(\n",
    "        macro_dummy[macro_dummy.leak == leak], x=\"label_col\", \n",
    "        y=\"f1-score\", \n",
    "        points=\"all\", \n",
    "        title = f'Distribuição de resultados para cada alvo com leak={leak} | model=dummy')\n",
    "    \n",
    "    fig.write_image(PATH_REPORTS + f\"/images/box_plot_alvo_dummy_leak={leak}_clf.png\")\n",
    "    fig.show()\n",
    "\n",
    "for leak in [True, False]:\n",
    "        \n",
    "    fig = px.box(\n",
    "        reg_dummy[reg_dummy.leak == leak], x=\"label_col\", \n",
    "        y=\"R-squared (R2)\", \n",
    "        points=\"all\", \n",
    "        title = f'Distribuição de resultados para cada alvo com leak={leak} | model=dummy')\n",
    "    \n",
    "    fig.write_image(PATH_REPORTS + f\"/images/box_plot_alvo_dummy_leak={leak}_reg.png\")\n",
    "    fig.show()"
   ]
  },
  {
   "cell_type": "code",
   "execution_count": 14,
   "metadata": {},
   "outputs": [
    {
     "data": {
      "application/vnd.plotly.v1+json": {
       "config": {
        "plotlyServerURL": "https://plot.ly"
       },
       "data": [
        {
         "alignmentgroup": "True",
         "boxpoints": "all",
         "hovertemplate": "domain=Petróleo<br>asset=%{x}<br>f1-score=%{y}<extra></extra>",
         "legendgroup": "Petróleo",
         "marker": {
          "color": "#636efa"
         },
         "name": "Petróleo",
         "notched": false,
         "offsetgroup": "Petróleo",
         "orientation": "v",
         "showlegend": true,
         "type": "box",
         "x": [
          "PETR3.SA",
          "PETR3.SA",
          "PETR3.SA",
          "PRIO3.SA",
          "PRIO3.SA",
          "PRIO3.SA"
         ],
         "x0": " ",
         "xaxis": "x",
         "y": [
          0.33,
          0.43,
          0.49,
          0.34,
          0.49,
          0.62
         ],
         "y0": " ",
         "yaxis": "y"
        },
        {
         "alignmentgroup": "True",
         "boxpoints": "all",
         "hovertemplate": "domain=Mineração<br>asset=%{x}<br>f1-score=%{y}<extra></extra>",
         "legendgroup": "Mineração",
         "marker": {
          "color": "#EF553B"
         },
         "name": "Mineração",
         "notched": false,
         "offsetgroup": "Mineração",
         "orientation": "v",
         "showlegend": true,
         "type": "box",
         "x": [
          "VALE3.SA",
          "VALE3.SA",
          "VALE3.SA",
          "GGBR3.SA",
          "GGBR3.SA",
          "GGBR3.SA"
         ],
         "x0": " ",
         "xaxis": "x",
         "y": [
          0.4,
          0.56,
          0.45,
          0.34,
          0.53,
          0.42
         ],
         "y0": " ",
         "yaxis": "y"
        },
        {
         "alignmentgroup": "True",
         "boxpoints": "all",
         "hovertemplate": "domain=Financeiro<br>asset=%{x}<br>f1-score=%{y}<extra></extra>",
         "legendgroup": "Financeiro",
         "marker": {
          "color": "#00cc96"
         },
         "name": "Financeiro",
         "notched": false,
         "offsetgroup": "Financeiro",
         "orientation": "v",
         "showlegend": true,
         "type": "box",
         "x": [
          "ABCB4.SA",
          "ABCB4.SA",
          "ABCB4.SA",
          "ITUB3.SA",
          "ITUB3.SA",
          "ITUB3.SA"
         ],
         "x0": " ",
         "xaxis": "x",
         "y": [
          0.35,
          0.47,
          0.45,
          0.35,
          0.46,
          0.46
         ],
         "y0": " ",
         "yaxis": "y"
        },
        {
         "alignmentgroup": "True",
         "boxpoints": "all",
         "hovertemplate": "domain=Saúde<br>asset=%{x}<br>f1-score=%{y}<extra></extra>",
         "legendgroup": "Saúde",
         "marker": {
          "color": "#ab63fa"
         },
         "name": "Saúde",
         "notched": false,
         "offsetgroup": "Saúde",
         "orientation": "v",
         "showlegend": true,
         "type": "box",
         "x": [
          "FLRY3.SA",
          "FLRY3.SA",
          "FLRY3.SA",
          "RADL3.SA",
          "RADL3.SA",
          "RADL3.SA"
         ],
         "x0": " ",
         "xaxis": "x",
         "y": [
          0.33,
          0.38,
          0.48,
          0.33,
          0.5,
          0.52
         ],
         "y0": " ",
         "yaxis": "y"
        }
       ],
       "layout": {
        "boxmode": "group",
        "legend": {
         "title": {
          "text": "domain"
         },
         "tracegroupgap": 0
        },
        "template": {
         "data": {
          "bar": [
           {
            "error_x": {
             "color": "#2a3f5f"
            },
            "error_y": {
             "color": "#2a3f5f"
            },
            "marker": {
             "line": {
              "color": "#E5ECF6",
              "width": 0.5
             },
             "pattern": {
              "fillmode": "overlay",
              "size": 10,
              "solidity": 0.2
             }
            },
            "type": "bar"
           }
          ],
          "barpolar": [
           {
            "marker": {
             "line": {
              "color": "#E5ECF6",
              "width": 0.5
             },
             "pattern": {
              "fillmode": "overlay",
              "size": 10,
              "solidity": 0.2
             }
            },
            "type": "barpolar"
           }
          ],
          "carpet": [
           {
            "aaxis": {
             "endlinecolor": "#2a3f5f",
             "gridcolor": "white",
             "linecolor": "white",
             "minorgridcolor": "white",
             "startlinecolor": "#2a3f5f"
            },
            "baxis": {
             "endlinecolor": "#2a3f5f",
             "gridcolor": "white",
             "linecolor": "white",
             "minorgridcolor": "white",
             "startlinecolor": "#2a3f5f"
            },
            "type": "carpet"
           }
          ],
          "choropleth": [
           {
            "colorbar": {
             "outlinewidth": 0,
             "ticks": ""
            },
            "type": "choropleth"
           }
          ],
          "contour": [
           {
            "colorbar": {
             "outlinewidth": 0,
             "ticks": ""
            },
            "colorscale": [
             [
              0,
              "#0d0887"
             ],
             [
              0.1111111111111111,
              "#46039f"
             ],
             [
              0.2222222222222222,
              "#7201a8"
             ],
             [
              0.3333333333333333,
              "#9c179e"
             ],
             [
              0.4444444444444444,
              "#bd3786"
             ],
             [
              0.5555555555555556,
              "#d8576b"
             ],
             [
              0.6666666666666666,
              "#ed7953"
             ],
             [
              0.7777777777777778,
              "#fb9f3a"
             ],
             [
              0.8888888888888888,
              "#fdca26"
             ],
             [
              1,
              "#f0f921"
             ]
            ],
            "type": "contour"
           }
          ],
          "contourcarpet": [
           {
            "colorbar": {
             "outlinewidth": 0,
             "ticks": ""
            },
            "type": "contourcarpet"
           }
          ],
          "heatmap": [
           {
            "colorbar": {
             "outlinewidth": 0,
             "ticks": ""
            },
            "colorscale": [
             [
              0,
              "#0d0887"
             ],
             [
              0.1111111111111111,
              "#46039f"
             ],
             [
              0.2222222222222222,
              "#7201a8"
             ],
             [
              0.3333333333333333,
              "#9c179e"
             ],
             [
              0.4444444444444444,
              "#bd3786"
             ],
             [
              0.5555555555555556,
              "#d8576b"
             ],
             [
              0.6666666666666666,
              "#ed7953"
             ],
             [
              0.7777777777777778,
              "#fb9f3a"
             ],
             [
              0.8888888888888888,
              "#fdca26"
             ],
             [
              1,
              "#f0f921"
             ]
            ],
            "type": "heatmap"
           }
          ],
          "heatmapgl": [
           {
            "colorbar": {
             "outlinewidth": 0,
             "ticks": ""
            },
            "colorscale": [
             [
              0,
              "#0d0887"
             ],
             [
              0.1111111111111111,
              "#46039f"
             ],
             [
              0.2222222222222222,
              "#7201a8"
             ],
             [
              0.3333333333333333,
              "#9c179e"
             ],
             [
              0.4444444444444444,
              "#bd3786"
             ],
             [
              0.5555555555555556,
              "#d8576b"
             ],
             [
              0.6666666666666666,
              "#ed7953"
             ],
             [
              0.7777777777777778,
              "#fb9f3a"
             ],
             [
              0.8888888888888888,
              "#fdca26"
             ],
             [
              1,
              "#f0f921"
             ]
            ],
            "type": "heatmapgl"
           }
          ],
          "histogram": [
           {
            "marker": {
             "pattern": {
              "fillmode": "overlay",
              "size": 10,
              "solidity": 0.2
             }
            },
            "type": "histogram"
           }
          ],
          "histogram2d": [
           {
            "colorbar": {
             "outlinewidth": 0,
             "ticks": ""
            },
            "colorscale": [
             [
              0,
              "#0d0887"
             ],
             [
              0.1111111111111111,
              "#46039f"
             ],
             [
              0.2222222222222222,
              "#7201a8"
             ],
             [
              0.3333333333333333,
              "#9c179e"
             ],
             [
              0.4444444444444444,
              "#bd3786"
             ],
             [
              0.5555555555555556,
              "#d8576b"
             ],
             [
              0.6666666666666666,
              "#ed7953"
             ],
             [
              0.7777777777777778,
              "#fb9f3a"
             ],
             [
              0.8888888888888888,
              "#fdca26"
             ],
             [
              1,
              "#f0f921"
             ]
            ],
            "type": "histogram2d"
           }
          ],
          "histogram2dcontour": [
           {
            "colorbar": {
             "outlinewidth": 0,
             "ticks": ""
            },
            "colorscale": [
             [
              0,
              "#0d0887"
             ],
             [
              0.1111111111111111,
              "#46039f"
             ],
             [
              0.2222222222222222,
              "#7201a8"
             ],
             [
              0.3333333333333333,
              "#9c179e"
             ],
             [
              0.4444444444444444,
              "#bd3786"
             ],
             [
              0.5555555555555556,
              "#d8576b"
             ],
             [
              0.6666666666666666,
              "#ed7953"
             ],
             [
              0.7777777777777778,
              "#fb9f3a"
             ],
             [
              0.8888888888888888,
              "#fdca26"
             ],
             [
              1,
              "#f0f921"
             ]
            ],
            "type": "histogram2dcontour"
           }
          ],
          "mesh3d": [
           {
            "colorbar": {
             "outlinewidth": 0,
             "ticks": ""
            },
            "type": "mesh3d"
           }
          ],
          "parcoords": [
           {
            "line": {
             "colorbar": {
              "outlinewidth": 0,
              "ticks": ""
             }
            },
            "type": "parcoords"
           }
          ],
          "pie": [
           {
            "automargin": true,
            "type": "pie"
           }
          ],
          "scatter": [
           {
            "fillpattern": {
             "fillmode": "overlay",
             "size": 10,
             "solidity": 0.2
            },
            "type": "scatter"
           }
          ],
          "scatter3d": [
           {
            "line": {
             "colorbar": {
              "outlinewidth": 0,
              "ticks": ""
             }
            },
            "marker": {
             "colorbar": {
              "outlinewidth": 0,
              "ticks": ""
             }
            },
            "type": "scatter3d"
           }
          ],
          "scattercarpet": [
           {
            "marker": {
             "colorbar": {
              "outlinewidth": 0,
              "ticks": ""
             }
            },
            "type": "scattercarpet"
           }
          ],
          "scattergeo": [
           {
            "marker": {
             "colorbar": {
              "outlinewidth": 0,
              "ticks": ""
             }
            },
            "type": "scattergeo"
           }
          ],
          "scattergl": [
           {
            "marker": {
             "colorbar": {
              "outlinewidth": 0,
              "ticks": ""
             }
            },
            "type": "scattergl"
           }
          ],
          "scattermapbox": [
           {
            "marker": {
             "colorbar": {
              "outlinewidth": 0,
              "ticks": ""
             }
            },
            "type": "scattermapbox"
           }
          ],
          "scatterpolar": [
           {
            "marker": {
             "colorbar": {
              "outlinewidth": 0,
              "ticks": ""
             }
            },
            "type": "scatterpolar"
           }
          ],
          "scatterpolargl": [
           {
            "marker": {
             "colorbar": {
              "outlinewidth": 0,
              "ticks": ""
             }
            },
            "type": "scatterpolargl"
           }
          ],
          "scatterternary": [
           {
            "marker": {
             "colorbar": {
              "outlinewidth": 0,
              "ticks": ""
             }
            },
            "type": "scatterternary"
           }
          ],
          "surface": [
           {
            "colorbar": {
             "outlinewidth": 0,
             "ticks": ""
            },
            "colorscale": [
             [
              0,
              "#0d0887"
             ],
             [
              0.1111111111111111,
              "#46039f"
             ],
             [
              0.2222222222222222,
              "#7201a8"
             ],
             [
              0.3333333333333333,
              "#9c179e"
             ],
             [
              0.4444444444444444,
              "#bd3786"
             ],
             [
              0.5555555555555556,
              "#d8576b"
             ],
             [
              0.6666666666666666,
              "#ed7953"
             ],
             [
              0.7777777777777778,
              "#fb9f3a"
             ],
             [
              0.8888888888888888,
              "#fdca26"
             ],
             [
              1,
              "#f0f921"
             ]
            ],
            "type": "surface"
           }
          ],
          "table": [
           {
            "cells": {
             "fill": {
              "color": "#EBF0F8"
             },
             "line": {
              "color": "white"
             }
            },
            "header": {
             "fill": {
              "color": "#C8D4E3"
             },
             "line": {
              "color": "white"
             }
            },
            "type": "table"
           }
          ]
         },
         "layout": {
          "annotationdefaults": {
           "arrowcolor": "#2a3f5f",
           "arrowhead": 0,
           "arrowwidth": 1
          },
          "autotypenumbers": "strict",
          "coloraxis": {
           "colorbar": {
            "outlinewidth": 0,
            "ticks": ""
           }
          },
          "colorscale": {
           "diverging": [
            [
             0,
             "#8e0152"
            ],
            [
             0.1,
             "#c51b7d"
            ],
            [
             0.2,
             "#de77ae"
            ],
            [
             0.3,
             "#f1b6da"
            ],
            [
             0.4,
             "#fde0ef"
            ],
            [
             0.5,
             "#f7f7f7"
            ],
            [
             0.6,
             "#e6f5d0"
            ],
            [
             0.7,
             "#b8e186"
            ],
            [
             0.8,
             "#7fbc41"
            ],
            [
             0.9,
             "#4d9221"
            ],
            [
             1,
             "#276419"
            ]
           ],
           "sequential": [
            [
             0,
             "#0d0887"
            ],
            [
             0.1111111111111111,
             "#46039f"
            ],
            [
             0.2222222222222222,
             "#7201a8"
            ],
            [
             0.3333333333333333,
             "#9c179e"
            ],
            [
             0.4444444444444444,
             "#bd3786"
            ],
            [
             0.5555555555555556,
             "#d8576b"
            ],
            [
             0.6666666666666666,
             "#ed7953"
            ],
            [
             0.7777777777777778,
             "#fb9f3a"
            ],
            [
             0.8888888888888888,
             "#fdca26"
            ],
            [
             1,
             "#f0f921"
            ]
           ],
           "sequentialminus": [
            [
             0,
             "#0d0887"
            ],
            [
             0.1111111111111111,
             "#46039f"
            ],
            [
             0.2222222222222222,
             "#7201a8"
            ],
            [
             0.3333333333333333,
             "#9c179e"
            ],
            [
             0.4444444444444444,
             "#bd3786"
            ],
            [
             0.5555555555555556,
             "#d8576b"
            ],
            [
             0.6666666666666666,
             "#ed7953"
            ],
            [
             0.7777777777777778,
             "#fb9f3a"
            ],
            [
             0.8888888888888888,
             "#fdca26"
            ],
            [
             1,
             "#f0f921"
            ]
           ]
          },
          "colorway": [
           "#636efa",
           "#EF553B",
           "#00cc96",
           "#ab63fa",
           "#FFA15A",
           "#19d3f3",
           "#FF6692",
           "#B6E880",
           "#FF97FF",
           "#FECB52"
          ],
          "font": {
           "color": "#2a3f5f"
          },
          "geo": {
           "bgcolor": "white",
           "lakecolor": "white",
           "landcolor": "#E5ECF6",
           "showlakes": true,
           "showland": true,
           "subunitcolor": "white"
          },
          "hoverlabel": {
           "align": "left"
          },
          "hovermode": "closest",
          "mapbox": {
           "style": "light"
          },
          "paper_bgcolor": "white",
          "plot_bgcolor": "#E5ECF6",
          "polar": {
           "angularaxis": {
            "gridcolor": "white",
            "linecolor": "white",
            "ticks": ""
           },
           "bgcolor": "#E5ECF6",
           "radialaxis": {
            "gridcolor": "white",
            "linecolor": "white",
            "ticks": ""
           }
          },
          "scene": {
           "xaxis": {
            "backgroundcolor": "#E5ECF6",
            "gridcolor": "white",
            "gridwidth": 2,
            "linecolor": "white",
            "showbackground": true,
            "ticks": "",
            "zerolinecolor": "white"
           },
           "yaxis": {
            "backgroundcolor": "#E5ECF6",
            "gridcolor": "white",
            "gridwidth": 2,
            "linecolor": "white",
            "showbackground": true,
            "ticks": "",
            "zerolinecolor": "white"
           },
           "zaxis": {
            "backgroundcolor": "#E5ECF6",
            "gridcolor": "white",
            "gridwidth": 2,
            "linecolor": "white",
            "showbackground": true,
            "ticks": "",
            "zerolinecolor": "white"
           }
          },
          "shapedefaults": {
           "line": {
            "color": "#2a3f5f"
           }
          },
          "ternary": {
           "aaxis": {
            "gridcolor": "white",
            "linecolor": "white",
            "ticks": ""
           },
           "baxis": {
            "gridcolor": "white",
            "linecolor": "white",
            "ticks": ""
           },
           "bgcolor": "#E5ECF6",
           "caxis": {
            "gridcolor": "white",
            "linecolor": "white",
            "ticks": ""
           }
          },
          "title": {
           "x": 0.05
          },
          "xaxis": {
           "automargin": true,
           "gridcolor": "white",
           "linecolor": "white",
           "ticks": "",
           "title": {
            "standoff": 15
           },
           "zerolinecolor": "white",
           "zerolinewidth": 2
          },
          "yaxis": {
           "automargin": true,
           "gridcolor": "white",
           "linecolor": "white",
           "ticks": "",
           "title": {
            "standoff": 15
           },
           "zerolinecolor": "white",
           "zerolinewidth": 2
          }
         }
        },
        "title": {
         "text": "Distribuição de resultados para cada ativo com leak=True"
        },
        "xaxis": {
         "anchor": "y",
         "domain": [
          0,
          1
         ],
         "title": {
          "text": "asset"
         }
        },
        "yaxis": {
         "anchor": "x",
         "domain": [
          0,
          1
         ],
         "title": {
          "text": "f1-score"
         }
        }
       }
      }
     },
     "metadata": {},
     "output_type": "display_data"
    },
    {
     "data": {
      "application/vnd.plotly.v1+json": {
       "config": {
        "plotlyServerURL": "https://plot.ly"
       },
       "data": [
        {
         "alignmentgroup": "True",
         "boxpoints": "all",
         "hovertemplate": "domain=Petróleo<br>asset=%{x}<br>f1-score=%{y}<extra></extra>",
         "legendgroup": "Petróleo",
         "marker": {
          "color": "#636efa"
         },
         "name": "Petróleo",
         "notched": false,
         "offsetgroup": "Petróleo",
         "orientation": "v",
         "showlegend": true,
         "type": "box",
         "x": [
          "PETR3.SA",
          "PETR3.SA",
          "PETR3.SA",
          "PRIO3.SA",
          "PRIO3.SA",
          "PRIO3.SA"
         ],
         "x0": " ",
         "xaxis": "x",
         "y": [
          0.54,
          0.67,
          0.7,
          0.48,
          0.65,
          0.74
         ],
         "y0": " ",
         "yaxis": "y"
        },
        {
         "alignmentgroup": "True",
         "boxpoints": "all",
         "hovertemplate": "domain=Mineração<br>asset=%{x}<br>f1-score=%{y}<extra></extra>",
         "legendgroup": "Mineração",
         "marker": {
          "color": "#EF553B"
         },
         "name": "Mineração",
         "notched": false,
         "offsetgroup": "Mineração",
         "orientation": "v",
         "showlegend": true,
         "type": "box",
         "x": [
          "VALE3.SA",
          "VALE3.SA",
          "VALE3.SA",
          "GGBR3.SA",
          "GGBR3.SA",
          "GGBR3.SA"
         ],
         "x0": " ",
         "xaxis": "x",
         "y": [
          0.6,
          0.7,
          0.71,
          0.52,
          0.69,
          0.66
         ],
         "y0": " ",
         "yaxis": "y"
        },
        {
         "alignmentgroup": "True",
         "boxpoints": "all",
         "hovertemplate": "domain=Financeiro<br>asset=%{x}<br>f1-score=%{y}<extra></extra>",
         "legendgroup": "Financeiro",
         "marker": {
          "color": "#00cc96"
         },
         "name": "Financeiro",
         "notched": false,
         "offsetgroup": "Financeiro",
         "orientation": "v",
         "showlegend": true,
         "type": "box",
         "x": [
          "ABCB4.SA",
          "ABCB4.SA",
          "ABCB4.SA",
          "ITUB3.SA",
          "ITUB3.SA",
          "ITUB3.SA"
         ],
         "x0": " ",
         "xaxis": "x",
         "y": [
          0.51,
          0.65,
          0.57,
          0.43,
          0.58,
          0.54
         ],
         "y0": " ",
         "yaxis": "y"
        },
        {
         "alignmentgroup": "True",
         "boxpoints": "all",
         "hovertemplate": "domain=Saúde<br>asset=%{x}<br>f1-score=%{y}<extra></extra>",
         "legendgroup": "Saúde",
         "marker": {
          "color": "#ab63fa"
         },
         "name": "Saúde",
         "notched": false,
         "offsetgroup": "Saúde",
         "orientation": "v",
         "showlegend": true,
         "type": "box",
         "x": [
          "FLRY3.SA",
          "FLRY3.SA",
          "FLRY3.SA",
          "RADL3.SA",
          "RADL3.SA",
          "RADL3.SA"
         ],
         "x0": " ",
         "xaxis": "x",
         "y": [
          0.51,
          0.63,
          0.7,
          0.5,
          0.66,
          0.61
         ],
         "y0": " ",
         "yaxis": "y"
        }
       ],
       "layout": {
        "boxmode": "group",
        "legend": {
         "title": {
          "text": "domain"
         },
         "tracegroupgap": 0
        },
        "template": {
         "data": {
          "bar": [
           {
            "error_x": {
             "color": "#2a3f5f"
            },
            "error_y": {
             "color": "#2a3f5f"
            },
            "marker": {
             "line": {
              "color": "#E5ECF6",
              "width": 0.5
             },
             "pattern": {
              "fillmode": "overlay",
              "size": 10,
              "solidity": 0.2
             }
            },
            "type": "bar"
           }
          ],
          "barpolar": [
           {
            "marker": {
             "line": {
              "color": "#E5ECF6",
              "width": 0.5
             },
             "pattern": {
              "fillmode": "overlay",
              "size": 10,
              "solidity": 0.2
             }
            },
            "type": "barpolar"
           }
          ],
          "carpet": [
           {
            "aaxis": {
             "endlinecolor": "#2a3f5f",
             "gridcolor": "white",
             "linecolor": "white",
             "minorgridcolor": "white",
             "startlinecolor": "#2a3f5f"
            },
            "baxis": {
             "endlinecolor": "#2a3f5f",
             "gridcolor": "white",
             "linecolor": "white",
             "minorgridcolor": "white",
             "startlinecolor": "#2a3f5f"
            },
            "type": "carpet"
           }
          ],
          "choropleth": [
           {
            "colorbar": {
             "outlinewidth": 0,
             "ticks": ""
            },
            "type": "choropleth"
           }
          ],
          "contour": [
           {
            "colorbar": {
             "outlinewidth": 0,
             "ticks": ""
            },
            "colorscale": [
             [
              0,
              "#0d0887"
             ],
             [
              0.1111111111111111,
              "#46039f"
             ],
             [
              0.2222222222222222,
              "#7201a8"
             ],
             [
              0.3333333333333333,
              "#9c179e"
             ],
             [
              0.4444444444444444,
              "#bd3786"
             ],
             [
              0.5555555555555556,
              "#d8576b"
             ],
             [
              0.6666666666666666,
              "#ed7953"
             ],
             [
              0.7777777777777778,
              "#fb9f3a"
             ],
             [
              0.8888888888888888,
              "#fdca26"
             ],
             [
              1,
              "#f0f921"
             ]
            ],
            "type": "contour"
           }
          ],
          "contourcarpet": [
           {
            "colorbar": {
             "outlinewidth": 0,
             "ticks": ""
            },
            "type": "contourcarpet"
           }
          ],
          "heatmap": [
           {
            "colorbar": {
             "outlinewidth": 0,
             "ticks": ""
            },
            "colorscale": [
             [
              0,
              "#0d0887"
             ],
             [
              0.1111111111111111,
              "#46039f"
             ],
             [
              0.2222222222222222,
              "#7201a8"
             ],
             [
              0.3333333333333333,
              "#9c179e"
             ],
             [
              0.4444444444444444,
              "#bd3786"
             ],
             [
              0.5555555555555556,
              "#d8576b"
             ],
             [
              0.6666666666666666,
              "#ed7953"
             ],
             [
              0.7777777777777778,
              "#fb9f3a"
             ],
             [
              0.8888888888888888,
              "#fdca26"
             ],
             [
              1,
              "#f0f921"
             ]
            ],
            "type": "heatmap"
           }
          ],
          "heatmapgl": [
           {
            "colorbar": {
             "outlinewidth": 0,
             "ticks": ""
            },
            "colorscale": [
             [
              0,
              "#0d0887"
             ],
             [
              0.1111111111111111,
              "#46039f"
             ],
             [
              0.2222222222222222,
              "#7201a8"
             ],
             [
              0.3333333333333333,
              "#9c179e"
             ],
             [
              0.4444444444444444,
              "#bd3786"
             ],
             [
              0.5555555555555556,
              "#d8576b"
             ],
             [
              0.6666666666666666,
              "#ed7953"
             ],
             [
              0.7777777777777778,
              "#fb9f3a"
             ],
             [
              0.8888888888888888,
              "#fdca26"
             ],
             [
              1,
              "#f0f921"
             ]
            ],
            "type": "heatmapgl"
           }
          ],
          "histogram": [
           {
            "marker": {
             "pattern": {
              "fillmode": "overlay",
              "size": 10,
              "solidity": 0.2
             }
            },
            "type": "histogram"
           }
          ],
          "histogram2d": [
           {
            "colorbar": {
             "outlinewidth": 0,
             "ticks": ""
            },
            "colorscale": [
             [
              0,
              "#0d0887"
             ],
             [
              0.1111111111111111,
              "#46039f"
             ],
             [
              0.2222222222222222,
              "#7201a8"
             ],
             [
              0.3333333333333333,
              "#9c179e"
             ],
             [
              0.4444444444444444,
              "#bd3786"
             ],
             [
              0.5555555555555556,
              "#d8576b"
             ],
             [
              0.6666666666666666,
              "#ed7953"
             ],
             [
              0.7777777777777778,
              "#fb9f3a"
             ],
             [
              0.8888888888888888,
              "#fdca26"
             ],
             [
              1,
              "#f0f921"
             ]
            ],
            "type": "histogram2d"
           }
          ],
          "histogram2dcontour": [
           {
            "colorbar": {
             "outlinewidth": 0,
             "ticks": ""
            },
            "colorscale": [
             [
              0,
              "#0d0887"
             ],
             [
              0.1111111111111111,
              "#46039f"
             ],
             [
              0.2222222222222222,
              "#7201a8"
             ],
             [
              0.3333333333333333,
              "#9c179e"
             ],
             [
              0.4444444444444444,
              "#bd3786"
             ],
             [
              0.5555555555555556,
              "#d8576b"
             ],
             [
              0.6666666666666666,
              "#ed7953"
             ],
             [
              0.7777777777777778,
              "#fb9f3a"
             ],
             [
              0.8888888888888888,
              "#fdca26"
             ],
             [
              1,
              "#f0f921"
             ]
            ],
            "type": "histogram2dcontour"
           }
          ],
          "mesh3d": [
           {
            "colorbar": {
             "outlinewidth": 0,
             "ticks": ""
            },
            "type": "mesh3d"
           }
          ],
          "parcoords": [
           {
            "line": {
             "colorbar": {
              "outlinewidth": 0,
              "ticks": ""
             }
            },
            "type": "parcoords"
           }
          ],
          "pie": [
           {
            "automargin": true,
            "type": "pie"
           }
          ],
          "scatter": [
           {
            "fillpattern": {
             "fillmode": "overlay",
             "size": 10,
             "solidity": 0.2
            },
            "type": "scatter"
           }
          ],
          "scatter3d": [
           {
            "line": {
             "colorbar": {
              "outlinewidth": 0,
              "ticks": ""
             }
            },
            "marker": {
             "colorbar": {
              "outlinewidth": 0,
              "ticks": ""
             }
            },
            "type": "scatter3d"
           }
          ],
          "scattercarpet": [
           {
            "marker": {
             "colorbar": {
              "outlinewidth": 0,
              "ticks": ""
             }
            },
            "type": "scattercarpet"
           }
          ],
          "scattergeo": [
           {
            "marker": {
             "colorbar": {
              "outlinewidth": 0,
              "ticks": ""
             }
            },
            "type": "scattergeo"
           }
          ],
          "scattergl": [
           {
            "marker": {
             "colorbar": {
              "outlinewidth": 0,
              "ticks": ""
             }
            },
            "type": "scattergl"
           }
          ],
          "scattermapbox": [
           {
            "marker": {
             "colorbar": {
              "outlinewidth": 0,
              "ticks": ""
             }
            },
            "type": "scattermapbox"
           }
          ],
          "scatterpolar": [
           {
            "marker": {
             "colorbar": {
              "outlinewidth": 0,
              "ticks": ""
             }
            },
            "type": "scatterpolar"
           }
          ],
          "scatterpolargl": [
           {
            "marker": {
             "colorbar": {
              "outlinewidth": 0,
              "ticks": ""
             }
            },
            "type": "scatterpolargl"
           }
          ],
          "scatterternary": [
           {
            "marker": {
             "colorbar": {
              "outlinewidth": 0,
              "ticks": ""
             }
            },
            "type": "scatterternary"
           }
          ],
          "surface": [
           {
            "colorbar": {
             "outlinewidth": 0,
             "ticks": ""
            },
            "colorscale": [
             [
              0,
              "#0d0887"
             ],
             [
              0.1111111111111111,
              "#46039f"
             ],
             [
              0.2222222222222222,
              "#7201a8"
             ],
             [
              0.3333333333333333,
              "#9c179e"
             ],
             [
              0.4444444444444444,
              "#bd3786"
             ],
             [
              0.5555555555555556,
              "#d8576b"
             ],
             [
              0.6666666666666666,
              "#ed7953"
             ],
             [
              0.7777777777777778,
              "#fb9f3a"
             ],
             [
              0.8888888888888888,
              "#fdca26"
             ],
             [
              1,
              "#f0f921"
             ]
            ],
            "type": "surface"
           }
          ],
          "table": [
           {
            "cells": {
             "fill": {
              "color": "#EBF0F8"
             },
             "line": {
              "color": "white"
             }
            },
            "header": {
             "fill": {
              "color": "#C8D4E3"
             },
             "line": {
              "color": "white"
             }
            },
            "type": "table"
           }
          ]
         },
         "layout": {
          "annotationdefaults": {
           "arrowcolor": "#2a3f5f",
           "arrowhead": 0,
           "arrowwidth": 1
          },
          "autotypenumbers": "strict",
          "coloraxis": {
           "colorbar": {
            "outlinewidth": 0,
            "ticks": ""
           }
          },
          "colorscale": {
           "diverging": [
            [
             0,
             "#8e0152"
            ],
            [
             0.1,
             "#c51b7d"
            ],
            [
             0.2,
             "#de77ae"
            ],
            [
             0.3,
             "#f1b6da"
            ],
            [
             0.4,
             "#fde0ef"
            ],
            [
             0.5,
             "#f7f7f7"
            ],
            [
             0.6,
             "#e6f5d0"
            ],
            [
             0.7,
             "#b8e186"
            ],
            [
             0.8,
             "#7fbc41"
            ],
            [
             0.9,
             "#4d9221"
            ],
            [
             1,
             "#276419"
            ]
           ],
           "sequential": [
            [
             0,
             "#0d0887"
            ],
            [
             0.1111111111111111,
             "#46039f"
            ],
            [
             0.2222222222222222,
             "#7201a8"
            ],
            [
             0.3333333333333333,
             "#9c179e"
            ],
            [
             0.4444444444444444,
             "#bd3786"
            ],
            [
             0.5555555555555556,
             "#d8576b"
            ],
            [
             0.6666666666666666,
             "#ed7953"
            ],
            [
             0.7777777777777778,
             "#fb9f3a"
            ],
            [
             0.8888888888888888,
             "#fdca26"
            ],
            [
             1,
             "#f0f921"
            ]
           ],
           "sequentialminus": [
            [
             0,
             "#0d0887"
            ],
            [
             0.1111111111111111,
             "#46039f"
            ],
            [
             0.2222222222222222,
             "#7201a8"
            ],
            [
             0.3333333333333333,
             "#9c179e"
            ],
            [
             0.4444444444444444,
             "#bd3786"
            ],
            [
             0.5555555555555556,
             "#d8576b"
            ],
            [
             0.6666666666666666,
             "#ed7953"
            ],
            [
             0.7777777777777778,
             "#fb9f3a"
            ],
            [
             0.8888888888888888,
             "#fdca26"
            ],
            [
             1,
             "#f0f921"
            ]
           ]
          },
          "colorway": [
           "#636efa",
           "#EF553B",
           "#00cc96",
           "#ab63fa",
           "#FFA15A",
           "#19d3f3",
           "#FF6692",
           "#B6E880",
           "#FF97FF",
           "#FECB52"
          ],
          "font": {
           "color": "#2a3f5f"
          },
          "geo": {
           "bgcolor": "white",
           "lakecolor": "white",
           "landcolor": "#E5ECF6",
           "showlakes": true,
           "showland": true,
           "subunitcolor": "white"
          },
          "hoverlabel": {
           "align": "left"
          },
          "hovermode": "closest",
          "mapbox": {
           "style": "light"
          },
          "paper_bgcolor": "white",
          "plot_bgcolor": "#E5ECF6",
          "polar": {
           "angularaxis": {
            "gridcolor": "white",
            "linecolor": "white",
            "ticks": ""
           },
           "bgcolor": "#E5ECF6",
           "radialaxis": {
            "gridcolor": "white",
            "linecolor": "white",
            "ticks": ""
           }
          },
          "scene": {
           "xaxis": {
            "backgroundcolor": "#E5ECF6",
            "gridcolor": "white",
            "gridwidth": 2,
            "linecolor": "white",
            "showbackground": true,
            "ticks": "",
            "zerolinecolor": "white"
           },
           "yaxis": {
            "backgroundcolor": "#E5ECF6",
            "gridcolor": "white",
            "gridwidth": 2,
            "linecolor": "white",
            "showbackground": true,
            "ticks": "",
            "zerolinecolor": "white"
           },
           "zaxis": {
            "backgroundcolor": "#E5ECF6",
            "gridcolor": "white",
            "gridwidth": 2,
            "linecolor": "white",
            "showbackground": true,
            "ticks": "",
            "zerolinecolor": "white"
           }
          },
          "shapedefaults": {
           "line": {
            "color": "#2a3f5f"
           }
          },
          "ternary": {
           "aaxis": {
            "gridcolor": "white",
            "linecolor": "white",
            "ticks": ""
           },
           "baxis": {
            "gridcolor": "white",
            "linecolor": "white",
            "ticks": ""
           },
           "bgcolor": "#E5ECF6",
           "caxis": {
            "gridcolor": "white",
            "linecolor": "white",
            "ticks": ""
           }
          },
          "title": {
           "x": 0.05
          },
          "xaxis": {
           "automargin": true,
           "gridcolor": "white",
           "linecolor": "white",
           "ticks": "",
           "title": {
            "standoff": 15
           },
           "zerolinecolor": "white",
           "zerolinewidth": 2
          },
          "yaxis": {
           "automargin": true,
           "gridcolor": "white",
           "linecolor": "white",
           "ticks": "",
           "title": {
            "standoff": 15
           },
           "zerolinecolor": "white",
           "zerolinewidth": 2
          }
         }
        },
        "title": {
         "text": "Distribuição de resultados para cada ativo com leak=False"
        },
        "xaxis": {
         "anchor": "y",
         "domain": [
          0,
          1
         ],
         "title": {
          "text": "asset"
         }
        },
        "yaxis": {
         "anchor": "x",
         "domain": [
          0,
          1
         ],
         "title": {
          "text": "f1-score"
         }
        }
       }
      }
     },
     "metadata": {},
     "output_type": "display_data"
    },
    {
     "data": {
      "application/vnd.plotly.v1+json": {
       "config": {
        "plotlyServerURL": "https://plot.ly"
       },
       "data": [
        {
         "alignmentgroup": "True",
         "boxpoints": "all",
         "hovertemplate": "domain=Petróleo<br>asset=%{x}<br>R-squared (R2)=%{y}<extra></extra>",
         "legendgroup": "Petróleo",
         "marker": {
          "color": "#636efa"
         },
         "name": "Petróleo",
         "notched": false,
         "offsetgroup": "Petróleo",
         "orientation": "v",
         "showlegend": true,
         "type": "box",
         "x": [
          "PETR3.SA",
          "PETR3.SA",
          "PETR3.SA",
          "PRIO3.SA",
          "PRIO3.SA",
          "PRIO3.SA"
         ],
         "x0": " ",
         "xaxis": "x",
         "y": [
          0.26,
          0.58,
          0.7,
          0.33,
          0.61,
          0.74
         ],
         "y0": " ",
         "yaxis": "y"
        },
        {
         "alignmentgroup": "True",
         "boxpoints": "all",
         "hovertemplate": "domain=Mineração<br>asset=%{x}<br>R-squared (R2)=%{y}<extra></extra>",
         "legendgroup": "Mineração",
         "marker": {
          "color": "#EF553B"
         },
         "name": "Mineração",
         "notched": false,
         "offsetgroup": "Mineração",
         "orientation": "v",
         "showlegend": true,
         "type": "box",
         "x": [
          "VALE3.SA",
          "VALE3.SA",
          "VALE3.SA",
          "GGBR3.SA",
          "GGBR3.SA",
          "GGBR3.SA"
         ],
         "x0": " ",
         "xaxis": "x",
         "y": [
          0.41,
          0.67,
          0.79,
          0.27,
          0.62,
          0.73
         ],
         "y0": " ",
         "yaxis": "y"
        },
        {
         "alignmentgroup": "True",
         "boxpoints": "all",
         "hovertemplate": "domain=Financeiro<br>asset=%{x}<br>R-squared (R2)=%{y}<extra></extra>",
         "legendgroup": "Financeiro",
         "marker": {
          "color": "#00cc96"
         },
         "name": "Financeiro",
         "notched": false,
         "offsetgroup": "Financeiro",
         "orientation": "v",
         "showlegend": true,
         "type": "box",
         "x": [
          "ABCB4.SA",
          "ABCB4.SA",
          "ABCB4.SA",
          "ITUB3.SA",
          "ITUB3.SA",
          "ITUB3.SA"
         ],
         "x0": " ",
         "xaxis": "x",
         "y": [
          0.17,
          0.5,
          0.66,
          0.33,
          0.67,
          0.79
         ],
         "y0": " ",
         "yaxis": "y"
        },
        {
         "alignmentgroup": "True",
         "boxpoints": "all",
         "hovertemplate": "domain=Saúde<br>asset=%{x}<br>R-squared (R2)=%{y}<extra></extra>",
         "legendgroup": "Saúde",
         "marker": {
          "color": "#ab63fa"
         },
         "name": "Saúde",
         "notched": false,
         "offsetgroup": "Saúde",
         "orientation": "v",
         "showlegend": true,
         "type": "box",
         "x": [
          "FLRY3.SA",
          "FLRY3.SA",
          "FLRY3.SA",
          "RADL3.SA",
          "RADL3.SA",
          "RADL3.SA"
         ],
         "x0": " ",
         "xaxis": "x",
         "y": [
          0.25,
          0.61,
          0.73,
          0.36,
          0.62,
          0.74
         ],
         "y0": " ",
         "yaxis": "y"
        }
       ],
       "layout": {
        "boxmode": "group",
        "legend": {
         "title": {
          "text": "domain"
         },
         "tracegroupgap": 0
        },
        "template": {
         "data": {
          "bar": [
           {
            "error_x": {
             "color": "#2a3f5f"
            },
            "error_y": {
             "color": "#2a3f5f"
            },
            "marker": {
             "line": {
              "color": "#E5ECF6",
              "width": 0.5
             },
             "pattern": {
              "fillmode": "overlay",
              "size": 10,
              "solidity": 0.2
             }
            },
            "type": "bar"
           }
          ],
          "barpolar": [
           {
            "marker": {
             "line": {
              "color": "#E5ECF6",
              "width": 0.5
             },
             "pattern": {
              "fillmode": "overlay",
              "size": 10,
              "solidity": 0.2
             }
            },
            "type": "barpolar"
           }
          ],
          "carpet": [
           {
            "aaxis": {
             "endlinecolor": "#2a3f5f",
             "gridcolor": "white",
             "linecolor": "white",
             "minorgridcolor": "white",
             "startlinecolor": "#2a3f5f"
            },
            "baxis": {
             "endlinecolor": "#2a3f5f",
             "gridcolor": "white",
             "linecolor": "white",
             "minorgridcolor": "white",
             "startlinecolor": "#2a3f5f"
            },
            "type": "carpet"
           }
          ],
          "choropleth": [
           {
            "colorbar": {
             "outlinewidth": 0,
             "ticks": ""
            },
            "type": "choropleth"
           }
          ],
          "contour": [
           {
            "colorbar": {
             "outlinewidth": 0,
             "ticks": ""
            },
            "colorscale": [
             [
              0,
              "#0d0887"
             ],
             [
              0.1111111111111111,
              "#46039f"
             ],
             [
              0.2222222222222222,
              "#7201a8"
             ],
             [
              0.3333333333333333,
              "#9c179e"
             ],
             [
              0.4444444444444444,
              "#bd3786"
             ],
             [
              0.5555555555555556,
              "#d8576b"
             ],
             [
              0.6666666666666666,
              "#ed7953"
             ],
             [
              0.7777777777777778,
              "#fb9f3a"
             ],
             [
              0.8888888888888888,
              "#fdca26"
             ],
             [
              1,
              "#f0f921"
             ]
            ],
            "type": "contour"
           }
          ],
          "contourcarpet": [
           {
            "colorbar": {
             "outlinewidth": 0,
             "ticks": ""
            },
            "type": "contourcarpet"
           }
          ],
          "heatmap": [
           {
            "colorbar": {
             "outlinewidth": 0,
             "ticks": ""
            },
            "colorscale": [
             [
              0,
              "#0d0887"
             ],
             [
              0.1111111111111111,
              "#46039f"
             ],
             [
              0.2222222222222222,
              "#7201a8"
             ],
             [
              0.3333333333333333,
              "#9c179e"
             ],
             [
              0.4444444444444444,
              "#bd3786"
             ],
             [
              0.5555555555555556,
              "#d8576b"
             ],
             [
              0.6666666666666666,
              "#ed7953"
             ],
             [
              0.7777777777777778,
              "#fb9f3a"
             ],
             [
              0.8888888888888888,
              "#fdca26"
             ],
             [
              1,
              "#f0f921"
             ]
            ],
            "type": "heatmap"
           }
          ],
          "heatmapgl": [
           {
            "colorbar": {
             "outlinewidth": 0,
             "ticks": ""
            },
            "colorscale": [
             [
              0,
              "#0d0887"
             ],
             [
              0.1111111111111111,
              "#46039f"
             ],
             [
              0.2222222222222222,
              "#7201a8"
             ],
             [
              0.3333333333333333,
              "#9c179e"
             ],
             [
              0.4444444444444444,
              "#bd3786"
             ],
             [
              0.5555555555555556,
              "#d8576b"
             ],
             [
              0.6666666666666666,
              "#ed7953"
             ],
             [
              0.7777777777777778,
              "#fb9f3a"
             ],
             [
              0.8888888888888888,
              "#fdca26"
             ],
             [
              1,
              "#f0f921"
             ]
            ],
            "type": "heatmapgl"
           }
          ],
          "histogram": [
           {
            "marker": {
             "pattern": {
              "fillmode": "overlay",
              "size": 10,
              "solidity": 0.2
             }
            },
            "type": "histogram"
           }
          ],
          "histogram2d": [
           {
            "colorbar": {
             "outlinewidth": 0,
             "ticks": ""
            },
            "colorscale": [
             [
              0,
              "#0d0887"
             ],
             [
              0.1111111111111111,
              "#46039f"
             ],
             [
              0.2222222222222222,
              "#7201a8"
             ],
             [
              0.3333333333333333,
              "#9c179e"
             ],
             [
              0.4444444444444444,
              "#bd3786"
             ],
             [
              0.5555555555555556,
              "#d8576b"
             ],
             [
              0.6666666666666666,
              "#ed7953"
             ],
             [
              0.7777777777777778,
              "#fb9f3a"
             ],
             [
              0.8888888888888888,
              "#fdca26"
             ],
             [
              1,
              "#f0f921"
             ]
            ],
            "type": "histogram2d"
           }
          ],
          "histogram2dcontour": [
           {
            "colorbar": {
             "outlinewidth": 0,
             "ticks": ""
            },
            "colorscale": [
             [
              0,
              "#0d0887"
             ],
             [
              0.1111111111111111,
              "#46039f"
             ],
             [
              0.2222222222222222,
              "#7201a8"
             ],
             [
              0.3333333333333333,
              "#9c179e"
             ],
             [
              0.4444444444444444,
              "#bd3786"
             ],
             [
              0.5555555555555556,
              "#d8576b"
             ],
             [
              0.6666666666666666,
              "#ed7953"
             ],
             [
              0.7777777777777778,
              "#fb9f3a"
             ],
             [
              0.8888888888888888,
              "#fdca26"
             ],
             [
              1,
              "#f0f921"
             ]
            ],
            "type": "histogram2dcontour"
           }
          ],
          "mesh3d": [
           {
            "colorbar": {
             "outlinewidth": 0,
             "ticks": ""
            },
            "type": "mesh3d"
           }
          ],
          "parcoords": [
           {
            "line": {
             "colorbar": {
              "outlinewidth": 0,
              "ticks": ""
             }
            },
            "type": "parcoords"
           }
          ],
          "pie": [
           {
            "automargin": true,
            "type": "pie"
           }
          ],
          "scatter": [
           {
            "fillpattern": {
             "fillmode": "overlay",
             "size": 10,
             "solidity": 0.2
            },
            "type": "scatter"
           }
          ],
          "scatter3d": [
           {
            "line": {
             "colorbar": {
              "outlinewidth": 0,
              "ticks": ""
             }
            },
            "marker": {
             "colorbar": {
              "outlinewidth": 0,
              "ticks": ""
             }
            },
            "type": "scatter3d"
           }
          ],
          "scattercarpet": [
           {
            "marker": {
             "colorbar": {
              "outlinewidth": 0,
              "ticks": ""
             }
            },
            "type": "scattercarpet"
           }
          ],
          "scattergeo": [
           {
            "marker": {
             "colorbar": {
              "outlinewidth": 0,
              "ticks": ""
             }
            },
            "type": "scattergeo"
           }
          ],
          "scattergl": [
           {
            "marker": {
             "colorbar": {
              "outlinewidth": 0,
              "ticks": ""
             }
            },
            "type": "scattergl"
           }
          ],
          "scattermapbox": [
           {
            "marker": {
             "colorbar": {
              "outlinewidth": 0,
              "ticks": ""
             }
            },
            "type": "scattermapbox"
           }
          ],
          "scatterpolar": [
           {
            "marker": {
             "colorbar": {
              "outlinewidth": 0,
              "ticks": ""
             }
            },
            "type": "scatterpolar"
           }
          ],
          "scatterpolargl": [
           {
            "marker": {
             "colorbar": {
              "outlinewidth": 0,
              "ticks": ""
             }
            },
            "type": "scatterpolargl"
           }
          ],
          "scatterternary": [
           {
            "marker": {
             "colorbar": {
              "outlinewidth": 0,
              "ticks": ""
             }
            },
            "type": "scatterternary"
           }
          ],
          "surface": [
           {
            "colorbar": {
             "outlinewidth": 0,
             "ticks": ""
            },
            "colorscale": [
             [
              0,
              "#0d0887"
             ],
             [
              0.1111111111111111,
              "#46039f"
             ],
             [
              0.2222222222222222,
              "#7201a8"
             ],
             [
              0.3333333333333333,
              "#9c179e"
             ],
             [
              0.4444444444444444,
              "#bd3786"
             ],
             [
              0.5555555555555556,
              "#d8576b"
             ],
             [
              0.6666666666666666,
              "#ed7953"
             ],
             [
              0.7777777777777778,
              "#fb9f3a"
             ],
             [
              0.8888888888888888,
              "#fdca26"
             ],
             [
              1,
              "#f0f921"
             ]
            ],
            "type": "surface"
           }
          ],
          "table": [
           {
            "cells": {
             "fill": {
              "color": "#EBF0F8"
             },
             "line": {
              "color": "white"
             }
            },
            "header": {
             "fill": {
              "color": "#C8D4E3"
             },
             "line": {
              "color": "white"
             }
            },
            "type": "table"
           }
          ]
         },
         "layout": {
          "annotationdefaults": {
           "arrowcolor": "#2a3f5f",
           "arrowhead": 0,
           "arrowwidth": 1
          },
          "autotypenumbers": "strict",
          "coloraxis": {
           "colorbar": {
            "outlinewidth": 0,
            "ticks": ""
           }
          },
          "colorscale": {
           "diverging": [
            [
             0,
             "#8e0152"
            ],
            [
             0.1,
             "#c51b7d"
            ],
            [
             0.2,
             "#de77ae"
            ],
            [
             0.3,
             "#f1b6da"
            ],
            [
             0.4,
             "#fde0ef"
            ],
            [
             0.5,
             "#f7f7f7"
            ],
            [
             0.6,
             "#e6f5d0"
            ],
            [
             0.7,
             "#b8e186"
            ],
            [
             0.8,
             "#7fbc41"
            ],
            [
             0.9,
             "#4d9221"
            ],
            [
             1,
             "#276419"
            ]
           ],
           "sequential": [
            [
             0,
             "#0d0887"
            ],
            [
             0.1111111111111111,
             "#46039f"
            ],
            [
             0.2222222222222222,
             "#7201a8"
            ],
            [
             0.3333333333333333,
             "#9c179e"
            ],
            [
             0.4444444444444444,
             "#bd3786"
            ],
            [
             0.5555555555555556,
             "#d8576b"
            ],
            [
             0.6666666666666666,
             "#ed7953"
            ],
            [
             0.7777777777777778,
             "#fb9f3a"
            ],
            [
             0.8888888888888888,
             "#fdca26"
            ],
            [
             1,
             "#f0f921"
            ]
           ],
           "sequentialminus": [
            [
             0,
             "#0d0887"
            ],
            [
             0.1111111111111111,
             "#46039f"
            ],
            [
             0.2222222222222222,
             "#7201a8"
            ],
            [
             0.3333333333333333,
             "#9c179e"
            ],
            [
             0.4444444444444444,
             "#bd3786"
            ],
            [
             0.5555555555555556,
             "#d8576b"
            ],
            [
             0.6666666666666666,
             "#ed7953"
            ],
            [
             0.7777777777777778,
             "#fb9f3a"
            ],
            [
             0.8888888888888888,
             "#fdca26"
            ],
            [
             1,
             "#f0f921"
            ]
           ]
          },
          "colorway": [
           "#636efa",
           "#EF553B",
           "#00cc96",
           "#ab63fa",
           "#FFA15A",
           "#19d3f3",
           "#FF6692",
           "#B6E880",
           "#FF97FF",
           "#FECB52"
          ],
          "font": {
           "color": "#2a3f5f"
          },
          "geo": {
           "bgcolor": "white",
           "lakecolor": "white",
           "landcolor": "#E5ECF6",
           "showlakes": true,
           "showland": true,
           "subunitcolor": "white"
          },
          "hoverlabel": {
           "align": "left"
          },
          "hovermode": "closest",
          "mapbox": {
           "style": "light"
          },
          "paper_bgcolor": "white",
          "plot_bgcolor": "#E5ECF6",
          "polar": {
           "angularaxis": {
            "gridcolor": "white",
            "linecolor": "white",
            "ticks": ""
           },
           "bgcolor": "#E5ECF6",
           "radialaxis": {
            "gridcolor": "white",
            "linecolor": "white",
            "ticks": ""
           }
          },
          "scene": {
           "xaxis": {
            "backgroundcolor": "#E5ECF6",
            "gridcolor": "white",
            "gridwidth": 2,
            "linecolor": "white",
            "showbackground": true,
            "ticks": "",
            "zerolinecolor": "white"
           },
           "yaxis": {
            "backgroundcolor": "#E5ECF6",
            "gridcolor": "white",
            "gridwidth": 2,
            "linecolor": "white",
            "showbackground": true,
            "ticks": "",
            "zerolinecolor": "white"
           },
           "zaxis": {
            "backgroundcolor": "#E5ECF6",
            "gridcolor": "white",
            "gridwidth": 2,
            "linecolor": "white",
            "showbackground": true,
            "ticks": "",
            "zerolinecolor": "white"
           }
          },
          "shapedefaults": {
           "line": {
            "color": "#2a3f5f"
           }
          },
          "ternary": {
           "aaxis": {
            "gridcolor": "white",
            "linecolor": "white",
            "ticks": ""
           },
           "baxis": {
            "gridcolor": "white",
            "linecolor": "white",
            "ticks": ""
           },
           "bgcolor": "#E5ECF6",
           "caxis": {
            "gridcolor": "white",
            "linecolor": "white",
            "ticks": ""
           }
          },
          "title": {
           "x": 0.05
          },
          "xaxis": {
           "automargin": true,
           "gridcolor": "white",
           "linecolor": "white",
           "ticks": "",
           "title": {
            "standoff": 15
           },
           "zerolinecolor": "white",
           "zerolinewidth": 2
          },
          "yaxis": {
           "automargin": true,
           "gridcolor": "white",
           "linecolor": "white",
           "ticks": "",
           "title": {
            "standoff": 15
           },
           "zerolinecolor": "white",
           "zerolinewidth": 2
          }
         }
        },
        "title": {
         "text": "Distribuição de resultados para cada ativo com leak=True"
        },
        "xaxis": {
         "anchor": "y",
         "domain": [
          0,
          1
         ],
         "title": {
          "text": "asset"
         }
        },
        "yaxis": {
         "anchor": "x",
         "domain": [
          0,
          1
         ],
         "title": {
          "text": "R-squared (R2)"
         }
        }
       }
      }
     },
     "metadata": {},
     "output_type": "display_data"
    },
    {
     "data": {
      "application/vnd.plotly.v1+json": {
       "config": {
        "plotlyServerURL": "https://plot.ly"
       },
       "data": [
        {
         "alignmentgroup": "True",
         "boxpoints": "all",
         "hovertemplate": "domain=Petróleo<br>asset=%{x}<br>R-squared (R2)=%{y}<extra></extra>",
         "legendgroup": "Petróleo",
         "marker": {
          "color": "#636efa"
         },
         "name": "Petróleo",
         "notched": false,
         "offsetgroup": "Petróleo",
         "orientation": "v",
         "showlegend": true,
         "type": "box",
         "x": [
          "PETR3.SA",
          "PETR3.SA",
          "PETR3.SA",
          "PRIO3.SA",
          "PRIO3.SA",
          "PRIO3.SA"
         ],
         "x0": " ",
         "xaxis": "x",
         "y": [
          0.48,
          0.71,
          0.79,
          0.53,
          0.73,
          0.82
         ],
         "y0": " ",
         "yaxis": "y"
        },
        {
         "alignmentgroup": "True",
         "boxpoints": "all",
         "hovertemplate": "domain=Mineração<br>asset=%{x}<br>R-squared (R2)=%{y}<extra></extra>",
         "legendgroup": "Mineração",
         "marker": {
          "color": "#EF553B"
         },
         "name": "Mineração",
         "notched": false,
         "offsetgroup": "Mineração",
         "orientation": "v",
         "showlegend": true,
         "type": "box",
         "x": [
          "VALE3.SA",
          "VALE3.SA",
          "VALE3.SA",
          "GGBR3.SA",
          "GGBR3.SA",
          "GGBR3.SA"
         ],
         "x0": " ",
         "xaxis": "x",
         "y": [
          0.61,
          0.78,
          0.87,
          0.49,
          0.75,
          0.83
         ],
         "y0": " ",
         "yaxis": "y"
        },
        {
         "alignmentgroup": "True",
         "boxpoints": "all",
         "hovertemplate": "domain=Financeiro<br>asset=%{x}<br>R-squared (R2)=%{y}<extra></extra>",
         "legendgroup": "Financeiro",
         "marker": {
          "color": "#00cc96"
         },
         "name": "Financeiro",
         "notched": false,
         "offsetgroup": "Financeiro",
         "orientation": "v",
         "showlegend": true,
         "type": "box",
         "x": [
          "ABCB4.SA",
          "ABCB4.SA",
          "ABCB4.SA",
          "ITUB3.SA",
          "ITUB3.SA",
          "ITUB3.SA"
         ],
         "x0": " ",
         "xaxis": "x",
         "y": [
          0.44,
          0.66,
          0.77,
          0.54,
          0.78,
          0.86
         ],
         "y0": " ",
         "yaxis": "y"
        },
        {
         "alignmentgroup": "True",
         "boxpoints": "all",
         "hovertemplate": "domain=Saúde<br>asset=%{x}<br>R-squared (R2)=%{y}<extra></extra>",
         "legendgroup": "Saúde",
         "marker": {
          "color": "#ab63fa"
         },
         "name": "Saúde",
         "notched": false,
         "offsetgroup": "Saúde",
         "orientation": "v",
         "showlegend": true,
         "type": "box",
         "x": [
          "FLRY3.SA",
          "FLRY3.SA",
          "FLRY3.SA",
          "RADL3.SA",
          "RADL3.SA",
          "RADL3.SA"
         ],
         "x0": " ",
         "xaxis": "x",
         "y": [
          0.48,
          0.74,
          0.81,
          0.57,
          0.74,
          0.82
         ],
         "y0": " ",
         "yaxis": "y"
        }
       ],
       "layout": {
        "boxmode": "group",
        "legend": {
         "title": {
          "text": "domain"
         },
         "tracegroupgap": 0
        },
        "template": {
         "data": {
          "bar": [
           {
            "error_x": {
             "color": "#2a3f5f"
            },
            "error_y": {
             "color": "#2a3f5f"
            },
            "marker": {
             "line": {
              "color": "#E5ECF6",
              "width": 0.5
             },
             "pattern": {
              "fillmode": "overlay",
              "size": 10,
              "solidity": 0.2
             }
            },
            "type": "bar"
           }
          ],
          "barpolar": [
           {
            "marker": {
             "line": {
              "color": "#E5ECF6",
              "width": 0.5
             },
             "pattern": {
              "fillmode": "overlay",
              "size": 10,
              "solidity": 0.2
             }
            },
            "type": "barpolar"
           }
          ],
          "carpet": [
           {
            "aaxis": {
             "endlinecolor": "#2a3f5f",
             "gridcolor": "white",
             "linecolor": "white",
             "minorgridcolor": "white",
             "startlinecolor": "#2a3f5f"
            },
            "baxis": {
             "endlinecolor": "#2a3f5f",
             "gridcolor": "white",
             "linecolor": "white",
             "minorgridcolor": "white",
             "startlinecolor": "#2a3f5f"
            },
            "type": "carpet"
           }
          ],
          "choropleth": [
           {
            "colorbar": {
             "outlinewidth": 0,
             "ticks": ""
            },
            "type": "choropleth"
           }
          ],
          "contour": [
           {
            "colorbar": {
             "outlinewidth": 0,
             "ticks": ""
            },
            "colorscale": [
             [
              0,
              "#0d0887"
             ],
             [
              0.1111111111111111,
              "#46039f"
             ],
             [
              0.2222222222222222,
              "#7201a8"
             ],
             [
              0.3333333333333333,
              "#9c179e"
             ],
             [
              0.4444444444444444,
              "#bd3786"
             ],
             [
              0.5555555555555556,
              "#d8576b"
             ],
             [
              0.6666666666666666,
              "#ed7953"
             ],
             [
              0.7777777777777778,
              "#fb9f3a"
             ],
             [
              0.8888888888888888,
              "#fdca26"
             ],
             [
              1,
              "#f0f921"
             ]
            ],
            "type": "contour"
           }
          ],
          "contourcarpet": [
           {
            "colorbar": {
             "outlinewidth": 0,
             "ticks": ""
            },
            "type": "contourcarpet"
           }
          ],
          "heatmap": [
           {
            "colorbar": {
             "outlinewidth": 0,
             "ticks": ""
            },
            "colorscale": [
             [
              0,
              "#0d0887"
             ],
             [
              0.1111111111111111,
              "#46039f"
             ],
             [
              0.2222222222222222,
              "#7201a8"
             ],
             [
              0.3333333333333333,
              "#9c179e"
             ],
             [
              0.4444444444444444,
              "#bd3786"
             ],
             [
              0.5555555555555556,
              "#d8576b"
             ],
             [
              0.6666666666666666,
              "#ed7953"
             ],
             [
              0.7777777777777778,
              "#fb9f3a"
             ],
             [
              0.8888888888888888,
              "#fdca26"
             ],
             [
              1,
              "#f0f921"
             ]
            ],
            "type": "heatmap"
           }
          ],
          "heatmapgl": [
           {
            "colorbar": {
             "outlinewidth": 0,
             "ticks": ""
            },
            "colorscale": [
             [
              0,
              "#0d0887"
             ],
             [
              0.1111111111111111,
              "#46039f"
             ],
             [
              0.2222222222222222,
              "#7201a8"
             ],
             [
              0.3333333333333333,
              "#9c179e"
             ],
             [
              0.4444444444444444,
              "#bd3786"
             ],
             [
              0.5555555555555556,
              "#d8576b"
             ],
             [
              0.6666666666666666,
              "#ed7953"
             ],
             [
              0.7777777777777778,
              "#fb9f3a"
             ],
             [
              0.8888888888888888,
              "#fdca26"
             ],
             [
              1,
              "#f0f921"
             ]
            ],
            "type": "heatmapgl"
           }
          ],
          "histogram": [
           {
            "marker": {
             "pattern": {
              "fillmode": "overlay",
              "size": 10,
              "solidity": 0.2
             }
            },
            "type": "histogram"
           }
          ],
          "histogram2d": [
           {
            "colorbar": {
             "outlinewidth": 0,
             "ticks": ""
            },
            "colorscale": [
             [
              0,
              "#0d0887"
             ],
             [
              0.1111111111111111,
              "#46039f"
             ],
             [
              0.2222222222222222,
              "#7201a8"
             ],
             [
              0.3333333333333333,
              "#9c179e"
             ],
             [
              0.4444444444444444,
              "#bd3786"
             ],
             [
              0.5555555555555556,
              "#d8576b"
             ],
             [
              0.6666666666666666,
              "#ed7953"
             ],
             [
              0.7777777777777778,
              "#fb9f3a"
             ],
             [
              0.8888888888888888,
              "#fdca26"
             ],
             [
              1,
              "#f0f921"
             ]
            ],
            "type": "histogram2d"
           }
          ],
          "histogram2dcontour": [
           {
            "colorbar": {
             "outlinewidth": 0,
             "ticks": ""
            },
            "colorscale": [
             [
              0,
              "#0d0887"
             ],
             [
              0.1111111111111111,
              "#46039f"
             ],
             [
              0.2222222222222222,
              "#7201a8"
             ],
             [
              0.3333333333333333,
              "#9c179e"
             ],
             [
              0.4444444444444444,
              "#bd3786"
             ],
             [
              0.5555555555555556,
              "#d8576b"
             ],
             [
              0.6666666666666666,
              "#ed7953"
             ],
             [
              0.7777777777777778,
              "#fb9f3a"
             ],
             [
              0.8888888888888888,
              "#fdca26"
             ],
             [
              1,
              "#f0f921"
             ]
            ],
            "type": "histogram2dcontour"
           }
          ],
          "mesh3d": [
           {
            "colorbar": {
             "outlinewidth": 0,
             "ticks": ""
            },
            "type": "mesh3d"
           }
          ],
          "parcoords": [
           {
            "line": {
             "colorbar": {
              "outlinewidth": 0,
              "ticks": ""
             }
            },
            "type": "parcoords"
           }
          ],
          "pie": [
           {
            "automargin": true,
            "type": "pie"
           }
          ],
          "scatter": [
           {
            "fillpattern": {
             "fillmode": "overlay",
             "size": 10,
             "solidity": 0.2
            },
            "type": "scatter"
           }
          ],
          "scatter3d": [
           {
            "line": {
             "colorbar": {
              "outlinewidth": 0,
              "ticks": ""
             }
            },
            "marker": {
             "colorbar": {
              "outlinewidth": 0,
              "ticks": ""
             }
            },
            "type": "scatter3d"
           }
          ],
          "scattercarpet": [
           {
            "marker": {
             "colorbar": {
              "outlinewidth": 0,
              "ticks": ""
             }
            },
            "type": "scattercarpet"
           }
          ],
          "scattergeo": [
           {
            "marker": {
             "colorbar": {
              "outlinewidth": 0,
              "ticks": ""
             }
            },
            "type": "scattergeo"
           }
          ],
          "scattergl": [
           {
            "marker": {
             "colorbar": {
              "outlinewidth": 0,
              "ticks": ""
             }
            },
            "type": "scattergl"
           }
          ],
          "scattermapbox": [
           {
            "marker": {
             "colorbar": {
              "outlinewidth": 0,
              "ticks": ""
             }
            },
            "type": "scattermapbox"
           }
          ],
          "scatterpolar": [
           {
            "marker": {
             "colorbar": {
              "outlinewidth": 0,
              "ticks": ""
             }
            },
            "type": "scatterpolar"
           }
          ],
          "scatterpolargl": [
           {
            "marker": {
             "colorbar": {
              "outlinewidth": 0,
              "ticks": ""
             }
            },
            "type": "scatterpolargl"
           }
          ],
          "scatterternary": [
           {
            "marker": {
             "colorbar": {
              "outlinewidth": 0,
              "ticks": ""
             }
            },
            "type": "scatterternary"
           }
          ],
          "surface": [
           {
            "colorbar": {
             "outlinewidth": 0,
             "ticks": ""
            },
            "colorscale": [
             [
              0,
              "#0d0887"
             ],
             [
              0.1111111111111111,
              "#46039f"
             ],
             [
              0.2222222222222222,
              "#7201a8"
             ],
             [
              0.3333333333333333,
              "#9c179e"
             ],
             [
              0.4444444444444444,
              "#bd3786"
             ],
             [
              0.5555555555555556,
              "#d8576b"
             ],
             [
              0.6666666666666666,
              "#ed7953"
             ],
             [
              0.7777777777777778,
              "#fb9f3a"
             ],
             [
              0.8888888888888888,
              "#fdca26"
             ],
             [
              1,
              "#f0f921"
             ]
            ],
            "type": "surface"
           }
          ],
          "table": [
           {
            "cells": {
             "fill": {
              "color": "#EBF0F8"
             },
             "line": {
              "color": "white"
             }
            },
            "header": {
             "fill": {
              "color": "#C8D4E3"
             },
             "line": {
              "color": "white"
             }
            },
            "type": "table"
           }
          ]
         },
         "layout": {
          "annotationdefaults": {
           "arrowcolor": "#2a3f5f",
           "arrowhead": 0,
           "arrowwidth": 1
          },
          "autotypenumbers": "strict",
          "coloraxis": {
           "colorbar": {
            "outlinewidth": 0,
            "ticks": ""
           }
          },
          "colorscale": {
           "diverging": [
            [
             0,
             "#8e0152"
            ],
            [
             0.1,
             "#c51b7d"
            ],
            [
             0.2,
             "#de77ae"
            ],
            [
             0.3,
             "#f1b6da"
            ],
            [
             0.4,
             "#fde0ef"
            ],
            [
             0.5,
             "#f7f7f7"
            ],
            [
             0.6,
             "#e6f5d0"
            ],
            [
             0.7,
             "#b8e186"
            ],
            [
             0.8,
             "#7fbc41"
            ],
            [
             0.9,
             "#4d9221"
            ],
            [
             1,
             "#276419"
            ]
           ],
           "sequential": [
            [
             0,
             "#0d0887"
            ],
            [
             0.1111111111111111,
             "#46039f"
            ],
            [
             0.2222222222222222,
             "#7201a8"
            ],
            [
             0.3333333333333333,
             "#9c179e"
            ],
            [
             0.4444444444444444,
             "#bd3786"
            ],
            [
             0.5555555555555556,
             "#d8576b"
            ],
            [
             0.6666666666666666,
             "#ed7953"
            ],
            [
             0.7777777777777778,
             "#fb9f3a"
            ],
            [
             0.8888888888888888,
             "#fdca26"
            ],
            [
             1,
             "#f0f921"
            ]
           ],
           "sequentialminus": [
            [
             0,
             "#0d0887"
            ],
            [
             0.1111111111111111,
             "#46039f"
            ],
            [
             0.2222222222222222,
             "#7201a8"
            ],
            [
             0.3333333333333333,
             "#9c179e"
            ],
            [
             0.4444444444444444,
             "#bd3786"
            ],
            [
             0.5555555555555556,
             "#d8576b"
            ],
            [
             0.6666666666666666,
             "#ed7953"
            ],
            [
             0.7777777777777778,
             "#fb9f3a"
            ],
            [
             0.8888888888888888,
             "#fdca26"
            ],
            [
             1,
             "#f0f921"
            ]
           ]
          },
          "colorway": [
           "#636efa",
           "#EF553B",
           "#00cc96",
           "#ab63fa",
           "#FFA15A",
           "#19d3f3",
           "#FF6692",
           "#B6E880",
           "#FF97FF",
           "#FECB52"
          ],
          "font": {
           "color": "#2a3f5f"
          },
          "geo": {
           "bgcolor": "white",
           "lakecolor": "white",
           "landcolor": "#E5ECF6",
           "showlakes": true,
           "showland": true,
           "subunitcolor": "white"
          },
          "hoverlabel": {
           "align": "left"
          },
          "hovermode": "closest",
          "mapbox": {
           "style": "light"
          },
          "paper_bgcolor": "white",
          "plot_bgcolor": "#E5ECF6",
          "polar": {
           "angularaxis": {
            "gridcolor": "white",
            "linecolor": "white",
            "ticks": ""
           },
           "bgcolor": "#E5ECF6",
           "radialaxis": {
            "gridcolor": "white",
            "linecolor": "white",
            "ticks": ""
           }
          },
          "scene": {
           "xaxis": {
            "backgroundcolor": "#E5ECF6",
            "gridcolor": "white",
            "gridwidth": 2,
            "linecolor": "white",
            "showbackground": true,
            "ticks": "",
            "zerolinecolor": "white"
           },
           "yaxis": {
            "backgroundcolor": "#E5ECF6",
            "gridcolor": "white",
            "gridwidth": 2,
            "linecolor": "white",
            "showbackground": true,
            "ticks": "",
            "zerolinecolor": "white"
           },
           "zaxis": {
            "backgroundcolor": "#E5ECF6",
            "gridcolor": "white",
            "gridwidth": 2,
            "linecolor": "white",
            "showbackground": true,
            "ticks": "",
            "zerolinecolor": "white"
           }
          },
          "shapedefaults": {
           "line": {
            "color": "#2a3f5f"
           }
          },
          "ternary": {
           "aaxis": {
            "gridcolor": "white",
            "linecolor": "white",
            "ticks": ""
           },
           "baxis": {
            "gridcolor": "white",
            "linecolor": "white",
            "ticks": ""
           },
           "bgcolor": "#E5ECF6",
           "caxis": {
            "gridcolor": "white",
            "linecolor": "white",
            "ticks": ""
           }
          },
          "title": {
           "x": 0.05
          },
          "xaxis": {
           "automargin": true,
           "gridcolor": "white",
           "linecolor": "white",
           "ticks": "",
           "title": {
            "standoff": 15
           },
           "zerolinecolor": "white",
           "zerolinewidth": 2
          },
          "yaxis": {
           "automargin": true,
           "gridcolor": "white",
           "linecolor": "white",
           "ticks": "",
           "title": {
            "standoff": 15
           },
           "zerolinecolor": "white",
           "zerolinewidth": 2
          }
         }
        },
        "title": {
         "text": "Distribuição de resultados para cada ativo com leak=False"
        },
        "xaxis": {
         "anchor": "y",
         "domain": [
          0,
          1
         ],
         "title": {
          "text": "asset"
         }
        },
        "yaxis": {
         "anchor": "x",
         "domain": [
          0,
          1
         ],
         "title": {
          "text": "R-squared (R2)"
         }
        }
       }
      }
     },
     "metadata": {},
     "output_type": "display_data"
    }
   ],
   "source": [
    "for leak in [True, False]:\n",
    "        \n",
    "    fig = px.box(\n",
    "        macro_dummy[macro_dummy.leak == leak], x=\"asset\", \n",
    "        y=\"f1-score\", \n",
    "        points=\"all\",\n",
    "        color = 'domain',\n",
    "        title = f'Distribuição de resultados para cada ativo com leak={leak}')\n",
    "    \n",
    "    fig.write_image(PATH_REPORTS + f\"/images/box_plot_asset_dummy_leak={leak}_clf.png\")\n",
    "    fig.show()\n",
    "\n",
    "for leak in [True, False]:\n",
    "        \n",
    "    fig = px.box(\n",
    "        reg_dummy[reg_dummy.leak == leak], x=\"asset\", \n",
    "        y=\"R-squared (R2)\", \n",
    "        points=\"all\", \n",
    "        color = 'domain',\n",
    "        title = f'Distribuição de resultados para cada ativo com leak={leak}')\n",
    "    \n",
    "    fig.write_image(PATH_REPORTS + f\"/images/box_plot_asset_dummy_leak={leak}_ref.png\")\n",
    "    fig.show()"
   ]
  },
  {
   "cell_type": "markdown",
   "metadata": {},
   "source": [
    "#### NN results"
   ]
  },
  {
   "cell_type": "code",
   "execution_count": 15,
   "metadata": {},
   "outputs": [],
   "source": [
    "# general \n",
    "macro_clf = final_results_clf[(final_results_clf['class'] == 'macro avg')].round(5)\n",
    "reg= final_results_reg.round(5)"
   ]
  },
  {
   "cell_type": "code",
   "execution_count": 16,
   "metadata": {},
   "outputs": [
    {
     "name": "stdout",
     "output_type": "stream",
     "text": [
      "label: diff_close_mean_z_score_7 - leak: False\n"
     ]
    },
    {
     "data": {
      "application/vnd.plotly.v1+json": {
       "config": {
        "plotlyServerURL": "https://plot.ly"
       },
       "data": [
        {
         "alignmentgroup": "True",
         "boxpoints": "all",
         "hovertemplate": "model=%{x}<br>R-squared (R2)=%{y}<extra></extra>",
         "legendgroup": "",
         "marker": {
          "color": "#636efa"
         },
         "name": "",
         "notched": false,
         "offsetgroup": "",
         "orientation": "v",
         "showlegend": false,
         "type": "box",
         "x": [
          "LSTM_with_Attention",
          "LSTM_with_Attention",
          "LSTM_with_Attention",
          "LSTM_with_Attention",
          "LSTM_with_Attention",
          "LSTM_with_Attention",
          "LSTM_with_Attention",
          "LSTM_with_Attention",
          "LSTM_with_Attention",
          "LSTM_with_Attention",
          "LSTM_with_Attention",
          "LSTM_with_Attention",
          "LSTM_with_Attention",
          "LSTM_with_Attention",
          "LSTM_with_Attention",
          "LSTM_with_Attention",
          "LSTM_with_Attention",
          "LSTM_with_Attention",
          "LSTM_with_Attention",
          "LSTM_with_Attention",
          "LSTM_with_Attention",
          "LSTM_with_Attention",
          "LSTM_with_Attention",
          "LSTM_with_Attention",
          "LSTM_with_Attention",
          "LSTM_with_Attention",
          "LSTM_with_Attention",
          "LSTM_with_Attention",
          "LSTM_with_Attention",
          "LSTM_with_Attention",
          "LSTM_with_Attention",
          "LSTM_with_Attention",
          "LSTM_with_Attention",
          "LSTM_with_Attention",
          "LSTM_with_Attention",
          "LSTM_with_Attention",
          "LSTM_with_Attention",
          "LSTM_with_Attention",
          "LSTM_with_Attention",
          "LSTM_with_Attention",
          "LSTM_with_Attention",
          "LSTM_with_Attention",
          "LSTM_with_Attention",
          "LSTM_with_Attention",
          "LSTM_with_Attention",
          "LSTM_with_Attention",
          "LSTM_with_Attention",
          "LSTM_with_Attention",
          "LSTM_with_Attention",
          "LSTM_with_Attention",
          "LSTM_with_Attention",
          "LSTM_with_Attention",
          "LSTM_with_Attention",
          "LSTM_with_Attention",
          "LSTM_with_Attention",
          "LSTM_with_Attention",
          "LSTM_with_Attention",
          "LSTM_with_Attention",
          "LSTM_with_Attention",
          "LSTM_with_Attention",
          "LSTM_with_Attention",
          "LSTM_with_Attention",
          "LSTM_with_Attention",
          "LSTM_with_Attention",
          "LSTM_with_Attention",
          "LSTM_with_Attention",
          "LSTM_with_Attention",
          "LSTM_with_Attention",
          "LSTM_with_Attention",
          "LSTM_with_Attention",
          "LSTM_with_Attention",
          "LSTM_with_Attention",
          "LSTM_with_Attention",
          "LSTM_with_Attention",
          "LSTM_with_Attention",
          "LSTM_with_Attention",
          "LSTM_with_Attention",
          "LSTM_with_Attention",
          "LSTM_with_Attention",
          "LSTM_with_Attention",
          "LSTM_with_Attention",
          "LSTM_with_Attention",
          "LSTM_with_Attention",
          "LSTM_with_Attention",
          "LSTM_with_Attention",
          "LSTM_with_Attention",
          "LSTM_with_Attention",
          "LSTM_with_Attention",
          "LSTM_with_Attention",
          "LSTM_with_Attention",
          "LSTM_with_Attention",
          "LSTM_with_Attention",
          "LSTM_with_Attention",
          "LSTM_with_Attention",
          "LSTM_with_Attention",
          "LSTM_with_Attention",
          "LSTM_with_Attention",
          "LSTM_with_Attention",
          "LSTM_with_Attention",
          "LSTM_with_Attention",
          "LSTM_with_Attention",
          "LSTM_with_Attention",
          "LSTM_with_Attention",
          "LSTM_with_Attention",
          "Dummy_model",
          "Dummy_model",
          "Dummy_model",
          "Dummy_model",
          "Dummy_model",
          "Dummy_model",
          "Dummy_model",
          "Dummy_model"
         ],
         "x0": " ",
         "xaxis": "x",
         "y": [
          0.54717,
          0.58631,
          0.64561,
          0.55713,
          0.5137,
          0.58966,
          0.55071,
          0.61309,
          0.54336,
          0.58459,
          0.64327,
          0.55798,
          0.51135,
          0.5887,
          0.54812,
          0.61245,
          0.54463,
          0.58461,
          0.64168,
          0.55742,
          0.51583,
          0.58506,
          0.5429,
          0.61576,
          0.54623,
          0.5843,
          0.63998,
          0.55613,
          0.51733,
          0.58937,
          0.54267,
          0.61856,
          0.548,
          0.58502,
          0.64388,
          0.55683,
          0.51868,
          0.5906,
          0.54479,
          0.62001,
          0.5476,
          0.58485,
          0.64129,
          0.55572,
          0.52215,
          0.58856,
          0.54341,
          0.61799,
          0.54742,
          0.5864,
          0.63933,
          0.55381,
          0.52155,
          0.5908,
          0.54785,
          0.62007,
          0.54679,
          0.57967,
          0.63621,
          0.55307,
          0.51462,
          0.58623,
          0.54853,
          0.61847,
          0.54699,
          0.58291,
          0.64543,
          0.55079,
          0.51416,
          0.57735,
          0.53969,
          0.61399,
          0.54705,
          0.58186,
          0.64355,
          0.54462,
          0.50861,
          0.57536,
          0.5477,
          0.61548,
          0.54928,
          0.57897,
          0.6396,
          0.54067,
          0.51065,
          0.57329,
          0.54224,
          0.61825,
          0.54844,
          0.57959,
          0.63619,
          0.54915,
          0.51306,
          0.58323,
          0.5509,
          0.6169,
          0.54677,
          0.58125,
          0.63448,
          0.54027,
          0.51529,
          0.58254,
          0.5454,
          0.60962,
          0.48052,
          0.53289,
          0.60929,
          0.49371,
          0.43751,
          0.53766,
          0.48407,
          0.5671
         ],
         "y0": " ",
         "yaxis": "y"
        }
       ],
       "layout": {
        "boxmode": "group",
        "legend": {
         "tracegroupgap": 0
        },
        "template": {
         "data": {
          "bar": [
           {
            "error_x": {
             "color": "#2a3f5f"
            },
            "error_y": {
             "color": "#2a3f5f"
            },
            "marker": {
             "line": {
              "color": "#E5ECF6",
              "width": 0.5
             },
             "pattern": {
              "fillmode": "overlay",
              "size": 10,
              "solidity": 0.2
             }
            },
            "type": "bar"
           }
          ],
          "barpolar": [
           {
            "marker": {
             "line": {
              "color": "#E5ECF6",
              "width": 0.5
             },
             "pattern": {
              "fillmode": "overlay",
              "size": 10,
              "solidity": 0.2
             }
            },
            "type": "barpolar"
           }
          ],
          "carpet": [
           {
            "aaxis": {
             "endlinecolor": "#2a3f5f",
             "gridcolor": "white",
             "linecolor": "white",
             "minorgridcolor": "white",
             "startlinecolor": "#2a3f5f"
            },
            "baxis": {
             "endlinecolor": "#2a3f5f",
             "gridcolor": "white",
             "linecolor": "white",
             "minorgridcolor": "white",
             "startlinecolor": "#2a3f5f"
            },
            "type": "carpet"
           }
          ],
          "choropleth": [
           {
            "colorbar": {
             "outlinewidth": 0,
             "ticks": ""
            },
            "type": "choropleth"
           }
          ],
          "contour": [
           {
            "colorbar": {
             "outlinewidth": 0,
             "ticks": ""
            },
            "colorscale": [
             [
              0,
              "#0d0887"
             ],
             [
              0.1111111111111111,
              "#46039f"
             ],
             [
              0.2222222222222222,
              "#7201a8"
             ],
             [
              0.3333333333333333,
              "#9c179e"
             ],
             [
              0.4444444444444444,
              "#bd3786"
             ],
             [
              0.5555555555555556,
              "#d8576b"
             ],
             [
              0.6666666666666666,
              "#ed7953"
             ],
             [
              0.7777777777777778,
              "#fb9f3a"
             ],
             [
              0.8888888888888888,
              "#fdca26"
             ],
             [
              1,
              "#f0f921"
             ]
            ],
            "type": "contour"
           }
          ],
          "contourcarpet": [
           {
            "colorbar": {
             "outlinewidth": 0,
             "ticks": ""
            },
            "type": "contourcarpet"
           }
          ],
          "heatmap": [
           {
            "colorbar": {
             "outlinewidth": 0,
             "ticks": ""
            },
            "colorscale": [
             [
              0,
              "#0d0887"
             ],
             [
              0.1111111111111111,
              "#46039f"
             ],
             [
              0.2222222222222222,
              "#7201a8"
             ],
             [
              0.3333333333333333,
              "#9c179e"
             ],
             [
              0.4444444444444444,
              "#bd3786"
             ],
             [
              0.5555555555555556,
              "#d8576b"
             ],
             [
              0.6666666666666666,
              "#ed7953"
             ],
             [
              0.7777777777777778,
              "#fb9f3a"
             ],
             [
              0.8888888888888888,
              "#fdca26"
             ],
             [
              1,
              "#f0f921"
             ]
            ],
            "type": "heatmap"
           }
          ],
          "heatmapgl": [
           {
            "colorbar": {
             "outlinewidth": 0,
             "ticks": ""
            },
            "colorscale": [
             [
              0,
              "#0d0887"
             ],
             [
              0.1111111111111111,
              "#46039f"
             ],
             [
              0.2222222222222222,
              "#7201a8"
             ],
             [
              0.3333333333333333,
              "#9c179e"
             ],
             [
              0.4444444444444444,
              "#bd3786"
             ],
             [
              0.5555555555555556,
              "#d8576b"
             ],
             [
              0.6666666666666666,
              "#ed7953"
             ],
             [
              0.7777777777777778,
              "#fb9f3a"
             ],
             [
              0.8888888888888888,
              "#fdca26"
             ],
             [
              1,
              "#f0f921"
             ]
            ],
            "type": "heatmapgl"
           }
          ],
          "histogram": [
           {
            "marker": {
             "pattern": {
              "fillmode": "overlay",
              "size": 10,
              "solidity": 0.2
             }
            },
            "type": "histogram"
           }
          ],
          "histogram2d": [
           {
            "colorbar": {
             "outlinewidth": 0,
             "ticks": ""
            },
            "colorscale": [
             [
              0,
              "#0d0887"
             ],
             [
              0.1111111111111111,
              "#46039f"
             ],
             [
              0.2222222222222222,
              "#7201a8"
             ],
             [
              0.3333333333333333,
              "#9c179e"
             ],
             [
              0.4444444444444444,
              "#bd3786"
             ],
             [
              0.5555555555555556,
              "#d8576b"
             ],
             [
              0.6666666666666666,
              "#ed7953"
             ],
             [
              0.7777777777777778,
              "#fb9f3a"
             ],
             [
              0.8888888888888888,
              "#fdca26"
             ],
             [
              1,
              "#f0f921"
             ]
            ],
            "type": "histogram2d"
           }
          ],
          "histogram2dcontour": [
           {
            "colorbar": {
             "outlinewidth": 0,
             "ticks": ""
            },
            "colorscale": [
             [
              0,
              "#0d0887"
             ],
             [
              0.1111111111111111,
              "#46039f"
             ],
             [
              0.2222222222222222,
              "#7201a8"
             ],
             [
              0.3333333333333333,
              "#9c179e"
             ],
             [
              0.4444444444444444,
              "#bd3786"
             ],
             [
              0.5555555555555556,
              "#d8576b"
             ],
             [
              0.6666666666666666,
              "#ed7953"
             ],
             [
              0.7777777777777778,
              "#fb9f3a"
             ],
             [
              0.8888888888888888,
              "#fdca26"
             ],
             [
              1,
              "#f0f921"
             ]
            ],
            "type": "histogram2dcontour"
           }
          ],
          "mesh3d": [
           {
            "colorbar": {
             "outlinewidth": 0,
             "ticks": ""
            },
            "type": "mesh3d"
           }
          ],
          "parcoords": [
           {
            "line": {
             "colorbar": {
              "outlinewidth": 0,
              "ticks": ""
             }
            },
            "type": "parcoords"
           }
          ],
          "pie": [
           {
            "automargin": true,
            "type": "pie"
           }
          ],
          "scatter": [
           {
            "fillpattern": {
             "fillmode": "overlay",
             "size": 10,
             "solidity": 0.2
            },
            "type": "scatter"
           }
          ],
          "scatter3d": [
           {
            "line": {
             "colorbar": {
              "outlinewidth": 0,
              "ticks": ""
             }
            },
            "marker": {
             "colorbar": {
              "outlinewidth": 0,
              "ticks": ""
             }
            },
            "type": "scatter3d"
           }
          ],
          "scattercarpet": [
           {
            "marker": {
             "colorbar": {
              "outlinewidth": 0,
              "ticks": ""
             }
            },
            "type": "scattercarpet"
           }
          ],
          "scattergeo": [
           {
            "marker": {
             "colorbar": {
              "outlinewidth": 0,
              "ticks": ""
             }
            },
            "type": "scattergeo"
           }
          ],
          "scattergl": [
           {
            "marker": {
             "colorbar": {
              "outlinewidth": 0,
              "ticks": ""
             }
            },
            "type": "scattergl"
           }
          ],
          "scattermapbox": [
           {
            "marker": {
             "colorbar": {
              "outlinewidth": 0,
              "ticks": ""
             }
            },
            "type": "scattermapbox"
           }
          ],
          "scatterpolar": [
           {
            "marker": {
             "colorbar": {
              "outlinewidth": 0,
              "ticks": ""
             }
            },
            "type": "scatterpolar"
           }
          ],
          "scatterpolargl": [
           {
            "marker": {
             "colorbar": {
              "outlinewidth": 0,
              "ticks": ""
             }
            },
            "type": "scatterpolargl"
           }
          ],
          "scatterternary": [
           {
            "marker": {
             "colorbar": {
              "outlinewidth": 0,
              "ticks": ""
             }
            },
            "type": "scatterternary"
           }
          ],
          "surface": [
           {
            "colorbar": {
             "outlinewidth": 0,
             "ticks": ""
            },
            "colorscale": [
             [
              0,
              "#0d0887"
             ],
             [
              0.1111111111111111,
              "#46039f"
             ],
             [
              0.2222222222222222,
              "#7201a8"
             ],
             [
              0.3333333333333333,
              "#9c179e"
             ],
             [
              0.4444444444444444,
              "#bd3786"
             ],
             [
              0.5555555555555556,
              "#d8576b"
             ],
             [
              0.6666666666666666,
              "#ed7953"
             ],
             [
              0.7777777777777778,
              "#fb9f3a"
             ],
             [
              0.8888888888888888,
              "#fdca26"
             ],
             [
              1,
              "#f0f921"
             ]
            ],
            "type": "surface"
           }
          ],
          "table": [
           {
            "cells": {
             "fill": {
              "color": "#EBF0F8"
             },
             "line": {
              "color": "white"
             }
            },
            "header": {
             "fill": {
              "color": "#C8D4E3"
             },
             "line": {
              "color": "white"
             }
            },
            "type": "table"
           }
          ]
         },
         "layout": {
          "annotationdefaults": {
           "arrowcolor": "#2a3f5f",
           "arrowhead": 0,
           "arrowwidth": 1
          },
          "autotypenumbers": "strict",
          "coloraxis": {
           "colorbar": {
            "outlinewidth": 0,
            "ticks": ""
           }
          },
          "colorscale": {
           "diverging": [
            [
             0,
             "#8e0152"
            ],
            [
             0.1,
             "#c51b7d"
            ],
            [
             0.2,
             "#de77ae"
            ],
            [
             0.3,
             "#f1b6da"
            ],
            [
             0.4,
             "#fde0ef"
            ],
            [
             0.5,
             "#f7f7f7"
            ],
            [
             0.6,
             "#e6f5d0"
            ],
            [
             0.7,
             "#b8e186"
            ],
            [
             0.8,
             "#7fbc41"
            ],
            [
             0.9,
             "#4d9221"
            ],
            [
             1,
             "#276419"
            ]
           ],
           "sequential": [
            [
             0,
             "#0d0887"
            ],
            [
             0.1111111111111111,
             "#46039f"
            ],
            [
             0.2222222222222222,
             "#7201a8"
            ],
            [
             0.3333333333333333,
             "#9c179e"
            ],
            [
             0.4444444444444444,
             "#bd3786"
            ],
            [
             0.5555555555555556,
             "#d8576b"
            ],
            [
             0.6666666666666666,
             "#ed7953"
            ],
            [
             0.7777777777777778,
             "#fb9f3a"
            ],
            [
             0.8888888888888888,
             "#fdca26"
            ],
            [
             1,
             "#f0f921"
            ]
           ],
           "sequentialminus": [
            [
             0,
             "#0d0887"
            ],
            [
             0.1111111111111111,
             "#46039f"
            ],
            [
             0.2222222222222222,
             "#7201a8"
            ],
            [
             0.3333333333333333,
             "#9c179e"
            ],
            [
             0.4444444444444444,
             "#bd3786"
            ],
            [
             0.5555555555555556,
             "#d8576b"
            ],
            [
             0.6666666666666666,
             "#ed7953"
            ],
            [
             0.7777777777777778,
             "#fb9f3a"
            ],
            [
             0.8888888888888888,
             "#fdca26"
            ],
            [
             1,
             "#f0f921"
            ]
           ]
          },
          "colorway": [
           "#636efa",
           "#EF553B",
           "#00cc96",
           "#ab63fa",
           "#FFA15A",
           "#19d3f3",
           "#FF6692",
           "#B6E880",
           "#FF97FF",
           "#FECB52"
          ],
          "font": {
           "color": "#2a3f5f"
          },
          "geo": {
           "bgcolor": "white",
           "lakecolor": "white",
           "landcolor": "#E5ECF6",
           "showlakes": true,
           "showland": true,
           "subunitcolor": "white"
          },
          "hoverlabel": {
           "align": "left"
          },
          "hovermode": "closest",
          "mapbox": {
           "style": "light"
          },
          "paper_bgcolor": "white",
          "plot_bgcolor": "#E5ECF6",
          "polar": {
           "angularaxis": {
            "gridcolor": "white",
            "linecolor": "white",
            "ticks": ""
           },
           "bgcolor": "#E5ECF6",
           "radialaxis": {
            "gridcolor": "white",
            "linecolor": "white",
            "ticks": ""
           }
          },
          "scene": {
           "xaxis": {
            "backgroundcolor": "#E5ECF6",
            "gridcolor": "white",
            "gridwidth": 2,
            "linecolor": "white",
            "showbackground": true,
            "ticks": "",
            "zerolinecolor": "white"
           },
           "yaxis": {
            "backgroundcolor": "#E5ECF6",
            "gridcolor": "white",
            "gridwidth": 2,
            "linecolor": "white",
            "showbackground": true,
            "ticks": "",
            "zerolinecolor": "white"
           },
           "zaxis": {
            "backgroundcolor": "#E5ECF6",
            "gridcolor": "white",
            "gridwidth": 2,
            "linecolor": "white",
            "showbackground": true,
            "ticks": "",
            "zerolinecolor": "white"
           }
          },
          "shapedefaults": {
           "line": {
            "color": "#2a3f5f"
           }
          },
          "ternary": {
           "aaxis": {
            "gridcolor": "white",
            "linecolor": "white",
            "ticks": ""
           },
           "baxis": {
            "gridcolor": "white",
            "linecolor": "white",
            "ticks": ""
           },
           "bgcolor": "#E5ECF6",
           "caxis": {
            "gridcolor": "white",
            "linecolor": "white",
            "ticks": ""
           }
          },
          "title": {
           "x": 0.05
          },
          "xaxis": {
           "automargin": true,
           "gridcolor": "white",
           "linecolor": "white",
           "ticks": "",
           "title": {
            "standoff": 15
           },
           "zerolinecolor": "white",
           "zerolinewidth": 2
          },
          "yaxis": {
           "automargin": true,
           "gridcolor": "white",
           "linecolor": "white",
           "ticks": "",
           "title": {
            "standoff": 15
           },
           "zerolinecolor": "white",
           "zerolinewidth": 2
          }
         }
        },
        "title": {
         "text": "Distribuição de f1 para os experimentos \n label:z_7|leak=False"
        },
        "xaxis": {
         "anchor": "y",
         "domain": [
          0,
          1
         ],
         "title": {
          "text": "model"
         }
        },
        "yaxis": {
         "anchor": "x",
         "domain": [
          0,
          1
         ],
         "title": {
          "text": "R-squared (R2)"
         }
        }
       }
      }
     },
     "metadata": {},
     "output_type": "display_data"
    },
    {
     "name": "stdout",
     "output_type": "stream",
     "text": [
      "label: diff_close_mean_z_score_14 - leak: False\n"
     ]
    },
    {
     "data": {
      "application/vnd.plotly.v1+json": {
       "config": {
        "plotlyServerURL": "https://plot.ly"
       },
       "data": [
        {
         "alignmentgroup": "True",
         "boxpoints": "all",
         "hovertemplate": "model=%{x}<br>R-squared (R2)=%{y}<extra></extra>",
         "legendgroup": "",
         "marker": {
          "color": "#636efa"
         },
         "name": "",
         "notched": false,
         "offsetgroup": "",
         "orientation": "v",
         "showlegend": false,
         "type": "box",
         "x": [
          "LSTM_with_Attention",
          "LSTM_with_Attention",
          "LSTM_with_Attention",
          "LSTM_with_Attention",
          "LSTM_with_Attention",
          "LSTM_with_Attention",
          "LSTM_with_Attention",
          "LSTM_with_Attention",
          "LSTM_with_Attention",
          "LSTM_with_Attention",
          "LSTM_with_Attention",
          "LSTM_with_Attention",
          "LSTM_with_Attention",
          "LSTM_with_Attention",
          "LSTM_with_Attention",
          "LSTM_with_Attention",
          "LSTM_with_Attention",
          "LSTM_with_Attention",
          "LSTM_with_Attention",
          "LSTM_with_Attention",
          "LSTM_with_Attention",
          "LSTM_with_Attention",
          "LSTM_with_Attention",
          "LSTM_with_Attention",
          "LSTM_with_Attention",
          "LSTM_with_Attention",
          "LSTM_with_Attention",
          "LSTM_with_Attention",
          "LSTM_with_Attention",
          "LSTM_with_Attention",
          "LSTM_with_Attention",
          "LSTM_with_Attention",
          "LSTM_with_Attention",
          "LSTM_with_Attention",
          "LSTM_with_Attention",
          "LSTM_with_Attention",
          "LSTM_with_Attention",
          "LSTM_with_Attention",
          "LSTM_with_Attention",
          "LSTM_with_Attention",
          "LSTM_with_Attention",
          "LSTM_with_Attention",
          "LSTM_with_Attention",
          "LSTM_with_Attention",
          "LSTM_with_Attention",
          "LSTM_with_Attention",
          "LSTM_with_Attention",
          "LSTM_with_Attention",
          "LSTM_with_Attention",
          "LSTM_with_Attention",
          "LSTM_with_Attention",
          "LSTM_with_Attention",
          "LSTM_with_Attention",
          "LSTM_with_Attention",
          "LSTM_with_Attention",
          "LSTM_with_Attention",
          "LSTM_with_Attention",
          "LSTM_with_Attention",
          "LSTM_with_Attention",
          "LSTM_with_Attention",
          "LSTM_with_Attention",
          "LSTM_with_Attention",
          "LSTM_with_Attention",
          "LSTM_with_Attention",
          "LSTM_with_Attention",
          "LSTM_with_Attention",
          "LSTM_with_Attention",
          "LSTM_with_Attention",
          "LSTM_with_Attention",
          "LSTM_with_Attention",
          "LSTM_with_Attention",
          "LSTM_with_Attention",
          "LSTM_with_Attention",
          "LSTM_with_Attention",
          "LSTM_with_Attention",
          "LSTM_with_Attention",
          "LSTM_with_Attention",
          "LSTM_with_Attention",
          "LSTM_with_Attention",
          "LSTM_with_Attention",
          "LSTM_with_Attention",
          "LSTM_with_Attention",
          "LSTM_with_Attention",
          "LSTM_with_Attention",
          "LSTM_with_Attention",
          "LSTM_with_Attention",
          "LSTM_with_Attention",
          "LSTM_with_Attention",
          "LSTM_with_Attention",
          "LSTM_with_Attention",
          "LSTM_with_Attention",
          "LSTM_with_Attention",
          "LSTM_with_Attention",
          "LSTM_with_Attention",
          "LSTM_with_Attention",
          "LSTM_with_Attention",
          "LSTM_with_Attention",
          "LSTM_with_Attention",
          "LSTM_with_Attention",
          "LSTM_with_Attention",
          "LSTM_with_Attention",
          "LSTM_with_Attention",
          "LSTM_with_Attention",
          "LSTM_with_Attention",
          "Dummy_model",
          "Dummy_model",
          "Dummy_model",
          "Dummy_model",
          "Dummy_model",
          "Dummy_model",
          "Dummy_model",
          "Dummy_model"
         ],
         "x0": " ",
         "xaxis": "x",
         "y": [
          0.7273,
          0.74965,
          0.79204,
          0.7643,
          0.68552,
          0.78711,
          0.75498,
          0.75925,
          0.72828,
          0.748,
          0.79116,
          0.76319,
          0.68517,
          0.78514,
          0.75313,
          0.75811,
          0.73144,
          0.74822,
          0.78889,
          0.75942,
          0.68316,
          0.78248,
          0.75223,
          0.75922,
          0.73024,
          0.74658,
          0.78814,
          0.75888,
          0.68446,
          0.7843,
          0.7523,
          0.75856,
          0.72995,
          0.74518,
          0.78869,
          0.76017,
          0.68475,
          0.78342,
          0.75188,
          0.76027,
          0.73007,
          0.74707,
          0.78659,
          0.7592,
          0.68511,
          0.78264,
          0.75069,
          0.75996,
          0.72863,
          0.74541,
          0.78632,
          0.75812,
          0.68156,
          0.78519,
          0.74915,
          0.75884,
          0.73011,
          0.74283,
          0.78395,
          0.75811,
          0.68377,
          0.77858,
          0.75087,
          0.75437,
          0.72753,
          0.74211,
          0.79711,
          0.75862,
          0.68614,
          0.78217,
          0.74946,
          0.75092,
          0.74236,
          0.73596,
          0.79215,
          0.76044,
          0.68333,
          0.77804,
          0.7484,
          0.75044,
          0.73541,
          0.7341,
          0.79285,
          0.76451,
          0.68724,
          0.78243,
          0.74949,
          0.7606,
          0.73796,
          0.73781,
          0.79428,
          0.76353,
          0.68949,
          0.77952,
          0.74927,
          0.76298,
          0.74105,
          0.74247,
          0.79624,
          0.75898,
          0.68753,
          0.77677,
          0.74922,
          0.76366,
          0.7086,
          0.73169,
          0.78088,
          0.74812,
          0.6576,
          0.77542,
          0.73707,
          0.74251
         ],
         "y0": " ",
         "yaxis": "y"
        }
       ],
       "layout": {
        "boxmode": "group",
        "legend": {
         "tracegroupgap": 0
        },
        "template": {
         "data": {
          "bar": [
           {
            "error_x": {
             "color": "#2a3f5f"
            },
            "error_y": {
             "color": "#2a3f5f"
            },
            "marker": {
             "line": {
              "color": "#E5ECF6",
              "width": 0.5
             },
             "pattern": {
              "fillmode": "overlay",
              "size": 10,
              "solidity": 0.2
             }
            },
            "type": "bar"
           }
          ],
          "barpolar": [
           {
            "marker": {
             "line": {
              "color": "#E5ECF6",
              "width": 0.5
             },
             "pattern": {
              "fillmode": "overlay",
              "size": 10,
              "solidity": 0.2
             }
            },
            "type": "barpolar"
           }
          ],
          "carpet": [
           {
            "aaxis": {
             "endlinecolor": "#2a3f5f",
             "gridcolor": "white",
             "linecolor": "white",
             "minorgridcolor": "white",
             "startlinecolor": "#2a3f5f"
            },
            "baxis": {
             "endlinecolor": "#2a3f5f",
             "gridcolor": "white",
             "linecolor": "white",
             "minorgridcolor": "white",
             "startlinecolor": "#2a3f5f"
            },
            "type": "carpet"
           }
          ],
          "choropleth": [
           {
            "colorbar": {
             "outlinewidth": 0,
             "ticks": ""
            },
            "type": "choropleth"
           }
          ],
          "contour": [
           {
            "colorbar": {
             "outlinewidth": 0,
             "ticks": ""
            },
            "colorscale": [
             [
              0,
              "#0d0887"
             ],
             [
              0.1111111111111111,
              "#46039f"
             ],
             [
              0.2222222222222222,
              "#7201a8"
             ],
             [
              0.3333333333333333,
              "#9c179e"
             ],
             [
              0.4444444444444444,
              "#bd3786"
             ],
             [
              0.5555555555555556,
              "#d8576b"
             ],
             [
              0.6666666666666666,
              "#ed7953"
             ],
             [
              0.7777777777777778,
              "#fb9f3a"
             ],
             [
              0.8888888888888888,
              "#fdca26"
             ],
             [
              1,
              "#f0f921"
             ]
            ],
            "type": "contour"
           }
          ],
          "contourcarpet": [
           {
            "colorbar": {
             "outlinewidth": 0,
             "ticks": ""
            },
            "type": "contourcarpet"
           }
          ],
          "heatmap": [
           {
            "colorbar": {
             "outlinewidth": 0,
             "ticks": ""
            },
            "colorscale": [
             [
              0,
              "#0d0887"
             ],
             [
              0.1111111111111111,
              "#46039f"
             ],
             [
              0.2222222222222222,
              "#7201a8"
             ],
             [
              0.3333333333333333,
              "#9c179e"
             ],
             [
              0.4444444444444444,
              "#bd3786"
             ],
             [
              0.5555555555555556,
              "#d8576b"
             ],
             [
              0.6666666666666666,
              "#ed7953"
             ],
             [
              0.7777777777777778,
              "#fb9f3a"
             ],
             [
              0.8888888888888888,
              "#fdca26"
             ],
             [
              1,
              "#f0f921"
             ]
            ],
            "type": "heatmap"
           }
          ],
          "heatmapgl": [
           {
            "colorbar": {
             "outlinewidth": 0,
             "ticks": ""
            },
            "colorscale": [
             [
              0,
              "#0d0887"
             ],
             [
              0.1111111111111111,
              "#46039f"
             ],
             [
              0.2222222222222222,
              "#7201a8"
             ],
             [
              0.3333333333333333,
              "#9c179e"
             ],
             [
              0.4444444444444444,
              "#bd3786"
             ],
             [
              0.5555555555555556,
              "#d8576b"
             ],
             [
              0.6666666666666666,
              "#ed7953"
             ],
             [
              0.7777777777777778,
              "#fb9f3a"
             ],
             [
              0.8888888888888888,
              "#fdca26"
             ],
             [
              1,
              "#f0f921"
             ]
            ],
            "type": "heatmapgl"
           }
          ],
          "histogram": [
           {
            "marker": {
             "pattern": {
              "fillmode": "overlay",
              "size": 10,
              "solidity": 0.2
             }
            },
            "type": "histogram"
           }
          ],
          "histogram2d": [
           {
            "colorbar": {
             "outlinewidth": 0,
             "ticks": ""
            },
            "colorscale": [
             [
              0,
              "#0d0887"
             ],
             [
              0.1111111111111111,
              "#46039f"
             ],
             [
              0.2222222222222222,
              "#7201a8"
             ],
             [
              0.3333333333333333,
              "#9c179e"
             ],
             [
              0.4444444444444444,
              "#bd3786"
             ],
             [
              0.5555555555555556,
              "#d8576b"
             ],
             [
              0.6666666666666666,
              "#ed7953"
             ],
             [
              0.7777777777777778,
              "#fb9f3a"
             ],
             [
              0.8888888888888888,
              "#fdca26"
             ],
             [
              1,
              "#f0f921"
             ]
            ],
            "type": "histogram2d"
           }
          ],
          "histogram2dcontour": [
           {
            "colorbar": {
             "outlinewidth": 0,
             "ticks": ""
            },
            "colorscale": [
             [
              0,
              "#0d0887"
             ],
             [
              0.1111111111111111,
              "#46039f"
             ],
             [
              0.2222222222222222,
              "#7201a8"
             ],
             [
              0.3333333333333333,
              "#9c179e"
             ],
             [
              0.4444444444444444,
              "#bd3786"
             ],
             [
              0.5555555555555556,
              "#d8576b"
             ],
             [
              0.6666666666666666,
              "#ed7953"
             ],
             [
              0.7777777777777778,
              "#fb9f3a"
             ],
             [
              0.8888888888888888,
              "#fdca26"
             ],
             [
              1,
              "#f0f921"
             ]
            ],
            "type": "histogram2dcontour"
           }
          ],
          "mesh3d": [
           {
            "colorbar": {
             "outlinewidth": 0,
             "ticks": ""
            },
            "type": "mesh3d"
           }
          ],
          "parcoords": [
           {
            "line": {
             "colorbar": {
              "outlinewidth": 0,
              "ticks": ""
             }
            },
            "type": "parcoords"
           }
          ],
          "pie": [
           {
            "automargin": true,
            "type": "pie"
           }
          ],
          "scatter": [
           {
            "fillpattern": {
             "fillmode": "overlay",
             "size": 10,
             "solidity": 0.2
            },
            "type": "scatter"
           }
          ],
          "scatter3d": [
           {
            "line": {
             "colorbar": {
              "outlinewidth": 0,
              "ticks": ""
             }
            },
            "marker": {
             "colorbar": {
              "outlinewidth": 0,
              "ticks": ""
             }
            },
            "type": "scatter3d"
           }
          ],
          "scattercarpet": [
           {
            "marker": {
             "colorbar": {
              "outlinewidth": 0,
              "ticks": ""
             }
            },
            "type": "scattercarpet"
           }
          ],
          "scattergeo": [
           {
            "marker": {
             "colorbar": {
              "outlinewidth": 0,
              "ticks": ""
             }
            },
            "type": "scattergeo"
           }
          ],
          "scattergl": [
           {
            "marker": {
             "colorbar": {
              "outlinewidth": 0,
              "ticks": ""
             }
            },
            "type": "scattergl"
           }
          ],
          "scattermapbox": [
           {
            "marker": {
             "colorbar": {
              "outlinewidth": 0,
              "ticks": ""
             }
            },
            "type": "scattermapbox"
           }
          ],
          "scatterpolar": [
           {
            "marker": {
             "colorbar": {
              "outlinewidth": 0,
              "ticks": ""
             }
            },
            "type": "scatterpolar"
           }
          ],
          "scatterpolargl": [
           {
            "marker": {
             "colorbar": {
              "outlinewidth": 0,
              "ticks": ""
             }
            },
            "type": "scatterpolargl"
           }
          ],
          "scatterternary": [
           {
            "marker": {
             "colorbar": {
              "outlinewidth": 0,
              "ticks": ""
             }
            },
            "type": "scatterternary"
           }
          ],
          "surface": [
           {
            "colorbar": {
             "outlinewidth": 0,
             "ticks": ""
            },
            "colorscale": [
             [
              0,
              "#0d0887"
             ],
             [
              0.1111111111111111,
              "#46039f"
             ],
             [
              0.2222222222222222,
              "#7201a8"
             ],
             [
              0.3333333333333333,
              "#9c179e"
             ],
             [
              0.4444444444444444,
              "#bd3786"
             ],
             [
              0.5555555555555556,
              "#d8576b"
             ],
             [
              0.6666666666666666,
              "#ed7953"
             ],
             [
              0.7777777777777778,
              "#fb9f3a"
             ],
             [
              0.8888888888888888,
              "#fdca26"
             ],
             [
              1,
              "#f0f921"
             ]
            ],
            "type": "surface"
           }
          ],
          "table": [
           {
            "cells": {
             "fill": {
              "color": "#EBF0F8"
             },
             "line": {
              "color": "white"
             }
            },
            "header": {
             "fill": {
              "color": "#C8D4E3"
             },
             "line": {
              "color": "white"
             }
            },
            "type": "table"
           }
          ]
         },
         "layout": {
          "annotationdefaults": {
           "arrowcolor": "#2a3f5f",
           "arrowhead": 0,
           "arrowwidth": 1
          },
          "autotypenumbers": "strict",
          "coloraxis": {
           "colorbar": {
            "outlinewidth": 0,
            "ticks": ""
           }
          },
          "colorscale": {
           "diverging": [
            [
             0,
             "#8e0152"
            ],
            [
             0.1,
             "#c51b7d"
            ],
            [
             0.2,
             "#de77ae"
            ],
            [
             0.3,
             "#f1b6da"
            ],
            [
             0.4,
             "#fde0ef"
            ],
            [
             0.5,
             "#f7f7f7"
            ],
            [
             0.6,
             "#e6f5d0"
            ],
            [
             0.7,
             "#b8e186"
            ],
            [
             0.8,
             "#7fbc41"
            ],
            [
             0.9,
             "#4d9221"
            ],
            [
             1,
             "#276419"
            ]
           ],
           "sequential": [
            [
             0,
             "#0d0887"
            ],
            [
             0.1111111111111111,
             "#46039f"
            ],
            [
             0.2222222222222222,
             "#7201a8"
            ],
            [
             0.3333333333333333,
             "#9c179e"
            ],
            [
             0.4444444444444444,
             "#bd3786"
            ],
            [
             0.5555555555555556,
             "#d8576b"
            ],
            [
             0.6666666666666666,
             "#ed7953"
            ],
            [
             0.7777777777777778,
             "#fb9f3a"
            ],
            [
             0.8888888888888888,
             "#fdca26"
            ],
            [
             1,
             "#f0f921"
            ]
           ],
           "sequentialminus": [
            [
             0,
             "#0d0887"
            ],
            [
             0.1111111111111111,
             "#46039f"
            ],
            [
             0.2222222222222222,
             "#7201a8"
            ],
            [
             0.3333333333333333,
             "#9c179e"
            ],
            [
             0.4444444444444444,
             "#bd3786"
            ],
            [
             0.5555555555555556,
             "#d8576b"
            ],
            [
             0.6666666666666666,
             "#ed7953"
            ],
            [
             0.7777777777777778,
             "#fb9f3a"
            ],
            [
             0.8888888888888888,
             "#fdca26"
            ],
            [
             1,
             "#f0f921"
            ]
           ]
          },
          "colorway": [
           "#636efa",
           "#EF553B",
           "#00cc96",
           "#ab63fa",
           "#FFA15A",
           "#19d3f3",
           "#FF6692",
           "#B6E880",
           "#FF97FF",
           "#FECB52"
          ],
          "font": {
           "color": "#2a3f5f"
          },
          "geo": {
           "bgcolor": "white",
           "lakecolor": "white",
           "landcolor": "#E5ECF6",
           "showlakes": true,
           "showland": true,
           "subunitcolor": "white"
          },
          "hoverlabel": {
           "align": "left"
          },
          "hovermode": "closest",
          "mapbox": {
           "style": "light"
          },
          "paper_bgcolor": "white",
          "plot_bgcolor": "#E5ECF6",
          "polar": {
           "angularaxis": {
            "gridcolor": "white",
            "linecolor": "white",
            "ticks": ""
           },
           "bgcolor": "#E5ECF6",
           "radialaxis": {
            "gridcolor": "white",
            "linecolor": "white",
            "ticks": ""
           }
          },
          "scene": {
           "xaxis": {
            "backgroundcolor": "#E5ECF6",
            "gridcolor": "white",
            "gridwidth": 2,
            "linecolor": "white",
            "showbackground": true,
            "ticks": "",
            "zerolinecolor": "white"
           },
           "yaxis": {
            "backgroundcolor": "#E5ECF6",
            "gridcolor": "white",
            "gridwidth": 2,
            "linecolor": "white",
            "showbackground": true,
            "ticks": "",
            "zerolinecolor": "white"
           },
           "zaxis": {
            "backgroundcolor": "#E5ECF6",
            "gridcolor": "white",
            "gridwidth": 2,
            "linecolor": "white",
            "showbackground": true,
            "ticks": "",
            "zerolinecolor": "white"
           }
          },
          "shapedefaults": {
           "line": {
            "color": "#2a3f5f"
           }
          },
          "ternary": {
           "aaxis": {
            "gridcolor": "white",
            "linecolor": "white",
            "ticks": ""
           },
           "baxis": {
            "gridcolor": "white",
            "linecolor": "white",
            "ticks": ""
           },
           "bgcolor": "#E5ECF6",
           "caxis": {
            "gridcolor": "white",
            "linecolor": "white",
            "ticks": ""
           }
          },
          "title": {
           "x": 0.05
          },
          "xaxis": {
           "automargin": true,
           "gridcolor": "white",
           "linecolor": "white",
           "ticks": "",
           "title": {
            "standoff": 15
           },
           "zerolinecolor": "white",
           "zerolinewidth": 2
          },
          "yaxis": {
           "automargin": true,
           "gridcolor": "white",
           "linecolor": "white",
           "ticks": "",
           "title": {
            "standoff": 15
           },
           "zerolinecolor": "white",
           "zerolinewidth": 2
          }
         }
        },
        "title": {
         "text": "Distribuição de f1 para os experimentos \n label:z_14|leak=False"
        },
        "xaxis": {
         "anchor": "y",
         "domain": [
          0,
          1
         ],
         "title": {
          "text": "model"
         }
        },
        "yaxis": {
         "anchor": "x",
         "domain": [
          0,
          1
         ],
         "title": {
          "text": "R-squared (R2)"
         }
        }
       }
      }
     },
     "metadata": {},
     "output_type": "display_data"
    },
    {
     "name": "stdout",
     "output_type": "stream",
     "text": [
      "label: diff_close_mean_z_score_21 - leak: False\n"
     ]
    },
    {
     "data": {
      "application/vnd.plotly.v1+json": {
       "config": {
        "plotlyServerURL": "https://plot.ly"
       },
       "data": [
        {
         "alignmentgroup": "True",
         "boxpoints": "all",
         "hovertemplate": "model=%{x}<br>R-squared (R2)=%{y}<extra></extra>",
         "legendgroup": "",
         "marker": {
          "color": "#636efa"
         },
         "name": "",
         "notched": false,
         "offsetgroup": "",
         "orientation": "v",
         "showlegend": false,
         "type": "box",
         "x": [
          "LSTM_with_Attention",
          "LSTM_with_Attention",
          "LSTM_with_Attention",
          "LSTM_with_Attention",
          "LSTM_with_Attention",
          "LSTM_with_Attention",
          "LSTM_with_Attention",
          "LSTM_with_Attention",
          "LSTM_with_Attention",
          "LSTM_with_Attention",
          "LSTM_with_Attention",
          "LSTM_with_Attention",
          "LSTM_with_Attention",
          "LSTM_with_Attention",
          "LSTM_with_Attention",
          "LSTM_with_Attention",
          "LSTM_with_Attention",
          "LSTM_with_Attention",
          "LSTM_with_Attention",
          "LSTM_with_Attention",
          "LSTM_with_Attention",
          "LSTM_with_Attention",
          "LSTM_with_Attention",
          "LSTM_with_Attention",
          "LSTM_with_Attention",
          "LSTM_with_Attention",
          "LSTM_with_Attention",
          "LSTM_with_Attention",
          "LSTM_with_Attention",
          "LSTM_with_Attention",
          "LSTM_with_Attention",
          "LSTM_with_Attention",
          "LSTM_with_Attention",
          "LSTM_with_Attention",
          "LSTM_with_Attention",
          "LSTM_with_Attention",
          "LSTM_with_Attention",
          "LSTM_with_Attention",
          "LSTM_with_Attention",
          "LSTM_with_Attention",
          "LSTM_with_Attention",
          "LSTM_with_Attention",
          "LSTM_with_Attention",
          "LSTM_with_Attention",
          "LSTM_with_Attention",
          "LSTM_with_Attention",
          "LSTM_with_Attention",
          "LSTM_with_Attention",
          "LSTM_with_Attention",
          "LSTM_with_Attention",
          "LSTM_with_Attention",
          "LSTM_with_Attention",
          "LSTM_with_Attention",
          "LSTM_with_Attention",
          "LSTM_with_Attention",
          "LSTM_with_Attention",
          "LSTM_with_Attention",
          "LSTM_with_Attention",
          "LSTM_with_Attention",
          "LSTM_with_Attention",
          "LSTM_with_Attention",
          "LSTM_with_Attention",
          "LSTM_with_Attention",
          "LSTM_with_Attention",
          "LSTM_with_Attention",
          "LSTM_with_Attention",
          "LSTM_with_Attention",
          "LSTM_with_Attention",
          "LSTM_with_Attention",
          "LSTM_with_Attention",
          "LSTM_with_Attention",
          "LSTM_with_Attention",
          "LSTM_with_Attention",
          "LSTM_with_Attention",
          "LSTM_with_Attention",
          "LSTM_with_Attention",
          "LSTM_with_Attention",
          "LSTM_with_Attention",
          "LSTM_with_Attention",
          "LSTM_with_Attention",
          "LSTM_with_Attention",
          "LSTM_with_Attention",
          "LSTM_with_Attention",
          "LSTM_with_Attention",
          "LSTM_with_Attention",
          "LSTM_with_Attention",
          "LSTM_with_Attention",
          "LSTM_with_Attention",
          "LSTM_with_Attention",
          "LSTM_with_Attention",
          "LSTM_with_Attention",
          "LSTM_with_Attention",
          "LSTM_with_Attention",
          "LSTM_with_Attention",
          "LSTM_with_Attention",
          "LSTM_with_Attention",
          "LSTM_with_Attention",
          "LSTM_with_Attention",
          "LSTM_with_Attention",
          "LSTM_with_Attention",
          "LSTM_with_Attention",
          "LSTM_with_Attention",
          "LSTM_with_Attention",
          "LSTM_with_Attention",
          "Dummy_model",
          "Dummy_model",
          "Dummy_model",
          "Dummy_model",
          "Dummy_model",
          "Dummy_model",
          "Dummy_model",
          "Dummy_model"
         ],
         "x0": " ",
         "xaxis": "x",
         "y": [
          0.80084,
          0.82774,
          0.87814,
          0.83352,
          0.78049,
          0.86047,
          0.82232,
          0.82698,
          0.80213,
          0.82668,
          0.87731,
          0.83288,
          0.77837,
          0.85877,
          0.82156,
          0.82518,
          0.80206,
          0.82487,
          0.87587,
          0.8301,
          0.77707,
          0.85836,
          0.82093,
          0.82611,
          0.80038,
          0.82531,
          0.87745,
          0.83198,
          0.77724,
          0.8563,
          0.82111,
          0.82456,
          0.79951,
          0.82478,
          0.8768,
          0.83252,
          0.77846,
          0.85796,
          0.82028,
          0.8261,
          0.79955,
          0.82512,
          0.87581,
          0.82952,
          0.77724,
          0.85651,
          0.82055,
          0.82584,
          0.80083,
          0.82446,
          0.87632,
          0.83014,
          0.77462,
          0.85746,
          0.81906,
          0.8251,
          0.79856,
          0.82067,
          0.87266,
          0.83,
          0.77927,
          0.85958,
          0.81922,
          0.82257,
          0.79419,
          0.82163,
          0.87359,
          0.82461,
          0.77821,
          0.85381,
          0.81844,
          0.82428,
          0.8049,
          0.81747,
          0.87731,
          0.82927,
          0.77716,
          0.85492,
          0.81856,
          0.82465,
          0.80525,
          0.82083,
          0.8721,
          0.82768,
          0.77499,
          0.85356,
          0.80685,
          0.8286,
          0.8019,
          0.81976,
          0.87663,
          0.82333,
          0.77679,
          0.85417,
          0.82152,
          0.83085,
          0.80636,
          0.82495,
          0.87388,
          0.82787,
          0.7791,
          0.85434,
          0.81676,
          0.83237,
          0.79154,
          0.82047,
          0.87392,
          0.82591,
          0.76704,
          0.85552,
          0.81337,
          0.81893
         ],
         "y0": " ",
         "yaxis": "y"
        }
       ],
       "layout": {
        "boxmode": "group",
        "legend": {
         "tracegroupgap": 0
        },
        "template": {
         "data": {
          "bar": [
           {
            "error_x": {
             "color": "#2a3f5f"
            },
            "error_y": {
             "color": "#2a3f5f"
            },
            "marker": {
             "line": {
              "color": "#E5ECF6",
              "width": 0.5
             },
             "pattern": {
              "fillmode": "overlay",
              "size": 10,
              "solidity": 0.2
             }
            },
            "type": "bar"
           }
          ],
          "barpolar": [
           {
            "marker": {
             "line": {
              "color": "#E5ECF6",
              "width": 0.5
             },
             "pattern": {
              "fillmode": "overlay",
              "size": 10,
              "solidity": 0.2
             }
            },
            "type": "barpolar"
           }
          ],
          "carpet": [
           {
            "aaxis": {
             "endlinecolor": "#2a3f5f",
             "gridcolor": "white",
             "linecolor": "white",
             "minorgridcolor": "white",
             "startlinecolor": "#2a3f5f"
            },
            "baxis": {
             "endlinecolor": "#2a3f5f",
             "gridcolor": "white",
             "linecolor": "white",
             "minorgridcolor": "white",
             "startlinecolor": "#2a3f5f"
            },
            "type": "carpet"
           }
          ],
          "choropleth": [
           {
            "colorbar": {
             "outlinewidth": 0,
             "ticks": ""
            },
            "type": "choropleth"
           }
          ],
          "contour": [
           {
            "colorbar": {
             "outlinewidth": 0,
             "ticks": ""
            },
            "colorscale": [
             [
              0,
              "#0d0887"
             ],
             [
              0.1111111111111111,
              "#46039f"
             ],
             [
              0.2222222222222222,
              "#7201a8"
             ],
             [
              0.3333333333333333,
              "#9c179e"
             ],
             [
              0.4444444444444444,
              "#bd3786"
             ],
             [
              0.5555555555555556,
              "#d8576b"
             ],
             [
              0.6666666666666666,
              "#ed7953"
             ],
             [
              0.7777777777777778,
              "#fb9f3a"
             ],
             [
              0.8888888888888888,
              "#fdca26"
             ],
             [
              1,
              "#f0f921"
             ]
            ],
            "type": "contour"
           }
          ],
          "contourcarpet": [
           {
            "colorbar": {
             "outlinewidth": 0,
             "ticks": ""
            },
            "type": "contourcarpet"
           }
          ],
          "heatmap": [
           {
            "colorbar": {
             "outlinewidth": 0,
             "ticks": ""
            },
            "colorscale": [
             [
              0,
              "#0d0887"
             ],
             [
              0.1111111111111111,
              "#46039f"
             ],
             [
              0.2222222222222222,
              "#7201a8"
             ],
             [
              0.3333333333333333,
              "#9c179e"
             ],
             [
              0.4444444444444444,
              "#bd3786"
             ],
             [
              0.5555555555555556,
              "#d8576b"
             ],
             [
              0.6666666666666666,
              "#ed7953"
             ],
             [
              0.7777777777777778,
              "#fb9f3a"
             ],
             [
              0.8888888888888888,
              "#fdca26"
             ],
             [
              1,
              "#f0f921"
             ]
            ],
            "type": "heatmap"
           }
          ],
          "heatmapgl": [
           {
            "colorbar": {
             "outlinewidth": 0,
             "ticks": ""
            },
            "colorscale": [
             [
              0,
              "#0d0887"
             ],
             [
              0.1111111111111111,
              "#46039f"
             ],
             [
              0.2222222222222222,
              "#7201a8"
             ],
             [
              0.3333333333333333,
              "#9c179e"
             ],
             [
              0.4444444444444444,
              "#bd3786"
             ],
             [
              0.5555555555555556,
              "#d8576b"
             ],
             [
              0.6666666666666666,
              "#ed7953"
             ],
             [
              0.7777777777777778,
              "#fb9f3a"
             ],
             [
              0.8888888888888888,
              "#fdca26"
             ],
             [
              1,
              "#f0f921"
             ]
            ],
            "type": "heatmapgl"
           }
          ],
          "histogram": [
           {
            "marker": {
             "pattern": {
              "fillmode": "overlay",
              "size": 10,
              "solidity": 0.2
             }
            },
            "type": "histogram"
           }
          ],
          "histogram2d": [
           {
            "colorbar": {
             "outlinewidth": 0,
             "ticks": ""
            },
            "colorscale": [
             [
              0,
              "#0d0887"
             ],
             [
              0.1111111111111111,
              "#46039f"
             ],
             [
              0.2222222222222222,
              "#7201a8"
             ],
             [
              0.3333333333333333,
              "#9c179e"
             ],
             [
              0.4444444444444444,
              "#bd3786"
             ],
             [
              0.5555555555555556,
              "#d8576b"
             ],
             [
              0.6666666666666666,
              "#ed7953"
             ],
             [
              0.7777777777777778,
              "#fb9f3a"
             ],
             [
              0.8888888888888888,
              "#fdca26"
             ],
             [
              1,
              "#f0f921"
             ]
            ],
            "type": "histogram2d"
           }
          ],
          "histogram2dcontour": [
           {
            "colorbar": {
             "outlinewidth": 0,
             "ticks": ""
            },
            "colorscale": [
             [
              0,
              "#0d0887"
             ],
             [
              0.1111111111111111,
              "#46039f"
             ],
             [
              0.2222222222222222,
              "#7201a8"
             ],
             [
              0.3333333333333333,
              "#9c179e"
             ],
             [
              0.4444444444444444,
              "#bd3786"
             ],
             [
              0.5555555555555556,
              "#d8576b"
             ],
             [
              0.6666666666666666,
              "#ed7953"
             ],
             [
              0.7777777777777778,
              "#fb9f3a"
             ],
             [
              0.8888888888888888,
              "#fdca26"
             ],
             [
              1,
              "#f0f921"
             ]
            ],
            "type": "histogram2dcontour"
           }
          ],
          "mesh3d": [
           {
            "colorbar": {
             "outlinewidth": 0,
             "ticks": ""
            },
            "type": "mesh3d"
           }
          ],
          "parcoords": [
           {
            "line": {
             "colorbar": {
              "outlinewidth": 0,
              "ticks": ""
             }
            },
            "type": "parcoords"
           }
          ],
          "pie": [
           {
            "automargin": true,
            "type": "pie"
           }
          ],
          "scatter": [
           {
            "fillpattern": {
             "fillmode": "overlay",
             "size": 10,
             "solidity": 0.2
            },
            "type": "scatter"
           }
          ],
          "scatter3d": [
           {
            "line": {
             "colorbar": {
              "outlinewidth": 0,
              "ticks": ""
             }
            },
            "marker": {
             "colorbar": {
              "outlinewidth": 0,
              "ticks": ""
             }
            },
            "type": "scatter3d"
           }
          ],
          "scattercarpet": [
           {
            "marker": {
             "colorbar": {
              "outlinewidth": 0,
              "ticks": ""
             }
            },
            "type": "scattercarpet"
           }
          ],
          "scattergeo": [
           {
            "marker": {
             "colorbar": {
              "outlinewidth": 0,
              "ticks": ""
             }
            },
            "type": "scattergeo"
           }
          ],
          "scattergl": [
           {
            "marker": {
             "colorbar": {
              "outlinewidth": 0,
              "ticks": ""
             }
            },
            "type": "scattergl"
           }
          ],
          "scattermapbox": [
           {
            "marker": {
             "colorbar": {
              "outlinewidth": 0,
              "ticks": ""
             }
            },
            "type": "scattermapbox"
           }
          ],
          "scatterpolar": [
           {
            "marker": {
             "colorbar": {
              "outlinewidth": 0,
              "ticks": ""
             }
            },
            "type": "scatterpolar"
           }
          ],
          "scatterpolargl": [
           {
            "marker": {
             "colorbar": {
              "outlinewidth": 0,
              "ticks": ""
             }
            },
            "type": "scatterpolargl"
           }
          ],
          "scatterternary": [
           {
            "marker": {
             "colorbar": {
              "outlinewidth": 0,
              "ticks": ""
             }
            },
            "type": "scatterternary"
           }
          ],
          "surface": [
           {
            "colorbar": {
             "outlinewidth": 0,
             "ticks": ""
            },
            "colorscale": [
             [
              0,
              "#0d0887"
             ],
             [
              0.1111111111111111,
              "#46039f"
             ],
             [
              0.2222222222222222,
              "#7201a8"
             ],
             [
              0.3333333333333333,
              "#9c179e"
             ],
             [
              0.4444444444444444,
              "#bd3786"
             ],
             [
              0.5555555555555556,
              "#d8576b"
             ],
             [
              0.6666666666666666,
              "#ed7953"
             ],
             [
              0.7777777777777778,
              "#fb9f3a"
             ],
             [
              0.8888888888888888,
              "#fdca26"
             ],
             [
              1,
              "#f0f921"
             ]
            ],
            "type": "surface"
           }
          ],
          "table": [
           {
            "cells": {
             "fill": {
              "color": "#EBF0F8"
             },
             "line": {
              "color": "white"
             }
            },
            "header": {
             "fill": {
              "color": "#C8D4E3"
             },
             "line": {
              "color": "white"
             }
            },
            "type": "table"
           }
          ]
         },
         "layout": {
          "annotationdefaults": {
           "arrowcolor": "#2a3f5f",
           "arrowhead": 0,
           "arrowwidth": 1
          },
          "autotypenumbers": "strict",
          "coloraxis": {
           "colorbar": {
            "outlinewidth": 0,
            "ticks": ""
           }
          },
          "colorscale": {
           "diverging": [
            [
             0,
             "#8e0152"
            ],
            [
             0.1,
             "#c51b7d"
            ],
            [
             0.2,
             "#de77ae"
            ],
            [
             0.3,
             "#f1b6da"
            ],
            [
             0.4,
             "#fde0ef"
            ],
            [
             0.5,
             "#f7f7f7"
            ],
            [
             0.6,
             "#e6f5d0"
            ],
            [
             0.7,
             "#b8e186"
            ],
            [
             0.8,
             "#7fbc41"
            ],
            [
             0.9,
             "#4d9221"
            ],
            [
             1,
             "#276419"
            ]
           ],
           "sequential": [
            [
             0,
             "#0d0887"
            ],
            [
             0.1111111111111111,
             "#46039f"
            ],
            [
             0.2222222222222222,
             "#7201a8"
            ],
            [
             0.3333333333333333,
             "#9c179e"
            ],
            [
             0.4444444444444444,
             "#bd3786"
            ],
            [
             0.5555555555555556,
             "#d8576b"
            ],
            [
             0.6666666666666666,
             "#ed7953"
            ],
            [
             0.7777777777777778,
             "#fb9f3a"
            ],
            [
             0.8888888888888888,
             "#fdca26"
            ],
            [
             1,
             "#f0f921"
            ]
           ],
           "sequentialminus": [
            [
             0,
             "#0d0887"
            ],
            [
             0.1111111111111111,
             "#46039f"
            ],
            [
             0.2222222222222222,
             "#7201a8"
            ],
            [
             0.3333333333333333,
             "#9c179e"
            ],
            [
             0.4444444444444444,
             "#bd3786"
            ],
            [
             0.5555555555555556,
             "#d8576b"
            ],
            [
             0.6666666666666666,
             "#ed7953"
            ],
            [
             0.7777777777777778,
             "#fb9f3a"
            ],
            [
             0.8888888888888888,
             "#fdca26"
            ],
            [
             1,
             "#f0f921"
            ]
           ]
          },
          "colorway": [
           "#636efa",
           "#EF553B",
           "#00cc96",
           "#ab63fa",
           "#FFA15A",
           "#19d3f3",
           "#FF6692",
           "#B6E880",
           "#FF97FF",
           "#FECB52"
          ],
          "font": {
           "color": "#2a3f5f"
          },
          "geo": {
           "bgcolor": "white",
           "lakecolor": "white",
           "landcolor": "#E5ECF6",
           "showlakes": true,
           "showland": true,
           "subunitcolor": "white"
          },
          "hoverlabel": {
           "align": "left"
          },
          "hovermode": "closest",
          "mapbox": {
           "style": "light"
          },
          "paper_bgcolor": "white",
          "plot_bgcolor": "#E5ECF6",
          "polar": {
           "angularaxis": {
            "gridcolor": "white",
            "linecolor": "white",
            "ticks": ""
           },
           "bgcolor": "#E5ECF6",
           "radialaxis": {
            "gridcolor": "white",
            "linecolor": "white",
            "ticks": ""
           }
          },
          "scene": {
           "xaxis": {
            "backgroundcolor": "#E5ECF6",
            "gridcolor": "white",
            "gridwidth": 2,
            "linecolor": "white",
            "showbackground": true,
            "ticks": "",
            "zerolinecolor": "white"
           },
           "yaxis": {
            "backgroundcolor": "#E5ECF6",
            "gridcolor": "white",
            "gridwidth": 2,
            "linecolor": "white",
            "showbackground": true,
            "ticks": "",
            "zerolinecolor": "white"
           },
           "zaxis": {
            "backgroundcolor": "#E5ECF6",
            "gridcolor": "white",
            "gridwidth": 2,
            "linecolor": "white",
            "showbackground": true,
            "ticks": "",
            "zerolinecolor": "white"
           }
          },
          "shapedefaults": {
           "line": {
            "color": "#2a3f5f"
           }
          },
          "ternary": {
           "aaxis": {
            "gridcolor": "white",
            "linecolor": "white",
            "ticks": ""
           },
           "baxis": {
            "gridcolor": "white",
            "linecolor": "white",
            "ticks": ""
           },
           "bgcolor": "#E5ECF6",
           "caxis": {
            "gridcolor": "white",
            "linecolor": "white",
            "ticks": ""
           }
          },
          "title": {
           "x": 0.05
          },
          "xaxis": {
           "automargin": true,
           "gridcolor": "white",
           "linecolor": "white",
           "ticks": "",
           "title": {
            "standoff": 15
           },
           "zerolinecolor": "white",
           "zerolinewidth": 2
          },
          "yaxis": {
           "automargin": true,
           "gridcolor": "white",
           "linecolor": "white",
           "ticks": "",
           "title": {
            "standoff": 15
           },
           "zerolinecolor": "white",
           "zerolinewidth": 2
          }
         }
        },
        "title": {
         "text": "Distribuição de f1 para os experimentos \n label:z_21|leak=False"
        },
        "xaxis": {
         "anchor": "y",
         "domain": [
          0,
          1
         ],
         "title": {
          "text": "model"
         }
        },
        "yaxis": {
         "anchor": "x",
         "domain": [
          0,
          1
         ],
         "title": {
          "text": "R-squared (R2)"
         }
        }
       }
      }
     },
     "metadata": {},
     "output_type": "display_data"
    }
   ],
   "source": [
    "for label in reg.label_col.unique():\n",
    "\n",
    "    for leak in [False]:\n",
    "\n",
    "        print(f\"label: {label} - leak: {leak}\")\n",
    "        \n",
    "        \n",
    "        if 'meta' in label: label_formated = label.replace('meta', 'k')\n",
    "        if 'diff_close_mean_z_score' in label: label_formated = label.replace('diff_close_mean_z_score', 'z')\n",
    "        \n",
    "        df_plt = reg[(reg.label_col == label) & (reg.leak == leak)]\n",
    "        \n",
    "        fig = px.box(\n",
    "            df_plt, \n",
    "            x=\"model\", \n",
    "            y=\"R-squared (R2)\", \n",
    "            points=\"all\",\n",
    "            title = f'Distribuição de f1 para os experimentos \\n label:{label_formated}|leak={leak}'\n",
    "            )\n",
    "        \n",
    "        fig.write_image(PATH_REPORTS + f\"/images/box_plot_exp_dist_label={label_formated}__leak={leak}_reg.png\")\n",
    "        # fig.update_traces(boxpoints=False) \n",
    "        fig.show()"
   ]
  },
  {
   "cell_type": "code",
   "execution_count": 17,
   "metadata": {},
   "outputs": [
    {
     "name": "stdout",
     "output_type": "stream",
     "text": [
      "label: meta_7 - leak: False\n"
     ]
    },
    {
     "data": {
      "application/vnd.plotly.v1+json": {
       "config": {
        "plotlyServerURL": "https://plot.ly"
       },
       "data": [
        {
         "alignmentgroup": "True",
         "boxpoints": "all",
         "hovertemplate": "model=%{x}<br>f1-score=%{y}<extra></extra>",
         "legendgroup": "",
         "marker": {
          "color": "#636efa"
         },
         "name": "",
         "notched": false,
         "offsetgroup": "",
         "orientation": "v",
         "showlegend": false,
         "type": "box",
         "x": [
          "LSTM_with_Attention",
          "LSTM_with_Attention",
          "LSTM_with_Attention",
          "LSTM_with_Attention",
          "LSTM_with_Attention",
          "LSTM_with_Attention",
          "LSTM_with_Attention",
          "LSTM_with_Attention",
          "LSTM_with_Attention",
          "LSTM_with_Attention",
          "LSTM_with_Attention",
          "LSTM_with_Attention",
          "LSTM_with_Attention",
          "LSTM_with_Attention",
          "LSTM_with_Attention",
          "LSTM_with_Attention",
          "LSTM_with_Attention",
          "LSTM_with_Attention",
          "LSTM_with_Attention",
          "LSTM_with_Attention",
          "LSTM_with_Attention",
          "LSTM_with_Attention",
          "LSTM_with_Attention",
          "LSTM_with_Attention",
          "LSTM_with_Attention",
          "LSTM_with_Attention",
          "LSTM_with_Attention",
          "LSTM_with_Attention",
          "LSTM_with_Attention",
          "LSTM_with_Attention",
          "LSTM_with_Attention",
          "LSTM_with_Attention",
          "LSTM_with_Attention",
          "LSTM_with_Attention",
          "LSTM_with_Attention",
          "LSTM_with_Attention",
          "LSTM_with_Attention",
          "LSTM_with_Attention",
          "LSTM_with_Attention",
          "LSTM_with_Attention",
          "LSTM_with_Attention",
          "LSTM_with_Attention",
          "LSTM_with_Attention",
          "LSTM_with_Attention",
          "LSTM_with_Attention",
          "LSTM_with_Attention",
          "LSTM_with_Attention",
          "LSTM_with_Attention",
          "LSTM_with_Attention",
          "LSTM_with_Attention",
          "LSTM_with_Attention",
          "LSTM_with_Attention",
          "LSTM_with_Attention",
          "LSTM_with_Attention",
          "LSTM_with_Attention",
          "LSTM_with_Attention",
          "LSTM_with_Attention",
          "LSTM_with_Attention",
          "LSTM_with_Attention",
          "LSTM_with_Attention",
          "LSTM_with_Attention",
          "LSTM_with_Attention",
          "LSTM_with_Attention",
          "LSTM_with_Attention",
          "LSTM_with_Attention",
          "LSTM_with_Attention",
          "LSTM_with_Attention",
          "LSTM_with_Attention",
          "LSTM_with_Attention",
          "LSTM_with_Attention",
          "LSTM_with_Attention",
          "LSTM_with_Attention",
          "LSTM_with_Attention",
          "LSTM_with_Attention",
          "LSTM_with_Attention",
          "LSTM_with_Attention",
          "LSTM_with_Attention",
          "LSTM_with_Attention",
          "LSTM_with_Attention",
          "LSTM_with_Attention",
          "LSTM_with_Attention",
          "LSTM_with_Attention",
          "LSTM_with_Attention",
          "LSTM_with_Attention",
          "LSTM_with_Attention",
          "LSTM_with_Attention",
          "LSTM_with_Attention",
          "LSTM_with_Attention",
          "LSTM_with_Attention",
          "LSTM_with_Attention",
          "LSTM_with_Attention",
          "LSTM_with_Attention",
          "LSTM_with_Attention",
          "LSTM_with_Attention",
          "LSTM_with_Attention",
          "LSTM_with_Attention",
          "LSTM_with_Attention",
          "LSTM_with_Attention",
          "LSTM_with_Attention",
          "LSTM_with_Attention",
          "LSTM_with_Attention",
          "LSTM_with_Attention",
          "LSTM_with_Attention",
          "LSTM_with_Attention",
          "Dummy_model",
          "Dummy_model",
          "Dummy_model",
          "Dummy_model",
          "Dummy_model",
          "Dummy_model",
          "Dummy_model",
          "Dummy_model"
         ],
         "x0": " ",
         "xaxis": "x",
         "y": [
          0.2399,
          0.24086,
          0.24112,
          0.24251,
          0.24226,
          0.24524,
          0.22985,
          0.23368,
          0.23935,
          0.24086,
          0.24048,
          0.24238,
          0.24234,
          0.24524,
          0.22985,
          0.2003,
          0.20513,
          0.27907,
          0.24048,
          0.24152,
          0.24234,
          0.24524,
          0.22949,
          0.20034,
          0.23935,
          0.28193,
          0.24048,
          0.2426,
          0.24254,
          0.24275,
          0.26191,
          0.2005,
          0.20486,
          0.26226,
          0.24006,
          0.24056,
          0.24178,
          0.24461,
          0.22885,
          0.20039,
          0.20485,
          0.23906,
          0.24096,
          0.24226,
          0.24221,
          0.24398,
          0.22918,
          0.2005,
          0.20541,
          0.23943,
          0.23655,
          0.26715,
          0.24207,
          0.24412,
          0.22934,
          0.19905,
          0.20494,
          0.23937,
          0.24058,
          0.23952,
          0.24291,
          0.24288,
          0.28816,
          0.19996,
          0.23975,
          0.23947,
          0.24209,
          0.23853,
          0.24368,
          0.24475,
          0.22898,
          0.20049,
          0.23576,
          0.23914,
          0.24081,
          0.2414,
          0.24026,
          0.24389,
          0.25865,
          0.20044,
          0.24114,
          0.23993,
          0.23827,
          0.23975,
          0.24352,
          0.24388,
          0.22917,
          0.1993,
          0.23955,
          0.24003,
          0.23948,
          0.26064,
          0.24288,
          0.24252,
          0.22699,
          0.19326,
          0.24092,
          0.23583,
          0.24166,
          0.24059,
          0.24442,
          0.2426,
          0.22523,
          0.19849,
          0.53916,
          0.48352,
          0.60386,
          0.52066,
          0.51454,
          0.43297,
          0.51439,
          0.50021
         ],
         "y0": " ",
         "yaxis": "y"
        }
       ],
       "layout": {
        "boxmode": "group",
        "legend": {
         "tracegroupgap": 0
        },
        "template": {
         "data": {
          "bar": [
           {
            "error_x": {
             "color": "#2a3f5f"
            },
            "error_y": {
             "color": "#2a3f5f"
            },
            "marker": {
             "line": {
              "color": "#E5ECF6",
              "width": 0.5
             },
             "pattern": {
              "fillmode": "overlay",
              "size": 10,
              "solidity": 0.2
             }
            },
            "type": "bar"
           }
          ],
          "barpolar": [
           {
            "marker": {
             "line": {
              "color": "#E5ECF6",
              "width": 0.5
             },
             "pattern": {
              "fillmode": "overlay",
              "size": 10,
              "solidity": 0.2
             }
            },
            "type": "barpolar"
           }
          ],
          "carpet": [
           {
            "aaxis": {
             "endlinecolor": "#2a3f5f",
             "gridcolor": "white",
             "linecolor": "white",
             "minorgridcolor": "white",
             "startlinecolor": "#2a3f5f"
            },
            "baxis": {
             "endlinecolor": "#2a3f5f",
             "gridcolor": "white",
             "linecolor": "white",
             "minorgridcolor": "white",
             "startlinecolor": "#2a3f5f"
            },
            "type": "carpet"
           }
          ],
          "choropleth": [
           {
            "colorbar": {
             "outlinewidth": 0,
             "ticks": ""
            },
            "type": "choropleth"
           }
          ],
          "contour": [
           {
            "colorbar": {
             "outlinewidth": 0,
             "ticks": ""
            },
            "colorscale": [
             [
              0,
              "#0d0887"
             ],
             [
              0.1111111111111111,
              "#46039f"
             ],
             [
              0.2222222222222222,
              "#7201a8"
             ],
             [
              0.3333333333333333,
              "#9c179e"
             ],
             [
              0.4444444444444444,
              "#bd3786"
             ],
             [
              0.5555555555555556,
              "#d8576b"
             ],
             [
              0.6666666666666666,
              "#ed7953"
             ],
             [
              0.7777777777777778,
              "#fb9f3a"
             ],
             [
              0.8888888888888888,
              "#fdca26"
             ],
             [
              1,
              "#f0f921"
             ]
            ],
            "type": "contour"
           }
          ],
          "contourcarpet": [
           {
            "colorbar": {
             "outlinewidth": 0,
             "ticks": ""
            },
            "type": "contourcarpet"
           }
          ],
          "heatmap": [
           {
            "colorbar": {
             "outlinewidth": 0,
             "ticks": ""
            },
            "colorscale": [
             [
              0,
              "#0d0887"
             ],
             [
              0.1111111111111111,
              "#46039f"
             ],
             [
              0.2222222222222222,
              "#7201a8"
             ],
             [
              0.3333333333333333,
              "#9c179e"
             ],
             [
              0.4444444444444444,
              "#bd3786"
             ],
             [
              0.5555555555555556,
              "#d8576b"
             ],
             [
              0.6666666666666666,
              "#ed7953"
             ],
             [
              0.7777777777777778,
              "#fb9f3a"
             ],
             [
              0.8888888888888888,
              "#fdca26"
             ],
             [
              1,
              "#f0f921"
             ]
            ],
            "type": "heatmap"
           }
          ],
          "heatmapgl": [
           {
            "colorbar": {
             "outlinewidth": 0,
             "ticks": ""
            },
            "colorscale": [
             [
              0,
              "#0d0887"
             ],
             [
              0.1111111111111111,
              "#46039f"
             ],
             [
              0.2222222222222222,
              "#7201a8"
             ],
             [
              0.3333333333333333,
              "#9c179e"
             ],
             [
              0.4444444444444444,
              "#bd3786"
             ],
             [
              0.5555555555555556,
              "#d8576b"
             ],
             [
              0.6666666666666666,
              "#ed7953"
             ],
             [
              0.7777777777777778,
              "#fb9f3a"
             ],
             [
              0.8888888888888888,
              "#fdca26"
             ],
             [
              1,
              "#f0f921"
             ]
            ],
            "type": "heatmapgl"
           }
          ],
          "histogram": [
           {
            "marker": {
             "pattern": {
              "fillmode": "overlay",
              "size": 10,
              "solidity": 0.2
             }
            },
            "type": "histogram"
           }
          ],
          "histogram2d": [
           {
            "colorbar": {
             "outlinewidth": 0,
             "ticks": ""
            },
            "colorscale": [
             [
              0,
              "#0d0887"
             ],
             [
              0.1111111111111111,
              "#46039f"
             ],
             [
              0.2222222222222222,
              "#7201a8"
             ],
             [
              0.3333333333333333,
              "#9c179e"
             ],
             [
              0.4444444444444444,
              "#bd3786"
             ],
             [
              0.5555555555555556,
              "#d8576b"
             ],
             [
              0.6666666666666666,
              "#ed7953"
             ],
             [
              0.7777777777777778,
              "#fb9f3a"
             ],
             [
              0.8888888888888888,
              "#fdca26"
             ],
             [
              1,
              "#f0f921"
             ]
            ],
            "type": "histogram2d"
           }
          ],
          "histogram2dcontour": [
           {
            "colorbar": {
             "outlinewidth": 0,
             "ticks": ""
            },
            "colorscale": [
             [
              0,
              "#0d0887"
             ],
             [
              0.1111111111111111,
              "#46039f"
             ],
             [
              0.2222222222222222,
              "#7201a8"
             ],
             [
              0.3333333333333333,
              "#9c179e"
             ],
             [
              0.4444444444444444,
              "#bd3786"
             ],
             [
              0.5555555555555556,
              "#d8576b"
             ],
             [
              0.6666666666666666,
              "#ed7953"
             ],
             [
              0.7777777777777778,
              "#fb9f3a"
             ],
             [
              0.8888888888888888,
              "#fdca26"
             ],
             [
              1,
              "#f0f921"
             ]
            ],
            "type": "histogram2dcontour"
           }
          ],
          "mesh3d": [
           {
            "colorbar": {
             "outlinewidth": 0,
             "ticks": ""
            },
            "type": "mesh3d"
           }
          ],
          "parcoords": [
           {
            "line": {
             "colorbar": {
              "outlinewidth": 0,
              "ticks": ""
             }
            },
            "type": "parcoords"
           }
          ],
          "pie": [
           {
            "automargin": true,
            "type": "pie"
           }
          ],
          "scatter": [
           {
            "fillpattern": {
             "fillmode": "overlay",
             "size": 10,
             "solidity": 0.2
            },
            "type": "scatter"
           }
          ],
          "scatter3d": [
           {
            "line": {
             "colorbar": {
              "outlinewidth": 0,
              "ticks": ""
             }
            },
            "marker": {
             "colorbar": {
              "outlinewidth": 0,
              "ticks": ""
             }
            },
            "type": "scatter3d"
           }
          ],
          "scattercarpet": [
           {
            "marker": {
             "colorbar": {
              "outlinewidth": 0,
              "ticks": ""
             }
            },
            "type": "scattercarpet"
           }
          ],
          "scattergeo": [
           {
            "marker": {
             "colorbar": {
              "outlinewidth": 0,
              "ticks": ""
             }
            },
            "type": "scattergeo"
           }
          ],
          "scattergl": [
           {
            "marker": {
             "colorbar": {
              "outlinewidth": 0,
              "ticks": ""
             }
            },
            "type": "scattergl"
           }
          ],
          "scattermapbox": [
           {
            "marker": {
             "colorbar": {
              "outlinewidth": 0,
              "ticks": ""
             }
            },
            "type": "scattermapbox"
           }
          ],
          "scatterpolar": [
           {
            "marker": {
             "colorbar": {
              "outlinewidth": 0,
              "ticks": ""
             }
            },
            "type": "scatterpolar"
           }
          ],
          "scatterpolargl": [
           {
            "marker": {
             "colorbar": {
              "outlinewidth": 0,
              "ticks": ""
             }
            },
            "type": "scatterpolargl"
           }
          ],
          "scatterternary": [
           {
            "marker": {
             "colorbar": {
              "outlinewidth": 0,
              "ticks": ""
             }
            },
            "type": "scatterternary"
           }
          ],
          "surface": [
           {
            "colorbar": {
             "outlinewidth": 0,
             "ticks": ""
            },
            "colorscale": [
             [
              0,
              "#0d0887"
             ],
             [
              0.1111111111111111,
              "#46039f"
             ],
             [
              0.2222222222222222,
              "#7201a8"
             ],
             [
              0.3333333333333333,
              "#9c179e"
             ],
             [
              0.4444444444444444,
              "#bd3786"
             ],
             [
              0.5555555555555556,
              "#d8576b"
             ],
             [
              0.6666666666666666,
              "#ed7953"
             ],
             [
              0.7777777777777778,
              "#fb9f3a"
             ],
             [
              0.8888888888888888,
              "#fdca26"
             ],
             [
              1,
              "#f0f921"
             ]
            ],
            "type": "surface"
           }
          ],
          "table": [
           {
            "cells": {
             "fill": {
              "color": "#EBF0F8"
             },
             "line": {
              "color": "white"
             }
            },
            "header": {
             "fill": {
              "color": "#C8D4E3"
             },
             "line": {
              "color": "white"
             }
            },
            "type": "table"
           }
          ]
         },
         "layout": {
          "annotationdefaults": {
           "arrowcolor": "#2a3f5f",
           "arrowhead": 0,
           "arrowwidth": 1
          },
          "autotypenumbers": "strict",
          "coloraxis": {
           "colorbar": {
            "outlinewidth": 0,
            "ticks": ""
           }
          },
          "colorscale": {
           "diverging": [
            [
             0,
             "#8e0152"
            ],
            [
             0.1,
             "#c51b7d"
            ],
            [
             0.2,
             "#de77ae"
            ],
            [
             0.3,
             "#f1b6da"
            ],
            [
             0.4,
             "#fde0ef"
            ],
            [
             0.5,
             "#f7f7f7"
            ],
            [
             0.6,
             "#e6f5d0"
            ],
            [
             0.7,
             "#b8e186"
            ],
            [
             0.8,
             "#7fbc41"
            ],
            [
             0.9,
             "#4d9221"
            ],
            [
             1,
             "#276419"
            ]
           ],
           "sequential": [
            [
             0,
             "#0d0887"
            ],
            [
             0.1111111111111111,
             "#46039f"
            ],
            [
             0.2222222222222222,
             "#7201a8"
            ],
            [
             0.3333333333333333,
             "#9c179e"
            ],
            [
             0.4444444444444444,
             "#bd3786"
            ],
            [
             0.5555555555555556,
             "#d8576b"
            ],
            [
             0.6666666666666666,
             "#ed7953"
            ],
            [
             0.7777777777777778,
             "#fb9f3a"
            ],
            [
             0.8888888888888888,
             "#fdca26"
            ],
            [
             1,
             "#f0f921"
            ]
           ],
           "sequentialminus": [
            [
             0,
             "#0d0887"
            ],
            [
             0.1111111111111111,
             "#46039f"
            ],
            [
             0.2222222222222222,
             "#7201a8"
            ],
            [
             0.3333333333333333,
             "#9c179e"
            ],
            [
             0.4444444444444444,
             "#bd3786"
            ],
            [
             0.5555555555555556,
             "#d8576b"
            ],
            [
             0.6666666666666666,
             "#ed7953"
            ],
            [
             0.7777777777777778,
             "#fb9f3a"
            ],
            [
             0.8888888888888888,
             "#fdca26"
            ],
            [
             1,
             "#f0f921"
            ]
           ]
          },
          "colorway": [
           "#636efa",
           "#EF553B",
           "#00cc96",
           "#ab63fa",
           "#FFA15A",
           "#19d3f3",
           "#FF6692",
           "#B6E880",
           "#FF97FF",
           "#FECB52"
          ],
          "font": {
           "color": "#2a3f5f"
          },
          "geo": {
           "bgcolor": "white",
           "lakecolor": "white",
           "landcolor": "#E5ECF6",
           "showlakes": true,
           "showland": true,
           "subunitcolor": "white"
          },
          "hoverlabel": {
           "align": "left"
          },
          "hovermode": "closest",
          "mapbox": {
           "style": "light"
          },
          "paper_bgcolor": "white",
          "plot_bgcolor": "#E5ECF6",
          "polar": {
           "angularaxis": {
            "gridcolor": "white",
            "linecolor": "white",
            "ticks": ""
           },
           "bgcolor": "#E5ECF6",
           "radialaxis": {
            "gridcolor": "white",
            "linecolor": "white",
            "ticks": ""
           }
          },
          "scene": {
           "xaxis": {
            "backgroundcolor": "#E5ECF6",
            "gridcolor": "white",
            "gridwidth": 2,
            "linecolor": "white",
            "showbackground": true,
            "ticks": "",
            "zerolinecolor": "white"
           },
           "yaxis": {
            "backgroundcolor": "#E5ECF6",
            "gridcolor": "white",
            "gridwidth": 2,
            "linecolor": "white",
            "showbackground": true,
            "ticks": "",
            "zerolinecolor": "white"
           },
           "zaxis": {
            "backgroundcolor": "#E5ECF6",
            "gridcolor": "white",
            "gridwidth": 2,
            "linecolor": "white",
            "showbackground": true,
            "ticks": "",
            "zerolinecolor": "white"
           }
          },
          "shapedefaults": {
           "line": {
            "color": "#2a3f5f"
           }
          },
          "ternary": {
           "aaxis": {
            "gridcolor": "white",
            "linecolor": "white",
            "ticks": ""
           },
           "baxis": {
            "gridcolor": "white",
            "linecolor": "white",
            "ticks": ""
           },
           "bgcolor": "#E5ECF6",
           "caxis": {
            "gridcolor": "white",
            "linecolor": "white",
            "ticks": ""
           }
          },
          "title": {
           "x": 0.05
          },
          "xaxis": {
           "automargin": true,
           "gridcolor": "white",
           "linecolor": "white",
           "ticks": "",
           "title": {
            "standoff": 15
           },
           "zerolinecolor": "white",
           "zerolinewidth": 2
          },
          "yaxis": {
           "automargin": true,
           "gridcolor": "white",
           "linecolor": "white",
           "ticks": "",
           "title": {
            "standoff": 15
           },
           "zerolinecolor": "white",
           "zerolinewidth": 2
          }
         }
        },
        "title": {
         "text": "Distribuição dos resultados de f1 para os experimentos - label: meta_7 | leak=False"
        },
        "xaxis": {
         "anchor": "y",
         "domain": [
          0,
          1
         ],
         "title": {
          "text": "model"
         }
        },
        "yaxis": {
         "anchor": "x",
         "domain": [
          0,
          1
         ],
         "title": {
          "text": "f1-score"
         }
        }
       }
      }
     },
     "metadata": {},
     "output_type": "display_data"
    },
    {
     "name": "stdout",
     "output_type": "stream",
     "text": [
      "label: meta_14 - leak: False\n"
     ]
    },
    {
     "data": {
      "application/vnd.plotly.v1+json": {
       "config": {
        "plotlyServerURL": "https://plot.ly"
       },
       "data": [
        {
         "alignmentgroup": "True",
         "boxpoints": "all",
         "hovertemplate": "model=%{x}<br>f1-score=%{y}<extra></extra>",
         "legendgroup": "",
         "marker": {
          "color": "#636efa"
         },
         "name": "",
         "notched": false,
         "offsetgroup": "",
         "orientation": "v",
         "showlegend": false,
         "type": "box",
         "x": [
          "LSTM_with_Attention",
          "LSTM_with_Attention",
          "LSTM_with_Attention",
          "LSTM_with_Attention",
          "LSTM_with_Attention",
          "LSTM_with_Attention",
          "LSTM_with_Attention",
          "LSTM_with_Attention",
          "LSTM_with_Attention",
          "LSTM_with_Attention",
          "LSTM_with_Attention",
          "LSTM_with_Attention",
          "LSTM_with_Attention",
          "LSTM_with_Attention",
          "LSTM_with_Attention",
          "LSTM_with_Attention",
          "LSTM_with_Attention",
          "LSTM_with_Attention",
          "LSTM_with_Attention",
          "LSTM_with_Attention",
          "LSTM_with_Attention",
          "LSTM_with_Attention",
          "LSTM_with_Attention",
          "LSTM_with_Attention",
          "LSTM_with_Attention",
          "LSTM_with_Attention",
          "LSTM_with_Attention",
          "LSTM_with_Attention",
          "LSTM_with_Attention",
          "LSTM_with_Attention",
          "LSTM_with_Attention",
          "LSTM_with_Attention",
          "LSTM_with_Attention",
          "LSTM_with_Attention",
          "LSTM_with_Attention",
          "LSTM_with_Attention",
          "LSTM_with_Attention",
          "LSTM_with_Attention",
          "LSTM_with_Attention",
          "LSTM_with_Attention",
          "LSTM_with_Attention",
          "LSTM_with_Attention",
          "LSTM_with_Attention",
          "LSTM_with_Attention",
          "LSTM_with_Attention",
          "LSTM_with_Attention",
          "LSTM_with_Attention",
          "LSTM_with_Attention",
          "LSTM_with_Attention",
          "LSTM_with_Attention",
          "LSTM_with_Attention",
          "LSTM_with_Attention",
          "LSTM_with_Attention",
          "LSTM_with_Attention",
          "LSTM_with_Attention",
          "LSTM_with_Attention",
          "LSTM_with_Attention",
          "LSTM_with_Attention",
          "LSTM_with_Attention",
          "LSTM_with_Attention",
          "LSTM_with_Attention",
          "LSTM_with_Attention",
          "LSTM_with_Attention",
          "LSTM_with_Attention",
          "LSTM_with_Attention",
          "LSTM_with_Attention",
          "LSTM_with_Attention",
          "LSTM_with_Attention",
          "LSTM_with_Attention",
          "LSTM_with_Attention",
          "LSTM_with_Attention",
          "LSTM_with_Attention",
          "LSTM_with_Attention",
          "LSTM_with_Attention",
          "LSTM_with_Attention",
          "LSTM_with_Attention",
          "LSTM_with_Attention",
          "LSTM_with_Attention",
          "LSTM_with_Attention",
          "LSTM_with_Attention",
          "LSTM_with_Attention",
          "LSTM_with_Attention",
          "LSTM_with_Attention",
          "LSTM_with_Attention",
          "LSTM_with_Attention",
          "LSTM_with_Attention",
          "LSTM_with_Attention",
          "LSTM_with_Attention",
          "LSTM_with_Attention",
          "LSTM_with_Attention",
          "LSTM_with_Attention",
          "LSTM_with_Attention",
          "LSTM_with_Attention",
          "LSTM_with_Attention",
          "LSTM_with_Attention",
          "LSTM_with_Attention",
          "LSTM_with_Attention",
          "LSTM_with_Attention",
          "LSTM_with_Attention",
          "LSTM_with_Attention",
          "LSTM_with_Attention",
          "LSTM_with_Attention",
          "LSTM_with_Attention",
          "LSTM_with_Attention",
          "Dummy_model",
          "Dummy_model",
          "Dummy_model",
          "Dummy_model",
          "Dummy_model",
          "Dummy_model",
          "Dummy_model",
          "Dummy_model"
         ],
         "x0": " ",
         "xaxis": "x",
         "y": [
          0.27135,
          0.28943,
          0.30994,
          0.21707,
          0.28917,
          0.25486,
          0.27871,
          0.2851,
          0.25308,
          0.28805,
          0.30401,
          0.29219,
          0.28953,
          0.25567,
          0.24561,
          0.28498,
          0.25314,
          0.28759,
          0.30401,
          0.30832,
          0.28963,
          0.25567,
          0.24729,
          0.2801,
          0.25325,
          0.28743,
          0.30401,
          0.30115,
          0.28658,
          0.25549,
          0.24122,
          0.2728,
          0.24808,
          0.28755,
          0.30345,
          0.29517,
          0.27693,
          0.2444,
          0.24127,
          0.27857,
          0.251,
          0.28866,
          0.3031,
          0.28411,
          0.28383,
          0.25721,
          0.24647,
          0.28775,
          0.23814,
          0.28739,
          0.29887,
          0.29219,
          0.28605,
          0.25465,
          0.24912,
          0.28139,
          0.23964,
          0.28399,
          0.30935,
          0.28886,
          0.28607,
          0.25972,
          0.2343,
          0.26858,
          0.24098,
          0.27866,
          0.30035,
          0.30126,
          0.28161,
          0.2584,
          0.2273,
          0.26561,
          0.25252,
          0.28386,
          0.2801,
          0.28848,
          0.27759,
          0.26165,
          0.23775,
          0.26841,
          0.2335,
          0.27771,
          0.30164,
          0.30165,
          0.27794,
          0.22687,
          0.22741,
          0.26683,
          0.22083,
          0.24665,
          0.28561,
          0.30824,
          0.26065,
          0.25941,
          0.21547,
          0.26545,
          0.24435,
          0.28275,
          0.30787,
          0.28096,
          0.2898,
          0.23751,
          0.22039,
          0.26866,
          0.66773,
          0.65342,
          0.70389,
          0.69012,
          0.64893,
          0.57616,
          0.63281,
          0.66044
         ],
         "y0": " ",
         "yaxis": "y"
        }
       ],
       "layout": {
        "boxmode": "group",
        "legend": {
         "tracegroupgap": 0
        },
        "template": {
         "data": {
          "bar": [
           {
            "error_x": {
             "color": "#2a3f5f"
            },
            "error_y": {
             "color": "#2a3f5f"
            },
            "marker": {
             "line": {
              "color": "#E5ECF6",
              "width": 0.5
             },
             "pattern": {
              "fillmode": "overlay",
              "size": 10,
              "solidity": 0.2
             }
            },
            "type": "bar"
           }
          ],
          "barpolar": [
           {
            "marker": {
             "line": {
              "color": "#E5ECF6",
              "width": 0.5
             },
             "pattern": {
              "fillmode": "overlay",
              "size": 10,
              "solidity": 0.2
             }
            },
            "type": "barpolar"
           }
          ],
          "carpet": [
           {
            "aaxis": {
             "endlinecolor": "#2a3f5f",
             "gridcolor": "white",
             "linecolor": "white",
             "minorgridcolor": "white",
             "startlinecolor": "#2a3f5f"
            },
            "baxis": {
             "endlinecolor": "#2a3f5f",
             "gridcolor": "white",
             "linecolor": "white",
             "minorgridcolor": "white",
             "startlinecolor": "#2a3f5f"
            },
            "type": "carpet"
           }
          ],
          "choropleth": [
           {
            "colorbar": {
             "outlinewidth": 0,
             "ticks": ""
            },
            "type": "choropleth"
           }
          ],
          "contour": [
           {
            "colorbar": {
             "outlinewidth": 0,
             "ticks": ""
            },
            "colorscale": [
             [
              0,
              "#0d0887"
             ],
             [
              0.1111111111111111,
              "#46039f"
             ],
             [
              0.2222222222222222,
              "#7201a8"
             ],
             [
              0.3333333333333333,
              "#9c179e"
             ],
             [
              0.4444444444444444,
              "#bd3786"
             ],
             [
              0.5555555555555556,
              "#d8576b"
             ],
             [
              0.6666666666666666,
              "#ed7953"
             ],
             [
              0.7777777777777778,
              "#fb9f3a"
             ],
             [
              0.8888888888888888,
              "#fdca26"
             ],
             [
              1,
              "#f0f921"
             ]
            ],
            "type": "contour"
           }
          ],
          "contourcarpet": [
           {
            "colorbar": {
             "outlinewidth": 0,
             "ticks": ""
            },
            "type": "contourcarpet"
           }
          ],
          "heatmap": [
           {
            "colorbar": {
             "outlinewidth": 0,
             "ticks": ""
            },
            "colorscale": [
             [
              0,
              "#0d0887"
             ],
             [
              0.1111111111111111,
              "#46039f"
             ],
             [
              0.2222222222222222,
              "#7201a8"
             ],
             [
              0.3333333333333333,
              "#9c179e"
             ],
             [
              0.4444444444444444,
              "#bd3786"
             ],
             [
              0.5555555555555556,
              "#d8576b"
             ],
             [
              0.6666666666666666,
              "#ed7953"
             ],
             [
              0.7777777777777778,
              "#fb9f3a"
             ],
             [
              0.8888888888888888,
              "#fdca26"
             ],
             [
              1,
              "#f0f921"
             ]
            ],
            "type": "heatmap"
           }
          ],
          "heatmapgl": [
           {
            "colorbar": {
             "outlinewidth": 0,
             "ticks": ""
            },
            "colorscale": [
             [
              0,
              "#0d0887"
             ],
             [
              0.1111111111111111,
              "#46039f"
             ],
             [
              0.2222222222222222,
              "#7201a8"
             ],
             [
              0.3333333333333333,
              "#9c179e"
             ],
             [
              0.4444444444444444,
              "#bd3786"
             ],
             [
              0.5555555555555556,
              "#d8576b"
             ],
             [
              0.6666666666666666,
              "#ed7953"
             ],
             [
              0.7777777777777778,
              "#fb9f3a"
             ],
             [
              0.8888888888888888,
              "#fdca26"
             ],
             [
              1,
              "#f0f921"
             ]
            ],
            "type": "heatmapgl"
           }
          ],
          "histogram": [
           {
            "marker": {
             "pattern": {
              "fillmode": "overlay",
              "size": 10,
              "solidity": 0.2
             }
            },
            "type": "histogram"
           }
          ],
          "histogram2d": [
           {
            "colorbar": {
             "outlinewidth": 0,
             "ticks": ""
            },
            "colorscale": [
             [
              0,
              "#0d0887"
             ],
             [
              0.1111111111111111,
              "#46039f"
             ],
             [
              0.2222222222222222,
              "#7201a8"
             ],
             [
              0.3333333333333333,
              "#9c179e"
             ],
             [
              0.4444444444444444,
              "#bd3786"
             ],
             [
              0.5555555555555556,
              "#d8576b"
             ],
             [
              0.6666666666666666,
              "#ed7953"
             ],
             [
              0.7777777777777778,
              "#fb9f3a"
             ],
             [
              0.8888888888888888,
              "#fdca26"
             ],
             [
              1,
              "#f0f921"
             ]
            ],
            "type": "histogram2d"
           }
          ],
          "histogram2dcontour": [
           {
            "colorbar": {
             "outlinewidth": 0,
             "ticks": ""
            },
            "colorscale": [
             [
              0,
              "#0d0887"
             ],
             [
              0.1111111111111111,
              "#46039f"
             ],
             [
              0.2222222222222222,
              "#7201a8"
             ],
             [
              0.3333333333333333,
              "#9c179e"
             ],
             [
              0.4444444444444444,
              "#bd3786"
             ],
             [
              0.5555555555555556,
              "#d8576b"
             ],
             [
              0.6666666666666666,
              "#ed7953"
             ],
             [
              0.7777777777777778,
              "#fb9f3a"
             ],
             [
              0.8888888888888888,
              "#fdca26"
             ],
             [
              1,
              "#f0f921"
             ]
            ],
            "type": "histogram2dcontour"
           }
          ],
          "mesh3d": [
           {
            "colorbar": {
             "outlinewidth": 0,
             "ticks": ""
            },
            "type": "mesh3d"
           }
          ],
          "parcoords": [
           {
            "line": {
             "colorbar": {
              "outlinewidth": 0,
              "ticks": ""
             }
            },
            "type": "parcoords"
           }
          ],
          "pie": [
           {
            "automargin": true,
            "type": "pie"
           }
          ],
          "scatter": [
           {
            "fillpattern": {
             "fillmode": "overlay",
             "size": 10,
             "solidity": 0.2
            },
            "type": "scatter"
           }
          ],
          "scatter3d": [
           {
            "line": {
             "colorbar": {
              "outlinewidth": 0,
              "ticks": ""
             }
            },
            "marker": {
             "colorbar": {
              "outlinewidth": 0,
              "ticks": ""
             }
            },
            "type": "scatter3d"
           }
          ],
          "scattercarpet": [
           {
            "marker": {
             "colorbar": {
              "outlinewidth": 0,
              "ticks": ""
             }
            },
            "type": "scattercarpet"
           }
          ],
          "scattergeo": [
           {
            "marker": {
             "colorbar": {
              "outlinewidth": 0,
              "ticks": ""
             }
            },
            "type": "scattergeo"
           }
          ],
          "scattergl": [
           {
            "marker": {
             "colorbar": {
              "outlinewidth": 0,
              "ticks": ""
             }
            },
            "type": "scattergl"
           }
          ],
          "scattermapbox": [
           {
            "marker": {
             "colorbar": {
              "outlinewidth": 0,
              "ticks": ""
             }
            },
            "type": "scattermapbox"
           }
          ],
          "scatterpolar": [
           {
            "marker": {
             "colorbar": {
              "outlinewidth": 0,
              "ticks": ""
             }
            },
            "type": "scatterpolar"
           }
          ],
          "scatterpolargl": [
           {
            "marker": {
             "colorbar": {
              "outlinewidth": 0,
              "ticks": ""
             }
            },
            "type": "scatterpolargl"
           }
          ],
          "scatterternary": [
           {
            "marker": {
             "colorbar": {
              "outlinewidth": 0,
              "ticks": ""
             }
            },
            "type": "scatterternary"
           }
          ],
          "surface": [
           {
            "colorbar": {
             "outlinewidth": 0,
             "ticks": ""
            },
            "colorscale": [
             [
              0,
              "#0d0887"
             ],
             [
              0.1111111111111111,
              "#46039f"
             ],
             [
              0.2222222222222222,
              "#7201a8"
             ],
             [
              0.3333333333333333,
              "#9c179e"
             ],
             [
              0.4444444444444444,
              "#bd3786"
             ],
             [
              0.5555555555555556,
              "#d8576b"
             ],
             [
              0.6666666666666666,
              "#ed7953"
             ],
             [
              0.7777777777777778,
              "#fb9f3a"
             ],
             [
              0.8888888888888888,
              "#fdca26"
             ],
             [
              1,
              "#f0f921"
             ]
            ],
            "type": "surface"
           }
          ],
          "table": [
           {
            "cells": {
             "fill": {
              "color": "#EBF0F8"
             },
             "line": {
              "color": "white"
             }
            },
            "header": {
             "fill": {
              "color": "#C8D4E3"
             },
             "line": {
              "color": "white"
             }
            },
            "type": "table"
           }
          ]
         },
         "layout": {
          "annotationdefaults": {
           "arrowcolor": "#2a3f5f",
           "arrowhead": 0,
           "arrowwidth": 1
          },
          "autotypenumbers": "strict",
          "coloraxis": {
           "colorbar": {
            "outlinewidth": 0,
            "ticks": ""
           }
          },
          "colorscale": {
           "diverging": [
            [
             0,
             "#8e0152"
            ],
            [
             0.1,
             "#c51b7d"
            ],
            [
             0.2,
             "#de77ae"
            ],
            [
             0.3,
             "#f1b6da"
            ],
            [
             0.4,
             "#fde0ef"
            ],
            [
             0.5,
             "#f7f7f7"
            ],
            [
             0.6,
             "#e6f5d0"
            ],
            [
             0.7,
             "#b8e186"
            ],
            [
             0.8,
             "#7fbc41"
            ],
            [
             0.9,
             "#4d9221"
            ],
            [
             1,
             "#276419"
            ]
           ],
           "sequential": [
            [
             0,
             "#0d0887"
            ],
            [
             0.1111111111111111,
             "#46039f"
            ],
            [
             0.2222222222222222,
             "#7201a8"
            ],
            [
             0.3333333333333333,
             "#9c179e"
            ],
            [
             0.4444444444444444,
             "#bd3786"
            ],
            [
             0.5555555555555556,
             "#d8576b"
            ],
            [
             0.6666666666666666,
             "#ed7953"
            ],
            [
             0.7777777777777778,
             "#fb9f3a"
            ],
            [
             0.8888888888888888,
             "#fdca26"
            ],
            [
             1,
             "#f0f921"
            ]
           ],
           "sequentialminus": [
            [
             0,
             "#0d0887"
            ],
            [
             0.1111111111111111,
             "#46039f"
            ],
            [
             0.2222222222222222,
             "#7201a8"
            ],
            [
             0.3333333333333333,
             "#9c179e"
            ],
            [
             0.4444444444444444,
             "#bd3786"
            ],
            [
             0.5555555555555556,
             "#d8576b"
            ],
            [
             0.6666666666666666,
             "#ed7953"
            ],
            [
             0.7777777777777778,
             "#fb9f3a"
            ],
            [
             0.8888888888888888,
             "#fdca26"
            ],
            [
             1,
             "#f0f921"
            ]
           ]
          },
          "colorway": [
           "#636efa",
           "#EF553B",
           "#00cc96",
           "#ab63fa",
           "#FFA15A",
           "#19d3f3",
           "#FF6692",
           "#B6E880",
           "#FF97FF",
           "#FECB52"
          ],
          "font": {
           "color": "#2a3f5f"
          },
          "geo": {
           "bgcolor": "white",
           "lakecolor": "white",
           "landcolor": "#E5ECF6",
           "showlakes": true,
           "showland": true,
           "subunitcolor": "white"
          },
          "hoverlabel": {
           "align": "left"
          },
          "hovermode": "closest",
          "mapbox": {
           "style": "light"
          },
          "paper_bgcolor": "white",
          "plot_bgcolor": "#E5ECF6",
          "polar": {
           "angularaxis": {
            "gridcolor": "white",
            "linecolor": "white",
            "ticks": ""
           },
           "bgcolor": "#E5ECF6",
           "radialaxis": {
            "gridcolor": "white",
            "linecolor": "white",
            "ticks": ""
           }
          },
          "scene": {
           "xaxis": {
            "backgroundcolor": "#E5ECF6",
            "gridcolor": "white",
            "gridwidth": 2,
            "linecolor": "white",
            "showbackground": true,
            "ticks": "",
            "zerolinecolor": "white"
           },
           "yaxis": {
            "backgroundcolor": "#E5ECF6",
            "gridcolor": "white",
            "gridwidth": 2,
            "linecolor": "white",
            "showbackground": true,
            "ticks": "",
            "zerolinecolor": "white"
           },
           "zaxis": {
            "backgroundcolor": "#E5ECF6",
            "gridcolor": "white",
            "gridwidth": 2,
            "linecolor": "white",
            "showbackground": true,
            "ticks": "",
            "zerolinecolor": "white"
           }
          },
          "shapedefaults": {
           "line": {
            "color": "#2a3f5f"
           }
          },
          "ternary": {
           "aaxis": {
            "gridcolor": "white",
            "linecolor": "white",
            "ticks": ""
           },
           "baxis": {
            "gridcolor": "white",
            "linecolor": "white",
            "ticks": ""
           },
           "bgcolor": "#E5ECF6",
           "caxis": {
            "gridcolor": "white",
            "linecolor": "white",
            "ticks": ""
           }
          },
          "title": {
           "x": 0.05
          },
          "xaxis": {
           "automargin": true,
           "gridcolor": "white",
           "linecolor": "white",
           "ticks": "",
           "title": {
            "standoff": 15
           },
           "zerolinecolor": "white",
           "zerolinewidth": 2
          },
          "yaxis": {
           "automargin": true,
           "gridcolor": "white",
           "linecolor": "white",
           "ticks": "",
           "title": {
            "standoff": 15
           },
           "zerolinecolor": "white",
           "zerolinewidth": 2
          }
         }
        },
        "title": {
         "text": "Distribuição dos resultados de f1 para os experimentos - label: meta_14 | leak=False"
        },
        "xaxis": {
         "anchor": "y",
         "domain": [
          0,
          1
         ],
         "title": {
          "text": "model"
         }
        },
        "yaxis": {
         "anchor": "x",
         "domain": [
          0,
          1
         ],
         "title": {
          "text": "f1-score"
         }
        }
       }
      }
     },
     "metadata": {},
     "output_type": "display_data"
    },
    {
     "name": "stdout",
     "output_type": "stream",
     "text": [
      "label: meta_21 - leak: False\n"
     ]
    },
    {
     "data": {
      "application/vnd.plotly.v1+json": {
       "config": {
        "plotlyServerURL": "https://plot.ly"
       },
       "data": [
        {
         "alignmentgroup": "True",
         "boxpoints": "all",
         "hovertemplate": "model=%{x}<br>f1-score=%{y}<extra></extra>",
         "legendgroup": "",
         "marker": {
          "color": "#636efa"
         },
         "name": "",
         "notched": false,
         "offsetgroup": "",
         "orientation": "v",
         "showlegend": false,
         "type": "box",
         "x": [
          "LSTM_with_Attention",
          "LSTM_with_Attention",
          "LSTM_with_Attention",
          "LSTM_with_Attention",
          "LSTM_with_Attention",
          "LSTM_with_Attention",
          "LSTM_with_Attention",
          "LSTM_with_Attention",
          "LSTM_with_Attention",
          "LSTM_with_Attention",
          "LSTM_with_Attention",
          "LSTM_with_Attention",
          "LSTM_with_Attention",
          "LSTM_with_Attention",
          "LSTM_with_Attention",
          "LSTM_with_Attention",
          "LSTM_with_Attention",
          "LSTM_with_Attention",
          "LSTM_with_Attention",
          "LSTM_with_Attention",
          "LSTM_with_Attention",
          "LSTM_with_Attention",
          "LSTM_with_Attention",
          "LSTM_with_Attention",
          "LSTM_with_Attention",
          "LSTM_with_Attention",
          "LSTM_with_Attention",
          "LSTM_with_Attention",
          "LSTM_with_Attention",
          "LSTM_with_Attention",
          "LSTM_with_Attention",
          "LSTM_with_Attention",
          "LSTM_with_Attention",
          "LSTM_with_Attention",
          "LSTM_with_Attention",
          "LSTM_with_Attention",
          "LSTM_with_Attention",
          "LSTM_with_Attention",
          "LSTM_with_Attention",
          "LSTM_with_Attention",
          "LSTM_with_Attention",
          "LSTM_with_Attention",
          "LSTM_with_Attention",
          "LSTM_with_Attention",
          "LSTM_with_Attention",
          "LSTM_with_Attention",
          "LSTM_with_Attention",
          "LSTM_with_Attention",
          "LSTM_with_Attention",
          "LSTM_with_Attention",
          "LSTM_with_Attention",
          "LSTM_with_Attention",
          "LSTM_with_Attention",
          "LSTM_with_Attention",
          "LSTM_with_Attention",
          "LSTM_with_Attention",
          "LSTM_with_Attention",
          "LSTM_with_Attention",
          "LSTM_with_Attention",
          "LSTM_with_Attention",
          "LSTM_with_Attention",
          "LSTM_with_Attention",
          "LSTM_with_Attention",
          "LSTM_with_Attention",
          "LSTM_with_Attention",
          "LSTM_with_Attention",
          "LSTM_with_Attention",
          "LSTM_with_Attention",
          "LSTM_with_Attention",
          "LSTM_with_Attention",
          "LSTM_with_Attention",
          "LSTM_with_Attention",
          "LSTM_with_Attention",
          "LSTM_with_Attention",
          "LSTM_with_Attention",
          "LSTM_with_Attention",
          "LSTM_with_Attention",
          "LSTM_with_Attention",
          "LSTM_with_Attention",
          "LSTM_with_Attention",
          "LSTM_with_Attention",
          "LSTM_with_Attention",
          "LSTM_with_Attention",
          "LSTM_with_Attention",
          "LSTM_with_Attention",
          "LSTM_with_Attention",
          "LSTM_with_Attention",
          "LSTM_with_Attention",
          "LSTM_with_Attention",
          "LSTM_with_Attention",
          "LSTM_with_Attention",
          "LSTM_with_Attention",
          "LSTM_with_Attention",
          "LSTM_with_Attention",
          "LSTM_with_Attention",
          "LSTM_with_Attention",
          "LSTM_with_Attention",
          "LSTM_with_Attention",
          "LSTM_with_Attention",
          "LSTM_with_Attention",
          "LSTM_with_Attention",
          "LSTM_with_Attention",
          "LSTM_with_Attention",
          "LSTM_with_Attention",
          "Dummy_model",
          "Dummy_model",
          "Dummy_model",
          "Dummy_model",
          "Dummy_model",
          "Dummy_model",
          "Dummy_model",
          "Dummy_model"
         ],
         "x0": " ",
         "xaxis": "x",
         "y": [
          0.2805,
          0.32599,
          0.25919,
          0.25349,
          0.26294,
          0.25066,
          0.27476,
          0.27631,
          0.27791,
          0.3255,
          0.2592,
          0.2356,
          0.26294,
          0.25066,
          0.2765,
          0.27631,
          0.27791,
          0.32354,
          0.2592,
          0.24787,
          0.26248,
          0.25066,
          0.27476,
          0.27505,
          0.27759,
          0.32435,
          0.25818,
          0.23747,
          0.26248,
          0.25066,
          0.27633,
          0.27488,
          0.27654,
          0.28237,
          0.25682,
          0.23743,
          0.26261,
          0.25038,
          0.27173,
          0.27614,
          0.27573,
          0.31942,
          0.25738,
          0.23345,
          0.26248,
          0.24901,
          0.2749,
          0.27614,
          0.27831,
          0.31775,
          0.26076,
          0.23391,
          0.26318,
          0.24768,
          0.2762,
          0.27656,
          0.27444,
          0.31968,
          0.25504,
          0.24054,
          0.23291,
          0.23579,
          0.27262,
          0.27183,
          0.27827,
          0.32119,
          0.25691,
          0.23426,
          0.2326,
          0.2383,
          0.27146,
          0.27968,
          0.27402,
          0.31977,
          0.29891,
          0.23865,
          0.26167,
          0.22788,
          0.27024,
          0.2828,
          0.26828,
          0.31653,
          0.30845,
          0.2362,
          0.2593,
          0.23168,
          0.23671,
          0.28318,
          0.26916,
          0.27285,
          0.25479,
          0.24153,
          0.26425,
          0.22874,
          0.27058,
          0.28366,
          0.2647,
          0.27402,
          0.24985,
          0.23862,
          0.25925,
          0.23551,
          0.23918,
          0.28272,
          0.70415,
          0.74289,
          0.70641,
          0.66179,
          0.56906,
          0.53858,
          0.70078,
          0.6114
         ],
         "y0": " ",
         "yaxis": "y"
        }
       ],
       "layout": {
        "boxmode": "group",
        "legend": {
         "tracegroupgap": 0
        },
        "template": {
         "data": {
          "bar": [
           {
            "error_x": {
             "color": "#2a3f5f"
            },
            "error_y": {
             "color": "#2a3f5f"
            },
            "marker": {
             "line": {
              "color": "#E5ECF6",
              "width": 0.5
             },
             "pattern": {
              "fillmode": "overlay",
              "size": 10,
              "solidity": 0.2
             }
            },
            "type": "bar"
           }
          ],
          "barpolar": [
           {
            "marker": {
             "line": {
              "color": "#E5ECF6",
              "width": 0.5
             },
             "pattern": {
              "fillmode": "overlay",
              "size": 10,
              "solidity": 0.2
             }
            },
            "type": "barpolar"
           }
          ],
          "carpet": [
           {
            "aaxis": {
             "endlinecolor": "#2a3f5f",
             "gridcolor": "white",
             "linecolor": "white",
             "minorgridcolor": "white",
             "startlinecolor": "#2a3f5f"
            },
            "baxis": {
             "endlinecolor": "#2a3f5f",
             "gridcolor": "white",
             "linecolor": "white",
             "minorgridcolor": "white",
             "startlinecolor": "#2a3f5f"
            },
            "type": "carpet"
           }
          ],
          "choropleth": [
           {
            "colorbar": {
             "outlinewidth": 0,
             "ticks": ""
            },
            "type": "choropleth"
           }
          ],
          "contour": [
           {
            "colorbar": {
             "outlinewidth": 0,
             "ticks": ""
            },
            "colorscale": [
             [
              0,
              "#0d0887"
             ],
             [
              0.1111111111111111,
              "#46039f"
             ],
             [
              0.2222222222222222,
              "#7201a8"
             ],
             [
              0.3333333333333333,
              "#9c179e"
             ],
             [
              0.4444444444444444,
              "#bd3786"
             ],
             [
              0.5555555555555556,
              "#d8576b"
             ],
             [
              0.6666666666666666,
              "#ed7953"
             ],
             [
              0.7777777777777778,
              "#fb9f3a"
             ],
             [
              0.8888888888888888,
              "#fdca26"
             ],
             [
              1,
              "#f0f921"
             ]
            ],
            "type": "contour"
           }
          ],
          "contourcarpet": [
           {
            "colorbar": {
             "outlinewidth": 0,
             "ticks": ""
            },
            "type": "contourcarpet"
           }
          ],
          "heatmap": [
           {
            "colorbar": {
             "outlinewidth": 0,
             "ticks": ""
            },
            "colorscale": [
             [
              0,
              "#0d0887"
             ],
             [
              0.1111111111111111,
              "#46039f"
             ],
             [
              0.2222222222222222,
              "#7201a8"
             ],
             [
              0.3333333333333333,
              "#9c179e"
             ],
             [
              0.4444444444444444,
              "#bd3786"
             ],
             [
              0.5555555555555556,
              "#d8576b"
             ],
             [
              0.6666666666666666,
              "#ed7953"
             ],
             [
              0.7777777777777778,
              "#fb9f3a"
             ],
             [
              0.8888888888888888,
              "#fdca26"
             ],
             [
              1,
              "#f0f921"
             ]
            ],
            "type": "heatmap"
           }
          ],
          "heatmapgl": [
           {
            "colorbar": {
             "outlinewidth": 0,
             "ticks": ""
            },
            "colorscale": [
             [
              0,
              "#0d0887"
             ],
             [
              0.1111111111111111,
              "#46039f"
             ],
             [
              0.2222222222222222,
              "#7201a8"
             ],
             [
              0.3333333333333333,
              "#9c179e"
             ],
             [
              0.4444444444444444,
              "#bd3786"
             ],
             [
              0.5555555555555556,
              "#d8576b"
             ],
             [
              0.6666666666666666,
              "#ed7953"
             ],
             [
              0.7777777777777778,
              "#fb9f3a"
             ],
             [
              0.8888888888888888,
              "#fdca26"
             ],
             [
              1,
              "#f0f921"
             ]
            ],
            "type": "heatmapgl"
           }
          ],
          "histogram": [
           {
            "marker": {
             "pattern": {
              "fillmode": "overlay",
              "size": 10,
              "solidity": 0.2
             }
            },
            "type": "histogram"
           }
          ],
          "histogram2d": [
           {
            "colorbar": {
             "outlinewidth": 0,
             "ticks": ""
            },
            "colorscale": [
             [
              0,
              "#0d0887"
             ],
             [
              0.1111111111111111,
              "#46039f"
             ],
             [
              0.2222222222222222,
              "#7201a8"
             ],
             [
              0.3333333333333333,
              "#9c179e"
             ],
             [
              0.4444444444444444,
              "#bd3786"
             ],
             [
              0.5555555555555556,
              "#d8576b"
             ],
             [
              0.6666666666666666,
              "#ed7953"
             ],
             [
              0.7777777777777778,
              "#fb9f3a"
             ],
             [
              0.8888888888888888,
              "#fdca26"
             ],
             [
              1,
              "#f0f921"
             ]
            ],
            "type": "histogram2d"
           }
          ],
          "histogram2dcontour": [
           {
            "colorbar": {
             "outlinewidth": 0,
             "ticks": ""
            },
            "colorscale": [
             [
              0,
              "#0d0887"
             ],
             [
              0.1111111111111111,
              "#46039f"
             ],
             [
              0.2222222222222222,
              "#7201a8"
             ],
             [
              0.3333333333333333,
              "#9c179e"
             ],
             [
              0.4444444444444444,
              "#bd3786"
             ],
             [
              0.5555555555555556,
              "#d8576b"
             ],
             [
              0.6666666666666666,
              "#ed7953"
             ],
             [
              0.7777777777777778,
              "#fb9f3a"
             ],
             [
              0.8888888888888888,
              "#fdca26"
             ],
             [
              1,
              "#f0f921"
             ]
            ],
            "type": "histogram2dcontour"
           }
          ],
          "mesh3d": [
           {
            "colorbar": {
             "outlinewidth": 0,
             "ticks": ""
            },
            "type": "mesh3d"
           }
          ],
          "parcoords": [
           {
            "line": {
             "colorbar": {
              "outlinewidth": 0,
              "ticks": ""
             }
            },
            "type": "parcoords"
           }
          ],
          "pie": [
           {
            "automargin": true,
            "type": "pie"
           }
          ],
          "scatter": [
           {
            "fillpattern": {
             "fillmode": "overlay",
             "size": 10,
             "solidity": 0.2
            },
            "type": "scatter"
           }
          ],
          "scatter3d": [
           {
            "line": {
             "colorbar": {
              "outlinewidth": 0,
              "ticks": ""
             }
            },
            "marker": {
             "colorbar": {
              "outlinewidth": 0,
              "ticks": ""
             }
            },
            "type": "scatter3d"
           }
          ],
          "scattercarpet": [
           {
            "marker": {
             "colorbar": {
              "outlinewidth": 0,
              "ticks": ""
             }
            },
            "type": "scattercarpet"
           }
          ],
          "scattergeo": [
           {
            "marker": {
             "colorbar": {
              "outlinewidth": 0,
              "ticks": ""
             }
            },
            "type": "scattergeo"
           }
          ],
          "scattergl": [
           {
            "marker": {
             "colorbar": {
              "outlinewidth": 0,
              "ticks": ""
             }
            },
            "type": "scattergl"
           }
          ],
          "scattermapbox": [
           {
            "marker": {
             "colorbar": {
              "outlinewidth": 0,
              "ticks": ""
             }
            },
            "type": "scattermapbox"
           }
          ],
          "scatterpolar": [
           {
            "marker": {
             "colorbar": {
              "outlinewidth": 0,
              "ticks": ""
             }
            },
            "type": "scatterpolar"
           }
          ],
          "scatterpolargl": [
           {
            "marker": {
             "colorbar": {
              "outlinewidth": 0,
              "ticks": ""
             }
            },
            "type": "scatterpolargl"
           }
          ],
          "scatterternary": [
           {
            "marker": {
             "colorbar": {
              "outlinewidth": 0,
              "ticks": ""
             }
            },
            "type": "scatterternary"
           }
          ],
          "surface": [
           {
            "colorbar": {
             "outlinewidth": 0,
             "ticks": ""
            },
            "colorscale": [
             [
              0,
              "#0d0887"
             ],
             [
              0.1111111111111111,
              "#46039f"
             ],
             [
              0.2222222222222222,
              "#7201a8"
             ],
             [
              0.3333333333333333,
              "#9c179e"
             ],
             [
              0.4444444444444444,
              "#bd3786"
             ],
             [
              0.5555555555555556,
              "#d8576b"
             ],
             [
              0.6666666666666666,
              "#ed7953"
             ],
             [
              0.7777777777777778,
              "#fb9f3a"
             ],
             [
              0.8888888888888888,
              "#fdca26"
             ],
             [
              1,
              "#f0f921"
             ]
            ],
            "type": "surface"
           }
          ],
          "table": [
           {
            "cells": {
             "fill": {
              "color": "#EBF0F8"
             },
             "line": {
              "color": "white"
             }
            },
            "header": {
             "fill": {
              "color": "#C8D4E3"
             },
             "line": {
              "color": "white"
             }
            },
            "type": "table"
           }
          ]
         },
         "layout": {
          "annotationdefaults": {
           "arrowcolor": "#2a3f5f",
           "arrowhead": 0,
           "arrowwidth": 1
          },
          "autotypenumbers": "strict",
          "coloraxis": {
           "colorbar": {
            "outlinewidth": 0,
            "ticks": ""
           }
          },
          "colorscale": {
           "diverging": [
            [
             0,
             "#8e0152"
            ],
            [
             0.1,
             "#c51b7d"
            ],
            [
             0.2,
             "#de77ae"
            ],
            [
             0.3,
             "#f1b6da"
            ],
            [
             0.4,
             "#fde0ef"
            ],
            [
             0.5,
             "#f7f7f7"
            ],
            [
             0.6,
             "#e6f5d0"
            ],
            [
             0.7,
             "#b8e186"
            ],
            [
             0.8,
             "#7fbc41"
            ],
            [
             0.9,
             "#4d9221"
            ],
            [
             1,
             "#276419"
            ]
           ],
           "sequential": [
            [
             0,
             "#0d0887"
            ],
            [
             0.1111111111111111,
             "#46039f"
            ],
            [
             0.2222222222222222,
             "#7201a8"
            ],
            [
             0.3333333333333333,
             "#9c179e"
            ],
            [
             0.4444444444444444,
             "#bd3786"
            ],
            [
             0.5555555555555556,
             "#d8576b"
            ],
            [
             0.6666666666666666,
             "#ed7953"
            ],
            [
             0.7777777777777778,
             "#fb9f3a"
            ],
            [
             0.8888888888888888,
             "#fdca26"
            ],
            [
             1,
             "#f0f921"
            ]
           ],
           "sequentialminus": [
            [
             0,
             "#0d0887"
            ],
            [
             0.1111111111111111,
             "#46039f"
            ],
            [
             0.2222222222222222,
             "#7201a8"
            ],
            [
             0.3333333333333333,
             "#9c179e"
            ],
            [
             0.4444444444444444,
             "#bd3786"
            ],
            [
             0.5555555555555556,
             "#d8576b"
            ],
            [
             0.6666666666666666,
             "#ed7953"
            ],
            [
             0.7777777777777778,
             "#fb9f3a"
            ],
            [
             0.8888888888888888,
             "#fdca26"
            ],
            [
             1,
             "#f0f921"
            ]
           ]
          },
          "colorway": [
           "#636efa",
           "#EF553B",
           "#00cc96",
           "#ab63fa",
           "#FFA15A",
           "#19d3f3",
           "#FF6692",
           "#B6E880",
           "#FF97FF",
           "#FECB52"
          ],
          "font": {
           "color": "#2a3f5f"
          },
          "geo": {
           "bgcolor": "white",
           "lakecolor": "white",
           "landcolor": "#E5ECF6",
           "showlakes": true,
           "showland": true,
           "subunitcolor": "white"
          },
          "hoverlabel": {
           "align": "left"
          },
          "hovermode": "closest",
          "mapbox": {
           "style": "light"
          },
          "paper_bgcolor": "white",
          "plot_bgcolor": "#E5ECF6",
          "polar": {
           "angularaxis": {
            "gridcolor": "white",
            "linecolor": "white",
            "ticks": ""
           },
           "bgcolor": "#E5ECF6",
           "radialaxis": {
            "gridcolor": "white",
            "linecolor": "white",
            "ticks": ""
           }
          },
          "scene": {
           "xaxis": {
            "backgroundcolor": "#E5ECF6",
            "gridcolor": "white",
            "gridwidth": 2,
            "linecolor": "white",
            "showbackground": true,
            "ticks": "",
            "zerolinecolor": "white"
           },
           "yaxis": {
            "backgroundcolor": "#E5ECF6",
            "gridcolor": "white",
            "gridwidth": 2,
            "linecolor": "white",
            "showbackground": true,
            "ticks": "",
            "zerolinecolor": "white"
           },
           "zaxis": {
            "backgroundcolor": "#E5ECF6",
            "gridcolor": "white",
            "gridwidth": 2,
            "linecolor": "white",
            "showbackground": true,
            "ticks": "",
            "zerolinecolor": "white"
           }
          },
          "shapedefaults": {
           "line": {
            "color": "#2a3f5f"
           }
          },
          "ternary": {
           "aaxis": {
            "gridcolor": "white",
            "linecolor": "white",
            "ticks": ""
           },
           "baxis": {
            "gridcolor": "white",
            "linecolor": "white",
            "ticks": ""
           },
           "bgcolor": "#E5ECF6",
           "caxis": {
            "gridcolor": "white",
            "linecolor": "white",
            "ticks": ""
           }
          },
          "title": {
           "x": 0.05
          },
          "xaxis": {
           "automargin": true,
           "gridcolor": "white",
           "linecolor": "white",
           "ticks": "",
           "title": {
            "standoff": 15
           },
           "zerolinecolor": "white",
           "zerolinewidth": 2
          },
          "yaxis": {
           "automargin": true,
           "gridcolor": "white",
           "linecolor": "white",
           "ticks": "",
           "title": {
            "standoff": 15
           },
           "zerolinecolor": "white",
           "zerolinewidth": 2
          }
         }
        },
        "title": {
         "text": "Distribuição dos resultados de f1 para os experimentos - label: meta_21 | leak=False"
        },
        "xaxis": {
         "anchor": "y",
         "domain": [
          0,
          1
         ],
         "title": {
          "text": "model"
         }
        },
        "yaxis": {
         "anchor": "x",
         "domain": [
          0,
          1
         ],
         "title": {
          "text": "f1-score"
         }
        }
       }
      }
     },
     "metadata": {},
     "output_type": "display_data"
    }
   ],
   "source": [
    "for label in macro_clf.label_col.unique():\n",
    "\n",
    "    for leak in [False]:\n",
    "\n",
    "        print(f\"label: {label} - leak: {leak}\")\n",
    "        \n",
    "        if 'meta' in label: label_col = label.replace('meta', 'k')\n",
    "        if 'diff_close_mean_z_score' in label: label_col = label.replace('diff_close_mean_z_score', 'z')\n",
    "        \n",
    "        df_plt = macro_clf[(macro_clf.label_col == label) & (macro_clf.leak == leak)]\n",
    "        \n",
    "        fig = px.box(\n",
    "            df_plt, \n",
    "            x=\"model\", \n",
    "            y=\"f1-score\", \n",
    "            points=\"all\",\n",
    "            title = f'Distribuição dos resultados de f1 para os experimentos - label: {label} | leak={leak}'\n",
    "            )\n",
    "        \n",
    "        fig.write_image(PATH_REPORTS + f\"/images/box_plot_exp_dist_label={label}__leak={leak}_clf.png\")\n",
    "        fig.show()"
   ]
  },
  {
   "cell_type": "code",
   "execution_count": 18,
   "metadata": {},
   "outputs": [
    {
     "name": "stdout",
     "output_type": "stream",
     "text": [
      "\n",
      "##############################################\n",
      "# DOMAIN: Petróleo\n",
      "# ASSETS: ['PETR3.SA', 'PRIO3.SA']\n",
      "##############################################\n",
      "          \n",
      "Metricas macro - label meta\n"
     ]
    },
    {
     "data": {
      "text/html": [
       "<div>\n",
       "<style scoped>\n",
       "    .dataframe tbody tr th:only-of-type {\n",
       "        vertical-align: middle;\n",
       "    }\n",
       "\n",
       "    .dataframe tbody tr th {\n",
       "        vertical-align: top;\n",
       "    }\n",
       "\n",
       "    .dataframe thead th {\n",
       "        text-align: right;\n",
       "    }\n",
       "</style>\n",
       "<table border=\"1\" class=\"dataframe\">\n",
       "  <thead>\n",
       "    <tr style=\"text-align: right;\">\n",
       "      <th></th>\n",
       "      <th>ativo</th>\n",
       "      <th>seq_len</th>\n",
       "      <th>alvo</th>\n",
       "      <th>precision</th>\n",
       "      <th>recall</th>\n",
       "      <th>f1-score</th>\n",
       "      <th>model</th>\n",
       "      <th>leak</th>\n",
       "      <th>feature_cols</th>\n",
       "    </tr>\n",
       "  </thead>\n",
       "  <tbody>\n",
       "    <tr>\n",
       "      <th>11805</th>\n",
       "      <td>PETR3.SA</td>\n",
       "      <td>1</td>\n",
       "      <td>meta_14</td>\n",
       "      <td>0.66893</td>\n",
       "      <td>0.66658</td>\n",
       "      <td>0.66773</td>\n",
       "      <td>Dummy_model</td>\n",
       "      <td>False</td>\n",
       "      <td>['past_meta_14']</td>\n",
       "    </tr>\n",
       "    <tr>\n",
       "      <th>11796</th>\n",
       "      <td>PETR3.SA</td>\n",
       "      <td>1</td>\n",
       "      <td>meta_14</td>\n",
       "      <td>0.43335</td>\n",
       "      <td>0.43335</td>\n",
       "      <td>0.43335</td>\n",
       "      <td>Dummy_model</td>\n",
       "      <td>True</td>\n",
       "      <td>['past_meta_14']</td>\n",
       "    </tr>\n",
       "    <tr>\n",
       "      <th>11906</th>\n",
       "      <td>PRIO3.SA</td>\n",
       "      <td>1</td>\n",
       "      <td>meta_14</td>\n",
       "      <td>0.65342</td>\n",
       "      <td>0.65342</td>\n",
       "      <td>0.65342</td>\n",
       "      <td>Dummy_model</td>\n",
       "      <td>False</td>\n",
       "      <td>['past_meta_14']</td>\n",
       "    </tr>\n",
       "    <tr>\n",
       "      <th>11898</th>\n",
       "      <td>PRIO3.SA</td>\n",
       "      <td>1</td>\n",
       "      <td>meta_14</td>\n",
       "      <td>0.49031</td>\n",
       "      <td>0.49031</td>\n",
       "      <td>0.49031</td>\n",
       "      <td>Dummy_model</td>\n",
       "      <td>True</td>\n",
       "      <td>['past_meta_14']</td>\n",
       "    </tr>\n",
       "    <tr>\n",
       "      <th>11841</th>\n",
       "      <td>PETR3.SA</td>\n",
       "      <td>1</td>\n",
       "      <td>meta_21</td>\n",
       "      <td>0.70554</td>\n",
       "      <td>0.70281</td>\n",
       "      <td>0.70415</td>\n",
       "      <td>Dummy_model</td>\n",
       "      <td>False</td>\n",
       "      <td>['past_meta_21']</td>\n",
       "    </tr>\n",
       "    <tr>\n",
       "      <th>11832</th>\n",
       "      <td>PETR3.SA</td>\n",
       "      <td>1</td>\n",
       "      <td>meta_21</td>\n",
       "      <td>0.48540</td>\n",
       "      <td>0.48540</td>\n",
       "      <td>0.48540</td>\n",
       "      <td>Dummy_model</td>\n",
       "      <td>True</td>\n",
       "      <td>['past_meta_21']</td>\n",
       "    </tr>\n",
       "    <tr>\n",
       "      <th>11937</th>\n",
       "      <td>PRIO3.SA</td>\n",
       "      <td>1</td>\n",
       "      <td>meta_21</td>\n",
       "      <td>0.74257</td>\n",
       "      <td>0.74321</td>\n",
       "      <td>0.74289</td>\n",
       "      <td>Dummy_model</td>\n",
       "      <td>False</td>\n",
       "      <td>['past_meta_21']</td>\n",
       "    </tr>\n",
       "    <tr>\n",
       "      <th>11929</th>\n",
       "      <td>PRIO3.SA</td>\n",
       "      <td>1</td>\n",
       "      <td>meta_21</td>\n",
       "      <td>0.62055</td>\n",
       "      <td>0.62055</td>\n",
       "      <td>0.62055</td>\n",
       "      <td>Dummy_model</td>\n",
       "      <td>True</td>\n",
       "      <td>['past_meta_21']</td>\n",
       "    </tr>\n",
       "    <tr>\n",
       "      <th>11770</th>\n",
       "      <td>PETR3.SA</td>\n",
       "      <td>1</td>\n",
       "      <td>meta_7</td>\n",
       "      <td>0.53916</td>\n",
       "      <td>0.53916</td>\n",
       "      <td>0.53916</td>\n",
       "      <td>Dummy_model</td>\n",
       "      <td>False</td>\n",
       "      <td>['past_meta_7']</td>\n",
       "    </tr>\n",
       "    <tr>\n",
       "      <th>11762</th>\n",
       "      <td>PETR3.SA</td>\n",
       "      <td>1</td>\n",
       "      <td>meta_7</td>\n",
       "      <td>0.32921</td>\n",
       "      <td>0.32921</td>\n",
       "      <td>0.32921</td>\n",
       "      <td>Dummy_model</td>\n",
       "      <td>True</td>\n",
       "      <td>['past_meta_7']</td>\n",
       "    </tr>\n",
       "    <tr>\n",
       "      <th>11874</th>\n",
       "      <td>PRIO3.SA</td>\n",
       "      <td>1</td>\n",
       "      <td>meta_7</td>\n",
       "      <td>0.48352</td>\n",
       "      <td>0.48352</td>\n",
       "      <td>0.48352</td>\n",
       "      <td>Dummy_model</td>\n",
       "      <td>False</td>\n",
       "      <td>['past_meta_7']</td>\n",
       "    </tr>\n",
       "    <tr>\n",
       "      <th>11866</th>\n",
       "      <td>PRIO3.SA</td>\n",
       "      <td>1</td>\n",
       "      <td>meta_7</td>\n",
       "      <td>0.34315</td>\n",
       "      <td>0.34275</td>\n",
       "      <td>0.34295</td>\n",
       "      <td>Dummy_model</td>\n",
       "      <td>True</td>\n",
       "      <td>['past_meta_7']</td>\n",
       "    </tr>\n",
       "  </tbody>\n",
       "</table>\n",
       "</div>"
      ],
      "text/plain": [
       "          ativo  seq_len     alvo  precision   recall  f1-score        model  \\\n",
       "11805  PETR3.SA        1  meta_14    0.66893  0.66658   0.66773  Dummy_model   \n",
       "11796  PETR3.SA        1  meta_14    0.43335  0.43335   0.43335  Dummy_model   \n",
       "11906  PRIO3.SA        1  meta_14    0.65342  0.65342   0.65342  Dummy_model   \n",
       "11898  PRIO3.SA        1  meta_14    0.49031  0.49031   0.49031  Dummy_model   \n",
       "11841  PETR3.SA        1  meta_21    0.70554  0.70281   0.70415  Dummy_model   \n",
       "11832  PETR3.SA        1  meta_21    0.48540  0.48540   0.48540  Dummy_model   \n",
       "11937  PRIO3.SA        1  meta_21    0.74257  0.74321   0.74289  Dummy_model   \n",
       "11929  PRIO3.SA        1  meta_21    0.62055  0.62055   0.62055  Dummy_model   \n",
       "11770  PETR3.SA        1   meta_7    0.53916  0.53916   0.53916  Dummy_model   \n",
       "11762  PETR3.SA        1   meta_7    0.32921  0.32921   0.32921  Dummy_model   \n",
       "11874  PRIO3.SA        1   meta_7    0.48352  0.48352   0.48352  Dummy_model   \n",
       "11866  PRIO3.SA        1   meta_7    0.34315  0.34275   0.34295  Dummy_model   \n",
       "\n",
       "        leak      feature_cols  \n",
       "11805  False  ['past_meta_14']  \n",
       "11796   True  ['past_meta_14']  \n",
       "11906  False  ['past_meta_14']  \n",
       "11898   True  ['past_meta_14']  \n",
       "11841  False  ['past_meta_21']  \n",
       "11832   True  ['past_meta_21']  \n",
       "11937  False  ['past_meta_21']  \n",
       "11929   True  ['past_meta_21']  \n",
       "11770  False   ['past_meta_7']  \n",
       "11762   True   ['past_meta_7']  \n",
       "11874  False   ['past_meta_7']  \n",
       "11866   True   ['past_meta_7']  "
      ]
     },
     "metadata": {},
     "output_type": "display_data"
    },
    {
     "name": "stdout",
     "output_type": "stream",
     "text": [
      "Metricas regressao - label diff_close_mean_z_score\n"
     ]
    },
    {
     "data": {
      "text/html": [
       "<div>\n",
       "<style scoped>\n",
       "    .dataframe tbody tr th:only-of-type {\n",
       "        vertical-align: middle;\n",
       "    }\n",
       "\n",
       "    .dataframe tbody tr th {\n",
       "        vertical-align: top;\n",
       "    }\n",
       "\n",
       "    .dataframe thead th {\n",
       "        text-align: right;\n",
       "    }\n",
       "</style>\n",
       "<table border=\"1\" class=\"dataframe\">\n",
       "  <thead>\n",
       "    <tr style=\"text-align: right;\">\n",
       "      <th></th>\n",
       "      <th>Mean Absolute Error (MAE)</th>\n",
       "      <th>Mean Squared Error (MSE)</th>\n",
       "      <th>Root Mean Squared Error (RMSE)</th>\n",
       "      <th>R-squared (R2)</th>\n",
       "      <th>Mean Absolute Percentage Error (MAPE)</th>\n",
       "      <th>ativo</th>\n",
       "      <th>alvo</th>\n",
       "      <th>seq_len</th>\n",
       "      <th>model</th>\n",
       "      <th>leak</th>\n",
       "    </tr>\n",
       "  </thead>\n",
       "  <tbody>\n",
       "    <tr>\n",
       "      <th>871</th>\n",
       "      <td>0.40917</td>\n",
       "      <td>0.39888</td>\n",
       "      <td>0.63157</td>\n",
       "      <td>0.74236</td>\n",
       "      <td>1.22579</td>\n",
       "      <td>PETR3.SA</td>\n",
       "      <td>diff_close_mean_z_score_14</td>\n",
       "      <td>28</td>\n",
       "      <td>LSTM_with_Attention</td>\n",
       "      <td>False</td>\n",
       "    </tr>\n",
       "    <tr>\n",
       "      <th>870</th>\n",
       "      <td>0.53155</td>\n",
       "      <td>0.58508</td>\n",
       "      <td>0.76490</td>\n",
       "      <td>0.61920</td>\n",
       "      <td>1.63756</td>\n",
       "      <td>PETR3.SA</td>\n",
       "      <td>diff_close_mean_z_score_14</td>\n",
       "      <td>28</td>\n",
       "      <td>LSTM_with_Attention</td>\n",
       "      <td>True</td>\n",
       "    </tr>\n",
       "    <tr>\n",
       "      <th>19</th>\n",
       "      <td>0.39672</td>\n",
       "      <td>0.37316</td>\n",
       "      <td>0.61087</td>\n",
       "      <td>0.74965</td>\n",
       "      <td>1.04252</td>\n",
       "      <td>PRIO3.SA</td>\n",
       "      <td>diff_close_mean_z_score_14</td>\n",
       "      <td>1</td>\n",
       "      <td>LSTM_with_Attention</td>\n",
       "      <td>False</td>\n",
       "    </tr>\n",
       "    <tr>\n",
       "      <th>18</th>\n",
       "      <td>0.52957</td>\n",
       "      <td>0.53137</td>\n",
       "      <td>0.72895</td>\n",
       "      <td>0.64202</td>\n",
       "      <td>1.46902</td>\n",
       "      <td>PRIO3.SA</td>\n",
       "      <td>diff_close_mean_z_score_14</td>\n",
       "      <td>1</td>\n",
       "      <td>LSTM_with_Attention</td>\n",
       "      <td>True</td>\n",
       "    </tr>\n",
       "    <tr>\n",
       "      <th>1163</th>\n",
       "      <td>0.34849</td>\n",
       "      <td>0.30688</td>\n",
       "      <td>0.55397</td>\n",
       "      <td>0.80636</td>\n",
       "      <td>0.81748</td>\n",
       "      <td>PETR3.SA</td>\n",
       "      <td>diff_close_mean_z_score_21</td>\n",
       "      <td>49</td>\n",
       "      <td>LSTM_with_Attention</td>\n",
       "      <td>False</td>\n",
       "    </tr>\n",
       "    <tr>\n",
       "      <th>202</th>\n",
       "      <td>0.45591</td>\n",
       "      <td>0.44734</td>\n",
       "      <td>0.66883</td>\n",
       "      <td>0.72352</td>\n",
       "      <td>1.00518</td>\n",
       "      <td>PETR3.SA</td>\n",
       "      <td>diff_close_mean_z_score_21</td>\n",
       "      <td>3</td>\n",
       "      <td>LSTM_with_Attention</td>\n",
       "      <td>True</td>\n",
       "    </tr>\n",
       "    <tr>\n",
       "      <th>23</th>\n",
       "      <td>0.33884</td>\n",
       "      <td>0.28417</td>\n",
       "      <td>0.53308</td>\n",
       "      <td>0.82774</td>\n",
       "      <td>0.87883</td>\n",
       "      <td>PRIO3.SA</td>\n",
       "      <td>diff_close_mean_z_score_21</td>\n",
       "      <td>1</td>\n",
       "      <td>LSTM_with_Attention</td>\n",
       "      <td>False</td>\n",
       "    </tr>\n",
       "    <tr>\n",
       "      <th>22</th>\n",
       "      <td>0.46105</td>\n",
       "      <td>0.40547</td>\n",
       "      <td>0.63676</td>\n",
       "      <td>0.75144</td>\n",
       "      <td>1.23122</td>\n",
       "      <td>PRIO3.SA</td>\n",
       "      <td>diff_close_mean_z_score_21</td>\n",
       "      <td>1</td>\n",
       "      <td>LSTM_with_Attention</td>\n",
       "      <td>True</td>\n",
       "    </tr>\n",
       "    <tr>\n",
       "      <th>963</th>\n",
       "      <td>0.50820</td>\n",
       "      <td>0.54470</td>\n",
       "      <td>0.73803</td>\n",
       "      <td>0.54928</td>\n",
       "      <td>1.47531</td>\n",
       "      <td>PETR3.SA</td>\n",
       "      <td>diff_close_mean_z_score_7</td>\n",
       "      <td>35</td>\n",
       "      <td>LSTM_with_Attention</td>\n",
       "      <td>False</td>\n",
       "    </tr>\n",
       "    <tr>\n",
       "      <th>386</th>\n",
       "      <td>0.63986</td>\n",
       "      <td>0.76313</td>\n",
       "      <td>0.87357</td>\n",
       "      <td>0.38340</td>\n",
       "      <td>1.66932</td>\n",
       "      <td>PETR3.SA</td>\n",
       "      <td>diff_close_mean_z_score_7</td>\n",
       "      <td>5</td>\n",
       "      <td>LSTM_with_Attention</td>\n",
       "      <td>True</td>\n",
       "    </tr>\n",
       "    <tr>\n",
       "      <th>591</th>\n",
       "      <td>0.50141</td>\n",
       "      <td>0.50992</td>\n",
       "      <td>0.71409</td>\n",
       "      <td>0.58640</td>\n",
       "      <td>1.33540</td>\n",
       "      <td>PRIO3.SA</td>\n",
       "      <td>diff_close_mean_z_score_7</td>\n",
       "      <td>7</td>\n",
       "      <td>LSTM_with_Attention</td>\n",
       "      <td>False</td>\n",
       "    </tr>\n",
       "    <tr>\n",
       "      <th>398</th>\n",
       "      <td>0.63368</td>\n",
       "      <td>0.71217</td>\n",
       "      <td>0.84390</td>\n",
       "      <td>0.42692</td>\n",
       "      <td>1.79014</td>\n",
       "      <td>PRIO3.SA</td>\n",
       "      <td>diff_close_mean_z_score_7</td>\n",
       "      <td>5</td>\n",
       "      <td>LSTM_with_Attention</td>\n",
       "      <td>True</td>\n",
       "    </tr>\n",
       "  </tbody>\n",
       "</table>\n",
       "</div>"
      ],
      "text/plain": [
       "      Mean Absolute Error (MAE)  Mean Squared Error (MSE)  \\\n",
       "871                     0.40917                   0.39888   \n",
       "870                     0.53155                   0.58508   \n",
       "19                      0.39672                   0.37316   \n",
       "18                      0.52957                   0.53137   \n",
       "1163                    0.34849                   0.30688   \n",
       "202                     0.45591                   0.44734   \n",
       "23                      0.33884                   0.28417   \n",
       "22                      0.46105                   0.40547   \n",
       "963                     0.50820                   0.54470   \n",
       "386                     0.63986                   0.76313   \n",
       "591                     0.50141                   0.50992   \n",
       "398                     0.63368                   0.71217   \n",
       "\n",
       "      Root Mean Squared Error (RMSE)  R-squared (R2)  \\\n",
       "871                          0.63157         0.74236   \n",
       "870                          0.76490         0.61920   \n",
       "19                           0.61087         0.74965   \n",
       "18                           0.72895         0.64202   \n",
       "1163                         0.55397         0.80636   \n",
       "202                          0.66883         0.72352   \n",
       "23                           0.53308         0.82774   \n",
       "22                           0.63676         0.75144   \n",
       "963                          0.73803         0.54928   \n",
       "386                          0.87357         0.38340   \n",
       "591                          0.71409         0.58640   \n",
       "398                          0.84390         0.42692   \n",
       "\n",
       "      Mean Absolute Percentage Error (MAPE)     ativo  \\\n",
       "871                                 1.22579  PETR3.SA   \n",
       "870                                 1.63756  PETR3.SA   \n",
       "19                                  1.04252  PRIO3.SA   \n",
       "18                                  1.46902  PRIO3.SA   \n",
       "1163                                0.81748  PETR3.SA   \n",
       "202                                 1.00518  PETR3.SA   \n",
       "23                                  0.87883  PRIO3.SA   \n",
       "22                                  1.23122  PRIO3.SA   \n",
       "963                                 1.47531  PETR3.SA   \n",
       "386                                 1.66932  PETR3.SA   \n",
       "591                                 1.33540  PRIO3.SA   \n",
       "398                                 1.79014  PRIO3.SA   \n",
       "\n",
       "                            alvo  seq_len                model   leak  \n",
       "871   diff_close_mean_z_score_14       28  LSTM_with_Attention  False  \n",
       "870   diff_close_mean_z_score_14       28  LSTM_with_Attention   True  \n",
       "19    diff_close_mean_z_score_14        1  LSTM_with_Attention  False  \n",
       "18    diff_close_mean_z_score_14        1  LSTM_with_Attention   True  \n",
       "1163  diff_close_mean_z_score_21       49  LSTM_with_Attention  False  \n",
       "202   diff_close_mean_z_score_21        3  LSTM_with_Attention   True  \n",
       "23    diff_close_mean_z_score_21        1  LSTM_with_Attention  False  \n",
       "22    diff_close_mean_z_score_21        1  LSTM_with_Attention   True  \n",
       "963    diff_close_mean_z_score_7       35  LSTM_with_Attention  False  \n",
       "386    diff_close_mean_z_score_7        5  LSTM_with_Attention   True  \n",
       "591    diff_close_mean_z_score_7        7  LSTM_with_Attention  False  \n",
       "398    diff_close_mean_z_score_7        5  LSTM_with_Attention   True  "
      ]
     },
     "metadata": {},
     "output_type": "display_data"
    },
    {
     "name": "stdout",
     "output_type": "stream",
     "text": [
      "\n",
      "##############################################\n",
      "# DOMAIN: Mineração\n",
      "# ASSETS: ['VALE3.SA', 'GGBR3.SA']\n",
      "##############################################\n",
      "          \n",
      "Metricas macro - label meta\n"
     ]
    },
    {
     "data": {
      "text/html": [
       "<div>\n",
       "<style scoped>\n",
       "    .dataframe tbody tr th:only-of-type {\n",
       "        vertical-align: middle;\n",
       "    }\n",
       "\n",
       "    .dataframe tbody tr th {\n",
       "        vertical-align: top;\n",
       "    }\n",
       "\n",
       "    .dataframe thead th {\n",
       "        text-align: right;\n",
       "    }\n",
       "</style>\n",
       "<table border=\"1\" class=\"dataframe\">\n",
       "  <thead>\n",
       "    <tr style=\"text-align: right;\">\n",
       "      <th></th>\n",
       "      <th>ativo</th>\n",
       "      <th>seq_len</th>\n",
       "      <th>alvo</th>\n",
       "      <th>precision</th>\n",
       "      <th>recall</th>\n",
       "      <th>f1-score</th>\n",
       "      <th>model</th>\n",
       "      <th>leak</th>\n",
       "      <th>feature_cols</th>\n",
       "    </tr>\n",
       "  </thead>\n",
       "  <tbody>\n",
       "    <tr>\n",
       "      <th>12105</th>\n",
       "      <td>GGBR3.SA</td>\n",
       "      <td>1</td>\n",
       "      <td>meta_14</td>\n",
       "      <td>0.69012</td>\n",
       "      <td>0.69012</td>\n",
       "      <td>0.69012</td>\n",
       "      <td>Dummy_model</td>\n",
       "      <td>False</td>\n",
       "      <td>['past_meta_14']</td>\n",
       "    </tr>\n",
       "    <tr>\n",
       "      <th>12098</th>\n",
       "      <td>GGBR3.SA</td>\n",
       "      <td>1</td>\n",
       "      <td>meta_14</td>\n",
       "      <td>0.52911</td>\n",
       "      <td>0.52871</td>\n",
       "      <td>0.52891</td>\n",
       "      <td>Dummy_model</td>\n",
       "      <td>True</td>\n",
       "      <td>['past_meta_14']</td>\n",
       "    </tr>\n",
       "    <tr>\n",
       "      <th>12002</th>\n",
       "      <td>VALE3.SA</td>\n",
       "      <td>1</td>\n",
       "      <td>meta_14</td>\n",
       "      <td>0.70389</td>\n",
       "      <td>0.70389</td>\n",
       "      <td>0.70389</td>\n",
       "      <td>Dummy_model</td>\n",
       "      <td>False</td>\n",
       "      <td>['past_meta_14']</td>\n",
       "    </tr>\n",
       "    <tr>\n",
       "      <th>11994</th>\n",
       "      <td>VALE3.SA</td>\n",
       "      <td>1</td>\n",
       "      <td>meta_14</td>\n",
       "      <td>0.55919</td>\n",
       "      <td>0.55919</td>\n",
       "      <td>0.55919</td>\n",
       "      <td>Dummy_model</td>\n",
       "      <td>True</td>\n",
       "      <td>['past_meta_14']</td>\n",
       "    </tr>\n",
       "    <tr>\n",
       "      <th>12146</th>\n",
       "      <td>GGBR3.SA</td>\n",
       "      <td>1</td>\n",
       "      <td>meta_21</td>\n",
       "      <td>0.66197</td>\n",
       "      <td>0.66161</td>\n",
       "      <td>0.66179</td>\n",
       "      <td>Dummy_model</td>\n",
       "      <td>False</td>\n",
       "      <td>['past_meta_21']</td>\n",
       "    </tr>\n",
       "    <tr>\n",
       "      <th>12136</th>\n",
       "      <td>GGBR3.SA</td>\n",
       "      <td>1</td>\n",
       "      <td>meta_21</td>\n",
       "      <td>0.42447</td>\n",
       "      <td>0.42408</td>\n",
       "      <td>0.42427</td>\n",
       "      <td>Dummy_model</td>\n",
       "      <td>True</td>\n",
       "      <td>['past_meta_21']</td>\n",
       "    </tr>\n",
       "    <tr>\n",
       "      <th>12041</th>\n",
       "      <td>VALE3.SA</td>\n",
       "      <td>1</td>\n",
       "      <td>meta_21</td>\n",
       "      <td>0.70587</td>\n",
       "      <td>0.70695</td>\n",
       "      <td>0.70641</td>\n",
       "      <td>Dummy_model</td>\n",
       "      <td>False</td>\n",
       "      <td>['past_meta_21']</td>\n",
       "    </tr>\n",
       "    <tr>\n",
       "      <th>12032</th>\n",
       "      <td>VALE3.SA</td>\n",
       "      <td>1</td>\n",
       "      <td>meta_21</td>\n",
       "      <td>0.45227</td>\n",
       "      <td>0.45227</td>\n",
       "      <td>0.45227</td>\n",
       "      <td>Dummy_model</td>\n",
       "      <td>True</td>\n",
       "      <td>['past_meta_21']</td>\n",
       "    </tr>\n",
       "    <tr>\n",
       "      <th>12074</th>\n",
       "      <td>GGBR3.SA</td>\n",
       "      <td>1</td>\n",
       "      <td>meta_7</td>\n",
       "      <td>0.52066</td>\n",
       "      <td>0.52066</td>\n",
       "      <td>0.52066</td>\n",
       "      <td>Dummy_model</td>\n",
       "      <td>False</td>\n",
       "      <td>['past_meta_7']</td>\n",
       "    </tr>\n",
       "    <tr>\n",
       "      <th>12066</th>\n",
       "      <td>GGBR3.SA</td>\n",
       "      <td>1</td>\n",
       "      <td>meta_7</td>\n",
       "      <td>0.34135</td>\n",
       "      <td>0.34101</td>\n",
       "      <td>0.34118</td>\n",
       "      <td>Dummy_model</td>\n",
       "      <td>True</td>\n",
       "      <td>['past_meta_7']</td>\n",
       "    </tr>\n",
       "    <tr>\n",
       "      <th>11970</th>\n",
       "      <td>VALE3.SA</td>\n",
       "      <td>1</td>\n",
       "      <td>meta_7</td>\n",
       "      <td>0.60371</td>\n",
       "      <td>0.60401</td>\n",
       "      <td>0.60386</td>\n",
       "      <td>Dummy_model</td>\n",
       "      <td>False</td>\n",
       "      <td>['past_meta_7']</td>\n",
       "    </tr>\n",
       "    <tr>\n",
       "      <th>11962</th>\n",
       "      <td>VALE3.SA</td>\n",
       "      <td>1</td>\n",
       "      <td>meta_7</td>\n",
       "      <td>0.40358</td>\n",
       "      <td>0.40358</td>\n",
       "      <td>0.40358</td>\n",
       "      <td>Dummy_model</td>\n",
       "      <td>True</td>\n",
       "      <td>['past_meta_7']</td>\n",
       "    </tr>\n",
       "  </tbody>\n",
       "</table>\n",
       "</div>"
      ],
      "text/plain": [
       "          ativo  seq_len     alvo  precision   recall  f1-score        model  \\\n",
       "12105  GGBR3.SA        1  meta_14    0.69012  0.69012   0.69012  Dummy_model   \n",
       "12098  GGBR3.SA        1  meta_14    0.52911  0.52871   0.52891  Dummy_model   \n",
       "12002  VALE3.SA        1  meta_14    0.70389  0.70389   0.70389  Dummy_model   \n",
       "11994  VALE3.SA        1  meta_14    0.55919  0.55919   0.55919  Dummy_model   \n",
       "12146  GGBR3.SA        1  meta_21    0.66197  0.66161   0.66179  Dummy_model   \n",
       "12136  GGBR3.SA        1  meta_21    0.42447  0.42408   0.42427  Dummy_model   \n",
       "12041  VALE3.SA        1  meta_21    0.70587  0.70695   0.70641  Dummy_model   \n",
       "12032  VALE3.SA        1  meta_21    0.45227  0.45227   0.45227  Dummy_model   \n",
       "12074  GGBR3.SA        1   meta_7    0.52066  0.52066   0.52066  Dummy_model   \n",
       "12066  GGBR3.SA        1   meta_7    0.34135  0.34101   0.34118  Dummy_model   \n",
       "11970  VALE3.SA        1   meta_7    0.60371  0.60401   0.60386  Dummy_model   \n",
       "11962  VALE3.SA        1   meta_7    0.40358  0.40358   0.40358  Dummy_model   \n",
       "\n",
       "        leak      feature_cols  \n",
       "12105  False  ['past_meta_14']  \n",
       "12098   True  ['past_meta_14']  \n",
       "12002  False  ['past_meta_14']  \n",
       "11994   True  ['past_meta_14']  \n",
       "12146  False  ['past_meta_21']  \n",
       "12136   True  ['past_meta_21']  \n",
       "12041  False  ['past_meta_21']  \n",
       "12032   True  ['past_meta_21']  \n",
       "12074  False   ['past_meta_7']  \n",
       "12066   True   ['past_meta_7']  \n",
       "11970  False   ['past_meta_7']  \n",
       "11962   True   ['past_meta_7']  "
      ]
     },
     "metadata": {},
     "output_type": "display_data"
    },
    {
     "name": "stdout",
     "output_type": "stream",
     "text": [
      "Metricas regressao - label diff_close_mean_z_score\n"
     ]
    },
    {
     "data": {
      "text/html": [
       "<div>\n",
       "<style scoped>\n",
       "    .dataframe tbody tr th:only-of-type {\n",
       "        vertical-align: middle;\n",
       "    }\n",
       "\n",
       "    .dataframe tbody tr th {\n",
       "        vertical-align: top;\n",
       "    }\n",
       "\n",
       "    .dataframe thead th {\n",
       "        text-align: right;\n",
       "    }\n",
       "</style>\n",
       "<table border=\"1\" class=\"dataframe\">\n",
       "  <thead>\n",
       "    <tr style=\"text-align: right;\">\n",
       "      <th></th>\n",
       "      <th>Mean Absolute Error (MAE)</th>\n",
       "      <th>Mean Squared Error (MSE)</th>\n",
       "      <th>Root Mean Squared Error (RMSE)</th>\n",
       "      <th>R-squared (R2)</th>\n",
       "      <th>Mean Absolute Percentage Error (MAPE)</th>\n",
       "      <th>ativo</th>\n",
       "      <th>alvo</th>\n",
       "      <th>seq_len</th>\n",
       "      <th>model</th>\n",
       "      <th>leak</th>\n",
       "    </tr>\n",
       "  </thead>\n",
       "  <tbody>\n",
       "    <tr>\n",
       "      <th>1003</th>\n",
       "      <td>0.40989</td>\n",
       "      <td>0.36746</td>\n",
       "      <td>0.60619</td>\n",
       "      <td>0.76451</td>\n",
       "      <td>8.472400e-01</td>\n",
       "      <td>GGBR3.SA</td>\n",
       "      <td>diff_close_mean_z_score_14</td>\n",
       "      <td>35</td>\n",
       "      <td>LSTM_with_Attention</td>\n",
       "      <td>False</td>\n",
       "    </tr>\n",
       "    <tr>\n",
       "      <th>42</th>\n",
       "      <td>0.53267</td>\n",
       "      <td>0.52314</td>\n",
       "      <td>0.72328</td>\n",
       "      <td>0.65462</td>\n",
       "      <td>2.871210e+00</td>\n",
       "      <td>GGBR3.SA</td>\n",
       "      <td>diff_close_mean_z_score_14</td>\n",
       "      <td>1</td>\n",
       "      <td>LSTM_with_Attention</td>\n",
       "      <td>True</td>\n",
       "    </tr>\n",
       "    <tr>\n",
       "      <th>799</th>\n",
       "      <td>0.37996</td>\n",
       "      <td>0.32356</td>\n",
       "      <td>0.56882</td>\n",
       "      <td>0.79711</td>\n",
       "      <td>8.362800e-01</td>\n",
       "      <td>VALE3.SA</td>\n",
       "      <td>diff_close_mean_z_score_14</td>\n",
       "      <td>21</td>\n",
       "      <td>LSTM_with_Attention</td>\n",
       "      <td>False</td>\n",
       "    </tr>\n",
       "    <tr>\n",
       "      <th>30</th>\n",
       "      <td>0.49339</td>\n",
       "      <td>0.47421</td>\n",
       "      <td>0.68863</td>\n",
       "      <td>0.69748</td>\n",
       "      <td>1.093570e+00</td>\n",
       "      <td>VALE3.SA</td>\n",
       "      <td>diff_close_mean_z_score_14</td>\n",
       "      <td>1</td>\n",
       "      <td>LSTM_with_Attention</td>\n",
       "      <td>True</td>\n",
       "    </tr>\n",
       "    <tr>\n",
       "      <th>47</th>\n",
       "      <td>0.33911</td>\n",
       "      <td>0.27677</td>\n",
       "      <td>0.52609</td>\n",
       "      <td>0.83352</td>\n",
       "      <td>1.164590e+00</td>\n",
       "      <td>GGBR3.SA</td>\n",
       "      <td>diff_close_mean_z_score_21</td>\n",
       "      <td>1</td>\n",
       "      <td>LSTM_with_Attention</td>\n",
       "      <td>False</td>\n",
       "    </tr>\n",
       "    <tr>\n",
       "      <th>46</th>\n",
       "      <td>0.46047</td>\n",
       "      <td>0.40752</td>\n",
       "      <td>0.63837</td>\n",
       "      <td>0.75106</td>\n",
       "      <td>1.663850e+00</td>\n",
       "      <td>GGBR3.SA</td>\n",
       "      <td>diff_close_mean_z_score_21</td>\n",
       "      <td>1</td>\n",
       "      <td>LSTM_with_Attention</td>\n",
       "      <td>True</td>\n",
       "    </tr>\n",
       "    <tr>\n",
       "      <th>35</th>\n",
       "      <td>0.30513</td>\n",
       "      <td>0.22024</td>\n",
       "      <td>0.46930</td>\n",
       "      <td>0.87814</td>\n",
       "      <td>9.215600e-01</td>\n",
       "      <td>VALE3.SA</td>\n",
       "      <td>diff_close_mean_z_score_21</td>\n",
       "      <td>1</td>\n",
       "      <td>LSTM_with_Attention</td>\n",
       "      <td>False</td>\n",
       "    </tr>\n",
       "    <tr>\n",
       "      <th>34</th>\n",
       "      <td>0.41497</td>\n",
       "      <td>0.34561</td>\n",
       "      <td>0.58789</td>\n",
       "      <td>0.80277</td>\n",
       "      <td>1.322150e+00</td>\n",
       "      <td>VALE3.SA</td>\n",
       "      <td>diff_close_mean_z_score_21</td>\n",
       "      <td>1</td>\n",
       "      <td>LSTM_with_Attention</td>\n",
       "      <td>True</td>\n",
       "    </tr>\n",
       "    <tr>\n",
       "      <th>135</th>\n",
       "      <td>0.51107</td>\n",
       "      <td>0.52467</td>\n",
       "      <td>0.72434</td>\n",
       "      <td>0.55798</td>\n",
       "      <td>1.039010e+00</td>\n",
       "      <td>GGBR3.SA</td>\n",
       "      <td>diff_close_mean_z_score_7</td>\n",
       "      <td>2</td>\n",
       "      <td>LSTM_with_Attention</td>\n",
       "      <td>False</td>\n",
       "    </tr>\n",
       "    <tr>\n",
       "      <th>422</th>\n",
       "      <td>0.64527</td>\n",
       "      <td>0.73248</td>\n",
       "      <td>0.85585</td>\n",
       "      <td>0.39339</td>\n",
       "      <td>1.382840e+00</td>\n",
       "      <td>GGBR3.SA</td>\n",
       "      <td>diff_close_mean_z_score_7</td>\n",
       "      <td>5</td>\n",
       "      <td>LSTM_with_Attention</td>\n",
       "      <td>True</td>\n",
       "    </tr>\n",
       "    <tr>\n",
       "      <th>27</th>\n",
       "      <td>0.48756</td>\n",
       "      <td>0.46601</td>\n",
       "      <td>0.68265</td>\n",
       "      <td>0.64561</td>\n",
       "      <td>1.388931e+11</td>\n",
       "      <td>VALE3.SA</td>\n",
       "      <td>diff_close_mean_z_score_7</td>\n",
       "      <td>1</td>\n",
       "      <td>LSTM_with_Attention</td>\n",
       "      <td>False</td>\n",
       "    </tr>\n",
       "    <tr>\n",
       "      <th>314</th>\n",
       "      <td>0.61016</td>\n",
       "      <td>0.64776</td>\n",
       "      <td>0.80484</td>\n",
       "      <td>0.49643</td>\n",
       "      <td>1.829259e+11</td>\n",
       "      <td>VALE3.SA</td>\n",
       "      <td>diff_close_mean_z_score_7</td>\n",
       "      <td>4</td>\n",
       "      <td>LSTM_with_Attention</td>\n",
       "      <td>True</td>\n",
       "    </tr>\n",
       "  </tbody>\n",
       "</table>\n",
       "</div>"
      ],
      "text/plain": [
       "      Mean Absolute Error (MAE)  Mean Squared Error (MSE)  \\\n",
       "1003                    0.40989                   0.36746   \n",
       "42                      0.53267                   0.52314   \n",
       "799                     0.37996                   0.32356   \n",
       "30                      0.49339                   0.47421   \n",
       "47                      0.33911                   0.27677   \n",
       "46                      0.46047                   0.40752   \n",
       "35                      0.30513                   0.22024   \n",
       "34                      0.41497                   0.34561   \n",
       "135                     0.51107                   0.52467   \n",
       "422                     0.64527                   0.73248   \n",
       "27                      0.48756                   0.46601   \n",
       "314                     0.61016                   0.64776   \n",
       "\n",
       "      Root Mean Squared Error (RMSE)  R-squared (R2)  \\\n",
       "1003                         0.60619         0.76451   \n",
       "42                           0.72328         0.65462   \n",
       "799                          0.56882         0.79711   \n",
       "30                           0.68863         0.69748   \n",
       "47                           0.52609         0.83352   \n",
       "46                           0.63837         0.75106   \n",
       "35                           0.46930         0.87814   \n",
       "34                           0.58789         0.80277   \n",
       "135                          0.72434         0.55798   \n",
       "422                          0.85585         0.39339   \n",
       "27                           0.68265         0.64561   \n",
       "314                          0.80484         0.49643   \n",
       "\n",
       "      Mean Absolute Percentage Error (MAPE)     ativo  \\\n",
       "1003                           8.472400e-01  GGBR3.SA   \n",
       "42                             2.871210e+00  GGBR3.SA   \n",
       "799                            8.362800e-01  VALE3.SA   \n",
       "30                             1.093570e+00  VALE3.SA   \n",
       "47                             1.164590e+00  GGBR3.SA   \n",
       "46                             1.663850e+00  GGBR3.SA   \n",
       "35                             9.215600e-01  VALE3.SA   \n",
       "34                             1.322150e+00  VALE3.SA   \n",
       "135                            1.039010e+00  GGBR3.SA   \n",
       "422                            1.382840e+00  GGBR3.SA   \n",
       "27                             1.388931e+11  VALE3.SA   \n",
       "314                            1.829259e+11  VALE3.SA   \n",
       "\n",
       "                            alvo  seq_len                model   leak  \n",
       "1003  diff_close_mean_z_score_14       35  LSTM_with_Attention  False  \n",
       "42    diff_close_mean_z_score_14        1  LSTM_with_Attention   True  \n",
       "799   diff_close_mean_z_score_14       21  LSTM_with_Attention  False  \n",
       "30    diff_close_mean_z_score_14        1  LSTM_with_Attention   True  \n",
       "47    diff_close_mean_z_score_21        1  LSTM_with_Attention  False  \n",
       "46    diff_close_mean_z_score_21        1  LSTM_with_Attention   True  \n",
       "35    diff_close_mean_z_score_21        1  LSTM_with_Attention  False  \n",
       "34    diff_close_mean_z_score_21        1  LSTM_with_Attention   True  \n",
       "135    diff_close_mean_z_score_7        2  LSTM_with_Attention  False  \n",
       "422    diff_close_mean_z_score_7        5  LSTM_with_Attention   True  \n",
       "27     diff_close_mean_z_score_7        1  LSTM_with_Attention  False  \n",
       "314    diff_close_mean_z_score_7        4  LSTM_with_Attention   True  "
      ]
     },
     "metadata": {},
     "output_type": "display_data"
    },
    {
     "name": "stdout",
     "output_type": "stream",
     "text": [
      "\n",
      "##############################################\n",
      "# DOMAIN: Financeiro\n",
      "# ASSETS: ['ABCB4.SA', 'ITUB3.SA']\n",
      "##############################################\n",
      "          \n",
      "Metricas macro - label meta\n"
     ]
    },
    {
     "data": {
      "text/html": [
       "<div>\n",
       "<style scoped>\n",
       "    .dataframe tbody tr th:only-of-type {\n",
       "        vertical-align: middle;\n",
       "    }\n",
       "\n",
       "    .dataframe tbody tr th {\n",
       "        vertical-align: top;\n",
       "    }\n",
       "\n",
       "    .dataframe thead th {\n",
       "        text-align: right;\n",
       "    }\n",
       "</style>\n",
       "<table border=\"1\" class=\"dataframe\">\n",
       "  <thead>\n",
       "    <tr style=\"text-align: right;\">\n",
       "      <th></th>\n",
       "      <th>ativo</th>\n",
       "      <th>seq_len</th>\n",
       "      <th>alvo</th>\n",
       "      <th>precision</th>\n",
       "      <th>recall</th>\n",
       "      <th>f1-score</th>\n",
       "      <th>model</th>\n",
       "      <th>leak</th>\n",
       "      <th>feature_cols</th>\n",
       "    </tr>\n",
       "  </thead>\n",
       "  <tbody>\n",
       "    <tr>\n",
       "      <th>12210</th>\n",
       "      <td>ABCB4.SA</td>\n",
       "      <td>1</td>\n",
       "      <td>meta_14</td>\n",
       "      <td>0.64893</td>\n",
       "      <td>0.64893</td>\n",
       "      <td>0.64893</td>\n",
       "      <td>Dummy_model</td>\n",
       "      <td>False</td>\n",
       "      <td>['past_meta_14']</td>\n",
       "    </tr>\n",
       "    <tr>\n",
       "      <th>12202</th>\n",
       "      <td>ABCB4.SA</td>\n",
       "      <td>1</td>\n",
       "      <td>meta_14</td>\n",
       "      <td>0.47122</td>\n",
       "      <td>0.47122</td>\n",
       "      <td>0.47122</td>\n",
       "      <td>Dummy_model</td>\n",
       "      <td>True</td>\n",
       "      <td>['past_meta_14']</td>\n",
       "    </tr>\n",
       "    <tr>\n",
       "      <th>12314</th>\n",
       "      <td>ITUB3.SA</td>\n",
       "      <td>1</td>\n",
       "      <td>meta_14</td>\n",
       "      <td>0.57602</td>\n",
       "      <td>0.57630</td>\n",
       "      <td>0.57616</td>\n",
       "      <td>Dummy_model</td>\n",
       "      <td>False</td>\n",
       "      <td>['past_meta_14']</td>\n",
       "    </tr>\n",
       "    <tr>\n",
       "      <th>12305</th>\n",
       "      <td>ITUB3.SA</td>\n",
       "      <td>1</td>\n",
       "      <td>meta_14</td>\n",
       "      <td>0.46040</td>\n",
       "      <td>0.46071</td>\n",
       "      <td>0.46056</td>\n",
       "      <td>Dummy_model</td>\n",
       "      <td>True</td>\n",
       "      <td>['past_meta_14']</td>\n",
       "    </tr>\n",
       "    <tr>\n",
       "      <th>12247</th>\n",
       "      <td>ABCB4.SA</td>\n",
       "      <td>1</td>\n",
       "      <td>meta_21</td>\n",
       "      <td>0.56930</td>\n",
       "      <td>0.56882</td>\n",
       "      <td>0.56906</td>\n",
       "      <td>Dummy_model</td>\n",
       "      <td>False</td>\n",
       "      <td>['past_meta_21']</td>\n",
       "    </tr>\n",
       "    <tr>\n",
       "      <th>12237</th>\n",
       "      <td>ABCB4.SA</td>\n",
       "      <td>1</td>\n",
       "      <td>meta_21</td>\n",
       "      <td>0.44868</td>\n",
       "      <td>0.44868</td>\n",
       "      <td>0.44868</td>\n",
       "      <td>Dummy_model</td>\n",
       "      <td>True</td>\n",
       "      <td>['past_meta_21']</td>\n",
       "    </tr>\n",
       "    <tr>\n",
       "      <th>12354</th>\n",
       "      <td>ITUB3.SA</td>\n",
       "      <td>1</td>\n",
       "      <td>meta_21</td>\n",
       "      <td>0.53849</td>\n",
       "      <td>0.53866</td>\n",
       "      <td>0.53858</td>\n",
       "      <td>Dummy_model</td>\n",
       "      <td>False</td>\n",
       "      <td>['past_meta_21']</td>\n",
       "    </tr>\n",
       "    <tr>\n",
       "      <th>12344</th>\n",
       "      <td>ITUB3.SA</td>\n",
       "      <td>1</td>\n",
       "      <td>meta_21</td>\n",
       "      <td>0.45801</td>\n",
       "      <td>0.45834</td>\n",
       "      <td>0.45817</td>\n",
       "      <td>Dummy_model</td>\n",
       "      <td>True</td>\n",
       "      <td>['past_meta_21']</td>\n",
       "    </tr>\n",
       "    <tr>\n",
       "      <th>12178</th>\n",
       "      <td>ABCB4.SA</td>\n",
       "      <td>1</td>\n",
       "      <td>meta_7</td>\n",
       "      <td>0.51475</td>\n",
       "      <td>0.51433</td>\n",
       "      <td>0.51454</td>\n",
       "      <td>Dummy_model</td>\n",
       "      <td>False</td>\n",
       "      <td>['past_meta_7']</td>\n",
       "    </tr>\n",
       "    <tr>\n",
       "      <th>12170</th>\n",
       "      <td>ABCB4.SA</td>\n",
       "      <td>1</td>\n",
       "      <td>meta_7</td>\n",
       "      <td>0.35303</td>\n",
       "      <td>0.35303</td>\n",
       "      <td>0.35303</td>\n",
       "      <td>Dummy_model</td>\n",
       "      <td>True</td>\n",
       "      <td>['past_meta_7']</td>\n",
       "    </tr>\n",
       "    <tr>\n",
       "      <th>12278</th>\n",
       "      <td>ITUB3.SA</td>\n",
       "      <td>1</td>\n",
       "      <td>meta_7</td>\n",
       "      <td>0.43297</td>\n",
       "      <td>0.43297</td>\n",
       "      <td>0.43297</td>\n",
       "      <td>Dummy_model</td>\n",
       "      <td>False</td>\n",
       "      <td>['past_meta_7']</td>\n",
       "    </tr>\n",
       "    <tr>\n",
       "      <th>12270</th>\n",
       "      <td>ITUB3.SA</td>\n",
       "      <td>1</td>\n",
       "      <td>meta_7</td>\n",
       "      <td>0.35265</td>\n",
       "      <td>0.35265</td>\n",
       "      <td>0.35265</td>\n",
       "      <td>Dummy_model</td>\n",
       "      <td>True</td>\n",
       "      <td>['past_meta_7']</td>\n",
       "    </tr>\n",
       "  </tbody>\n",
       "</table>\n",
       "</div>"
      ],
      "text/plain": [
       "          ativo  seq_len     alvo  precision   recall  f1-score        model  \\\n",
       "12210  ABCB4.SA        1  meta_14    0.64893  0.64893   0.64893  Dummy_model   \n",
       "12202  ABCB4.SA        1  meta_14    0.47122  0.47122   0.47122  Dummy_model   \n",
       "12314  ITUB3.SA        1  meta_14    0.57602  0.57630   0.57616  Dummy_model   \n",
       "12305  ITUB3.SA        1  meta_14    0.46040  0.46071   0.46056  Dummy_model   \n",
       "12247  ABCB4.SA        1  meta_21    0.56930  0.56882   0.56906  Dummy_model   \n",
       "12237  ABCB4.SA        1  meta_21    0.44868  0.44868   0.44868  Dummy_model   \n",
       "12354  ITUB3.SA        1  meta_21    0.53849  0.53866   0.53858  Dummy_model   \n",
       "12344  ITUB3.SA        1  meta_21    0.45801  0.45834   0.45817  Dummy_model   \n",
       "12178  ABCB4.SA        1   meta_7    0.51475  0.51433   0.51454  Dummy_model   \n",
       "12170  ABCB4.SA        1   meta_7    0.35303  0.35303   0.35303  Dummy_model   \n",
       "12278  ITUB3.SA        1   meta_7    0.43297  0.43297   0.43297  Dummy_model   \n",
       "12270  ITUB3.SA        1   meta_7    0.35265  0.35265   0.35265  Dummy_model   \n",
       "\n",
       "        leak      feature_cols  \n",
       "12210  False  ['past_meta_14']  \n",
       "12202   True  ['past_meta_14']  \n",
       "12314  False  ['past_meta_14']  \n",
       "12305   True  ['past_meta_14']  \n",
       "12247  False  ['past_meta_21']  \n",
       "12237   True  ['past_meta_21']  \n",
       "12354  False  ['past_meta_21']  \n",
       "12344   True  ['past_meta_21']  \n",
       "12178  False   ['past_meta_7']  \n",
       "12170   True   ['past_meta_7']  \n",
       "12278  False   ['past_meta_7']  \n",
       "12270   True   ['past_meta_7']  "
      ]
     },
     "metadata": {},
     "output_type": "display_data"
    },
    {
     "name": "stdout",
     "output_type": "stream",
     "text": [
      "Metricas regressao - label diff_close_mean_z_score\n"
     ]
    },
    {
     "data": {
      "text/html": [
       "<div>\n",
       "<style scoped>\n",
       "    .dataframe tbody tr th:only-of-type {\n",
       "        vertical-align: middle;\n",
       "    }\n",
       "\n",
       "    .dataframe tbody tr th {\n",
       "        vertical-align: top;\n",
       "    }\n",
       "\n",
       "    .dataframe thead th {\n",
       "        text-align: right;\n",
       "    }\n",
       "</style>\n",
       "<table border=\"1\" class=\"dataframe\">\n",
       "  <thead>\n",
       "    <tr style=\"text-align: right;\">\n",
       "      <th></th>\n",
       "      <th>Mean Absolute Error (MAE)</th>\n",
       "      <th>Mean Squared Error (MSE)</th>\n",
       "      <th>Root Mean Squared Error (RMSE)</th>\n",
       "      <th>R-squared (R2)</th>\n",
       "      <th>Mean Absolute Percentage Error (MAPE)</th>\n",
       "      <th>ativo</th>\n",
       "      <th>alvo</th>\n",
       "      <th>seq_len</th>\n",
       "      <th>model</th>\n",
       "      <th>leak</th>\n",
       "    </tr>\n",
       "  </thead>\n",
       "  <tbody>\n",
       "    <tr>\n",
       "      <th>1111</th>\n",
       "      <td>0.44426</td>\n",
       "      <td>0.44645</td>\n",
       "      <td>0.66817</td>\n",
       "      <td>0.68949</td>\n",
       "      <td>1.666440e+00</td>\n",
       "      <td>ABCB4.SA</td>\n",
       "      <td>diff_close_mean_z_score_14</td>\n",
       "      <td>42</td>\n",
       "      <td>LSTM_with_Attention</td>\n",
       "      <td>False</td>\n",
       "    </tr>\n",
       "    <tr>\n",
       "      <th>438</th>\n",
       "      <td>0.59116</td>\n",
       "      <td>0.63933</td>\n",
       "      <td>0.79958</td>\n",
       "      <td>0.55167</td>\n",
       "      <td>2.459780e+00</td>\n",
       "      <td>ABCB4.SA</td>\n",
       "      <td>diff_close_mean_z_score_14</td>\n",
       "      <td>5</td>\n",
       "      <td>LSTM_with_Attention</td>\n",
       "      <td>True</td>\n",
       "    </tr>\n",
       "    <tr>\n",
       "      <th>67</th>\n",
       "      <td>0.38814</td>\n",
       "      <td>0.35300</td>\n",
       "      <td>0.59414</td>\n",
       "      <td>0.78711</td>\n",
       "      <td>1.108771e+02</td>\n",
       "      <td>ITUB3.SA</td>\n",
       "      <td>diff_close_mean_z_score_14</td>\n",
       "      <td>1</td>\n",
       "      <td>LSTM_with_Attention</td>\n",
       "      <td>False</td>\n",
       "    </tr>\n",
       "    <tr>\n",
       "      <th>66</th>\n",
       "      <td>0.50067</td>\n",
       "      <td>0.50085</td>\n",
       "      <td>0.70771</td>\n",
       "      <td>0.69763</td>\n",
       "      <td>1.600310e+02</td>\n",
       "      <td>ITUB3.SA</td>\n",
       "      <td>diff_close_mean_z_score_14</td>\n",
       "      <td>1</td>\n",
       "      <td>LSTM_with_Attention</td>\n",
       "      <td>True</td>\n",
       "    </tr>\n",
       "    <tr>\n",
       "      <th>59</th>\n",
       "      <td>0.38132</td>\n",
       "      <td>0.33990</td>\n",
       "      <td>0.58301</td>\n",
       "      <td>0.78049</td>\n",
       "      <td>1.141160e+00</td>\n",
       "      <td>ABCB4.SA</td>\n",
       "      <td>diff_close_mean_z_score_21</td>\n",
       "      <td>1</td>\n",
       "      <td>LSTM_with_Attention</td>\n",
       "      <td>False</td>\n",
       "    </tr>\n",
       "    <tr>\n",
       "      <th>58</th>\n",
       "      <td>0.51659</td>\n",
       "      <td>0.48855</td>\n",
       "      <td>0.69896</td>\n",
       "      <td>0.68276</td>\n",
       "      <td>1.601160e+00</td>\n",
       "      <td>ABCB4.SA</td>\n",
       "      <td>diff_close_mean_z_score_21</td>\n",
       "      <td>1</td>\n",
       "      <td>LSTM_with_Attention</td>\n",
       "      <td>True</td>\n",
       "    </tr>\n",
       "    <tr>\n",
       "      <th>71</th>\n",
       "      <td>0.31693</td>\n",
       "      <td>0.25537</td>\n",
       "      <td>0.50534</td>\n",
       "      <td>0.86047</td>\n",
       "      <td>1.839300e+00</td>\n",
       "      <td>ITUB3.SA</td>\n",
       "      <td>diff_close_mean_z_score_21</td>\n",
       "      <td>1</td>\n",
       "      <td>LSTM_with_Attention</td>\n",
       "      <td>False</td>\n",
       "    </tr>\n",
       "    <tr>\n",
       "      <th>70</th>\n",
       "      <td>0.41671</td>\n",
       "      <td>0.36802</td>\n",
       "      <td>0.60665</td>\n",
       "      <td>0.79849</td>\n",
       "      <td>2.608570e+00</td>\n",
       "      <td>ITUB3.SA</td>\n",
       "      <td>diff_close_mean_z_score_21</td>\n",
       "      <td>1</td>\n",
       "      <td>LSTM_with_Attention</td>\n",
       "      <td>True</td>\n",
       "    </tr>\n",
       "    <tr>\n",
       "      <th>531</th>\n",
       "      <td>0.53444</td>\n",
       "      <td>0.57412</td>\n",
       "      <td>0.75771</td>\n",
       "      <td>0.52215</td>\n",
       "      <td>1.415387e+02</td>\n",
       "      <td>ABCB4.SA</td>\n",
       "      <td>diff_close_mean_z_score_7</td>\n",
       "      <td>6</td>\n",
       "      <td>LSTM_with_Attention</td>\n",
       "      <td>False</td>\n",
       "    </tr>\n",
       "    <tr>\n",
       "      <th>626</th>\n",
       "      <td>0.68179</td>\n",
       "      <td>0.81188</td>\n",
       "      <td>0.90104</td>\n",
       "      <td>0.32806</td>\n",
       "      <td>2.167550e+02</td>\n",
       "      <td>ABCB4.SA</td>\n",
       "      <td>diff_close_mean_z_score_7</td>\n",
       "      <td>7</td>\n",
       "      <td>LSTM_with_Attention</td>\n",
       "      <td>True</td>\n",
       "    </tr>\n",
       "    <tr>\n",
       "      <th>639</th>\n",
       "      <td>0.51406</td>\n",
       "      <td>0.52509</td>\n",
       "      <td>0.72463</td>\n",
       "      <td>0.59080</td>\n",
       "      <td>2.622012e+12</td>\n",
       "      <td>ITUB3.SA</td>\n",
       "      <td>diff_close_mean_z_score_7</td>\n",
       "      <td>7</td>\n",
       "      <td>LSTM_with_Attention</td>\n",
       "      <td>False</td>\n",
       "    </tr>\n",
       "    <tr>\n",
       "      <th>734</th>\n",
       "      <td>0.63435</td>\n",
       "      <td>0.73134</td>\n",
       "      <td>0.85518</td>\n",
       "      <td>0.43810</td>\n",
       "      <td>3.419256e+12</td>\n",
       "      <td>ITUB3.SA</td>\n",
       "      <td>diff_close_mean_z_score_7</td>\n",
       "      <td>14</td>\n",
       "      <td>LSTM_with_Attention</td>\n",
       "      <td>True</td>\n",
       "    </tr>\n",
       "  </tbody>\n",
       "</table>\n",
       "</div>"
      ],
      "text/plain": [
       "      Mean Absolute Error (MAE)  Mean Squared Error (MSE)  \\\n",
       "1111                    0.44426                   0.44645   \n",
       "438                     0.59116                   0.63933   \n",
       "67                      0.38814                   0.35300   \n",
       "66                      0.50067                   0.50085   \n",
       "59                      0.38132                   0.33990   \n",
       "58                      0.51659                   0.48855   \n",
       "71                      0.31693                   0.25537   \n",
       "70                      0.41671                   0.36802   \n",
       "531                     0.53444                   0.57412   \n",
       "626                     0.68179                   0.81188   \n",
       "639                     0.51406                   0.52509   \n",
       "734                     0.63435                   0.73134   \n",
       "\n",
       "      Root Mean Squared Error (RMSE)  R-squared (R2)  \\\n",
       "1111                         0.66817         0.68949   \n",
       "438                          0.79958         0.55167   \n",
       "67                           0.59414         0.78711   \n",
       "66                           0.70771         0.69763   \n",
       "59                           0.58301         0.78049   \n",
       "58                           0.69896         0.68276   \n",
       "71                           0.50534         0.86047   \n",
       "70                           0.60665         0.79849   \n",
       "531                          0.75771         0.52215   \n",
       "626                          0.90104         0.32806   \n",
       "639                          0.72463         0.59080   \n",
       "734                          0.85518         0.43810   \n",
       "\n",
       "      Mean Absolute Percentage Error (MAPE)     ativo  \\\n",
       "1111                           1.666440e+00  ABCB4.SA   \n",
       "438                            2.459780e+00  ABCB4.SA   \n",
       "67                             1.108771e+02  ITUB3.SA   \n",
       "66                             1.600310e+02  ITUB3.SA   \n",
       "59                             1.141160e+00  ABCB4.SA   \n",
       "58                             1.601160e+00  ABCB4.SA   \n",
       "71                             1.839300e+00  ITUB3.SA   \n",
       "70                             2.608570e+00  ITUB3.SA   \n",
       "531                            1.415387e+02  ABCB4.SA   \n",
       "626                            2.167550e+02  ABCB4.SA   \n",
       "639                            2.622012e+12  ITUB3.SA   \n",
       "734                            3.419256e+12  ITUB3.SA   \n",
       "\n",
       "                            alvo  seq_len                model   leak  \n",
       "1111  diff_close_mean_z_score_14       42  LSTM_with_Attention  False  \n",
       "438   diff_close_mean_z_score_14        5  LSTM_with_Attention   True  \n",
       "67    diff_close_mean_z_score_14        1  LSTM_with_Attention  False  \n",
       "66    diff_close_mean_z_score_14        1  LSTM_with_Attention   True  \n",
       "59    diff_close_mean_z_score_21        1  LSTM_with_Attention  False  \n",
       "58    diff_close_mean_z_score_21        1  LSTM_with_Attention   True  \n",
       "71    diff_close_mean_z_score_21        1  LSTM_with_Attention  False  \n",
       "70    diff_close_mean_z_score_21        1  LSTM_with_Attention   True  \n",
       "531    diff_close_mean_z_score_7        6  LSTM_with_Attention  False  \n",
       "626    diff_close_mean_z_score_7        7  LSTM_with_Attention   True  \n",
       "639    diff_close_mean_z_score_7        7  LSTM_with_Attention  False  \n",
       "734    diff_close_mean_z_score_7       14  LSTM_with_Attention   True  "
      ]
     },
     "metadata": {},
     "output_type": "display_data"
    },
    {
     "name": "stdout",
     "output_type": "stream",
     "text": [
      "\n",
      "##############################################\n",
      "# DOMAIN: Saúde\n",
      "# ASSETS: ['FLRY3.SA', 'RADL3.SA']\n",
      "##############################################\n",
      "          \n",
      "Metricas macro - label meta\n"
     ]
    },
    {
     "data": {
      "text/html": [
       "<div>\n",
       "<style scoped>\n",
       "    .dataframe tbody tr th:only-of-type {\n",
       "        vertical-align: middle;\n",
       "    }\n",
       "\n",
       "    .dataframe tbody tr th {\n",
       "        vertical-align: top;\n",
       "    }\n",
       "\n",
       "    .dataframe thead th {\n",
       "        text-align: right;\n",
       "    }\n",
       "</style>\n",
       "<table border=\"1\" class=\"dataframe\">\n",
       "  <thead>\n",
       "    <tr style=\"text-align: right;\">\n",
       "      <th></th>\n",
       "      <th>ativo</th>\n",
       "      <th>seq_len</th>\n",
       "      <th>alvo</th>\n",
       "      <th>precision</th>\n",
       "      <th>recall</th>\n",
       "      <th>f1-score</th>\n",
       "      <th>model</th>\n",
       "      <th>leak</th>\n",
       "      <th>feature_cols</th>\n",
       "    </tr>\n",
       "  </thead>\n",
       "  <tbody>\n",
       "    <tr>\n",
       "      <th>12422</th>\n",
       "      <td>FLRY3.SA</td>\n",
       "      <td>1</td>\n",
       "      <td>meta_14</td>\n",
       "      <td>0.63270</td>\n",
       "      <td>0.63292</td>\n",
       "      <td>0.63281</td>\n",
       "      <td>Dummy_model</td>\n",
       "      <td>False</td>\n",
       "      <td>['past_meta_14']</td>\n",
       "    </tr>\n",
       "    <tr>\n",
       "      <th>12412</th>\n",
       "      <td>FLRY3.SA</td>\n",
       "      <td>1</td>\n",
       "      <td>meta_14</td>\n",
       "      <td>0.37578</td>\n",
       "      <td>0.37601</td>\n",
       "      <td>0.37590</td>\n",
       "      <td>Dummy_model</td>\n",
       "      <td>True</td>\n",
       "      <td>['past_meta_14']</td>\n",
       "    </tr>\n",
       "    <tr>\n",
       "      <th>12522</th>\n",
       "      <td>RADL3.SA</td>\n",
       "      <td>1</td>\n",
       "      <td>meta_14</td>\n",
       "      <td>0.66057</td>\n",
       "      <td>0.66030</td>\n",
       "      <td>0.66044</td>\n",
       "      <td>Dummy_model</td>\n",
       "      <td>False</td>\n",
       "      <td>['past_meta_14']</td>\n",
       "    </tr>\n",
       "    <tr>\n",
       "      <th>12514</th>\n",
       "      <td>RADL3.SA</td>\n",
       "      <td>1</td>\n",
       "      <td>meta_14</td>\n",
       "      <td>0.50464</td>\n",
       "      <td>0.50435</td>\n",
       "      <td>0.50450</td>\n",
       "      <td>Dummy_model</td>\n",
       "      <td>True</td>\n",
       "      <td>['past_meta_14']</td>\n",
       "    </tr>\n",
       "    <tr>\n",
       "      <th>12457</th>\n",
       "      <td>FLRY3.SA</td>\n",
       "      <td>1</td>\n",
       "      <td>meta_21</td>\n",
       "      <td>0.69998</td>\n",
       "      <td>0.70159</td>\n",
       "      <td>0.70078</td>\n",
       "      <td>Dummy_model</td>\n",
       "      <td>False</td>\n",
       "      <td>['past_meta_21']</td>\n",
       "    </tr>\n",
       "    <tr>\n",
       "      <th>12449</th>\n",
       "      <td>FLRY3.SA</td>\n",
       "      <td>1</td>\n",
       "      <td>meta_21</td>\n",
       "      <td>0.47878</td>\n",
       "      <td>0.48026</td>\n",
       "      <td>0.47951</td>\n",
       "      <td>Dummy_model</td>\n",
       "      <td>True</td>\n",
       "      <td>['past_meta_21']</td>\n",
       "    </tr>\n",
       "    <tr>\n",
       "      <th>12558</th>\n",
       "      <td>RADL3.SA</td>\n",
       "      <td>1</td>\n",
       "      <td>meta_21</td>\n",
       "      <td>0.61151</td>\n",
       "      <td>0.61130</td>\n",
       "      <td>0.61140</td>\n",
       "      <td>Dummy_model</td>\n",
       "      <td>False</td>\n",
       "      <td>['past_meta_21']</td>\n",
       "    </tr>\n",
       "    <tr>\n",
       "      <th>12549</th>\n",
       "      <td>RADL3.SA</td>\n",
       "      <td>1</td>\n",
       "      <td>meta_21</td>\n",
       "      <td>0.51669</td>\n",
       "      <td>0.51643</td>\n",
       "      <td>0.51656</td>\n",
       "      <td>Dummy_model</td>\n",
       "      <td>True</td>\n",
       "      <td>['past_meta_21']</td>\n",
       "    </tr>\n",
       "    <tr>\n",
       "      <th>12386</th>\n",
       "      <td>FLRY3.SA</td>\n",
       "      <td>1</td>\n",
       "      <td>meta_7</td>\n",
       "      <td>0.51439</td>\n",
       "      <td>0.51439</td>\n",
       "      <td>0.51439</td>\n",
       "      <td>Dummy_model</td>\n",
       "      <td>False</td>\n",
       "      <td>['past_meta_7']</td>\n",
       "    </tr>\n",
       "    <tr>\n",
       "      <th>12378</th>\n",
       "      <td>FLRY3.SA</td>\n",
       "      <td>1</td>\n",
       "      <td>meta_7</td>\n",
       "      <td>0.32899</td>\n",
       "      <td>0.32930</td>\n",
       "      <td>0.32914</td>\n",
       "      <td>Dummy_model</td>\n",
       "      <td>True</td>\n",
       "      <td>['past_meta_7']</td>\n",
       "    </tr>\n",
       "    <tr>\n",
       "      <th>12490</th>\n",
       "      <td>RADL3.SA</td>\n",
       "      <td>1</td>\n",
       "      <td>meta_7</td>\n",
       "      <td>0.50011</td>\n",
       "      <td>0.50031</td>\n",
       "      <td>0.50021</td>\n",
       "      <td>Dummy_model</td>\n",
       "      <td>False</td>\n",
       "      <td>['past_meta_7']</td>\n",
       "    </tr>\n",
       "    <tr>\n",
       "      <th>12482</th>\n",
       "      <td>RADL3.SA</td>\n",
       "      <td>1</td>\n",
       "      <td>meta_7</td>\n",
       "      <td>0.33450</td>\n",
       "      <td>0.33473</td>\n",
       "      <td>0.33462</td>\n",
       "      <td>Dummy_model</td>\n",
       "      <td>True</td>\n",
       "      <td>['past_meta_7']</td>\n",
       "    </tr>\n",
       "  </tbody>\n",
       "</table>\n",
       "</div>"
      ],
      "text/plain": [
       "          ativo  seq_len     alvo  precision   recall  f1-score        model  \\\n",
       "12422  FLRY3.SA        1  meta_14    0.63270  0.63292   0.63281  Dummy_model   \n",
       "12412  FLRY3.SA        1  meta_14    0.37578  0.37601   0.37590  Dummy_model   \n",
       "12522  RADL3.SA        1  meta_14    0.66057  0.66030   0.66044  Dummy_model   \n",
       "12514  RADL3.SA        1  meta_14    0.50464  0.50435   0.50450  Dummy_model   \n",
       "12457  FLRY3.SA        1  meta_21    0.69998  0.70159   0.70078  Dummy_model   \n",
       "12449  FLRY3.SA        1  meta_21    0.47878  0.48026   0.47951  Dummy_model   \n",
       "12558  RADL3.SA        1  meta_21    0.61151  0.61130   0.61140  Dummy_model   \n",
       "12549  RADL3.SA        1  meta_21    0.51669  0.51643   0.51656  Dummy_model   \n",
       "12386  FLRY3.SA        1   meta_7    0.51439  0.51439   0.51439  Dummy_model   \n",
       "12378  FLRY3.SA        1   meta_7    0.32899  0.32930   0.32914  Dummy_model   \n",
       "12490  RADL3.SA        1   meta_7    0.50011  0.50031   0.50021  Dummy_model   \n",
       "12482  RADL3.SA        1   meta_7    0.33450  0.33473   0.33462  Dummy_model   \n",
       "\n",
       "        leak      feature_cols  \n",
       "12422  False  ['past_meta_14']  \n",
       "12412   True  ['past_meta_14']  \n",
       "12522  False  ['past_meta_14']  \n",
       "12514   True  ['past_meta_14']  \n",
       "12457  False  ['past_meta_21']  \n",
       "12449   True  ['past_meta_21']  \n",
       "12558  False  ['past_meta_21']  \n",
       "12549   True  ['past_meta_21']  \n",
       "12386  False   ['past_meta_7']  \n",
       "12378   True   ['past_meta_7']  \n",
       "12490  False   ['past_meta_7']  \n",
       "12482   True   ['past_meta_7']  "
      ]
     },
     "metadata": {},
     "output_type": "display_data"
    },
    {
     "name": "stdout",
     "output_type": "stream",
     "text": [
      "Metricas regressao - label diff_close_mean_z_score\n"
     ]
    },
    {
     "data": {
      "text/html": [
       "<div>\n",
       "<style scoped>\n",
       "    .dataframe tbody tr th:only-of-type {\n",
       "        vertical-align: middle;\n",
       "    }\n",
       "\n",
       "    .dataframe tbody tr th {\n",
       "        vertical-align: top;\n",
       "    }\n",
       "\n",
       "    .dataframe thead th {\n",
       "        text-align: right;\n",
       "    }\n",
       "</style>\n",
       "<table border=\"1\" class=\"dataframe\">\n",
       "  <thead>\n",
       "    <tr style=\"text-align: right;\">\n",
       "      <th></th>\n",
       "      <th>Mean Absolute Error (MAE)</th>\n",
       "      <th>Mean Squared Error (MSE)</th>\n",
       "      <th>Root Mean Squared Error (RMSE)</th>\n",
       "      <th>R-squared (R2)</th>\n",
       "      <th>Mean Absolute Percentage Error (MAPE)</th>\n",
       "      <th>ativo</th>\n",
       "      <th>alvo</th>\n",
       "      <th>seq_len</th>\n",
       "      <th>model</th>\n",
       "      <th>leak</th>\n",
       "    </tr>\n",
       "  </thead>\n",
       "  <tbody>\n",
       "    <tr>\n",
       "      <th>79</th>\n",
       "      <td>0.41483</td>\n",
       "      <td>0.36029</td>\n",
       "      <td>0.60024</td>\n",
       "      <td>0.75498</td>\n",
       "      <td>1.47864</td>\n",
       "      <td>FLRY3.SA</td>\n",
       "      <td>diff_close_mean_z_score_14</td>\n",
       "      <td>1</td>\n",
       "      <td>LSTM_with_Attention</td>\n",
       "      <td>False</td>\n",
       "    </tr>\n",
       "    <tr>\n",
       "      <th>78</th>\n",
       "      <td>0.54324</td>\n",
       "      <td>0.51046</td>\n",
       "      <td>0.71447</td>\n",
       "      <td>0.64985</td>\n",
       "      <td>2.07223</td>\n",
       "      <td>FLRY3.SA</td>\n",
       "      <td>diff_close_mean_z_score_14</td>\n",
       "      <td>1</td>\n",
       "      <td>LSTM_with_Attention</td>\n",
       "      <td>True</td>\n",
       "    </tr>\n",
       "    <tr>\n",
       "      <th>1243</th>\n",
       "      <td>0.39686</td>\n",
       "      <td>0.36853</td>\n",
       "      <td>0.60707</td>\n",
       "      <td>0.76366</td>\n",
       "      <td>2109.77658</td>\n",
       "      <td>RADL3.SA</td>\n",
       "      <td>diff_close_mean_z_score_14</td>\n",
       "      <td>49</td>\n",
       "      <td>LSTM_with_Attention</td>\n",
       "      <td>False</td>\n",
       "    </tr>\n",
       "    <tr>\n",
       "      <th>1146</th>\n",
       "      <td>0.53194</td>\n",
       "      <td>0.52185</td>\n",
       "      <td>0.72239</td>\n",
       "      <td>0.66045</td>\n",
       "      <td>2778.68656</td>\n",
       "      <td>RADL3.SA</td>\n",
       "      <td>diff_close_mean_z_score_14</td>\n",
       "      <td>42</td>\n",
       "      <td>LSTM_with_Attention</td>\n",
       "      <td>True</td>\n",
       "    </tr>\n",
       "    <tr>\n",
       "      <th>83</th>\n",
       "      <td>0.35726</td>\n",
       "      <td>0.27871</td>\n",
       "      <td>0.52793</td>\n",
       "      <td>0.82232</td>\n",
       "      <td>191.80007</td>\n",
       "      <td>FLRY3.SA</td>\n",
       "      <td>diff_close_mean_z_score_21</td>\n",
       "      <td>1</td>\n",
       "      <td>LSTM_with_Attention</td>\n",
       "      <td>False</td>\n",
       "    </tr>\n",
       "    <tr>\n",
       "      <th>82</th>\n",
       "      <td>0.47139</td>\n",
       "      <td>0.39468</td>\n",
       "      <td>0.62824</td>\n",
       "      <td>0.74451</td>\n",
       "      <td>274.83695</td>\n",
       "      <td>FLRY3.SA</td>\n",
       "      <td>diff_close_mean_z_score_21</td>\n",
       "      <td>1</td>\n",
       "      <td>LSTM_with_Attention</td>\n",
       "      <td>True</td>\n",
       "    </tr>\n",
       "    <tr>\n",
       "      <th>1247</th>\n",
       "      <td>0.34443</td>\n",
       "      <td>0.27498</td>\n",
       "      <td>0.52439</td>\n",
       "      <td>0.83237</td>\n",
       "      <td>2.88478</td>\n",
       "      <td>RADL3.SA</td>\n",
       "      <td>diff_close_mean_z_score_21</td>\n",
       "      <td>49</td>\n",
       "      <td>LSTM_with_Attention</td>\n",
       "      <td>False</td>\n",
       "    </tr>\n",
       "    <tr>\n",
       "      <th>1054</th>\n",
       "      <td>0.46803</td>\n",
       "      <td>0.40183</td>\n",
       "      <td>0.63390</td>\n",
       "      <td>0.75049</td>\n",
       "      <td>3.82217</td>\n",
       "      <td>RADL3.SA</td>\n",
       "      <td>diff_close_mean_z_score_21</td>\n",
       "      <td>35</td>\n",
       "      <td>LSTM_with_Attention</td>\n",
       "      <td>True</td>\n",
       "    </tr>\n",
       "    <tr>\n",
       "      <th>1131</th>\n",
       "      <td>0.52491</td>\n",
       "      <td>0.54195</td>\n",
       "      <td>0.73617</td>\n",
       "      <td>0.55090</td>\n",
       "      <td>1.71437</td>\n",
       "      <td>FLRY3.SA</td>\n",
       "      <td>diff_close_mean_z_score_7</td>\n",
       "      <td>42</td>\n",
       "      <td>LSTM_with_Attention</td>\n",
       "      <td>False</td>\n",
       "    </tr>\n",
       "    <tr>\n",
       "      <th>74</th>\n",
       "      <td>0.65786</td>\n",
       "      <td>0.75791</td>\n",
       "      <td>0.87058</td>\n",
       "      <td>0.37442</td>\n",
       "      <td>2.27334</td>\n",
       "      <td>FLRY3.SA</td>\n",
       "      <td>diff_close_mean_z_score_7</td>\n",
       "      <td>1</td>\n",
       "      <td>LSTM_with_Attention</td>\n",
       "      <td>True</td>\n",
       "    </tr>\n",
       "    <tr>\n",
       "      <th>663</th>\n",
       "      <td>0.50775</td>\n",
       "      <td>0.49474</td>\n",
       "      <td>0.70338</td>\n",
       "      <td>0.62007</td>\n",
       "      <td>1.76832</td>\n",
       "      <td>RADL3.SA</td>\n",
       "      <td>diff_close_mean_z_score_7</td>\n",
       "      <td>7</td>\n",
       "      <td>LSTM_with_Attention</td>\n",
       "      <td>False</td>\n",
       "    </tr>\n",
       "    <tr>\n",
       "      <th>1142</th>\n",
       "      <td>0.63233</td>\n",
       "      <td>0.67640</td>\n",
       "      <td>0.82244</td>\n",
       "      <td>0.47497</td>\n",
       "      <td>2.11848</td>\n",
       "      <td>RADL3.SA</td>\n",
       "      <td>diff_close_mean_z_score_7</td>\n",
       "      <td>42</td>\n",
       "      <td>LSTM_with_Attention</td>\n",
       "      <td>True</td>\n",
       "    </tr>\n",
       "  </tbody>\n",
       "</table>\n",
       "</div>"
      ],
      "text/plain": [
       "      Mean Absolute Error (MAE)  Mean Squared Error (MSE)  \\\n",
       "79                      0.41483                   0.36029   \n",
       "78                      0.54324                   0.51046   \n",
       "1243                    0.39686                   0.36853   \n",
       "1146                    0.53194                   0.52185   \n",
       "83                      0.35726                   0.27871   \n",
       "82                      0.47139                   0.39468   \n",
       "1247                    0.34443                   0.27498   \n",
       "1054                    0.46803                   0.40183   \n",
       "1131                    0.52491                   0.54195   \n",
       "74                      0.65786                   0.75791   \n",
       "663                     0.50775                   0.49474   \n",
       "1142                    0.63233                   0.67640   \n",
       "\n",
       "      Root Mean Squared Error (RMSE)  R-squared (R2)  \\\n",
       "79                           0.60024         0.75498   \n",
       "78                           0.71447         0.64985   \n",
       "1243                         0.60707         0.76366   \n",
       "1146                         0.72239         0.66045   \n",
       "83                           0.52793         0.82232   \n",
       "82                           0.62824         0.74451   \n",
       "1247                         0.52439         0.83237   \n",
       "1054                         0.63390         0.75049   \n",
       "1131                         0.73617         0.55090   \n",
       "74                           0.87058         0.37442   \n",
       "663                          0.70338         0.62007   \n",
       "1142                         0.82244         0.47497   \n",
       "\n",
       "      Mean Absolute Percentage Error (MAPE)     ativo  \\\n",
       "79                                  1.47864  FLRY3.SA   \n",
       "78                                  2.07223  FLRY3.SA   \n",
       "1243                             2109.77658  RADL3.SA   \n",
       "1146                             2778.68656  RADL3.SA   \n",
       "83                                191.80007  FLRY3.SA   \n",
       "82                                274.83695  FLRY3.SA   \n",
       "1247                                2.88478  RADL3.SA   \n",
       "1054                                3.82217  RADL3.SA   \n",
       "1131                                1.71437  FLRY3.SA   \n",
       "74                                  2.27334  FLRY3.SA   \n",
       "663                                 1.76832  RADL3.SA   \n",
       "1142                                2.11848  RADL3.SA   \n",
       "\n",
       "                            alvo  seq_len                model   leak  \n",
       "79    diff_close_mean_z_score_14        1  LSTM_with_Attention  False  \n",
       "78    diff_close_mean_z_score_14        1  LSTM_with_Attention   True  \n",
       "1243  diff_close_mean_z_score_14       49  LSTM_with_Attention  False  \n",
       "1146  diff_close_mean_z_score_14       42  LSTM_with_Attention   True  \n",
       "83    diff_close_mean_z_score_21        1  LSTM_with_Attention  False  \n",
       "82    diff_close_mean_z_score_21        1  LSTM_with_Attention   True  \n",
       "1247  diff_close_mean_z_score_21       49  LSTM_with_Attention  False  \n",
       "1054  diff_close_mean_z_score_21       35  LSTM_with_Attention   True  \n",
       "1131   diff_close_mean_z_score_7       42  LSTM_with_Attention  False  \n",
       "74     diff_close_mean_z_score_7        1  LSTM_with_Attention   True  \n",
       "663    diff_close_mean_z_score_7        7  LSTM_with_Attention  False  \n",
       "1142   diff_close_mean_z_score_7       42  LSTM_with_Attention   True  "
      ]
     },
     "metadata": {},
     "output_type": "display_data"
    }
   ],
   "source": [
    "for assets, domain in assets_domain:\n",
    "    print(f'''\n",
    "##############################################\n",
    "# DOMAIN: {domain}\n",
    "# ASSETS: {assets}\n",
    "##############################################\n",
    "          ''')\n",
    "    \n",
    "    print('Metricas macro - label meta')\n",
    "    metrics_clf = macro_clf[macro_clf.label_col.str.contains('meta') & macro_clf.asset.isin(assets)].\\\n",
    "    drop(['support', 'scaling_method', 'prediction_type', 'class'], axis =1 ).\\\n",
    "            rename({'asset': 'ativo', 'label_col': 'alvo'},axis=1)[['ativo','seq_len','alvo','precision','recall', 'f1-score', 'model', 'leak', 'feature_cols']]\n",
    "    \n",
    "    \n",
    "    display(metrics_clf.loc[metrics_clf.groupby(['alvo','ativo', 'leak'])['f1-score'].idxmax()])\n",
    "    \n",
    "    print('Metricas regressao - label diff_close_mean_z_score')\n",
    "    \n",
    "    metrics_reg = reg[reg.label_col.str.contains('diff_close_mean_z_score') & reg.asset.isin(assets)].\\\n",
    "        drop(['scaling_method', 'prediction_type', 'feature_cols'], axis = 1).\\\n",
    "            rename({'asset': 'ativo', 'label_col': 'alvo','f1-score':'valor'},axis=1)\n",
    "    \n",
    "    display(metrics_reg.loc[metrics_reg.groupby(['alvo','ativo', 'leak'])['R-squared (R2)'].idxmax()])"
   ]
  },
  {
   "cell_type": "code",
   "execution_count": 19,
   "metadata": {},
   "outputs": [
    {
     "name": "stdout",
     "output_type": "stream",
     "text": [
      "Metricas macro - label meta\n"
     ]
    },
    {
     "data": {
      "text/html": [
       "<div>\n",
       "<style scoped>\n",
       "    .dataframe tbody tr th:only-of-type {\n",
       "        vertical-align: middle;\n",
       "    }\n",
       "\n",
       "    .dataframe tbody tr th {\n",
       "        vertical-align: top;\n",
       "    }\n",
       "\n",
       "    .dataframe thead th {\n",
       "        text-align: right;\n",
       "    }\n",
       "</style>\n",
       "<table border=\"1\" class=\"dataframe\">\n",
       "  <thead>\n",
       "    <tr style=\"text-align: right;\">\n",
       "      <th></th>\n",
       "      <th>ativo</th>\n",
       "      <th>seq_len</th>\n",
       "      <th>alvo</th>\n",
       "      <th>f1-score</th>\n",
       "      <th>model</th>\n",
       "    </tr>\n",
       "  </thead>\n",
       "  <tbody>\n",
       "    <tr>\n",
       "      <th>12210</th>\n",
       "      <td>ABCB4.SA</td>\n",
       "      <td>1</td>\n",
       "      <td>k_14</td>\n",
       "      <td>0.65</td>\n",
       "      <td>Dummy_model</td>\n",
       "    </tr>\n",
       "    <tr>\n",
       "      <th>12422</th>\n",
       "      <td>FLRY3.SA</td>\n",
       "      <td>1</td>\n",
       "      <td>k_14</td>\n",
       "      <td>0.63</td>\n",
       "      <td>Dummy_model</td>\n",
       "    </tr>\n",
       "    <tr>\n",
       "      <th>12105</th>\n",
       "      <td>GGBR3.SA</td>\n",
       "      <td>1</td>\n",
       "      <td>k_14</td>\n",
       "      <td>0.69</td>\n",
       "      <td>Dummy_model</td>\n",
       "    </tr>\n",
       "    <tr>\n",
       "      <th>12314</th>\n",
       "      <td>ITUB3.SA</td>\n",
       "      <td>1</td>\n",
       "      <td>k_14</td>\n",
       "      <td>0.58</td>\n",
       "      <td>Dummy_model</td>\n",
       "    </tr>\n",
       "    <tr>\n",
       "      <th>11805</th>\n",
       "      <td>PETR3.SA</td>\n",
       "      <td>1</td>\n",
       "      <td>k_14</td>\n",
       "      <td>0.67</td>\n",
       "      <td>Dummy_model</td>\n",
       "    </tr>\n",
       "    <tr>\n",
       "      <th>11906</th>\n",
       "      <td>PRIO3.SA</td>\n",
       "      <td>1</td>\n",
       "      <td>k_14</td>\n",
       "      <td>0.65</td>\n",
       "      <td>Dummy_model</td>\n",
       "    </tr>\n",
       "    <tr>\n",
       "      <th>12522</th>\n",
       "      <td>RADL3.SA</td>\n",
       "      <td>1</td>\n",
       "      <td>k_14</td>\n",
       "      <td>0.66</td>\n",
       "      <td>Dummy_model</td>\n",
       "    </tr>\n",
       "    <tr>\n",
       "      <th>12002</th>\n",
       "      <td>VALE3.SA</td>\n",
       "      <td>1</td>\n",
       "      <td>k_14</td>\n",
       "      <td>0.70</td>\n",
       "      <td>Dummy_model</td>\n",
       "    </tr>\n",
       "    <tr>\n",
       "      <th>12247</th>\n",
       "      <td>ABCB4.SA</td>\n",
       "      <td>1</td>\n",
       "      <td>k_21</td>\n",
       "      <td>0.57</td>\n",
       "      <td>Dummy_model</td>\n",
       "    </tr>\n",
       "    <tr>\n",
       "      <th>12457</th>\n",
       "      <td>FLRY3.SA</td>\n",
       "      <td>1</td>\n",
       "      <td>k_21</td>\n",
       "      <td>0.70</td>\n",
       "      <td>Dummy_model</td>\n",
       "    </tr>\n",
       "    <tr>\n",
       "      <th>12146</th>\n",
       "      <td>GGBR3.SA</td>\n",
       "      <td>1</td>\n",
       "      <td>k_21</td>\n",
       "      <td>0.66</td>\n",
       "      <td>Dummy_model</td>\n",
       "    </tr>\n",
       "    <tr>\n",
       "      <th>12354</th>\n",
       "      <td>ITUB3.SA</td>\n",
       "      <td>1</td>\n",
       "      <td>k_21</td>\n",
       "      <td>0.54</td>\n",
       "      <td>Dummy_model</td>\n",
       "    </tr>\n",
       "    <tr>\n",
       "      <th>11841</th>\n",
       "      <td>PETR3.SA</td>\n",
       "      <td>1</td>\n",
       "      <td>k_21</td>\n",
       "      <td>0.70</td>\n",
       "      <td>Dummy_model</td>\n",
       "    </tr>\n",
       "    <tr>\n",
       "      <th>11937</th>\n",
       "      <td>PRIO3.SA</td>\n",
       "      <td>1</td>\n",
       "      <td>k_21</td>\n",
       "      <td>0.74</td>\n",
       "      <td>Dummy_model</td>\n",
       "    </tr>\n",
       "    <tr>\n",
       "      <th>12558</th>\n",
       "      <td>RADL3.SA</td>\n",
       "      <td>1</td>\n",
       "      <td>k_21</td>\n",
       "      <td>0.61</td>\n",
       "      <td>Dummy_model</td>\n",
       "    </tr>\n",
       "    <tr>\n",
       "      <th>12041</th>\n",
       "      <td>VALE3.SA</td>\n",
       "      <td>1</td>\n",
       "      <td>k_21</td>\n",
       "      <td>0.71</td>\n",
       "      <td>Dummy_model</td>\n",
       "    </tr>\n",
       "    <tr>\n",
       "      <th>12178</th>\n",
       "      <td>ABCB4.SA</td>\n",
       "      <td>1</td>\n",
       "      <td>k_7</td>\n",
       "      <td>0.51</td>\n",
       "      <td>Dummy_model</td>\n",
       "    </tr>\n",
       "    <tr>\n",
       "      <th>12386</th>\n",
       "      <td>FLRY3.SA</td>\n",
       "      <td>1</td>\n",
       "      <td>k_7</td>\n",
       "      <td>0.51</td>\n",
       "      <td>Dummy_model</td>\n",
       "    </tr>\n",
       "    <tr>\n",
       "      <th>12074</th>\n",
       "      <td>GGBR3.SA</td>\n",
       "      <td>1</td>\n",
       "      <td>k_7</td>\n",
       "      <td>0.52</td>\n",
       "      <td>Dummy_model</td>\n",
       "    </tr>\n",
       "    <tr>\n",
       "      <th>12278</th>\n",
       "      <td>ITUB3.SA</td>\n",
       "      <td>1</td>\n",
       "      <td>k_7</td>\n",
       "      <td>0.43</td>\n",
       "      <td>Dummy_model</td>\n",
       "    </tr>\n",
       "    <tr>\n",
       "      <th>11770</th>\n",
       "      <td>PETR3.SA</td>\n",
       "      <td>1</td>\n",
       "      <td>k_7</td>\n",
       "      <td>0.54</td>\n",
       "      <td>Dummy_model</td>\n",
       "    </tr>\n",
       "    <tr>\n",
       "      <th>11874</th>\n",
       "      <td>PRIO3.SA</td>\n",
       "      <td>1</td>\n",
       "      <td>k_7</td>\n",
       "      <td>0.48</td>\n",
       "      <td>Dummy_model</td>\n",
       "    </tr>\n",
       "    <tr>\n",
       "      <th>12490</th>\n",
       "      <td>RADL3.SA</td>\n",
       "      <td>1</td>\n",
       "      <td>k_7</td>\n",
       "      <td>0.50</td>\n",
       "      <td>Dummy_model</td>\n",
       "    </tr>\n",
       "    <tr>\n",
       "      <th>11970</th>\n",
       "      <td>VALE3.SA</td>\n",
       "      <td>1</td>\n",
       "      <td>k_7</td>\n",
       "      <td>0.60</td>\n",
       "      <td>Dummy_model</td>\n",
       "    </tr>\n",
       "  </tbody>\n",
       "</table>\n",
       "</div>"
      ],
      "text/plain": [
       "          ativo  seq_len  alvo  f1-score        model\n",
       "12210  ABCB4.SA        1  k_14      0.65  Dummy_model\n",
       "12422  FLRY3.SA        1  k_14      0.63  Dummy_model\n",
       "12105  GGBR3.SA        1  k_14      0.69  Dummy_model\n",
       "12314  ITUB3.SA        1  k_14      0.58  Dummy_model\n",
       "11805  PETR3.SA        1  k_14      0.67  Dummy_model\n",
       "11906  PRIO3.SA        1  k_14      0.65  Dummy_model\n",
       "12522  RADL3.SA        1  k_14      0.66  Dummy_model\n",
       "12002  VALE3.SA        1  k_14      0.70  Dummy_model\n",
       "12247  ABCB4.SA        1  k_21      0.57  Dummy_model\n",
       "12457  FLRY3.SA        1  k_21      0.70  Dummy_model\n",
       "12146  GGBR3.SA        1  k_21      0.66  Dummy_model\n",
       "12354  ITUB3.SA        1  k_21      0.54  Dummy_model\n",
       "11841  PETR3.SA        1  k_21      0.70  Dummy_model\n",
       "11937  PRIO3.SA        1  k_21      0.74  Dummy_model\n",
       "12558  RADL3.SA        1  k_21      0.61  Dummy_model\n",
       "12041  VALE3.SA        1  k_21      0.71  Dummy_model\n",
       "12178  ABCB4.SA        1   k_7      0.51  Dummy_model\n",
       "12386  FLRY3.SA        1   k_7      0.51  Dummy_model\n",
       "12074  GGBR3.SA        1   k_7      0.52  Dummy_model\n",
       "12278  ITUB3.SA        1   k_7      0.43  Dummy_model\n",
       "11770  PETR3.SA        1   k_7      0.54  Dummy_model\n",
       "11874  PRIO3.SA        1   k_7      0.48  Dummy_model\n",
       "12490  RADL3.SA        1   k_7      0.50  Dummy_model\n",
       "11970  VALE3.SA        1   k_7      0.60  Dummy_model"
      ]
     },
     "metadata": {},
     "output_type": "display_data"
    },
    {
     "name": "stdout",
     "output_type": "stream",
     "text": [
      "Metricas regressao - label diff_close_mean_z_score\n"
     ]
    },
    {
     "data": {
      "text/html": [
       "<div>\n",
       "<style scoped>\n",
       "    .dataframe tbody tr th:only-of-type {\n",
       "        vertical-align: middle;\n",
       "    }\n",
       "\n",
       "    .dataframe tbody tr th {\n",
       "        vertical-align: top;\n",
       "    }\n",
       "\n",
       "    .dataframe thead th {\n",
       "        text-align: right;\n",
       "    }\n",
       "</style>\n",
       "<table border=\"1\" class=\"dataframe\">\n",
       "  <thead>\n",
       "    <tr style=\"text-align: right;\">\n",
       "      <th></th>\n",
       "      <th>ativo</th>\n",
       "      <th>seq_len</th>\n",
       "      <th>alvo</th>\n",
       "      <th>R-squared (R2)</th>\n",
       "      <th>model</th>\n",
       "      <th>leak</th>\n",
       "    </tr>\n",
       "  </thead>\n",
       "  <tbody>\n",
       "    <tr>\n",
       "      <th>55</th>\n",
       "      <td>ABCB4.SA</td>\n",
       "      <td>1</td>\n",
       "      <td>z_14</td>\n",
       "      <td>0.69</td>\n",
       "      <td>LSTM_with_Attention</td>\n",
       "      <td>False</td>\n",
       "    </tr>\n",
       "    <tr>\n",
       "      <th>79</th>\n",
       "      <td>FLRY3.SA</td>\n",
       "      <td>1</td>\n",
       "      <td>z_14</td>\n",
       "      <td>0.75</td>\n",
       "      <td>LSTM_with_Attention</td>\n",
       "      <td>False</td>\n",
       "    </tr>\n",
       "    <tr>\n",
       "      <th>43</th>\n",
       "      <td>GGBR3.SA</td>\n",
       "      <td>1</td>\n",
       "      <td>z_14</td>\n",
       "      <td>0.76</td>\n",
       "      <td>LSTM_with_Attention</td>\n",
       "      <td>False</td>\n",
       "    </tr>\n",
       "    <tr>\n",
       "      <th>67</th>\n",
       "      <td>ITUB3.SA</td>\n",
       "      <td>1</td>\n",
       "      <td>z_14</td>\n",
       "      <td>0.79</td>\n",
       "      <td>LSTM_with_Attention</td>\n",
       "      <td>False</td>\n",
       "    </tr>\n",
       "    <tr>\n",
       "      <th>871</th>\n",
       "      <td>PETR3.SA</td>\n",
       "      <td>28</td>\n",
       "      <td>z_14</td>\n",
       "      <td>0.74</td>\n",
       "      <td>LSTM_with_Attention</td>\n",
       "      <td>False</td>\n",
       "    </tr>\n",
       "    <tr>\n",
       "      <th>19</th>\n",
       "      <td>PRIO3.SA</td>\n",
       "      <td>1</td>\n",
       "      <td>z_14</td>\n",
       "      <td>0.75</td>\n",
       "      <td>LSTM_with_Attention</td>\n",
       "      <td>False</td>\n",
       "    </tr>\n",
       "    <tr>\n",
       "      <th>91</th>\n",
       "      <td>RADL3.SA</td>\n",
       "      <td>1</td>\n",
       "      <td>z_14</td>\n",
       "      <td>0.76</td>\n",
       "      <td>LSTM_with_Attention</td>\n",
       "      <td>False</td>\n",
       "    </tr>\n",
       "    <tr>\n",
       "      <th>799</th>\n",
       "      <td>VALE3.SA</td>\n",
       "      <td>21</td>\n",
       "      <td>z_14</td>\n",
       "      <td>0.80</td>\n",
       "      <td>LSTM_with_Attention</td>\n",
       "      <td>False</td>\n",
       "    </tr>\n",
       "    <tr>\n",
       "      <th>59</th>\n",
       "      <td>ABCB4.SA</td>\n",
       "      <td>1</td>\n",
       "      <td>z_21</td>\n",
       "      <td>0.78</td>\n",
       "      <td>LSTM_with_Attention</td>\n",
       "      <td>False</td>\n",
       "    </tr>\n",
       "    <tr>\n",
       "      <th>83</th>\n",
       "      <td>FLRY3.SA</td>\n",
       "      <td>1</td>\n",
       "      <td>z_21</td>\n",
       "      <td>0.82</td>\n",
       "      <td>LSTM_with_Attention</td>\n",
       "      <td>False</td>\n",
       "    </tr>\n",
       "    <tr>\n",
       "      <th>47</th>\n",
       "      <td>GGBR3.SA</td>\n",
       "      <td>1</td>\n",
       "      <td>z_21</td>\n",
       "      <td>0.83</td>\n",
       "      <td>LSTM_with_Attention</td>\n",
       "      <td>False</td>\n",
       "    </tr>\n",
       "    <tr>\n",
       "      <th>71</th>\n",
       "      <td>ITUB3.SA</td>\n",
       "      <td>1</td>\n",
       "      <td>z_21</td>\n",
       "      <td>0.86</td>\n",
       "      <td>LSTM_with_Attention</td>\n",
       "      <td>False</td>\n",
       "    </tr>\n",
       "    <tr>\n",
       "      <th>971</th>\n",
       "      <td>PETR3.SA</td>\n",
       "      <td>35</td>\n",
       "      <td>z_21</td>\n",
       "      <td>0.81</td>\n",
       "      <td>LSTM_with_Attention</td>\n",
       "      <td>False</td>\n",
       "    </tr>\n",
       "    <tr>\n",
       "      <th>23</th>\n",
       "      <td>PRIO3.SA</td>\n",
       "      <td>1</td>\n",
       "      <td>z_21</td>\n",
       "      <td>0.83</td>\n",
       "      <td>LSTM_with_Attention</td>\n",
       "      <td>False</td>\n",
       "    </tr>\n",
       "    <tr>\n",
       "      <th>95</th>\n",
       "      <td>RADL3.SA</td>\n",
       "      <td>1</td>\n",
       "      <td>z_21</td>\n",
       "      <td>0.83</td>\n",
       "      <td>LSTM_with_Attention</td>\n",
       "      <td>False</td>\n",
       "    </tr>\n",
       "    <tr>\n",
       "      <th>35</th>\n",
       "      <td>VALE3.SA</td>\n",
       "      <td>1</td>\n",
       "      <td>z_21</td>\n",
       "      <td>0.88</td>\n",
       "      <td>LSTM_with_Attention</td>\n",
       "      <td>False</td>\n",
       "    </tr>\n",
       "    <tr>\n",
       "      <th>243</th>\n",
       "      <td>ABCB4.SA</td>\n",
       "      <td>3</td>\n",
       "      <td>z_7</td>\n",
       "      <td>0.52</td>\n",
       "      <td>LSTM_with_Attention</td>\n",
       "      <td>False</td>\n",
       "    </tr>\n",
       "    <tr>\n",
       "      <th>75</th>\n",
       "      <td>FLRY3.SA</td>\n",
       "      <td>1</td>\n",
       "      <td>z_7</td>\n",
       "      <td>0.55</td>\n",
       "      <td>LSTM_with_Attention</td>\n",
       "      <td>False</td>\n",
       "    </tr>\n",
       "    <tr>\n",
       "      <th>39</th>\n",
       "      <td>GGBR3.SA</td>\n",
       "      <td>1</td>\n",
       "      <td>z_7</td>\n",
       "      <td>0.56</td>\n",
       "      <td>LSTM_with_Attention</td>\n",
       "      <td>False</td>\n",
       "    </tr>\n",
       "    <tr>\n",
       "      <th>63</th>\n",
       "      <td>ITUB3.SA</td>\n",
       "      <td>1</td>\n",
       "      <td>z_7</td>\n",
       "      <td>0.59</td>\n",
       "      <td>LSTM_with_Attention</td>\n",
       "      <td>False</td>\n",
       "    </tr>\n",
       "    <tr>\n",
       "      <th>3</th>\n",
       "      <td>PETR3.SA</td>\n",
       "      <td>1</td>\n",
       "      <td>z_7</td>\n",
       "      <td>0.55</td>\n",
       "      <td>LSTM_with_Attention</td>\n",
       "      <td>False</td>\n",
       "    </tr>\n",
       "    <tr>\n",
       "      <th>15</th>\n",
       "      <td>PRIO3.SA</td>\n",
       "      <td>1</td>\n",
       "      <td>z_7</td>\n",
       "      <td>0.59</td>\n",
       "      <td>LSTM_with_Attention</td>\n",
       "      <td>False</td>\n",
       "    </tr>\n",
       "    <tr>\n",
       "      <th>279</th>\n",
       "      <td>RADL3.SA</td>\n",
       "      <td>3</td>\n",
       "      <td>z_7</td>\n",
       "      <td>0.62</td>\n",
       "      <td>LSTM_with_Attention</td>\n",
       "      <td>False</td>\n",
       "    </tr>\n",
       "    <tr>\n",
       "      <th>27</th>\n",
       "      <td>VALE3.SA</td>\n",
       "      <td>1</td>\n",
       "      <td>z_7</td>\n",
       "      <td>0.65</td>\n",
       "      <td>LSTM_with_Attention</td>\n",
       "      <td>False</td>\n",
       "    </tr>\n",
       "  </tbody>\n",
       "</table>\n",
       "</div>"
      ],
      "text/plain": [
       "        ativo  seq_len  alvo  R-squared (R2)                model   leak\n",
       "55   ABCB4.SA        1  z_14            0.69  LSTM_with_Attention  False\n",
       "79   FLRY3.SA        1  z_14            0.75  LSTM_with_Attention  False\n",
       "43   GGBR3.SA        1  z_14            0.76  LSTM_with_Attention  False\n",
       "67   ITUB3.SA        1  z_14            0.79  LSTM_with_Attention  False\n",
       "871  PETR3.SA       28  z_14            0.74  LSTM_with_Attention  False\n",
       "19   PRIO3.SA        1  z_14            0.75  LSTM_with_Attention  False\n",
       "91   RADL3.SA        1  z_14            0.76  LSTM_with_Attention  False\n",
       "799  VALE3.SA       21  z_14            0.80  LSTM_with_Attention  False\n",
       "59   ABCB4.SA        1  z_21            0.78  LSTM_with_Attention  False\n",
       "83   FLRY3.SA        1  z_21            0.82  LSTM_with_Attention  False\n",
       "47   GGBR3.SA        1  z_21            0.83  LSTM_with_Attention  False\n",
       "71   ITUB3.SA        1  z_21            0.86  LSTM_with_Attention  False\n",
       "971  PETR3.SA       35  z_21            0.81  LSTM_with_Attention  False\n",
       "23   PRIO3.SA        1  z_21            0.83  LSTM_with_Attention  False\n",
       "95   RADL3.SA        1  z_21            0.83  LSTM_with_Attention  False\n",
       "35   VALE3.SA        1  z_21            0.88  LSTM_with_Attention  False\n",
       "243  ABCB4.SA        3   z_7            0.52  LSTM_with_Attention  False\n",
       "75   FLRY3.SA        1   z_7            0.55  LSTM_with_Attention  False\n",
       "39   GGBR3.SA        1   z_7            0.56  LSTM_with_Attention  False\n",
       "63   ITUB3.SA        1   z_7            0.59  LSTM_with_Attention  False\n",
       "3    PETR3.SA        1   z_7            0.55  LSTM_with_Attention  False\n",
       "15   PRIO3.SA        1   z_7            0.59  LSTM_with_Attention  False\n",
       "279  RADL3.SA        3   z_7            0.62  LSTM_with_Attention  False\n",
       "27   VALE3.SA        1   z_7            0.65  LSTM_with_Attention  False"
      ]
     },
     "metadata": {},
     "output_type": "display_data"
    }
   ],
   "source": [
    "\n",
    "print('Metricas macro - label meta')\n",
    "metrics_clf = macro_clf[macro_clf.label_col.str.contains('meta')].\\\n",
    "drop(['support', 'scaling_method', 'prediction_type', 'class'], axis =1 ).\\\n",
    "        rename({'asset': 'ativo', 'label_col': 'alvo'},axis=1)[['ativo','seq_len','alvo', 'f1-score', 'model', 'leak']]\n",
    "\n",
    "metrics_clf = metrics_clf[metrics_clf.leak == False]\n",
    "\n",
    "metrics_clf.alvo = metrics_clf.alvo.apply(lambda x: x.replace('meta', 'k'))\n",
    "\n",
    "display(metrics_clf.loc[metrics_clf.groupby(['alvo','ativo', 'leak'])['f1-score'].idxmax()].drop('leak', axis = 1).round(2))\n",
    "\n",
    "print('Metricas regressao - label diff_close_mean_z_score')\n",
    "\n",
    "\n",
    "metrics_reg = reg[reg.label_col.str.contains('diff_close_mean_z_score')].\\\n",
    "    drop(['scaling_method', 'prediction_type', 'feature_cols'], axis = 1).\\\n",
    "        rename({'asset': 'ativo', 'label_col': 'alvo','f1-score':'valor'},axis=1)[['ativo','seq_len','alvo', 'R-squared (R2)', 'model', 'leak']].round(2)\n",
    "        \n",
    "metrics_reg = metrics_reg[metrics_reg.leak == False]\n",
    "\n",
    "metrics_reg.alvo = metrics_reg.alvo.apply(lambda x: x.replace('diff_close_mean_z_score', 'z'))\n",
    "\n",
    "display(metrics_reg.loc[metrics_reg.groupby(['alvo','ativo', 'leak'])['R-squared (R2)'].idxmax()])"
   ]
  },
  {
   "cell_type": "code",
   "execution_count": 20,
   "metadata": {},
   "outputs": [
    {
     "name": "stdout",
     "output_type": "stream",
     "text": [
      "\n",
      "##############################################\n",
      "# DOMAIN: Petróleo\n",
      "# ASSETS: ['PETR3.SA', 'PRIO3.SA']\n",
      "##############################################\n",
      "          \n",
      "Metricas macro - label meta\n"
     ]
    },
    {
     "data": {
      "text/html": [
       "<div>\n",
       "<style scoped>\n",
       "    .dataframe tbody tr th:only-of-type {\n",
       "        vertical-align: middle;\n",
       "    }\n",
       "\n",
       "    .dataframe tbody tr th {\n",
       "        vertical-align: top;\n",
       "    }\n",
       "\n",
       "    .dataframe thead th {\n",
       "        text-align: right;\n",
       "    }\n",
       "</style>\n",
       "<table border=\"1\" class=\"dataframe\">\n",
       "  <thead>\n",
       "    <tr style=\"text-align: right;\">\n",
       "      <th></th>\n",
       "      <th>ativo</th>\n",
       "      <th>seq_len</th>\n",
       "      <th>alvo</th>\n",
       "      <th>precision</th>\n",
       "      <th>recall</th>\n",
       "      <th>f1-score</th>\n",
       "      <th>model</th>\n",
       "      <th>leak</th>\n",
       "      <th>feature_cols</th>\n",
       "    </tr>\n",
       "  </thead>\n",
       "  <tbody>\n",
       "    <tr>\n",
       "      <th>11805</th>\n",
       "      <td>PETR3.SA</td>\n",
       "      <td>1</td>\n",
       "      <td>meta_14</td>\n",
       "      <td>0.66893</td>\n",
       "      <td>0.66658</td>\n",
       "      <td>0.66773</td>\n",
       "      <td>Dummy_model</td>\n",
       "      <td>False</td>\n",
       "      <td>['past_meta_14']</td>\n",
       "    </tr>\n",
       "    <tr>\n",
       "      <th>11796</th>\n",
       "      <td>PETR3.SA</td>\n",
       "      <td>1</td>\n",
       "      <td>meta_14</td>\n",
       "      <td>0.43335</td>\n",
       "      <td>0.43335</td>\n",
       "      <td>0.43335</td>\n",
       "      <td>Dummy_model</td>\n",
       "      <td>True</td>\n",
       "      <td>['past_meta_14']</td>\n",
       "    </tr>\n",
       "    <tr>\n",
       "      <th>11906</th>\n",
       "      <td>PRIO3.SA</td>\n",
       "      <td>1</td>\n",
       "      <td>meta_14</td>\n",
       "      <td>0.65342</td>\n",
       "      <td>0.65342</td>\n",
       "      <td>0.65342</td>\n",
       "      <td>Dummy_model</td>\n",
       "      <td>False</td>\n",
       "      <td>['past_meta_14']</td>\n",
       "    </tr>\n",
       "    <tr>\n",
       "      <th>11898</th>\n",
       "      <td>PRIO3.SA</td>\n",
       "      <td>1</td>\n",
       "      <td>meta_14</td>\n",
       "      <td>0.49031</td>\n",
       "      <td>0.49031</td>\n",
       "      <td>0.49031</td>\n",
       "      <td>Dummy_model</td>\n",
       "      <td>True</td>\n",
       "      <td>['past_meta_14']</td>\n",
       "    </tr>\n",
       "    <tr>\n",
       "      <th>11841</th>\n",
       "      <td>PETR3.SA</td>\n",
       "      <td>1</td>\n",
       "      <td>meta_21</td>\n",
       "      <td>0.70554</td>\n",
       "      <td>0.70281</td>\n",
       "      <td>0.70415</td>\n",
       "      <td>Dummy_model</td>\n",
       "      <td>False</td>\n",
       "      <td>['past_meta_21']</td>\n",
       "    </tr>\n",
       "    <tr>\n",
       "      <th>11832</th>\n",
       "      <td>PETR3.SA</td>\n",
       "      <td>1</td>\n",
       "      <td>meta_21</td>\n",
       "      <td>0.48540</td>\n",
       "      <td>0.48540</td>\n",
       "      <td>0.48540</td>\n",
       "      <td>Dummy_model</td>\n",
       "      <td>True</td>\n",
       "      <td>['past_meta_21']</td>\n",
       "    </tr>\n",
       "    <tr>\n",
       "      <th>11937</th>\n",
       "      <td>PRIO3.SA</td>\n",
       "      <td>1</td>\n",
       "      <td>meta_21</td>\n",
       "      <td>0.74257</td>\n",
       "      <td>0.74321</td>\n",
       "      <td>0.74289</td>\n",
       "      <td>Dummy_model</td>\n",
       "      <td>False</td>\n",
       "      <td>['past_meta_21']</td>\n",
       "    </tr>\n",
       "    <tr>\n",
       "      <th>11929</th>\n",
       "      <td>PRIO3.SA</td>\n",
       "      <td>1</td>\n",
       "      <td>meta_21</td>\n",
       "      <td>0.62055</td>\n",
       "      <td>0.62055</td>\n",
       "      <td>0.62055</td>\n",
       "      <td>Dummy_model</td>\n",
       "      <td>True</td>\n",
       "      <td>['past_meta_21']</td>\n",
       "    </tr>\n",
       "    <tr>\n",
       "      <th>11770</th>\n",
       "      <td>PETR3.SA</td>\n",
       "      <td>1</td>\n",
       "      <td>meta_7</td>\n",
       "      <td>0.53916</td>\n",
       "      <td>0.53916</td>\n",
       "      <td>0.53916</td>\n",
       "      <td>Dummy_model</td>\n",
       "      <td>False</td>\n",
       "      <td>['past_meta_7']</td>\n",
       "    </tr>\n",
       "    <tr>\n",
       "      <th>11762</th>\n",
       "      <td>PETR3.SA</td>\n",
       "      <td>1</td>\n",
       "      <td>meta_7</td>\n",
       "      <td>0.32921</td>\n",
       "      <td>0.32921</td>\n",
       "      <td>0.32921</td>\n",
       "      <td>Dummy_model</td>\n",
       "      <td>True</td>\n",
       "      <td>['past_meta_7']</td>\n",
       "    </tr>\n",
       "    <tr>\n",
       "      <th>11874</th>\n",
       "      <td>PRIO3.SA</td>\n",
       "      <td>1</td>\n",
       "      <td>meta_7</td>\n",
       "      <td>0.48352</td>\n",
       "      <td>0.48352</td>\n",
       "      <td>0.48352</td>\n",
       "      <td>Dummy_model</td>\n",
       "      <td>False</td>\n",
       "      <td>['past_meta_7']</td>\n",
       "    </tr>\n",
       "    <tr>\n",
       "      <th>11866</th>\n",
       "      <td>PRIO3.SA</td>\n",
       "      <td>1</td>\n",
       "      <td>meta_7</td>\n",
       "      <td>0.34315</td>\n",
       "      <td>0.34275</td>\n",
       "      <td>0.34295</td>\n",
       "      <td>Dummy_model</td>\n",
       "      <td>True</td>\n",
       "      <td>['past_meta_7']</td>\n",
       "    </tr>\n",
       "  </tbody>\n",
       "</table>\n",
       "</div>"
      ],
      "text/plain": [
       "          ativo  seq_len     alvo  precision   recall  f1-score        model  \\\n",
       "11805  PETR3.SA        1  meta_14    0.66893  0.66658   0.66773  Dummy_model   \n",
       "11796  PETR3.SA        1  meta_14    0.43335  0.43335   0.43335  Dummy_model   \n",
       "11906  PRIO3.SA        1  meta_14    0.65342  0.65342   0.65342  Dummy_model   \n",
       "11898  PRIO3.SA        1  meta_14    0.49031  0.49031   0.49031  Dummy_model   \n",
       "11841  PETR3.SA        1  meta_21    0.70554  0.70281   0.70415  Dummy_model   \n",
       "11832  PETR3.SA        1  meta_21    0.48540  0.48540   0.48540  Dummy_model   \n",
       "11937  PRIO3.SA        1  meta_21    0.74257  0.74321   0.74289  Dummy_model   \n",
       "11929  PRIO3.SA        1  meta_21    0.62055  0.62055   0.62055  Dummy_model   \n",
       "11770  PETR3.SA        1   meta_7    0.53916  0.53916   0.53916  Dummy_model   \n",
       "11762  PETR3.SA        1   meta_7    0.32921  0.32921   0.32921  Dummy_model   \n",
       "11874  PRIO3.SA        1   meta_7    0.48352  0.48352   0.48352  Dummy_model   \n",
       "11866  PRIO3.SA        1   meta_7    0.34315  0.34275   0.34295  Dummy_model   \n",
       "\n",
       "        leak      feature_cols  \n",
       "11805  False  ['past_meta_14']  \n",
       "11796   True  ['past_meta_14']  \n",
       "11906  False  ['past_meta_14']  \n",
       "11898   True  ['past_meta_14']  \n",
       "11841  False  ['past_meta_21']  \n",
       "11832   True  ['past_meta_21']  \n",
       "11937  False  ['past_meta_21']  \n",
       "11929   True  ['past_meta_21']  \n",
       "11770  False   ['past_meta_7']  \n",
       "11762   True   ['past_meta_7']  \n",
       "11874  False   ['past_meta_7']  \n",
       "11866   True   ['past_meta_7']  "
      ]
     },
     "metadata": {},
     "output_type": "display_data"
    },
    {
     "name": "stdout",
     "output_type": "stream",
     "text": [
      "Metricas regressao - label diff_close_mean_z_score\n"
     ]
    },
    {
     "data": {
      "text/html": [
       "<div>\n",
       "<style scoped>\n",
       "    .dataframe tbody tr th:only-of-type {\n",
       "        vertical-align: middle;\n",
       "    }\n",
       "\n",
       "    .dataframe tbody tr th {\n",
       "        vertical-align: top;\n",
       "    }\n",
       "\n",
       "    .dataframe thead th {\n",
       "        text-align: right;\n",
       "    }\n",
       "</style>\n",
       "<table border=\"1\" class=\"dataframe\">\n",
       "  <thead>\n",
       "    <tr style=\"text-align: right;\">\n",
       "      <th></th>\n",
       "      <th>Mean Absolute Error (MAE)</th>\n",
       "      <th>Mean Squared Error (MSE)</th>\n",
       "      <th>Root Mean Squared Error (RMSE)</th>\n",
       "      <th>R-squared (R2)</th>\n",
       "      <th>Mean Absolute Percentage Error (MAPE)</th>\n",
       "      <th>ativo</th>\n",
       "      <th>alvo</th>\n",
       "      <th>seq_len</th>\n",
       "      <th>model</th>\n",
       "      <th>leak</th>\n",
       "    </tr>\n",
       "  </thead>\n",
       "  <tbody>\n",
       "    <tr>\n",
       "      <th>871</th>\n",
       "      <td>0.40917</td>\n",
       "      <td>0.39888</td>\n",
       "      <td>0.63157</td>\n",
       "      <td>0.74236</td>\n",
       "      <td>1.22579</td>\n",
       "      <td>PETR3.SA</td>\n",
       "      <td>diff_close_mean_z_score_14</td>\n",
       "      <td>28</td>\n",
       "      <td>LSTM_with_Attention</td>\n",
       "      <td>False</td>\n",
       "    </tr>\n",
       "    <tr>\n",
       "      <th>870</th>\n",
       "      <td>0.53155</td>\n",
       "      <td>0.58508</td>\n",
       "      <td>0.76490</td>\n",
       "      <td>0.61920</td>\n",
       "      <td>1.63756</td>\n",
       "      <td>PETR3.SA</td>\n",
       "      <td>diff_close_mean_z_score_14</td>\n",
       "      <td>28</td>\n",
       "      <td>LSTM_with_Attention</td>\n",
       "      <td>True</td>\n",
       "    </tr>\n",
       "    <tr>\n",
       "      <th>19</th>\n",
       "      <td>0.39672</td>\n",
       "      <td>0.37316</td>\n",
       "      <td>0.61087</td>\n",
       "      <td>0.74965</td>\n",
       "      <td>1.04252</td>\n",
       "      <td>PRIO3.SA</td>\n",
       "      <td>diff_close_mean_z_score_14</td>\n",
       "      <td>1</td>\n",
       "      <td>LSTM_with_Attention</td>\n",
       "      <td>False</td>\n",
       "    </tr>\n",
       "    <tr>\n",
       "      <th>18</th>\n",
       "      <td>0.52957</td>\n",
       "      <td>0.53137</td>\n",
       "      <td>0.72895</td>\n",
       "      <td>0.64202</td>\n",
       "      <td>1.46902</td>\n",
       "      <td>PRIO3.SA</td>\n",
       "      <td>diff_close_mean_z_score_14</td>\n",
       "      <td>1</td>\n",
       "      <td>LSTM_with_Attention</td>\n",
       "      <td>True</td>\n",
       "    </tr>\n",
       "    <tr>\n",
       "      <th>1163</th>\n",
       "      <td>0.34849</td>\n",
       "      <td>0.30688</td>\n",
       "      <td>0.55397</td>\n",
       "      <td>0.80636</td>\n",
       "      <td>0.81748</td>\n",
       "      <td>PETR3.SA</td>\n",
       "      <td>diff_close_mean_z_score_21</td>\n",
       "      <td>49</td>\n",
       "      <td>LSTM_with_Attention</td>\n",
       "      <td>False</td>\n",
       "    </tr>\n",
       "    <tr>\n",
       "      <th>202</th>\n",
       "      <td>0.45591</td>\n",
       "      <td>0.44734</td>\n",
       "      <td>0.66883</td>\n",
       "      <td>0.72352</td>\n",
       "      <td>1.00518</td>\n",
       "      <td>PETR3.SA</td>\n",
       "      <td>diff_close_mean_z_score_21</td>\n",
       "      <td>3</td>\n",
       "      <td>LSTM_with_Attention</td>\n",
       "      <td>True</td>\n",
       "    </tr>\n",
       "    <tr>\n",
       "      <th>23</th>\n",
       "      <td>0.33884</td>\n",
       "      <td>0.28417</td>\n",
       "      <td>0.53308</td>\n",
       "      <td>0.82774</td>\n",
       "      <td>0.87883</td>\n",
       "      <td>PRIO3.SA</td>\n",
       "      <td>diff_close_mean_z_score_21</td>\n",
       "      <td>1</td>\n",
       "      <td>LSTM_with_Attention</td>\n",
       "      <td>False</td>\n",
       "    </tr>\n",
       "    <tr>\n",
       "      <th>22</th>\n",
       "      <td>0.46105</td>\n",
       "      <td>0.40547</td>\n",
       "      <td>0.63676</td>\n",
       "      <td>0.75144</td>\n",
       "      <td>1.23122</td>\n",
       "      <td>PRIO3.SA</td>\n",
       "      <td>diff_close_mean_z_score_21</td>\n",
       "      <td>1</td>\n",
       "      <td>LSTM_with_Attention</td>\n",
       "      <td>True</td>\n",
       "    </tr>\n",
       "    <tr>\n",
       "      <th>963</th>\n",
       "      <td>0.50820</td>\n",
       "      <td>0.54470</td>\n",
       "      <td>0.73803</td>\n",
       "      <td>0.54928</td>\n",
       "      <td>1.47531</td>\n",
       "      <td>PETR3.SA</td>\n",
       "      <td>diff_close_mean_z_score_7</td>\n",
       "      <td>35</td>\n",
       "      <td>LSTM_with_Attention</td>\n",
       "      <td>False</td>\n",
       "    </tr>\n",
       "    <tr>\n",
       "      <th>386</th>\n",
       "      <td>0.63986</td>\n",
       "      <td>0.76313</td>\n",
       "      <td>0.87357</td>\n",
       "      <td>0.38340</td>\n",
       "      <td>1.66932</td>\n",
       "      <td>PETR3.SA</td>\n",
       "      <td>diff_close_mean_z_score_7</td>\n",
       "      <td>5</td>\n",
       "      <td>LSTM_with_Attention</td>\n",
       "      <td>True</td>\n",
       "    </tr>\n",
       "    <tr>\n",
       "      <th>591</th>\n",
       "      <td>0.50141</td>\n",
       "      <td>0.50992</td>\n",
       "      <td>0.71409</td>\n",
       "      <td>0.58640</td>\n",
       "      <td>1.33540</td>\n",
       "      <td>PRIO3.SA</td>\n",
       "      <td>diff_close_mean_z_score_7</td>\n",
       "      <td>7</td>\n",
       "      <td>LSTM_with_Attention</td>\n",
       "      <td>False</td>\n",
       "    </tr>\n",
       "    <tr>\n",
       "      <th>398</th>\n",
       "      <td>0.63368</td>\n",
       "      <td>0.71217</td>\n",
       "      <td>0.84390</td>\n",
       "      <td>0.42692</td>\n",
       "      <td>1.79014</td>\n",
       "      <td>PRIO3.SA</td>\n",
       "      <td>diff_close_mean_z_score_7</td>\n",
       "      <td>5</td>\n",
       "      <td>LSTM_with_Attention</td>\n",
       "      <td>True</td>\n",
       "    </tr>\n",
       "  </tbody>\n",
       "</table>\n",
       "</div>"
      ],
      "text/plain": [
       "      Mean Absolute Error (MAE)  Mean Squared Error (MSE)  \\\n",
       "871                     0.40917                   0.39888   \n",
       "870                     0.53155                   0.58508   \n",
       "19                      0.39672                   0.37316   \n",
       "18                      0.52957                   0.53137   \n",
       "1163                    0.34849                   0.30688   \n",
       "202                     0.45591                   0.44734   \n",
       "23                      0.33884                   0.28417   \n",
       "22                      0.46105                   0.40547   \n",
       "963                     0.50820                   0.54470   \n",
       "386                     0.63986                   0.76313   \n",
       "591                     0.50141                   0.50992   \n",
       "398                     0.63368                   0.71217   \n",
       "\n",
       "      Root Mean Squared Error (RMSE)  R-squared (R2)  \\\n",
       "871                          0.63157         0.74236   \n",
       "870                          0.76490         0.61920   \n",
       "19                           0.61087         0.74965   \n",
       "18                           0.72895         0.64202   \n",
       "1163                         0.55397         0.80636   \n",
       "202                          0.66883         0.72352   \n",
       "23                           0.53308         0.82774   \n",
       "22                           0.63676         0.75144   \n",
       "963                          0.73803         0.54928   \n",
       "386                          0.87357         0.38340   \n",
       "591                          0.71409         0.58640   \n",
       "398                          0.84390         0.42692   \n",
       "\n",
       "      Mean Absolute Percentage Error (MAPE)     ativo  \\\n",
       "871                                 1.22579  PETR3.SA   \n",
       "870                                 1.63756  PETR3.SA   \n",
       "19                                  1.04252  PRIO3.SA   \n",
       "18                                  1.46902  PRIO3.SA   \n",
       "1163                                0.81748  PETR3.SA   \n",
       "202                                 1.00518  PETR3.SA   \n",
       "23                                  0.87883  PRIO3.SA   \n",
       "22                                  1.23122  PRIO3.SA   \n",
       "963                                 1.47531  PETR3.SA   \n",
       "386                                 1.66932  PETR3.SA   \n",
       "591                                 1.33540  PRIO3.SA   \n",
       "398                                 1.79014  PRIO3.SA   \n",
       "\n",
       "                            alvo  seq_len                model   leak  \n",
       "871   diff_close_mean_z_score_14       28  LSTM_with_Attention  False  \n",
       "870   diff_close_mean_z_score_14       28  LSTM_with_Attention   True  \n",
       "19    diff_close_mean_z_score_14        1  LSTM_with_Attention  False  \n",
       "18    diff_close_mean_z_score_14        1  LSTM_with_Attention   True  \n",
       "1163  diff_close_mean_z_score_21       49  LSTM_with_Attention  False  \n",
       "202   diff_close_mean_z_score_21        3  LSTM_with_Attention   True  \n",
       "23    diff_close_mean_z_score_21        1  LSTM_with_Attention  False  \n",
       "22    diff_close_mean_z_score_21        1  LSTM_with_Attention   True  \n",
       "963    diff_close_mean_z_score_7       35  LSTM_with_Attention  False  \n",
       "386    diff_close_mean_z_score_7        5  LSTM_with_Attention   True  \n",
       "591    diff_close_mean_z_score_7        7  LSTM_with_Attention  False  \n",
       "398    diff_close_mean_z_score_7        5  LSTM_with_Attention   True  "
      ]
     },
     "metadata": {},
     "output_type": "display_data"
    },
    {
     "name": "stdout",
     "output_type": "stream",
     "text": [
      "\n",
      "##############################################\n",
      "# DOMAIN: Mineração\n",
      "# ASSETS: ['VALE3.SA', 'GGBR3.SA']\n",
      "##############################################\n",
      "          \n",
      "Metricas macro - label meta\n"
     ]
    },
    {
     "data": {
      "text/html": [
       "<div>\n",
       "<style scoped>\n",
       "    .dataframe tbody tr th:only-of-type {\n",
       "        vertical-align: middle;\n",
       "    }\n",
       "\n",
       "    .dataframe tbody tr th {\n",
       "        vertical-align: top;\n",
       "    }\n",
       "\n",
       "    .dataframe thead th {\n",
       "        text-align: right;\n",
       "    }\n",
       "</style>\n",
       "<table border=\"1\" class=\"dataframe\">\n",
       "  <thead>\n",
       "    <tr style=\"text-align: right;\">\n",
       "      <th></th>\n",
       "      <th>ativo</th>\n",
       "      <th>seq_len</th>\n",
       "      <th>alvo</th>\n",
       "      <th>precision</th>\n",
       "      <th>recall</th>\n",
       "      <th>f1-score</th>\n",
       "      <th>model</th>\n",
       "      <th>leak</th>\n",
       "      <th>feature_cols</th>\n",
       "    </tr>\n",
       "  </thead>\n",
       "  <tbody>\n",
       "    <tr>\n",
       "      <th>12105</th>\n",
       "      <td>GGBR3.SA</td>\n",
       "      <td>1</td>\n",
       "      <td>meta_14</td>\n",
       "      <td>0.69012</td>\n",
       "      <td>0.69012</td>\n",
       "      <td>0.69012</td>\n",
       "      <td>Dummy_model</td>\n",
       "      <td>False</td>\n",
       "      <td>['past_meta_14']</td>\n",
       "    </tr>\n",
       "    <tr>\n",
       "      <th>12098</th>\n",
       "      <td>GGBR3.SA</td>\n",
       "      <td>1</td>\n",
       "      <td>meta_14</td>\n",
       "      <td>0.52911</td>\n",
       "      <td>0.52871</td>\n",
       "      <td>0.52891</td>\n",
       "      <td>Dummy_model</td>\n",
       "      <td>True</td>\n",
       "      <td>['past_meta_14']</td>\n",
       "    </tr>\n",
       "    <tr>\n",
       "      <th>12002</th>\n",
       "      <td>VALE3.SA</td>\n",
       "      <td>1</td>\n",
       "      <td>meta_14</td>\n",
       "      <td>0.70389</td>\n",
       "      <td>0.70389</td>\n",
       "      <td>0.70389</td>\n",
       "      <td>Dummy_model</td>\n",
       "      <td>False</td>\n",
       "      <td>['past_meta_14']</td>\n",
       "    </tr>\n",
       "    <tr>\n",
       "      <th>11994</th>\n",
       "      <td>VALE3.SA</td>\n",
       "      <td>1</td>\n",
       "      <td>meta_14</td>\n",
       "      <td>0.55919</td>\n",
       "      <td>0.55919</td>\n",
       "      <td>0.55919</td>\n",
       "      <td>Dummy_model</td>\n",
       "      <td>True</td>\n",
       "      <td>['past_meta_14']</td>\n",
       "    </tr>\n",
       "    <tr>\n",
       "      <th>12146</th>\n",
       "      <td>GGBR3.SA</td>\n",
       "      <td>1</td>\n",
       "      <td>meta_21</td>\n",
       "      <td>0.66197</td>\n",
       "      <td>0.66161</td>\n",
       "      <td>0.66179</td>\n",
       "      <td>Dummy_model</td>\n",
       "      <td>False</td>\n",
       "      <td>['past_meta_21']</td>\n",
       "    </tr>\n",
       "    <tr>\n",
       "      <th>12136</th>\n",
       "      <td>GGBR3.SA</td>\n",
       "      <td>1</td>\n",
       "      <td>meta_21</td>\n",
       "      <td>0.42447</td>\n",
       "      <td>0.42408</td>\n",
       "      <td>0.42427</td>\n",
       "      <td>Dummy_model</td>\n",
       "      <td>True</td>\n",
       "      <td>['past_meta_21']</td>\n",
       "    </tr>\n",
       "    <tr>\n",
       "      <th>12041</th>\n",
       "      <td>VALE3.SA</td>\n",
       "      <td>1</td>\n",
       "      <td>meta_21</td>\n",
       "      <td>0.70587</td>\n",
       "      <td>0.70695</td>\n",
       "      <td>0.70641</td>\n",
       "      <td>Dummy_model</td>\n",
       "      <td>False</td>\n",
       "      <td>['past_meta_21']</td>\n",
       "    </tr>\n",
       "    <tr>\n",
       "      <th>12032</th>\n",
       "      <td>VALE3.SA</td>\n",
       "      <td>1</td>\n",
       "      <td>meta_21</td>\n",
       "      <td>0.45227</td>\n",
       "      <td>0.45227</td>\n",
       "      <td>0.45227</td>\n",
       "      <td>Dummy_model</td>\n",
       "      <td>True</td>\n",
       "      <td>['past_meta_21']</td>\n",
       "    </tr>\n",
       "    <tr>\n",
       "      <th>12074</th>\n",
       "      <td>GGBR3.SA</td>\n",
       "      <td>1</td>\n",
       "      <td>meta_7</td>\n",
       "      <td>0.52066</td>\n",
       "      <td>0.52066</td>\n",
       "      <td>0.52066</td>\n",
       "      <td>Dummy_model</td>\n",
       "      <td>False</td>\n",
       "      <td>['past_meta_7']</td>\n",
       "    </tr>\n",
       "    <tr>\n",
       "      <th>12066</th>\n",
       "      <td>GGBR3.SA</td>\n",
       "      <td>1</td>\n",
       "      <td>meta_7</td>\n",
       "      <td>0.34135</td>\n",
       "      <td>0.34101</td>\n",
       "      <td>0.34118</td>\n",
       "      <td>Dummy_model</td>\n",
       "      <td>True</td>\n",
       "      <td>['past_meta_7']</td>\n",
       "    </tr>\n",
       "    <tr>\n",
       "      <th>11970</th>\n",
       "      <td>VALE3.SA</td>\n",
       "      <td>1</td>\n",
       "      <td>meta_7</td>\n",
       "      <td>0.60371</td>\n",
       "      <td>0.60401</td>\n",
       "      <td>0.60386</td>\n",
       "      <td>Dummy_model</td>\n",
       "      <td>False</td>\n",
       "      <td>['past_meta_7']</td>\n",
       "    </tr>\n",
       "    <tr>\n",
       "      <th>11962</th>\n",
       "      <td>VALE3.SA</td>\n",
       "      <td>1</td>\n",
       "      <td>meta_7</td>\n",
       "      <td>0.40358</td>\n",
       "      <td>0.40358</td>\n",
       "      <td>0.40358</td>\n",
       "      <td>Dummy_model</td>\n",
       "      <td>True</td>\n",
       "      <td>['past_meta_7']</td>\n",
       "    </tr>\n",
       "  </tbody>\n",
       "</table>\n",
       "</div>"
      ],
      "text/plain": [
       "          ativo  seq_len     alvo  precision   recall  f1-score        model  \\\n",
       "12105  GGBR3.SA        1  meta_14    0.69012  0.69012   0.69012  Dummy_model   \n",
       "12098  GGBR3.SA        1  meta_14    0.52911  0.52871   0.52891  Dummy_model   \n",
       "12002  VALE3.SA        1  meta_14    0.70389  0.70389   0.70389  Dummy_model   \n",
       "11994  VALE3.SA        1  meta_14    0.55919  0.55919   0.55919  Dummy_model   \n",
       "12146  GGBR3.SA        1  meta_21    0.66197  0.66161   0.66179  Dummy_model   \n",
       "12136  GGBR3.SA        1  meta_21    0.42447  0.42408   0.42427  Dummy_model   \n",
       "12041  VALE3.SA        1  meta_21    0.70587  0.70695   0.70641  Dummy_model   \n",
       "12032  VALE3.SA        1  meta_21    0.45227  0.45227   0.45227  Dummy_model   \n",
       "12074  GGBR3.SA        1   meta_7    0.52066  0.52066   0.52066  Dummy_model   \n",
       "12066  GGBR3.SA        1   meta_7    0.34135  0.34101   0.34118  Dummy_model   \n",
       "11970  VALE3.SA        1   meta_7    0.60371  0.60401   0.60386  Dummy_model   \n",
       "11962  VALE3.SA        1   meta_7    0.40358  0.40358   0.40358  Dummy_model   \n",
       "\n",
       "        leak      feature_cols  \n",
       "12105  False  ['past_meta_14']  \n",
       "12098   True  ['past_meta_14']  \n",
       "12002  False  ['past_meta_14']  \n",
       "11994   True  ['past_meta_14']  \n",
       "12146  False  ['past_meta_21']  \n",
       "12136   True  ['past_meta_21']  \n",
       "12041  False  ['past_meta_21']  \n",
       "12032   True  ['past_meta_21']  \n",
       "12074  False   ['past_meta_7']  \n",
       "12066   True   ['past_meta_7']  \n",
       "11970  False   ['past_meta_7']  \n",
       "11962   True   ['past_meta_7']  "
      ]
     },
     "metadata": {},
     "output_type": "display_data"
    },
    {
     "name": "stdout",
     "output_type": "stream",
     "text": [
      "Metricas regressao - label diff_close_mean_z_score\n"
     ]
    },
    {
     "data": {
      "text/html": [
       "<div>\n",
       "<style scoped>\n",
       "    .dataframe tbody tr th:only-of-type {\n",
       "        vertical-align: middle;\n",
       "    }\n",
       "\n",
       "    .dataframe tbody tr th {\n",
       "        vertical-align: top;\n",
       "    }\n",
       "\n",
       "    .dataframe thead th {\n",
       "        text-align: right;\n",
       "    }\n",
       "</style>\n",
       "<table border=\"1\" class=\"dataframe\">\n",
       "  <thead>\n",
       "    <tr style=\"text-align: right;\">\n",
       "      <th></th>\n",
       "      <th>Mean Absolute Error (MAE)</th>\n",
       "      <th>Mean Squared Error (MSE)</th>\n",
       "      <th>Root Mean Squared Error (RMSE)</th>\n",
       "      <th>R-squared (R2)</th>\n",
       "      <th>Mean Absolute Percentage Error (MAPE)</th>\n",
       "      <th>ativo</th>\n",
       "      <th>alvo</th>\n",
       "      <th>seq_len</th>\n",
       "      <th>model</th>\n",
       "      <th>leak</th>\n",
       "    </tr>\n",
       "  </thead>\n",
       "  <tbody>\n",
       "    <tr>\n",
       "      <th>1003</th>\n",
       "      <td>0.40989</td>\n",
       "      <td>0.36746</td>\n",
       "      <td>0.60619</td>\n",
       "      <td>0.76451</td>\n",
       "      <td>8.472400e-01</td>\n",
       "      <td>GGBR3.SA</td>\n",
       "      <td>diff_close_mean_z_score_14</td>\n",
       "      <td>35</td>\n",
       "      <td>LSTM_with_Attention</td>\n",
       "      <td>False</td>\n",
       "    </tr>\n",
       "    <tr>\n",
       "      <th>42</th>\n",
       "      <td>0.53267</td>\n",
       "      <td>0.52314</td>\n",
       "      <td>0.72328</td>\n",
       "      <td>0.65462</td>\n",
       "      <td>2.871210e+00</td>\n",
       "      <td>GGBR3.SA</td>\n",
       "      <td>diff_close_mean_z_score_14</td>\n",
       "      <td>1</td>\n",
       "      <td>LSTM_with_Attention</td>\n",
       "      <td>True</td>\n",
       "    </tr>\n",
       "    <tr>\n",
       "      <th>799</th>\n",
       "      <td>0.37996</td>\n",
       "      <td>0.32356</td>\n",
       "      <td>0.56882</td>\n",
       "      <td>0.79711</td>\n",
       "      <td>8.362800e-01</td>\n",
       "      <td>VALE3.SA</td>\n",
       "      <td>diff_close_mean_z_score_14</td>\n",
       "      <td>21</td>\n",
       "      <td>LSTM_with_Attention</td>\n",
       "      <td>False</td>\n",
       "    </tr>\n",
       "    <tr>\n",
       "      <th>30</th>\n",
       "      <td>0.49339</td>\n",
       "      <td>0.47421</td>\n",
       "      <td>0.68863</td>\n",
       "      <td>0.69748</td>\n",
       "      <td>1.093570e+00</td>\n",
       "      <td>VALE3.SA</td>\n",
       "      <td>diff_close_mean_z_score_14</td>\n",
       "      <td>1</td>\n",
       "      <td>LSTM_with_Attention</td>\n",
       "      <td>True</td>\n",
       "    </tr>\n",
       "    <tr>\n",
       "      <th>47</th>\n",
       "      <td>0.33911</td>\n",
       "      <td>0.27677</td>\n",
       "      <td>0.52609</td>\n",
       "      <td>0.83352</td>\n",
       "      <td>1.164590e+00</td>\n",
       "      <td>GGBR3.SA</td>\n",
       "      <td>diff_close_mean_z_score_21</td>\n",
       "      <td>1</td>\n",
       "      <td>LSTM_with_Attention</td>\n",
       "      <td>False</td>\n",
       "    </tr>\n",
       "    <tr>\n",
       "      <th>46</th>\n",
       "      <td>0.46047</td>\n",
       "      <td>0.40752</td>\n",
       "      <td>0.63837</td>\n",
       "      <td>0.75106</td>\n",
       "      <td>1.663850e+00</td>\n",
       "      <td>GGBR3.SA</td>\n",
       "      <td>diff_close_mean_z_score_21</td>\n",
       "      <td>1</td>\n",
       "      <td>LSTM_with_Attention</td>\n",
       "      <td>True</td>\n",
       "    </tr>\n",
       "    <tr>\n",
       "      <th>35</th>\n",
       "      <td>0.30513</td>\n",
       "      <td>0.22024</td>\n",
       "      <td>0.46930</td>\n",
       "      <td>0.87814</td>\n",
       "      <td>9.215600e-01</td>\n",
       "      <td>VALE3.SA</td>\n",
       "      <td>diff_close_mean_z_score_21</td>\n",
       "      <td>1</td>\n",
       "      <td>LSTM_with_Attention</td>\n",
       "      <td>False</td>\n",
       "    </tr>\n",
       "    <tr>\n",
       "      <th>34</th>\n",
       "      <td>0.41497</td>\n",
       "      <td>0.34561</td>\n",
       "      <td>0.58789</td>\n",
       "      <td>0.80277</td>\n",
       "      <td>1.322150e+00</td>\n",
       "      <td>VALE3.SA</td>\n",
       "      <td>diff_close_mean_z_score_21</td>\n",
       "      <td>1</td>\n",
       "      <td>LSTM_with_Attention</td>\n",
       "      <td>True</td>\n",
       "    </tr>\n",
       "    <tr>\n",
       "      <th>135</th>\n",
       "      <td>0.51107</td>\n",
       "      <td>0.52467</td>\n",
       "      <td>0.72434</td>\n",
       "      <td>0.55798</td>\n",
       "      <td>1.039010e+00</td>\n",
       "      <td>GGBR3.SA</td>\n",
       "      <td>diff_close_mean_z_score_7</td>\n",
       "      <td>2</td>\n",
       "      <td>LSTM_with_Attention</td>\n",
       "      <td>False</td>\n",
       "    </tr>\n",
       "    <tr>\n",
       "      <th>422</th>\n",
       "      <td>0.64527</td>\n",
       "      <td>0.73248</td>\n",
       "      <td>0.85585</td>\n",
       "      <td>0.39339</td>\n",
       "      <td>1.382840e+00</td>\n",
       "      <td>GGBR3.SA</td>\n",
       "      <td>diff_close_mean_z_score_7</td>\n",
       "      <td>5</td>\n",
       "      <td>LSTM_with_Attention</td>\n",
       "      <td>True</td>\n",
       "    </tr>\n",
       "    <tr>\n",
       "      <th>27</th>\n",
       "      <td>0.48756</td>\n",
       "      <td>0.46601</td>\n",
       "      <td>0.68265</td>\n",
       "      <td>0.64561</td>\n",
       "      <td>1.388931e+11</td>\n",
       "      <td>VALE3.SA</td>\n",
       "      <td>diff_close_mean_z_score_7</td>\n",
       "      <td>1</td>\n",
       "      <td>LSTM_with_Attention</td>\n",
       "      <td>False</td>\n",
       "    </tr>\n",
       "    <tr>\n",
       "      <th>314</th>\n",
       "      <td>0.61016</td>\n",
       "      <td>0.64776</td>\n",
       "      <td>0.80484</td>\n",
       "      <td>0.49643</td>\n",
       "      <td>1.829259e+11</td>\n",
       "      <td>VALE3.SA</td>\n",
       "      <td>diff_close_mean_z_score_7</td>\n",
       "      <td>4</td>\n",
       "      <td>LSTM_with_Attention</td>\n",
       "      <td>True</td>\n",
       "    </tr>\n",
       "  </tbody>\n",
       "</table>\n",
       "</div>"
      ],
      "text/plain": [
       "      Mean Absolute Error (MAE)  Mean Squared Error (MSE)  \\\n",
       "1003                    0.40989                   0.36746   \n",
       "42                      0.53267                   0.52314   \n",
       "799                     0.37996                   0.32356   \n",
       "30                      0.49339                   0.47421   \n",
       "47                      0.33911                   0.27677   \n",
       "46                      0.46047                   0.40752   \n",
       "35                      0.30513                   0.22024   \n",
       "34                      0.41497                   0.34561   \n",
       "135                     0.51107                   0.52467   \n",
       "422                     0.64527                   0.73248   \n",
       "27                      0.48756                   0.46601   \n",
       "314                     0.61016                   0.64776   \n",
       "\n",
       "      Root Mean Squared Error (RMSE)  R-squared (R2)  \\\n",
       "1003                         0.60619         0.76451   \n",
       "42                           0.72328         0.65462   \n",
       "799                          0.56882         0.79711   \n",
       "30                           0.68863         0.69748   \n",
       "47                           0.52609         0.83352   \n",
       "46                           0.63837         0.75106   \n",
       "35                           0.46930         0.87814   \n",
       "34                           0.58789         0.80277   \n",
       "135                          0.72434         0.55798   \n",
       "422                          0.85585         0.39339   \n",
       "27                           0.68265         0.64561   \n",
       "314                          0.80484         0.49643   \n",
       "\n",
       "      Mean Absolute Percentage Error (MAPE)     ativo  \\\n",
       "1003                           8.472400e-01  GGBR3.SA   \n",
       "42                             2.871210e+00  GGBR3.SA   \n",
       "799                            8.362800e-01  VALE3.SA   \n",
       "30                             1.093570e+00  VALE3.SA   \n",
       "47                             1.164590e+00  GGBR3.SA   \n",
       "46                             1.663850e+00  GGBR3.SA   \n",
       "35                             9.215600e-01  VALE3.SA   \n",
       "34                             1.322150e+00  VALE3.SA   \n",
       "135                            1.039010e+00  GGBR3.SA   \n",
       "422                            1.382840e+00  GGBR3.SA   \n",
       "27                             1.388931e+11  VALE3.SA   \n",
       "314                            1.829259e+11  VALE3.SA   \n",
       "\n",
       "                            alvo  seq_len                model   leak  \n",
       "1003  diff_close_mean_z_score_14       35  LSTM_with_Attention  False  \n",
       "42    diff_close_mean_z_score_14        1  LSTM_with_Attention   True  \n",
       "799   diff_close_mean_z_score_14       21  LSTM_with_Attention  False  \n",
       "30    diff_close_mean_z_score_14        1  LSTM_with_Attention   True  \n",
       "47    diff_close_mean_z_score_21        1  LSTM_with_Attention  False  \n",
       "46    diff_close_mean_z_score_21        1  LSTM_with_Attention   True  \n",
       "35    diff_close_mean_z_score_21        1  LSTM_with_Attention  False  \n",
       "34    diff_close_mean_z_score_21        1  LSTM_with_Attention   True  \n",
       "135    diff_close_mean_z_score_7        2  LSTM_with_Attention  False  \n",
       "422    diff_close_mean_z_score_7        5  LSTM_with_Attention   True  \n",
       "27     diff_close_mean_z_score_7        1  LSTM_with_Attention  False  \n",
       "314    diff_close_mean_z_score_7        4  LSTM_with_Attention   True  "
      ]
     },
     "metadata": {},
     "output_type": "display_data"
    },
    {
     "name": "stdout",
     "output_type": "stream",
     "text": [
      "\n",
      "##############################################\n",
      "# DOMAIN: Financeiro\n",
      "# ASSETS: ['ABCB4.SA', 'ITUB3.SA']\n",
      "##############################################\n",
      "          \n",
      "Metricas macro - label meta\n"
     ]
    },
    {
     "data": {
      "text/html": [
       "<div>\n",
       "<style scoped>\n",
       "    .dataframe tbody tr th:only-of-type {\n",
       "        vertical-align: middle;\n",
       "    }\n",
       "\n",
       "    .dataframe tbody tr th {\n",
       "        vertical-align: top;\n",
       "    }\n",
       "\n",
       "    .dataframe thead th {\n",
       "        text-align: right;\n",
       "    }\n",
       "</style>\n",
       "<table border=\"1\" class=\"dataframe\">\n",
       "  <thead>\n",
       "    <tr style=\"text-align: right;\">\n",
       "      <th></th>\n",
       "      <th>ativo</th>\n",
       "      <th>seq_len</th>\n",
       "      <th>alvo</th>\n",
       "      <th>precision</th>\n",
       "      <th>recall</th>\n",
       "      <th>f1-score</th>\n",
       "      <th>model</th>\n",
       "      <th>leak</th>\n",
       "      <th>feature_cols</th>\n",
       "    </tr>\n",
       "  </thead>\n",
       "  <tbody>\n",
       "    <tr>\n",
       "      <th>12210</th>\n",
       "      <td>ABCB4.SA</td>\n",
       "      <td>1</td>\n",
       "      <td>meta_14</td>\n",
       "      <td>0.64893</td>\n",
       "      <td>0.64893</td>\n",
       "      <td>0.64893</td>\n",
       "      <td>Dummy_model</td>\n",
       "      <td>False</td>\n",
       "      <td>['past_meta_14']</td>\n",
       "    </tr>\n",
       "    <tr>\n",
       "      <th>12202</th>\n",
       "      <td>ABCB4.SA</td>\n",
       "      <td>1</td>\n",
       "      <td>meta_14</td>\n",
       "      <td>0.47122</td>\n",
       "      <td>0.47122</td>\n",
       "      <td>0.47122</td>\n",
       "      <td>Dummy_model</td>\n",
       "      <td>True</td>\n",
       "      <td>['past_meta_14']</td>\n",
       "    </tr>\n",
       "    <tr>\n",
       "      <th>12314</th>\n",
       "      <td>ITUB3.SA</td>\n",
       "      <td>1</td>\n",
       "      <td>meta_14</td>\n",
       "      <td>0.57602</td>\n",
       "      <td>0.57630</td>\n",
       "      <td>0.57616</td>\n",
       "      <td>Dummy_model</td>\n",
       "      <td>False</td>\n",
       "      <td>['past_meta_14']</td>\n",
       "    </tr>\n",
       "    <tr>\n",
       "      <th>12305</th>\n",
       "      <td>ITUB3.SA</td>\n",
       "      <td>1</td>\n",
       "      <td>meta_14</td>\n",
       "      <td>0.46040</td>\n",
       "      <td>0.46071</td>\n",
       "      <td>0.46056</td>\n",
       "      <td>Dummy_model</td>\n",
       "      <td>True</td>\n",
       "      <td>['past_meta_14']</td>\n",
       "    </tr>\n",
       "    <tr>\n",
       "      <th>12247</th>\n",
       "      <td>ABCB4.SA</td>\n",
       "      <td>1</td>\n",
       "      <td>meta_21</td>\n",
       "      <td>0.56930</td>\n",
       "      <td>0.56882</td>\n",
       "      <td>0.56906</td>\n",
       "      <td>Dummy_model</td>\n",
       "      <td>False</td>\n",
       "      <td>['past_meta_21']</td>\n",
       "    </tr>\n",
       "    <tr>\n",
       "      <th>12237</th>\n",
       "      <td>ABCB4.SA</td>\n",
       "      <td>1</td>\n",
       "      <td>meta_21</td>\n",
       "      <td>0.44868</td>\n",
       "      <td>0.44868</td>\n",
       "      <td>0.44868</td>\n",
       "      <td>Dummy_model</td>\n",
       "      <td>True</td>\n",
       "      <td>['past_meta_21']</td>\n",
       "    </tr>\n",
       "    <tr>\n",
       "      <th>12354</th>\n",
       "      <td>ITUB3.SA</td>\n",
       "      <td>1</td>\n",
       "      <td>meta_21</td>\n",
       "      <td>0.53849</td>\n",
       "      <td>0.53866</td>\n",
       "      <td>0.53858</td>\n",
       "      <td>Dummy_model</td>\n",
       "      <td>False</td>\n",
       "      <td>['past_meta_21']</td>\n",
       "    </tr>\n",
       "    <tr>\n",
       "      <th>12344</th>\n",
       "      <td>ITUB3.SA</td>\n",
       "      <td>1</td>\n",
       "      <td>meta_21</td>\n",
       "      <td>0.45801</td>\n",
       "      <td>0.45834</td>\n",
       "      <td>0.45817</td>\n",
       "      <td>Dummy_model</td>\n",
       "      <td>True</td>\n",
       "      <td>['past_meta_21']</td>\n",
       "    </tr>\n",
       "    <tr>\n",
       "      <th>12178</th>\n",
       "      <td>ABCB4.SA</td>\n",
       "      <td>1</td>\n",
       "      <td>meta_7</td>\n",
       "      <td>0.51475</td>\n",
       "      <td>0.51433</td>\n",
       "      <td>0.51454</td>\n",
       "      <td>Dummy_model</td>\n",
       "      <td>False</td>\n",
       "      <td>['past_meta_7']</td>\n",
       "    </tr>\n",
       "    <tr>\n",
       "      <th>12170</th>\n",
       "      <td>ABCB4.SA</td>\n",
       "      <td>1</td>\n",
       "      <td>meta_7</td>\n",
       "      <td>0.35303</td>\n",
       "      <td>0.35303</td>\n",
       "      <td>0.35303</td>\n",
       "      <td>Dummy_model</td>\n",
       "      <td>True</td>\n",
       "      <td>['past_meta_7']</td>\n",
       "    </tr>\n",
       "    <tr>\n",
       "      <th>12278</th>\n",
       "      <td>ITUB3.SA</td>\n",
       "      <td>1</td>\n",
       "      <td>meta_7</td>\n",
       "      <td>0.43297</td>\n",
       "      <td>0.43297</td>\n",
       "      <td>0.43297</td>\n",
       "      <td>Dummy_model</td>\n",
       "      <td>False</td>\n",
       "      <td>['past_meta_7']</td>\n",
       "    </tr>\n",
       "    <tr>\n",
       "      <th>12270</th>\n",
       "      <td>ITUB3.SA</td>\n",
       "      <td>1</td>\n",
       "      <td>meta_7</td>\n",
       "      <td>0.35265</td>\n",
       "      <td>0.35265</td>\n",
       "      <td>0.35265</td>\n",
       "      <td>Dummy_model</td>\n",
       "      <td>True</td>\n",
       "      <td>['past_meta_7']</td>\n",
       "    </tr>\n",
       "  </tbody>\n",
       "</table>\n",
       "</div>"
      ],
      "text/plain": [
       "          ativo  seq_len     alvo  precision   recall  f1-score        model  \\\n",
       "12210  ABCB4.SA        1  meta_14    0.64893  0.64893   0.64893  Dummy_model   \n",
       "12202  ABCB4.SA        1  meta_14    0.47122  0.47122   0.47122  Dummy_model   \n",
       "12314  ITUB3.SA        1  meta_14    0.57602  0.57630   0.57616  Dummy_model   \n",
       "12305  ITUB3.SA        1  meta_14    0.46040  0.46071   0.46056  Dummy_model   \n",
       "12247  ABCB4.SA        1  meta_21    0.56930  0.56882   0.56906  Dummy_model   \n",
       "12237  ABCB4.SA        1  meta_21    0.44868  0.44868   0.44868  Dummy_model   \n",
       "12354  ITUB3.SA        1  meta_21    0.53849  0.53866   0.53858  Dummy_model   \n",
       "12344  ITUB3.SA        1  meta_21    0.45801  0.45834   0.45817  Dummy_model   \n",
       "12178  ABCB4.SA        1   meta_7    0.51475  0.51433   0.51454  Dummy_model   \n",
       "12170  ABCB4.SA        1   meta_7    0.35303  0.35303   0.35303  Dummy_model   \n",
       "12278  ITUB3.SA        1   meta_7    0.43297  0.43297   0.43297  Dummy_model   \n",
       "12270  ITUB3.SA        1   meta_7    0.35265  0.35265   0.35265  Dummy_model   \n",
       "\n",
       "        leak      feature_cols  \n",
       "12210  False  ['past_meta_14']  \n",
       "12202   True  ['past_meta_14']  \n",
       "12314  False  ['past_meta_14']  \n",
       "12305   True  ['past_meta_14']  \n",
       "12247  False  ['past_meta_21']  \n",
       "12237   True  ['past_meta_21']  \n",
       "12354  False  ['past_meta_21']  \n",
       "12344   True  ['past_meta_21']  \n",
       "12178  False   ['past_meta_7']  \n",
       "12170   True   ['past_meta_7']  \n",
       "12278  False   ['past_meta_7']  \n",
       "12270   True   ['past_meta_7']  "
      ]
     },
     "metadata": {},
     "output_type": "display_data"
    },
    {
     "name": "stdout",
     "output_type": "stream",
     "text": [
      "Metricas regressao - label diff_close_mean_z_score\n"
     ]
    },
    {
     "data": {
      "text/html": [
       "<div>\n",
       "<style scoped>\n",
       "    .dataframe tbody tr th:only-of-type {\n",
       "        vertical-align: middle;\n",
       "    }\n",
       "\n",
       "    .dataframe tbody tr th {\n",
       "        vertical-align: top;\n",
       "    }\n",
       "\n",
       "    .dataframe thead th {\n",
       "        text-align: right;\n",
       "    }\n",
       "</style>\n",
       "<table border=\"1\" class=\"dataframe\">\n",
       "  <thead>\n",
       "    <tr style=\"text-align: right;\">\n",
       "      <th></th>\n",
       "      <th>Mean Absolute Error (MAE)</th>\n",
       "      <th>Mean Squared Error (MSE)</th>\n",
       "      <th>Root Mean Squared Error (RMSE)</th>\n",
       "      <th>R-squared (R2)</th>\n",
       "      <th>Mean Absolute Percentage Error (MAPE)</th>\n",
       "      <th>ativo</th>\n",
       "      <th>alvo</th>\n",
       "      <th>seq_len</th>\n",
       "      <th>model</th>\n",
       "      <th>leak</th>\n",
       "    </tr>\n",
       "  </thead>\n",
       "  <tbody>\n",
       "    <tr>\n",
       "      <th>1111</th>\n",
       "      <td>0.44426</td>\n",
       "      <td>0.44645</td>\n",
       "      <td>0.66817</td>\n",
       "      <td>0.68949</td>\n",
       "      <td>1.666440e+00</td>\n",
       "      <td>ABCB4.SA</td>\n",
       "      <td>diff_close_mean_z_score_14</td>\n",
       "      <td>42</td>\n",
       "      <td>LSTM_with_Attention</td>\n",
       "      <td>False</td>\n",
       "    </tr>\n",
       "    <tr>\n",
       "      <th>438</th>\n",
       "      <td>0.59116</td>\n",
       "      <td>0.63933</td>\n",
       "      <td>0.79958</td>\n",
       "      <td>0.55167</td>\n",
       "      <td>2.459780e+00</td>\n",
       "      <td>ABCB4.SA</td>\n",
       "      <td>diff_close_mean_z_score_14</td>\n",
       "      <td>5</td>\n",
       "      <td>LSTM_with_Attention</td>\n",
       "      <td>True</td>\n",
       "    </tr>\n",
       "    <tr>\n",
       "      <th>67</th>\n",
       "      <td>0.38814</td>\n",
       "      <td>0.35300</td>\n",
       "      <td>0.59414</td>\n",
       "      <td>0.78711</td>\n",
       "      <td>1.108771e+02</td>\n",
       "      <td>ITUB3.SA</td>\n",
       "      <td>diff_close_mean_z_score_14</td>\n",
       "      <td>1</td>\n",
       "      <td>LSTM_with_Attention</td>\n",
       "      <td>False</td>\n",
       "    </tr>\n",
       "    <tr>\n",
       "      <th>66</th>\n",
       "      <td>0.50067</td>\n",
       "      <td>0.50085</td>\n",
       "      <td>0.70771</td>\n",
       "      <td>0.69763</td>\n",
       "      <td>1.600310e+02</td>\n",
       "      <td>ITUB3.SA</td>\n",
       "      <td>diff_close_mean_z_score_14</td>\n",
       "      <td>1</td>\n",
       "      <td>LSTM_with_Attention</td>\n",
       "      <td>True</td>\n",
       "    </tr>\n",
       "    <tr>\n",
       "      <th>59</th>\n",
       "      <td>0.38132</td>\n",
       "      <td>0.33990</td>\n",
       "      <td>0.58301</td>\n",
       "      <td>0.78049</td>\n",
       "      <td>1.141160e+00</td>\n",
       "      <td>ABCB4.SA</td>\n",
       "      <td>diff_close_mean_z_score_21</td>\n",
       "      <td>1</td>\n",
       "      <td>LSTM_with_Attention</td>\n",
       "      <td>False</td>\n",
       "    </tr>\n",
       "    <tr>\n",
       "      <th>58</th>\n",
       "      <td>0.51659</td>\n",
       "      <td>0.48855</td>\n",
       "      <td>0.69896</td>\n",
       "      <td>0.68276</td>\n",
       "      <td>1.601160e+00</td>\n",
       "      <td>ABCB4.SA</td>\n",
       "      <td>diff_close_mean_z_score_21</td>\n",
       "      <td>1</td>\n",
       "      <td>LSTM_with_Attention</td>\n",
       "      <td>True</td>\n",
       "    </tr>\n",
       "    <tr>\n",
       "      <th>71</th>\n",
       "      <td>0.31693</td>\n",
       "      <td>0.25537</td>\n",
       "      <td>0.50534</td>\n",
       "      <td>0.86047</td>\n",
       "      <td>1.839300e+00</td>\n",
       "      <td>ITUB3.SA</td>\n",
       "      <td>diff_close_mean_z_score_21</td>\n",
       "      <td>1</td>\n",
       "      <td>LSTM_with_Attention</td>\n",
       "      <td>False</td>\n",
       "    </tr>\n",
       "    <tr>\n",
       "      <th>70</th>\n",
       "      <td>0.41671</td>\n",
       "      <td>0.36802</td>\n",
       "      <td>0.60665</td>\n",
       "      <td>0.79849</td>\n",
       "      <td>2.608570e+00</td>\n",
       "      <td>ITUB3.SA</td>\n",
       "      <td>diff_close_mean_z_score_21</td>\n",
       "      <td>1</td>\n",
       "      <td>LSTM_with_Attention</td>\n",
       "      <td>True</td>\n",
       "    </tr>\n",
       "    <tr>\n",
       "      <th>531</th>\n",
       "      <td>0.53444</td>\n",
       "      <td>0.57412</td>\n",
       "      <td>0.75771</td>\n",
       "      <td>0.52215</td>\n",
       "      <td>1.415387e+02</td>\n",
       "      <td>ABCB4.SA</td>\n",
       "      <td>diff_close_mean_z_score_7</td>\n",
       "      <td>6</td>\n",
       "      <td>LSTM_with_Attention</td>\n",
       "      <td>False</td>\n",
       "    </tr>\n",
       "    <tr>\n",
       "      <th>626</th>\n",
       "      <td>0.68179</td>\n",
       "      <td>0.81188</td>\n",
       "      <td>0.90104</td>\n",
       "      <td>0.32806</td>\n",
       "      <td>2.167550e+02</td>\n",
       "      <td>ABCB4.SA</td>\n",
       "      <td>diff_close_mean_z_score_7</td>\n",
       "      <td>7</td>\n",
       "      <td>LSTM_with_Attention</td>\n",
       "      <td>True</td>\n",
       "    </tr>\n",
       "    <tr>\n",
       "      <th>639</th>\n",
       "      <td>0.51406</td>\n",
       "      <td>0.52509</td>\n",
       "      <td>0.72463</td>\n",
       "      <td>0.59080</td>\n",
       "      <td>2.622012e+12</td>\n",
       "      <td>ITUB3.SA</td>\n",
       "      <td>diff_close_mean_z_score_7</td>\n",
       "      <td>7</td>\n",
       "      <td>LSTM_with_Attention</td>\n",
       "      <td>False</td>\n",
       "    </tr>\n",
       "    <tr>\n",
       "      <th>734</th>\n",
       "      <td>0.63435</td>\n",
       "      <td>0.73134</td>\n",
       "      <td>0.85518</td>\n",
       "      <td>0.43810</td>\n",
       "      <td>3.419256e+12</td>\n",
       "      <td>ITUB3.SA</td>\n",
       "      <td>diff_close_mean_z_score_7</td>\n",
       "      <td>14</td>\n",
       "      <td>LSTM_with_Attention</td>\n",
       "      <td>True</td>\n",
       "    </tr>\n",
       "  </tbody>\n",
       "</table>\n",
       "</div>"
      ],
      "text/plain": [
       "      Mean Absolute Error (MAE)  Mean Squared Error (MSE)  \\\n",
       "1111                    0.44426                   0.44645   \n",
       "438                     0.59116                   0.63933   \n",
       "67                      0.38814                   0.35300   \n",
       "66                      0.50067                   0.50085   \n",
       "59                      0.38132                   0.33990   \n",
       "58                      0.51659                   0.48855   \n",
       "71                      0.31693                   0.25537   \n",
       "70                      0.41671                   0.36802   \n",
       "531                     0.53444                   0.57412   \n",
       "626                     0.68179                   0.81188   \n",
       "639                     0.51406                   0.52509   \n",
       "734                     0.63435                   0.73134   \n",
       "\n",
       "      Root Mean Squared Error (RMSE)  R-squared (R2)  \\\n",
       "1111                         0.66817         0.68949   \n",
       "438                          0.79958         0.55167   \n",
       "67                           0.59414         0.78711   \n",
       "66                           0.70771         0.69763   \n",
       "59                           0.58301         0.78049   \n",
       "58                           0.69896         0.68276   \n",
       "71                           0.50534         0.86047   \n",
       "70                           0.60665         0.79849   \n",
       "531                          0.75771         0.52215   \n",
       "626                          0.90104         0.32806   \n",
       "639                          0.72463         0.59080   \n",
       "734                          0.85518         0.43810   \n",
       "\n",
       "      Mean Absolute Percentage Error (MAPE)     ativo  \\\n",
       "1111                           1.666440e+00  ABCB4.SA   \n",
       "438                            2.459780e+00  ABCB4.SA   \n",
       "67                             1.108771e+02  ITUB3.SA   \n",
       "66                             1.600310e+02  ITUB3.SA   \n",
       "59                             1.141160e+00  ABCB4.SA   \n",
       "58                             1.601160e+00  ABCB4.SA   \n",
       "71                             1.839300e+00  ITUB3.SA   \n",
       "70                             2.608570e+00  ITUB3.SA   \n",
       "531                            1.415387e+02  ABCB4.SA   \n",
       "626                            2.167550e+02  ABCB4.SA   \n",
       "639                            2.622012e+12  ITUB3.SA   \n",
       "734                            3.419256e+12  ITUB3.SA   \n",
       "\n",
       "                            alvo  seq_len                model   leak  \n",
       "1111  diff_close_mean_z_score_14       42  LSTM_with_Attention  False  \n",
       "438   diff_close_mean_z_score_14        5  LSTM_with_Attention   True  \n",
       "67    diff_close_mean_z_score_14        1  LSTM_with_Attention  False  \n",
       "66    diff_close_mean_z_score_14        1  LSTM_with_Attention   True  \n",
       "59    diff_close_mean_z_score_21        1  LSTM_with_Attention  False  \n",
       "58    diff_close_mean_z_score_21        1  LSTM_with_Attention   True  \n",
       "71    diff_close_mean_z_score_21        1  LSTM_with_Attention  False  \n",
       "70    diff_close_mean_z_score_21        1  LSTM_with_Attention   True  \n",
       "531    diff_close_mean_z_score_7        6  LSTM_with_Attention  False  \n",
       "626    diff_close_mean_z_score_7        7  LSTM_with_Attention   True  \n",
       "639    diff_close_mean_z_score_7        7  LSTM_with_Attention  False  \n",
       "734    diff_close_mean_z_score_7       14  LSTM_with_Attention   True  "
      ]
     },
     "metadata": {},
     "output_type": "display_data"
    },
    {
     "name": "stdout",
     "output_type": "stream",
     "text": [
      "\n",
      "##############################################\n",
      "# DOMAIN: Saúde\n",
      "# ASSETS: ['FLRY3.SA', 'RADL3.SA']\n",
      "##############################################\n",
      "          \n",
      "Metricas macro - label meta\n"
     ]
    },
    {
     "data": {
      "text/html": [
       "<div>\n",
       "<style scoped>\n",
       "    .dataframe tbody tr th:only-of-type {\n",
       "        vertical-align: middle;\n",
       "    }\n",
       "\n",
       "    .dataframe tbody tr th {\n",
       "        vertical-align: top;\n",
       "    }\n",
       "\n",
       "    .dataframe thead th {\n",
       "        text-align: right;\n",
       "    }\n",
       "</style>\n",
       "<table border=\"1\" class=\"dataframe\">\n",
       "  <thead>\n",
       "    <tr style=\"text-align: right;\">\n",
       "      <th></th>\n",
       "      <th>ativo</th>\n",
       "      <th>seq_len</th>\n",
       "      <th>alvo</th>\n",
       "      <th>precision</th>\n",
       "      <th>recall</th>\n",
       "      <th>f1-score</th>\n",
       "      <th>model</th>\n",
       "      <th>leak</th>\n",
       "      <th>feature_cols</th>\n",
       "    </tr>\n",
       "  </thead>\n",
       "  <tbody>\n",
       "    <tr>\n",
       "      <th>12422</th>\n",
       "      <td>FLRY3.SA</td>\n",
       "      <td>1</td>\n",
       "      <td>meta_14</td>\n",
       "      <td>0.63270</td>\n",
       "      <td>0.63292</td>\n",
       "      <td>0.63281</td>\n",
       "      <td>Dummy_model</td>\n",
       "      <td>False</td>\n",
       "      <td>['past_meta_14']</td>\n",
       "    </tr>\n",
       "    <tr>\n",
       "      <th>12412</th>\n",
       "      <td>FLRY3.SA</td>\n",
       "      <td>1</td>\n",
       "      <td>meta_14</td>\n",
       "      <td>0.37578</td>\n",
       "      <td>0.37601</td>\n",
       "      <td>0.37590</td>\n",
       "      <td>Dummy_model</td>\n",
       "      <td>True</td>\n",
       "      <td>['past_meta_14']</td>\n",
       "    </tr>\n",
       "    <tr>\n",
       "      <th>12522</th>\n",
       "      <td>RADL3.SA</td>\n",
       "      <td>1</td>\n",
       "      <td>meta_14</td>\n",
       "      <td>0.66057</td>\n",
       "      <td>0.66030</td>\n",
       "      <td>0.66044</td>\n",
       "      <td>Dummy_model</td>\n",
       "      <td>False</td>\n",
       "      <td>['past_meta_14']</td>\n",
       "    </tr>\n",
       "    <tr>\n",
       "      <th>12514</th>\n",
       "      <td>RADL3.SA</td>\n",
       "      <td>1</td>\n",
       "      <td>meta_14</td>\n",
       "      <td>0.50464</td>\n",
       "      <td>0.50435</td>\n",
       "      <td>0.50450</td>\n",
       "      <td>Dummy_model</td>\n",
       "      <td>True</td>\n",
       "      <td>['past_meta_14']</td>\n",
       "    </tr>\n",
       "    <tr>\n",
       "      <th>12457</th>\n",
       "      <td>FLRY3.SA</td>\n",
       "      <td>1</td>\n",
       "      <td>meta_21</td>\n",
       "      <td>0.69998</td>\n",
       "      <td>0.70159</td>\n",
       "      <td>0.70078</td>\n",
       "      <td>Dummy_model</td>\n",
       "      <td>False</td>\n",
       "      <td>['past_meta_21']</td>\n",
       "    </tr>\n",
       "    <tr>\n",
       "      <th>12449</th>\n",
       "      <td>FLRY3.SA</td>\n",
       "      <td>1</td>\n",
       "      <td>meta_21</td>\n",
       "      <td>0.47878</td>\n",
       "      <td>0.48026</td>\n",
       "      <td>0.47951</td>\n",
       "      <td>Dummy_model</td>\n",
       "      <td>True</td>\n",
       "      <td>['past_meta_21']</td>\n",
       "    </tr>\n",
       "    <tr>\n",
       "      <th>12558</th>\n",
       "      <td>RADL3.SA</td>\n",
       "      <td>1</td>\n",
       "      <td>meta_21</td>\n",
       "      <td>0.61151</td>\n",
       "      <td>0.61130</td>\n",
       "      <td>0.61140</td>\n",
       "      <td>Dummy_model</td>\n",
       "      <td>False</td>\n",
       "      <td>['past_meta_21']</td>\n",
       "    </tr>\n",
       "    <tr>\n",
       "      <th>12549</th>\n",
       "      <td>RADL3.SA</td>\n",
       "      <td>1</td>\n",
       "      <td>meta_21</td>\n",
       "      <td>0.51669</td>\n",
       "      <td>0.51643</td>\n",
       "      <td>0.51656</td>\n",
       "      <td>Dummy_model</td>\n",
       "      <td>True</td>\n",
       "      <td>['past_meta_21']</td>\n",
       "    </tr>\n",
       "    <tr>\n",
       "      <th>12386</th>\n",
       "      <td>FLRY3.SA</td>\n",
       "      <td>1</td>\n",
       "      <td>meta_7</td>\n",
       "      <td>0.51439</td>\n",
       "      <td>0.51439</td>\n",
       "      <td>0.51439</td>\n",
       "      <td>Dummy_model</td>\n",
       "      <td>False</td>\n",
       "      <td>['past_meta_7']</td>\n",
       "    </tr>\n",
       "    <tr>\n",
       "      <th>12378</th>\n",
       "      <td>FLRY3.SA</td>\n",
       "      <td>1</td>\n",
       "      <td>meta_7</td>\n",
       "      <td>0.32899</td>\n",
       "      <td>0.32930</td>\n",
       "      <td>0.32914</td>\n",
       "      <td>Dummy_model</td>\n",
       "      <td>True</td>\n",
       "      <td>['past_meta_7']</td>\n",
       "    </tr>\n",
       "    <tr>\n",
       "      <th>12490</th>\n",
       "      <td>RADL3.SA</td>\n",
       "      <td>1</td>\n",
       "      <td>meta_7</td>\n",
       "      <td>0.50011</td>\n",
       "      <td>0.50031</td>\n",
       "      <td>0.50021</td>\n",
       "      <td>Dummy_model</td>\n",
       "      <td>False</td>\n",
       "      <td>['past_meta_7']</td>\n",
       "    </tr>\n",
       "    <tr>\n",
       "      <th>12482</th>\n",
       "      <td>RADL3.SA</td>\n",
       "      <td>1</td>\n",
       "      <td>meta_7</td>\n",
       "      <td>0.33450</td>\n",
       "      <td>0.33473</td>\n",
       "      <td>0.33462</td>\n",
       "      <td>Dummy_model</td>\n",
       "      <td>True</td>\n",
       "      <td>['past_meta_7']</td>\n",
       "    </tr>\n",
       "  </tbody>\n",
       "</table>\n",
       "</div>"
      ],
      "text/plain": [
       "          ativo  seq_len     alvo  precision   recall  f1-score        model  \\\n",
       "12422  FLRY3.SA        1  meta_14    0.63270  0.63292   0.63281  Dummy_model   \n",
       "12412  FLRY3.SA        1  meta_14    0.37578  0.37601   0.37590  Dummy_model   \n",
       "12522  RADL3.SA        1  meta_14    0.66057  0.66030   0.66044  Dummy_model   \n",
       "12514  RADL3.SA        1  meta_14    0.50464  0.50435   0.50450  Dummy_model   \n",
       "12457  FLRY3.SA        1  meta_21    0.69998  0.70159   0.70078  Dummy_model   \n",
       "12449  FLRY3.SA        1  meta_21    0.47878  0.48026   0.47951  Dummy_model   \n",
       "12558  RADL3.SA        1  meta_21    0.61151  0.61130   0.61140  Dummy_model   \n",
       "12549  RADL3.SA        1  meta_21    0.51669  0.51643   0.51656  Dummy_model   \n",
       "12386  FLRY3.SA        1   meta_7    0.51439  0.51439   0.51439  Dummy_model   \n",
       "12378  FLRY3.SA        1   meta_7    0.32899  0.32930   0.32914  Dummy_model   \n",
       "12490  RADL3.SA        1   meta_7    0.50011  0.50031   0.50021  Dummy_model   \n",
       "12482  RADL3.SA        1   meta_7    0.33450  0.33473   0.33462  Dummy_model   \n",
       "\n",
       "        leak      feature_cols  \n",
       "12422  False  ['past_meta_14']  \n",
       "12412   True  ['past_meta_14']  \n",
       "12522  False  ['past_meta_14']  \n",
       "12514   True  ['past_meta_14']  \n",
       "12457  False  ['past_meta_21']  \n",
       "12449   True  ['past_meta_21']  \n",
       "12558  False  ['past_meta_21']  \n",
       "12549   True  ['past_meta_21']  \n",
       "12386  False   ['past_meta_7']  \n",
       "12378   True   ['past_meta_7']  \n",
       "12490  False   ['past_meta_7']  \n",
       "12482   True   ['past_meta_7']  "
      ]
     },
     "metadata": {},
     "output_type": "display_data"
    },
    {
     "name": "stdout",
     "output_type": "stream",
     "text": [
      "Metricas regressao - label diff_close_mean_z_score\n"
     ]
    },
    {
     "data": {
      "text/html": [
       "<div>\n",
       "<style scoped>\n",
       "    .dataframe tbody tr th:only-of-type {\n",
       "        vertical-align: middle;\n",
       "    }\n",
       "\n",
       "    .dataframe tbody tr th {\n",
       "        vertical-align: top;\n",
       "    }\n",
       "\n",
       "    .dataframe thead th {\n",
       "        text-align: right;\n",
       "    }\n",
       "</style>\n",
       "<table border=\"1\" class=\"dataframe\">\n",
       "  <thead>\n",
       "    <tr style=\"text-align: right;\">\n",
       "      <th></th>\n",
       "      <th>Mean Absolute Error (MAE)</th>\n",
       "      <th>Mean Squared Error (MSE)</th>\n",
       "      <th>Root Mean Squared Error (RMSE)</th>\n",
       "      <th>R-squared (R2)</th>\n",
       "      <th>Mean Absolute Percentage Error (MAPE)</th>\n",
       "      <th>ativo</th>\n",
       "      <th>alvo</th>\n",
       "      <th>seq_len</th>\n",
       "      <th>model</th>\n",
       "      <th>leak</th>\n",
       "    </tr>\n",
       "  </thead>\n",
       "  <tbody>\n",
       "    <tr>\n",
       "      <th>79</th>\n",
       "      <td>0.41483</td>\n",
       "      <td>0.36029</td>\n",
       "      <td>0.60024</td>\n",
       "      <td>0.75498</td>\n",
       "      <td>1.47864</td>\n",
       "      <td>FLRY3.SA</td>\n",
       "      <td>diff_close_mean_z_score_14</td>\n",
       "      <td>1</td>\n",
       "      <td>LSTM_with_Attention</td>\n",
       "      <td>False</td>\n",
       "    </tr>\n",
       "    <tr>\n",
       "      <th>78</th>\n",
       "      <td>0.54324</td>\n",
       "      <td>0.51046</td>\n",
       "      <td>0.71447</td>\n",
       "      <td>0.64985</td>\n",
       "      <td>2.07223</td>\n",
       "      <td>FLRY3.SA</td>\n",
       "      <td>diff_close_mean_z_score_14</td>\n",
       "      <td>1</td>\n",
       "      <td>LSTM_with_Attention</td>\n",
       "      <td>True</td>\n",
       "    </tr>\n",
       "    <tr>\n",
       "      <th>1243</th>\n",
       "      <td>0.39686</td>\n",
       "      <td>0.36853</td>\n",
       "      <td>0.60707</td>\n",
       "      <td>0.76366</td>\n",
       "      <td>2109.77658</td>\n",
       "      <td>RADL3.SA</td>\n",
       "      <td>diff_close_mean_z_score_14</td>\n",
       "      <td>49</td>\n",
       "      <td>LSTM_with_Attention</td>\n",
       "      <td>False</td>\n",
       "    </tr>\n",
       "    <tr>\n",
       "      <th>1146</th>\n",
       "      <td>0.53194</td>\n",
       "      <td>0.52185</td>\n",
       "      <td>0.72239</td>\n",
       "      <td>0.66045</td>\n",
       "      <td>2778.68656</td>\n",
       "      <td>RADL3.SA</td>\n",
       "      <td>diff_close_mean_z_score_14</td>\n",
       "      <td>42</td>\n",
       "      <td>LSTM_with_Attention</td>\n",
       "      <td>True</td>\n",
       "    </tr>\n",
       "    <tr>\n",
       "      <th>83</th>\n",
       "      <td>0.35726</td>\n",
       "      <td>0.27871</td>\n",
       "      <td>0.52793</td>\n",
       "      <td>0.82232</td>\n",
       "      <td>191.80007</td>\n",
       "      <td>FLRY3.SA</td>\n",
       "      <td>diff_close_mean_z_score_21</td>\n",
       "      <td>1</td>\n",
       "      <td>LSTM_with_Attention</td>\n",
       "      <td>False</td>\n",
       "    </tr>\n",
       "    <tr>\n",
       "      <th>82</th>\n",
       "      <td>0.47139</td>\n",
       "      <td>0.39468</td>\n",
       "      <td>0.62824</td>\n",
       "      <td>0.74451</td>\n",
       "      <td>274.83695</td>\n",
       "      <td>FLRY3.SA</td>\n",
       "      <td>diff_close_mean_z_score_21</td>\n",
       "      <td>1</td>\n",
       "      <td>LSTM_with_Attention</td>\n",
       "      <td>True</td>\n",
       "    </tr>\n",
       "    <tr>\n",
       "      <th>1247</th>\n",
       "      <td>0.34443</td>\n",
       "      <td>0.27498</td>\n",
       "      <td>0.52439</td>\n",
       "      <td>0.83237</td>\n",
       "      <td>2.88478</td>\n",
       "      <td>RADL3.SA</td>\n",
       "      <td>diff_close_mean_z_score_21</td>\n",
       "      <td>49</td>\n",
       "      <td>LSTM_with_Attention</td>\n",
       "      <td>False</td>\n",
       "    </tr>\n",
       "    <tr>\n",
       "      <th>1054</th>\n",
       "      <td>0.46803</td>\n",
       "      <td>0.40183</td>\n",
       "      <td>0.63390</td>\n",
       "      <td>0.75049</td>\n",
       "      <td>3.82217</td>\n",
       "      <td>RADL3.SA</td>\n",
       "      <td>diff_close_mean_z_score_21</td>\n",
       "      <td>35</td>\n",
       "      <td>LSTM_with_Attention</td>\n",
       "      <td>True</td>\n",
       "    </tr>\n",
       "    <tr>\n",
       "      <th>1131</th>\n",
       "      <td>0.52491</td>\n",
       "      <td>0.54195</td>\n",
       "      <td>0.73617</td>\n",
       "      <td>0.55090</td>\n",
       "      <td>1.71437</td>\n",
       "      <td>FLRY3.SA</td>\n",
       "      <td>diff_close_mean_z_score_7</td>\n",
       "      <td>42</td>\n",
       "      <td>LSTM_with_Attention</td>\n",
       "      <td>False</td>\n",
       "    </tr>\n",
       "    <tr>\n",
       "      <th>74</th>\n",
       "      <td>0.65786</td>\n",
       "      <td>0.75791</td>\n",
       "      <td>0.87058</td>\n",
       "      <td>0.37442</td>\n",
       "      <td>2.27334</td>\n",
       "      <td>FLRY3.SA</td>\n",
       "      <td>diff_close_mean_z_score_7</td>\n",
       "      <td>1</td>\n",
       "      <td>LSTM_with_Attention</td>\n",
       "      <td>True</td>\n",
       "    </tr>\n",
       "    <tr>\n",
       "      <th>663</th>\n",
       "      <td>0.50775</td>\n",
       "      <td>0.49474</td>\n",
       "      <td>0.70338</td>\n",
       "      <td>0.62007</td>\n",
       "      <td>1.76832</td>\n",
       "      <td>RADL3.SA</td>\n",
       "      <td>diff_close_mean_z_score_7</td>\n",
       "      <td>7</td>\n",
       "      <td>LSTM_with_Attention</td>\n",
       "      <td>False</td>\n",
       "    </tr>\n",
       "    <tr>\n",
       "      <th>1142</th>\n",
       "      <td>0.63233</td>\n",
       "      <td>0.67640</td>\n",
       "      <td>0.82244</td>\n",
       "      <td>0.47497</td>\n",
       "      <td>2.11848</td>\n",
       "      <td>RADL3.SA</td>\n",
       "      <td>diff_close_mean_z_score_7</td>\n",
       "      <td>42</td>\n",
       "      <td>LSTM_with_Attention</td>\n",
       "      <td>True</td>\n",
       "    </tr>\n",
       "  </tbody>\n",
       "</table>\n",
       "</div>"
      ],
      "text/plain": [
       "      Mean Absolute Error (MAE)  Mean Squared Error (MSE)  \\\n",
       "79                      0.41483                   0.36029   \n",
       "78                      0.54324                   0.51046   \n",
       "1243                    0.39686                   0.36853   \n",
       "1146                    0.53194                   0.52185   \n",
       "83                      0.35726                   0.27871   \n",
       "82                      0.47139                   0.39468   \n",
       "1247                    0.34443                   0.27498   \n",
       "1054                    0.46803                   0.40183   \n",
       "1131                    0.52491                   0.54195   \n",
       "74                      0.65786                   0.75791   \n",
       "663                     0.50775                   0.49474   \n",
       "1142                    0.63233                   0.67640   \n",
       "\n",
       "      Root Mean Squared Error (RMSE)  R-squared (R2)  \\\n",
       "79                           0.60024         0.75498   \n",
       "78                           0.71447         0.64985   \n",
       "1243                         0.60707         0.76366   \n",
       "1146                         0.72239         0.66045   \n",
       "83                           0.52793         0.82232   \n",
       "82                           0.62824         0.74451   \n",
       "1247                         0.52439         0.83237   \n",
       "1054                         0.63390         0.75049   \n",
       "1131                         0.73617         0.55090   \n",
       "74                           0.87058         0.37442   \n",
       "663                          0.70338         0.62007   \n",
       "1142                         0.82244         0.47497   \n",
       "\n",
       "      Mean Absolute Percentage Error (MAPE)     ativo  \\\n",
       "79                                  1.47864  FLRY3.SA   \n",
       "78                                  2.07223  FLRY3.SA   \n",
       "1243                             2109.77658  RADL3.SA   \n",
       "1146                             2778.68656  RADL3.SA   \n",
       "83                                191.80007  FLRY3.SA   \n",
       "82                                274.83695  FLRY3.SA   \n",
       "1247                                2.88478  RADL3.SA   \n",
       "1054                                3.82217  RADL3.SA   \n",
       "1131                                1.71437  FLRY3.SA   \n",
       "74                                  2.27334  FLRY3.SA   \n",
       "663                                 1.76832  RADL3.SA   \n",
       "1142                                2.11848  RADL3.SA   \n",
       "\n",
       "                            alvo  seq_len                model   leak  \n",
       "79    diff_close_mean_z_score_14        1  LSTM_with_Attention  False  \n",
       "78    diff_close_mean_z_score_14        1  LSTM_with_Attention   True  \n",
       "1243  diff_close_mean_z_score_14       49  LSTM_with_Attention  False  \n",
       "1146  diff_close_mean_z_score_14       42  LSTM_with_Attention   True  \n",
       "83    diff_close_mean_z_score_21        1  LSTM_with_Attention  False  \n",
       "82    diff_close_mean_z_score_21        1  LSTM_with_Attention   True  \n",
       "1247  diff_close_mean_z_score_21       49  LSTM_with_Attention  False  \n",
       "1054  diff_close_mean_z_score_21       35  LSTM_with_Attention   True  \n",
       "1131   diff_close_mean_z_score_7       42  LSTM_with_Attention  False  \n",
       "74     diff_close_mean_z_score_7        1  LSTM_with_Attention   True  \n",
       "663    diff_close_mean_z_score_7        7  LSTM_with_Attention  False  \n",
       "1142   diff_close_mean_z_score_7       42  LSTM_with_Attention   True  "
      ]
     },
     "metadata": {},
     "output_type": "display_data"
    }
   ],
   "source": [
    "for assets, domain in assets_domain:\n",
    "    print(f'''\n",
    "##############################################\n",
    "# DOMAIN: {domain}\n",
    "# ASSETS: {assets}\n",
    "##############################################\n",
    "          ''')\n",
    "    \n",
    "    print('Metricas macro - label meta')\n",
    "    metrics_clf = macro_clf[macro_clf.label_col.str.contains('meta') & macro_clf.asset.isin(assets)].\\\n",
    "    drop(['support', 'scaling_method', 'prediction_type', 'class'], axis =1 ).\\\n",
    "            rename({'asset': 'ativo', 'label_col': 'alvo'},axis=1)[['ativo','seq_len','alvo','precision','recall', 'f1-score', 'model', 'leak', 'feature_cols']]\n",
    "    \n",
    "    display(metrics_clf.loc[metrics_clf.groupby(['alvo','ativo', 'leak'])['f1-score'].idxmax()])\n",
    "    \n",
    "    print('Metricas regressao - label diff_close_mean_z_score')\n",
    "    \n",
    "    \n",
    "    metrics_reg = reg[reg.label_col.str.contains('diff_close_mean_z_score') & reg.asset.isin(assets)].\\\n",
    "        drop(['scaling_method', 'prediction_type', 'feature_cols'], axis = 1).\\\n",
    "            rename({'asset': 'ativo', 'label_col': 'alvo','f1-score':'valor'},axis=1)\n",
    "    \n",
    "    display(metrics_reg.loc[metrics_reg.groupby(['alvo','ativo', 'leak'])['R-squared (R2)'].idxmax()])"
   ]
  },
  {
   "cell_type": "code",
   "execution_count": 21,
   "metadata": {},
   "outputs": [
    {
     "data": {
      "application/vnd.plotly.v1+json": {
       "config": {
        "plotlyServerURL": "https://plot.ly"
       },
       "data": [
        {
         "alignmentgroup": "True",
         "boxpoints": "all",
         "hovertemplate": "label_col=%{x}<br>f1-score=%{y}<extra></extra>",
         "legendgroup": "",
         "marker": {
          "color": "#636efa"
         },
         "name": "",
         "notched": false,
         "offsetgroup": "",
         "orientation": "v",
         "showlegend": false,
         "type": "box",
         "x": [
          "meta_7",
          "meta_14",
          "meta_21",
          "meta_7",
          "meta_14",
          "meta_21",
          "meta_7",
          "meta_14",
          "meta_21",
          "meta_7",
          "meta_14",
          "meta_21",
          "meta_7",
          "meta_14",
          "meta_21",
          "meta_7",
          "meta_14",
          "meta_21",
          "meta_7",
          "meta_14",
          "meta_21",
          "meta_7",
          "meta_14",
          "meta_21",
          "meta_7",
          "meta_14",
          "meta_21",
          "meta_7",
          "meta_14",
          "meta_21",
          "meta_7",
          "meta_14",
          "meta_21",
          "meta_7",
          "meta_14",
          "meta_21",
          "meta_7",
          "meta_14",
          "meta_21",
          "meta_7",
          "meta_14",
          "meta_21",
          "meta_7",
          "meta_14",
          "meta_21",
          "meta_7",
          "meta_14",
          "meta_21",
          "meta_7",
          "meta_14",
          "meta_21",
          "meta_7",
          "meta_14",
          "meta_21",
          "meta_7",
          "meta_14",
          "meta_21",
          "meta_7",
          "meta_14",
          "meta_21",
          "meta_7",
          "meta_14",
          "meta_21",
          "meta_7",
          "meta_14",
          "meta_21",
          "meta_7",
          "meta_14",
          "meta_21",
          "meta_7",
          "meta_14",
          "meta_21",
          "meta_7",
          "meta_14",
          "meta_21",
          "meta_7",
          "meta_14",
          "meta_21",
          "meta_7",
          "meta_14",
          "meta_21",
          "meta_7",
          "meta_14",
          "meta_21",
          "meta_7",
          "meta_14",
          "meta_21",
          "meta_7",
          "meta_14",
          "meta_21",
          "meta_7",
          "meta_14",
          "meta_21",
          "meta_7",
          "meta_14",
          "meta_21",
          "meta_7",
          "meta_14",
          "meta_21",
          "meta_7",
          "meta_14",
          "meta_21",
          "meta_7",
          "meta_14",
          "meta_21",
          "meta_7",
          "meta_14",
          "meta_21",
          "meta_7",
          "meta_14",
          "meta_21",
          "meta_7",
          "meta_14",
          "meta_21",
          "meta_7",
          "meta_14",
          "meta_21",
          "meta_7",
          "meta_14",
          "meta_21",
          "meta_7",
          "meta_14",
          "meta_21",
          "meta_7",
          "meta_14",
          "meta_21",
          "meta_7",
          "meta_14",
          "meta_21",
          "meta_7",
          "meta_14",
          "meta_21",
          "meta_7",
          "meta_14",
          "meta_21",
          "meta_7",
          "meta_14",
          "meta_21",
          "meta_7",
          "meta_14",
          "meta_21",
          "meta_7",
          "meta_14",
          "meta_21",
          "meta_7",
          "meta_14",
          "meta_21",
          "meta_7",
          "meta_14",
          "meta_21",
          "meta_7",
          "meta_14",
          "meta_21",
          "meta_7",
          "meta_14",
          "meta_21",
          "meta_7",
          "meta_14",
          "meta_21",
          "meta_7",
          "meta_14",
          "meta_21",
          "meta_7",
          "meta_14",
          "meta_21",
          "meta_7",
          "meta_14",
          "meta_21",
          "meta_7",
          "meta_14",
          "meta_21",
          "meta_7",
          "meta_14",
          "meta_21",
          "meta_7",
          "meta_14",
          "meta_21",
          "meta_7",
          "meta_14",
          "meta_21",
          "meta_7",
          "meta_14",
          "meta_21",
          "meta_7",
          "meta_14",
          "meta_21",
          "meta_7",
          "meta_14",
          "meta_21",
          "meta_7",
          "meta_14",
          "meta_21",
          "meta_7",
          "meta_14",
          "meta_21",
          "meta_7",
          "meta_14",
          "meta_21",
          "meta_7",
          "meta_14",
          "meta_21",
          "meta_7",
          "meta_14",
          "meta_21",
          "meta_7",
          "meta_14",
          "meta_21",
          "meta_7",
          "meta_14",
          "meta_21",
          "meta_7",
          "meta_14",
          "meta_21",
          "meta_7",
          "meta_14",
          "meta_21",
          "meta_7",
          "meta_14",
          "meta_21",
          "meta_7",
          "meta_14",
          "meta_21",
          "meta_7",
          "meta_14",
          "meta_21",
          "meta_7",
          "meta_14",
          "meta_21",
          "meta_7",
          "meta_14",
          "meta_21",
          "meta_7",
          "meta_14",
          "meta_21",
          "meta_7",
          "meta_14",
          "meta_21",
          "meta_7",
          "meta_14",
          "meta_21",
          "meta_7",
          "meta_14",
          "meta_21",
          "meta_7",
          "meta_14",
          "meta_21",
          "meta_7",
          "meta_14",
          "meta_21",
          "meta_7",
          "meta_14",
          "meta_21",
          "meta_7",
          "meta_14",
          "meta_21",
          "meta_7",
          "meta_14",
          "meta_21",
          "meta_7",
          "meta_14",
          "meta_21",
          "meta_7",
          "meta_14",
          "meta_21",
          "meta_7",
          "meta_14",
          "meta_21",
          "meta_7",
          "meta_14",
          "meta_21",
          "meta_7",
          "meta_14",
          "meta_21",
          "meta_7",
          "meta_14",
          "meta_21",
          "meta_7",
          "meta_14",
          "meta_21",
          "meta_7",
          "meta_14",
          "meta_21",
          "meta_7",
          "meta_14",
          "meta_21",
          "meta_7",
          "meta_14",
          "meta_21",
          "meta_7",
          "meta_14",
          "meta_21",
          "meta_7",
          "meta_14",
          "meta_21",
          "meta_7",
          "meta_14",
          "meta_21",
          "meta_7",
          "meta_14",
          "meta_21",
          "meta_7",
          "meta_14",
          "meta_21",
          "meta_7",
          "meta_14",
          "meta_21",
          "meta_7",
          "meta_14",
          "meta_21",
          "meta_7",
          "meta_14",
          "meta_21",
          "meta_7",
          "meta_14",
          "meta_21",
          "meta_7",
          "meta_14",
          "meta_21",
          "meta_7",
          "meta_14",
          "meta_21",
          "meta_7",
          "meta_14",
          "meta_21",
          "meta_7",
          "meta_14",
          "meta_21",
          "meta_7",
          "meta_14",
          "meta_21",
          "meta_7",
          "meta_14",
          "meta_21",
          "meta_7",
          "meta_14",
          "meta_21"
         ],
         "x0": " ",
         "xaxis": "x",
         "y": [
          0.19734,
          0.2184,
          0.24077,
          0.19567,
          0.22422,
          0.27597,
          0.20169,
          0.25291,
          0.22576,
          0.19994,
          0.19279,
          0.21391,
          0.20128,
          0.21474,
          0.21167,
          0.20212,
          0.20674,
          0.21594,
          0.18289,
          0.20856,
          0.23604,
          0.18621,
          0.21425,
          0.23556,
          0.19734,
          0.19932,
          0.2383,
          0.19567,
          0.22351,
          0.27523,
          0.20072,
          0.2551,
          0.22854,
          0.19994,
          0.22906,
          0.19916,
          0.20145,
          0.21527,
          0.21167,
          0.20212,
          0.20768,
          0.21594,
          0.18289,
          0.18449,
          0.23831,
          0.15961,
          0.21409,
          0.23556,
          0.19767,
          0.19944,
          0.2383,
          0.19412,
          0.22279,
          0.27523,
          0.20072,
          0.29762,
          0.22854,
          0.19947,
          0.24162,
          0.20767,
          0.20145,
          0.21539,
          0.21167,
          0.20212,
          0.20768,
          0.21594,
          0.18245,
          0.18667,
          0.23604,
          0.16039,
          0.21389,
          0.23428,
          0.19734,
          0.19958,
          0.2383,
          0.19482,
          0.22084,
          0.27626,
          0.20072,
          0.2551,
          0.22773,
          0.20027,
          0.23155,
          0.19967,
          0.20193,
          0.21898,
          0.21167,
          0.19944,
          0.20695,
          0.21594,
          0.18085,
          0.18105,
          0.23831,
          0.15993,
          0.21471,
          0.23428,
          0.16872,
          0.19722,
          0.23806,
          0.19482,
          0.221,
          0.27544,
          0.20038,
          0.25421,
          0.22587,
          0.19899,
          0.22849,
          0.19959,
          0.20145,
          0.21808,
          0.21143,
          0.20127,
          0.19587,
          0.21358,
          0.18214,
          0.17475,
          0.23176,
          0.1598,
          0.21586,
          0.23556,
          0.16863,
          0.20444,
          0.23643,
          0.19333,
          0.22384,
          0.27124,
          0.20138,
          0.25239,
          0.22672,
          0.19979,
          0.22479,
          0.19644,
          0.20131,
          0.21275,
          0.21167,
          0.20126,
          0.20827,
          0.21276,
          0.18218,
          0.1832,
          0.2368,
          0.15993,
          0.21639,
          0.23556,
          0.19786,
          0.20046,
          0.24086,
          0.19452,
          0.22317,
          0.27031,
          0.19781,
          0.24726,
          0.23123,
          0.19899,
          0.22906,
          0.19801,
          0.20195,
          0.21505,
          0.2129,
          0.20043,
          0.20413,
          0.21069,
          0.18282,
          0.18864,
          0.23892,
          0.15792,
          0.21478,
          0.2362,
          0.16918,
          0.19722,
          0.23535,
          0.19447,
          0.22692,
          0.27058,
          0.2014,
          0.25648,
          0.22336,
          0.19675,
          0.22934,
          0.20732,
          0.20195,
          0.2216,
          0.18774,
          0.20042,
          0.21132,
          0.20217,
          0.18099,
          0.17185,
          0.23624,
          0.15961,
          0.20425,
          0.22968,
          0.19688,
          0.2008,
          0.23826,
          0.19482,
          0.21686,
          0.27234,
          0.20124,
          0.25226,
          0.2235,
          0.19786,
          0.2407,
          0.20185,
          0.20302,
          0.21261,
          0.18957,
          0.20114,
          0.20503,
          0.20648,
          0.18242,
          0.18131,
          0.23601,
          0.16032,
          0.20213,
          0.23952,
          0.19365,
          0.19855,
          0.23625,
          0.19318,
          0.22627,
          0.2707,
          0.20095,
          0.24518,
          0.218,
          0.19983,
          0.23603,
          0.2058,
          0.19876,
          0.2207,
          0.21294,
          0.19992,
          0.21326,
          0.19181,
          0.17988,
          0.18553,
          0.2321,
          0.16032,
          0.21586,
          0.24314,
          0.19862,
          0.18726,
          0.23634,
          0.19554,
          0.2251,
          0.26581,
          0.19965,
          0.25441,
          0.27114,
          0.19836,
          0.2407,
          0.19757,
          0.20206,
          0.2173,
          0.21065,
          0.20051,
          0.18128,
          0.19229,
          0.18224,
          0.17422,
          0.20408,
          0.15867,
          0.21075,
          0.24377,
          0.1963,
          0.17913,
          0.2313,
          0.19485,
          0.19478,
          0.22661,
          0.20045,
          0.24931,
          0.22448,
          0.19863,
          0.24248,
          0.20604,
          0.20223,
          0.21782,
          0.21383,
          0.19933,
          0.20976,
          0.19245,
          0.18176,
          0.15818,
          0.23542,
          0.18401,
          0.19993,
          0.24355,
          0.19684,
          0.19257,
          0.23098,
          0.19563,
          0.2271,
          0.22683,
          0.20041,
          0.25166,
          0.21541,
          0.19943,
          0.23632,
          0.20513,
          0.2037,
          0.22178,
          0.21119,
          0.19886,
          0.18727,
          0.19966,
          0.17989,
          0.1594,
          0.2142,
          0.16188,
          0.2038,
          0.24285,
          0.32921,
          0.43335,
          0.4854,
          0.34295,
          0.49031,
          0.62055,
          0.40358,
          0.55919,
          0.45227,
          0.34118,
          0.52891,
          0.42427,
          0.35303,
          0.47122,
          0.44868,
          0.35265,
          0.46056,
          0.45817,
          0.32914,
          0.3759,
          0.47951,
          0.33462,
          0.5045,
          0.51656
         ],
         "y0": " ",
         "yaxis": "y"
        }
       ],
       "layout": {
        "boxmode": "group",
        "legend": {
         "tracegroupgap": 0
        },
        "template": {
         "data": {
          "bar": [
           {
            "error_x": {
             "color": "#2a3f5f"
            },
            "error_y": {
             "color": "#2a3f5f"
            },
            "marker": {
             "line": {
              "color": "#E5ECF6",
              "width": 0.5
             },
             "pattern": {
              "fillmode": "overlay",
              "size": 10,
              "solidity": 0.2
             }
            },
            "type": "bar"
           }
          ],
          "barpolar": [
           {
            "marker": {
             "line": {
              "color": "#E5ECF6",
              "width": 0.5
             },
             "pattern": {
              "fillmode": "overlay",
              "size": 10,
              "solidity": 0.2
             }
            },
            "type": "barpolar"
           }
          ],
          "carpet": [
           {
            "aaxis": {
             "endlinecolor": "#2a3f5f",
             "gridcolor": "white",
             "linecolor": "white",
             "minorgridcolor": "white",
             "startlinecolor": "#2a3f5f"
            },
            "baxis": {
             "endlinecolor": "#2a3f5f",
             "gridcolor": "white",
             "linecolor": "white",
             "minorgridcolor": "white",
             "startlinecolor": "#2a3f5f"
            },
            "type": "carpet"
           }
          ],
          "choropleth": [
           {
            "colorbar": {
             "outlinewidth": 0,
             "ticks": ""
            },
            "type": "choropleth"
           }
          ],
          "contour": [
           {
            "colorbar": {
             "outlinewidth": 0,
             "ticks": ""
            },
            "colorscale": [
             [
              0,
              "#0d0887"
             ],
             [
              0.1111111111111111,
              "#46039f"
             ],
             [
              0.2222222222222222,
              "#7201a8"
             ],
             [
              0.3333333333333333,
              "#9c179e"
             ],
             [
              0.4444444444444444,
              "#bd3786"
             ],
             [
              0.5555555555555556,
              "#d8576b"
             ],
             [
              0.6666666666666666,
              "#ed7953"
             ],
             [
              0.7777777777777778,
              "#fb9f3a"
             ],
             [
              0.8888888888888888,
              "#fdca26"
             ],
             [
              1,
              "#f0f921"
             ]
            ],
            "type": "contour"
           }
          ],
          "contourcarpet": [
           {
            "colorbar": {
             "outlinewidth": 0,
             "ticks": ""
            },
            "type": "contourcarpet"
           }
          ],
          "heatmap": [
           {
            "colorbar": {
             "outlinewidth": 0,
             "ticks": ""
            },
            "colorscale": [
             [
              0,
              "#0d0887"
             ],
             [
              0.1111111111111111,
              "#46039f"
             ],
             [
              0.2222222222222222,
              "#7201a8"
             ],
             [
              0.3333333333333333,
              "#9c179e"
             ],
             [
              0.4444444444444444,
              "#bd3786"
             ],
             [
              0.5555555555555556,
              "#d8576b"
             ],
             [
              0.6666666666666666,
              "#ed7953"
             ],
             [
              0.7777777777777778,
              "#fb9f3a"
             ],
             [
              0.8888888888888888,
              "#fdca26"
             ],
             [
              1,
              "#f0f921"
             ]
            ],
            "type": "heatmap"
           }
          ],
          "heatmapgl": [
           {
            "colorbar": {
             "outlinewidth": 0,
             "ticks": ""
            },
            "colorscale": [
             [
              0,
              "#0d0887"
             ],
             [
              0.1111111111111111,
              "#46039f"
             ],
             [
              0.2222222222222222,
              "#7201a8"
             ],
             [
              0.3333333333333333,
              "#9c179e"
             ],
             [
              0.4444444444444444,
              "#bd3786"
             ],
             [
              0.5555555555555556,
              "#d8576b"
             ],
             [
              0.6666666666666666,
              "#ed7953"
             ],
             [
              0.7777777777777778,
              "#fb9f3a"
             ],
             [
              0.8888888888888888,
              "#fdca26"
             ],
             [
              1,
              "#f0f921"
             ]
            ],
            "type": "heatmapgl"
           }
          ],
          "histogram": [
           {
            "marker": {
             "pattern": {
              "fillmode": "overlay",
              "size": 10,
              "solidity": 0.2
             }
            },
            "type": "histogram"
           }
          ],
          "histogram2d": [
           {
            "colorbar": {
             "outlinewidth": 0,
             "ticks": ""
            },
            "colorscale": [
             [
              0,
              "#0d0887"
             ],
             [
              0.1111111111111111,
              "#46039f"
             ],
             [
              0.2222222222222222,
              "#7201a8"
             ],
             [
              0.3333333333333333,
              "#9c179e"
             ],
             [
              0.4444444444444444,
              "#bd3786"
             ],
             [
              0.5555555555555556,
              "#d8576b"
             ],
             [
              0.6666666666666666,
              "#ed7953"
             ],
             [
              0.7777777777777778,
              "#fb9f3a"
             ],
             [
              0.8888888888888888,
              "#fdca26"
             ],
             [
              1,
              "#f0f921"
             ]
            ],
            "type": "histogram2d"
           }
          ],
          "histogram2dcontour": [
           {
            "colorbar": {
             "outlinewidth": 0,
             "ticks": ""
            },
            "colorscale": [
             [
              0,
              "#0d0887"
             ],
             [
              0.1111111111111111,
              "#46039f"
             ],
             [
              0.2222222222222222,
              "#7201a8"
             ],
             [
              0.3333333333333333,
              "#9c179e"
             ],
             [
              0.4444444444444444,
              "#bd3786"
             ],
             [
              0.5555555555555556,
              "#d8576b"
             ],
             [
              0.6666666666666666,
              "#ed7953"
             ],
             [
              0.7777777777777778,
              "#fb9f3a"
             ],
             [
              0.8888888888888888,
              "#fdca26"
             ],
             [
              1,
              "#f0f921"
             ]
            ],
            "type": "histogram2dcontour"
           }
          ],
          "mesh3d": [
           {
            "colorbar": {
             "outlinewidth": 0,
             "ticks": ""
            },
            "type": "mesh3d"
           }
          ],
          "parcoords": [
           {
            "line": {
             "colorbar": {
              "outlinewidth": 0,
              "ticks": ""
             }
            },
            "type": "parcoords"
           }
          ],
          "pie": [
           {
            "automargin": true,
            "type": "pie"
           }
          ],
          "scatter": [
           {
            "fillpattern": {
             "fillmode": "overlay",
             "size": 10,
             "solidity": 0.2
            },
            "type": "scatter"
           }
          ],
          "scatter3d": [
           {
            "line": {
             "colorbar": {
              "outlinewidth": 0,
              "ticks": ""
             }
            },
            "marker": {
             "colorbar": {
              "outlinewidth": 0,
              "ticks": ""
             }
            },
            "type": "scatter3d"
           }
          ],
          "scattercarpet": [
           {
            "marker": {
             "colorbar": {
              "outlinewidth": 0,
              "ticks": ""
             }
            },
            "type": "scattercarpet"
           }
          ],
          "scattergeo": [
           {
            "marker": {
             "colorbar": {
              "outlinewidth": 0,
              "ticks": ""
             }
            },
            "type": "scattergeo"
           }
          ],
          "scattergl": [
           {
            "marker": {
             "colorbar": {
              "outlinewidth": 0,
              "ticks": ""
             }
            },
            "type": "scattergl"
           }
          ],
          "scattermapbox": [
           {
            "marker": {
             "colorbar": {
              "outlinewidth": 0,
              "ticks": ""
             }
            },
            "type": "scattermapbox"
           }
          ],
          "scatterpolar": [
           {
            "marker": {
             "colorbar": {
              "outlinewidth": 0,
              "ticks": ""
             }
            },
            "type": "scatterpolar"
           }
          ],
          "scatterpolargl": [
           {
            "marker": {
             "colorbar": {
              "outlinewidth": 0,
              "ticks": ""
             }
            },
            "type": "scatterpolargl"
           }
          ],
          "scatterternary": [
           {
            "marker": {
             "colorbar": {
              "outlinewidth": 0,
              "ticks": ""
             }
            },
            "type": "scatterternary"
           }
          ],
          "surface": [
           {
            "colorbar": {
             "outlinewidth": 0,
             "ticks": ""
            },
            "colorscale": [
             [
              0,
              "#0d0887"
             ],
             [
              0.1111111111111111,
              "#46039f"
             ],
             [
              0.2222222222222222,
              "#7201a8"
             ],
             [
              0.3333333333333333,
              "#9c179e"
             ],
             [
              0.4444444444444444,
              "#bd3786"
             ],
             [
              0.5555555555555556,
              "#d8576b"
             ],
             [
              0.6666666666666666,
              "#ed7953"
             ],
             [
              0.7777777777777778,
              "#fb9f3a"
             ],
             [
              0.8888888888888888,
              "#fdca26"
             ],
             [
              1,
              "#f0f921"
             ]
            ],
            "type": "surface"
           }
          ],
          "table": [
           {
            "cells": {
             "fill": {
              "color": "#EBF0F8"
             },
             "line": {
              "color": "white"
             }
            },
            "header": {
             "fill": {
              "color": "#C8D4E3"
             },
             "line": {
              "color": "white"
             }
            },
            "type": "table"
           }
          ]
         },
         "layout": {
          "annotationdefaults": {
           "arrowcolor": "#2a3f5f",
           "arrowhead": 0,
           "arrowwidth": 1
          },
          "autotypenumbers": "strict",
          "coloraxis": {
           "colorbar": {
            "outlinewidth": 0,
            "ticks": ""
           }
          },
          "colorscale": {
           "diverging": [
            [
             0,
             "#8e0152"
            ],
            [
             0.1,
             "#c51b7d"
            ],
            [
             0.2,
             "#de77ae"
            ],
            [
             0.3,
             "#f1b6da"
            ],
            [
             0.4,
             "#fde0ef"
            ],
            [
             0.5,
             "#f7f7f7"
            ],
            [
             0.6,
             "#e6f5d0"
            ],
            [
             0.7,
             "#b8e186"
            ],
            [
             0.8,
             "#7fbc41"
            ],
            [
             0.9,
             "#4d9221"
            ],
            [
             1,
             "#276419"
            ]
           ],
           "sequential": [
            [
             0,
             "#0d0887"
            ],
            [
             0.1111111111111111,
             "#46039f"
            ],
            [
             0.2222222222222222,
             "#7201a8"
            ],
            [
             0.3333333333333333,
             "#9c179e"
            ],
            [
             0.4444444444444444,
             "#bd3786"
            ],
            [
             0.5555555555555556,
             "#d8576b"
            ],
            [
             0.6666666666666666,
             "#ed7953"
            ],
            [
             0.7777777777777778,
             "#fb9f3a"
            ],
            [
             0.8888888888888888,
             "#fdca26"
            ],
            [
             1,
             "#f0f921"
            ]
           ],
           "sequentialminus": [
            [
             0,
             "#0d0887"
            ],
            [
             0.1111111111111111,
             "#46039f"
            ],
            [
             0.2222222222222222,
             "#7201a8"
            ],
            [
             0.3333333333333333,
             "#9c179e"
            ],
            [
             0.4444444444444444,
             "#bd3786"
            ],
            [
             0.5555555555555556,
             "#d8576b"
            ],
            [
             0.6666666666666666,
             "#ed7953"
            ],
            [
             0.7777777777777778,
             "#fb9f3a"
            ],
            [
             0.8888888888888888,
             "#fdca26"
            ],
            [
             1,
             "#f0f921"
            ]
           ]
          },
          "colorway": [
           "#636efa",
           "#EF553B",
           "#00cc96",
           "#ab63fa",
           "#FFA15A",
           "#19d3f3",
           "#FF6692",
           "#B6E880",
           "#FF97FF",
           "#FECB52"
          ],
          "font": {
           "color": "#2a3f5f"
          },
          "geo": {
           "bgcolor": "white",
           "lakecolor": "white",
           "landcolor": "#E5ECF6",
           "showlakes": true,
           "showland": true,
           "subunitcolor": "white"
          },
          "hoverlabel": {
           "align": "left"
          },
          "hovermode": "closest",
          "mapbox": {
           "style": "light"
          },
          "paper_bgcolor": "white",
          "plot_bgcolor": "#E5ECF6",
          "polar": {
           "angularaxis": {
            "gridcolor": "white",
            "linecolor": "white",
            "ticks": ""
           },
           "bgcolor": "#E5ECF6",
           "radialaxis": {
            "gridcolor": "white",
            "linecolor": "white",
            "ticks": ""
           }
          },
          "scene": {
           "xaxis": {
            "backgroundcolor": "#E5ECF6",
            "gridcolor": "white",
            "gridwidth": 2,
            "linecolor": "white",
            "showbackground": true,
            "ticks": "",
            "zerolinecolor": "white"
           },
           "yaxis": {
            "backgroundcolor": "#E5ECF6",
            "gridcolor": "white",
            "gridwidth": 2,
            "linecolor": "white",
            "showbackground": true,
            "ticks": "",
            "zerolinecolor": "white"
           },
           "zaxis": {
            "backgroundcolor": "#E5ECF6",
            "gridcolor": "white",
            "gridwidth": 2,
            "linecolor": "white",
            "showbackground": true,
            "ticks": "",
            "zerolinecolor": "white"
           }
          },
          "shapedefaults": {
           "line": {
            "color": "#2a3f5f"
           }
          },
          "ternary": {
           "aaxis": {
            "gridcolor": "white",
            "linecolor": "white",
            "ticks": ""
           },
           "baxis": {
            "gridcolor": "white",
            "linecolor": "white",
            "ticks": ""
           },
           "bgcolor": "#E5ECF6",
           "caxis": {
            "gridcolor": "white",
            "linecolor": "white",
            "ticks": ""
           }
          },
          "title": {
           "x": 0.05
          },
          "xaxis": {
           "automargin": true,
           "gridcolor": "white",
           "linecolor": "white",
           "ticks": "",
           "title": {
            "standoff": 15
           },
           "zerolinecolor": "white",
           "zerolinewidth": 2
          },
          "yaxis": {
           "automargin": true,
           "gridcolor": "white",
           "linecolor": "white",
           "ticks": "",
           "title": {
            "standoff": 15
           },
           "zerolinecolor": "white",
           "zerolinewidth": 2
          }
         }
        },
        "title": {
         "text": "Distribuição de resultados para cada alvo com leak=True"
        },
        "xaxis": {
         "anchor": "y",
         "domain": [
          0,
          1
         ],
         "title": {
          "text": "label_col"
         }
        },
        "yaxis": {
         "anchor": "x",
         "domain": [
          0,
          1
         ],
         "title": {
          "text": "f1-score"
         }
        }
       }
      }
     },
     "metadata": {},
     "output_type": "display_data"
    },
    {
     "data": {
      "application/vnd.plotly.v1+json": {
       "config": {
        "plotlyServerURL": "https://plot.ly"
       },
       "data": [
        {
         "alignmentgroup": "True",
         "boxpoints": "all",
         "hovertemplate": "label_col=%{x}<br>f1-score=%{y}<extra></extra>",
         "legendgroup": "",
         "marker": {
          "color": "#636efa"
         },
         "name": "",
         "notched": false,
         "offsetgroup": "",
         "orientation": "v",
         "showlegend": false,
         "type": "box",
         "x": [
          "meta_7",
          "meta_14",
          "meta_21",
          "meta_7",
          "meta_14",
          "meta_21",
          "meta_7",
          "meta_14",
          "meta_21",
          "meta_7",
          "meta_14",
          "meta_21",
          "meta_7",
          "meta_14",
          "meta_21",
          "meta_7",
          "meta_14",
          "meta_21",
          "meta_7",
          "meta_14",
          "meta_21",
          "meta_7",
          "meta_14",
          "meta_21",
          "meta_7",
          "meta_14",
          "meta_21",
          "meta_7",
          "meta_14",
          "meta_21",
          "meta_7",
          "meta_14",
          "meta_21",
          "meta_7",
          "meta_14",
          "meta_21",
          "meta_7",
          "meta_14",
          "meta_21",
          "meta_7",
          "meta_14",
          "meta_21",
          "meta_7",
          "meta_14",
          "meta_21",
          "meta_7",
          "meta_14",
          "meta_21",
          "meta_7",
          "meta_14",
          "meta_21",
          "meta_7",
          "meta_14",
          "meta_21",
          "meta_7",
          "meta_14",
          "meta_21",
          "meta_7",
          "meta_14",
          "meta_21",
          "meta_7",
          "meta_14",
          "meta_21",
          "meta_7",
          "meta_14",
          "meta_21",
          "meta_7",
          "meta_14",
          "meta_21",
          "meta_7",
          "meta_14",
          "meta_21",
          "meta_7",
          "meta_14",
          "meta_21",
          "meta_7",
          "meta_14",
          "meta_21",
          "meta_7",
          "meta_14",
          "meta_21",
          "meta_7",
          "meta_14",
          "meta_21",
          "meta_7",
          "meta_14",
          "meta_21",
          "meta_7",
          "meta_14",
          "meta_21",
          "meta_7",
          "meta_14",
          "meta_21",
          "meta_7",
          "meta_14",
          "meta_21",
          "meta_7",
          "meta_14",
          "meta_21",
          "meta_7",
          "meta_14",
          "meta_21",
          "meta_7",
          "meta_14",
          "meta_21",
          "meta_7",
          "meta_14",
          "meta_21",
          "meta_7",
          "meta_14",
          "meta_21",
          "meta_7",
          "meta_14",
          "meta_21",
          "meta_7",
          "meta_14",
          "meta_21",
          "meta_7",
          "meta_14",
          "meta_21",
          "meta_7",
          "meta_14",
          "meta_21",
          "meta_7",
          "meta_14",
          "meta_21",
          "meta_7",
          "meta_14",
          "meta_21",
          "meta_7",
          "meta_14",
          "meta_21",
          "meta_7",
          "meta_14",
          "meta_21",
          "meta_7",
          "meta_14",
          "meta_21",
          "meta_7",
          "meta_14",
          "meta_21",
          "meta_7",
          "meta_14",
          "meta_21",
          "meta_7",
          "meta_14",
          "meta_21",
          "meta_7",
          "meta_14",
          "meta_21",
          "meta_7",
          "meta_14",
          "meta_21",
          "meta_7",
          "meta_14",
          "meta_21",
          "meta_7",
          "meta_14",
          "meta_21",
          "meta_7",
          "meta_14",
          "meta_21",
          "meta_7",
          "meta_14",
          "meta_21",
          "meta_7",
          "meta_14",
          "meta_21",
          "meta_7",
          "meta_14",
          "meta_21",
          "meta_7",
          "meta_14",
          "meta_21",
          "meta_7",
          "meta_14",
          "meta_21",
          "meta_7",
          "meta_14",
          "meta_21",
          "meta_7",
          "meta_14",
          "meta_21",
          "meta_7",
          "meta_14",
          "meta_21",
          "meta_7",
          "meta_14",
          "meta_21",
          "meta_7",
          "meta_14",
          "meta_21",
          "meta_7",
          "meta_14",
          "meta_21",
          "meta_7",
          "meta_14",
          "meta_21",
          "meta_7",
          "meta_14",
          "meta_21",
          "meta_7",
          "meta_14",
          "meta_21",
          "meta_7",
          "meta_14",
          "meta_21",
          "meta_7",
          "meta_14",
          "meta_21",
          "meta_7",
          "meta_14",
          "meta_21",
          "meta_7",
          "meta_14",
          "meta_21",
          "meta_7",
          "meta_14",
          "meta_21",
          "meta_7",
          "meta_14",
          "meta_21",
          "meta_7",
          "meta_14",
          "meta_21",
          "meta_7",
          "meta_14",
          "meta_21",
          "meta_7",
          "meta_14",
          "meta_21",
          "meta_7",
          "meta_14",
          "meta_21",
          "meta_7",
          "meta_14",
          "meta_21",
          "meta_7",
          "meta_14",
          "meta_21",
          "meta_7",
          "meta_14",
          "meta_21",
          "meta_7",
          "meta_14",
          "meta_21",
          "meta_7",
          "meta_14",
          "meta_21",
          "meta_7",
          "meta_14",
          "meta_21",
          "meta_7",
          "meta_14",
          "meta_21",
          "meta_7",
          "meta_14",
          "meta_21",
          "meta_7",
          "meta_14",
          "meta_21",
          "meta_7",
          "meta_14",
          "meta_21",
          "meta_7",
          "meta_14",
          "meta_21",
          "meta_7",
          "meta_14",
          "meta_21",
          "meta_7",
          "meta_14",
          "meta_21",
          "meta_7",
          "meta_14",
          "meta_21",
          "meta_7",
          "meta_14",
          "meta_21",
          "meta_7",
          "meta_14",
          "meta_21",
          "meta_7",
          "meta_14",
          "meta_21",
          "meta_7",
          "meta_14",
          "meta_21",
          "meta_7",
          "meta_14",
          "meta_21",
          "meta_7",
          "meta_14",
          "meta_21",
          "meta_7",
          "meta_14",
          "meta_21",
          "meta_7",
          "meta_14",
          "meta_21",
          "meta_7",
          "meta_14",
          "meta_21",
          "meta_7",
          "meta_14",
          "meta_21",
          "meta_7",
          "meta_14",
          "meta_21",
          "meta_7",
          "meta_14",
          "meta_21",
          "meta_7",
          "meta_14",
          "meta_21",
          "meta_7",
          "meta_14",
          "meta_21",
          "meta_7",
          "meta_14",
          "meta_21",
          "meta_7",
          "meta_14",
          "meta_21",
          "meta_7",
          "meta_14",
          "meta_21",
          "meta_7",
          "meta_14",
          "meta_21",
          "meta_7",
          "meta_14",
          "meta_21",
          "meta_7",
          "meta_14",
          "meta_21"
         ],
         "x0": " ",
         "xaxis": "x",
         "y": [
          0.2399,
          0.27135,
          0.2805,
          0.24086,
          0.28943,
          0.32599,
          0.24112,
          0.30994,
          0.25919,
          0.24251,
          0.21707,
          0.25349,
          0.24226,
          0.28917,
          0.26294,
          0.24524,
          0.25486,
          0.25066,
          0.22985,
          0.27871,
          0.27476,
          0.23368,
          0.2851,
          0.27631,
          0.23935,
          0.25308,
          0.27791,
          0.24086,
          0.28805,
          0.3255,
          0.24048,
          0.30401,
          0.2592,
          0.24238,
          0.29219,
          0.2356,
          0.24234,
          0.28953,
          0.26294,
          0.24524,
          0.25567,
          0.25066,
          0.22985,
          0.24561,
          0.2765,
          0.2003,
          0.28498,
          0.27631,
          0.20513,
          0.25314,
          0.27791,
          0.27907,
          0.28759,
          0.32354,
          0.24048,
          0.30401,
          0.2592,
          0.24152,
          0.30832,
          0.24787,
          0.24234,
          0.28963,
          0.26248,
          0.24524,
          0.25567,
          0.25066,
          0.22949,
          0.24729,
          0.27476,
          0.20034,
          0.2801,
          0.27505,
          0.23935,
          0.25325,
          0.27759,
          0.28193,
          0.28743,
          0.32435,
          0.24048,
          0.30401,
          0.25818,
          0.2426,
          0.30115,
          0.23747,
          0.24254,
          0.28658,
          0.26248,
          0.24275,
          0.25549,
          0.25066,
          0.26191,
          0.24122,
          0.27633,
          0.2005,
          0.2728,
          0.27488,
          0.20486,
          0.24808,
          0.27654,
          0.26226,
          0.28755,
          0.28237,
          0.24006,
          0.30345,
          0.25682,
          0.24056,
          0.29517,
          0.23743,
          0.24178,
          0.27693,
          0.26261,
          0.24461,
          0.2444,
          0.25038,
          0.22885,
          0.24127,
          0.27173,
          0.20039,
          0.27857,
          0.27614,
          0.20485,
          0.251,
          0.27573,
          0.23906,
          0.28866,
          0.31942,
          0.24096,
          0.3031,
          0.25738,
          0.24226,
          0.28411,
          0.23345,
          0.24221,
          0.28383,
          0.26248,
          0.24398,
          0.25721,
          0.24901,
          0.22918,
          0.24647,
          0.2749,
          0.2005,
          0.28775,
          0.27614,
          0.20541,
          0.23814,
          0.27831,
          0.23943,
          0.28739,
          0.31775,
          0.23655,
          0.29887,
          0.26076,
          0.26715,
          0.29219,
          0.23391,
          0.24207,
          0.28605,
          0.26318,
          0.24412,
          0.25465,
          0.24768,
          0.22934,
          0.24912,
          0.2762,
          0.19905,
          0.28139,
          0.27656,
          0.20494,
          0.23964,
          0.27444,
          0.23937,
          0.28399,
          0.31968,
          0.24058,
          0.30935,
          0.25504,
          0.23952,
          0.28886,
          0.24054,
          0.24291,
          0.28607,
          0.23291,
          0.24288,
          0.25972,
          0.23579,
          0.28816,
          0.2343,
          0.27262,
          0.19996,
          0.26858,
          0.27183,
          0.23975,
          0.24098,
          0.27827,
          0.23947,
          0.27866,
          0.32119,
          0.24209,
          0.30035,
          0.25691,
          0.23853,
          0.30126,
          0.23426,
          0.24368,
          0.28161,
          0.2326,
          0.24475,
          0.2584,
          0.2383,
          0.22898,
          0.2273,
          0.27146,
          0.20049,
          0.26561,
          0.27968,
          0.23576,
          0.25252,
          0.27402,
          0.23914,
          0.28386,
          0.31977,
          0.24081,
          0.2801,
          0.29891,
          0.2414,
          0.28848,
          0.23865,
          0.24026,
          0.27759,
          0.26167,
          0.24389,
          0.26165,
          0.22788,
          0.25865,
          0.23775,
          0.27024,
          0.20044,
          0.26841,
          0.2828,
          0.24114,
          0.2335,
          0.26828,
          0.23993,
          0.27771,
          0.31653,
          0.23827,
          0.30164,
          0.30845,
          0.23975,
          0.30165,
          0.2362,
          0.24352,
          0.27794,
          0.2593,
          0.24388,
          0.22687,
          0.23168,
          0.22917,
          0.22741,
          0.23671,
          0.1993,
          0.26683,
          0.28318,
          0.23955,
          0.22083,
          0.26916,
          0.24003,
          0.24665,
          0.27285,
          0.23948,
          0.28561,
          0.25479,
          0.26064,
          0.30824,
          0.24153,
          0.24288,
          0.26065,
          0.26425,
          0.24252,
          0.25941,
          0.22874,
          0.22699,
          0.21547,
          0.27058,
          0.19326,
          0.26545,
          0.28366,
          0.24092,
          0.24435,
          0.2647,
          0.23583,
          0.28275,
          0.27402,
          0.24166,
          0.30787,
          0.24985,
          0.24059,
          0.28096,
          0.23862,
          0.24442,
          0.2898,
          0.25925,
          0.2426,
          0.23751,
          0.23551,
          0.22523,
          0.22039,
          0.23918,
          0.19849,
          0.26866,
          0.28272,
          0.53916,
          0.66773,
          0.70415,
          0.48352,
          0.65342,
          0.74289,
          0.60386,
          0.70389,
          0.70641,
          0.52066,
          0.69012,
          0.66179,
          0.51454,
          0.64893,
          0.56906,
          0.43297,
          0.57616,
          0.53858,
          0.51439,
          0.63281,
          0.70078,
          0.50021,
          0.66044,
          0.6114
         ],
         "y0": " ",
         "yaxis": "y"
        }
       ],
       "layout": {
        "boxmode": "group",
        "legend": {
         "tracegroupgap": 0
        },
        "template": {
         "data": {
          "bar": [
           {
            "error_x": {
             "color": "#2a3f5f"
            },
            "error_y": {
             "color": "#2a3f5f"
            },
            "marker": {
             "line": {
              "color": "#E5ECF6",
              "width": 0.5
             },
             "pattern": {
              "fillmode": "overlay",
              "size": 10,
              "solidity": 0.2
             }
            },
            "type": "bar"
           }
          ],
          "barpolar": [
           {
            "marker": {
             "line": {
              "color": "#E5ECF6",
              "width": 0.5
             },
             "pattern": {
              "fillmode": "overlay",
              "size": 10,
              "solidity": 0.2
             }
            },
            "type": "barpolar"
           }
          ],
          "carpet": [
           {
            "aaxis": {
             "endlinecolor": "#2a3f5f",
             "gridcolor": "white",
             "linecolor": "white",
             "minorgridcolor": "white",
             "startlinecolor": "#2a3f5f"
            },
            "baxis": {
             "endlinecolor": "#2a3f5f",
             "gridcolor": "white",
             "linecolor": "white",
             "minorgridcolor": "white",
             "startlinecolor": "#2a3f5f"
            },
            "type": "carpet"
           }
          ],
          "choropleth": [
           {
            "colorbar": {
             "outlinewidth": 0,
             "ticks": ""
            },
            "type": "choropleth"
           }
          ],
          "contour": [
           {
            "colorbar": {
             "outlinewidth": 0,
             "ticks": ""
            },
            "colorscale": [
             [
              0,
              "#0d0887"
             ],
             [
              0.1111111111111111,
              "#46039f"
             ],
             [
              0.2222222222222222,
              "#7201a8"
             ],
             [
              0.3333333333333333,
              "#9c179e"
             ],
             [
              0.4444444444444444,
              "#bd3786"
             ],
             [
              0.5555555555555556,
              "#d8576b"
             ],
             [
              0.6666666666666666,
              "#ed7953"
             ],
             [
              0.7777777777777778,
              "#fb9f3a"
             ],
             [
              0.8888888888888888,
              "#fdca26"
             ],
             [
              1,
              "#f0f921"
             ]
            ],
            "type": "contour"
           }
          ],
          "contourcarpet": [
           {
            "colorbar": {
             "outlinewidth": 0,
             "ticks": ""
            },
            "type": "contourcarpet"
           }
          ],
          "heatmap": [
           {
            "colorbar": {
             "outlinewidth": 0,
             "ticks": ""
            },
            "colorscale": [
             [
              0,
              "#0d0887"
             ],
             [
              0.1111111111111111,
              "#46039f"
             ],
             [
              0.2222222222222222,
              "#7201a8"
             ],
             [
              0.3333333333333333,
              "#9c179e"
             ],
             [
              0.4444444444444444,
              "#bd3786"
             ],
             [
              0.5555555555555556,
              "#d8576b"
             ],
             [
              0.6666666666666666,
              "#ed7953"
             ],
             [
              0.7777777777777778,
              "#fb9f3a"
             ],
             [
              0.8888888888888888,
              "#fdca26"
             ],
             [
              1,
              "#f0f921"
             ]
            ],
            "type": "heatmap"
           }
          ],
          "heatmapgl": [
           {
            "colorbar": {
             "outlinewidth": 0,
             "ticks": ""
            },
            "colorscale": [
             [
              0,
              "#0d0887"
             ],
             [
              0.1111111111111111,
              "#46039f"
             ],
             [
              0.2222222222222222,
              "#7201a8"
             ],
             [
              0.3333333333333333,
              "#9c179e"
             ],
             [
              0.4444444444444444,
              "#bd3786"
             ],
             [
              0.5555555555555556,
              "#d8576b"
             ],
             [
              0.6666666666666666,
              "#ed7953"
             ],
             [
              0.7777777777777778,
              "#fb9f3a"
             ],
             [
              0.8888888888888888,
              "#fdca26"
             ],
             [
              1,
              "#f0f921"
             ]
            ],
            "type": "heatmapgl"
           }
          ],
          "histogram": [
           {
            "marker": {
             "pattern": {
              "fillmode": "overlay",
              "size": 10,
              "solidity": 0.2
             }
            },
            "type": "histogram"
           }
          ],
          "histogram2d": [
           {
            "colorbar": {
             "outlinewidth": 0,
             "ticks": ""
            },
            "colorscale": [
             [
              0,
              "#0d0887"
             ],
             [
              0.1111111111111111,
              "#46039f"
             ],
             [
              0.2222222222222222,
              "#7201a8"
             ],
             [
              0.3333333333333333,
              "#9c179e"
             ],
             [
              0.4444444444444444,
              "#bd3786"
             ],
             [
              0.5555555555555556,
              "#d8576b"
             ],
             [
              0.6666666666666666,
              "#ed7953"
             ],
             [
              0.7777777777777778,
              "#fb9f3a"
             ],
             [
              0.8888888888888888,
              "#fdca26"
             ],
             [
              1,
              "#f0f921"
             ]
            ],
            "type": "histogram2d"
           }
          ],
          "histogram2dcontour": [
           {
            "colorbar": {
             "outlinewidth": 0,
             "ticks": ""
            },
            "colorscale": [
             [
              0,
              "#0d0887"
             ],
             [
              0.1111111111111111,
              "#46039f"
             ],
             [
              0.2222222222222222,
              "#7201a8"
             ],
             [
              0.3333333333333333,
              "#9c179e"
             ],
             [
              0.4444444444444444,
              "#bd3786"
             ],
             [
              0.5555555555555556,
              "#d8576b"
             ],
             [
              0.6666666666666666,
              "#ed7953"
             ],
             [
              0.7777777777777778,
              "#fb9f3a"
             ],
             [
              0.8888888888888888,
              "#fdca26"
             ],
             [
              1,
              "#f0f921"
             ]
            ],
            "type": "histogram2dcontour"
           }
          ],
          "mesh3d": [
           {
            "colorbar": {
             "outlinewidth": 0,
             "ticks": ""
            },
            "type": "mesh3d"
           }
          ],
          "parcoords": [
           {
            "line": {
             "colorbar": {
              "outlinewidth": 0,
              "ticks": ""
             }
            },
            "type": "parcoords"
           }
          ],
          "pie": [
           {
            "automargin": true,
            "type": "pie"
           }
          ],
          "scatter": [
           {
            "fillpattern": {
             "fillmode": "overlay",
             "size": 10,
             "solidity": 0.2
            },
            "type": "scatter"
           }
          ],
          "scatter3d": [
           {
            "line": {
             "colorbar": {
              "outlinewidth": 0,
              "ticks": ""
             }
            },
            "marker": {
             "colorbar": {
              "outlinewidth": 0,
              "ticks": ""
             }
            },
            "type": "scatter3d"
           }
          ],
          "scattercarpet": [
           {
            "marker": {
             "colorbar": {
              "outlinewidth": 0,
              "ticks": ""
             }
            },
            "type": "scattercarpet"
           }
          ],
          "scattergeo": [
           {
            "marker": {
             "colorbar": {
              "outlinewidth": 0,
              "ticks": ""
             }
            },
            "type": "scattergeo"
           }
          ],
          "scattergl": [
           {
            "marker": {
             "colorbar": {
              "outlinewidth": 0,
              "ticks": ""
             }
            },
            "type": "scattergl"
           }
          ],
          "scattermapbox": [
           {
            "marker": {
             "colorbar": {
              "outlinewidth": 0,
              "ticks": ""
             }
            },
            "type": "scattermapbox"
           }
          ],
          "scatterpolar": [
           {
            "marker": {
             "colorbar": {
              "outlinewidth": 0,
              "ticks": ""
             }
            },
            "type": "scatterpolar"
           }
          ],
          "scatterpolargl": [
           {
            "marker": {
             "colorbar": {
              "outlinewidth": 0,
              "ticks": ""
             }
            },
            "type": "scatterpolargl"
           }
          ],
          "scatterternary": [
           {
            "marker": {
             "colorbar": {
              "outlinewidth": 0,
              "ticks": ""
             }
            },
            "type": "scatterternary"
           }
          ],
          "surface": [
           {
            "colorbar": {
             "outlinewidth": 0,
             "ticks": ""
            },
            "colorscale": [
             [
              0,
              "#0d0887"
             ],
             [
              0.1111111111111111,
              "#46039f"
             ],
             [
              0.2222222222222222,
              "#7201a8"
             ],
             [
              0.3333333333333333,
              "#9c179e"
             ],
             [
              0.4444444444444444,
              "#bd3786"
             ],
             [
              0.5555555555555556,
              "#d8576b"
             ],
             [
              0.6666666666666666,
              "#ed7953"
             ],
             [
              0.7777777777777778,
              "#fb9f3a"
             ],
             [
              0.8888888888888888,
              "#fdca26"
             ],
             [
              1,
              "#f0f921"
             ]
            ],
            "type": "surface"
           }
          ],
          "table": [
           {
            "cells": {
             "fill": {
              "color": "#EBF0F8"
             },
             "line": {
              "color": "white"
             }
            },
            "header": {
             "fill": {
              "color": "#C8D4E3"
             },
             "line": {
              "color": "white"
             }
            },
            "type": "table"
           }
          ]
         },
         "layout": {
          "annotationdefaults": {
           "arrowcolor": "#2a3f5f",
           "arrowhead": 0,
           "arrowwidth": 1
          },
          "autotypenumbers": "strict",
          "coloraxis": {
           "colorbar": {
            "outlinewidth": 0,
            "ticks": ""
           }
          },
          "colorscale": {
           "diverging": [
            [
             0,
             "#8e0152"
            ],
            [
             0.1,
             "#c51b7d"
            ],
            [
             0.2,
             "#de77ae"
            ],
            [
             0.3,
             "#f1b6da"
            ],
            [
             0.4,
             "#fde0ef"
            ],
            [
             0.5,
             "#f7f7f7"
            ],
            [
             0.6,
             "#e6f5d0"
            ],
            [
             0.7,
             "#b8e186"
            ],
            [
             0.8,
             "#7fbc41"
            ],
            [
             0.9,
             "#4d9221"
            ],
            [
             1,
             "#276419"
            ]
           ],
           "sequential": [
            [
             0,
             "#0d0887"
            ],
            [
             0.1111111111111111,
             "#46039f"
            ],
            [
             0.2222222222222222,
             "#7201a8"
            ],
            [
             0.3333333333333333,
             "#9c179e"
            ],
            [
             0.4444444444444444,
             "#bd3786"
            ],
            [
             0.5555555555555556,
             "#d8576b"
            ],
            [
             0.6666666666666666,
             "#ed7953"
            ],
            [
             0.7777777777777778,
             "#fb9f3a"
            ],
            [
             0.8888888888888888,
             "#fdca26"
            ],
            [
             1,
             "#f0f921"
            ]
           ],
           "sequentialminus": [
            [
             0,
             "#0d0887"
            ],
            [
             0.1111111111111111,
             "#46039f"
            ],
            [
             0.2222222222222222,
             "#7201a8"
            ],
            [
             0.3333333333333333,
             "#9c179e"
            ],
            [
             0.4444444444444444,
             "#bd3786"
            ],
            [
             0.5555555555555556,
             "#d8576b"
            ],
            [
             0.6666666666666666,
             "#ed7953"
            ],
            [
             0.7777777777777778,
             "#fb9f3a"
            ],
            [
             0.8888888888888888,
             "#fdca26"
            ],
            [
             1,
             "#f0f921"
            ]
           ]
          },
          "colorway": [
           "#636efa",
           "#EF553B",
           "#00cc96",
           "#ab63fa",
           "#FFA15A",
           "#19d3f3",
           "#FF6692",
           "#B6E880",
           "#FF97FF",
           "#FECB52"
          ],
          "font": {
           "color": "#2a3f5f"
          },
          "geo": {
           "bgcolor": "white",
           "lakecolor": "white",
           "landcolor": "#E5ECF6",
           "showlakes": true,
           "showland": true,
           "subunitcolor": "white"
          },
          "hoverlabel": {
           "align": "left"
          },
          "hovermode": "closest",
          "mapbox": {
           "style": "light"
          },
          "paper_bgcolor": "white",
          "plot_bgcolor": "#E5ECF6",
          "polar": {
           "angularaxis": {
            "gridcolor": "white",
            "linecolor": "white",
            "ticks": ""
           },
           "bgcolor": "#E5ECF6",
           "radialaxis": {
            "gridcolor": "white",
            "linecolor": "white",
            "ticks": ""
           }
          },
          "scene": {
           "xaxis": {
            "backgroundcolor": "#E5ECF6",
            "gridcolor": "white",
            "gridwidth": 2,
            "linecolor": "white",
            "showbackground": true,
            "ticks": "",
            "zerolinecolor": "white"
           },
           "yaxis": {
            "backgroundcolor": "#E5ECF6",
            "gridcolor": "white",
            "gridwidth": 2,
            "linecolor": "white",
            "showbackground": true,
            "ticks": "",
            "zerolinecolor": "white"
           },
           "zaxis": {
            "backgroundcolor": "#E5ECF6",
            "gridcolor": "white",
            "gridwidth": 2,
            "linecolor": "white",
            "showbackground": true,
            "ticks": "",
            "zerolinecolor": "white"
           }
          },
          "shapedefaults": {
           "line": {
            "color": "#2a3f5f"
           }
          },
          "ternary": {
           "aaxis": {
            "gridcolor": "white",
            "linecolor": "white",
            "ticks": ""
           },
           "baxis": {
            "gridcolor": "white",
            "linecolor": "white",
            "ticks": ""
           },
           "bgcolor": "#E5ECF6",
           "caxis": {
            "gridcolor": "white",
            "linecolor": "white",
            "ticks": ""
           }
          },
          "title": {
           "x": 0.05
          },
          "xaxis": {
           "automargin": true,
           "gridcolor": "white",
           "linecolor": "white",
           "ticks": "",
           "title": {
            "standoff": 15
           },
           "zerolinecolor": "white",
           "zerolinewidth": 2
          },
          "yaxis": {
           "automargin": true,
           "gridcolor": "white",
           "linecolor": "white",
           "ticks": "",
           "title": {
            "standoff": 15
           },
           "zerolinecolor": "white",
           "zerolinewidth": 2
          }
         }
        },
        "title": {
         "text": "Distribuição de resultados para cada alvo com leak=False"
        },
        "xaxis": {
         "anchor": "y",
         "domain": [
          0,
          1
         ],
         "title": {
          "text": "label_col"
         }
        },
        "yaxis": {
         "anchor": "x",
         "domain": [
          0,
          1
         ],
         "title": {
          "text": "f1-score"
         }
        }
       }
      }
     },
     "metadata": {},
     "output_type": "display_data"
    },
    {
     "data": {
      "application/vnd.plotly.v1+json": {
       "config": {
        "plotlyServerURL": "https://plot.ly"
       },
       "data": [
        {
         "alignmentgroup": "True",
         "boxpoints": "all",
         "hovertemplate": "label_col=%{x}<br>R-squared (R2)=%{y}<extra></extra>",
         "legendgroup": "",
         "marker": {
          "color": "#636efa"
         },
         "name": "",
         "notched": false,
         "offsetgroup": "",
         "orientation": "v",
         "showlegend": false,
         "type": "box",
         "x": [
          "diff_close_mean_z_score_7",
          "diff_close_mean_z_score_14",
          "diff_close_mean_z_score_21",
          "diff_close_mean_z_score_7",
          "diff_close_mean_z_score_14",
          "diff_close_mean_z_score_21",
          "diff_close_mean_z_score_7",
          "diff_close_mean_z_score_14",
          "diff_close_mean_z_score_21",
          "diff_close_mean_z_score_7",
          "diff_close_mean_z_score_14",
          "diff_close_mean_z_score_21",
          "diff_close_mean_z_score_7",
          "diff_close_mean_z_score_14",
          "diff_close_mean_z_score_21",
          "diff_close_mean_z_score_7",
          "diff_close_mean_z_score_14",
          "diff_close_mean_z_score_21",
          "diff_close_mean_z_score_7",
          "diff_close_mean_z_score_14",
          "diff_close_mean_z_score_21",
          "diff_close_mean_z_score_7",
          "diff_close_mean_z_score_14",
          "diff_close_mean_z_score_21",
          "diff_close_mean_z_score_7",
          "diff_close_mean_z_score_14",
          "diff_close_mean_z_score_21",
          "diff_close_mean_z_score_7",
          "diff_close_mean_z_score_14",
          "diff_close_mean_z_score_21",
          "diff_close_mean_z_score_7",
          "diff_close_mean_z_score_14",
          "diff_close_mean_z_score_21",
          "diff_close_mean_z_score_7",
          "diff_close_mean_z_score_14",
          "diff_close_mean_z_score_21",
          "diff_close_mean_z_score_7",
          "diff_close_mean_z_score_14",
          "diff_close_mean_z_score_21",
          "diff_close_mean_z_score_7",
          "diff_close_mean_z_score_14",
          "diff_close_mean_z_score_21",
          "diff_close_mean_z_score_7",
          "diff_close_mean_z_score_14",
          "diff_close_mean_z_score_21",
          "diff_close_mean_z_score_7",
          "diff_close_mean_z_score_14",
          "diff_close_mean_z_score_21",
          "diff_close_mean_z_score_7",
          "diff_close_mean_z_score_14",
          "diff_close_mean_z_score_21",
          "diff_close_mean_z_score_7",
          "diff_close_mean_z_score_14",
          "diff_close_mean_z_score_21",
          "diff_close_mean_z_score_7",
          "diff_close_mean_z_score_14",
          "diff_close_mean_z_score_21",
          "diff_close_mean_z_score_7",
          "diff_close_mean_z_score_14",
          "diff_close_mean_z_score_21",
          "diff_close_mean_z_score_7",
          "diff_close_mean_z_score_14",
          "diff_close_mean_z_score_21",
          "diff_close_mean_z_score_7",
          "diff_close_mean_z_score_14",
          "diff_close_mean_z_score_21",
          "diff_close_mean_z_score_7",
          "diff_close_mean_z_score_14",
          "diff_close_mean_z_score_21",
          "diff_close_mean_z_score_7",
          "diff_close_mean_z_score_14",
          "diff_close_mean_z_score_21",
          "diff_close_mean_z_score_7",
          "diff_close_mean_z_score_14",
          "diff_close_mean_z_score_21",
          "diff_close_mean_z_score_7",
          "diff_close_mean_z_score_14",
          "diff_close_mean_z_score_21",
          "diff_close_mean_z_score_7",
          "diff_close_mean_z_score_14",
          "diff_close_mean_z_score_21",
          "diff_close_mean_z_score_7",
          "diff_close_mean_z_score_14",
          "diff_close_mean_z_score_21",
          "diff_close_mean_z_score_7",
          "diff_close_mean_z_score_14",
          "diff_close_mean_z_score_21",
          "diff_close_mean_z_score_7",
          "diff_close_mean_z_score_14",
          "diff_close_mean_z_score_21",
          "diff_close_mean_z_score_7",
          "diff_close_mean_z_score_14",
          "diff_close_mean_z_score_21",
          "diff_close_mean_z_score_7",
          "diff_close_mean_z_score_14",
          "diff_close_mean_z_score_21",
          "diff_close_mean_z_score_7",
          "diff_close_mean_z_score_14",
          "diff_close_mean_z_score_21",
          "diff_close_mean_z_score_7",
          "diff_close_mean_z_score_14",
          "diff_close_mean_z_score_21",
          "diff_close_mean_z_score_7",
          "diff_close_mean_z_score_14",
          "diff_close_mean_z_score_21",
          "diff_close_mean_z_score_7",
          "diff_close_mean_z_score_14",
          "diff_close_mean_z_score_21",
          "diff_close_mean_z_score_7",
          "diff_close_mean_z_score_14",
          "diff_close_mean_z_score_21",
          "diff_close_mean_z_score_7",
          "diff_close_mean_z_score_14",
          "diff_close_mean_z_score_21",
          "diff_close_mean_z_score_7",
          "diff_close_mean_z_score_14",
          "diff_close_mean_z_score_21",
          "diff_close_mean_z_score_7",
          "diff_close_mean_z_score_14",
          "diff_close_mean_z_score_21",
          "diff_close_mean_z_score_7",
          "diff_close_mean_z_score_14",
          "diff_close_mean_z_score_21",
          "diff_close_mean_z_score_7",
          "diff_close_mean_z_score_14",
          "diff_close_mean_z_score_21",
          "diff_close_mean_z_score_7",
          "diff_close_mean_z_score_14",
          "diff_close_mean_z_score_21",
          "diff_close_mean_z_score_7",
          "diff_close_mean_z_score_14",
          "diff_close_mean_z_score_21",
          "diff_close_mean_z_score_7",
          "diff_close_mean_z_score_14",
          "diff_close_mean_z_score_21",
          "diff_close_mean_z_score_7",
          "diff_close_mean_z_score_14",
          "diff_close_mean_z_score_21",
          "diff_close_mean_z_score_7",
          "diff_close_mean_z_score_14",
          "diff_close_mean_z_score_21",
          "diff_close_mean_z_score_7",
          "diff_close_mean_z_score_14",
          "diff_close_mean_z_score_21",
          "diff_close_mean_z_score_7",
          "diff_close_mean_z_score_14",
          "diff_close_mean_z_score_21",
          "diff_close_mean_z_score_7",
          "diff_close_mean_z_score_14",
          "diff_close_mean_z_score_21",
          "diff_close_mean_z_score_7",
          "diff_close_mean_z_score_14",
          "diff_close_mean_z_score_21",
          "diff_close_mean_z_score_7",
          "diff_close_mean_z_score_14",
          "diff_close_mean_z_score_21",
          "diff_close_mean_z_score_7",
          "diff_close_mean_z_score_14",
          "diff_close_mean_z_score_21",
          "diff_close_mean_z_score_7",
          "diff_close_mean_z_score_14",
          "diff_close_mean_z_score_21",
          "diff_close_mean_z_score_7",
          "diff_close_mean_z_score_14",
          "diff_close_mean_z_score_21",
          "diff_close_mean_z_score_7",
          "diff_close_mean_z_score_14",
          "diff_close_mean_z_score_21",
          "diff_close_mean_z_score_7",
          "diff_close_mean_z_score_14",
          "diff_close_mean_z_score_21",
          "diff_close_mean_z_score_7",
          "diff_close_mean_z_score_14",
          "diff_close_mean_z_score_21",
          "diff_close_mean_z_score_7",
          "diff_close_mean_z_score_14",
          "diff_close_mean_z_score_21",
          "diff_close_mean_z_score_7",
          "diff_close_mean_z_score_14",
          "diff_close_mean_z_score_21",
          "diff_close_mean_z_score_7",
          "diff_close_mean_z_score_14",
          "diff_close_mean_z_score_21",
          "diff_close_mean_z_score_7",
          "diff_close_mean_z_score_14",
          "diff_close_mean_z_score_21",
          "diff_close_mean_z_score_7",
          "diff_close_mean_z_score_14",
          "diff_close_mean_z_score_21",
          "diff_close_mean_z_score_7",
          "diff_close_mean_z_score_14",
          "diff_close_mean_z_score_21",
          "diff_close_mean_z_score_7",
          "diff_close_mean_z_score_14",
          "diff_close_mean_z_score_21",
          "diff_close_mean_z_score_7",
          "diff_close_mean_z_score_14",
          "diff_close_mean_z_score_21",
          "diff_close_mean_z_score_7",
          "diff_close_mean_z_score_14",
          "diff_close_mean_z_score_21",
          "diff_close_mean_z_score_7",
          "diff_close_mean_z_score_14",
          "diff_close_mean_z_score_21",
          "diff_close_mean_z_score_7",
          "diff_close_mean_z_score_14",
          "diff_close_mean_z_score_21",
          "diff_close_mean_z_score_7",
          "diff_close_mean_z_score_14",
          "diff_close_mean_z_score_21",
          "diff_close_mean_z_score_7",
          "diff_close_mean_z_score_14",
          "diff_close_mean_z_score_21",
          "diff_close_mean_z_score_7",
          "diff_close_mean_z_score_14",
          "diff_close_mean_z_score_21",
          "diff_close_mean_z_score_7",
          "diff_close_mean_z_score_14",
          "diff_close_mean_z_score_21",
          "diff_close_mean_z_score_7",
          "diff_close_mean_z_score_14",
          "diff_close_mean_z_score_21",
          "diff_close_mean_z_score_7",
          "diff_close_mean_z_score_14",
          "diff_close_mean_z_score_21",
          "diff_close_mean_z_score_7",
          "diff_close_mean_z_score_14",
          "diff_close_mean_z_score_21",
          "diff_close_mean_z_score_7",
          "diff_close_mean_z_score_14",
          "diff_close_mean_z_score_21",
          "diff_close_mean_z_score_7",
          "diff_close_mean_z_score_14",
          "diff_close_mean_z_score_21",
          "diff_close_mean_z_score_7",
          "diff_close_mean_z_score_14",
          "diff_close_mean_z_score_21",
          "diff_close_mean_z_score_7",
          "diff_close_mean_z_score_14",
          "diff_close_mean_z_score_21",
          "diff_close_mean_z_score_7",
          "diff_close_mean_z_score_14",
          "diff_close_mean_z_score_21",
          "diff_close_mean_z_score_7",
          "diff_close_mean_z_score_14",
          "diff_close_mean_z_score_21",
          "diff_close_mean_z_score_7",
          "diff_close_mean_z_score_14",
          "diff_close_mean_z_score_21",
          "diff_close_mean_z_score_7",
          "diff_close_mean_z_score_14",
          "diff_close_mean_z_score_21",
          "diff_close_mean_z_score_7",
          "diff_close_mean_z_score_14",
          "diff_close_mean_z_score_21",
          "diff_close_mean_z_score_7",
          "diff_close_mean_z_score_14",
          "diff_close_mean_z_score_21",
          "diff_close_mean_z_score_7",
          "diff_close_mean_z_score_14",
          "diff_close_mean_z_score_21",
          "diff_close_mean_z_score_7",
          "diff_close_mean_z_score_14",
          "diff_close_mean_z_score_21",
          "diff_close_mean_z_score_7",
          "diff_close_mean_z_score_14",
          "diff_close_mean_z_score_21",
          "diff_close_mean_z_score_7",
          "diff_close_mean_z_score_14",
          "diff_close_mean_z_score_21",
          "diff_close_mean_z_score_7",
          "diff_close_mean_z_score_14",
          "diff_close_mean_z_score_21",
          "diff_close_mean_z_score_7",
          "diff_close_mean_z_score_14",
          "diff_close_mean_z_score_21",
          "diff_close_mean_z_score_7",
          "diff_close_mean_z_score_14",
          "diff_close_mean_z_score_21",
          "diff_close_mean_z_score_7",
          "diff_close_mean_z_score_14",
          "diff_close_mean_z_score_21",
          "diff_close_mean_z_score_7",
          "diff_close_mean_z_score_14",
          "diff_close_mean_z_score_21",
          "diff_close_mean_z_score_7",
          "diff_close_mean_z_score_14",
          "diff_close_mean_z_score_21",
          "diff_close_mean_z_score_7",
          "diff_close_mean_z_score_14",
          "diff_close_mean_z_score_21",
          "diff_close_mean_z_score_7",
          "diff_close_mean_z_score_14",
          "diff_close_mean_z_score_21",
          "diff_close_mean_z_score_7",
          "diff_close_mean_z_score_14",
          "diff_close_mean_z_score_21",
          "diff_close_mean_z_score_7",
          "diff_close_mean_z_score_14",
          "diff_close_mean_z_score_21",
          "diff_close_mean_z_score_7",
          "diff_close_mean_z_score_14",
          "diff_close_mean_z_score_21",
          "diff_close_mean_z_score_7",
          "diff_close_mean_z_score_14",
          "diff_close_mean_z_score_21",
          "diff_close_mean_z_score_7",
          "diff_close_mean_z_score_14",
          "diff_close_mean_z_score_21",
          "diff_close_mean_z_score_7",
          "diff_close_mean_z_score_14",
          "diff_close_mean_z_score_21",
          "diff_close_mean_z_score_7",
          "diff_close_mean_z_score_14",
          "diff_close_mean_z_score_21",
          "diff_close_mean_z_score_7",
          "diff_close_mean_z_score_14",
          "diff_close_mean_z_score_21",
          "diff_close_mean_z_score_7",
          "diff_close_mean_z_score_14",
          "diff_close_mean_z_score_21",
          "diff_close_mean_z_score_7",
          "diff_close_mean_z_score_14",
          "diff_close_mean_z_score_21",
          "diff_close_mean_z_score_7",
          "diff_close_mean_z_score_14",
          "diff_close_mean_z_score_21",
          "diff_close_mean_z_score_7",
          "diff_close_mean_z_score_14",
          "diff_close_mean_z_score_21",
          "diff_close_mean_z_score_7",
          "diff_close_mean_z_score_14",
          "diff_close_mean_z_score_21",
          "diff_close_mean_z_score_7",
          "diff_close_mean_z_score_14",
          "diff_close_mean_z_score_21"
         ],
         "x0": " ",
         "xaxis": "x",
         "y": [
          0.37704,
          0.61103,
          0.72099,
          0.42369,
          0.64202,
          0.75144,
          0.49351,
          0.69748,
          0.80277,
          0.38835,
          0.65462,
          0.75106,
          0.31159,
          0.55148,
          0.68276,
          0.43104,
          0.69763,
          0.79849,
          0.37442,
          0.64985,
          0.74451,
          0.45942,
          0.6553,
          0.75046,
          0.3712,
          0.61376,
          0.72311,
          0.42108,
          0.64021,
          0.74998,
          0.49105,
          0.69587,
          0.80152,
          0.38971,
          0.65398,
          0.75079,
          0.30735,
          0.55047,
          0.67947,
          0.42952,
          0.69559,
          0.79629,
          0.3712,
          0.64732,
          0.74331,
          0.45803,
          0.6542,
          0.74848,
          0.3771,
          0.6189,
          0.72352,
          0.42187,
          0.64095,
          0.74899,
          0.4919,
          0.69497,
          0.80042,
          0.38936,
          0.6497,
          0.747,
          0.31428,
          0.54851,
          0.67758,
          0.42547,
          0.69127,
          0.79531,
          0.36393,
          0.64624,
          0.74273,
          0.46589,
          0.65621,
          0.74982,
          0.376,
          0.61791,
          0.72072,
          0.42059,
          0.64037,
          0.74989,
          0.49643,
          0.69537,
          0.80256,
          0.38867,
          0.64786,
          0.74911,
          0.31816,
          0.55103,
          0.67831,
          0.4329,
          0.69565,
          0.79431,
          0.36498,
          0.64645,
          0.74313,
          0.47085,
          0.65444,
          0.74725,
          0.3834,
          0.61608,
          0.71859,
          0.42692,
          0.63706,
          0.7478,
          0.49374,
          0.69395,
          0.80109,
          0.39339,
          0.64977,
          0.74983,
          0.3222,
          0.55167,
          0.68104,
          0.43227,
          0.69193,
          0.79535,
          0.3672,
          0.64618,
          0.74267,
          0.47171,
          0.65741,
          0.74991,
          0.3774,
          0.61696,
          0.71904,
          0.42062,
          0.63943,
          0.74841,
          0.49339,
          0.69291,
          0.80067,
          0.38919,
          0.64799,
          0.74687,
          0.3243,
          0.5508,
          0.67822,
          0.43154,
          0.69215,
          0.79369,
          0.36747,
          0.64548,
          0.74264,
          0.47086,
          0.65769,
          0.74948,
          0.37718,
          0.61409,
          0.72178,
          0.42475,
          0.63776,
          0.74779,
          0.49083,
          0.69258,
          0.80093,
          0.38633,
          0.64744,
          0.74697,
          0.32806,
          0.54688,
          0.67481,
          0.43665,
          0.69485,
          0.79317,
          0.37118,
          0.64391,
          0.74105,
          0.46891,
          0.65491,
          0.74844,
          0.37986,
          0.6175,
          0.71931,
          0.41997,
          0.63516,
          0.74333,
          0.49122,
          0.68984,
          0.79882,
          0.38855,
          0.65149,
          0.74714,
          0.32324,
          0.54975,
          0.68206,
          0.4381,
          0.6894,
          0.79763,
          0.37172,
          0.64625,
          0.74162,
          0.46778,
          0.64981,
          0.74479,
          0.37572,
          0.60626,
          0.7109,
          0.42201,
          0.63528,
          0.74436,
          0.49015,
          0.68612,
          0.79861,
          0.38601,
          0.64614,
          0.74295,
          0.3204,
          0.55066,
          0.68064,
          0.42095,
          0.69018,
          0.78972,
          0.37138,
          0.64614,
          0.74088,
          0.46464,
          0.64741,
          0.748,
          0.37576,
          0.6192,
          0.71374,
          0.42433,
          0.6313,
          0.74217,
          0.49336,
          0.68916,
          0.79996,
          0.37278,
          0.64545,
          0.74405,
          0.30915,
          0.54554,
          0.68134,
          0.4163,
          0.68641,
          0.79171,
          0.37386,
          0.64744,
          0.74297,
          0.46581,
          0.64865,
          0.75002,
          0.37676,
          0.60952,
          0.71745,
          0.42116,
          0.6268,
          0.74482,
          0.49226,
          0.6876,
          0.79696,
          0.37058,
          0.64672,
          0.73744,
          0.32068,
          0.54743,
          0.67175,
          0.41356,
          0.69039,
          0.79046,
          0.36388,
          0.64657,
          0.73154,
          0.46991,
          0.65589,
          0.75049,
          0.37761,
          0.61712,
          0.71321,
          0.42227,
          0.63075,
          0.74428,
          0.49375,
          0.68726,
          0.80188,
          0.38157,
          0.64711,
          0.73061,
          0.31784,
          0.55027,
          0.67275,
          0.42229,
          0.68561,
          0.79066,
          0.36515,
          0.64471,
          0.74305,
          0.47497,
          0.66045,
          0.74917,
          0.37285,
          0.61401,
          0.71729,
          0.4198,
          0.63454,
          0.74543,
          0.48597,
          0.6915,
          0.79907,
          0.36991,
          0.64408,
          0.74154,
          0.32462,
          0.54693,
          0.67464,
          0.42435,
          0.67847,
          0.78961,
          0.37151,
          0.64685,
          0.74048,
          0.46132,
          0.65027,
          0.74997,
          0.25871,
          0.57516,
          0.7039,
          0.32509,
          0.60976,
          0.73736,
          0.41081,
          0.67016,
          0.78981,
          0.27085,
          0.62276,
          0.73447,
          0.17248,
          0.50384,
          0.65925,
          0.32501,
          0.67048,
          0.78618,
          0.24912,
          0.61324,
          0.72559,
          0.36314,
          0.62239,
          0.73578
         ],
         "y0": " ",
         "yaxis": "y"
        }
       ],
       "layout": {
        "boxmode": "group",
        "legend": {
         "tracegroupgap": 0
        },
        "template": {
         "data": {
          "bar": [
           {
            "error_x": {
             "color": "#2a3f5f"
            },
            "error_y": {
             "color": "#2a3f5f"
            },
            "marker": {
             "line": {
              "color": "#E5ECF6",
              "width": 0.5
             },
             "pattern": {
              "fillmode": "overlay",
              "size": 10,
              "solidity": 0.2
             }
            },
            "type": "bar"
           }
          ],
          "barpolar": [
           {
            "marker": {
             "line": {
              "color": "#E5ECF6",
              "width": 0.5
             },
             "pattern": {
              "fillmode": "overlay",
              "size": 10,
              "solidity": 0.2
             }
            },
            "type": "barpolar"
           }
          ],
          "carpet": [
           {
            "aaxis": {
             "endlinecolor": "#2a3f5f",
             "gridcolor": "white",
             "linecolor": "white",
             "minorgridcolor": "white",
             "startlinecolor": "#2a3f5f"
            },
            "baxis": {
             "endlinecolor": "#2a3f5f",
             "gridcolor": "white",
             "linecolor": "white",
             "minorgridcolor": "white",
             "startlinecolor": "#2a3f5f"
            },
            "type": "carpet"
           }
          ],
          "choropleth": [
           {
            "colorbar": {
             "outlinewidth": 0,
             "ticks": ""
            },
            "type": "choropleth"
           }
          ],
          "contour": [
           {
            "colorbar": {
             "outlinewidth": 0,
             "ticks": ""
            },
            "colorscale": [
             [
              0,
              "#0d0887"
             ],
             [
              0.1111111111111111,
              "#46039f"
             ],
             [
              0.2222222222222222,
              "#7201a8"
             ],
             [
              0.3333333333333333,
              "#9c179e"
             ],
             [
              0.4444444444444444,
              "#bd3786"
             ],
             [
              0.5555555555555556,
              "#d8576b"
             ],
             [
              0.6666666666666666,
              "#ed7953"
             ],
             [
              0.7777777777777778,
              "#fb9f3a"
             ],
             [
              0.8888888888888888,
              "#fdca26"
             ],
             [
              1,
              "#f0f921"
             ]
            ],
            "type": "contour"
           }
          ],
          "contourcarpet": [
           {
            "colorbar": {
             "outlinewidth": 0,
             "ticks": ""
            },
            "type": "contourcarpet"
           }
          ],
          "heatmap": [
           {
            "colorbar": {
             "outlinewidth": 0,
             "ticks": ""
            },
            "colorscale": [
             [
              0,
              "#0d0887"
             ],
             [
              0.1111111111111111,
              "#46039f"
             ],
             [
              0.2222222222222222,
              "#7201a8"
             ],
             [
              0.3333333333333333,
              "#9c179e"
             ],
             [
              0.4444444444444444,
              "#bd3786"
             ],
             [
              0.5555555555555556,
              "#d8576b"
             ],
             [
              0.6666666666666666,
              "#ed7953"
             ],
             [
              0.7777777777777778,
              "#fb9f3a"
             ],
             [
              0.8888888888888888,
              "#fdca26"
             ],
             [
              1,
              "#f0f921"
             ]
            ],
            "type": "heatmap"
           }
          ],
          "heatmapgl": [
           {
            "colorbar": {
             "outlinewidth": 0,
             "ticks": ""
            },
            "colorscale": [
             [
              0,
              "#0d0887"
             ],
             [
              0.1111111111111111,
              "#46039f"
             ],
             [
              0.2222222222222222,
              "#7201a8"
             ],
             [
              0.3333333333333333,
              "#9c179e"
             ],
             [
              0.4444444444444444,
              "#bd3786"
             ],
             [
              0.5555555555555556,
              "#d8576b"
             ],
             [
              0.6666666666666666,
              "#ed7953"
             ],
             [
              0.7777777777777778,
              "#fb9f3a"
             ],
             [
              0.8888888888888888,
              "#fdca26"
             ],
             [
              1,
              "#f0f921"
             ]
            ],
            "type": "heatmapgl"
           }
          ],
          "histogram": [
           {
            "marker": {
             "pattern": {
              "fillmode": "overlay",
              "size": 10,
              "solidity": 0.2
             }
            },
            "type": "histogram"
           }
          ],
          "histogram2d": [
           {
            "colorbar": {
             "outlinewidth": 0,
             "ticks": ""
            },
            "colorscale": [
             [
              0,
              "#0d0887"
             ],
             [
              0.1111111111111111,
              "#46039f"
             ],
             [
              0.2222222222222222,
              "#7201a8"
             ],
             [
              0.3333333333333333,
              "#9c179e"
             ],
             [
              0.4444444444444444,
              "#bd3786"
             ],
             [
              0.5555555555555556,
              "#d8576b"
             ],
             [
              0.6666666666666666,
              "#ed7953"
             ],
             [
              0.7777777777777778,
              "#fb9f3a"
             ],
             [
              0.8888888888888888,
              "#fdca26"
             ],
             [
              1,
              "#f0f921"
             ]
            ],
            "type": "histogram2d"
           }
          ],
          "histogram2dcontour": [
           {
            "colorbar": {
             "outlinewidth": 0,
             "ticks": ""
            },
            "colorscale": [
             [
              0,
              "#0d0887"
             ],
             [
              0.1111111111111111,
              "#46039f"
             ],
             [
              0.2222222222222222,
              "#7201a8"
             ],
             [
              0.3333333333333333,
              "#9c179e"
             ],
             [
              0.4444444444444444,
              "#bd3786"
             ],
             [
              0.5555555555555556,
              "#d8576b"
             ],
             [
              0.6666666666666666,
              "#ed7953"
             ],
             [
              0.7777777777777778,
              "#fb9f3a"
             ],
             [
              0.8888888888888888,
              "#fdca26"
             ],
             [
              1,
              "#f0f921"
             ]
            ],
            "type": "histogram2dcontour"
           }
          ],
          "mesh3d": [
           {
            "colorbar": {
             "outlinewidth": 0,
             "ticks": ""
            },
            "type": "mesh3d"
           }
          ],
          "parcoords": [
           {
            "line": {
             "colorbar": {
              "outlinewidth": 0,
              "ticks": ""
             }
            },
            "type": "parcoords"
           }
          ],
          "pie": [
           {
            "automargin": true,
            "type": "pie"
           }
          ],
          "scatter": [
           {
            "fillpattern": {
             "fillmode": "overlay",
             "size": 10,
             "solidity": 0.2
            },
            "type": "scatter"
           }
          ],
          "scatter3d": [
           {
            "line": {
             "colorbar": {
              "outlinewidth": 0,
              "ticks": ""
             }
            },
            "marker": {
             "colorbar": {
              "outlinewidth": 0,
              "ticks": ""
             }
            },
            "type": "scatter3d"
           }
          ],
          "scattercarpet": [
           {
            "marker": {
             "colorbar": {
              "outlinewidth": 0,
              "ticks": ""
             }
            },
            "type": "scattercarpet"
           }
          ],
          "scattergeo": [
           {
            "marker": {
             "colorbar": {
              "outlinewidth": 0,
              "ticks": ""
             }
            },
            "type": "scattergeo"
           }
          ],
          "scattergl": [
           {
            "marker": {
             "colorbar": {
              "outlinewidth": 0,
              "ticks": ""
             }
            },
            "type": "scattergl"
           }
          ],
          "scattermapbox": [
           {
            "marker": {
             "colorbar": {
              "outlinewidth": 0,
              "ticks": ""
             }
            },
            "type": "scattermapbox"
           }
          ],
          "scatterpolar": [
           {
            "marker": {
             "colorbar": {
              "outlinewidth": 0,
              "ticks": ""
             }
            },
            "type": "scatterpolar"
           }
          ],
          "scatterpolargl": [
           {
            "marker": {
             "colorbar": {
              "outlinewidth": 0,
              "ticks": ""
             }
            },
            "type": "scatterpolargl"
           }
          ],
          "scatterternary": [
           {
            "marker": {
             "colorbar": {
              "outlinewidth": 0,
              "ticks": ""
             }
            },
            "type": "scatterternary"
           }
          ],
          "surface": [
           {
            "colorbar": {
             "outlinewidth": 0,
             "ticks": ""
            },
            "colorscale": [
             [
              0,
              "#0d0887"
             ],
             [
              0.1111111111111111,
              "#46039f"
             ],
             [
              0.2222222222222222,
              "#7201a8"
             ],
             [
              0.3333333333333333,
              "#9c179e"
             ],
             [
              0.4444444444444444,
              "#bd3786"
             ],
             [
              0.5555555555555556,
              "#d8576b"
             ],
             [
              0.6666666666666666,
              "#ed7953"
             ],
             [
              0.7777777777777778,
              "#fb9f3a"
             ],
             [
              0.8888888888888888,
              "#fdca26"
             ],
             [
              1,
              "#f0f921"
             ]
            ],
            "type": "surface"
           }
          ],
          "table": [
           {
            "cells": {
             "fill": {
              "color": "#EBF0F8"
             },
             "line": {
              "color": "white"
             }
            },
            "header": {
             "fill": {
              "color": "#C8D4E3"
             },
             "line": {
              "color": "white"
             }
            },
            "type": "table"
           }
          ]
         },
         "layout": {
          "annotationdefaults": {
           "arrowcolor": "#2a3f5f",
           "arrowhead": 0,
           "arrowwidth": 1
          },
          "autotypenumbers": "strict",
          "coloraxis": {
           "colorbar": {
            "outlinewidth": 0,
            "ticks": ""
           }
          },
          "colorscale": {
           "diverging": [
            [
             0,
             "#8e0152"
            ],
            [
             0.1,
             "#c51b7d"
            ],
            [
             0.2,
             "#de77ae"
            ],
            [
             0.3,
             "#f1b6da"
            ],
            [
             0.4,
             "#fde0ef"
            ],
            [
             0.5,
             "#f7f7f7"
            ],
            [
             0.6,
             "#e6f5d0"
            ],
            [
             0.7,
             "#b8e186"
            ],
            [
             0.8,
             "#7fbc41"
            ],
            [
             0.9,
             "#4d9221"
            ],
            [
             1,
             "#276419"
            ]
           ],
           "sequential": [
            [
             0,
             "#0d0887"
            ],
            [
             0.1111111111111111,
             "#46039f"
            ],
            [
             0.2222222222222222,
             "#7201a8"
            ],
            [
             0.3333333333333333,
             "#9c179e"
            ],
            [
             0.4444444444444444,
             "#bd3786"
            ],
            [
             0.5555555555555556,
             "#d8576b"
            ],
            [
             0.6666666666666666,
             "#ed7953"
            ],
            [
             0.7777777777777778,
             "#fb9f3a"
            ],
            [
             0.8888888888888888,
             "#fdca26"
            ],
            [
             1,
             "#f0f921"
            ]
           ],
           "sequentialminus": [
            [
             0,
             "#0d0887"
            ],
            [
             0.1111111111111111,
             "#46039f"
            ],
            [
             0.2222222222222222,
             "#7201a8"
            ],
            [
             0.3333333333333333,
             "#9c179e"
            ],
            [
             0.4444444444444444,
             "#bd3786"
            ],
            [
             0.5555555555555556,
             "#d8576b"
            ],
            [
             0.6666666666666666,
             "#ed7953"
            ],
            [
             0.7777777777777778,
             "#fb9f3a"
            ],
            [
             0.8888888888888888,
             "#fdca26"
            ],
            [
             1,
             "#f0f921"
            ]
           ]
          },
          "colorway": [
           "#636efa",
           "#EF553B",
           "#00cc96",
           "#ab63fa",
           "#FFA15A",
           "#19d3f3",
           "#FF6692",
           "#B6E880",
           "#FF97FF",
           "#FECB52"
          ],
          "font": {
           "color": "#2a3f5f"
          },
          "geo": {
           "bgcolor": "white",
           "lakecolor": "white",
           "landcolor": "#E5ECF6",
           "showlakes": true,
           "showland": true,
           "subunitcolor": "white"
          },
          "hoverlabel": {
           "align": "left"
          },
          "hovermode": "closest",
          "mapbox": {
           "style": "light"
          },
          "paper_bgcolor": "white",
          "plot_bgcolor": "#E5ECF6",
          "polar": {
           "angularaxis": {
            "gridcolor": "white",
            "linecolor": "white",
            "ticks": ""
           },
           "bgcolor": "#E5ECF6",
           "radialaxis": {
            "gridcolor": "white",
            "linecolor": "white",
            "ticks": ""
           }
          },
          "scene": {
           "xaxis": {
            "backgroundcolor": "#E5ECF6",
            "gridcolor": "white",
            "gridwidth": 2,
            "linecolor": "white",
            "showbackground": true,
            "ticks": "",
            "zerolinecolor": "white"
           },
           "yaxis": {
            "backgroundcolor": "#E5ECF6",
            "gridcolor": "white",
            "gridwidth": 2,
            "linecolor": "white",
            "showbackground": true,
            "ticks": "",
            "zerolinecolor": "white"
           },
           "zaxis": {
            "backgroundcolor": "#E5ECF6",
            "gridcolor": "white",
            "gridwidth": 2,
            "linecolor": "white",
            "showbackground": true,
            "ticks": "",
            "zerolinecolor": "white"
           }
          },
          "shapedefaults": {
           "line": {
            "color": "#2a3f5f"
           }
          },
          "ternary": {
           "aaxis": {
            "gridcolor": "white",
            "linecolor": "white",
            "ticks": ""
           },
           "baxis": {
            "gridcolor": "white",
            "linecolor": "white",
            "ticks": ""
           },
           "bgcolor": "#E5ECF6",
           "caxis": {
            "gridcolor": "white",
            "linecolor": "white",
            "ticks": ""
           }
          },
          "title": {
           "x": 0.05
          },
          "xaxis": {
           "automargin": true,
           "gridcolor": "white",
           "linecolor": "white",
           "ticks": "",
           "title": {
            "standoff": 15
           },
           "zerolinecolor": "white",
           "zerolinewidth": 2
          },
          "yaxis": {
           "automargin": true,
           "gridcolor": "white",
           "linecolor": "white",
           "ticks": "",
           "title": {
            "standoff": 15
           },
           "zerolinecolor": "white",
           "zerolinewidth": 2
          }
         }
        },
        "title": {
         "text": "Distribuição de resultados para cada alvo com leak=True"
        },
        "xaxis": {
         "anchor": "y",
         "domain": [
          0,
          1
         ],
         "title": {
          "text": "label_col"
         }
        },
        "yaxis": {
         "anchor": "x",
         "domain": [
          0,
          1
         ],
         "title": {
          "text": "R-squared (R2)"
         }
        }
       }
      }
     },
     "metadata": {},
     "output_type": "display_data"
    },
    {
     "data": {
      "application/vnd.plotly.v1+json": {
       "config": {
        "plotlyServerURL": "https://plot.ly"
       },
       "data": [
        {
         "alignmentgroup": "True",
         "boxpoints": "all",
         "hovertemplate": "label_col=%{x}<br>R-squared (R2)=%{y}<extra></extra>",
         "legendgroup": "",
         "marker": {
          "color": "#636efa"
         },
         "name": "",
         "notched": false,
         "offsetgroup": "",
         "orientation": "v",
         "showlegend": false,
         "type": "box",
         "x": [
          "diff_close_mean_z_score_7",
          "diff_close_mean_z_score_14",
          "diff_close_mean_z_score_21",
          "diff_close_mean_z_score_7",
          "diff_close_mean_z_score_14",
          "diff_close_mean_z_score_21",
          "diff_close_mean_z_score_7",
          "diff_close_mean_z_score_14",
          "diff_close_mean_z_score_21",
          "diff_close_mean_z_score_7",
          "diff_close_mean_z_score_14",
          "diff_close_mean_z_score_21",
          "diff_close_mean_z_score_7",
          "diff_close_mean_z_score_14",
          "diff_close_mean_z_score_21",
          "diff_close_mean_z_score_7",
          "diff_close_mean_z_score_14",
          "diff_close_mean_z_score_21",
          "diff_close_mean_z_score_7",
          "diff_close_mean_z_score_14",
          "diff_close_mean_z_score_21",
          "diff_close_mean_z_score_7",
          "diff_close_mean_z_score_14",
          "diff_close_mean_z_score_21",
          "diff_close_mean_z_score_7",
          "diff_close_mean_z_score_14",
          "diff_close_mean_z_score_21",
          "diff_close_mean_z_score_7",
          "diff_close_mean_z_score_14",
          "diff_close_mean_z_score_21",
          "diff_close_mean_z_score_7",
          "diff_close_mean_z_score_14",
          "diff_close_mean_z_score_21",
          "diff_close_mean_z_score_7",
          "diff_close_mean_z_score_14",
          "diff_close_mean_z_score_21",
          "diff_close_mean_z_score_7",
          "diff_close_mean_z_score_14",
          "diff_close_mean_z_score_21",
          "diff_close_mean_z_score_7",
          "diff_close_mean_z_score_14",
          "diff_close_mean_z_score_21",
          "diff_close_mean_z_score_7",
          "diff_close_mean_z_score_14",
          "diff_close_mean_z_score_21",
          "diff_close_mean_z_score_7",
          "diff_close_mean_z_score_14",
          "diff_close_mean_z_score_21",
          "diff_close_mean_z_score_7",
          "diff_close_mean_z_score_14",
          "diff_close_mean_z_score_21",
          "diff_close_mean_z_score_7",
          "diff_close_mean_z_score_14",
          "diff_close_mean_z_score_21",
          "diff_close_mean_z_score_7",
          "diff_close_mean_z_score_14",
          "diff_close_mean_z_score_21",
          "diff_close_mean_z_score_7",
          "diff_close_mean_z_score_14",
          "diff_close_mean_z_score_21",
          "diff_close_mean_z_score_7",
          "diff_close_mean_z_score_14",
          "diff_close_mean_z_score_21",
          "diff_close_mean_z_score_7",
          "diff_close_mean_z_score_14",
          "diff_close_mean_z_score_21",
          "diff_close_mean_z_score_7",
          "diff_close_mean_z_score_14",
          "diff_close_mean_z_score_21",
          "diff_close_mean_z_score_7",
          "diff_close_mean_z_score_14",
          "diff_close_mean_z_score_21",
          "diff_close_mean_z_score_7",
          "diff_close_mean_z_score_14",
          "diff_close_mean_z_score_21",
          "diff_close_mean_z_score_7",
          "diff_close_mean_z_score_14",
          "diff_close_mean_z_score_21",
          "diff_close_mean_z_score_7",
          "diff_close_mean_z_score_14",
          "diff_close_mean_z_score_21",
          "diff_close_mean_z_score_7",
          "diff_close_mean_z_score_14",
          "diff_close_mean_z_score_21",
          "diff_close_mean_z_score_7",
          "diff_close_mean_z_score_14",
          "diff_close_mean_z_score_21",
          "diff_close_mean_z_score_7",
          "diff_close_mean_z_score_14",
          "diff_close_mean_z_score_21",
          "diff_close_mean_z_score_7",
          "diff_close_mean_z_score_14",
          "diff_close_mean_z_score_21",
          "diff_close_mean_z_score_7",
          "diff_close_mean_z_score_14",
          "diff_close_mean_z_score_21",
          "diff_close_mean_z_score_7",
          "diff_close_mean_z_score_14",
          "diff_close_mean_z_score_21",
          "diff_close_mean_z_score_7",
          "diff_close_mean_z_score_14",
          "diff_close_mean_z_score_21",
          "diff_close_mean_z_score_7",
          "diff_close_mean_z_score_14",
          "diff_close_mean_z_score_21",
          "diff_close_mean_z_score_7",
          "diff_close_mean_z_score_14",
          "diff_close_mean_z_score_21",
          "diff_close_mean_z_score_7",
          "diff_close_mean_z_score_14",
          "diff_close_mean_z_score_21",
          "diff_close_mean_z_score_7",
          "diff_close_mean_z_score_14",
          "diff_close_mean_z_score_21",
          "diff_close_mean_z_score_7",
          "diff_close_mean_z_score_14",
          "diff_close_mean_z_score_21",
          "diff_close_mean_z_score_7",
          "diff_close_mean_z_score_14",
          "diff_close_mean_z_score_21",
          "diff_close_mean_z_score_7",
          "diff_close_mean_z_score_14",
          "diff_close_mean_z_score_21",
          "diff_close_mean_z_score_7",
          "diff_close_mean_z_score_14",
          "diff_close_mean_z_score_21",
          "diff_close_mean_z_score_7",
          "diff_close_mean_z_score_14",
          "diff_close_mean_z_score_21",
          "diff_close_mean_z_score_7",
          "diff_close_mean_z_score_14",
          "diff_close_mean_z_score_21",
          "diff_close_mean_z_score_7",
          "diff_close_mean_z_score_14",
          "diff_close_mean_z_score_21",
          "diff_close_mean_z_score_7",
          "diff_close_mean_z_score_14",
          "diff_close_mean_z_score_21",
          "diff_close_mean_z_score_7",
          "diff_close_mean_z_score_14",
          "diff_close_mean_z_score_21",
          "diff_close_mean_z_score_7",
          "diff_close_mean_z_score_14",
          "diff_close_mean_z_score_21",
          "diff_close_mean_z_score_7",
          "diff_close_mean_z_score_14",
          "diff_close_mean_z_score_21",
          "diff_close_mean_z_score_7",
          "diff_close_mean_z_score_14",
          "diff_close_mean_z_score_21",
          "diff_close_mean_z_score_7",
          "diff_close_mean_z_score_14",
          "diff_close_mean_z_score_21",
          "diff_close_mean_z_score_7",
          "diff_close_mean_z_score_14",
          "diff_close_mean_z_score_21",
          "diff_close_mean_z_score_7",
          "diff_close_mean_z_score_14",
          "diff_close_mean_z_score_21",
          "diff_close_mean_z_score_7",
          "diff_close_mean_z_score_14",
          "diff_close_mean_z_score_21",
          "diff_close_mean_z_score_7",
          "diff_close_mean_z_score_14",
          "diff_close_mean_z_score_21",
          "diff_close_mean_z_score_7",
          "diff_close_mean_z_score_14",
          "diff_close_mean_z_score_21",
          "diff_close_mean_z_score_7",
          "diff_close_mean_z_score_14",
          "diff_close_mean_z_score_21",
          "diff_close_mean_z_score_7",
          "diff_close_mean_z_score_14",
          "diff_close_mean_z_score_21",
          "diff_close_mean_z_score_7",
          "diff_close_mean_z_score_14",
          "diff_close_mean_z_score_21",
          "diff_close_mean_z_score_7",
          "diff_close_mean_z_score_14",
          "diff_close_mean_z_score_21",
          "diff_close_mean_z_score_7",
          "diff_close_mean_z_score_14",
          "diff_close_mean_z_score_21",
          "diff_close_mean_z_score_7",
          "diff_close_mean_z_score_14",
          "diff_close_mean_z_score_21",
          "diff_close_mean_z_score_7",
          "diff_close_mean_z_score_14",
          "diff_close_mean_z_score_21",
          "diff_close_mean_z_score_7",
          "diff_close_mean_z_score_14",
          "diff_close_mean_z_score_21",
          "diff_close_mean_z_score_7",
          "diff_close_mean_z_score_14",
          "diff_close_mean_z_score_21",
          "diff_close_mean_z_score_7",
          "diff_close_mean_z_score_14",
          "diff_close_mean_z_score_21",
          "diff_close_mean_z_score_7",
          "diff_close_mean_z_score_14",
          "diff_close_mean_z_score_21",
          "diff_close_mean_z_score_7",
          "diff_close_mean_z_score_14",
          "diff_close_mean_z_score_21",
          "diff_close_mean_z_score_7",
          "diff_close_mean_z_score_14",
          "diff_close_mean_z_score_21",
          "diff_close_mean_z_score_7",
          "diff_close_mean_z_score_14",
          "diff_close_mean_z_score_21",
          "diff_close_mean_z_score_7",
          "diff_close_mean_z_score_14",
          "diff_close_mean_z_score_21",
          "diff_close_mean_z_score_7",
          "diff_close_mean_z_score_14",
          "diff_close_mean_z_score_21",
          "diff_close_mean_z_score_7",
          "diff_close_mean_z_score_14",
          "diff_close_mean_z_score_21",
          "diff_close_mean_z_score_7",
          "diff_close_mean_z_score_14",
          "diff_close_mean_z_score_21",
          "diff_close_mean_z_score_7",
          "diff_close_mean_z_score_14",
          "diff_close_mean_z_score_21",
          "diff_close_mean_z_score_7",
          "diff_close_mean_z_score_14",
          "diff_close_mean_z_score_21",
          "diff_close_mean_z_score_7",
          "diff_close_mean_z_score_14",
          "diff_close_mean_z_score_21",
          "diff_close_mean_z_score_7",
          "diff_close_mean_z_score_14",
          "diff_close_mean_z_score_21",
          "diff_close_mean_z_score_7",
          "diff_close_mean_z_score_14",
          "diff_close_mean_z_score_21",
          "diff_close_mean_z_score_7",
          "diff_close_mean_z_score_14",
          "diff_close_mean_z_score_21",
          "diff_close_mean_z_score_7",
          "diff_close_mean_z_score_14",
          "diff_close_mean_z_score_21",
          "diff_close_mean_z_score_7",
          "diff_close_mean_z_score_14",
          "diff_close_mean_z_score_21",
          "diff_close_mean_z_score_7",
          "diff_close_mean_z_score_14",
          "diff_close_mean_z_score_21",
          "diff_close_mean_z_score_7",
          "diff_close_mean_z_score_14",
          "diff_close_mean_z_score_21",
          "diff_close_mean_z_score_7",
          "diff_close_mean_z_score_14",
          "diff_close_mean_z_score_21",
          "diff_close_mean_z_score_7",
          "diff_close_mean_z_score_14",
          "diff_close_mean_z_score_21",
          "diff_close_mean_z_score_7",
          "diff_close_mean_z_score_14",
          "diff_close_mean_z_score_21",
          "diff_close_mean_z_score_7",
          "diff_close_mean_z_score_14",
          "diff_close_mean_z_score_21",
          "diff_close_mean_z_score_7",
          "diff_close_mean_z_score_14",
          "diff_close_mean_z_score_21",
          "diff_close_mean_z_score_7",
          "diff_close_mean_z_score_14",
          "diff_close_mean_z_score_21",
          "diff_close_mean_z_score_7",
          "diff_close_mean_z_score_14",
          "diff_close_mean_z_score_21",
          "diff_close_mean_z_score_7",
          "diff_close_mean_z_score_14",
          "diff_close_mean_z_score_21",
          "diff_close_mean_z_score_7",
          "diff_close_mean_z_score_14",
          "diff_close_mean_z_score_21",
          "diff_close_mean_z_score_7",
          "diff_close_mean_z_score_14",
          "diff_close_mean_z_score_21",
          "diff_close_mean_z_score_7",
          "diff_close_mean_z_score_14",
          "diff_close_mean_z_score_21",
          "diff_close_mean_z_score_7",
          "diff_close_mean_z_score_14",
          "diff_close_mean_z_score_21",
          "diff_close_mean_z_score_7",
          "diff_close_mean_z_score_14",
          "diff_close_mean_z_score_21",
          "diff_close_mean_z_score_7",
          "diff_close_mean_z_score_14",
          "diff_close_mean_z_score_21",
          "diff_close_mean_z_score_7",
          "diff_close_mean_z_score_14",
          "diff_close_mean_z_score_21",
          "diff_close_mean_z_score_7",
          "diff_close_mean_z_score_14",
          "diff_close_mean_z_score_21",
          "diff_close_mean_z_score_7",
          "diff_close_mean_z_score_14",
          "diff_close_mean_z_score_21",
          "diff_close_mean_z_score_7",
          "diff_close_mean_z_score_14",
          "diff_close_mean_z_score_21",
          "diff_close_mean_z_score_7",
          "diff_close_mean_z_score_14",
          "diff_close_mean_z_score_21",
          "diff_close_mean_z_score_7",
          "diff_close_mean_z_score_14",
          "diff_close_mean_z_score_21",
          "diff_close_mean_z_score_7",
          "diff_close_mean_z_score_14",
          "diff_close_mean_z_score_21",
          "diff_close_mean_z_score_7",
          "diff_close_mean_z_score_14",
          "diff_close_mean_z_score_21",
          "diff_close_mean_z_score_7",
          "diff_close_mean_z_score_14",
          "diff_close_mean_z_score_21",
          "diff_close_mean_z_score_7",
          "diff_close_mean_z_score_14",
          "diff_close_mean_z_score_21",
          "diff_close_mean_z_score_7",
          "diff_close_mean_z_score_14",
          "diff_close_mean_z_score_21",
          "diff_close_mean_z_score_7",
          "diff_close_mean_z_score_14",
          "diff_close_mean_z_score_21",
          "diff_close_mean_z_score_7",
          "diff_close_mean_z_score_14",
          "diff_close_mean_z_score_21",
          "diff_close_mean_z_score_7",
          "diff_close_mean_z_score_14",
          "diff_close_mean_z_score_21"
         ],
         "x0": " ",
         "xaxis": "x",
         "y": [
          0.54717,
          0.7273,
          0.80084,
          0.58631,
          0.74965,
          0.82774,
          0.64561,
          0.79204,
          0.87814,
          0.55713,
          0.7643,
          0.83352,
          0.5137,
          0.68552,
          0.78049,
          0.58966,
          0.78711,
          0.86047,
          0.55071,
          0.75498,
          0.82232,
          0.61309,
          0.75925,
          0.82698,
          0.54336,
          0.72828,
          0.80213,
          0.58459,
          0.748,
          0.82668,
          0.64327,
          0.79116,
          0.87731,
          0.55798,
          0.76319,
          0.83288,
          0.51135,
          0.68517,
          0.77837,
          0.5887,
          0.78514,
          0.85877,
          0.54812,
          0.75313,
          0.82156,
          0.61245,
          0.75811,
          0.82518,
          0.54463,
          0.73144,
          0.80206,
          0.58461,
          0.74822,
          0.82487,
          0.64168,
          0.78889,
          0.87587,
          0.55742,
          0.75942,
          0.8301,
          0.51583,
          0.68316,
          0.77707,
          0.58506,
          0.78248,
          0.85836,
          0.5429,
          0.75223,
          0.82093,
          0.61576,
          0.75922,
          0.82611,
          0.54623,
          0.73024,
          0.80038,
          0.5843,
          0.74658,
          0.82531,
          0.63998,
          0.78814,
          0.87745,
          0.55613,
          0.75888,
          0.83198,
          0.51733,
          0.68446,
          0.77724,
          0.58937,
          0.7843,
          0.8563,
          0.54267,
          0.7523,
          0.82111,
          0.61856,
          0.75856,
          0.82456,
          0.548,
          0.72995,
          0.79951,
          0.58502,
          0.74518,
          0.82478,
          0.64388,
          0.78869,
          0.8768,
          0.55683,
          0.76017,
          0.83252,
          0.51868,
          0.68475,
          0.77846,
          0.5906,
          0.78342,
          0.85796,
          0.54479,
          0.75188,
          0.82028,
          0.62001,
          0.76027,
          0.8261,
          0.5476,
          0.73007,
          0.79955,
          0.58485,
          0.74707,
          0.82512,
          0.64129,
          0.78659,
          0.87581,
          0.55572,
          0.7592,
          0.82952,
          0.52215,
          0.68511,
          0.77724,
          0.58856,
          0.78264,
          0.85651,
          0.54341,
          0.75069,
          0.82055,
          0.61799,
          0.75996,
          0.82584,
          0.54742,
          0.72863,
          0.80083,
          0.5864,
          0.74541,
          0.82446,
          0.63933,
          0.78632,
          0.87632,
          0.55381,
          0.75812,
          0.83014,
          0.52155,
          0.68156,
          0.77462,
          0.5908,
          0.78519,
          0.85746,
          0.54785,
          0.74915,
          0.81906,
          0.62007,
          0.75884,
          0.8251,
          0.54679,
          0.73011,
          0.79856,
          0.57967,
          0.74283,
          0.82067,
          0.63621,
          0.78395,
          0.87266,
          0.55307,
          0.75811,
          0.83,
          0.51462,
          0.68377,
          0.77927,
          0.58623,
          0.77858,
          0.85958,
          0.54853,
          0.75087,
          0.81922,
          0.61847,
          0.75437,
          0.82257,
          0.54699,
          0.72753,
          0.79419,
          0.58291,
          0.74211,
          0.82163,
          0.64543,
          0.79711,
          0.87359,
          0.55079,
          0.75862,
          0.82461,
          0.51416,
          0.68614,
          0.77821,
          0.57735,
          0.78217,
          0.85381,
          0.53969,
          0.74946,
          0.81844,
          0.61399,
          0.75092,
          0.82428,
          0.54705,
          0.74236,
          0.8049,
          0.58186,
          0.73596,
          0.81747,
          0.64355,
          0.79215,
          0.87731,
          0.54462,
          0.76044,
          0.82927,
          0.50861,
          0.68333,
          0.77716,
          0.57536,
          0.77804,
          0.85492,
          0.5477,
          0.7484,
          0.81856,
          0.61548,
          0.75044,
          0.82465,
          0.54928,
          0.73541,
          0.80525,
          0.57897,
          0.7341,
          0.82083,
          0.6396,
          0.79285,
          0.8721,
          0.54067,
          0.76451,
          0.82768,
          0.51065,
          0.68724,
          0.77499,
          0.57329,
          0.78243,
          0.85356,
          0.54224,
          0.74949,
          0.80685,
          0.61825,
          0.7606,
          0.8286,
          0.54844,
          0.73796,
          0.8019,
          0.57959,
          0.73781,
          0.81976,
          0.63619,
          0.79428,
          0.87663,
          0.54915,
          0.76353,
          0.82333,
          0.51306,
          0.68949,
          0.77679,
          0.58323,
          0.77952,
          0.85417,
          0.5509,
          0.74927,
          0.82152,
          0.6169,
          0.76298,
          0.83085,
          0.54677,
          0.74105,
          0.80636,
          0.58125,
          0.74247,
          0.82495,
          0.63448,
          0.79624,
          0.87388,
          0.54027,
          0.75898,
          0.82787,
          0.51529,
          0.68753,
          0.7791,
          0.58254,
          0.77677,
          0.85434,
          0.5454,
          0.74922,
          0.81676,
          0.60962,
          0.76366,
          0.83237,
          0.48052,
          0.7086,
          0.79154,
          0.53289,
          0.73169,
          0.82047,
          0.60929,
          0.78088,
          0.87392,
          0.49371,
          0.74812,
          0.82591,
          0.43751,
          0.6576,
          0.76704,
          0.53766,
          0.77542,
          0.85552,
          0.48407,
          0.73707,
          0.81337,
          0.5671,
          0.74251,
          0.81893
         ],
         "y0": " ",
         "yaxis": "y"
        }
       ],
       "layout": {
        "boxmode": "group",
        "legend": {
         "tracegroupgap": 0
        },
        "template": {
         "data": {
          "bar": [
           {
            "error_x": {
             "color": "#2a3f5f"
            },
            "error_y": {
             "color": "#2a3f5f"
            },
            "marker": {
             "line": {
              "color": "#E5ECF6",
              "width": 0.5
             },
             "pattern": {
              "fillmode": "overlay",
              "size": 10,
              "solidity": 0.2
             }
            },
            "type": "bar"
           }
          ],
          "barpolar": [
           {
            "marker": {
             "line": {
              "color": "#E5ECF6",
              "width": 0.5
             },
             "pattern": {
              "fillmode": "overlay",
              "size": 10,
              "solidity": 0.2
             }
            },
            "type": "barpolar"
           }
          ],
          "carpet": [
           {
            "aaxis": {
             "endlinecolor": "#2a3f5f",
             "gridcolor": "white",
             "linecolor": "white",
             "minorgridcolor": "white",
             "startlinecolor": "#2a3f5f"
            },
            "baxis": {
             "endlinecolor": "#2a3f5f",
             "gridcolor": "white",
             "linecolor": "white",
             "minorgridcolor": "white",
             "startlinecolor": "#2a3f5f"
            },
            "type": "carpet"
           }
          ],
          "choropleth": [
           {
            "colorbar": {
             "outlinewidth": 0,
             "ticks": ""
            },
            "type": "choropleth"
           }
          ],
          "contour": [
           {
            "colorbar": {
             "outlinewidth": 0,
             "ticks": ""
            },
            "colorscale": [
             [
              0,
              "#0d0887"
             ],
             [
              0.1111111111111111,
              "#46039f"
             ],
             [
              0.2222222222222222,
              "#7201a8"
             ],
             [
              0.3333333333333333,
              "#9c179e"
             ],
             [
              0.4444444444444444,
              "#bd3786"
             ],
             [
              0.5555555555555556,
              "#d8576b"
             ],
             [
              0.6666666666666666,
              "#ed7953"
             ],
             [
              0.7777777777777778,
              "#fb9f3a"
             ],
             [
              0.8888888888888888,
              "#fdca26"
             ],
             [
              1,
              "#f0f921"
             ]
            ],
            "type": "contour"
           }
          ],
          "contourcarpet": [
           {
            "colorbar": {
             "outlinewidth": 0,
             "ticks": ""
            },
            "type": "contourcarpet"
           }
          ],
          "heatmap": [
           {
            "colorbar": {
             "outlinewidth": 0,
             "ticks": ""
            },
            "colorscale": [
             [
              0,
              "#0d0887"
             ],
             [
              0.1111111111111111,
              "#46039f"
             ],
             [
              0.2222222222222222,
              "#7201a8"
             ],
             [
              0.3333333333333333,
              "#9c179e"
             ],
             [
              0.4444444444444444,
              "#bd3786"
             ],
             [
              0.5555555555555556,
              "#d8576b"
             ],
             [
              0.6666666666666666,
              "#ed7953"
             ],
             [
              0.7777777777777778,
              "#fb9f3a"
             ],
             [
              0.8888888888888888,
              "#fdca26"
             ],
             [
              1,
              "#f0f921"
             ]
            ],
            "type": "heatmap"
           }
          ],
          "heatmapgl": [
           {
            "colorbar": {
             "outlinewidth": 0,
             "ticks": ""
            },
            "colorscale": [
             [
              0,
              "#0d0887"
             ],
             [
              0.1111111111111111,
              "#46039f"
             ],
             [
              0.2222222222222222,
              "#7201a8"
             ],
             [
              0.3333333333333333,
              "#9c179e"
             ],
             [
              0.4444444444444444,
              "#bd3786"
             ],
             [
              0.5555555555555556,
              "#d8576b"
             ],
             [
              0.6666666666666666,
              "#ed7953"
             ],
             [
              0.7777777777777778,
              "#fb9f3a"
             ],
             [
              0.8888888888888888,
              "#fdca26"
             ],
             [
              1,
              "#f0f921"
             ]
            ],
            "type": "heatmapgl"
           }
          ],
          "histogram": [
           {
            "marker": {
             "pattern": {
              "fillmode": "overlay",
              "size": 10,
              "solidity": 0.2
             }
            },
            "type": "histogram"
           }
          ],
          "histogram2d": [
           {
            "colorbar": {
             "outlinewidth": 0,
             "ticks": ""
            },
            "colorscale": [
             [
              0,
              "#0d0887"
             ],
             [
              0.1111111111111111,
              "#46039f"
             ],
             [
              0.2222222222222222,
              "#7201a8"
             ],
             [
              0.3333333333333333,
              "#9c179e"
             ],
             [
              0.4444444444444444,
              "#bd3786"
             ],
             [
              0.5555555555555556,
              "#d8576b"
             ],
             [
              0.6666666666666666,
              "#ed7953"
             ],
             [
              0.7777777777777778,
              "#fb9f3a"
             ],
             [
              0.8888888888888888,
              "#fdca26"
             ],
             [
              1,
              "#f0f921"
             ]
            ],
            "type": "histogram2d"
           }
          ],
          "histogram2dcontour": [
           {
            "colorbar": {
             "outlinewidth": 0,
             "ticks": ""
            },
            "colorscale": [
             [
              0,
              "#0d0887"
             ],
             [
              0.1111111111111111,
              "#46039f"
             ],
             [
              0.2222222222222222,
              "#7201a8"
             ],
             [
              0.3333333333333333,
              "#9c179e"
             ],
             [
              0.4444444444444444,
              "#bd3786"
             ],
             [
              0.5555555555555556,
              "#d8576b"
             ],
             [
              0.6666666666666666,
              "#ed7953"
             ],
             [
              0.7777777777777778,
              "#fb9f3a"
             ],
             [
              0.8888888888888888,
              "#fdca26"
             ],
             [
              1,
              "#f0f921"
             ]
            ],
            "type": "histogram2dcontour"
           }
          ],
          "mesh3d": [
           {
            "colorbar": {
             "outlinewidth": 0,
             "ticks": ""
            },
            "type": "mesh3d"
           }
          ],
          "parcoords": [
           {
            "line": {
             "colorbar": {
              "outlinewidth": 0,
              "ticks": ""
             }
            },
            "type": "parcoords"
           }
          ],
          "pie": [
           {
            "automargin": true,
            "type": "pie"
           }
          ],
          "scatter": [
           {
            "fillpattern": {
             "fillmode": "overlay",
             "size": 10,
             "solidity": 0.2
            },
            "type": "scatter"
           }
          ],
          "scatter3d": [
           {
            "line": {
             "colorbar": {
              "outlinewidth": 0,
              "ticks": ""
             }
            },
            "marker": {
             "colorbar": {
              "outlinewidth": 0,
              "ticks": ""
             }
            },
            "type": "scatter3d"
           }
          ],
          "scattercarpet": [
           {
            "marker": {
             "colorbar": {
              "outlinewidth": 0,
              "ticks": ""
             }
            },
            "type": "scattercarpet"
           }
          ],
          "scattergeo": [
           {
            "marker": {
             "colorbar": {
              "outlinewidth": 0,
              "ticks": ""
             }
            },
            "type": "scattergeo"
           }
          ],
          "scattergl": [
           {
            "marker": {
             "colorbar": {
              "outlinewidth": 0,
              "ticks": ""
             }
            },
            "type": "scattergl"
           }
          ],
          "scattermapbox": [
           {
            "marker": {
             "colorbar": {
              "outlinewidth": 0,
              "ticks": ""
             }
            },
            "type": "scattermapbox"
           }
          ],
          "scatterpolar": [
           {
            "marker": {
             "colorbar": {
              "outlinewidth": 0,
              "ticks": ""
             }
            },
            "type": "scatterpolar"
           }
          ],
          "scatterpolargl": [
           {
            "marker": {
             "colorbar": {
              "outlinewidth": 0,
              "ticks": ""
             }
            },
            "type": "scatterpolargl"
           }
          ],
          "scatterternary": [
           {
            "marker": {
             "colorbar": {
              "outlinewidth": 0,
              "ticks": ""
             }
            },
            "type": "scatterternary"
           }
          ],
          "surface": [
           {
            "colorbar": {
             "outlinewidth": 0,
             "ticks": ""
            },
            "colorscale": [
             [
              0,
              "#0d0887"
             ],
             [
              0.1111111111111111,
              "#46039f"
             ],
             [
              0.2222222222222222,
              "#7201a8"
             ],
             [
              0.3333333333333333,
              "#9c179e"
             ],
             [
              0.4444444444444444,
              "#bd3786"
             ],
             [
              0.5555555555555556,
              "#d8576b"
             ],
             [
              0.6666666666666666,
              "#ed7953"
             ],
             [
              0.7777777777777778,
              "#fb9f3a"
             ],
             [
              0.8888888888888888,
              "#fdca26"
             ],
             [
              1,
              "#f0f921"
             ]
            ],
            "type": "surface"
           }
          ],
          "table": [
           {
            "cells": {
             "fill": {
              "color": "#EBF0F8"
             },
             "line": {
              "color": "white"
             }
            },
            "header": {
             "fill": {
              "color": "#C8D4E3"
             },
             "line": {
              "color": "white"
             }
            },
            "type": "table"
           }
          ]
         },
         "layout": {
          "annotationdefaults": {
           "arrowcolor": "#2a3f5f",
           "arrowhead": 0,
           "arrowwidth": 1
          },
          "autotypenumbers": "strict",
          "coloraxis": {
           "colorbar": {
            "outlinewidth": 0,
            "ticks": ""
           }
          },
          "colorscale": {
           "diverging": [
            [
             0,
             "#8e0152"
            ],
            [
             0.1,
             "#c51b7d"
            ],
            [
             0.2,
             "#de77ae"
            ],
            [
             0.3,
             "#f1b6da"
            ],
            [
             0.4,
             "#fde0ef"
            ],
            [
             0.5,
             "#f7f7f7"
            ],
            [
             0.6,
             "#e6f5d0"
            ],
            [
             0.7,
             "#b8e186"
            ],
            [
             0.8,
             "#7fbc41"
            ],
            [
             0.9,
             "#4d9221"
            ],
            [
             1,
             "#276419"
            ]
           ],
           "sequential": [
            [
             0,
             "#0d0887"
            ],
            [
             0.1111111111111111,
             "#46039f"
            ],
            [
             0.2222222222222222,
             "#7201a8"
            ],
            [
             0.3333333333333333,
             "#9c179e"
            ],
            [
             0.4444444444444444,
             "#bd3786"
            ],
            [
             0.5555555555555556,
             "#d8576b"
            ],
            [
             0.6666666666666666,
             "#ed7953"
            ],
            [
             0.7777777777777778,
             "#fb9f3a"
            ],
            [
             0.8888888888888888,
             "#fdca26"
            ],
            [
             1,
             "#f0f921"
            ]
           ],
           "sequentialminus": [
            [
             0,
             "#0d0887"
            ],
            [
             0.1111111111111111,
             "#46039f"
            ],
            [
             0.2222222222222222,
             "#7201a8"
            ],
            [
             0.3333333333333333,
             "#9c179e"
            ],
            [
             0.4444444444444444,
             "#bd3786"
            ],
            [
             0.5555555555555556,
             "#d8576b"
            ],
            [
             0.6666666666666666,
             "#ed7953"
            ],
            [
             0.7777777777777778,
             "#fb9f3a"
            ],
            [
             0.8888888888888888,
             "#fdca26"
            ],
            [
             1,
             "#f0f921"
            ]
           ]
          },
          "colorway": [
           "#636efa",
           "#EF553B",
           "#00cc96",
           "#ab63fa",
           "#FFA15A",
           "#19d3f3",
           "#FF6692",
           "#B6E880",
           "#FF97FF",
           "#FECB52"
          ],
          "font": {
           "color": "#2a3f5f"
          },
          "geo": {
           "bgcolor": "white",
           "lakecolor": "white",
           "landcolor": "#E5ECF6",
           "showlakes": true,
           "showland": true,
           "subunitcolor": "white"
          },
          "hoverlabel": {
           "align": "left"
          },
          "hovermode": "closest",
          "mapbox": {
           "style": "light"
          },
          "paper_bgcolor": "white",
          "plot_bgcolor": "#E5ECF6",
          "polar": {
           "angularaxis": {
            "gridcolor": "white",
            "linecolor": "white",
            "ticks": ""
           },
           "bgcolor": "#E5ECF6",
           "radialaxis": {
            "gridcolor": "white",
            "linecolor": "white",
            "ticks": ""
           }
          },
          "scene": {
           "xaxis": {
            "backgroundcolor": "#E5ECF6",
            "gridcolor": "white",
            "gridwidth": 2,
            "linecolor": "white",
            "showbackground": true,
            "ticks": "",
            "zerolinecolor": "white"
           },
           "yaxis": {
            "backgroundcolor": "#E5ECF6",
            "gridcolor": "white",
            "gridwidth": 2,
            "linecolor": "white",
            "showbackground": true,
            "ticks": "",
            "zerolinecolor": "white"
           },
           "zaxis": {
            "backgroundcolor": "#E5ECF6",
            "gridcolor": "white",
            "gridwidth": 2,
            "linecolor": "white",
            "showbackground": true,
            "ticks": "",
            "zerolinecolor": "white"
           }
          },
          "shapedefaults": {
           "line": {
            "color": "#2a3f5f"
           }
          },
          "ternary": {
           "aaxis": {
            "gridcolor": "white",
            "linecolor": "white",
            "ticks": ""
           },
           "baxis": {
            "gridcolor": "white",
            "linecolor": "white",
            "ticks": ""
           },
           "bgcolor": "#E5ECF6",
           "caxis": {
            "gridcolor": "white",
            "linecolor": "white",
            "ticks": ""
           }
          },
          "title": {
           "x": 0.05
          },
          "xaxis": {
           "automargin": true,
           "gridcolor": "white",
           "linecolor": "white",
           "ticks": "",
           "title": {
            "standoff": 15
           },
           "zerolinecolor": "white",
           "zerolinewidth": 2
          },
          "yaxis": {
           "automargin": true,
           "gridcolor": "white",
           "linecolor": "white",
           "ticks": "",
           "title": {
            "standoff": 15
           },
           "zerolinecolor": "white",
           "zerolinewidth": 2
          }
         }
        },
        "title": {
         "text": "Distribuição de resultados para cada alvo com leak=False"
        },
        "xaxis": {
         "anchor": "y",
         "domain": [
          0,
          1
         ],
         "title": {
          "text": "label_col"
         }
        },
        "yaxis": {
         "anchor": "x",
         "domain": [
          0,
          1
         ],
         "title": {
          "text": "R-squared (R2)"
         }
        }
       }
      }
     },
     "metadata": {},
     "output_type": "display_data"
    }
   ],
   "source": [
    "for leak in [True, False]:\n",
    "        \n",
    "    fig = px.box(\n",
    "        macro_clf[macro_clf.leak == leak], x=\"label_col\", \n",
    "        y=\"f1-score\", \n",
    "        points=\"all\", \n",
    "        title = f'Distribuição de resultados para cada alvo com leak={leak}')\n",
    "    \n",
    "    fig.write_image(PATH_REPORTS + f\"/images/box_plot_alvo_models_leak={leak}_clf.png\")\n",
    "    fig.show()\n",
    "\n",
    "for leak in [True, False]:\n",
    "        \n",
    "    fig = px.box(\n",
    "        reg[reg.leak == leak], x=\"label_col\", \n",
    "        y=\"R-squared (R2)\", \n",
    "        points=\"all\", \n",
    "        title = f'Distribuição de resultados para cada alvo com leak={leak}')\n",
    "    \n",
    "    fig.write_image(PATH_REPORTS + f\"/images/box_plot_alvo_models_leak={leak}_reg.png\")\n",
    "    fig.show()"
   ]
  },
  {
   "cell_type": "code",
   "execution_count": 22,
   "metadata": {},
   "outputs": [
    {
     "data": {
      "application/vnd.plotly.v1+json": {
       "config": {
        "plotlyServerURL": "https://plot.ly"
       },
       "data": [
        {
         "alignmentgroup": "True",
         "boxpoints": "all",
         "hovertemplate": "domain=Petróleo<br>asset=%{x}<br>f1-score=%{y}<extra></extra>",
         "legendgroup": "Petróleo",
         "marker": {
          "color": "#636efa"
         },
         "name": "Petróleo",
         "notched": false,
         "offsetgroup": "Petróleo",
         "orientation": "v",
         "showlegend": true,
         "type": "box",
         "x": [
          "PETR3.SA",
          "PETR3.SA",
          "PETR3.SA",
          "PRIO3.SA",
          "PRIO3.SA",
          "PRIO3.SA",
          "PETR3.SA",
          "PETR3.SA",
          "PETR3.SA",
          "PRIO3.SA",
          "PRIO3.SA",
          "PRIO3.SA",
          "PETR3.SA",
          "PETR3.SA",
          "PETR3.SA",
          "PRIO3.SA",
          "PRIO3.SA",
          "PRIO3.SA",
          "PETR3.SA",
          "PETR3.SA",
          "PETR3.SA",
          "PRIO3.SA",
          "PRIO3.SA",
          "PRIO3.SA",
          "PETR3.SA",
          "PETR3.SA",
          "PETR3.SA",
          "PRIO3.SA",
          "PRIO3.SA",
          "PRIO3.SA",
          "PETR3.SA",
          "PETR3.SA",
          "PETR3.SA",
          "PRIO3.SA",
          "PRIO3.SA",
          "PRIO3.SA",
          "PETR3.SA",
          "PETR3.SA",
          "PETR3.SA",
          "PRIO3.SA",
          "PRIO3.SA",
          "PRIO3.SA",
          "PETR3.SA",
          "PETR3.SA",
          "PETR3.SA",
          "PRIO3.SA",
          "PRIO3.SA",
          "PRIO3.SA",
          "PETR3.SA",
          "PETR3.SA",
          "PETR3.SA",
          "PRIO3.SA",
          "PRIO3.SA",
          "PRIO3.SA",
          "PETR3.SA",
          "PETR3.SA",
          "PETR3.SA",
          "PRIO3.SA",
          "PRIO3.SA",
          "PRIO3.SA",
          "PETR3.SA",
          "PETR3.SA",
          "PETR3.SA",
          "PRIO3.SA",
          "PRIO3.SA",
          "PRIO3.SA",
          "PETR3.SA",
          "PETR3.SA",
          "PETR3.SA",
          "PRIO3.SA",
          "PRIO3.SA",
          "PRIO3.SA",
          "PETR3.SA",
          "PETR3.SA",
          "PETR3.SA",
          "PRIO3.SA",
          "PRIO3.SA",
          "PRIO3.SA",
          "PETR3.SA",
          "PETR3.SA",
          "PETR3.SA",
          "PRIO3.SA",
          "PRIO3.SA",
          "PRIO3.SA"
         ],
         "x0": " ",
         "xaxis": "x",
         "y": [
          0.19734,
          0.2184,
          0.24077,
          0.19567,
          0.22422,
          0.27597,
          0.19734,
          0.19932,
          0.2383,
          0.19567,
          0.22351,
          0.27523,
          0.19767,
          0.19944,
          0.2383,
          0.19412,
          0.22279,
          0.27523,
          0.19734,
          0.19958,
          0.2383,
          0.19482,
          0.22084,
          0.27626,
          0.16872,
          0.19722,
          0.23806,
          0.19482,
          0.221,
          0.27544,
          0.16863,
          0.20444,
          0.23643,
          0.19333,
          0.22384,
          0.27124,
          0.19786,
          0.20046,
          0.24086,
          0.19452,
          0.22317,
          0.27031,
          0.16918,
          0.19722,
          0.23535,
          0.19447,
          0.22692,
          0.27058,
          0.19688,
          0.2008,
          0.23826,
          0.19482,
          0.21686,
          0.27234,
          0.19365,
          0.19855,
          0.23625,
          0.19318,
          0.22627,
          0.2707,
          0.19862,
          0.18726,
          0.23634,
          0.19554,
          0.2251,
          0.26581,
          0.1963,
          0.17913,
          0.2313,
          0.19485,
          0.19478,
          0.22661,
          0.19684,
          0.19257,
          0.23098,
          0.19563,
          0.2271,
          0.22683,
          0.32921,
          0.43335,
          0.4854,
          0.34295,
          0.49031,
          0.62055
         ],
         "y0": " ",
         "yaxis": "y"
        },
        {
         "alignmentgroup": "True",
         "boxpoints": "all",
         "hovertemplate": "domain=Mineração<br>asset=%{x}<br>f1-score=%{y}<extra></extra>",
         "legendgroup": "Mineração",
         "marker": {
          "color": "#EF553B"
         },
         "name": "Mineração",
         "notched": false,
         "offsetgroup": "Mineração",
         "orientation": "v",
         "showlegend": true,
         "type": "box",
         "x": [
          "VALE3.SA",
          "VALE3.SA",
          "VALE3.SA",
          "GGBR3.SA",
          "GGBR3.SA",
          "GGBR3.SA",
          "VALE3.SA",
          "VALE3.SA",
          "VALE3.SA",
          "GGBR3.SA",
          "GGBR3.SA",
          "GGBR3.SA",
          "VALE3.SA",
          "VALE3.SA",
          "VALE3.SA",
          "GGBR3.SA",
          "GGBR3.SA",
          "GGBR3.SA",
          "VALE3.SA",
          "VALE3.SA",
          "VALE3.SA",
          "GGBR3.SA",
          "GGBR3.SA",
          "GGBR3.SA",
          "VALE3.SA",
          "VALE3.SA",
          "VALE3.SA",
          "GGBR3.SA",
          "GGBR3.SA",
          "GGBR3.SA",
          "VALE3.SA",
          "VALE3.SA",
          "VALE3.SA",
          "GGBR3.SA",
          "GGBR3.SA",
          "GGBR3.SA",
          "VALE3.SA",
          "VALE3.SA",
          "VALE3.SA",
          "GGBR3.SA",
          "GGBR3.SA",
          "GGBR3.SA",
          "VALE3.SA",
          "VALE3.SA",
          "VALE3.SA",
          "GGBR3.SA",
          "GGBR3.SA",
          "GGBR3.SA",
          "VALE3.SA",
          "VALE3.SA",
          "VALE3.SA",
          "GGBR3.SA",
          "GGBR3.SA",
          "GGBR3.SA",
          "VALE3.SA",
          "VALE3.SA",
          "VALE3.SA",
          "GGBR3.SA",
          "GGBR3.SA",
          "GGBR3.SA",
          "VALE3.SA",
          "VALE3.SA",
          "VALE3.SA",
          "GGBR3.SA",
          "GGBR3.SA",
          "GGBR3.SA",
          "VALE3.SA",
          "VALE3.SA",
          "VALE3.SA",
          "GGBR3.SA",
          "GGBR3.SA",
          "GGBR3.SA",
          "VALE3.SA",
          "VALE3.SA",
          "VALE3.SA",
          "GGBR3.SA",
          "GGBR3.SA",
          "GGBR3.SA",
          "VALE3.SA",
          "VALE3.SA",
          "VALE3.SA",
          "GGBR3.SA",
          "GGBR3.SA",
          "GGBR3.SA"
         ],
         "x0": " ",
         "xaxis": "x",
         "y": [
          0.20169,
          0.25291,
          0.22576,
          0.19994,
          0.19279,
          0.21391,
          0.20072,
          0.2551,
          0.22854,
          0.19994,
          0.22906,
          0.19916,
          0.20072,
          0.29762,
          0.22854,
          0.19947,
          0.24162,
          0.20767,
          0.20072,
          0.2551,
          0.22773,
          0.20027,
          0.23155,
          0.19967,
          0.20038,
          0.25421,
          0.22587,
          0.19899,
          0.22849,
          0.19959,
          0.20138,
          0.25239,
          0.22672,
          0.19979,
          0.22479,
          0.19644,
          0.19781,
          0.24726,
          0.23123,
          0.19899,
          0.22906,
          0.19801,
          0.2014,
          0.25648,
          0.22336,
          0.19675,
          0.22934,
          0.20732,
          0.20124,
          0.25226,
          0.2235,
          0.19786,
          0.2407,
          0.20185,
          0.20095,
          0.24518,
          0.218,
          0.19983,
          0.23603,
          0.2058,
          0.19965,
          0.25441,
          0.27114,
          0.19836,
          0.2407,
          0.19757,
          0.20045,
          0.24931,
          0.22448,
          0.19863,
          0.24248,
          0.20604,
          0.20041,
          0.25166,
          0.21541,
          0.19943,
          0.23632,
          0.20513,
          0.40358,
          0.55919,
          0.45227,
          0.34118,
          0.52891,
          0.42427
         ],
         "y0": " ",
         "yaxis": "y"
        },
        {
         "alignmentgroup": "True",
         "boxpoints": "all",
         "hovertemplate": "domain=Financeiro<br>asset=%{x}<br>f1-score=%{y}<extra></extra>",
         "legendgroup": "Financeiro",
         "marker": {
          "color": "#00cc96"
         },
         "name": "Financeiro",
         "notched": false,
         "offsetgroup": "Financeiro",
         "orientation": "v",
         "showlegend": true,
         "type": "box",
         "x": [
          "ABCB4.SA",
          "ABCB4.SA",
          "ABCB4.SA",
          "ITUB3.SA",
          "ITUB3.SA",
          "ITUB3.SA",
          "ABCB4.SA",
          "ABCB4.SA",
          "ABCB4.SA",
          "ITUB3.SA",
          "ITUB3.SA",
          "ITUB3.SA",
          "ABCB4.SA",
          "ABCB4.SA",
          "ABCB4.SA",
          "ITUB3.SA",
          "ITUB3.SA",
          "ITUB3.SA",
          "ABCB4.SA",
          "ABCB4.SA",
          "ABCB4.SA",
          "ITUB3.SA",
          "ITUB3.SA",
          "ITUB3.SA",
          "ABCB4.SA",
          "ABCB4.SA",
          "ABCB4.SA",
          "ITUB3.SA",
          "ITUB3.SA",
          "ITUB3.SA",
          "ABCB4.SA",
          "ABCB4.SA",
          "ABCB4.SA",
          "ITUB3.SA",
          "ITUB3.SA",
          "ITUB3.SA",
          "ABCB4.SA",
          "ABCB4.SA",
          "ABCB4.SA",
          "ITUB3.SA",
          "ITUB3.SA",
          "ITUB3.SA",
          "ABCB4.SA",
          "ABCB4.SA",
          "ABCB4.SA",
          "ITUB3.SA",
          "ITUB3.SA",
          "ITUB3.SA",
          "ABCB4.SA",
          "ABCB4.SA",
          "ABCB4.SA",
          "ITUB3.SA",
          "ITUB3.SA",
          "ITUB3.SA",
          "ABCB4.SA",
          "ABCB4.SA",
          "ABCB4.SA",
          "ITUB3.SA",
          "ITUB3.SA",
          "ITUB3.SA",
          "ABCB4.SA",
          "ABCB4.SA",
          "ABCB4.SA",
          "ITUB3.SA",
          "ITUB3.SA",
          "ITUB3.SA",
          "ABCB4.SA",
          "ABCB4.SA",
          "ABCB4.SA",
          "ITUB3.SA",
          "ITUB3.SA",
          "ITUB3.SA",
          "ABCB4.SA",
          "ABCB4.SA",
          "ABCB4.SA",
          "ITUB3.SA",
          "ITUB3.SA",
          "ITUB3.SA",
          "ABCB4.SA",
          "ABCB4.SA",
          "ABCB4.SA",
          "ITUB3.SA",
          "ITUB3.SA",
          "ITUB3.SA"
         ],
         "x0": " ",
         "xaxis": "x",
         "y": [
          0.20128,
          0.21474,
          0.21167,
          0.20212,
          0.20674,
          0.21594,
          0.20145,
          0.21527,
          0.21167,
          0.20212,
          0.20768,
          0.21594,
          0.20145,
          0.21539,
          0.21167,
          0.20212,
          0.20768,
          0.21594,
          0.20193,
          0.21898,
          0.21167,
          0.19944,
          0.20695,
          0.21594,
          0.20145,
          0.21808,
          0.21143,
          0.20127,
          0.19587,
          0.21358,
          0.20131,
          0.21275,
          0.21167,
          0.20126,
          0.20827,
          0.21276,
          0.20195,
          0.21505,
          0.2129,
          0.20043,
          0.20413,
          0.21069,
          0.20195,
          0.2216,
          0.18774,
          0.20042,
          0.21132,
          0.20217,
          0.20302,
          0.21261,
          0.18957,
          0.20114,
          0.20503,
          0.20648,
          0.19876,
          0.2207,
          0.21294,
          0.19992,
          0.21326,
          0.19181,
          0.20206,
          0.2173,
          0.21065,
          0.20051,
          0.18128,
          0.19229,
          0.20223,
          0.21782,
          0.21383,
          0.19933,
          0.20976,
          0.19245,
          0.2037,
          0.22178,
          0.21119,
          0.19886,
          0.18727,
          0.19966,
          0.35303,
          0.47122,
          0.44868,
          0.35265,
          0.46056,
          0.45817
         ],
         "y0": " ",
         "yaxis": "y"
        },
        {
         "alignmentgroup": "True",
         "boxpoints": "all",
         "hovertemplate": "domain=Saúde<br>asset=%{x}<br>f1-score=%{y}<extra></extra>",
         "legendgroup": "Saúde",
         "marker": {
          "color": "#ab63fa"
         },
         "name": "Saúde",
         "notched": false,
         "offsetgroup": "Saúde",
         "orientation": "v",
         "showlegend": true,
         "type": "box",
         "x": [
          "FLRY3.SA",
          "FLRY3.SA",
          "FLRY3.SA",
          "RADL3.SA",
          "RADL3.SA",
          "RADL3.SA",
          "FLRY3.SA",
          "FLRY3.SA",
          "FLRY3.SA",
          "RADL3.SA",
          "RADL3.SA",
          "RADL3.SA",
          "FLRY3.SA",
          "FLRY3.SA",
          "FLRY3.SA",
          "RADL3.SA",
          "RADL3.SA",
          "RADL3.SA",
          "FLRY3.SA",
          "FLRY3.SA",
          "FLRY3.SA",
          "RADL3.SA",
          "RADL3.SA",
          "RADL3.SA",
          "FLRY3.SA",
          "FLRY3.SA",
          "FLRY3.SA",
          "RADL3.SA",
          "RADL3.SA",
          "RADL3.SA",
          "FLRY3.SA",
          "FLRY3.SA",
          "FLRY3.SA",
          "RADL3.SA",
          "RADL3.SA",
          "RADL3.SA",
          "FLRY3.SA",
          "FLRY3.SA",
          "FLRY3.SA",
          "RADL3.SA",
          "RADL3.SA",
          "RADL3.SA",
          "FLRY3.SA",
          "FLRY3.SA",
          "FLRY3.SA",
          "RADL3.SA",
          "RADL3.SA",
          "RADL3.SA",
          "FLRY3.SA",
          "FLRY3.SA",
          "FLRY3.SA",
          "RADL3.SA",
          "RADL3.SA",
          "RADL3.SA",
          "FLRY3.SA",
          "FLRY3.SA",
          "FLRY3.SA",
          "RADL3.SA",
          "RADL3.SA",
          "RADL3.SA",
          "FLRY3.SA",
          "FLRY3.SA",
          "FLRY3.SA",
          "RADL3.SA",
          "RADL3.SA",
          "RADL3.SA",
          "FLRY3.SA",
          "FLRY3.SA",
          "FLRY3.SA",
          "RADL3.SA",
          "RADL3.SA",
          "RADL3.SA",
          "FLRY3.SA",
          "FLRY3.SA",
          "FLRY3.SA",
          "RADL3.SA",
          "RADL3.SA",
          "RADL3.SA",
          "FLRY3.SA",
          "FLRY3.SA",
          "FLRY3.SA",
          "RADL3.SA",
          "RADL3.SA",
          "RADL3.SA"
         ],
         "x0": " ",
         "xaxis": "x",
         "y": [
          0.18289,
          0.20856,
          0.23604,
          0.18621,
          0.21425,
          0.23556,
          0.18289,
          0.18449,
          0.23831,
          0.15961,
          0.21409,
          0.23556,
          0.18245,
          0.18667,
          0.23604,
          0.16039,
          0.21389,
          0.23428,
          0.18085,
          0.18105,
          0.23831,
          0.15993,
          0.21471,
          0.23428,
          0.18214,
          0.17475,
          0.23176,
          0.1598,
          0.21586,
          0.23556,
          0.18218,
          0.1832,
          0.2368,
          0.15993,
          0.21639,
          0.23556,
          0.18282,
          0.18864,
          0.23892,
          0.15792,
          0.21478,
          0.2362,
          0.18099,
          0.17185,
          0.23624,
          0.15961,
          0.20425,
          0.22968,
          0.18242,
          0.18131,
          0.23601,
          0.16032,
          0.20213,
          0.23952,
          0.17988,
          0.18553,
          0.2321,
          0.16032,
          0.21586,
          0.24314,
          0.18224,
          0.17422,
          0.20408,
          0.15867,
          0.21075,
          0.24377,
          0.18176,
          0.15818,
          0.23542,
          0.18401,
          0.19993,
          0.24355,
          0.17989,
          0.1594,
          0.2142,
          0.16188,
          0.2038,
          0.24285,
          0.32914,
          0.3759,
          0.47951,
          0.33462,
          0.5045,
          0.51656
         ],
         "y0": " ",
         "yaxis": "y"
        }
       ],
       "layout": {
        "boxmode": "group",
        "legend": {
         "title": {
          "text": "domain"
         },
         "tracegroupgap": 0
        },
        "template": {
         "data": {
          "bar": [
           {
            "error_x": {
             "color": "#2a3f5f"
            },
            "error_y": {
             "color": "#2a3f5f"
            },
            "marker": {
             "line": {
              "color": "#E5ECF6",
              "width": 0.5
             },
             "pattern": {
              "fillmode": "overlay",
              "size": 10,
              "solidity": 0.2
             }
            },
            "type": "bar"
           }
          ],
          "barpolar": [
           {
            "marker": {
             "line": {
              "color": "#E5ECF6",
              "width": 0.5
             },
             "pattern": {
              "fillmode": "overlay",
              "size": 10,
              "solidity": 0.2
             }
            },
            "type": "barpolar"
           }
          ],
          "carpet": [
           {
            "aaxis": {
             "endlinecolor": "#2a3f5f",
             "gridcolor": "white",
             "linecolor": "white",
             "minorgridcolor": "white",
             "startlinecolor": "#2a3f5f"
            },
            "baxis": {
             "endlinecolor": "#2a3f5f",
             "gridcolor": "white",
             "linecolor": "white",
             "minorgridcolor": "white",
             "startlinecolor": "#2a3f5f"
            },
            "type": "carpet"
           }
          ],
          "choropleth": [
           {
            "colorbar": {
             "outlinewidth": 0,
             "ticks": ""
            },
            "type": "choropleth"
           }
          ],
          "contour": [
           {
            "colorbar": {
             "outlinewidth": 0,
             "ticks": ""
            },
            "colorscale": [
             [
              0,
              "#0d0887"
             ],
             [
              0.1111111111111111,
              "#46039f"
             ],
             [
              0.2222222222222222,
              "#7201a8"
             ],
             [
              0.3333333333333333,
              "#9c179e"
             ],
             [
              0.4444444444444444,
              "#bd3786"
             ],
             [
              0.5555555555555556,
              "#d8576b"
             ],
             [
              0.6666666666666666,
              "#ed7953"
             ],
             [
              0.7777777777777778,
              "#fb9f3a"
             ],
             [
              0.8888888888888888,
              "#fdca26"
             ],
             [
              1,
              "#f0f921"
             ]
            ],
            "type": "contour"
           }
          ],
          "contourcarpet": [
           {
            "colorbar": {
             "outlinewidth": 0,
             "ticks": ""
            },
            "type": "contourcarpet"
           }
          ],
          "heatmap": [
           {
            "colorbar": {
             "outlinewidth": 0,
             "ticks": ""
            },
            "colorscale": [
             [
              0,
              "#0d0887"
             ],
             [
              0.1111111111111111,
              "#46039f"
             ],
             [
              0.2222222222222222,
              "#7201a8"
             ],
             [
              0.3333333333333333,
              "#9c179e"
             ],
             [
              0.4444444444444444,
              "#bd3786"
             ],
             [
              0.5555555555555556,
              "#d8576b"
             ],
             [
              0.6666666666666666,
              "#ed7953"
             ],
             [
              0.7777777777777778,
              "#fb9f3a"
             ],
             [
              0.8888888888888888,
              "#fdca26"
             ],
             [
              1,
              "#f0f921"
             ]
            ],
            "type": "heatmap"
           }
          ],
          "heatmapgl": [
           {
            "colorbar": {
             "outlinewidth": 0,
             "ticks": ""
            },
            "colorscale": [
             [
              0,
              "#0d0887"
             ],
             [
              0.1111111111111111,
              "#46039f"
             ],
             [
              0.2222222222222222,
              "#7201a8"
             ],
             [
              0.3333333333333333,
              "#9c179e"
             ],
             [
              0.4444444444444444,
              "#bd3786"
             ],
             [
              0.5555555555555556,
              "#d8576b"
             ],
             [
              0.6666666666666666,
              "#ed7953"
             ],
             [
              0.7777777777777778,
              "#fb9f3a"
             ],
             [
              0.8888888888888888,
              "#fdca26"
             ],
             [
              1,
              "#f0f921"
             ]
            ],
            "type": "heatmapgl"
           }
          ],
          "histogram": [
           {
            "marker": {
             "pattern": {
              "fillmode": "overlay",
              "size": 10,
              "solidity": 0.2
             }
            },
            "type": "histogram"
           }
          ],
          "histogram2d": [
           {
            "colorbar": {
             "outlinewidth": 0,
             "ticks": ""
            },
            "colorscale": [
             [
              0,
              "#0d0887"
             ],
             [
              0.1111111111111111,
              "#46039f"
             ],
             [
              0.2222222222222222,
              "#7201a8"
             ],
             [
              0.3333333333333333,
              "#9c179e"
             ],
             [
              0.4444444444444444,
              "#bd3786"
             ],
             [
              0.5555555555555556,
              "#d8576b"
             ],
             [
              0.6666666666666666,
              "#ed7953"
             ],
             [
              0.7777777777777778,
              "#fb9f3a"
             ],
             [
              0.8888888888888888,
              "#fdca26"
             ],
             [
              1,
              "#f0f921"
             ]
            ],
            "type": "histogram2d"
           }
          ],
          "histogram2dcontour": [
           {
            "colorbar": {
             "outlinewidth": 0,
             "ticks": ""
            },
            "colorscale": [
             [
              0,
              "#0d0887"
             ],
             [
              0.1111111111111111,
              "#46039f"
             ],
             [
              0.2222222222222222,
              "#7201a8"
             ],
             [
              0.3333333333333333,
              "#9c179e"
             ],
             [
              0.4444444444444444,
              "#bd3786"
             ],
             [
              0.5555555555555556,
              "#d8576b"
             ],
             [
              0.6666666666666666,
              "#ed7953"
             ],
             [
              0.7777777777777778,
              "#fb9f3a"
             ],
             [
              0.8888888888888888,
              "#fdca26"
             ],
             [
              1,
              "#f0f921"
             ]
            ],
            "type": "histogram2dcontour"
           }
          ],
          "mesh3d": [
           {
            "colorbar": {
             "outlinewidth": 0,
             "ticks": ""
            },
            "type": "mesh3d"
           }
          ],
          "parcoords": [
           {
            "line": {
             "colorbar": {
              "outlinewidth": 0,
              "ticks": ""
             }
            },
            "type": "parcoords"
           }
          ],
          "pie": [
           {
            "automargin": true,
            "type": "pie"
           }
          ],
          "scatter": [
           {
            "fillpattern": {
             "fillmode": "overlay",
             "size": 10,
             "solidity": 0.2
            },
            "type": "scatter"
           }
          ],
          "scatter3d": [
           {
            "line": {
             "colorbar": {
              "outlinewidth": 0,
              "ticks": ""
             }
            },
            "marker": {
             "colorbar": {
              "outlinewidth": 0,
              "ticks": ""
             }
            },
            "type": "scatter3d"
           }
          ],
          "scattercarpet": [
           {
            "marker": {
             "colorbar": {
              "outlinewidth": 0,
              "ticks": ""
             }
            },
            "type": "scattercarpet"
           }
          ],
          "scattergeo": [
           {
            "marker": {
             "colorbar": {
              "outlinewidth": 0,
              "ticks": ""
             }
            },
            "type": "scattergeo"
           }
          ],
          "scattergl": [
           {
            "marker": {
             "colorbar": {
              "outlinewidth": 0,
              "ticks": ""
             }
            },
            "type": "scattergl"
           }
          ],
          "scattermapbox": [
           {
            "marker": {
             "colorbar": {
              "outlinewidth": 0,
              "ticks": ""
             }
            },
            "type": "scattermapbox"
           }
          ],
          "scatterpolar": [
           {
            "marker": {
             "colorbar": {
              "outlinewidth": 0,
              "ticks": ""
             }
            },
            "type": "scatterpolar"
           }
          ],
          "scatterpolargl": [
           {
            "marker": {
             "colorbar": {
              "outlinewidth": 0,
              "ticks": ""
             }
            },
            "type": "scatterpolargl"
           }
          ],
          "scatterternary": [
           {
            "marker": {
             "colorbar": {
              "outlinewidth": 0,
              "ticks": ""
             }
            },
            "type": "scatterternary"
           }
          ],
          "surface": [
           {
            "colorbar": {
             "outlinewidth": 0,
             "ticks": ""
            },
            "colorscale": [
             [
              0,
              "#0d0887"
             ],
             [
              0.1111111111111111,
              "#46039f"
             ],
             [
              0.2222222222222222,
              "#7201a8"
             ],
             [
              0.3333333333333333,
              "#9c179e"
             ],
             [
              0.4444444444444444,
              "#bd3786"
             ],
             [
              0.5555555555555556,
              "#d8576b"
             ],
             [
              0.6666666666666666,
              "#ed7953"
             ],
             [
              0.7777777777777778,
              "#fb9f3a"
             ],
             [
              0.8888888888888888,
              "#fdca26"
             ],
             [
              1,
              "#f0f921"
             ]
            ],
            "type": "surface"
           }
          ],
          "table": [
           {
            "cells": {
             "fill": {
              "color": "#EBF0F8"
             },
             "line": {
              "color": "white"
             }
            },
            "header": {
             "fill": {
              "color": "#C8D4E3"
             },
             "line": {
              "color": "white"
             }
            },
            "type": "table"
           }
          ]
         },
         "layout": {
          "annotationdefaults": {
           "arrowcolor": "#2a3f5f",
           "arrowhead": 0,
           "arrowwidth": 1
          },
          "autotypenumbers": "strict",
          "coloraxis": {
           "colorbar": {
            "outlinewidth": 0,
            "ticks": ""
           }
          },
          "colorscale": {
           "diverging": [
            [
             0,
             "#8e0152"
            ],
            [
             0.1,
             "#c51b7d"
            ],
            [
             0.2,
             "#de77ae"
            ],
            [
             0.3,
             "#f1b6da"
            ],
            [
             0.4,
             "#fde0ef"
            ],
            [
             0.5,
             "#f7f7f7"
            ],
            [
             0.6,
             "#e6f5d0"
            ],
            [
             0.7,
             "#b8e186"
            ],
            [
             0.8,
             "#7fbc41"
            ],
            [
             0.9,
             "#4d9221"
            ],
            [
             1,
             "#276419"
            ]
           ],
           "sequential": [
            [
             0,
             "#0d0887"
            ],
            [
             0.1111111111111111,
             "#46039f"
            ],
            [
             0.2222222222222222,
             "#7201a8"
            ],
            [
             0.3333333333333333,
             "#9c179e"
            ],
            [
             0.4444444444444444,
             "#bd3786"
            ],
            [
             0.5555555555555556,
             "#d8576b"
            ],
            [
             0.6666666666666666,
             "#ed7953"
            ],
            [
             0.7777777777777778,
             "#fb9f3a"
            ],
            [
             0.8888888888888888,
             "#fdca26"
            ],
            [
             1,
             "#f0f921"
            ]
           ],
           "sequentialminus": [
            [
             0,
             "#0d0887"
            ],
            [
             0.1111111111111111,
             "#46039f"
            ],
            [
             0.2222222222222222,
             "#7201a8"
            ],
            [
             0.3333333333333333,
             "#9c179e"
            ],
            [
             0.4444444444444444,
             "#bd3786"
            ],
            [
             0.5555555555555556,
             "#d8576b"
            ],
            [
             0.6666666666666666,
             "#ed7953"
            ],
            [
             0.7777777777777778,
             "#fb9f3a"
            ],
            [
             0.8888888888888888,
             "#fdca26"
            ],
            [
             1,
             "#f0f921"
            ]
           ]
          },
          "colorway": [
           "#636efa",
           "#EF553B",
           "#00cc96",
           "#ab63fa",
           "#FFA15A",
           "#19d3f3",
           "#FF6692",
           "#B6E880",
           "#FF97FF",
           "#FECB52"
          ],
          "font": {
           "color": "#2a3f5f"
          },
          "geo": {
           "bgcolor": "white",
           "lakecolor": "white",
           "landcolor": "#E5ECF6",
           "showlakes": true,
           "showland": true,
           "subunitcolor": "white"
          },
          "hoverlabel": {
           "align": "left"
          },
          "hovermode": "closest",
          "mapbox": {
           "style": "light"
          },
          "paper_bgcolor": "white",
          "plot_bgcolor": "#E5ECF6",
          "polar": {
           "angularaxis": {
            "gridcolor": "white",
            "linecolor": "white",
            "ticks": ""
           },
           "bgcolor": "#E5ECF6",
           "radialaxis": {
            "gridcolor": "white",
            "linecolor": "white",
            "ticks": ""
           }
          },
          "scene": {
           "xaxis": {
            "backgroundcolor": "#E5ECF6",
            "gridcolor": "white",
            "gridwidth": 2,
            "linecolor": "white",
            "showbackground": true,
            "ticks": "",
            "zerolinecolor": "white"
           },
           "yaxis": {
            "backgroundcolor": "#E5ECF6",
            "gridcolor": "white",
            "gridwidth": 2,
            "linecolor": "white",
            "showbackground": true,
            "ticks": "",
            "zerolinecolor": "white"
           },
           "zaxis": {
            "backgroundcolor": "#E5ECF6",
            "gridcolor": "white",
            "gridwidth": 2,
            "linecolor": "white",
            "showbackground": true,
            "ticks": "",
            "zerolinecolor": "white"
           }
          },
          "shapedefaults": {
           "line": {
            "color": "#2a3f5f"
           }
          },
          "ternary": {
           "aaxis": {
            "gridcolor": "white",
            "linecolor": "white",
            "ticks": ""
           },
           "baxis": {
            "gridcolor": "white",
            "linecolor": "white",
            "ticks": ""
           },
           "bgcolor": "#E5ECF6",
           "caxis": {
            "gridcolor": "white",
            "linecolor": "white",
            "ticks": ""
           }
          },
          "title": {
           "x": 0.05
          },
          "xaxis": {
           "automargin": true,
           "gridcolor": "white",
           "linecolor": "white",
           "ticks": "",
           "title": {
            "standoff": 15
           },
           "zerolinecolor": "white",
           "zerolinewidth": 2
          },
          "yaxis": {
           "automargin": true,
           "gridcolor": "white",
           "linecolor": "white",
           "ticks": "",
           "title": {
            "standoff": 15
           },
           "zerolinecolor": "white",
           "zerolinewidth": 2
          }
         }
        },
        "title": {
         "text": "Distribuição de resultados para cada ativo com leak=True"
        },
        "xaxis": {
         "anchor": "y",
         "domain": [
          0,
          1
         ],
         "title": {
          "text": "asset"
         }
        },
        "yaxis": {
         "anchor": "x",
         "domain": [
          0,
          1
         ],
         "title": {
          "text": "f1-score"
         }
        }
       }
      }
     },
     "metadata": {},
     "output_type": "display_data"
    },
    {
     "data": {
      "application/vnd.plotly.v1+json": {
       "config": {
        "plotlyServerURL": "https://plot.ly"
       },
       "data": [
        {
         "alignmentgroup": "True",
         "boxpoints": "all",
         "hovertemplate": "domain=Petróleo<br>asset=%{x}<br>f1-score=%{y}<extra></extra>",
         "legendgroup": "Petróleo",
         "marker": {
          "color": "#636efa"
         },
         "name": "Petróleo",
         "notched": false,
         "offsetgroup": "Petróleo",
         "orientation": "v",
         "showlegend": true,
         "type": "box",
         "x": [
          "PETR3.SA",
          "PETR3.SA",
          "PETR3.SA",
          "PRIO3.SA",
          "PRIO3.SA",
          "PRIO3.SA",
          "PETR3.SA",
          "PETR3.SA",
          "PETR3.SA",
          "PRIO3.SA",
          "PRIO3.SA",
          "PRIO3.SA",
          "PETR3.SA",
          "PETR3.SA",
          "PETR3.SA",
          "PRIO3.SA",
          "PRIO3.SA",
          "PRIO3.SA",
          "PETR3.SA",
          "PETR3.SA",
          "PETR3.SA",
          "PRIO3.SA",
          "PRIO3.SA",
          "PRIO3.SA",
          "PETR3.SA",
          "PETR3.SA",
          "PETR3.SA",
          "PRIO3.SA",
          "PRIO3.SA",
          "PRIO3.SA",
          "PETR3.SA",
          "PETR3.SA",
          "PETR3.SA",
          "PRIO3.SA",
          "PRIO3.SA",
          "PRIO3.SA",
          "PETR3.SA",
          "PETR3.SA",
          "PETR3.SA",
          "PRIO3.SA",
          "PRIO3.SA",
          "PRIO3.SA",
          "PETR3.SA",
          "PETR3.SA",
          "PETR3.SA",
          "PRIO3.SA",
          "PRIO3.SA",
          "PRIO3.SA",
          "PETR3.SA",
          "PETR3.SA",
          "PETR3.SA",
          "PRIO3.SA",
          "PRIO3.SA",
          "PRIO3.SA",
          "PETR3.SA",
          "PETR3.SA",
          "PETR3.SA",
          "PRIO3.SA",
          "PRIO3.SA",
          "PRIO3.SA",
          "PETR3.SA",
          "PETR3.SA",
          "PETR3.SA",
          "PRIO3.SA",
          "PRIO3.SA",
          "PRIO3.SA",
          "PETR3.SA",
          "PETR3.SA",
          "PETR3.SA",
          "PRIO3.SA",
          "PRIO3.SA",
          "PRIO3.SA",
          "PETR3.SA",
          "PETR3.SA",
          "PETR3.SA",
          "PRIO3.SA",
          "PRIO3.SA",
          "PRIO3.SA",
          "PETR3.SA",
          "PETR3.SA",
          "PETR3.SA",
          "PRIO3.SA",
          "PRIO3.SA",
          "PRIO3.SA"
         ],
         "x0": " ",
         "xaxis": "x",
         "y": [
          0.2399,
          0.27135,
          0.2805,
          0.24086,
          0.28943,
          0.32599,
          0.23935,
          0.25308,
          0.27791,
          0.24086,
          0.28805,
          0.3255,
          0.20513,
          0.25314,
          0.27791,
          0.27907,
          0.28759,
          0.32354,
          0.23935,
          0.25325,
          0.27759,
          0.28193,
          0.28743,
          0.32435,
          0.20486,
          0.24808,
          0.27654,
          0.26226,
          0.28755,
          0.28237,
          0.20485,
          0.251,
          0.27573,
          0.23906,
          0.28866,
          0.31942,
          0.20541,
          0.23814,
          0.27831,
          0.23943,
          0.28739,
          0.31775,
          0.20494,
          0.23964,
          0.27444,
          0.23937,
          0.28399,
          0.31968,
          0.23975,
          0.24098,
          0.27827,
          0.23947,
          0.27866,
          0.32119,
          0.23576,
          0.25252,
          0.27402,
          0.23914,
          0.28386,
          0.31977,
          0.24114,
          0.2335,
          0.26828,
          0.23993,
          0.27771,
          0.31653,
          0.23955,
          0.22083,
          0.26916,
          0.24003,
          0.24665,
          0.27285,
          0.24092,
          0.24435,
          0.2647,
          0.23583,
          0.28275,
          0.27402,
          0.53916,
          0.66773,
          0.70415,
          0.48352,
          0.65342,
          0.74289
         ],
         "y0": " ",
         "yaxis": "y"
        },
        {
         "alignmentgroup": "True",
         "boxpoints": "all",
         "hovertemplate": "domain=Mineração<br>asset=%{x}<br>f1-score=%{y}<extra></extra>",
         "legendgroup": "Mineração",
         "marker": {
          "color": "#EF553B"
         },
         "name": "Mineração",
         "notched": false,
         "offsetgroup": "Mineração",
         "orientation": "v",
         "showlegend": true,
         "type": "box",
         "x": [
          "VALE3.SA",
          "VALE3.SA",
          "VALE3.SA",
          "GGBR3.SA",
          "GGBR3.SA",
          "GGBR3.SA",
          "VALE3.SA",
          "VALE3.SA",
          "VALE3.SA",
          "GGBR3.SA",
          "GGBR3.SA",
          "GGBR3.SA",
          "VALE3.SA",
          "VALE3.SA",
          "VALE3.SA",
          "GGBR3.SA",
          "GGBR3.SA",
          "GGBR3.SA",
          "VALE3.SA",
          "VALE3.SA",
          "VALE3.SA",
          "GGBR3.SA",
          "GGBR3.SA",
          "GGBR3.SA",
          "VALE3.SA",
          "VALE3.SA",
          "VALE3.SA",
          "GGBR3.SA",
          "GGBR3.SA",
          "GGBR3.SA",
          "VALE3.SA",
          "VALE3.SA",
          "VALE3.SA",
          "GGBR3.SA",
          "GGBR3.SA",
          "GGBR3.SA",
          "VALE3.SA",
          "VALE3.SA",
          "VALE3.SA",
          "GGBR3.SA",
          "GGBR3.SA",
          "GGBR3.SA",
          "VALE3.SA",
          "VALE3.SA",
          "VALE3.SA",
          "GGBR3.SA",
          "GGBR3.SA",
          "GGBR3.SA",
          "VALE3.SA",
          "VALE3.SA",
          "VALE3.SA",
          "GGBR3.SA",
          "GGBR3.SA",
          "GGBR3.SA",
          "VALE3.SA",
          "VALE3.SA",
          "VALE3.SA",
          "GGBR3.SA",
          "GGBR3.SA",
          "GGBR3.SA",
          "VALE3.SA",
          "VALE3.SA",
          "VALE3.SA",
          "GGBR3.SA",
          "GGBR3.SA",
          "GGBR3.SA",
          "VALE3.SA",
          "VALE3.SA",
          "VALE3.SA",
          "GGBR3.SA",
          "GGBR3.SA",
          "GGBR3.SA",
          "VALE3.SA",
          "VALE3.SA",
          "VALE3.SA",
          "GGBR3.SA",
          "GGBR3.SA",
          "GGBR3.SA",
          "VALE3.SA",
          "VALE3.SA",
          "VALE3.SA",
          "GGBR3.SA",
          "GGBR3.SA",
          "GGBR3.SA"
         ],
         "x0": " ",
         "xaxis": "x",
         "y": [
          0.24112,
          0.30994,
          0.25919,
          0.24251,
          0.21707,
          0.25349,
          0.24048,
          0.30401,
          0.2592,
          0.24238,
          0.29219,
          0.2356,
          0.24048,
          0.30401,
          0.2592,
          0.24152,
          0.30832,
          0.24787,
          0.24048,
          0.30401,
          0.25818,
          0.2426,
          0.30115,
          0.23747,
          0.24006,
          0.30345,
          0.25682,
          0.24056,
          0.29517,
          0.23743,
          0.24096,
          0.3031,
          0.25738,
          0.24226,
          0.28411,
          0.23345,
          0.23655,
          0.29887,
          0.26076,
          0.26715,
          0.29219,
          0.23391,
          0.24058,
          0.30935,
          0.25504,
          0.23952,
          0.28886,
          0.24054,
          0.24209,
          0.30035,
          0.25691,
          0.23853,
          0.30126,
          0.23426,
          0.24081,
          0.2801,
          0.29891,
          0.2414,
          0.28848,
          0.23865,
          0.23827,
          0.30164,
          0.30845,
          0.23975,
          0.30165,
          0.2362,
          0.23948,
          0.28561,
          0.25479,
          0.26064,
          0.30824,
          0.24153,
          0.24166,
          0.30787,
          0.24985,
          0.24059,
          0.28096,
          0.23862,
          0.60386,
          0.70389,
          0.70641,
          0.52066,
          0.69012,
          0.66179
         ],
         "y0": " ",
         "yaxis": "y"
        },
        {
         "alignmentgroup": "True",
         "boxpoints": "all",
         "hovertemplate": "domain=Financeiro<br>asset=%{x}<br>f1-score=%{y}<extra></extra>",
         "legendgroup": "Financeiro",
         "marker": {
          "color": "#00cc96"
         },
         "name": "Financeiro",
         "notched": false,
         "offsetgroup": "Financeiro",
         "orientation": "v",
         "showlegend": true,
         "type": "box",
         "x": [
          "ABCB4.SA",
          "ABCB4.SA",
          "ABCB4.SA",
          "ITUB3.SA",
          "ITUB3.SA",
          "ITUB3.SA",
          "ABCB4.SA",
          "ABCB4.SA",
          "ABCB4.SA",
          "ITUB3.SA",
          "ITUB3.SA",
          "ITUB3.SA",
          "ABCB4.SA",
          "ABCB4.SA",
          "ABCB4.SA",
          "ITUB3.SA",
          "ITUB3.SA",
          "ITUB3.SA",
          "ABCB4.SA",
          "ABCB4.SA",
          "ABCB4.SA",
          "ITUB3.SA",
          "ITUB3.SA",
          "ITUB3.SA",
          "ABCB4.SA",
          "ABCB4.SA",
          "ABCB4.SA",
          "ITUB3.SA",
          "ITUB3.SA",
          "ITUB3.SA",
          "ABCB4.SA",
          "ABCB4.SA",
          "ABCB4.SA",
          "ITUB3.SA",
          "ITUB3.SA",
          "ITUB3.SA",
          "ABCB4.SA",
          "ABCB4.SA",
          "ABCB4.SA",
          "ITUB3.SA",
          "ITUB3.SA",
          "ITUB3.SA",
          "ABCB4.SA",
          "ABCB4.SA",
          "ABCB4.SA",
          "ITUB3.SA",
          "ITUB3.SA",
          "ITUB3.SA",
          "ABCB4.SA",
          "ABCB4.SA",
          "ABCB4.SA",
          "ITUB3.SA",
          "ITUB3.SA",
          "ITUB3.SA",
          "ABCB4.SA",
          "ABCB4.SA",
          "ABCB4.SA",
          "ITUB3.SA",
          "ITUB3.SA",
          "ITUB3.SA",
          "ABCB4.SA",
          "ABCB4.SA",
          "ABCB4.SA",
          "ITUB3.SA",
          "ITUB3.SA",
          "ITUB3.SA",
          "ABCB4.SA",
          "ABCB4.SA",
          "ABCB4.SA",
          "ITUB3.SA",
          "ITUB3.SA",
          "ITUB3.SA",
          "ABCB4.SA",
          "ABCB4.SA",
          "ABCB4.SA",
          "ITUB3.SA",
          "ITUB3.SA",
          "ITUB3.SA",
          "ABCB4.SA",
          "ABCB4.SA",
          "ABCB4.SA",
          "ITUB3.SA",
          "ITUB3.SA",
          "ITUB3.SA"
         ],
         "x0": " ",
         "xaxis": "x",
         "y": [
          0.24226,
          0.28917,
          0.26294,
          0.24524,
          0.25486,
          0.25066,
          0.24234,
          0.28953,
          0.26294,
          0.24524,
          0.25567,
          0.25066,
          0.24234,
          0.28963,
          0.26248,
          0.24524,
          0.25567,
          0.25066,
          0.24254,
          0.28658,
          0.26248,
          0.24275,
          0.25549,
          0.25066,
          0.24178,
          0.27693,
          0.26261,
          0.24461,
          0.2444,
          0.25038,
          0.24221,
          0.28383,
          0.26248,
          0.24398,
          0.25721,
          0.24901,
          0.24207,
          0.28605,
          0.26318,
          0.24412,
          0.25465,
          0.24768,
          0.24291,
          0.28607,
          0.23291,
          0.24288,
          0.25972,
          0.23579,
          0.24368,
          0.28161,
          0.2326,
          0.24475,
          0.2584,
          0.2383,
          0.24026,
          0.27759,
          0.26167,
          0.24389,
          0.26165,
          0.22788,
          0.24352,
          0.27794,
          0.2593,
          0.24388,
          0.22687,
          0.23168,
          0.24288,
          0.26065,
          0.26425,
          0.24252,
          0.25941,
          0.22874,
          0.24442,
          0.2898,
          0.25925,
          0.2426,
          0.23751,
          0.23551,
          0.51454,
          0.64893,
          0.56906,
          0.43297,
          0.57616,
          0.53858
         ],
         "y0": " ",
         "yaxis": "y"
        },
        {
         "alignmentgroup": "True",
         "boxpoints": "all",
         "hovertemplate": "domain=Saúde<br>asset=%{x}<br>f1-score=%{y}<extra></extra>",
         "legendgroup": "Saúde",
         "marker": {
          "color": "#ab63fa"
         },
         "name": "Saúde",
         "notched": false,
         "offsetgroup": "Saúde",
         "orientation": "v",
         "showlegend": true,
         "type": "box",
         "x": [
          "FLRY3.SA",
          "FLRY3.SA",
          "FLRY3.SA",
          "RADL3.SA",
          "RADL3.SA",
          "RADL3.SA",
          "FLRY3.SA",
          "FLRY3.SA",
          "FLRY3.SA",
          "RADL3.SA",
          "RADL3.SA",
          "RADL3.SA",
          "FLRY3.SA",
          "FLRY3.SA",
          "FLRY3.SA",
          "RADL3.SA",
          "RADL3.SA",
          "RADL3.SA",
          "FLRY3.SA",
          "FLRY3.SA",
          "FLRY3.SA",
          "RADL3.SA",
          "RADL3.SA",
          "RADL3.SA",
          "FLRY3.SA",
          "FLRY3.SA",
          "FLRY3.SA",
          "RADL3.SA",
          "RADL3.SA",
          "RADL3.SA",
          "FLRY3.SA",
          "FLRY3.SA",
          "FLRY3.SA",
          "RADL3.SA",
          "RADL3.SA",
          "RADL3.SA",
          "FLRY3.SA",
          "FLRY3.SA",
          "FLRY3.SA",
          "RADL3.SA",
          "RADL3.SA",
          "RADL3.SA",
          "FLRY3.SA",
          "FLRY3.SA",
          "FLRY3.SA",
          "RADL3.SA",
          "RADL3.SA",
          "RADL3.SA",
          "FLRY3.SA",
          "FLRY3.SA",
          "FLRY3.SA",
          "RADL3.SA",
          "RADL3.SA",
          "RADL3.SA",
          "FLRY3.SA",
          "FLRY3.SA",
          "FLRY3.SA",
          "RADL3.SA",
          "RADL3.SA",
          "RADL3.SA",
          "FLRY3.SA",
          "FLRY3.SA",
          "FLRY3.SA",
          "RADL3.SA",
          "RADL3.SA",
          "RADL3.SA",
          "FLRY3.SA",
          "FLRY3.SA",
          "FLRY3.SA",
          "RADL3.SA",
          "RADL3.SA",
          "RADL3.SA",
          "FLRY3.SA",
          "FLRY3.SA",
          "FLRY3.SA",
          "RADL3.SA",
          "RADL3.SA",
          "RADL3.SA",
          "FLRY3.SA",
          "FLRY3.SA",
          "FLRY3.SA",
          "RADL3.SA",
          "RADL3.SA",
          "RADL3.SA"
         ],
         "x0": " ",
         "xaxis": "x",
         "y": [
          0.22985,
          0.27871,
          0.27476,
          0.23368,
          0.2851,
          0.27631,
          0.22985,
          0.24561,
          0.2765,
          0.2003,
          0.28498,
          0.27631,
          0.22949,
          0.24729,
          0.27476,
          0.20034,
          0.2801,
          0.27505,
          0.26191,
          0.24122,
          0.27633,
          0.2005,
          0.2728,
          0.27488,
          0.22885,
          0.24127,
          0.27173,
          0.20039,
          0.27857,
          0.27614,
          0.22918,
          0.24647,
          0.2749,
          0.2005,
          0.28775,
          0.27614,
          0.22934,
          0.24912,
          0.2762,
          0.19905,
          0.28139,
          0.27656,
          0.28816,
          0.2343,
          0.27262,
          0.19996,
          0.26858,
          0.27183,
          0.22898,
          0.2273,
          0.27146,
          0.20049,
          0.26561,
          0.27968,
          0.25865,
          0.23775,
          0.27024,
          0.20044,
          0.26841,
          0.2828,
          0.22917,
          0.22741,
          0.23671,
          0.1993,
          0.26683,
          0.28318,
          0.22699,
          0.21547,
          0.27058,
          0.19326,
          0.26545,
          0.28366,
          0.22523,
          0.22039,
          0.23918,
          0.19849,
          0.26866,
          0.28272,
          0.51439,
          0.63281,
          0.70078,
          0.50021,
          0.66044,
          0.6114
         ],
         "y0": " ",
         "yaxis": "y"
        }
       ],
       "layout": {
        "boxmode": "group",
        "legend": {
         "title": {
          "text": "domain"
         },
         "tracegroupgap": 0
        },
        "template": {
         "data": {
          "bar": [
           {
            "error_x": {
             "color": "#2a3f5f"
            },
            "error_y": {
             "color": "#2a3f5f"
            },
            "marker": {
             "line": {
              "color": "#E5ECF6",
              "width": 0.5
             },
             "pattern": {
              "fillmode": "overlay",
              "size": 10,
              "solidity": 0.2
             }
            },
            "type": "bar"
           }
          ],
          "barpolar": [
           {
            "marker": {
             "line": {
              "color": "#E5ECF6",
              "width": 0.5
             },
             "pattern": {
              "fillmode": "overlay",
              "size": 10,
              "solidity": 0.2
             }
            },
            "type": "barpolar"
           }
          ],
          "carpet": [
           {
            "aaxis": {
             "endlinecolor": "#2a3f5f",
             "gridcolor": "white",
             "linecolor": "white",
             "minorgridcolor": "white",
             "startlinecolor": "#2a3f5f"
            },
            "baxis": {
             "endlinecolor": "#2a3f5f",
             "gridcolor": "white",
             "linecolor": "white",
             "minorgridcolor": "white",
             "startlinecolor": "#2a3f5f"
            },
            "type": "carpet"
           }
          ],
          "choropleth": [
           {
            "colorbar": {
             "outlinewidth": 0,
             "ticks": ""
            },
            "type": "choropleth"
           }
          ],
          "contour": [
           {
            "colorbar": {
             "outlinewidth": 0,
             "ticks": ""
            },
            "colorscale": [
             [
              0,
              "#0d0887"
             ],
             [
              0.1111111111111111,
              "#46039f"
             ],
             [
              0.2222222222222222,
              "#7201a8"
             ],
             [
              0.3333333333333333,
              "#9c179e"
             ],
             [
              0.4444444444444444,
              "#bd3786"
             ],
             [
              0.5555555555555556,
              "#d8576b"
             ],
             [
              0.6666666666666666,
              "#ed7953"
             ],
             [
              0.7777777777777778,
              "#fb9f3a"
             ],
             [
              0.8888888888888888,
              "#fdca26"
             ],
             [
              1,
              "#f0f921"
             ]
            ],
            "type": "contour"
           }
          ],
          "contourcarpet": [
           {
            "colorbar": {
             "outlinewidth": 0,
             "ticks": ""
            },
            "type": "contourcarpet"
           }
          ],
          "heatmap": [
           {
            "colorbar": {
             "outlinewidth": 0,
             "ticks": ""
            },
            "colorscale": [
             [
              0,
              "#0d0887"
             ],
             [
              0.1111111111111111,
              "#46039f"
             ],
             [
              0.2222222222222222,
              "#7201a8"
             ],
             [
              0.3333333333333333,
              "#9c179e"
             ],
             [
              0.4444444444444444,
              "#bd3786"
             ],
             [
              0.5555555555555556,
              "#d8576b"
             ],
             [
              0.6666666666666666,
              "#ed7953"
             ],
             [
              0.7777777777777778,
              "#fb9f3a"
             ],
             [
              0.8888888888888888,
              "#fdca26"
             ],
             [
              1,
              "#f0f921"
             ]
            ],
            "type": "heatmap"
           }
          ],
          "heatmapgl": [
           {
            "colorbar": {
             "outlinewidth": 0,
             "ticks": ""
            },
            "colorscale": [
             [
              0,
              "#0d0887"
             ],
             [
              0.1111111111111111,
              "#46039f"
             ],
             [
              0.2222222222222222,
              "#7201a8"
             ],
             [
              0.3333333333333333,
              "#9c179e"
             ],
             [
              0.4444444444444444,
              "#bd3786"
             ],
             [
              0.5555555555555556,
              "#d8576b"
             ],
             [
              0.6666666666666666,
              "#ed7953"
             ],
             [
              0.7777777777777778,
              "#fb9f3a"
             ],
             [
              0.8888888888888888,
              "#fdca26"
             ],
             [
              1,
              "#f0f921"
             ]
            ],
            "type": "heatmapgl"
           }
          ],
          "histogram": [
           {
            "marker": {
             "pattern": {
              "fillmode": "overlay",
              "size": 10,
              "solidity": 0.2
             }
            },
            "type": "histogram"
           }
          ],
          "histogram2d": [
           {
            "colorbar": {
             "outlinewidth": 0,
             "ticks": ""
            },
            "colorscale": [
             [
              0,
              "#0d0887"
             ],
             [
              0.1111111111111111,
              "#46039f"
             ],
             [
              0.2222222222222222,
              "#7201a8"
             ],
             [
              0.3333333333333333,
              "#9c179e"
             ],
             [
              0.4444444444444444,
              "#bd3786"
             ],
             [
              0.5555555555555556,
              "#d8576b"
             ],
             [
              0.6666666666666666,
              "#ed7953"
             ],
             [
              0.7777777777777778,
              "#fb9f3a"
             ],
             [
              0.8888888888888888,
              "#fdca26"
             ],
             [
              1,
              "#f0f921"
             ]
            ],
            "type": "histogram2d"
           }
          ],
          "histogram2dcontour": [
           {
            "colorbar": {
             "outlinewidth": 0,
             "ticks": ""
            },
            "colorscale": [
             [
              0,
              "#0d0887"
             ],
             [
              0.1111111111111111,
              "#46039f"
             ],
             [
              0.2222222222222222,
              "#7201a8"
             ],
             [
              0.3333333333333333,
              "#9c179e"
             ],
             [
              0.4444444444444444,
              "#bd3786"
             ],
             [
              0.5555555555555556,
              "#d8576b"
             ],
             [
              0.6666666666666666,
              "#ed7953"
             ],
             [
              0.7777777777777778,
              "#fb9f3a"
             ],
             [
              0.8888888888888888,
              "#fdca26"
             ],
             [
              1,
              "#f0f921"
             ]
            ],
            "type": "histogram2dcontour"
           }
          ],
          "mesh3d": [
           {
            "colorbar": {
             "outlinewidth": 0,
             "ticks": ""
            },
            "type": "mesh3d"
           }
          ],
          "parcoords": [
           {
            "line": {
             "colorbar": {
              "outlinewidth": 0,
              "ticks": ""
             }
            },
            "type": "parcoords"
           }
          ],
          "pie": [
           {
            "automargin": true,
            "type": "pie"
           }
          ],
          "scatter": [
           {
            "fillpattern": {
             "fillmode": "overlay",
             "size": 10,
             "solidity": 0.2
            },
            "type": "scatter"
           }
          ],
          "scatter3d": [
           {
            "line": {
             "colorbar": {
              "outlinewidth": 0,
              "ticks": ""
             }
            },
            "marker": {
             "colorbar": {
              "outlinewidth": 0,
              "ticks": ""
             }
            },
            "type": "scatter3d"
           }
          ],
          "scattercarpet": [
           {
            "marker": {
             "colorbar": {
              "outlinewidth": 0,
              "ticks": ""
             }
            },
            "type": "scattercarpet"
           }
          ],
          "scattergeo": [
           {
            "marker": {
             "colorbar": {
              "outlinewidth": 0,
              "ticks": ""
             }
            },
            "type": "scattergeo"
           }
          ],
          "scattergl": [
           {
            "marker": {
             "colorbar": {
              "outlinewidth": 0,
              "ticks": ""
             }
            },
            "type": "scattergl"
           }
          ],
          "scattermapbox": [
           {
            "marker": {
             "colorbar": {
              "outlinewidth": 0,
              "ticks": ""
             }
            },
            "type": "scattermapbox"
           }
          ],
          "scatterpolar": [
           {
            "marker": {
             "colorbar": {
              "outlinewidth": 0,
              "ticks": ""
             }
            },
            "type": "scatterpolar"
           }
          ],
          "scatterpolargl": [
           {
            "marker": {
             "colorbar": {
              "outlinewidth": 0,
              "ticks": ""
             }
            },
            "type": "scatterpolargl"
           }
          ],
          "scatterternary": [
           {
            "marker": {
             "colorbar": {
              "outlinewidth": 0,
              "ticks": ""
             }
            },
            "type": "scatterternary"
           }
          ],
          "surface": [
           {
            "colorbar": {
             "outlinewidth": 0,
             "ticks": ""
            },
            "colorscale": [
             [
              0,
              "#0d0887"
             ],
             [
              0.1111111111111111,
              "#46039f"
             ],
             [
              0.2222222222222222,
              "#7201a8"
             ],
             [
              0.3333333333333333,
              "#9c179e"
             ],
             [
              0.4444444444444444,
              "#bd3786"
             ],
             [
              0.5555555555555556,
              "#d8576b"
             ],
             [
              0.6666666666666666,
              "#ed7953"
             ],
             [
              0.7777777777777778,
              "#fb9f3a"
             ],
             [
              0.8888888888888888,
              "#fdca26"
             ],
             [
              1,
              "#f0f921"
             ]
            ],
            "type": "surface"
           }
          ],
          "table": [
           {
            "cells": {
             "fill": {
              "color": "#EBF0F8"
             },
             "line": {
              "color": "white"
             }
            },
            "header": {
             "fill": {
              "color": "#C8D4E3"
             },
             "line": {
              "color": "white"
             }
            },
            "type": "table"
           }
          ]
         },
         "layout": {
          "annotationdefaults": {
           "arrowcolor": "#2a3f5f",
           "arrowhead": 0,
           "arrowwidth": 1
          },
          "autotypenumbers": "strict",
          "coloraxis": {
           "colorbar": {
            "outlinewidth": 0,
            "ticks": ""
           }
          },
          "colorscale": {
           "diverging": [
            [
             0,
             "#8e0152"
            ],
            [
             0.1,
             "#c51b7d"
            ],
            [
             0.2,
             "#de77ae"
            ],
            [
             0.3,
             "#f1b6da"
            ],
            [
             0.4,
             "#fde0ef"
            ],
            [
             0.5,
             "#f7f7f7"
            ],
            [
             0.6,
             "#e6f5d0"
            ],
            [
             0.7,
             "#b8e186"
            ],
            [
             0.8,
             "#7fbc41"
            ],
            [
             0.9,
             "#4d9221"
            ],
            [
             1,
             "#276419"
            ]
           ],
           "sequential": [
            [
             0,
             "#0d0887"
            ],
            [
             0.1111111111111111,
             "#46039f"
            ],
            [
             0.2222222222222222,
             "#7201a8"
            ],
            [
             0.3333333333333333,
             "#9c179e"
            ],
            [
             0.4444444444444444,
             "#bd3786"
            ],
            [
             0.5555555555555556,
             "#d8576b"
            ],
            [
             0.6666666666666666,
             "#ed7953"
            ],
            [
             0.7777777777777778,
             "#fb9f3a"
            ],
            [
             0.8888888888888888,
             "#fdca26"
            ],
            [
             1,
             "#f0f921"
            ]
           ],
           "sequentialminus": [
            [
             0,
             "#0d0887"
            ],
            [
             0.1111111111111111,
             "#46039f"
            ],
            [
             0.2222222222222222,
             "#7201a8"
            ],
            [
             0.3333333333333333,
             "#9c179e"
            ],
            [
             0.4444444444444444,
             "#bd3786"
            ],
            [
             0.5555555555555556,
             "#d8576b"
            ],
            [
             0.6666666666666666,
             "#ed7953"
            ],
            [
             0.7777777777777778,
             "#fb9f3a"
            ],
            [
             0.8888888888888888,
             "#fdca26"
            ],
            [
             1,
             "#f0f921"
            ]
           ]
          },
          "colorway": [
           "#636efa",
           "#EF553B",
           "#00cc96",
           "#ab63fa",
           "#FFA15A",
           "#19d3f3",
           "#FF6692",
           "#B6E880",
           "#FF97FF",
           "#FECB52"
          ],
          "font": {
           "color": "#2a3f5f"
          },
          "geo": {
           "bgcolor": "white",
           "lakecolor": "white",
           "landcolor": "#E5ECF6",
           "showlakes": true,
           "showland": true,
           "subunitcolor": "white"
          },
          "hoverlabel": {
           "align": "left"
          },
          "hovermode": "closest",
          "mapbox": {
           "style": "light"
          },
          "paper_bgcolor": "white",
          "plot_bgcolor": "#E5ECF6",
          "polar": {
           "angularaxis": {
            "gridcolor": "white",
            "linecolor": "white",
            "ticks": ""
           },
           "bgcolor": "#E5ECF6",
           "radialaxis": {
            "gridcolor": "white",
            "linecolor": "white",
            "ticks": ""
           }
          },
          "scene": {
           "xaxis": {
            "backgroundcolor": "#E5ECF6",
            "gridcolor": "white",
            "gridwidth": 2,
            "linecolor": "white",
            "showbackground": true,
            "ticks": "",
            "zerolinecolor": "white"
           },
           "yaxis": {
            "backgroundcolor": "#E5ECF6",
            "gridcolor": "white",
            "gridwidth": 2,
            "linecolor": "white",
            "showbackground": true,
            "ticks": "",
            "zerolinecolor": "white"
           },
           "zaxis": {
            "backgroundcolor": "#E5ECF6",
            "gridcolor": "white",
            "gridwidth": 2,
            "linecolor": "white",
            "showbackground": true,
            "ticks": "",
            "zerolinecolor": "white"
           }
          },
          "shapedefaults": {
           "line": {
            "color": "#2a3f5f"
           }
          },
          "ternary": {
           "aaxis": {
            "gridcolor": "white",
            "linecolor": "white",
            "ticks": ""
           },
           "baxis": {
            "gridcolor": "white",
            "linecolor": "white",
            "ticks": ""
           },
           "bgcolor": "#E5ECF6",
           "caxis": {
            "gridcolor": "white",
            "linecolor": "white",
            "ticks": ""
           }
          },
          "title": {
           "x": 0.05
          },
          "xaxis": {
           "automargin": true,
           "gridcolor": "white",
           "linecolor": "white",
           "ticks": "",
           "title": {
            "standoff": 15
           },
           "zerolinecolor": "white",
           "zerolinewidth": 2
          },
          "yaxis": {
           "automargin": true,
           "gridcolor": "white",
           "linecolor": "white",
           "ticks": "",
           "title": {
            "standoff": 15
           },
           "zerolinecolor": "white",
           "zerolinewidth": 2
          }
         }
        },
        "title": {
         "text": "Distribuição de resultados para cada ativo com leak=False"
        },
        "xaxis": {
         "anchor": "y",
         "domain": [
          0,
          1
         ],
         "title": {
          "text": "asset"
         }
        },
        "yaxis": {
         "anchor": "x",
         "domain": [
          0,
          1
         ],
         "title": {
          "text": "f1-score"
         }
        }
       }
      }
     },
     "metadata": {},
     "output_type": "display_data"
    },
    {
     "data": {
      "application/vnd.plotly.v1+json": {
       "config": {
        "plotlyServerURL": "https://plot.ly"
       },
       "data": [
        {
         "alignmentgroup": "True",
         "boxpoints": "all",
         "hovertemplate": "domain=Petróleo<br>asset=%{x}<br>R-squared (R2)=%{y}<extra></extra>",
         "legendgroup": "Petróleo",
         "marker": {
          "color": "#636efa"
         },
         "name": "Petróleo",
         "notched": false,
         "offsetgroup": "Petróleo",
         "orientation": "v",
         "showlegend": true,
         "type": "box",
         "x": [
          "PETR3.SA",
          "PETR3.SA",
          "PETR3.SA",
          "PRIO3.SA",
          "PRIO3.SA",
          "PRIO3.SA",
          "PETR3.SA",
          "PETR3.SA",
          "PETR3.SA",
          "PRIO3.SA",
          "PRIO3.SA",
          "PRIO3.SA",
          "PETR3.SA",
          "PETR3.SA",
          "PETR3.SA",
          "PRIO3.SA",
          "PRIO3.SA",
          "PRIO3.SA",
          "PETR3.SA",
          "PETR3.SA",
          "PETR3.SA",
          "PRIO3.SA",
          "PRIO3.SA",
          "PRIO3.SA",
          "PETR3.SA",
          "PETR3.SA",
          "PETR3.SA",
          "PRIO3.SA",
          "PRIO3.SA",
          "PRIO3.SA",
          "PETR3.SA",
          "PETR3.SA",
          "PETR3.SA",
          "PRIO3.SA",
          "PRIO3.SA",
          "PRIO3.SA",
          "PETR3.SA",
          "PETR3.SA",
          "PETR3.SA",
          "PRIO3.SA",
          "PRIO3.SA",
          "PRIO3.SA",
          "PETR3.SA",
          "PETR3.SA",
          "PETR3.SA",
          "PRIO3.SA",
          "PRIO3.SA",
          "PRIO3.SA",
          "PETR3.SA",
          "PETR3.SA",
          "PETR3.SA",
          "PRIO3.SA",
          "PRIO3.SA",
          "PRIO3.SA",
          "PETR3.SA",
          "PETR3.SA",
          "PETR3.SA",
          "PRIO3.SA",
          "PRIO3.SA",
          "PRIO3.SA",
          "PETR3.SA",
          "PETR3.SA",
          "PETR3.SA",
          "PRIO3.SA",
          "PRIO3.SA",
          "PRIO3.SA",
          "PETR3.SA",
          "PETR3.SA",
          "PETR3.SA",
          "PRIO3.SA",
          "PRIO3.SA",
          "PRIO3.SA",
          "PETR3.SA",
          "PETR3.SA",
          "PETR3.SA",
          "PRIO3.SA",
          "PRIO3.SA",
          "PRIO3.SA",
          "PETR3.SA",
          "PETR3.SA",
          "PETR3.SA",
          "PRIO3.SA",
          "PRIO3.SA",
          "PRIO3.SA"
         ],
         "x0": " ",
         "xaxis": "x",
         "y": [
          0.37704,
          0.61103,
          0.72099,
          0.42369,
          0.64202,
          0.75144,
          0.3712,
          0.61376,
          0.72311,
          0.42108,
          0.64021,
          0.74998,
          0.3771,
          0.6189,
          0.72352,
          0.42187,
          0.64095,
          0.74899,
          0.376,
          0.61791,
          0.72072,
          0.42059,
          0.64037,
          0.74989,
          0.3834,
          0.61608,
          0.71859,
          0.42692,
          0.63706,
          0.7478,
          0.3774,
          0.61696,
          0.71904,
          0.42062,
          0.63943,
          0.74841,
          0.37718,
          0.61409,
          0.72178,
          0.42475,
          0.63776,
          0.74779,
          0.37986,
          0.6175,
          0.71931,
          0.41997,
          0.63516,
          0.74333,
          0.37572,
          0.60626,
          0.7109,
          0.42201,
          0.63528,
          0.74436,
          0.37576,
          0.6192,
          0.71374,
          0.42433,
          0.6313,
          0.74217,
          0.37676,
          0.60952,
          0.71745,
          0.42116,
          0.6268,
          0.74482,
          0.37761,
          0.61712,
          0.71321,
          0.42227,
          0.63075,
          0.74428,
          0.37285,
          0.61401,
          0.71729,
          0.4198,
          0.63454,
          0.74543,
          0.25871,
          0.57516,
          0.7039,
          0.32509,
          0.60976,
          0.73736
         ],
         "y0": " ",
         "yaxis": "y"
        },
        {
         "alignmentgroup": "True",
         "boxpoints": "all",
         "hovertemplate": "domain=Mineração<br>asset=%{x}<br>R-squared (R2)=%{y}<extra></extra>",
         "legendgroup": "Mineração",
         "marker": {
          "color": "#EF553B"
         },
         "name": "Mineração",
         "notched": false,
         "offsetgroup": "Mineração",
         "orientation": "v",
         "showlegend": true,
         "type": "box",
         "x": [
          "VALE3.SA",
          "VALE3.SA",
          "VALE3.SA",
          "GGBR3.SA",
          "GGBR3.SA",
          "GGBR3.SA",
          "VALE3.SA",
          "VALE3.SA",
          "VALE3.SA",
          "GGBR3.SA",
          "GGBR3.SA",
          "GGBR3.SA",
          "VALE3.SA",
          "VALE3.SA",
          "VALE3.SA",
          "GGBR3.SA",
          "GGBR3.SA",
          "GGBR3.SA",
          "VALE3.SA",
          "VALE3.SA",
          "VALE3.SA",
          "GGBR3.SA",
          "GGBR3.SA",
          "GGBR3.SA",
          "VALE3.SA",
          "VALE3.SA",
          "VALE3.SA",
          "GGBR3.SA",
          "GGBR3.SA",
          "GGBR3.SA",
          "VALE3.SA",
          "VALE3.SA",
          "VALE3.SA",
          "GGBR3.SA",
          "GGBR3.SA",
          "GGBR3.SA",
          "VALE3.SA",
          "VALE3.SA",
          "VALE3.SA",
          "GGBR3.SA",
          "GGBR3.SA",
          "GGBR3.SA",
          "VALE3.SA",
          "VALE3.SA",
          "VALE3.SA",
          "GGBR3.SA",
          "GGBR3.SA",
          "GGBR3.SA",
          "VALE3.SA",
          "VALE3.SA",
          "VALE3.SA",
          "GGBR3.SA",
          "GGBR3.SA",
          "GGBR3.SA",
          "VALE3.SA",
          "VALE3.SA",
          "VALE3.SA",
          "GGBR3.SA",
          "GGBR3.SA",
          "GGBR3.SA",
          "VALE3.SA",
          "VALE3.SA",
          "VALE3.SA",
          "GGBR3.SA",
          "GGBR3.SA",
          "GGBR3.SA",
          "VALE3.SA",
          "VALE3.SA",
          "VALE3.SA",
          "GGBR3.SA",
          "GGBR3.SA",
          "GGBR3.SA",
          "VALE3.SA",
          "VALE3.SA",
          "VALE3.SA",
          "GGBR3.SA",
          "GGBR3.SA",
          "GGBR3.SA",
          "VALE3.SA",
          "VALE3.SA",
          "VALE3.SA",
          "GGBR3.SA",
          "GGBR3.SA",
          "GGBR3.SA"
         ],
         "x0": " ",
         "xaxis": "x",
         "y": [
          0.49351,
          0.69748,
          0.80277,
          0.38835,
          0.65462,
          0.75106,
          0.49105,
          0.69587,
          0.80152,
          0.38971,
          0.65398,
          0.75079,
          0.4919,
          0.69497,
          0.80042,
          0.38936,
          0.6497,
          0.747,
          0.49643,
          0.69537,
          0.80256,
          0.38867,
          0.64786,
          0.74911,
          0.49374,
          0.69395,
          0.80109,
          0.39339,
          0.64977,
          0.74983,
          0.49339,
          0.69291,
          0.80067,
          0.38919,
          0.64799,
          0.74687,
          0.49083,
          0.69258,
          0.80093,
          0.38633,
          0.64744,
          0.74697,
          0.49122,
          0.68984,
          0.79882,
          0.38855,
          0.65149,
          0.74714,
          0.49015,
          0.68612,
          0.79861,
          0.38601,
          0.64614,
          0.74295,
          0.49336,
          0.68916,
          0.79996,
          0.37278,
          0.64545,
          0.74405,
          0.49226,
          0.6876,
          0.79696,
          0.37058,
          0.64672,
          0.73744,
          0.49375,
          0.68726,
          0.80188,
          0.38157,
          0.64711,
          0.73061,
          0.48597,
          0.6915,
          0.79907,
          0.36991,
          0.64408,
          0.74154,
          0.41081,
          0.67016,
          0.78981,
          0.27085,
          0.62276,
          0.73447
         ],
         "y0": " ",
         "yaxis": "y"
        },
        {
         "alignmentgroup": "True",
         "boxpoints": "all",
         "hovertemplate": "domain=Financeiro<br>asset=%{x}<br>R-squared (R2)=%{y}<extra></extra>",
         "legendgroup": "Financeiro",
         "marker": {
          "color": "#00cc96"
         },
         "name": "Financeiro",
         "notched": false,
         "offsetgroup": "Financeiro",
         "orientation": "v",
         "showlegend": true,
         "type": "box",
         "x": [
          "ABCB4.SA",
          "ABCB4.SA",
          "ABCB4.SA",
          "ITUB3.SA",
          "ITUB3.SA",
          "ITUB3.SA",
          "ABCB4.SA",
          "ABCB4.SA",
          "ABCB4.SA",
          "ITUB3.SA",
          "ITUB3.SA",
          "ITUB3.SA",
          "ABCB4.SA",
          "ABCB4.SA",
          "ABCB4.SA",
          "ITUB3.SA",
          "ITUB3.SA",
          "ITUB3.SA",
          "ABCB4.SA",
          "ABCB4.SA",
          "ABCB4.SA",
          "ITUB3.SA",
          "ITUB3.SA",
          "ITUB3.SA",
          "ABCB4.SA",
          "ABCB4.SA",
          "ABCB4.SA",
          "ITUB3.SA",
          "ITUB3.SA",
          "ITUB3.SA",
          "ABCB4.SA",
          "ABCB4.SA",
          "ABCB4.SA",
          "ITUB3.SA",
          "ITUB3.SA",
          "ITUB3.SA",
          "ABCB4.SA",
          "ABCB4.SA",
          "ABCB4.SA",
          "ITUB3.SA",
          "ITUB3.SA",
          "ITUB3.SA",
          "ABCB4.SA",
          "ABCB4.SA",
          "ABCB4.SA",
          "ITUB3.SA",
          "ITUB3.SA",
          "ITUB3.SA",
          "ABCB4.SA",
          "ABCB4.SA",
          "ABCB4.SA",
          "ITUB3.SA",
          "ITUB3.SA",
          "ITUB3.SA",
          "ABCB4.SA",
          "ABCB4.SA",
          "ABCB4.SA",
          "ITUB3.SA",
          "ITUB3.SA",
          "ITUB3.SA",
          "ABCB4.SA",
          "ABCB4.SA",
          "ABCB4.SA",
          "ITUB3.SA",
          "ITUB3.SA",
          "ITUB3.SA",
          "ABCB4.SA",
          "ABCB4.SA",
          "ABCB4.SA",
          "ITUB3.SA",
          "ITUB3.SA",
          "ITUB3.SA",
          "ABCB4.SA",
          "ABCB4.SA",
          "ABCB4.SA",
          "ITUB3.SA",
          "ITUB3.SA",
          "ITUB3.SA",
          "ABCB4.SA",
          "ABCB4.SA",
          "ABCB4.SA",
          "ITUB3.SA",
          "ITUB3.SA",
          "ITUB3.SA"
         ],
         "x0": " ",
         "xaxis": "x",
         "y": [
          0.31159,
          0.55148,
          0.68276,
          0.43104,
          0.69763,
          0.79849,
          0.30735,
          0.55047,
          0.67947,
          0.42952,
          0.69559,
          0.79629,
          0.31428,
          0.54851,
          0.67758,
          0.42547,
          0.69127,
          0.79531,
          0.31816,
          0.55103,
          0.67831,
          0.4329,
          0.69565,
          0.79431,
          0.3222,
          0.55167,
          0.68104,
          0.43227,
          0.69193,
          0.79535,
          0.3243,
          0.5508,
          0.67822,
          0.43154,
          0.69215,
          0.79369,
          0.32806,
          0.54688,
          0.67481,
          0.43665,
          0.69485,
          0.79317,
          0.32324,
          0.54975,
          0.68206,
          0.4381,
          0.6894,
          0.79763,
          0.3204,
          0.55066,
          0.68064,
          0.42095,
          0.69018,
          0.78972,
          0.30915,
          0.54554,
          0.68134,
          0.4163,
          0.68641,
          0.79171,
          0.32068,
          0.54743,
          0.67175,
          0.41356,
          0.69039,
          0.79046,
          0.31784,
          0.55027,
          0.67275,
          0.42229,
          0.68561,
          0.79066,
          0.32462,
          0.54693,
          0.67464,
          0.42435,
          0.67847,
          0.78961,
          0.17248,
          0.50384,
          0.65925,
          0.32501,
          0.67048,
          0.78618
         ],
         "y0": " ",
         "yaxis": "y"
        },
        {
         "alignmentgroup": "True",
         "boxpoints": "all",
         "hovertemplate": "domain=Saúde<br>asset=%{x}<br>R-squared (R2)=%{y}<extra></extra>",
         "legendgroup": "Saúde",
         "marker": {
          "color": "#ab63fa"
         },
         "name": "Saúde",
         "notched": false,
         "offsetgroup": "Saúde",
         "orientation": "v",
         "showlegend": true,
         "type": "box",
         "x": [
          "FLRY3.SA",
          "FLRY3.SA",
          "FLRY3.SA",
          "RADL3.SA",
          "RADL3.SA",
          "RADL3.SA",
          "FLRY3.SA",
          "FLRY3.SA",
          "FLRY3.SA",
          "RADL3.SA",
          "RADL3.SA",
          "RADL3.SA",
          "FLRY3.SA",
          "FLRY3.SA",
          "FLRY3.SA",
          "RADL3.SA",
          "RADL3.SA",
          "RADL3.SA",
          "FLRY3.SA",
          "FLRY3.SA",
          "FLRY3.SA",
          "RADL3.SA",
          "RADL3.SA",
          "RADL3.SA",
          "FLRY3.SA",
          "FLRY3.SA",
          "FLRY3.SA",
          "RADL3.SA",
          "RADL3.SA",
          "RADL3.SA",
          "FLRY3.SA",
          "FLRY3.SA",
          "FLRY3.SA",
          "RADL3.SA",
          "RADL3.SA",
          "RADL3.SA",
          "FLRY3.SA",
          "FLRY3.SA",
          "FLRY3.SA",
          "RADL3.SA",
          "RADL3.SA",
          "RADL3.SA",
          "FLRY3.SA",
          "FLRY3.SA",
          "FLRY3.SA",
          "RADL3.SA",
          "RADL3.SA",
          "RADL3.SA",
          "FLRY3.SA",
          "FLRY3.SA",
          "FLRY3.SA",
          "RADL3.SA",
          "RADL3.SA",
          "RADL3.SA",
          "FLRY3.SA",
          "FLRY3.SA",
          "FLRY3.SA",
          "RADL3.SA",
          "RADL3.SA",
          "RADL3.SA",
          "FLRY3.SA",
          "FLRY3.SA",
          "FLRY3.SA",
          "RADL3.SA",
          "RADL3.SA",
          "RADL3.SA",
          "FLRY3.SA",
          "FLRY3.SA",
          "FLRY3.SA",
          "RADL3.SA",
          "RADL3.SA",
          "RADL3.SA",
          "FLRY3.SA",
          "FLRY3.SA",
          "FLRY3.SA",
          "RADL3.SA",
          "RADL3.SA",
          "RADL3.SA",
          "FLRY3.SA",
          "FLRY3.SA",
          "FLRY3.SA",
          "RADL3.SA",
          "RADL3.SA",
          "RADL3.SA"
         ],
         "x0": " ",
         "xaxis": "x",
         "y": [
          0.37442,
          0.64985,
          0.74451,
          0.45942,
          0.6553,
          0.75046,
          0.3712,
          0.64732,
          0.74331,
          0.45803,
          0.6542,
          0.74848,
          0.36393,
          0.64624,
          0.74273,
          0.46589,
          0.65621,
          0.74982,
          0.36498,
          0.64645,
          0.74313,
          0.47085,
          0.65444,
          0.74725,
          0.3672,
          0.64618,
          0.74267,
          0.47171,
          0.65741,
          0.74991,
          0.36747,
          0.64548,
          0.74264,
          0.47086,
          0.65769,
          0.74948,
          0.37118,
          0.64391,
          0.74105,
          0.46891,
          0.65491,
          0.74844,
          0.37172,
          0.64625,
          0.74162,
          0.46778,
          0.64981,
          0.74479,
          0.37138,
          0.64614,
          0.74088,
          0.46464,
          0.64741,
          0.748,
          0.37386,
          0.64744,
          0.74297,
          0.46581,
          0.64865,
          0.75002,
          0.36388,
          0.64657,
          0.73154,
          0.46991,
          0.65589,
          0.75049,
          0.36515,
          0.64471,
          0.74305,
          0.47497,
          0.66045,
          0.74917,
          0.37151,
          0.64685,
          0.74048,
          0.46132,
          0.65027,
          0.74997,
          0.24912,
          0.61324,
          0.72559,
          0.36314,
          0.62239,
          0.73578
         ],
         "y0": " ",
         "yaxis": "y"
        }
       ],
       "layout": {
        "boxmode": "group",
        "legend": {
         "title": {
          "text": "domain"
         },
         "tracegroupgap": 0
        },
        "template": {
         "data": {
          "bar": [
           {
            "error_x": {
             "color": "#2a3f5f"
            },
            "error_y": {
             "color": "#2a3f5f"
            },
            "marker": {
             "line": {
              "color": "#E5ECF6",
              "width": 0.5
             },
             "pattern": {
              "fillmode": "overlay",
              "size": 10,
              "solidity": 0.2
             }
            },
            "type": "bar"
           }
          ],
          "barpolar": [
           {
            "marker": {
             "line": {
              "color": "#E5ECF6",
              "width": 0.5
             },
             "pattern": {
              "fillmode": "overlay",
              "size": 10,
              "solidity": 0.2
             }
            },
            "type": "barpolar"
           }
          ],
          "carpet": [
           {
            "aaxis": {
             "endlinecolor": "#2a3f5f",
             "gridcolor": "white",
             "linecolor": "white",
             "minorgridcolor": "white",
             "startlinecolor": "#2a3f5f"
            },
            "baxis": {
             "endlinecolor": "#2a3f5f",
             "gridcolor": "white",
             "linecolor": "white",
             "minorgridcolor": "white",
             "startlinecolor": "#2a3f5f"
            },
            "type": "carpet"
           }
          ],
          "choropleth": [
           {
            "colorbar": {
             "outlinewidth": 0,
             "ticks": ""
            },
            "type": "choropleth"
           }
          ],
          "contour": [
           {
            "colorbar": {
             "outlinewidth": 0,
             "ticks": ""
            },
            "colorscale": [
             [
              0,
              "#0d0887"
             ],
             [
              0.1111111111111111,
              "#46039f"
             ],
             [
              0.2222222222222222,
              "#7201a8"
             ],
             [
              0.3333333333333333,
              "#9c179e"
             ],
             [
              0.4444444444444444,
              "#bd3786"
             ],
             [
              0.5555555555555556,
              "#d8576b"
             ],
             [
              0.6666666666666666,
              "#ed7953"
             ],
             [
              0.7777777777777778,
              "#fb9f3a"
             ],
             [
              0.8888888888888888,
              "#fdca26"
             ],
             [
              1,
              "#f0f921"
             ]
            ],
            "type": "contour"
           }
          ],
          "contourcarpet": [
           {
            "colorbar": {
             "outlinewidth": 0,
             "ticks": ""
            },
            "type": "contourcarpet"
           }
          ],
          "heatmap": [
           {
            "colorbar": {
             "outlinewidth": 0,
             "ticks": ""
            },
            "colorscale": [
             [
              0,
              "#0d0887"
             ],
             [
              0.1111111111111111,
              "#46039f"
             ],
             [
              0.2222222222222222,
              "#7201a8"
             ],
             [
              0.3333333333333333,
              "#9c179e"
             ],
             [
              0.4444444444444444,
              "#bd3786"
             ],
             [
              0.5555555555555556,
              "#d8576b"
             ],
             [
              0.6666666666666666,
              "#ed7953"
             ],
             [
              0.7777777777777778,
              "#fb9f3a"
             ],
             [
              0.8888888888888888,
              "#fdca26"
             ],
             [
              1,
              "#f0f921"
             ]
            ],
            "type": "heatmap"
           }
          ],
          "heatmapgl": [
           {
            "colorbar": {
             "outlinewidth": 0,
             "ticks": ""
            },
            "colorscale": [
             [
              0,
              "#0d0887"
             ],
             [
              0.1111111111111111,
              "#46039f"
             ],
             [
              0.2222222222222222,
              "#7201a8"
             ],
             [
              0.3333333333333333,
              "#9c179e"
             ],
             [
              0.4444444444444444,
              "#bd3786"
             ],
             [
              0.5555555555555556,
              "#d8576b"
             ],
             [
              0.6666666666666666,
              "#ed7953"
             ],
             [
              0.7777777777777778,
              "#fb9f3a"
             ],
             [
              0.8888888888888888,
              "#fdca26"
             ],
             [
              1,
              "#f0f921"
             ]
            ],
            "type": "heatmapgl"
           }
          ],
          "histogram": [
           {
            "marker": {
             "pattern": {
              "fillmode": "overlay",
              "size": 10,
              "solidity": 0.2
             }
            },
            "type": "histogram"
           }
          ],
          "histogram2d": [
           {
            "colorbar": {
             "outlinewidth": 0,
             "ticks": ""
            },
            "colorscale": [
             [
              0,
              "#0d0887"
             ],
             [
              0.1111111111111111,
              "#46039f"
             ],
             [
              0.2222222222222222,
              "#7201a8"
             ],
             [
              0.3333333333333333,
              "#9c179e"
             ],
             [
              0.4444444444444444,
              "#bd3786"
             ],
             [
              0.5555555555555556,
              "#d8576b"
             ],
             [
              0.6666666666666666,
              "#ed7953"
             ],
             [
              0.7777777777777778,
              "#fb9f3a"
             ],
             [
              0.8888888888888888,
              "#fdca26"
             ],
             [
              1,
              "#f0f921"
             ]
            ],
            "type": "histogram2d"
           }
          ],
          "histogram2dcontour": [
           {
            "colorbar": {
             "outlinewidth": 0,
             "ticks": ""
            },
            "colorscale": [
             [
              0,
              "#0d0887"
             ],
             [
              0.1111111111111111,
              "#46039f"
             ],
             [
              0.2222222222222222,
              "#7201a8"
             ],
             [
              0.3333333333333333,
              "#9c179e"
             ],
             [
              0.4444444444444444,
              "#bd3786"
             ],
             [
              0.5555555555555556,
              "#d8576b"
             ],
             [
              0.6666666666666666,
              "#ed7953"
             ],
             [
              0.7777777777777778,
              "#fb9f3a"
             ],
             [
              0.8888888888888888,
              "#fdca26"
             ],
             [
              1,
              "#f0f921"
             ]
            ],
            "type": "histogram2dcontour"
           }
          ],
          "mesh3d": [
           {
            "colorbar": {
             "outlinewidth": 0,
             "ticks": ""
            },
            "type": "mesh3d"
           }
          ],
          "parcoords": [
           {
            "line": {
             "colorbar": {
              "outlinewidth": 0,
              "ticks": ""
             }
            },
            "type": "parcoords"
           }
          ],
          "pie": [
           {
            "automargin": true,
            "type": "pie"
           }
          ],
          "scatter": [
           {
            "fillpattern": {
             "fillmode": "overlay",
             "size": 10,
             "solidity": 0.2
            },
            "type": "scatter"
           }
          ],
          "scatter3d": [
           {
            "line": {
             "colorbar": {
              "outlinewidth": 0,
              "ticks": ""
             }
            },
            "marker": {
             "colorbar": {
              "outlinewidth": 0,
              "ticks": ""
             }
            },
            "type": "scatter3d"
           }
          ],
          "scattercarpet": [
           {
            "marker": {
             "colorbar": {
              "outlinewidth": 0,
              "ticks": ""
             }
            },
            "type": "scattercarpet"
           }
          ],
          "scattergeo": [
           {
            "marker": {
             "colorbar": {
              "outlinewidth": 0,
              "ticks": ""
             }
            },
            "type": "scattergeo"
           }
          ],
          "scattergl": [
           {
            "marker": {
             "colorbar": {
              "outlinewidth": 0,
              "ticks": ""
             }
            },
            "type": "scattergl"
           }
          ],
          "scattermapbox": [
           {
            "marker": {
             "colorbar": {
              "outlinewidth": 0,
              "ticks": ""
             }
            },
            "type": "scattermapbox"
           }
          ],
          "scatterpolar": [
           {
            "marker": {
             "colorbar": {
              "outlinewidth": 0,
              "ticks": ""
             }
            },
            "type": "scatterpolar"
           }
          ],
          "scatterpolargl": [
           {
            "marker": {
             "colorbar": {
              "outlinewidth": 0,
              "ticks": ""
             }
            },
            "type": "scatterpolargl"
           }
          ],
          "scatterternary": [
           {
            "marker": {
             "colorbar": {
              "outlinewidth": 0,
              "ticks": ""
             }
            },
            "type": "scatterternary"
           }
          ],
          "surface": [
           {
            "colorbar": {
             "outlinewidth": 0,
             "ticks": ""
            },
            "colorscale": [
             [
              0,
              "#0d0887"
             ],
             [
              0.1111111111111111,
              "#46039f"
             ],
             [
              0.2222222222222222,
              "#7201a8"
             ],
             [
              0.3333333333333333,
              "#9c179e"
             ],
             [
              0.4444444444444444,
              "#bd3786"
             ],
             [
              0.5555555555555556,
              "#d8576b"
             ],
             [
              0.6666666666666666,
              "#ed7953"
             ],
             [
              0.7777777777777778,
              "#fb9f3a"
             ],
             [
              0.8888888888888888,
              "#fdca26"
             ],
             [
              1,
              "#f0f921"
             ]
            ],
            "type": "surface"
           }
          ],
          "table": [
           {
            "cells": {
             "fill": {
              "color": "#EBF0F8"
             },
             "line": {
              "color": "white"
             }
            },
            "header": {
             "fill": {
              "color": "#C8D4E3"
             },
             "line": {
              "color": "white"
             }
            },
            "type": "table"
           }
          ]
         },
         "layout": {
          "annotationdefaults": {
           "arrowcolor": "#2a3f5f",
           "arrowhead": 0,
           "arrowwidth": 1
          },
          "autotypenumbers": "strict",
          "coloraxis": {
           "colorbar": {
            "outlinewidth": 0,
            "ticks": ""
           }
          },
          "colorscale": {
           "diverging": [
            [
             0,
             "#8e0152"
            ],
            [
             0.1,
             "#c51b7d"
            ],
            [
             0.2,
             "#de77ae"
            ],
            [
             0.3,
             "#f1b6da"
            ],
            [
             0.4,
             "#fde0ef"
            ],
            [
             0.5,
             "#f7f7f7"
            ],
            [
             0.6,
             "#e6f5d0"
            ],
            [
             0.7,
             "#b8e186"
            ],
            [
             0.8,
             "#7fbc41"
            ],
            [
             0.9,
             "#4d9221"
            ],
            [
             1,
             "#276419"
            ]
           ],
           "sequential": [
            [
             0,
             "#0d0887"
            ],
            [
             0.1111111111111111,
             "#46039f"
            ],
            [
             0.2222222222222222,
             "#7201a8"
            ],
            [
             0.3333333333333333,
             "#9c179e"
            ],
            [
             0.4444444444444444,
             "#bd3786"
            ],
            [
             0.5555555555555556,
             "#d8576b"
            ],
            [
             0.6666666666666666,
             "#ed7953"
            ],
            [
             0.7777777777777778,
             "#fb9f3a"
            ],
            [
             0.8888888888888888,
             "#fdca26"
            ],
            [
             1,
             "#f0f921"
            ]
           ],
           "sequentialminus": [
            [
             0,
             "#0d0887"
            ],
            [
             0.1111111111111111,
             "#46039f"
            ],
            [
             0.2222222222222222,
             "#7201a8"
            ],
            [
             0.3333333333333333,
             "#9c179e"
            ],
            [
             0.4444444444444444,
             "#bd3786"
            ],
            [
             0.5555555555555556,
             "#d8576b"
            ],
            [
             0.6666666666666666,
             "#ed7953"
            ],
            [
             0.7777777777777778,
             "#fb9f3a"
            ],
            [
             0.8888888888888888,
             "#fdca26"
            ],
            [
             1,
             "#f0f921"
            ]
           ]
          },
          "colorway": [
           "#636efa",
           "#EF553B",
           "#00cc96",
           "#ab63fa",
           "#FFA15A",
           "#19d3f3",
           "#FF6692",
           "#B6E880",
           "#FF97FF",
           "#FECB52"
          ],
          "font": {
           "color": "#2a3f5f"
          },
          "geo": {
           "bgcolor": "white",
           "lakecolor": "white",
           "landcolor": "#E5ECF6",
           "showlakes": true,
           "showland": true,
           "subunitcolor": "white"
          },
          "hoverlabel": {
           "align": "left"
          },
          "hovermode": "closest",
          "mapbox": {
           "style": "light"
          },
          "paper_bgcolor": "white",
          "plot_bgcolor": "#E5ECF6",
          "polar": {
           "angularaxis": {
            "gridcolor": "white",
            "linecolor": "white",
            "ticks": ""
           },
           "bgcolor": "#E5ECF6",
           "radialaxis": {
            "gridcolor": "white",
            "linecolor": "white",
            "ticks": ""
           }
          },
          "scene": {
           "xaxis": {
            "backgroundcolor": "#E5ECF6",
            "gridcolor": "white",
            "gridwidth": 2,
            "linecolor": "white",
            "showbackground": true,
            "ticks": "",
            "zerolinecolor": "white"
           },
           "yaxis": {
            "backgroundcolor": "#E5ECF6",
            "gridcolor": "white",
            "gridwidth": 2,
            "linecolor": "white",
            "showbackground": true,
            "ticks": "",
            "zerolinecolor": "white"
           },
           "zaxis": {
            "backgroundcolor": "#E5ECF6",
            "gridcolor": "white",
            "gridwidth": 2,
            "linecolor": "white",
            "showbackground": true,
            "ticks": "",
            "zerolinecolor": "white"
           }
          },
          "shapedefaults": {
           "line": {
            "color": "#2a3f5f"
           }
          },
          "ternary": {
           "aaxis": {
            "gridcolor": "white",
            "linecolor": "white",
            "ticks": ""
           },
           "baxis": {
            "gridcolor": "white",
            "linecolor": "white",
            "ticks": ""
           },
           "bgcolor": "#E5ECF6",
           "caxis": {
            "gridcolor": "white",
            "linecolor": "white",
            "ticks": ""
           }
          },
          "title": {
           "x": 0.05
          },
          "xaxis": {
           "automargin": true,
           "gridcolor": "white",
           "linecolor": "white",
           "ticks": "",
           "title": {
            "standoff": 15
           },
           "zerolinecolor": "white",
           "zerolinewidth": 2
          },
          "yaxis": {
           "automargin": true,
           "gridcolor": "white",
           "linecolor": "white",
           "ticks": "",
           "title": {
            "standoff": 15
           },
           "zerolinecolor": "white",
           "zerolinewidth": 2
          }
         }
        },
        "title": {
         "text": "Distribuição de resultados para cada ativo com leak=True"
        },
        "xaxis": {
         "anchor": "y",
         "domain": [
          0,
          1
         ],
         "title": {
          "text": "asset"
         }
        },
        "yaxis": {
         "anchor": "x",
         "domain": [
          0,
          1
         ],
         "title": {
          "text": "R-squared (R2)"
         }
        }
       }
      }
     },
     "metadata": {},
     "output_type": "display_data"
    },
    {
     "data": {
      "application/vnd.plotly.v1+json": {
       "config": {
        "plotlyServerURL": "https://plot.ly"
       },
       "data": [
        {
         "alignmentgroup": "True",
         "boxpoints": "all",
         "hovertemplate": "domain=Petróleo<br>asset=%{x}<br>R-squared (R2)=%{y}<extra></extra>",
         "legendgroup": "Petróleo",
         "marker": {
          "color": "#636efa"
         },
         "name": "Petróleo",
         "notched": false,
         "offsetgroup": "Petróleo",
         "orientation": "v",
         "showlegend": true,
         "type": "box",
         "x": [
          "PETR3.SA",
          "PETR3.SA",
          "PETR3.SA",
          "PRIO3.SA",
          "PRIO3.SA",
          "PRIO3.SA",
          "PETR3.SA",
          "PETR3.SA",
          "PETR3.SA",
          "PRIO3.SA",
          "PRIO3.SA",
          "PRIO3.SA",
          "PETR3.SA",
          "PETR3.SA",
          "PETR3.SA",
          "PRIO3.SA",
          "PRIO3.SA",
          "PRIO3.SA",
          "PETR3.SA",
          "PETR3.SA",
          "PETR3.SA",
          "PRIO3.SA",
          "PRIO3.SA",
          "PRIO3.SA",
          "PETR3.SA",
          "PETR3.SA",
          "PETR3.SA",
          "PRIO3.SA",
          "PRIO3.SA",
          "PRIO3.SA",
          "PETR3.SA",
          "PETR3.SA",
          "PETR3.SA",
          "PRIO3.SA",
          "PRIO3.SA",
          "PRIO3.SA",
          "PETR3.SA",
          "PETR3.SA",
          "PETR3.SA",
          "PRIO3.SA",
          "PRIO3.SA",
          "PRIO3.SA",
          "PETR3.SA",
          "PETR3.SA",
          "PETR3.SA",
          "PRIO3.SA",
          "PRIO3.SA",
          "PRIO3.SA",
          "PETR3.SA",
          "PETR3.SA",
          "PETR3.SA",
          "PRIO3.SA",
          "PRIO3.SA",
          "PRIO3.SA",
          "PETR3.SA",
          "PETR3.SA",
          "PETR3.SA",
          "PRIO3.SA",
          "PRIO3.SA",
          "PRIO3.SA",
          "PETR3.SA",
          "PETR3.SA",
          "PETR3.SA",
          "PRIO3.SA",
          "PRIO3.SA",
          "PRIO3.SA",
          "PETR3.SA",
          "PETR3.SA",
          "PETR3.SA",
          "PRIO3.SA",
          "PRIO3.SA",
          "PRIO3.SA",
          "PETR3.SA",
          "PETR3.SA",
          "PETR3.SA",
          "PRIO3.SA",
          "PRIO3.SA",
          "PRIO3.SA",
          "PETR3.SA",
          "PETR3.SA",
          "PETR3.SA",
          "PRIO3.SA",
          "PRIO3.SA",
          "PRIO3.SA"
         ],
         "x0": " ",
         "xaxis": "x",
         "y": [
          0.54717,
          0.7273,
          0.80084,
          0.58631,
          0.74965,
          0.82774,
          0.54336,
          0.72828,
          0.80213,
          0.58459,
          0.748,
          0.82668,
          0.54463,
          0.73144,
          0.80206,
          0.58461,
          0.74822,
          0.82487,
          0.54623,
          0.73024,
          0.80038,
          0.5843,
          0.74658,
          0.82531,
          0.548,
          0.72995,
          0.79951,
          0.58502,
          0.74518,
          0.82478,
          0.5476,
          0.73007,
          0.79955,
          0.58485,
          0.74707,
          0.82512,
          0.54742,
          0.72863,
          0.80083,
          0.5864,
          0.74541,
          0.82446,
          0.54679,
          0.73011,
          0.79856,
          0.57967,
          0.74283,
          0.82067,
          0.54699,
          0.72753,
          0.79419,
          0.58291,
          0.74211,
          0.82163,
          0.54705,
          0.74236,
          0.8049,
          0.58186,
          0.73596,
          0.81747,
          0.54928,
          0.73541,
          0.80525,
          0.57897,
          0.7341,
          0.82083,
          0.54844,
          0.73796,
          0.8019,
          0.57959,
          0.73781,
          0.81976,
          0.54677,
          0.74105,
          0.80636,
          0.58125,
          0.74247,
          0.82495,
          0.48052,
          0.7086,
          0.79154,
          0.53289,
          0.73169,
          0.82047
         ],
         "y0": " ",
         "yaxis": "y"
        },
        {
         "alignmentgroup": "True",
         "boxpoints": "all",
         "hovertemplate": "domain=Mineração<br>asset=%{x}<br>R-squared (R2)=%{y}<extra></extra>",
         "legendgroup": "Mineração",
         "marker": {
          "color": "#EF553B"
         },
         "name": "Mineração",
         "notched": false,
         "offsetgroup": "Mineração",
         "orientation": "v",
         "showlegend": true,
         "type": "box",
         "x": [
          "VALE3.SA",
          "VALE3.SA",
          "VALE3.SA",
          "GGBR3.SA",
          "GGBR3.SA",
          "GGBR3.SA",
          "VALE3.SA",
          "VALE3.SA",
          "VALE3.SA",
          "GGBR3.SA",
          "GGBR3.SA",
          "GGBR3.SA",
          "VALE3.SA",
          "VALE3.SA",
          "VALE3.SA",
          "GGBR3.SA",
          "GGBR3.SA",
          "GGBR3.SA",
          "VALE3.SA",
          "VALE3.SA",
          "VALE3.SA",
          "GGBR3.SA",
          "GGBR3.SA",
          "GGBR3.SA",
          "VALE3.SA",
          "VALE3.SA",
          "VALE3.SA",
          "GGBR3.SA",
          "GGBR3.SA",
          "GGBR3.SA",
          "VALE3.SA",
          "VALE3.SA",
          "VALE3.SA",
          "GGBR3.SA",
          "GGBR3.SA",
          "GGBR3.SA",
          "VALE3.SA",
          "VALE3.SA",
          "VALE3.SA",
          "GGBR3.SA",
          "GGBR3.SA",
          "GGBR3.SA",
          "VALE3.SA",
          "VALE3.SA",
          "VALE3.SA",
          "GGBR3.SA",
          "GGBR3.SA",
          "GGBR3.SA",
          "VALE3.SA",
          "VALE3.SA",
          "VALE3.SA",
          "GGBR3.SA",
          "GGBR3.SA",
          "GGBR3.SA",
          "VALE3.SA",
          "VALE3.SA",
          "VALE3.SA",
          "GGBR3.SA",
          "GGBR3.SA",
          "GGBR3.SA",
          "VALE3.SA",
          "VALE3.SA",
          "VALE3.SA",
          "GGBR3.SA",
          "GGBR3.SA",
          "GGBR3.SA",
          "VALE3.SA",
          "VALE3.SA",
          "VALE3.SA",
          "GGBR3.SA",
          "GGBR3.SA",
          "GGBR3.SA",
          "VALE3.SA",
          "VALE3.SA",
          "VALE3.SA",
          "GGBR3.SA",
          "GGBR3.SA",
          "GGBR3.SA",
          "VALE3.SA",
          "VALE3.SA",
          "VALE3.SA",
          "GGBR3.SA",
          "GGBR3.SA",
          "GGBR3.SA"
         ],
         "x0": " ",
         "xaxis": "x",
         "y": [
          0.64561,
          0.79204,
          0.87814,
          0.55713,
          0.7643,
          0.83352,
          0.64327,
          0.79116,
          0.87731,
          0.55798,
          0.76319,
          0.83288,
          0.64168,
          0.78889,
          0.87587,
          0.55742,
          0.75942,
          0.8301,
          0.63998,
          0.78814,
          0.87745,
          0.55613,
          0.75888,
          0.83198,
          0.64388,
          0.78869,
          0.8768,
          0.55683,
          0.76017,
          0.83252,
          0.64129,
          0.78659,
          0.87581,
          0.55572,
          0.7592,
          0.82952,
          0.63933,
          0.78632,
          0.87632,
          0.55381,
          0.75812,
          0.83014,
          0.63621,
          0.78395,
          0.87266,
          0.55307,
          0.75811,
          0.83,
          0.64543,
          0.79711,
          0.87359,
          0.55079,
          0.75862,
          0.82461,
          0.64355,
          0.79215,
          0.87731,
          0.54462,
          0.76044,
          0.82927,
          0.6396,
          0.79285,
          0.8721,
          0.54067,
          0.76451,
          0.82768,
          0.63619,
          0.79428,
          0.87663,
          0.54915,
          0.76353,
          0.82333,
          0.63448,
          0.79624,
          0.87388,
          0.54027,
          0.75898,
          0.82787,
          0.60929,
          0.78088,
          0.87392,
          0.49371,
          0.74812,
          0.82591
         ],
         "y0": " ",
         "yaxis": "y"
        },
        {
         "alignmentgroup": "True",
         "boxpoints": "all",
         "hovertemplate": "domain=Financeiro<br>asset=%{x}<br>R-squared (R2)=%{y}<extra></extra>",
         "legendgroup": "Financeiro",
         "marker": {
          "color": "#00cc96"
         },
         "name": "Financeiro",
         "notched": false,
         "offsetgroup": "Financeiro",
         "orientation": "v",
         "showlegend": true,
         "type": "box",
         "x": [
          "ABCB4.SA",
          "ABCB4.SA",
          "ABCB4.SA",
          "ITUB3.SA",
          "ITUB3.SA",
          "ITUB3.SA",
          "ABCB4.SA",
          "ABCB4.SA",
          "ABCB4.SA",
          "ITUB3.SA",
          "ITUB3.SA",
          "ITUB3.SA",
          "ABCB4.SA",
          "ABCB4.SA",
          "ABCB4.SA",
          "ITUB3.SA",
          "ITUB3.SA",
          "ITUB3.SA",
          "ABCB4.SA",
          "ABCB4.SA",
          "ABCB4.SA",
          "ITUB3.SA",
          "ITUB3.SA",
          "ITUB3.SA",
          "ABCB4.SA",
          "ABCB4.SA",
          "ABCB4.SA",
          "ITUB3.SA",
          "ITUB3.SA",
          "ITUB3.SA",
          "ABCB4.SA",
          "ABCB4.SA",
          "ABCB4.SA",
          "ITUB3.SA",
          "ITUB3.SA",
          "ITUB3.SA",
          "ABCB4.SA",
          "ABCB4.SA",
          "ABCB4.SA",
          "ITUB3.SA",
          "ITUB3.SA",
          "ITUB3.SA",
          "ABCB4.SA",
          "ABCB4.SA",
          "ABCB4.SA",
          "ITUB3.SA",
          "ITUB3.SA",
          "ITUB3.SA",
          "ABCB4.SA",
          "ABCB4.SA",
          "ABCB4.SA",
          "ITUB3.SA",
          "ITUB3.SA",
          "ITUB3.SA",
          "ABCB4.SA",
          "ABCB4.SA",
          "ABCB4.SA",
          "ITUB3.SA",
          "ITUB3.SA",
          "ITUB3.SA",
          "ABCB4.SA",
          "ABCB4.SA",
          "ABCB4.SA",
          "ITUB3.SA",
          "ITUB3.SA",
          "ITUB3.SA",
          "ABCB4.SA",
          "ABCB4.SA",
          "ABCB4.SA",
          "ITUB3.SA",
          "ITUB3.SA",
          "ITUB3.SA",
          "ABCB4.SA",
          "ABCB4.SA",
          "ABCB4.SA",
          "ITUB3.SA",
          "ITUB3.SA",
          "ITUB3.SA",
          "ABCB4.SA",
          "ABCB4.SA",
          "ABCB4.SA",
          "ITUB3.SA",
          "ITUB3.SA",
          "ITUB3.SA"
         ],
         "x0": " ",
         "xaxis": "x",
         "y": [
          0.5137,
          0.68552,
          0.78049,
          0.58966,
          0.78711,
          0.86047,
          0.51135,
          0.68517,
          0.77837,
          0.5887,
          0.78514,
          0.85877,
          0.51583,
          0.68316,
          0.77707,
          0.58506,
          0.78248,
          0.85836,
          0.51733,
          0.68446,
          0.77724,
          0.58937,
          0.7843,
          0.8563,
          0.51868,
          0.68475,
          0.77846,
          0.5906,
          0.78342,
          0.85796,
          0.52215,
          0.68511,
          0.77724,
          0.58856,
          0.78264,
          0.85651,
          0.52155,
          0.68156,
          0.77462,
          0.5908,
          0.78519,
          0.85746,
          0.51462,
          0.68377,
          0.77927,
          0.58623,
          0.77858,
          0.85958,
          0.51416,
          0.68614,
          0.77821,
          0.57735,
          0.78217,
          0.85381,
          0.50861,
          0.68333,
          0.77716,
          0.57536,
          0.77804,
          0.85492,
          0.51065,
          0.68724,
          0.77499,
          0.57329,
          0.78243,
          0.85356,
          0.51306,
          0.68949,
          0.77679,
          0.58323,
          0.77952,
          0.85417,
          0.51529,
          0.68753,
          0.7791,
          0.58254,
          0.77677,
          0.85434,
          0.43751,
          0.6576,
          0.76704,
          0.53766,
          0.77542,
          0.85552
         ],
         "y0": " ",
         "yaxis": "y"
        },
        {
         "alignmentgroup": "True",
         "boxpoints": "all",
         "hovertemplate": "domain=Saúde<br>asset=%{x}<br>R-squared (R2)=%{y}<extra></extra>",
         "legendgroup": "Saúde",
         "marker": {
          "color": "#ab63fa"
         },
         "name": "Saúde",
         "notched": false,
         "offsetgroup": "Saúde",
         "orientation": "v",
         "showlegend": true,
         "type": "box",
         "x": [
          "FLRY3.SA",
          "FLRY3.SA",
          "FLRY3.SA",
          "RADL3.SA",
          "RADL3.SA",
          "RADL3.SA",
          "FLRY3.SA",
          "FLRY3.SA",
          "FLRY3.SA",
          "RADL3.SA",
          "RADL3.SA",
          "RADL3.SA",
          "FLRY3.SA",
          "FLRY3.SA",
          "FLRY3.SA",
          "RADL3.SA",
          "RADL3.SA",
          "RADL3.SA",
          "FLRY3.SA",
          "FLRY3.SA",
          "FLRY3.SA",
          "RADL3.SA",
          "RADL3.SA",
          "RADL3.SA",
          "FLRY3.SA",
          "FLRY3.SA",
          "FLRY3.SA",
          "RADL3.SA",
          "RADL3.SA",
          "RADL3.SA",
          "FLRY3.SA",
          "FLRY3.SA",
          "FLRY3.SA",
          "RADL3.SA",
          "RADL3.SA",
          "RADL3.SA",
          "FLRY3.SA",
          "FLRY3.SA",
          "FLRY3.SA",
          "RADL3.SA",
          "RADL3.SA",
          "RADL3.SA",
          "FLRY3.SA",
          "FLRY3.SA",
          "FLRY3.SA",
          "RADL3.SA",
          "RADL3.SA",
          "RADL3.SA",
          "FLRY3.SA",
          "FLRY3.SA",
          "FLRY3.SA",
          "RADL3.SA",
          "RADL3.SA",
          "RADL3.SA",
          "FLRY3.SA",
          "FLRY3.SA",
          "FLRY3.SA",
          "RADL3.SA",
          "RADL3.SA",
          "RADL3.SA",
          "FLRY3.SA",
          "FLRY3.SA",
          "FLRY3.SA",
          "RADL3.SA",
          "RADL3.SA",
          "RADL3.SA",
          "FLRY3.SA",
          "FLRY3.SA",
          "FLRY3.SA",
          "RADL3.SA",
          "RADL3.SA",
          "RADL3.SA",
          "FLRY3.SA",
          "FLRY3.SA",
          "FLRY3.SA",
          "RADL3.SA",
          "RADL3.SA",
          "RADL3.SA",
          "FLRY3.SA",
          "FLRY3.SA",
          "FLRY3.SA",
          "RADL3.SA",
          "RADL3.SA",
          "RADL3.SA"
         ],
         "x0": " ",
         "xaxis": "x",
         "y": [
          0.55071,
          0.75498,
          0.82232,
          0.61309,
          0.75925,
          0.82698,
          0.54812,
          0.75313,
          0.82156,
          0.61245,
          0.75811,
          0.82518,
          0.5429,
          0.75223,
          0.82093,
          0.61576,
          0.75922,
          0.82611,
          0.54267,
          0.7523,
          0.82111,
          0.61856,
          0.75856,
          0.82456,
          0.54479,
          0.75188,
          0.82028,
          0.62001,
          0.76027,
          0.8261,
          0.54341,
          0.75069,
          0.82055,
          0.61799,
          0.75996,
          0.82584,
          0.54785,
          0.74915,
          0.81906,
          0.62007,
          0.75884,
          0.8251,
          0.54853,
          0.75087,
          0.81922,
          0.61847,
          0.75437,
          0.82257,
          0.53969,
          0.74946,
          0.81844,
          0.61399,
          0.75092,
          0.82428,
          0.5477,
          0.7484,
          0.81856,
          0.61548,
          0.75044,
          0.82465,
          0.54224,
          0.74949,
          0.80685,
          0.61825,
          0.7606,
          0.8286,
          0.5509,
          0.74927,
          0.82152,
          0.6169,
          0.76298,
          0.83085,
          0.5454,
          0.74922,
          0.81676,
          0.60962,
          0.76366,
          0.83237,
          0.48407,
          0.73707,
          0.81337,
          0.5671,
          0.74251,
          0.81893
         ],
         "y0": " ",
         "yaxis": "y"
        }
       ],
       "layout": {
        "boxmode": "group",
        "legend": {
         "title": {
          "text": "domain"
         },
         "tracegroupgap": 0
        },
        "template": {
         "data": {
          "bar": [
           {
            "error_x": {
             "color": "#2a3f5f"
            },
            "error_y": {
             "color": "#2a3f5f"
            },
            "marker": {
             "line": {
              "color": "#E5ECF6",
              "width": 0.5
             },
             "pattern": {
              "fillmode": "overlay",
              "size": 10,
              "solidity": 0.2
             }
            },
            "type": "bar"
           }
          ],
          "barpolar": [
           {
            "marker": {
             "line": {
              "color": "#E5ECF6",
              "width": 0.5
             },
             "pattern": {
              "fillmode": "overlay",
              "size": 10,
              "solidity": 0.2
             }
            },
            "type": "barpolar"
           }
          ],
          "carpet": [
           {
            "aaxis": {
             "endlinecolor": "#2a3f5f",
             "gridcolor": "white",
             "linecolor": "white",
             "minorgridcolor": "white",
             "startlinecolor": "#2a3f5f"
            },
            "baxis": {
             "endlinecolor": "#2a3f5f",
             "gridcolor": "white",
             "linecolor": "white",
             "minorgridcolor": "white",
             "startlinecolor": "#2a3f5f"
            },
            "type": "carpet"
           }
          ],
          "choropleth": [
           {
            "colorbar": {
             "outlinewidth": 0,
             "ticks": ""
            },
            "type": "choropleth"
           }
          ],
          "contour": [
           {
            "colorbar": {
             "outlinewidth": 0,
             "ticks": ""
            },
            "colorscale": [
             [
              0,
              "#0d0887"
             ],
             [
              0.1111111111111111,
              "#46039f"
             ],
             [
              0.2222222222222222,
              "#7201a8"
             ],
             [
              0.3333333333333333,
              "#9c179e"
             ],
             [
              0.4444444444444444,
              "#bd3786"
             ],
             [
              0.5555555555555556,
              "#d8576b"
             ],
             [
              0.6666666666666666,
              "#ed7953"
             ],
             [
              0.7777777777777778,
              "#fb9f3a"
             ],
             [
              0.8888888888888888,
              "#fdca26"
             ],
             [
              1,
              "#f0f921"
             ]
            ],
            "type": "contour"
           }
          ],
          "contourcarpet": [
           {
            "colorbar": {
             "outlinewidth": 0,
             "ticks": ""
            },
            "type": "contourcarpet"
           }
          ],
          "heatmap": [
           {
            "colorbar": {
             "outlinewidth": 0,
             "ticks": ""
            },
            "colorscale": [
             [
              0,
              "#0d0887"
             ],
             [
              0.1111111111111111,
              "#46039f"
             ],
             [
              0.2222222222222222,
              "#7201a8"
             ],
             [
              0.3333333333333333,
              "#9c179e"
             ],
             [
              0.4444444444444444,
              "#bd3786"
             ],
             [
              0.5555555555555556,
              "#d8576b"
             ],
             [
              0.6666666666666666,
              "#ed7953"
             ],
             [
              0.7777777777777778,
              "#fb9f3a"
             ],
             [
              0.8888888888888888,
              "#fdca26"
             ],
             [
              1,
              "#f0f921"
             ]
            ],
            "type": "heatmap"
           }
          ],
          "heatmapgl": [
           {
            "colorbar": {
             "outlinewidth": 0,
             "ticks": ""
            },
            "colorscale": [
             [
              0,
              "#0d0887"
             ],
             [
              0.1111111111111111,
              "#46039f"
             ],
             [
              0.2222222222222222,
              "#7201a8"
             ],
             [
              0.3333333333333333,
              "#9c179e"
             ],
             [
              0.4444444444444444,
              "#bd3786"
             ],
             [
              0.5555555555555556,
              "#d8576b"
             ],
             [
              0.6666666666666666,
              "#ed7953"
             ],
             [
              0.7777777777777778,
              "#fb9f3a"
             ],
             [
              0.8888888888888888,
              "#fdca26"
             ],
             [
              1,
              "#f0f921"
             ]
            ],
            "type": "heatmapgl"
           }
          ],
          "histogram": [
           {
            "marker": {
             "pattern": {
              "fillmode": "overlay",
              "size": 10,
              "solidity": 0.2
             }
            },
            "type": "histogram"
           }
          ],
          "histogram2d": [
           {
            "colorbar": {
             "outlinewidth": 0,
             "ticks": ""
            },
            "colorscale": [
             [
              0,
              "#0d0887"
             ],
             [
              0.1111111111111111,
              "#46039f"
             ],
             [
              0.2222222222222222,
              "#7201a8"
             ],
             [
              0.3333333333333333,
              "#9c179e"
             ],
             [
              0.4444444444444444,
              "#bd3786"
             ],
             [
              0.5555555555555556,
              "#d8576b"
             ],
             [
              0.6666666666666666,
              "#ed7953"
             ],
             [
              0.7777777777777778,
              "#fb9f3a"
             ],
             [
              0.8888888888888888,
              "#fdca26"
             ],
             [
              1,
              "#f0f921"
             ]
            ],
            "type": "histogram2d"
           }
          ],
          "histogram2dcontour": [
           {
            "colorbar": {
             "outlinewidth": 0,
             "ticks": ""
            },
            "colorscale": [
             [
              0,
              "#0d0887"
             ],
             [
              0.1111111111111111,
              "#46039f"
             ],
             [
              0.2222222222222222,
              "#7201a8"
             ],
             [
              0.3333333333333333,
              "#9c179e"
             ],
             [
              0.4444444444444444,
              "#bd3786"
             ],
             [
              0.5555555555555556,
              "#d8576b"
             ],
             [
              0.6666666666666666,
              "#ed7953"
             ],
             [
              0.7777777777777778,
              "#fb9f3a"
             ],
             [
              0.8888888888888888,
              "#fdca26"
             ],
             [
              1,
              "#f0f921"
             ]
            ],
            "type": "histogram2dcontour"
           }
          ],
          "mesh3d": [
           {
            "colorbar": {
             "outlinewidth": 0,
             "ticks": ""
            },
            "type": "mesh3d"
           }
          ],
          "parcoords": [
           {
            "line": {
             "colorbar": {
              "outlinewidth": 0,
              "ticks": ""
             }
            },
            "type": "parcoords"
           }
          ],
          "pie": [
           {
            "automargin": true,
            "type": "pie"
           }
          ],
          "scatter": [
           {
            "fillpattern": {
             "fillmode": "overlay",
             "size": 10,
             "solidity": 0.2
            },
            "type": "scatter"
           }
          ],
          "scatter3d": [
           {
            "line": {
             "colorbar": {
              "outlinewidth": 0,
              "ticks": ""
             }
            },
            "marker": {
             "colorbar": {
              "outlinewidth": 0,
              "ticks": ""
             }
            },
            "type": "scatter3d"
           }
          ],
          "scattercarpet": [
           {
            "marker": {
             "colorbar": {
              "outlinewidth": 0,
              "ticks": ""
             }
            },
            "type": "scattercarpet"
           }
          ],
          "scattergeo": [
           {
            "marker": {
             "colorbar": {
              "outlinewidth": 0,
              "ticks": ""
             }
            },
            "type": "scattergeo"
           }
          ],
          "scattergl": [
           {
            "marker": {
             "colorbar": {
              "outlinewidth": 0,
              "ticks": ""
             }
            },
            "type": "scattergl"
           }
          ],
          "scattermapbox": [
           {
            "marker": {
             "colorbar": {
              "outlinewidth": 0,
              "ticks": ""
             }
            },
            "type": "scattermapbox"
           }
          ],
          "scatterpolar": [
           {
            "marker": {
             "colorbar": {
              "outlinewidth": 0,
              "ticks": ""
             }
            },
            "type": "scatterpolar"
           }
          ],
          "scatterpolargl": [
           {
            "marker": {
             "colorbar": {
              "outlinewidth": 0,
              "ticks": ""
             }
            },
            "type": "scatterpolargl"
           }
          ],
          "scatterternary": [
           {
            "marker": {
             "colorbar": {
              "outlinewidth": 0,
              "ticks": ""
             }
            },
            "type": "scatterternary"
           }
          ],
          "surface": [
           {
            "colorbar": {
             "outlinewidth": 0,
             "ticks": ""
            },
            "colorscale": [
             [
              0,
              "#0d0887"
             ],
             [
              0.1111111111111111,
              "#46039f"
             ],
             [
              0.2222222222222222,
              "#7201a8"
             ],
             [
              0.3333333333333333,
              "#9c179e"
             ],
             [
              0.4444444444444444,
              "#bd3786"
             ],
             [
              0.5555555555555556,
              "#d8576b"
             ],
             [
              0.6666666666666666,
              "#ed7953"
             ],
             [
              0.7777777777777778,
              "#fb9f3a"
             ],
             [
              0.8888888888888888,
              "#fdca26"
             ],
             [
              1,
              "#f0f921"
             ]
            ],
            "type": "surface"
           }
          ],
          "table": [
           {
            "cells": {
             "fill": {
              "color": "#EBF0F8"
             },
             "line": {
              "color": "white"
             }
            },
            "header": {
             "fill": {
              "color": "#C8D4E3"
             },
             "line": {
              "color": "white"
             }
            },
            "type": "table"
           }
          ]
         },
         "layout": {
          "annotationdefaults": {
           "arrowcolor": "#2a3f5f",
           "arrowhead": 0,
           "arrowwidth": 1
          },
          "autotypenumbers": "strict",
          "coloraxis": {
           "colorbar": {
            "outlinewidth": 0,
            "ticks": ""
           }
          },
          "colorscale": {
           "diverging": [
            [
             0,
             "#8e0152"
            ],
            [
             0.1,
             "#c51b7d"
            ],
            [
             0.2,
             "#de77ae"
            ],
            [
             0.3,
             "#f1b6da"
            ],
            [
             0.4,
             "#fde0ef"
            ],
            [
             0.5,
             "#f7f7f7"
            ],
            [
             0.6,
             "#e6f5d0"
            ],
            [
             0.7,
             "#b8e186"
            ],
            [
             0.8,
             "#7fbc41"
            ],
            [
             0.9,
             "#4d9221"
            ],
            [
             1,
             "#276419"
            ]
           ],
           "sequential": [
            [
             0,
             "#0d0887"
            ],
            [
             0.1111111111111111,
             "#46039f"
            ],
            [
             0.2222222222222222,
             "#7201a8"
            ],
            [
             0.3333333333333333,
             "#9c179e"
            ],
            [
             0.4444444444444444,
             "#bd3786"
            ],
            [
             0.5555555555555556,
             "#d8576b"
            ],
            [
             0.6666666666666666,
             "#ed7953"
            ],
            [
             0.7777777777777778,
             "#fb9f3a"
            ],
            [
             0.8888888888888888,
             "#fdca26"
            ],
            [
             1,
             "#f0f921"
            ]
           ],
           "sequentialminus": [
            [
             0,
             "#0d0887"
            ],
            [
             0.1111111111111111,
             "#46039f"
            ],
            [
             0.2222222222222222,
             "#7201a8"
            ],
            [
             0.3333333333333333,
             "#9c179e"
            ],
            [
             0.4444444444444444,
             "#bd3786"
            ],
            [
             0.5555555555555556,
             "#d8576b"
            ],
            [
             0.6666666666666666,
             "#ed7953"
            ],
            [
             0.7777777777777778,
             "#fb9f3a"
            ],
            [
             0.8888888888888888,
             "#fdca26"
            ],
            [
             1,
             "#f0f921"
            ]
           ]
          },
          "colorway": [
           "#636efa",
           "#EF553B",
           "#00cc96",
           "#ab63fa",
           "#FFA15A",
           "#19d3f3",
           "#FF6692",
           "#B6E880",
           "#FF97FF",
           "#FECB52"
          ],
          "font": {
           "color": "#2a3f5f"
          },
          "geo": {
           "bgcolor": "white",
           "lakecolor": "white",
           "landcolor": "#E5ECF6",
           "showlakes": true,
           "showland": true,
           "subunitcolor": "white"
          },
          "hoverlabel": {
           "align": "left"
          },
          "hovermode": "closest",
          "mapbox": {
           "style": "light"
          },
          "paper_bgcolor": "white",
          "plot_bgcolor": "#E5ECF6",
          "polar": {
           "angularaxis": {
            "gridcolor": "white",
            "linecolor": "white",
            "ticks": ""
           },
           "bgcolor": "#E5ECF6",
           "radialaxis": {
            "gridcolor": "white",
            "linecolor": "white",
            "ticks": ""
           }
          },
          "scene": {
           "xaxis": {
            "backgroundcolor": "#E5ECF6",
            "gridcolor": "white",
            "gridwidth": 2,
            "linecolor": "white",
            "showbackground": true,
            "ticks": "",
            "zerolinecolor": "white"
           },
           "yaxis": {
            "backgroundcolor": "#E5ECF6",
            "gridcolor": "white",
            "gridwidth": 2,
            "linecolor": "white",
            "showbackground": true,
            "ticks": "",
            "zerolinecolor": "white"
           },
           "zaxis": {
            "backgroundcolor": "#E5ECF6",
            "gridcolor": "white",
            "gridwidth": 2,
            "linecolor": "white",
            "showbackground": true,
            "ticks": "",
            "zerolinecolor": "white"
           }
          },
          "shapedefaults": {
           "line": {
            "color": "#2a3f5f"
           }
          },
          "ternary": {
           "aaxis": {
            "gridcolor": "white",
            "linecolor": "white",
            "ticks": ""
           },
           "baxis": {
            "gridcolor": "white",
            "linecolor": "white",
            "ticks": ""
           },
           "bgcolor": "#E5ECF6",
           "caxis": {
            "gridcolor": "white",
            "linecolor": "white",
            "ticks": ""
           }
          },
          "title": {
           "x": 0.05
          },
          "xaxis": {
           "automargin": true,
           "gridcolor": "white",
           "linecolor": "white",
           "ticks": "",
           "title": {
            "standoff": 15
           },
           "zerolinecolor": "white",
           "zerolinewidth": 2
          },
          "yaxis": {
           "automargin": true,
           "gridcolor": "white",
           "linecolor": "white",
           "ticks": "",
           "title": {
            "standoff": 15
           },
           "zerolinecolor": "white",
           "zerolinewidth": 2
          }
         }
        },
        "title": {
         "text": "Distribuição de resultados para cada ativo com leak=False"
        },
        "xaxis": {
         "anchor": "y",
         "domain": [
          0,
          1
         ],
         "title": {
          "text": "asset"
         }
        },
        "yaxis": {
         "anchor": "x",
         "domain": [
          0,
          1
         ],
         "title": {
          "text": "R-squared (R2)"
         }
        }
       }
      }
     },
     "metadata": {},
     "output_type": "display_data"
    }
   ],
   "source": [
    "\n",
    "macro_clf['domain'] = macro_clf.asset.apply(asset_to_domain)\n",
    "reg['domain'] = reg.asset.apply(asset_to_domain)\n",
    "\n",
    "for leak in [True, False]:\n",
    "        \n",
    "    fig = px.box(\n",
    "        macro_clf[macro_clf.leak == leak], x=\"asset\", \n",
    "        y=\"f1-score\", \n",
    "        points=\"all\", \n",
    "        color = 'domain',\n",
    "        title = f'Distribuição de resultados para cada ativo com leak={leak}')\n",
    "    \n",
    "    fig.write_image(PATH_REPORTS + f\"/images/box_plot_asset_models_leak={leak}_clf.png\")\n",
    "    fig.show()\n",
    "\n",
    "for leak in [True, False]:\n",
    "    \n",
    "    fig = px.box(\n",
    "        reg[reg.leak == leak], x=\"asset\", \n",
    "        y=\"R-squared (R2)\", \n",
    "        points=\"all\", \n",
    "        color = 'domain',\n",
    "        title = f'Distribuição de resultados para cada ativo com leak={leak}')\n",
    "    \n",
    "    fig.write_image(PATH_REPORTS + f\"/images/box_plot_asset_models_leak={leak}_reg.png\")\n",
    "    fig.show()"
   ]
  },
  {
   "cell_type": "code",
   "execution_count": 23,
   "metadata": {},
   "outputs": [],
   "source": [
    "# for assets, domain in assets_domain:\n",
    "#     print(f'''\n",
    "# ##############################################\n",
    "# # DOMAIN: {domain}\n",
    "# # ASSETS: {assets}\n",
    "# ##############################################\n",
    "#           ''')\n",
    "    \n",
    "#     print('Metricas macro - label meta')\n",
    "#     metrics_clf = macro_clf[macro_clf.label_col.str.contains('meta') & macro_clf.asset.isin(assets)].\\\n",
    "#     drop(['support', 'scaling_method', 'prediction_type', 'class', 'feature_cols'], axis =1 ).\\\n",
    "#             rename({'asset': 'ativo', 'label_col': 'alvo'},axis=1)[['ativo','seq_len','alvo','precision','recall', 'f1-score', 'model', 'leak']]\n",
    "    \n",
    "#     display(metrics_clf)\n",
    "    \n",
    "#     print('Metricas regressao - label diff_close_mean_z_score')\n",
    "    \n",
    "    \n",
    "#     metrics_reg = reg[reg.label_col.str.contains('diff_close_mean_z_score') & reg.asset.isin(assets)].\\\n",
    "#         drop(['scaling_method', 'prediction_type', 'feature_cols'], axis = 1).\\\n",
    "#             rename({'asset': 'ativo', 'label_col': 'alvo','f1-score':'valor'},axis=1)\n",
    "#     display(metrics_reg)"
   ]
  }
 ],
 "metadata": {
  "kernelspec": {
   "display_name": "env-tcc-tf-gpu",
   "language": "python",
   "name": "python3"
  },
  "language_info": {
   "codemirror_mode": {
    "name": "ipython",
    "version": 3
   },
   "file_extension": ".py",
   "mimetype": "text/x-python",
   "name": "python",
   "nbconvert_exporter": "python",
   "pygments_lexer": "ipython3",
   "version": "3.12.7"
  }
 },
 "nbformat": 4,
 "nbformat_minor": 2
}
