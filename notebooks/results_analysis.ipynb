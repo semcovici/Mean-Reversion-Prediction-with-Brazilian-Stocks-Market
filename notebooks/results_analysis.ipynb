{
 "cells": [
  {
   "cell_type": "code",
   "execution_count": 1,
   "metadata": {
    "notebookRunGroups": {
     "groupValue": "2"
    }
   },
   "outputs": [],
   "source": [
    "\n",
    "# import external libs\n",
    "import pandas as pd\n",
    "import warnings\n",
    "from tqdm import tqdm\n",
    "import os\n",
    "import sys\n",
    "sys.path.append('../src/')\n",
    "import re\n",
    "import plotly.express as px\n",
    "\n",
    "# import internal libs\n",
    "from model.evaluation import classification_report, regression_metrics, get_classification_report\n",
    "from model.config import create_experiment_configs_dummy, create_experiment_configs_tf\n",
    "from data.preparation import load_dataset"
   ]
  },
  {
   "cell_type": "code",
   "execution_count": 2,
   "metadata": {},
   "outputs": [],
   "source": [
    "# remove warning\n",
    "warnings.filterwarnings('ignore')"
   ]
  },
  {
   "cell_type": "code",
   "execution_count": 3,
   "metadata": {},
   "outputs": [],
   "source": [
    "# define paths\n",
    "PATH_REPORTS = '../reports/'\n",
    "lstm_results_path = 'test_results/LSTM_with_Attention_{asset}_test_results.csv'\n",
    "mlp_results_path =  'test_results/MLP_{asset}_test_results.csv'\n",
    "DATA_DIR = '../data/'"
   ]
  },
  {
   "cell_type": "code",
   "execution_count": 4,
   "metadata": {},
   "outputs": [],
   "source": [
    "# define experiments\n",
    "ASSETS = [\n",
    "    \"PETR3.SA\", \n",
    "    \"PRIO3.SA\", \n",
    "    \"VALE3.SA\", \n",
    "    \"GGBR3.SA\", \n",
    "    \"ABCB4.SA\", \n",
    "    \"ITUB3.SA\", \n",
    "    \"FLRY3.SA\", \n",
    "    \"RADL3.SA\"\n",
    "    ]\n",
    "\n",
    "seq_len_list = [1,2,3,4,5,6,7,14,21,28,35,42,49,56,63,70]\n",
    "\n",
    "moving_windows = [7,14,21]\n",
    "\n",
    "dict_experiments_dummy = create_experiment_configs_dummy(ASSETS, moving_windows)\n",
    "dict_experiments_tf = create_experiment_configs_tf(ASSETS, seq_len_list, moving_windows)"
   ]
  },
  {
   "cell_type": "markdown",
   "metadata": {},
   "source": [
    "## General results"
   ]
  },
  {
   "cell_type": "markdown",
   "metadata": {},
   "source": [
    "### Create table"
   ]
  },
  {
   "cell_type": "code",
   "execution_count": 5,
   "metadata": {},
   "outputs": [
    {
     "name": "stderr",
     "output_type": "stream",
     "text": [
      "100%|██████████| 2304/2304 [01:34<00:00, 24.37it/s]\n",
      "100%|██████████| 48/48 [00:02<00:00, 20.39it/s]\n"
     ]
    }
   ],
   "source": [
    "list_results_clf = []\n",
    "list_results_reg = []\n",
    "# list_results = []\n",
    "\n",
    "for name, dict_experiments, path_results in [\n",
    "    (\"tf\", dict_experiments_tf, PATH_REPORTS + 'test_results/{algorithm}_{asset}_features={features}__label={label_col}__sql_len={seq_len}__scaling_method={scaling_method}_test_results.csv'),\n",
    "    ('dummy', dict_experiments_dummy, PATH_REPORTS + \"test_results/Dummy_model_{asset}_features={feature_col}__label={label_col}_test_results.csv\")\n",
    "]:\n",
    "    \n",
    "    for exp_name, config in tqdm(dict_experiments.items()):\n",
    "        \n",
    "        if name == \"tf\":\n",
    "            \n",
    "            feature_cols = config['feature_cols']\n",
    "            label_col = config['label_col']\n",
    "            seq_len = config['seq_len']\n",
    "            asset = config['asset']\n",
    "            scaling_method = config['scaling_method']\n",
    "            algorithm = config['algorithm']\n",
    "            asset = config['asset']\n",
    "            prediction_type = config['prediction_type']\n",
    "            \n",
    "            filepath = path_results.format(\n",
    "                algorithm = algorithm,\n",
    "                features = \"_\".join(feature_cols),\n",
    "                label_col = label_col,\n",
    "                asset = asset.replace(\".\", \"_\"),\n",
    "                scaling_method = scaling_method.__str__(),\n",
    "                seq_len = seq_len\n",
    "            )\n",
    "            \n",
    "            if not os.path.exists(filepath): \n",
    "                print(f\"The file {filepath} dont't exists\")\n",
    "                continue\n",
    "\n",
    "            results = pd.read_csv(filepath)\n",
    "            \n",
    "        elif name == 'dummy':\n",
    "            feature_cols = [config['feature_col']]\n",
    "            label_col = config['label_col']\n",
    "            asset = config['asset']\n",
    "            algorithm = \"Dummy_model\"\n",
    "            seq_len = 1\n",
    "            scaling_method = None\n",
    "            prediction_type = 'dummy'\n",
    "            asset_formated = asset.replace(\".\", \"_\")\n",
    "            \n",
    "            filepath = path_results.format(\n",
    "                algorithm = algorithm,\n",
    "                feature_col = feature_cols[0],\n",
    "                label_col = label_col,\n",
    "                asset = asset_formated\n",
    "            )\n",
    "            \n",
    "            if  not os.path.exists(filepath): \n",
    "                print(f\"The file {filepath} dont't exists\")\n",
    "                continue\n",
    "            \n",
    "            results = pd.read_csv(filepath)\n",
    "        \n",
    "        # concat with the test dataset\n",
    "        full_test = load_dataset(asset=asset, data_dir=DATA_DIR,dataset_split='test')\n",
    "        results = pd.concat([results,full_test], axis =1)\n",
    "        \n",
    "        # find the window for label calculation (get the number of the string)\n",
    "        window = int(re.findall(r'\\d+', label_col)[0])\n",
    "\n",
    "        # results without leak\n",
    "        results_wo_leak = results.iloc[max(seq_len, window):]\n",
    "        \n",
    "        # remove invalid days\n",
    "        results = results[results.Invalid_Days == 0]\n",
    "        \n",
    "        # raise error if there is nan values\n",
    "        if results.isna().sum().sum() > 0: \n",
    "            raise ValueError('Há dados nulos no dataframe de resultados')\n",
    "                \n",
    "                \n",
    "        new_coluns = [asset, str(feature_cols), str(label_col), seq_len, algorithm, scaling_method, prediction_type]\n",
    "        new_columns_nms = ['asset','feature_cols','label_col','seq_len','model','scaling_method','prediction_type', 'leak']\n",
    "                \n",
    "        # regression metrics\n",
    "        reg_metrics = regression_metrics(results.y_test, results.y_pred)\n",
    "        reg_metrics_wo_leak = regression_metrics(results_wo_leak.y_test, results_wo_leak.y_pred)\n",
    "        \n",
    "    \n",
    "        # add columns with experiment config \n",
    "\n",
    "        reg_metrics[\n",
    "            new_columns_nms\n",
    "            ] = new_coluns + [True]\n",
    "        reg_metrics_wo_leak[\n",
    "            new_columns_nms\n",
    "            ] = new_coluns+ [False]\n",
    "        \n",
    "        list_results_reg.append(reg_metrics)\n",
    "        list_results_reg.append(reg_metrics_wo_leak)\n",
    "    \n",
    "    \n",
    "        # obtem metricas de classificacao, truncando os valores (se o valor já for a meta, não terá diferenca)\n",
    "        y_test_trunc = [int(i) for i in results.y_test]\n",
    "        y_pred_trunc = [int(i) for i in results.y_pred]\n",
    "        df_cr = get_classification_report(y_test_trunc, y_pred_trunc)\n",
    "        \n",
    "        y_test_trunc_woleak = [int(i) for i in results_wo_leak.y_test]\n",
    "        y_pred_trunc_woleak = [int(i) for i in results_wo_leak.y_pred]\n",
    "        df_cr_wo_leak = get_classification_report(y_test_trunc_woleak, y_pred_trunc_woleak)\n",
    "        \n",
    "        df_cr[new_columns_nms] = new_coluns + [True]\n",
    "        df_cr_wo_leak[new_columns_nms] = new_coluns + [False]\n",
    "        \n",
    "        list_results_clf.append(df_cr)\n",
    "        list_results_clf.append(df_cr_wo_leak)"
   ]
  },
  {
   "cell_type": "code",
   "execution_count": 6,
   "metadata": {},
   "outputs": [],
   "source": [
    "# concat results\n",
    "final_results_reg = pd.concat(list_results_reg).reset_index(drop=True)\n",
    "final_results_clf = pd.concat(list_results_clf).reset_index(drop=True)"
   ]
  },
  {
   "cell_type": "code",
   "execution_count": 7,
   "metadata": {},
   "outputs": [],
   "source": [
    "# only the \"right\" labels\n",
    "final_results_clf = final_results_clf[final_results_clf.label_col.str.contains('meta')]\n",
    "final_results_reg = final_results_reg[final_results_reg.label_col.str.contains('diff_close_mean_z_score')]"
   ]
  },
  {
   "cell_type": "markdown",
   "metadata": {},
   "source": [
    "### Results"
   ]
  },
  {
   "cell_type": "code",
   "execution_count": 8,
   "metadata": {},
   "outputs": [],
   "source": [
    "assets_domain = [([\"PETR3.SA\",\"PRIO3.SA\"], 'Petróleo'), ([\"VALE3.SA\", \"GGBR3.SA\"], \"Mineração\"), ([\"ABCB4.SA\", \"ITUB3.SA\"], 'Financeiro'), ([\"FLRY3.SA\", \"RADL3.SA\"], 'Saúde')]\n",
    "\n",
    "# Configuração para não omitir linhas\n",
    "pd.set_option('display.max_rows', None)\n",
    "pd.set_option('display.max_columns', None)"
   ]
  },
  {
   "cell_type": "markdown",
   "metadata": {},
   "source": [
    "\n",
    "#### Dummy results"
   ]
  },
  {
   "cell_type": "code",
   "execution_count": 9,
   "metadata": {},
   "outputs": [],
   "source": [
    "# general \n",
    "macro_dummy = final_results_clf[\n",
    "    (final_results_clf['class'] == 'macro avg') &\n",
    "    (final_results_clf['prediction_type'] == 'dummy')\n",
    "    \n",
    "    ].round(2)\n",
    "reg_dummy = final_results_reg[\n",
    "    (final_results_reg['prediction_type'] == 'dummy')\n",
    "    ].round(2)"
   ]
  },
  {
   "cell_type": "code",
   "execution_count": 10,
   "metadata": {},
   "outputs": [
    {
     "name": "stdout",
     "output_type": "stream",
     "text": [
      "meta_7 Dummy_model\n"
     ]
    },
    {
     "data": {
      "application/vnd.plotly.v1+json": {
       "config": {
        "plotlyServerURL": "https://plot.ly"
       },
       "data": [
        {
         "alignmentgroup": "True",
         "boxpoints": "all",
         "hovertemplate": "model=%{x}<br>f1-score=%{y}<extra></extra>",
         "legendgroup": "",
         "marker": {
          "color": "#636efa"
         },
         "name": "",
         "notched": false,
         "offsetgroup": "",
         "orientation": "v",
         "showlegend": false,
         "type": "box",
         "x": [
          "Dummy_model",
          "Dummy_model",
          "Dummy_model",
          "Dummy_model",
          "Dummy_model",
          "Dummy_model",
          "Dummy_model",
          "Dummy_model",
          "Dummy_model",
          "Dummy_model",
          "Dummy_model",
          "Dummy_model",
          "Dummy_model",
          "Dummy_model",
          "Dummy_model",
          "Dummy_model",
          "Dummy_model",
          "Dummy_model",
          "Dummy_model",
          "Dummy_model",
          "Dummy_model",
          "Dummy_model",
          "Dummy_model",
          "Dummy_model",
          "Dummy_model",
          "Dummy_model",
          "Dummy_model",
          "Dummy_model",
          "Dummy_model",
          "Dummy_model",
          "Dummy_model",
          "Dummy_model",
          "Dummy_model",
          "Dummy_model",
          "Dummy_model",
          "Dummy_model",
          "Dummy_model",
          "Dummy_model",
          "Dummy_model",
          "Dummy_model",
          "Dummy_model",
          "Dummy_model",
          "Dummy_model",
          "Dummy_model",
          "Dummy_model",
          "Dummy_model",
          "Dummy_model",
          "Dummy_model"
         ],
         "x0": " ",
         "xaxis": "x",
         "y": [
          0.33,
          0.54,
          0.43,
          0.67,
          0.49,
          0.7,
          0.34,
          0.48,
          0.49,
          0.65,
          0.62,
          0.74,
          0.4,
          0.6,
          0.56,
          0.7,
          0.45,
          0.71,
          0.34,
          0.52,
          0.53,
          0.69,
          0.42,
          0.66,
          0.35,
          0.51,
          0.47,
          0.65,
          0.45,
          0.57,
          0.35,
          0.43,
          0.46,
          0.58,
          0.46,
          0.54,
          0.33,
          0.51,
          0.38,
          0.63,
          0.48,
          0.7,
          0.33,
          0.5,
          0.5,
          0.66,
          0.52,
          0.61
         ],
         "y0": " ",
         "yaxis": "y"
        }
       ],
       "layout": {
        "boxmode": "group",
        "legend": {
         "tracegroupgap": 0
        },
        "margin": {
         "t": 60
        },
        "template": {
         "data": {
          "bar": [
           {
            "error_x": {
             "color": "#2a3f5f"
            },
            "error_y": {
             "color": "#2a3f5f"
            },
            "marker": {
             "line": {
              "color": "#E5ECF6",
              "width": 0.5
             },
             "pattern": {
              "fillmode": "overlay",
              "size": 10,
              "solidity": 0.2
             }
            },
            "type": "bar"
           }
          ],
          "barpolar": [
           {
            "marker": {
             "line": {
              "color": "#E5ECF6",
              "width": 0.5
             },
             "pattern": {
              "fillmode": "overlay",
              "size": 10,
              "solidity": 0.2
             }
            },
            "type": "barpolar"
           }
          ],
          "carpet": [
           {
            "aaxis": {
             "endlinecolor": "#2a3f5f",
             "gridcolor": "white",
             "linecolor": "white",
             "minorgridcolor": "white",
             "startlinecolor": "#2a3f5f"
            },
            "baxis": {
             "endlinecolor": "#2a3f5f",
             "gridcolor": "white",
             "linecolor": "white",
             "minorgridcolor": "white",
             "startlinecolor": "#2a3f5f"
            },
            "type": "carpet"
           }
          ],
          "choropleth": [
           {
            "colorbar": {
             "outlinewidth": 0,
             "ticks": ""
            },
            "type": "choropleth"
           }
          ],
          "contour": [
           {
            "colorbar": {
             "outlinewidth": 0,
             "ticks": ""
            },
            "colorscale": [
             [
              0,
              "#0d0887"
             ],
             [
              0.1111111111111111,
              "#46039f"
             ],
             [
              0.2222222222222222,
              "#7201a8"
             ],
             [
              0.3333333333333333,
              "#9c179e"
             ],
             [
              0.4444444444444444,
              "#bd3786"
             ],
             [
              0.5555555555555556,
              "#d8576b"
             ],
             [
              0.6666666666666666,
              "#ed7953"
             ],
             [
              0.7777777777777778,
              "#fb9f3a"
             ],
             [
              0.8888888888888888,
              "#fdca26"
             ],
             [
              1,
              "#f0f921"
             ]
            ],
            "type": "contour"
           }
          ],
          "contourcarpet": [
           {
            "colorbar": {
             "outlinewidth": 0,
             "ticks": ""
            },
            "type": "contourcarpet"
           }
          ],
          "heatmap": [
           {
            "colorbar": {
             "outlinewidth": 0,
             "ticks": ""
            },
            "colorscale": [
             [
              0,
              "#0d0887"
             ],
             [
              0.1111111111111111,
              "#46039f"
             ],
             [
              0.2222222222222222,
              "#7201a8"
             ],
             [
              0.3333333333333333,
              "#9c179e"
             ],
             [
              0.4444444444444444,
              "#bd3786"
             ],
             [
              0.5555555555555556,
              "#d8576b"
             ],
             [
              0.6666666666666666,
              "#ed7953"
             ],
             [
              0.7777777777777778,
              "#fb9f3a"
             ],
             [
              0.8888888888888888,
              "#fdca26"
             ],
             [
              1,
              "#f0f921"
             ]
            ],
            "type": "heatmap"
           }
          ],
          "heatmapgl": [
           {
            "colorbar": {
             "outlinewidth": 0,
             "ticks": ""
            },
            "colorscale": [
             [
              0,
              "#0d0887"
             ],
             [
              0.1111111111111111,
              "#46039f"
             ],
             [
              0.2222222222222222,
              "#7201a8"
             ],
             [
              0.3333333333333333,
              "#9c179e"
             ],
             [
              0.4444444444444444,
              "#bd3786"
             ],
             [
              0.5555555555555556,
              "#d8576b"
             ],
             [
              0.6666666666666666,
              "#ed7953"
             ],
             [
              0.7777777777777778,
              "#fb9f3a"
             ],
             [
              0.8888888888888888,
              "#fdca26"
             ],
             [
              1,
              "#f0f921"
             ]
            ],
            "type": "heatmapgl"
           }
          ],
          "histogram": [
           {
            "marker": {
             "pattern": {
              "fillmode": "overlay",
              "size": 10,
              "solidity": 0.2
             }
            },
            "type": "histogram"
           }
          ],
          "histogram2d": [
           {
            "colorbar": {
             "outlinewidth": 0,
             "ticks": ""
            },
            "colorscale": [
             [
              0,
              "#0d0887"
             ],
             [
              0.1111111111111111,
              "#46039f"
             ],
             [
              0.2222222222222222,
              "#7201a8"
             ],
             [
              0.3333333333333333,
              "#9c179e"
             ],
             [
              0.4444444444444444,
              "#bd3786"
             ],
             [
              0.5555555555555556,
              "#d8576b"
             ],
             [
              0.6666666666666666,
              "#ed7953"
             ],
             [
              0.7777777777777778,
              "#fb9f3a"
             ],
             [
              0.8888888888888888,
              "#fdca26"
             ],
             [
              1,
              "#f0f921"
             ]
            ],
            "type": "histogram2d"
           }
          ],
          "histogram2dcontour": [
           {
            "colorbar": {
             "outlinewidth": 0,
             "ticks": ""
            },
            "colorscale": [
             [
              0,
              "#0d0887"
             ],
             [
              0.1111111111111111,
              "#46039f"
             ],
             [
              0.2222222222222222,
              "#7201a8"
             ],
             [
              0.3333333333333333,
              "#9c179e"
             ],
             [
              0.4444444444444444,
              "#bd3786"
             ],
             [
              0.5555555555555556,
              "#d8576b"
             ],
             [
              0.6666666666666666,
              "#ed7953"
             ],
             [
              0.7777777777777778,
              "#fb9f3a"
             ],
             [
              0.8888888888888888,
              "#fdca26"
             ],
             [
              1,
              "#f0f921"
             ]
            ],
            "type": "histogram2dcontour"
           }
          ],
          "mesh3d": [
           {
            "colorbar": {
             "outlinewidth": 0,
             "ticks": ""
            },
            "type": "mesh3d"
           }
          ],
          "parcoords": [
           {
            "line": {
             "colorbar": {
              "outlinewidth": 0,
              "ticks": ""
             }
            },
            "type": "parcoords"
           }
          ],
          "pie": [
           {
            "automargin": true,
            "type": "pie"
           }
          ],
          "scatter": [
           {
            "fillpattern": {
             "fillmode": "overlay",
             "size": 10,
             "solidity": 0.2
            },
            "type": "scatter"
           }
          ],
          "scatter3d": [
           {
            "line": {
             "colorbar": {
              "outlinewidth": 0,
              "ticks": ""
             }
            },
            "marker": {
             "colorbar": {
              "outlinewidth": 0,
              "ticks": ""
             }
            },
            "type": "scatter3d"
           }
          ],
          "scattercarpet": [
           {
            "marker": {
             "colorbar": {
              "outlinewidth": 0,
              "ticks": ""
             }
            },
            "type": "scattercarpet"
           }
          ],
          "scattergeo": [
           {
            "marker": {
             "colorbar": {
              "outlinewidth": 0,
              "ticks": ""
             }
            },
            "type": "scattergeo"
           }
          ],
          "scattergl": [
           {
            "marker": {
             "colorbar": {
              "outlinewidth": 0,
              "ticks": ""
             }
            },
            "type": "scattergl"
           }
          ],
          "scattermapbox": [
           {
            "marker": {
             "colorbar": {
              "outlinewidth": 0,
              "ticks": ""
             }
            },
            "type": "scattermapbox"
           }
          ],
          "scatterpolar": [
           {
            "marker": {
             "colorbar": {
              "outlinewidth": 0,
              "ticks": ""
             }
            },
            "type": "scatterpolar"
           }
          ],
          "scatterpolargl": [
           {
            "marker": {
             "colorbar": {
              "outlinewidth": 0,
              "ticks": ""
             }
            },
            "type": "scatterpolargl"
           }
          ],
          "scatterternary": [
           {
            "marker": {
             "colorbar": {
              "outlinewidth": 0,
              "ticks": ""
             }
            },
            "type": "scatterternary"
           }
          ],
          "surface": [
           {
            "colorbar": {
             "outlinewidth": 0,
             "ticks": ""
            },
            "colorscale": [
             [
              0,
              "#0d0887"
             ],
             [
              0.1111111111111111,
              "#46039f"
             ],
             [
              0.2222222222222222,
              "#7201a8"
             ],
             [
              0.3333333333333333,
              "#9c179e"
             ],
             [
              0.4444444444444444,
              "#bd3786"
             ],
             [
              0.5555555555555556,
              "#d8576b"
             ],
             [
              0.6666666666666666,
              "#ed7953"
             ],
             [
              0.7777777777777778,
              "#fb9f3a"
             ],
             [
              0.8888888888888888,
              "#fdca26"
             ],
             [
              1,
              "#f0f921"
             ]
            ],
            "type": "surface"
           }
          ],
          "table": [
           {
            "cells": {
             "fill": {
              "color": "#EBF0F8"
             },
             "line": {
              "color": "white"
             }
            },
            "header": {
             "fill": {
              "color": "#C8D4E3"
             },
             "line": {
              "color": "white"
             }
            },
            "type": "table"
           }
          ]
         },
         "layout": {
          "annotationdefaults": {
           "arrowcolor": "#2a3f5f",
           "arrowhead": 0,
           "arrowwidth": 1
          },
          "autotypenumbers": "strict",
          "coloraxis": {
           "colorbar": {
            "outlinewidth": 0,
            "ticks": ""
           }
          },
          "colorscale": {
           "diverging": [
            [
             0,
             "#8e0152"
            ],
            [
             0.1,
             "#c51b7d"
            ],
            [
             0.2,
             "#de77ae"
            ],
            [
             0.3,
             "#f1b6da"
            ],
            [
             0.4,
             "#fde0ef"
            ],
            [
             0.5,
             "#f7f7f7"
            ],
            [
             0.6,
             "#e6f5d0"
            ],
            [
             0.7,
             "#b8e186"
            ],
            [
             0.8,
             "#7fbc41"
            ],
            [
             0.9,
             "#4d9221"
            ],
            [
             1,
             "#276419"
            ]
           ],
           "sequential": [
            [
             0,
             "#0d0887"
            ],
            [
             0.1111111111111111,
             "#46039f"
            ],
            [
             0.2222222222222222,
             "#7201a8"
            ],
            [
             0.3333333333333333,
             "#9c179e"
            ],
            [
             0.4444444444444444,
             "#bd3786"
            ],
            [
             0.5555555555555556,
             "#d8576b"
            ],
            [
             0.6666666666666666,
             "#ed7953"
            ],
            [
             0.7777777777777778,
             "#fb9f3a"
            ],
            [
             0.8888888888888888,
             "#fdca26"
            ],
            [
             1,
             "#f0f921"
            ]
           ],
           "sequentialminus": [
            [
             0,
             "#0d0887"
            ],
            [
             0.1111111111111111,
             "#46039f"
            ],
            [
             0.2222222222222222,
             "#7201a8"
            ],
            [
             0.3333333333333333,
             "#9c179e"
            ],
            [
             0.4444444444444444,
             "#bd3786"
            ],
            [
             0.5555555555555556,
             "#d8576b"
            ],
            [
             0.6666666666666666,
             "#ed7953"
            ],
            [
             0.7777777777777778,
             "#fb9f3a"
            ],
            [
             0.8888888888888888,
             "#fdca26"
            ],
            [
             1,
             "#f0f921"
            ]
           ]
          },
          "colorway": [
           "#636efa",
           "#EF553B",
           "#00cc96",
           "#ab63fa",
           "#FFA15A",
           "#19d3f3",
           "#FF6692",
           "#B6E880",
           "#FF97FF",
           "#FECB52"
          ],
          "font": {
           "color": "#2a3f5f"
          },
          "geo": {
           "bgcolor": "white",
           "lakecolor": "white",
           "landcolor": "#E5ECF6",
           "showlakes": true,
           "showland": true,
           "subunitcolor": "white"
          },
          "hoverlabel": {
           "align": "left"
          },
          "hovermode": "closest",
          "mapbox": {
           "style": "light"
          },
          "paper_bgcolor": "white",
          "plot_bgcolor": "#E5ECF6",
          "polar": {
           "angularaxis": {
            "gridcolor": "white",
            "linecolor": "white",
            "ticks": ""
           },
           "bgcolor": "#E5ECF6",
           "radialaxis": {
            "gridcolor": "white",
            "linecolor": "white",
            "ticks": ""
           }
          },
          "scene": {
           "xaxis": {
            "backgroundcolor": "#E5ECF6",
            "gridcolor": "white",
            "gridwidth": 2,
            "linecolor": "white",
            "showbackground": true,
            "ticks": "",
            "zerolinecolor": "white"
           },
           "yaxis": {
            "backgroundcolor": "#E5ECF6",
            "gridcolor": "white",
            "gridwidth": 2,
            "linecolor": "white",
            "showbackground": true,
            "ticks": "",
            "zerolinecolor": "white"
           },
           "zaxis": {
            "backgroundcolor": "#E5ECF6",
            "gridcolor": "white",
            "gridwidth": 2,
            "linecolor": "white",
            "showbackground": true,
            "ticks": "",
            "zerolinecolor": "white"
           }
          },
          "shapedefaults": {
           "line": {
            "color": "#2a3f5f"
           }
          },
          "ternary": {
           "aaxis": {
            "gridcolor": "white",
            "linecolor": "white",
            "ticks": ""
           },
           "baxis": {
            "gridcolor": "white",
            "linecolor": "white",
            "ticks": ""
           },
           "bgcolor": "#E5ECF6",
           "caxis": {
            "gridcolor": "white",
            "linecolor": "white",
            "ticks": ""
           }
          },
          "title": {
           "x": 0.05
          },
          "xaxis": {
           "automargin": true,
           "gridcolor": "white",
           "linecolor": "white",
           "ticks": "",
           "title": {
            "standoff": 15
           },
           "zerolinecolor": "white",
           "zerolinewidth": 2
          },
          "yaxis": {
           "automargin": true,
           "gridcolor": "white",
           "linecolor": "white",
           "ticks": "",
           "title": {
            "standoff": 15
           },
           "zerolinecolor": "white",
           "zerolinewidth": 2
          }
         }
        },
        "xaxis": {
         "anchor": "y",
         "domain": [
          0,
          1
         ],
         "title": {
          "text": "model"
         }
        },
        "yaxis": {
         "anchor": "x",
         "domain": [
          0,
          1
         ],
         "title": {
          "text": "f1-score"
         }
        }
       }
      }
     },
     "metadata": {},
     "output_type": "display_data"
    },
    {
     "name": "stdout",
     "output_type": "stream",
     "text": [
      "meta_14 Dummy_model\n"
     ]
    },
    {
     "data": {
      "application/vnd.plotly.v1+json": {
       "config": {
        "plotlyServerURL": "https://plot.ly"
       },
       "data": [
        {
         "alignmentgroup": "True",
         "boxpoints": "all",
         "hovertemplate": "model=%{x}<br>f1-score=%{y}<extra></extra>",
         "legendgroup": "",
         "marker": {
          "color": "#636efa"
         },
         "name": "",
         "notched": false,
         "offsetgroup": "",
         "orientation": "v",
         "showlegend": false,
         "type": "box",
         "x": [
          "Dummy_model",
          "Dummy_model",
          "Dummy_model",
          "Dummy_model",
          "Dummy_model",
          "Dummy_model",
          "Dummy_model",
          "Dummy_model",
          "Dummy_model",
          "Dummy_model",
          "Dummy_model",
          "Dummy_model",
          "Dummy_model",
          "Dummy_model",
          "Dummy_model",
          "Dummy_model",
          "Dummy_model",
          "Dummy_model",
          "Dummy_model",
          "Dummy_model",
          "Dummy_model",
          "Dummy_model",
          "Dummy_model",
          "Dummy_model",
          "Dummy_model",
          "Dummy_model",
          "Dummy_model",
          "Dummy_model",
          "Dummy_model",
          "Dummy_model",
          "Dummy_model",
          "Dummy_model",
          "Dummy_model",
          "Dummy_model",
          "Dummy_model",
          "Dummy_model",
          "Dummy_model",
          "Dummy_model",
          "Dummy_model",
          "Dummy_model",
          "Dummy_model",
          "Dummy_model",
          "Dummy_model",
          "Dummy_model",
          "Dummy_model",
          "Dummy_model",
          "Dummy_model",
          "Dummy_model"
         ],
         "x0": " ",
         "xaxis": "x",
         "y": [
          0.33,
          0.54,
          0.43,
          0.67,
          0.49,
          0.7,
          0.34,
          0.48,
          0.49,
          0.65,
          0.62,
          0.74,
          0.4,
          0.6,
          0.56,
          0.7,
          0.45,
          0.71,
          0.34,
          0.52,
          0.53,
          0.69,
          0.42,
          0.66,
          0.35,
          0.51,
          0.47,
          0.65,
          0.45,
          0.57,
          0.35,
          0.43,
          0.46,
          0.58,
          0.46,
          0.54,
          0.33,
          0.51,
          0.38,
          0.63,
          0.48,
          0.7,
          0.33,
          0.5,
          0.5,
          0.66,
          0.52,
          0.61
         ],
         "y0": " ",
         "yaxis": "y"
        }
       ],
       "layout": {
        "boxmode": "group",
        "legend": {
         "tracegroupgap": 0
        },
        "margin": {
         "t": 60
        },
        "template": {
         "data": {
          "bar": [
           {
            "error_x": {
             "color": "#2a3f5f"
            },
            "error_y": {
             "color": "#2a3f5f"
            },
            "marker": {
             "line": {
              "color": "#E5ECF6",
              "width": 0.5
             },
             "pattern": {
              "fillmode": "overlay",
              "size": 10,
              "solidity": 0.2
             }
            },
            "type": "bar"
           }
          ],
          "barpolar": [
           {
            "marker": {
             "line": {
              "color": "#E5ECF6",
              "width": 0.5
             },
             "pattern": {
              "fillmode": "overlay",
              "size": 10,
              "solidity": 0.2
             }
            },
            "type": "barpolar"
           }
          ],
          "carpet": [
           {
            "aaxis": {
             "endlinecolor": "#2a3f5f",
             "gridcolor": "white",
             "linecolor": "white",
             "minorgridcolor": "white",
             "startlinecolor": "#2a3f5f"
            },
            "baxis": {
             "endlinecolor": "#2a3f5f",
             "gridcolor": "white",
             "linecolor": "white",
             "minorgridcolor": "white",
             "startlinecolor": "#2a3f5f"
            },
            "type": "carpet"
           }
          ],
          "choropleth": [
           {
            "colorbar": {
             "outlinewidth": 0,
             "ticks": ""
            },
            "type": "choropleth"
           }
          ],
          "contour": [
           {
            "colorbar": {
             "outlinewidth": 0,
             "ticks": ""
            },
            "colorscale": [
             [
              0,
              "#0d0887"
             ],
             [
              0.1111111111111111,
              "#46039f"
             ],
             [
              0.2222222222222222,
              "#7201a8"
             ],
             [
              0.3333333333333333,
              "#9c179e"
             ],
             [
              0.4444444444444444,
              "#bd3786"
             ],
             [
              0.5555555555555556,
              "#d8576b"
             ],
             [
              0.6666666666666666,
              "#ed7953"
             ],
             [
              0.7777777777777778,
              "#fb9f3a"
             ],
             [
              0.8888888888888888,
              "#fdca26"
             ],
             [
              1,
              "#f0f921"
             ]
            ],
            "type": "contour"
           }
          ],
          "contourcarpet": [
           {
            "colorbar": {
             "outlinewidth": 0,
             "ticks": ""
            },
            "type": "contourcarpet"
           }
          ],
          "heatmap": [
           {
            "colorbar": {
             "outlinewidth": 0,
             "ticks": ""
            },
            "colorscale": [
             [
              0,
              "#0d0887"
             ],
             [
              0.1111111111111111,
              "#46039f"
             ],
             [
              0.2222222222222222,
              "#7201a8"
             ],
             [
              0.3333333333333333,
              "#9c179e"
             ],
             [
              0.4444444444444444,
              "#bd3786"
             ],
             [
              0.5555555555555556,
              "#d8576b"
             ],
             [
              0.6666666666666666,
              "#ed7953"
             ],
             [
              0.7777777777777778,
              "#fb9f3a"
             ],
             [
              0.8888888888888888,
              "#fdca26"
             ],
             [
              1,
              "#f0f921"
             ]
            ],
            "type": "heatmap"
           }
          ],
          "heatmapgl": [
           {
            "colorbar": {
             "outlinewidth": 0,
             "ticks": ""
            },
            "colorscale": [
             [
              0,
              "#0d0887"
             ],
             [
              0.1111111111111111,
              "#46039f"
             ],
             [
              0.2222222222222222,
              "#7201a8"
             ],
             [
              0.3333333333333333,
              "#9c179e"
             ],
             [
              0.4444444444444444,
              "#bd3786"
             ],
             [
              0.5555555555555556,
              "#d8576b"
             ],
             [
              0.6666666666666666,
              "#ed7953"
             ],
             [
              0.7777777777777778,
              "#fb9f3a"
             ],
             [
              0.8888888888888888,
              "#fdca26"
             ],
             [
              1,
              "#f0f921"
             ]
            ],
            "type": "heatmapgl"
           }
          ],
          "histogram": [
           {
            "marker": {
             "pattern": {
              "fillmode": "overlay",
              "size": 10,
              "solidity": 0.2
             }
            },
            "type": "histogram"
           }
          ],
          "histogram2d": [
           {
            "colorbar": {
             "outlinewidth": 0,
             "ticks": ""
            },
            "colorscale": [
             [
              0,
              "#0d0887"
             ],
             [
              0.1111111111111111,
              "#46039f"
             ],
             [
              0.2222222222222222,
              "#7201a8"
             ],
             [
              0.3333333333333333,
              "#9c179e"
             ],
             [
              0.4444444444444444,
              "#bd3786"
             ],
             [
              0.5555555555555556,
              "#d8576b"
             ],
             [
              0.6666666666666666,
              "#ed7953"
             ],
             [
              0.7777777777777778,
              "#fb9f3a"
             ],
             [
              0.8888888888888888,
              "#fdca26"
             ],
             [
              1,
              "#f0f921"
             ]
            ],
            "type": "histogram2d"
           }
          ],
          "histogram2dcontour": [
           {
            "colorbar": {
             "outlinewidth": 0,
             "ticks": ""
            },
            "colorscale": [
             [
              0,
              "#0d0887"
             ],
             [
              0.1111111111111111,
              "#46039f"
             ],
             [
              0.2222222222222222,
              "#7201a8"
             ],
             [
              0.3333333333333333,
              "#9c179e"
             ],
             [
              0.4444444444444444,
              "#bd3786"
             ],
             [
              0.5555555555555556,
              "#d8576b"
             ],
             [
              0.6666666666666666,
              "#ed7953"
             ],
             [
              0.7777777777777778,
              "#fb9f3a"
             ],
             [
              0.8888888888888888,
              "#fdca26"
             ],
             [
              1,
              "#f0f921"
             ]
            ],
            "type": "histogram2dcontour"
           }
          ],
          "mesh3d": [
           {
            "colorbar": {
             "outlinewidth": 0,
             "ticks": ""
            },
            "type": "mesh3d"
           }
          ],
          "parcoords": [
           {
            "line": {
             "colorbar": {
              "outlinewidth": 0,
              "ticks": ""
             }
            },
            "type": "parcoords"
           }
          ],
          "pie": [
           {
            "automargin": true,
            "type": "pie"
           }
          ],
          "scatter": [
           {
            "fillpattern": {
             "fillmode": "overlay",
             "size": 10,
             "solidity": 0.2
            },
            "type": "scatter"
           }
          ],
          "scatter3d": [
           {
            "line": {
             "colorbar": {
              "outlinewidth": 0,
              "ticks": ""
             }
            },
            "marker": {
             "colorbar": {
              "outlinewidth": 0,
              "ticks": ""
             }
            },
            "type": "scatter3d"
           }
          ],
          "scattercarpet": [
           {
            "marker": {
             "colorbar": {
              "outlinewidth": 0,
              "ticks": ""
             }
            },
            "type": "scattercarpet"
           }
          ],
          "scattergeo": [
           {
            "marker": {
             "colorbar": {
              "outlinewidth": 0,
              "ticks": ""
             }
            },
            "type": "scattergeo"
           }
          ],
          "scattergl": [
           {
            "marker": {
             "colorbar": {
              "outlinewidth": 0,
              "ticks": ""
             }
            },
            "type": "scattergl"
           }
          ],
          "scattermapbox": [
           {
            "marker": {
             "colorbar": {
              "outlinewidth": 0,
              "ticks": ""
             }
            },
            "type": "scattermapbox"
           }
          ],
          "scatterpolar": [
           {
            "marker": {
             "colorbar": {
              "outlinewidth": 0,
              "ticks": ""
             }
            },
            "type": "scatterpolar"
           }
          ],
          "scatterpolargl": [
           {
            "marker": {
             "colorbar": {
              "outlinewidth": 0,
              "ticks": ""
             }
            },
            "type": "scatterpolargl"
           }
          ],
          "scatterternary": [
           {
            "marker": {
             "colorbar": {
              "outlinewidth": 0,
              "ticks": ""
             }
            },
            "type": "scatterternary"
           }
          ],
          "surface": [
           {
            "colorbar": {
             "outlinewidth": 0,
             "ticks": ""
            },
            "colorscale": [
             [
              0,
              "#0d0887"
             ],
             [
              0.1111111111111111,
              "#46039f"
             ],
             [
              0.2222222222222222,
              "#7201a8"
             ],
             [
              0.3333333333333333,
              "#9c179e"
             ],
             [
              0.4444444444444444,
              "#bd3786"
             ],
             [
              0.5555555555555556,
              "#d8576b"
             ],
             [
              0.6666666666666666,
              "#ed7953"
             ],
             [
              0.7777777777777778,
              "#fb9f3a"
             ],
             [
              0.8888888888888888,
              "#fdca26"
             ],
             [
              1,
              "#f0f921"
             ]
            ],
            "type": "surface"
           }
          ],
          "table": [
           {
            "cells": {
             "fill": {
              "color": "#EBF0F8"
             },
             "line": {
              "color": "white"
             }
            },
            "header": {
             "fill": {
              "color": "#C8D4E3"
             },
             "line": {
              "color": "white"
             }
            },
            "type": "table"
           }
          ]
         },
         "layout": {
          "annotationdefaults": {
           "arrowcolor": "#2a3f5f",
           "arrowhead": 0,
           "arrowwidth": 1
          },
          "autotypenumbers": "strict",
          "coloraxis": {
           "colorbar": {
            "outlinewidth": 0,
            "ticks": ""
           }
          },
          "colorscale": {
           "diverging": [
            [
             0,
             "#8e0152"
            ],
            [
             0.1,
             "#c51b7d"
            ],
            [
             0.2,
             "#de77ae"
            ],
            [
             0.3,
             "#f1b6da"
            ],
            [
             0.4,
             "#fde0ef"
            ],
            [
             0.5,
             "#f7f7f7"
            ],
            [
             0.6,
             "#e6f5d0"
            ],
            [
             0.7,
             "#b8e186"
            ],
            [
             0.8,
             "#7fbc41"
            ],
            [
             0.9,
             "#4d9221"
            ],
            [
             1,
             "#276419"
            ]
           ],
           "sequential": [
            [
             0,
             "#0d0887"
            ],
            [
             0.1111111111111111,
             "#46039f"
            ],
            [
             0.2222222222222222,
             "#7201a8"
            ],
            [
             0.3333333333333333,
             "#9c179e"
            ],
            [
             0.4444444444444444,
             "#bd3786"
            ],
            [
             0.5555555555555556,
             "#d8576b"
            ],
            [
             0.6666666666666666,
             "#ed7953"
            ],
            [
             0.7777777777777778,
             "#fb9f3a"
            ],
            [
             0.8888888888888888,
             "#fdca26"
            ],
            [
             1,
             "#f0f921"
            ]
           ],
           "sequentialminus": [
            [
             0,
             "#0d0887"
            ],
            [
             0.1111111111111111,
             "#46039f"
            ],
            [
             0.2222222222222222,
             "#7201a8"
            ],
            [
             0.3333333333333333,
             "#9c179e"
            ],
            [
             0.4444444444444444,
             "#bd3786"
            ],
            [
             0.5555555555555556,
             "#d8576b"
            ],
            [
             0.6666666666666666,
             "#ed7953"
            ],
            [
             0.7777777777777778,
             "#fb9f3a"
            ],
            [
             0.8888888888888888,
             "#fdca26"
            ],
            [
             1,
             "#f0f921"
            ]
           ]
          },
          "colorway": [
           "#636efa",
           "#EF553B",
           "#00cc96",
           "#ab63fa",
           "#FFA15A",
           "#19d3f3",
           "#FF6692",
           "#B6E880",
           "#FF97FF",
           "#FECB52"
          ],
          "font": {
           "color": "#2a3f5f"
          },
          "geo": {
           "bgcolor": "white",
           "lakecolor": "white",
           "landcolor": "#E5ECF6",
           "showlakes": true,
           "showland": true,
           "subunitcolor": "white"
          },
          "hoverlabel": {
           "align": "left"
          },
          "hovermode": "closest",
          "mapbox": {
           "style": "light"
          },
          "paper_bgcolor": "white",
          "plot_bgcolor": "#E5ECF6",
          "polar": {
           "angularaxis": {
            "gridcolor": "white",
            "linecolor": "white",
            "ticks": ""
           },
           "bgcolor": "#E5ECF6",
           "radialaxis": {
            "gridcolor": "white",
            "linecolor": "white",
            "ticks": ""
           }
          },
          "scene": {
           "xaxis": {
            "backgroundcolor": "#E5ECF6",
            "gridcolor": "white",
            "gridwidth": 2,
            "linecolor": "white",
            "showbackground": true,
            "ticks": "",
            "zerolinecolor": "white"
           },
           "yaxis": {
            "backgroundcolor": "#E5ECF6",
            "gridcolor": "white",
            "gridwidth": 2,
            "linecolor": "white",
            "showbackground": true,
            "ticks": "",
            "zerolinecolor": "white"
           },
           "zaxis": {
            "backgroundcolor": "#E5ECF6",
            "gridcolor": "white",
            "gridwidth": 2,
            "linecolor": "white",
            "showbackground": true,
            "ticks": "",
            "zerolinecolor": "white"
           }
          },
          "shapedefaults": {
           "line": {
            "color": "#2a3f5f"
           }
          },
          "ternary": {
           "aaxis": {
            "gridcolor": "white",
            "linecolor": "white",
            "ticks": ""
           },
           "baxis": {
            "gridcolor": "white",
            "linecolor": "white",
            "ticks": ""
           },
           "bgcolor": "#E5ECF6",
           "caxis": {
            "gridcolor": "white",
            "linecolor": "white",
            "ticks": ""
           }
          },
          "title": {
           "x": 0.05
          },
          "xaxis": {
           "automargin": true,
           "gridcolor": "white",
           "linecolor": "white",
           "ticks": "",
           "title": {
            "standoff": 15
           },
           "zerolinecolor": "white",
           "zerolinewidth": 2
          },
          "yaxis": {
           "automargin": true,
           "gridcolor": "white",
           "linecolor": "white",
           "ticks": "",
           "title": {
            "standoff": 15
           },
           "zerolinecolor": "white",
           "zerolinewidth": 2
          }
         }
        },
        "xaxis": {
         "anchor": "y",
         "domain": [
          0,
          1
         ],
         "title": {
          "text": "model"
         }
        },
        "yaxis": {
         "anchor": "x",
         "domain": [
          0,
          1
         ],
         "title": {
          "text": "f1-score"
         }
        }
       }
      }
     },
     "metadata": {},
     "output_type": "display_data"
    },
    {
     "name": "stdout",
     "output_type": "stream",
     "text": [
      "meta_21 Dummy_model\n"
     ]
    },
    {
     "data": {
      "application/vnd.plotly.v1+json": {
       "config": {
        "plotlyServerURL": "https://plot.ly"
       },
       "data": [
        {
         "alignmentgroup": "True",
         "boxpoints": "all",
         "hovertemplate": "model=%{x}<br>f1-score=%{y}<extra></extra>",
         "legendgroup": "",
         "marker": {
          "color": "#636efa"
         },
         "name": "",
         "notched": false,
         "offsetgroup": "",
         "orientation": "v",
         "showlegend": false,
         "type": "box",
         "x": [
          "Dummy_model",
          "Dummy_model",
          "Dummy_model",
          "Dummy_model",
          "Dummy_model",
          "Dummy_model",
          "Dummy_model",
          "Dummy_model",
          "Dummy_model",
          "Dummy_model",
          "Dummy_model",
          "Dummy_model",
          "Dummy_model",
          "Dummy_model",
          "Dummy_model",
          "Dummy_model",
          "Dummy_model",
          "Dummy_model",
          "Dummy_model",
          "Dummy_model",
          "Dummy_model",
          "Dummy_model",
          "Dummy_model",
          "Dummy_model",
          "Dummy_model",
          "Dummy_model",
          "Dummy_model",
          "Dummy_model",
          "Dummy_model",
          "Dummy_model",
          "Dummy_model",
          "Dummy_model",
          "Dummy_model",
          "Dummy_model",
          "Dummy_model",
          "Dummy_model",
          "Dummy_model",
          "Dummy_model",
          "Dummy_model",
          "Dummy_model",
          "Dummy_model",
          "Dummy_model",
          "Dummy_model",
          "Dummy_model",
          "Dummy_model",
          "Dummy_model",
          "Dummy_model",
          "Dummy_model"
         ],
         "x0": " ",
         "xaxis": "x",
         "y": [
          0.33,
          0.54,
          0.43,
          0.67,
          0.49,
          0.7,
          0.34,
          0.48,
          0.49,
          0.65,
          0.62,
          0.74,
          0.4,
          0.6,
          0.56,
          0.7,
          0.45,
          0.71,
          0.34,
          0.52,
          0.53,
          0.69,
          0.42,
          0.66,
          0.35,
          0.51,
          0.47,
          0.65,
          0.45,
          0.57,
          0.35,
          0.43,
          0.46,
          0.58,
          0.46,
          0.54,
          0.33,
          0.51,
          0.38,
          0.63,
          0.48,
          0.7,
          0.33,
          0.5,
          0.5,
          0.66,
          0.52,
          0.61
         ],
         "y0": " ",
         "yaxis": "y"
        }
       ],
       "layout": {
        "boxmode": "group",
        "legend": {
         "tracegroupgap": 0
        },
        "margin": {
         "t": 60
        },
        "template": {
         "data": {
          "bar": [
           {
            "error_x": {
             "color": "#2a3f5f"
            },
            "error_y": {
             "color": "#2a3f5f"
            },
            "marker": {
             "line": {
              "color": "#E5ECF6",
              "width": 0.5
             },
             "pattern": {
              "fillmode": "overlay",
              "size": 10,
              "solidity": 0.2
             }
            },
            "type": "bar"
           }
          ],
          "barpolar": [
           {
            "marker": {
             "line": {
              "color": "#E5ECF6",
              "width": 0.5
             },
             "pattern": {
              "fillmode": "overlay",
              "size": 10,
              "solidity": 0.2
             }
            },
            "type": "barpolar"
           }
          ],
          "carpet": [
           {
            "aaxis": {
             "endlinecolor": "#2a3f5f",
             "gridcolor": "white",
             "linecolor": "white",
             "minorgridcolor": "white",
             "startlinecolor": "#2a3f5f"
            },
            "baxis": {
             "endlinecolor": "#2a3f5f",
             "gridcolor": "white",
             "linecolor": "white",
             "minorgridcolor": "white",
             "startlinecolor": "#2a3f5f"
            },
            "type": "carpet"
           }
          ],
          "choropleth": [
           {
            "colorbar": {
             "outlinewidth": 0,
             "ticks": ""
            },
            "type": "choropleth"
           }
          ],
          "contour": [
           {
            "colorbar": {
             "outlinewidth": 0,
             "ticks": ""
            },
            "colorscale": [
             [
              0,
              "#0d0887"
             ],
             [
              0.1111111111111111,
              "#46039f"
             ],
             [
              0.2222222222222222,
              "#7201a8"
             ],
             [
              0.3333333333333333,
              "#9c179e"
             ],
             [
              0.4444444444444444,
              "#bd3786"
             ],
             [
              0.5555555555555556,
              "#d8576b"
             ],
             [
              0.6666666666666666,
              "#ed7953"
             ],
             [
              0.7777777777777778,
              "#fb9f3a"
             ],
             [
              0.8888888888888888,
              "#fdca26"
             ],
             [
              1,
              "#f0f921"
             ]
            ],
            "type": "contour"
           }
          ],
          "contourcarpet": [
           {
            "colorbar": {
             "outlinewidth": 0,
             "ticks": ""
            },
            "type": "contourcarpet"
           }
          ],
          "heatmap": [
           {
            "colorbar": {
             "outlinewidth": 0,
             "ticks": ""
            },
            "colorscale": [
             [
              0,
              "#0d0887"
             ],
             [
              0.1111111111111111,
              "#46039f"
             ],
             [
              0.2222222222222222,
              "#7201a8"
             ],
             [
              0.3333333333333333,
              "#9c179e"
             ],
             [
              0.4444444444444444,
              "#bd3786"
             ],
             [
              0.5555555555555556,
              "#d8576b"
             ],
             [
              0.6666666666666666,
              "#ed7953"
             ],
             [
              0.7777777777777778,
              "#fb9f3a"
             ],
             [
              0.8888888888888888,
              "#fdca26"
             ],
             [
              1,
              "#f0f921"
             ]
            ],
            "type": "heatmap"
           }
          ],
          "heatmapgl": [
           {
            "colorbar": {
             "outlinewidth": 0,
             "ticks": ""
            },
            "colorscale": [
             [
              0,
              "#0d0887"
             ],
             [
              0.1111111111111111,
              "#46039f"
             ],
             [
              0.2222222222222222,
              "#7201a8"
             ],
             [
              0.3333333333333333,
              "#9c179e"
             ],
             [
              0.4444444444444444,
              "#bd3786"
             ],
             [
              0.5555555555555556,
              "#d8576b"
             ],
             [
              0.6666666666666666,
              "#ed7953"
             ],
             [
              0.7777777777777778,
              "#fb9f3a"
             ],
             [
              0.8888888888888888,
              "#fdca26"
             ],
             [
              1,
              "#f0f921"
             ]
            ],
            "type": "heatmapgl"
           }
          ],
          "histogram": [
           {
            "marker": {
             "pattern": {
              "fillmode": "overlay",
              "size": 10,
              "solidity": 0.2
             }
            },
            "type": "histogram"
           }
          ],
          "histogram2d": [
           {
            "colorbar": {
             "outlinewidth": 0,
             "ticks": ""
            },
            "colorscale": [
             [
              0,
              "#0d0887"
             ],
             [
              0.1111111111111111,
              "#46039f"
             ],
             [
              0.2222222222222222,
              "#7201a8"
             ],
             [
              0.3333333333333333,
              "#9c179e"
             ],
             [
              0.4444444444444444,
              "#bd3786"
             ],
             [
              0.5555555555555556,
              "#d8576b"
             ],
             [
              0.6666666666666666,
              "#ed7953"
             ],
             [
              0.7777777777777778,
              "#fb9f3a"
             ],
             [
              0.8888888888888888,
              "#fdca26"
             ],
             [
              1,
              "#f0f921"
             ]
            ],
            "type": "histogram2d"
           }
          ],
          "histogram2dcontour": [
           {
            "colorbar": {
             "outlinewidth": 0,
             "ticks": ""
            },
            "colorscale": [
             [
              0,
              "#0d0887"
             ],
             [
              0.1111111111111111,
              "#46039f"
             ],
             [
              0.2222222222222222,
              "#7201a8"
             ],
             [
              0.3333333333333333,
              "#9c179e"
             ],
             [
              0.4444444444444444,
              "#bd3786"
             ],
             [
              0.5555555555555556,
              "#d8576b"
             ],
             [
              0.6666666666666666,
              "#ed7953"
             ],
             [
              0.7777777777777778,
              "#fb9f3a"
             ],
             [
              0.8888888888888888,
              "#fdca26"
             ],
             [
              1,
              "#f0f921"
             ]
            ],
            "type": "histogram2dcontour"
           }
          ],
          "mesh3d": [
           {
            "colorbar": {
             "outlinewidth": 0,
             "ticks": ""
            },
            "type": "mesh3d"
           }
          ],
          "parcoords": [
           {
            "line": {
             "colorbar": {
              "outlinewidth": 0,
              "ticks": ""
             }
            },
            "type": "parcoords"
           }
          ],
          "pie": [
           {
            "automargin": true,
            "type": "pie"
           }
          ],
          "scatter": [
           {
            "fillpattern": {
             "fillmode": "overlay",
             "size": 10,
             "solidity": 0.2
            },
            "type": "scatter"
           }
          ],
          "scatter3d": [
           {
            "line": {
             "colorbar": {
              "outlinewidth": 0,
              "ticks": ""
             }
            },
            "marker": {
             "colorbar": {
              "outlinewidth": 0,
              "ticks": ""
             }
            },
            "type": "scatter3d"
           }
          ],
          "scattercarpet": [
           {
            "marker": {
             "colorbar": {
              "outlinewidth": 0,
              "ticks": ""
             }
            },
            "type": "scattercarpet"
           }
          ],
          "scattergeo": [
           {
            "marker": {
             "colorbar": {
              "outlinewidth": 0,
              "ticks": ""
             }
            },
            "type": "scattergeo"
           }
          ],
          "scattergl": [
           {
            "marker": {
             "colorbar": {
              "outlinewidth": 0,
              "ticks": ""
             }
            },
            "type": "scattergl"
           }
          ],
          "scattermapbox": [
           {
            "marker": {
             "colorbar": {
              "outlinewidth": 0,
              "ticks": ""
             }
            },
            "type": "scattermapbox"
           }
          ],
          "scatterpolar": [
           {
            "marker": {
             "colorbar": {
              "outlinewidth": 0,
              "ticks": ""
             }
            },
            "type": "scatterpolar"
           }
          ],
          "scatterpolargl": [
           {
            "marker": {
             "colorbar": {
              "outlinewidth": 0,
              "ticks": ""
             }
            },
            "type": "scatterpolargl"
           }
          ],
          "scatterternary": [
           {
            "marker": {
             "colorbar": {
              "outlinewidth": 0,
              "ticks": ""
             }
            },
            "type": "scatterternary"
           }
          ],
          "surface": [
           {
            "colorbar": {
             "outlinewidth": 0,
             "ticks": ""
            },
            "colorscale": [
             [
              0,
              "#0d0887"
             ],
             [
              0.1111111111111111,
              "#46039f"
             ],
             [
              0.2222222222222222,
              "#7201a8"
             ],
             [
              0.3333333333333333,
              "#9c179e"
             ],
             [
              0.4444444444444444,
              "#bd3786"
             ],
             [
              0.5555555555555556,
              "#d8576b"
             ],
             [
              0.6666666666666666,
              "#ed7953"
             ],
             [
              0.7777777777777778,
              "#fb9f3a"
             ],
             [
              0.8888888888888888,
              "#fdca26"
             ],
             [
              1,
              "#f0f921"
             ]
            ],
            "type": "surface"
           }
          ],
          "table": [
           {
            "cells": {
             "fill": {
              "color": "#EBF0F8"
             },
             "line": {
              "color": "white"
             }
            },
            "header": {
             "fill": {
              "color": "#C8D4E3"
             },
             "line": {
              "color": "white"
             }
            },
            "type": "table"
           }
          ]
         },
         "layout": {
          "annotationdefaults": {
           "arrowcolor": "#2a3f5f",
           "arrowhead": 0,
           "arrowwidth": 1
          },
          "autotypenumbers": "strict",
          "coloraxis": {
           "colorbar": {
            "outlinewidth": 0,
            "ticks": ""
           }
          },
          "colorscale": {
           "diverging": [
            [
             0,
             "#8e0152"
            ],
            [
             0.1,
             "#c51b7d"
            ],
            [
             0.2,
             "#de77ae"
            ],
            [
             0.3,
             "#f1b6da"
            ],
            [
             0.4,
             "#fde0ef"
            ],
            [
             0.5,
             "#f7f7f7"
            ],
            [
             0.6,
             "#e6f5d0"
            ],
            [
             0.7,
             "#b8e186"
            ],
            [
             0.8,
             "#7fbc41"
            ],
            [
             0.9,
             "#4d9221"
            ],
            [
             1,
             "#276419"
            ]
           ],
           "sequential": [
            [
             0,
             "#0d0887"
            ],
            [
             0.1111111111111111,
             "#46039f"
            ],
            [
             0.2222222222222222,
             "#7201a8"
            ],
            [
             0.3333333333333333,
             "#9c179e"
            ],
            [
             0.4444444444444444,
             "#bd3786"
            ],
            [
             0.5555555555555556,
             "#d8576b"
            ],
            [
             0.6666666666666666,
             "#ed7953"
            ],
            [
             0.7777777777777778,
             "#fb9f3a"
            ],
            [
             0.8888888888888888,
             "#fdca26"
            ],
            [
             1,
             "#f0f921"
            ]
           ],
           "sequentialminus": [
            [
             0,
             "#0d0887"
            ],
            [
             0.1111111111111111,
             "#46039f"
            ],
            [
             0.2222222222222222,
             "#7201a8"
            ],
            [
             0.3333333333333333,
             "#9c179e"
            ],
            [
             0.4444444444444444,
             "#bd3786"
            ],
            [
             0.5555555555555556,
             "#d8576b"
            ],
            [
             0.6666666666666666,
             "#ed7953"
            ],
            [
             0.7777777777777778,
             "#fb9f3a"
            ],
            [
             0.8888888888888888,
             "#fdca26"
            ],
            [
             1,
             "#f0f921"
            ]
           ]
          },
          "colorway": [
           "#636efa",
           "#EF553B",
           "#00cc96",
           "#ab63fa",
           "#FFA15A",
           "#19d3f3",
           "#FF6692",
           "#B6E880",
           "#FF97FF",
           "#FECB52"
          ],
          "font": {
           "color": "#2a3f5f"
          },
          "geo": {
           "bgcolor": "white",
           "lakecolor": "white",
           "landcolor": "#E5ECF6",
           "showlakes": true,
           "showland": true,
           "subunitcolor": "white"
          },
          "hoverlabel": {
           "align": "left"
          },
          "hovermode": "closest",
          "mapbox": {
           "style": "light"
          },
          "paper_bgcolor": "white",
          "plot_bgcolor": "#E5ECF6",
          "polar": {
           "angularaxis": {
            "gridcolor": "white",
            "linecolor": "white",
            "ticks": ""
           },
           "bgcolor": "#E5ECF6",
           "radialaxis": {
            "gridcolor": "white",
            "linecolor": "white",
            "ticks": ""
           }
          },
          "scene": {
           "xaxis": {
            "backgroundcolor": "#E5ECF6",
            "gridcolor": "white",
            "gridwidth": 2,
            "linecolor": "white",
            "showbackground": true,
            "ticks": "",
            "zerolinecolor": "white"
           },
           "yaxis": {
            "backgroundcolor": "#E5ECF6",
            "gridcolor": "white",
            "gridwidth": 2,
            "linecolor": "white",
            "showbackground": true,
            "ticks": "",
            "zerolinecolor": "white"
           },
           "zaxis": {
            "backgroundcolor": "#E5ECF6",
            "gridcolor": "white",
            "gridwidth": 2,
            "linecolor": "white",
            "showbackground": true,
            "ticks": "",
            "zerolinecolor": "white"
           }
          },
          "shapedefaults": {
           "line": {
            "color": "#2a3f5f"
           }
          },
          "ternary": {
           "aaxis": {
            "gridcolor": "white",
            "linecolor": "white",
            "ticks": ""
           },
           "baxis": {
            "gridcolor": "white",
            "linecolor": "white",
            "ticks": ""
           },
           "bgcolor": "#E5ECF6",
           "caxis": {
            "gridcolor": "white",
            "linecolor": "white",
            "ticks": ""
           }
          },
          "title": {
           "x": 0.05
          },
          "xaxis": {
           "automargin": true,
           "gridcolor": "white",
           "linecolor": "white",
           "ticks": "",
           "title": {
            "standoff": 15
           },
           "zerolinecolor": "white",
           "zerolinewidth": 2
          },
          "yaxis": {
           "automargin": true,
           "gridcolor": "white",
           "linecolor": "white",
           "ticks": "",
           "title": {
            "standoff": 15
           },
           "zerolinecolor": "white",
           "zerolinewidth": 2
          }
         }
        },
        "xaxis": {
         "anchor": "y",
         "domain": [
          0,
          1
         ],
         "title": {
          "text": "model"
         }
        },
        "yaxis": {
         "anchor": "x",
         "domain": [
          0,
          1
         ],
         "title": {
          "text": "f1-score"
         }
        }
       }
      }
     },
     "metadata": {},
     "output_type": "display_data"
    }
   ],
   "source": [
    "for label in macro_dummy.label_col.unique():\n",
    "    for model in macro_dummy.model.unique():\n",
    "\n",
    "        print(label, model)\n",
    "        \n",
    "        fig = px.box(macro_dummy, x=\"model\", y=\"f1-score\", points=\"all\")\n",
    "        fig.show()"
   ]
  },
  {
   "cell_type": "code",
   "execution_count": 11,
   "metadata": {},
   "outputs": [
    {
     "name": "stdout",
     "output_type": "stream",
     "text": [
      "\n",
      "##############################################\n",
      "# DOMAIN: Petróleo\n",
      "# ASSETS: ['PETR3.SA', 'PRIO3.SA']\n",
      "##############################################\n",
      "          \n",
      "Metricas macro - label meta\n"
     ]
    },
    {
     "data": {
      "text/html": [
       "<div>\n",
       "<style scoped>\n",
       "    .dataframe tbody tr th:only-of-type {\n",
       "        vertical-align: middle;\n",
       "    }\n",
       "\n",
       "    .dataframe tbody tr th {\n",
       "        vertical-align: top;\n",
       "    }\n",
       "\n",
       "    .dataframe thead th {\n",
       "        text-align: right;\n",
       "    }\n",
       "</style>\n",
       "<table border=\"1\" class=\"dataframe\">\n",
       "  <thead>\n",
       "    <tr style=\"text-align: right;\">\n",
       "      <th></th>\n",
       "      <th>ativo</th>\n",
       "      <th>alvo</th>\n",
       "      <th>precision</th>\n",
       "      <th>recall</th>\n",
       "      <th>f1-score</th>\n",
       "    </tr>\n",
       "  </thead>\n",
       "  <tbody>\n",
       "    <tr>\n",
       "      <th>39560</th>\n",
       "      <td>PETR3.SA</td>\n",
       "      <td>meta_7</td>\n",
       "      <td>0.33</td>\n",
       "      <td>0.33</td>\n",
       "      <td>0.33</td>\n",
       "    </tr>\n",
       "    <tr>\n",
       "      <th>39568</th>\n",
       "      <td>PETR3.SA</td>\n",
       "      <td>meta_7</td>\n",
       "      <td>0.54</td>\n",
       "      <td>0.54</td>\n",
       "      <td>0.54</td>\n",
       "    </tr>\n",
       "    <tr>\n",
       "      <th>39594</th>\n",
       "      <td>PETR3.SA</td>\n",
       "      <td>meta_14</td>\n",
       "      <td>0.43</td>\n",
       "      <td>0.43</td>\n",
       "      <td>0.43</td>\n",
       "    </tr>\n",
       "    <tr>\n",
       "      <th>39603</th>\n",
       "      <td>PETR3.SA</td>\n",
       "      <td>meta_14</td>\n",
       "      <td>0.67</td>\n",
       "      <td>0.67</td>\n",
       "      <td>0.67</td>\n",
       "    </tr>\n",
       "    <tr>\n",
       "      <th>39630</th>\n",
       "      <td>PETR3.SA</td>\n",
       "      <td>meta_21</td>\n",
       "      <td>0.49</td>\n",
       "      <td>0.49</td>\n",
       "      <td>0.49</td>\n",
       "    </tr>\n",
       "    <tr>\n",
       "      <th>39639</th>\n",
       "      <td>PETR3.SA</td>\n",
       "      <td>meta_21</td>\n",
       "      <td>0.71</td>\n",
       "      <td>0.70</td>\n",
       "      <td>0.70</td>\n",
       "    </tr>\n",
       "    <tr>\n",
       "      <th>39664</th>\n",
       "      <td>PRIO3.SA</td>\n",
       "      <td>meta_7</td>\n",
       "      <td>0.34</td>\n",
       "      <td>0.34</td>\n",
       "      <td>0.34</td>\n",
       "    </tr>\n",
       "    <tr>\n",
       "      <th>39672</th>\n",
       "      <td>PRIO3.SA</td>\n",
       "      <td>meta_7</td>\n",
       "      <td>0.48</td>\n",
       "      <td>0.48</td>\n",
       "      <td>0.48</td>\n",
       "    </tr>\n",
       "    <tr>\n",
       "      <th>39696</th>\n",
       "      <td>PRIO3.SA</td>\n",
       "      <td>meta_14</td>\n",
       "      <td>0.49</td>\n",
       "      <td>0.49</td>\n",
       "      <td>0.49</td>\n",
       "    </tr>\n",
       "    <tr>\n",
       "      <th>39704</th>\n",
       "      <td>PRIO3.SA</td>\n",
       "      <td>meta_14</td>\n",
       "      <td>0.65</td>\n",
       "      <td>0.65</td>\n",
       "      <td>0.65</td>\n",
       "    </tr>\n",
       "    <tr>\n",
       "      <th>39727</th>\n",
       "      <td>PRIO3.SA</td>\n",
       "      <td>meta_21</td>\n",
       "      <td>0.62</td>\n",
       "      <td>0.62</td>\n",
       "      <td>0.62</td>\n",
       "    </tr>\n",
       "    <tr>\n",
       "      <th>39735</th>\n",
       "      <td>PRIO3.SA</td>\n",
       "      <td>meta_21</td>\n",
       "      <td>0.74</td>\n",
       "      <td>0.74</td>\n",
       "      <td>0.74</td>\n",
       "    </tr>\n",
       "  </tbody>\n",
       "</table>\n",
       "</div>"
      ],
      "text/plain": [
       "          ativo     alvo  precision  recall  f1-score\n",
       "39560  PETR3.SA   meta_7       0.33    0.33      0.33\n",
       "39568  PETR3.SA   meta_7       0.54    0.54      0.54\n",
       "39594  PETR3.SA  meta_14       0.43    0.43      0.43\n",
       "39603  PETR3.SA  meta_14       0.67    0.67      0.67\n",
       "39630  PETR3.SA  meta_21       0.49    0.49      0.49\n",
       "39639  PETR3.SA  meta_21       0.71    0.70      0.70\n",
       "39664  PRIO3.SA   meta_7       0.34    0.34      0.34\n",
       "39672  PRIO3.SA   meta_7       0.48    0.48      0.48\n",
       "39696  PRIO3.SA  meta_14       0.49    0.49      0.49\n",
       "39704  PRIO3.SA  meta_14       0.65    0.65      0.65\n",
       "39727  PRIO3.SA  meta_21       0.62    0.62      0.62\n",
       "39735  PRIO3.SA  meta_21       0.74    0.74      0.74"
      ]
     },
     "metadata": {},
     "output_type": "display_data"
    },
    {
     "name": "stdout",
     "output_type": "stream",
     "text": [
      "Metricas regressao - label diff_close_mean_z_score\n"
     ]
    },
    {
     "data": {
      "text/html": [
       "<div>\n",
       "<style scoped>\n",
       "    .dataframe tbody tr th:only-of-type {\n",
       "        vertical-align: middle;\n",
       "    }\n",
       "\n",
       "    .dataframe tbody tr th {\n",
       "        vertical-align: top;\n",
       "    }\n",
       "\n",
       "    .dataframe thead th {\n",
       "        text-align: right;\n",
       "    }\n",
       "</style>\n",
       "<table border=\"1\" class=\"dataframe\">\n",
       "  <thead>\n",
       "    <tr style=\"text-align: right;\">\n",
       "      <th></th>\n",
       "      <th>Mean Absolute Error (MAE)</th>\n",
       "      <th>Mean Squared Error (MSE)</th>\n",
       "      <th>Root Mean Squared Error (RMSE)</th>\n",
       "      <th>R-squared (R2)</th>\n",
       "      <th>Mean Absolute Percentage Error (MAPE)</th>\n",
       "      <th>ativo</th>\n",
       "      <th>alvo</th>\n",
       "      <th>leak</th>\n",
       "    </tr>\n",
       "  </thead>\n",
       "  <tbody>\n",
       "    <tr>\n",
       "      <th>4608</th>\n",
       "      <td>0.71</td>\n",
       "      <td>0.92</td>\n",
       "      <td>0.96</td>\n",
       "      <td>0.26</td>\n",
       "      <td>2.07</td>\n",
       "      <td>PETR3.SA</td>\n",
       "      <td>diff_close_mean_z_score_7</td>\n",
       "      <td>True</td>\n",
       "    </tr>\n",
       "    <tr>\n",
       "      <th>4609</th>\n",
       "      <td>0.49</td>\n",
       "      <td>0.63</td>\n",
       "      <td>0.79</td>\n",
       "      <td>0.48</td>\n",
       "      <td>1.42</td>\n",
       "      <td>PETR3.SA</td>\n",
       "      <td>diff_close_mean_z_score_7</td>\n",
       "      <td>False</td>\n",
       "    </tr>\n",
       "    <tr>\n",
       "      <th>4612</th>\n",
       "      <td>0.57</td>\n",
       "      <td>0.65</td>\n",
       "      <td>0.81</td>\n",
       "      <td>0.58</td>\n",
       "      <td>1.78</td>\n",
       "      <td>PETR3.SA</td>\n",
       "      <td>diff_close_mean_z_score_14</td>\n",
       "      <td>True</td>\n",
       "    </tr>\n",
       "    <tr>\n",
       "      <th>4613</th>\n",
       "      <td>0.39</td>\n",
       "      <td>0.45</td>\n",
       "      <td>0.67</td>\n",
       "      <td>0.71</td>\n",
       "      <td>1.23</td>\n",
       "      <td>PETR3.SA</td>\n",
       "      <td>diff_close_mean_z_score_14</td>\n",
       "      <td>False</td>\n",
       "    </tr>\n",
       "    <tr>\n",
       "      <th>4616</th>\n",
       "      <td>0.48</td>\n",
       "      <td>0.48</td>\n",
       "      <td>0.69</td>\n",
       "      <td>0.70</td>\n",
       "      <td>1.08</td>\n",
       "      <td>PETR3.SA</td>\n",
       "      <td>diff_close_mean_z_score_21</td>\n",
       "      <td>True</td>\n",
       "    </tr>\n",
       "    <tr>\n",
       "      <th>4617</th>\n",
       "      <td>0.33</td>\n",
       "      <td>0.33</td>\n",
       "      <td>0.58</td>\n",
       "      <td>0.79</td>\n",
       "      <td>0.74</td>\n",
       "      <td>PETR3.SA</td>\n",
       "      <td>diff_close_mean_z_score_21</td>\n",
       "      <td>False</td>\n",
       "    </tr>\n",
       "    <tr>\n",
       "      <th>4620</th>\n",
       "      <td>0.69</td>\n",
       "      <td>0.84</td>\n",
       "      <td>0.92</td>\n",
       "      <td>0.33</td>\n",
       "      <td>2.15</td>\n",
       "      <td>PRIO3.SA</td>\n",
       "      <td>diff_close_mean_z_score_7</td>\n",
       "      <td>True</td>\n",
       "    </tr>\n",
       "    <tr>\n",
       "      <th>4621</th>\n",
       "      <td>0.48</td>\n",
       "      <td>0.58</td>\n",
       "      <td>0.76</td>\n",
       "      <td>0.53</td>\n",
       "      <td>1.48</td>\n",
       "      <td>PRIO3.SA</td>\n",
       "      <td>diff_close_mean_z_score_7</td>\n",
       "      <td>False</td>\n",
       "    </tr>\n",
       "    <tr>\n",
       "      <th>4624</th>\n",
       "      <td>0.56</td>\n",
       "      <td>0.58</td>\n",
       "      <td>0.76</td>\n",
       "      <td>0.61</td>\n",
       "      <td>1.58</td>\n",
       "      <td>PRIO3.SA</td>\n",
       "      <td>diff_close_mean_z_score_14</td>\n",
       "      <td>True</td>\n",
       "    </tr>\n",
       "    <tr>\n",
       "      <th>4625</th>\n",
       "      <td>0.38</td>\n",
       "      <td>0.40</td>\n",
       "      <td>0.63</td>\n",
       "      <td>0.73</td>\n",
       "      <td>1.09</td>\n",
       "      <td>PRIO3.SA</td>\n",
       "      <td>diff_close_mean_z_score_14</td>\n",
       "      <td>False</td>\n",
       "    </tr>\n",
       "    <tr>\n",
       "      <th>4628</th>\n",
       "      <td>0.48</td>\n",
       "      <td>0.43</td>\n",
       "      <td>0.65</td>\n",
       "      <td>0.74</td>\n",
       "      <td>1.27</td>\n",
       "      <td>PRIO3.SA</td>\n",
       "      <td>diff_close_mean_z_score_21</td>\n",
       "      <td>True</td>\n",
       "    </tr>\n",
       "    <tr>\n",
       "      <th>4629</th>\n",
       "      <td>0.33</td>\n",
       "      <td>0.30</td>\n",
       "      <td>0.54</td>\n",
       "      <td>0.82</td>\n",
       "      <td>0.88</td>\n",
       "      <td>PRIO3.SA</td>\n",
       "      <td>diff_close_mean_z_score_21</td>\n",
       "      <td>False</td>\n",
       "    </tr>\n",
       "  </tbody>\n",
       "</table>\n",
       "</div>"
      ],
      "text/plain": [
       "      Mean Absolute Error (MAE)  Mean Squared Error (MSE)  \\\n",
       "4608                       0.71                      0.92   \n",
       "4609                       0.49                      0.63   \n",
       "4612                       0.57                      0.65   \n",
       "4613                       0.39                      0.45   \n",
       "4616                       0.48                      0.48   \n",
       "4617                       0.33                      0.33   \n",
       "4620                       0.69                      0.84   \n",
       "4621                       0.48                      0.58   \n",
       "4624                       0.56                      0.58   \n",
       "4625                       0.38                      0.40   \n",
       "4628                       0.48                      0.43   \n",
       "4629                       0.33                      0.30   \n",
       "\n",
       "      Root Mean Squared Error (RMSE)  R-squared (R2)  \\\n",
       "4608                            0.96            0.26   \n",
       "4609                            0.79            0.48   \n",
       "4612                            0.81            0.58   \n",
       "4613                            0.67            0.71   \n",
       "4616                            0.69            0.70   \n",
       "4617                            0.58            0.79   \n",
       "4620                            0.92            0.33   \n",
       "4621                            0.76            0.53   \n",
       "4624                            0.76            0.61   \n",
       "4625                            0.63            0.73   \n",
       "4628                            0.65            0.74   \n",
       "4629                            0.54            0.82   \n",
       "\n",
       "      Mean Absolute Percentage Error (MAPE)     ativo  \\\n",
       "4608                                   2.07  PETR3.SA   \n",
       "4609                                   1.42  PETR3.SA   \n",
       "4612                                   1.78  PETR3.SA   \n",
       "4613                                   1.23  PETR3.SA   \n",
       "4616                                   1.08  PETR3.SA   \n",
       "4617                                   0.74  PETR3.SA   \n",
       "4620                                   2.15  PRIO3.SA   \n",
       "4621                                   1.48  PRIO3.SA   \n",
       "4624                                   1.58  PRIO3.SA   \n",
       "4625                                   1.09  PRIO3.SA   \n",
       "4628                                   1.27  PRIO3.SA   \n",
       "4629                                   0.88  PRIO3.SA   \n",
       "\n",
       "                            alvo   leak  \n",
       "4608   diff_close_mean_z_score_7   True  \n",
       "4609   diff_close_mean_z_score_7  False  \n",
       "4612  diff_close_mean_z_score_14   True  \n",
       "4613  diff_close_mean_z_score_14  False  \n",
       "4616  diff_close_mean_z_score_21   True  \n",
       "4617  diff_close_mean_z_score_21  False  \n",
       "4620   diff_close_mean_z_score_7   True  \n",
       "4621   diff_close_mean_z_score_7  False  \n",
       "4624  diff_close_mean_z_score_14   True  \n",
       "4625  diff_close_mean_z_score_14  False  \n",
       "4628  diff_close_mean_z_score_21   True  \n",
       "4629  diff_close_mean_z_score_21  False  "
      ]
     },
     "metadata": {},
     "output_type": "display_data"
    },
    {
     "name": "stdout",
     "output_type": "stream",
     "text": [
      "\n",
      "##############################################\n",
      "# DOMAIN: Mineração\n",
      "# ASSETS: ['VALE3.SA', 'GGBR3.SA']\n",
      "##############################################\n",
      "          \n",
      "Metricas macro - label meta\n"
     ]
    },
    {
     "data": {
      "text/html": [
       "<div>\n",
       "<style scoped>\n",
       "    .dataframe tbody tr th:only-of-type {\n",
       "        vertical-align: middle;\n",
       "    }\n",
       "\n",
       "    .dataframe tbody tr th {\n",
       "        vertical-align: top;\n",
       "    }\n",
       "\n",
       "    .dataframe thead th {\n",
       "        text-align: right;\n",
       "    }\n",
       "</style>\n",
       "<table border=\"1\" class=\"dataframe\">\n",
       "  <thead>\n",
       "    <tr style=\"text-align: right;\">\n",
       "      <th></th>\n",
       "      <th>ativo</th>\n",
       "      <th>alvo</th>\n",
       "      <th>precision</th>\n",
       "      <th>recall</th>\n",
       "      <th>f1-score</th>\n",
       "    </tr>\n",
       "  </thead>\n",
       "  <tbody>\n",
       "    <tr>\n",
       "      <th>39760</th>\n",
       "      <td>VALE3.SA</td>\n",
       "      <td>meta_7</td>\n",
       "      <td>0.40</td>\n",
       "      <td>0.40</td>\n",
       "      <td>0.40</td>\n",
       "    </tr>\n",
       "    <tr>\n",
       "      <th>39768</th>\n",
       "      <td>VALE3.SA</td>\n",
       "      <td>meta_7</td>\n",
       "      <td>0.60</td>\n",
       "      <td>0.60</td>\n",
       "      <td>0.60</td>\n",
       "    </tr>\n",
       "    <tr>\n",
       "      <th>39792</th>\n",
       "      <td>VALE3.SA</td>\n",
       "      <td>meta_14</td>\n",
       "      <td>0.56</td>\n",
       "      <td>0.56</td>\n",
       "      <td>0.56</td>\n",
       "    </tr>\n",
       "    <tr>\n",
       "      <th>39800</th>\n",
       "      <td>VALE3.SA</td>\n",
       "      <td>meta_14</td>\n",
       "      <td>0.70</td>\n",
       "      <td>0.70</td>\n",
       "      <td>0.70</td>\n",
       "    </tr>\n",
       "    <tr>\n",
       "      <th>39830</th>\n",
       "      <td>VALE3.SA</td>\n",
       "      <td>meta_21</td>\n",
       "      <td>0.45</td>\n",
       "      <td>0.45</td>\n",
       "      <td>0.45</td>\n",
       "    </tr>\n",
       "    <tr>\n",
       "      <th>39839</th>\n",
       "      <td>VALE3.SA</td>\n",
       "      <td>meta_21</td>\n",
       "      <td>0.71</td>\n",
       "      <td>0.71</td>\n",
       "      <td>0.71</td>\n",
       "    </tr>\n",
       "    <tr>\n",
       "      <th>39864</th>\n",
       "      <td>GGBR3.SA</td>\n",
       "      <td>meta_7</td>\n",
       "      <td>0.34</td>\n",
       "      <td>0.34</td>\n",
       "      <td>0.34</td>\n",
       "    </tr>\n",
       "    <tr>\n",
       "      <th>39872</th>\n",
       "      <td>GGBR3.SA</td>\n",
       "      <td>meta_7</td>\n",
       "      <td>0.52</td>\n",
       "      <td>0.52</td>\n",
       "      <td>0.52</td>\n",
       "    </tr>\n",
       "    <tr>\n",
       "      <th>39896</th>\n",
       "      <td>GGBR3.SA</td>\n",
       "      <td>meta_14</td>\n",
       "      <td>0.53</td>\n",
       "      <td>0.53</td>\n",
       "      <td>0.53</td>\n",
       "    </tr>\n",
       "    <tr>\n",
       "      <th>39903</th>\n",
       "      <td>GGBR3.SA</td>\n",
       "      <td>meta_14</td>\n",
       "      <td>0.69</td>\n",
       "      <td>0.69</td>\n",
       "      <td>0.69</td>\n",
       "    </tr>\n",
       "    <tr>\n",
       "      <th>39934</th>\n",
       "      <td>GGBR3.SA</td>\n",
       "      <td>meta_21</td>\n",
       "      <td>0.42</td>\n",
       "      <td>0.42</td>\n",
       "      <td>0.42</td>\n",
       "    </tr>\n",
       "    <tr>\n",
       "      <th>39944</th>\n",
       "      <td>GGBR3.SA</td>\n",
       "      <td>meta_21</td>\n",
       "      <td>0.66</td>\n",
       "      <td>0.66</td>\n",
       "      <td>0.66</td>\n",
       "    </tr>\n",
       "  </tbody>\n",
       "</table>\n",
       "</div>"
      ],
      "text/plain": [
       "          ativo     alvo  precision  recall  f1-score\n",
       "39760  VALE3.SA   meta_7       0.40    0.40      0.40\n",
       "39768  VALE3.SA   meta_7       0.60    0.60      0.60\n",
       "39792  VALE3.SA  meta_14       0.56    0.56      0.56\n",
       "39800  VALE3.SA  meta_14       0.70    0.70      0.70\n",
       "39830  VALE3.SA  meta_21       0.45    0.45      0.45\n",
       "39839  VALE3.SA  meta_21       0.71    0.71      0.71\n",
       "39864  GGBR3.SA   meta_7       0.34    0.34      0.34\n",
       "39872  GGBR3.SA   meta_7       0.52    0.52      0.52\n",
       "39896  GGBR3.SA  meta_14       0.53    0.53      0.53\n",
       "39903  GGBR3.SA  meta_14       0.69    0.69      0.69\n",
       "39934  GGBR3.SA  meta_21       0.42    0.42      0.42\n",
       "39944  GGBR3.SA  meta_21       0.66    0.66      0.66"
      ]
     },
     "metadata": {},
     "output_type": "display_data"
    },
    {
     "name": "stdout",
     "output_type": "stream",
     "text": [
      "Metricas regressao - label diff_close_mean_z_score\n"
     ]
    },
    {
     "data": {
      "text/html": [
       "<div>\n",
       "<style scoped>\n",
       "    .dataframe tbody tr th:only-of-type {\n",
       "        vertical-align: middle;\n",
       "    }\n",
       "\n",
       "    .dataframe tbody tr th {\n",
       "        vertical-align: top;\n",
       "    }\n",
       "\n",
       "    .dataframe thead th {\n",
       "        text-align: right;\n",
       "    }\n",
       "</style>\n",
       "<table border=\"1\" class=\"dataframe\">\n",
       "  <thead>\n",
       "    <tr style=\"text-align: right;\">\n",
       "      <th></th>\n",
       "      <th>Mean Absolute Error (MAE)</th>\n",
       "      <th>Mean Squared Error (MSE)</th>\n",
       "      <th>Root Mean Squared Error (RMSE)</th>\n",
       "      <th>R-squared (R2)</th>\n",
       "      <th>Mean Absolute Percentage Error (MAPE)</th>\n",
       "      <th>ativo</th>\n",
       "      <th>alvo</th>\n",
       "      <th>leak</th>\n",
       "    </tr>\n",
       "  </thead>\n",
       "  <tbody>\n",
       "    <tr>\n",
       "      <th>4632</th>\n",
       "      <td>0.66</td>\n",
       "      <td>0.76</td>\n",
       "      <td>0.87</td>\n",
       "      <td>0.41</td>\n",
       "      <td>2.647450e+11</td>\n",
       "      <td>VALE3.SA</td>\n",
       "      <td>diff_close_mean_z_score_7</td>\n",
       "      <td>True</td>\n",
       "    </tr>\n",
       "    <tr>\n",
       "      <th>4633</th>\n",
       "      <td>0.45</td>\n",
       "      <td>0.51</td>\n",
       "      <td>0.72</td>\n",
       "      <td>0.61</td>\n",
       "      <td>1.820295e+11</td>\n",
       "      <td>VALE3.SA</td>\n",
       "      <td>diff_close_mean_z_score_7</td>\n",
       "      <td>False</td>\n",
       "    </tr>\n",
       "    <tr>\n",
       "      <th>4636</th>\n",
       "      <td>0.52</td>\n",
       "      <td>0.52</td>\n",
       "      <td>0.72</td>\n",
       "      <td>0.67</td>\n",
       "      <td>1.190000e+00</td>\n",
       "      <td>VALE3.SA</td>\n",
       "      <td>diff_close_mean_z_score_14</td>\n",
       "      <td>True</td>\n",
       "    </tr>\n",
       "    <tr>\n",
       "      <th>4637</th>\n",
       "      <td>0.35</td>\n",
       "      <td>0.35</td>\n",
       "      <td>0.59</td>\n",
       "      <td>0.78</td>\n",
       "      <td>7.800000e-01</td>\n",
       "      <td>VALE3.SA</td>\n",
       "      <td>diff_close_mean_z_score_14</td>\n",
       "      <td>False</td>\n",
       "    </tr>\n",
       "    <tr>\n",
       "      <th>4640</th>\n",
       "      <td>0.43</td>\n",
       "      <td>0.37</td>\n",
       "      <td>0.61</td>\n",
       "      <td>0.79</td>\n",
       "      <td>1.370000e+00</td>\n",
       "      <td>VALE3.SA</td>\n",
       "      <td>diff_close_mean_z_score_21</td>\n",
       "      <td>True</td>\n",
       "    </tr>\n",
       "    <tr>\n",
       "      <th>4641</th>\n",
       "      <td>0.29</td>\n",
       "      <td>0.23</td>\n",
       "      <td>0.48</td>\n",
       "      <td>0.87</td>\n",
       "      <td>9.200000e-01</td>\n",
       "      <td>VALE3.SA</td>\n",
       "      <td>diff_close_mean_z_score_21</td>\n",
       "      <td>False</td>\n",
       "    </tr>\n",
       "    <tr>\n",
       "      <th>4644</th>\n",
       "      <td>0.71</td>\n",
       "      <td>0.88</td>\n",
       "      <td>0.94</td>\n",
       "      <td>0.27</td>\n",
       "      <td>1.760000e+00</td>\n",
       "      <td>GGBR3.SA</td>\n",
       "      <td>diff_close_mean_z_score_7</td>\n",
       "      <td>True</td>\n",
       "    </tr>\n",
       "    <tr>\n",
       "      <th>4645</th>\n",
       "      <td>0.48</td>\n",
       "      <td>0.60</td>\n",
       "      <td>0.78</td>\n",
       "      <td>0.49</td>\n",
       "      <td>1.200000e+00</td>\n",
       "      <td>GGBR3.SA</td>\n",
       "      <td>diff_close_mean_z_score_7</td>\n",
       "      <td>False</td>\n",
       "    </tr>\n",
       "    <tr>\n",
       "      <th>4648</th>\n",
       "      <td>0.56</td>\n",
       "      <td>0.57</td>\n",
       "      <td>0.76</td>\n",
       "      <td>0.62</td>\n",
       "      <td>3.220000e+00</td>\n",
       "      <td>GGBR3.SA</td>\n",
       "      <td>diff_close_mean_z_score_14</td>\n",
       "      <td>True</td>\n",
       "    </tr>\n",
       "    <tr>\n",
       "      <th>4649</th>\n",
       "      <td>0.38</td>\n",
       "      <td>0.39</td>\n",
       "      <td>0.62</td>\n",
       "      <td>0.75</td>\n",
       "      <td>2.200000e+00</td>\n",
       "      <td>GGBR3.SA</td>\n",
       "      <td>diff_close_mean_z_score_14</td>\n",
       "      <td>False</td>\n",
       "    </tr>\n",
       "    <tr>\n",
       "      <th>4652</th>\n",
       "      <td>0.48</td>\n",
       "      <td>0.43</td>\n",
       "      <td>0.66</td>\n",
       "      <td>0.73</td>\n",
       "      <td>1.800000e+00</td>\n",
       "      <td>GGBR3.SA</td>\n",
       "      <td>diff_close_mean_z_score_21</td>\n",
       "      <td>True</td>\n",
       "    </tr>\n",
       "    <tr>\n",
       "      <th>4653</th>\n",
       "      <td>0.33</td>\n",
       "      <td>0.29</td>\n",
       "      <td>0.54</td>\n",
       "      <td>0.83</td>\n",
       "      <td>1.230000e+00</td>\n",
       "      <td>GGBR3.SA</td>\n",
       "      <td>diff_close_mean_z_score_21</td>\n",
       "      <td>False</td>\n",
       "    </tr>\n",
       "  </tbody>\n",
       "</table>\n",
       "</div>"
      ],
      "text/plain": [
       "      Mean Absolute Error (MAE)  Mean Squared Error (MSE)  \\\n",
       "4632                       0.66                      0.76   \n",
       "4633                       0.45                      0.51   \n",
       "4636                       0.52                      0.52   \n",
       "4637                       0.35                      0.35   \n",
       "4640                       0.43                      0.37   \n",
       "4641                       0.29                      0.23   \n",
       "4644                       0.71                      0.88   \n",
       "4645                       0.48                      0.60   \n",
       "4648                       0.56                      0.57   \n",
       "4649                       0.38                      0.39   \n",
       "4652                       0.48                      0.43   \n",
       "4653                       0.33                      0.29   \n",
       "\n",
       "      Root Mean Squared Error (RMSE)  R-squared (R2)  \\\n",
       "4632                            0.87            0.41   \n",
       "4633                            0.72            0.61   \n",
       "4636                            0.72            0.67   \n",
       "4637                            0.59            0.78   \n",
       "4640                            0.61            0.79   \n",
       "4641                            0.48            0.87   \n",
       "4644                            0.94            0.27   \n",
       "4645                            0.78            0.49   \n",
       "4648                            0.76            0.62   \n",
       "4649                            0.62            0.75   \n",
       "4652                            0.66            0.73   \n",
       "4653                            0.54            0.83   \n",
       "\n",
       "      Mean Absolute Percentage Error (MAPE)     ativo  \\\n",
       "4632                           2.647450e+11  VALE3.SA   \n",
       "4633                           1.820295e+11  VALE3.SA   \n",
       "4636                           1.190000e+00  VALE3.SA   \n",
       "4637                           7.800000e-01  VALE3.SA   \n",
       "4640                           1.370000e+00  VALE3.SA   \n",
       "4641                           9.200000e-01  VALE3.SA   \n",
       "4644                           1.760000e+00  GGBR3.SA   \n",
       "4645                           1.200000e+00  GGBR3.SA   \n",
       "4648                           3.220000e+00  GGBR3.SA   \n",
       "4649                           2.200000e+00  GGBR3.SA   \n",
       "4652                           1.800000e+00  GGBR3.SA   \n",
       "4653                           1.230000e+00  GGBR3.SA   \n",
       "\n",
       "                            alvo   leak  \n",
       "4632   diff_close_mean_z_score_7   True  \n",
       "4633   diff_close_mean_z_score_7  False  \n",
       "4636  diff_close_mean_z_score_14   True  \n",
       "4637  diff_close_mean_z_score_14  False  \n",
       "4640  diff_close_mean_z_score_21   True  \n",
       "4641  diff_close_mean_z_score_21  False  \n",
       "4644   diff_close_mean_z_score_7   True  \n",
       "4645   diff_close_mean_z_score_7  False  \n",
       "4648  diff_close_mean_z_score_14   True  \n",
       "4649  diff_close_mean_z_score_14  False  \n",
       "4652  diff_close_mean_z_score_21   True  \n",
       "4653  diff_close_mean_z_score_21  False  "
      ]
     },
     "metadata": {},
     "output_type": "display_data"
    },
    {
     "name": "stdout",
     "output_type": "stream",
     "text": [
      "\n",
      "##############################################\n",
      "# DOMAIN: Financeiro\n",
      "# ASSETS: ['ABCB4.SA', 'ITUB3.SA']\n",
      "##############################################\n",
      "          \n",
      "Metricas macro - label meta\n"
     ]
    },
    {
     "data": {
      "text/html": [
       "<div>\n",
       "<style scoped>\n",
       "    .dataframe tbody tr th:only-of-type {\n",
       "        vertical-align: middle;\n",
       "    }\n",
       "\n",
       "    .dataframe tbody tr th {\n",
       "        vertical-align: top;\n",
       "    }\n",
       "\n",
       "    .dataframe thead th {\n",
       "        text-align: right;\n",
       "    }\n",
       "</style>\n",
       "<table border=\"1\" class=\"dataframe\">\n",
       "  <thead>\n",
       "    <tr style=\"text-align: right;\">\n",
       "      <th></th>\n",
       "      <th>ativo</th>\n",
       "      <th>alvo</th>\n",
       "      <th>precision</th>\n",
       "      <th>recall</th>\n",
       "      <th>f1-score</th>\n",
       "    </tr>\n",
       "  </thead>\n",
       "  <tbody>\n",
       "    <tr>\n",
       "      <th>39968</th>\n",
       "      <td>ABCB4.SA</td>\n",
       "      <td>meta_7</td>\n",
       "      <td>0.35</td>\n",
       "      <td>0.35</td>\n",
       "      <td>0.35</td>\n",
       "    </tr>\n",
       "    <tr>\n",
       "      <th>39976</th>\n",
       "      <td>ABCB4.SA</td>\n",
       "      <td>meta_7</td>\n",
       "      <td>0.51</td>\n",
       "      <td>0.51</td>\n",
       "      <td>0.51</td>\n",
       "    </tr>\n",
       "    <tr>\n",
       "      <th>40000</th>\n",
       "      <td>ABCB4.SA</td>\n",
       "      <td>meta_14</td>\n",
       "      <td>0.47</td>\n",
       "      <td>0.47</td>\n",
       "      <td>0.47</td>\n",
       "    </tr>\n",
       "    <tr>\n",
       "      <th>40008</th>\n",
       "      <td>ABCB4.SA</td>\n",
       "      <td>meta_14</td>\n",
       "      <td>0.65</td>\n",
       "      <td>0.65</td>\n",
       "      <td>0.65</td>\n",
       "    </tr>\n",
       "    <tr>\n",
       "      <th>40035</th>\n",
       "      <td>ABCB4.SA</td>\n",
       "      <td>meta_21</td>\n",
       "      <td>0.45</td>\n",
       "      <td>0.45</td>\n",
       "      <td>0.45</td>\n",
       "    </tr>\n",
       "    <tr>\n",
       "      <th>40045</th>\n",
       "      <td>ABCB4.SA</td>\n",
       "      <td>meta_21</td>\n",
       "      <td>0.57</td>\n",
       "      <td>0.57</td>\n",
       "      <td>0.57</td>\n",
       "    </tr>\n",
       "    <tr>\n",
       "      <th>40068</th>\n",
       "      <td>ITUB3.SA</td>\n",
       "      <td>meta_7</td>\n",
       "      <td>0.35</td>\n",
       "      <td>0.35</td>\n",
       "      <td>0.35</td>\n",
       "    </tr>\n",
       "    <tr>\n",
       "      <th>40076</th>\n",
       "      <td>ITUB3.SA</td>\n",
       "      <td>meta_7</td>\n",
       "      <td>0.43</td>\n",
       "      <td>0.43</td>\n",
       "      <td>0.43</td>\n",
       "    </tr>\n",
       "    <tr>\n",
       "      <th>40103</th>\n",
       "      <td>ITUB3.SA</td>\n",
       "      <td>meta_14</td>\n",
       "      <td>0.46</td>\n",
       "      <td>0.46</td>\n",
       "      <td>0.46</td>\n",
       "    </tr>\n",
       "    <tr>\n",
       "      <th>40112</th>\n",
       "      <td>ITUB3.SA</td>\n",
       "      <td>meta_14</td>\n",
       "      <td>0.58</td>\n",
       "      <td>0.58</td>\n",
       "      <td>0.58</td>\n",
       "    </tr>\n",
       "    <tr>\n",
       "      <th>40142</th>\n",
       "      <td>ITUB3.SA</td>\n",
       "      <td>meta_21</td>\n",
       "      <td>0.46</td>\n",
       "      <td>0.46</td>\n",
       "      <td>0.46</td>\n",
       "    </tr>\n",
       "    <tr>\n",
       "      <th>40152</th>\n",
       "      <td>ITUB3.SA</td>\n",
       "      <td>meta_21</td>\n",
       "      <td>0.54</td>\n",
       "      <td>0.54</td>\n",
       "      <td>0.54</td>\n",
       "    </tr>\n",
       "  </tbody>\n",
       "</table>\n",
       "</div>"
      ],
      "text/plain": [
       "          ativo     alvo  precision  recall  f1-score\n",
       "39968  ABCB4.SA   meta_7       0.35    0.35      0.35\n",
       "39976  ABCB4.SA   meta_7       0.51    0.51      0.51\n",
       "40000  ABCB4.SA  meta_14       0.47    0.47      0.47\n",
       "40008  ABCB4.SA  meta_14       0.65    0.65      0.65\n",
       "40035  ABCB4.SA  meta_21       0.45    0.45      0.45\n",
       "40045  ABCB4.SA  meta_21       0.57    0.57      0.57\n",
       "40068  ITUB3.SA   meta_7       0.35    0.35      0.35\n",
       "40076  ITUB3.SA   meta_7       0.43    0.43      0.43\n",
       "40103  ITUB3.SA  meta_14       0.46    0.46      0.46\n",
       "40112  ITUB3.SA  meta_14       0.58    0.58      0.58\n",
       "40142  ITUB3.SA  meta_21       0.46    0.46      0.46\n",
       "40152  ITUB3.SA  meta_21       0.54    0.54      0.54"
      ]
     },
     "metadata": {},
     "output_type": "display_data"
    },
    {
     "name": "stdout",
     "output_type": "stream",
     "text": [
      "Metricas regressao - label diff_close_mean_z_score\n"
     ]
    },
    {
     "data": {
      "text/html": [
       "<div>\n",
       "<style scoped>\n",
       "    .dataframe tbody tr th:only-of-type {\n",
       "        vertical-align: middle;\n",
       "    }\n",
       "\n",
       "    .dataframe tbody tr th {\n",
       "        vertical-align: top;\n",
       "    }\n",
       "\n",
       "    .dataframe thead th {\n",
       "        text-align: right;\n",
       "    }\n",
       "</style>\n",
       "<table border=\"1\" class=\"dataframe\">\n",
       "  <thead>\n",
       "    <tr style=\"text-align: right;\">\n",
       "      <th></th>\n",
       "      <th>Mean Absolute Error (MAE)</th>\n",
       "      <th>Mean Squared Error (MSE)</th>\n",
       "      <th>Root Mean Squared Error (RMSE)</th>\n",
       "      <th>R-squared (R2)</th>\n",
       "      <th>Mean Absolute Percentage Error (MAPE)</th>\n",
       "      <th>ativo</th>\n",
       "      <th>alvo</th>\n",
       "      <th>leak</th>\n",
       "    </tr>\n",
       "  </thead>\n",
       "  <tbody>\n",
       "    <tr>\n",
       "      <th>4656</th>\n",
       "      <td>0.76</td>\n",
       "      <td>1.00</td>\n",
       "      <td>1.00</td>\n",
       "      <td>0.17</td>\n",
       "      <td>2.658000e+02</td>\n",
       "      <td>ABCB4.SA</td>\n",
       "      <td>diff_close_mean_z_score_7</td>\n",
       "      <td>True</td>\n",
       "    </tr>\n",
       "    <tr>\n",
       "      <th>4657</th>\n",
       "      <td>0.52</td>\n",
       "      <td>0.68</td>\n",
       "      <td>0.82</td>\n",
       "      <td>0.44</td>\n",
       "      <td>1.827400e+02</td>\n",
       "      <td>ABCB4.SA</td>\n",
       "      <td>diff_close_mean_z_score_7</td>\n",
       "      <td>False</td>\n",
       "    </tr>\n",
       "    <tr>\n",
       "      <th>4660</th>\n",
       "      <td>0.62</td>\n",
       "      <td>0.71</td>\n",
       "      <td>0.84</td>\n",
       "      <td>0.50</td>\n",
       "      <td>2.740000e+00</td>\n",
       "      <td>ABCB4.SA</td>\n",
       "      <td>diff_close_mean_z_score_14</td>\n",
       "      <td>True</td>\n",
       "    </tr>\n",
       "    <tr>\n",
       "      <th>4661</th>\n",
       "      <td>0.43</td>\n",
       "      <td>0.49</td>\n",
       "      <td>0.70</td>\n",
       "      <td>0.66</td>\n",
       "      <td>1.900000e+00</td>\n",
       "      <td>ABCB4.SA</td>\n",
       "      <td>diff_close_mean_z_score_14</td>\n",
       "      <td>False</td>\n",
       "    </tr>\n",
       "    <tr>\n",
       "      <th>4664</th>\n",
       "      <td>0.54</td>\n",
       "      <td>0.52</td>\n",
       "      <td>0.72</td>\n",
       "      <td>0.66</td>\n",
       "      <td>1.690000e+00</td>\n",
       "      <td>ABCB4.SA</td>\n",
       "      <td>diff_close_mean_z_score_21</td>\n",
       "      <td>True</td>\n",
       "    </tr>\n",
       "    <tr>\n",
       "      <th>4665</th>\n",
       "      <td>0.37</td>\n",
       "      <td>0.36</td>\n",
       "      <td>0.60</td>\n",
       "      <td>0.77</td>\n",
       "      <td>1.170000e+00</td>\n",
       "      <td>ABCB4.SA</td>\n",
       "      <td>diff_close_mean_z_score_21</td>\n",
       "      <td>False</td>\n",
       "    </tr>\n",
       "    <tr>\n",
       "      <th>4668</th>\n",
       "      <td>0.68</td>\n",
       "      <td>0.88</td>\n",
       "      <td>0.94</td>\n",
       "      <td>0.33</td>\n",
       "      <td>4.948931e+12</td>\n",
       "      <td>ITUB3.SA</td>\n",
       "      <td>diff_close_mean_z_score_7</td>\n",
       "      <td>True</td>\n",
       "    </tr>\n",
       "    <tr>\n",
       "      <th>4669</th>\n",
       "      <td>0.46</td>\n",
       "      <td>0.59</td>\n",
       "      <td>0.77</td>\n",
       "      <td>0.54</td>\n",
       "      <td>3.402713e+12</td>\n",
       "      <td>ITUB3.SA</td>\n",
       "      <td>diff_close_mean_z_score_7</td>\n",
       "      <td>False</td>\n",
       "    </tr>\n",
       "    <tr>\n",
       "      <th>4672</th>\n",
       "      <td>0.52</td>\n",
       "      <td>0.55</td>\n",
       "      <td>0.74</td>\n",
       "      <td>0.67</td>\n",
       "      <td>1.679800e+02</td>\n",
       "      <td>ITUB3.SA</td>\n",
       "      <td>diff_close_mean_z_score_14</td>\n",
       "      <td>True</td>\n",
       "    </tr>\n",
       "    <tr>\n",
       "      <th>4673</th>\n",
       "      <td>0.36</td>\n",
       "      <td>0.37</td>\n",
       "      <td>0.61</td>\n",
       "      <td>0.78</td>\n",
       "      <td>1.163400e+02</td>\n",
       "      <td>ITUB3.SA</td>\n",
       "      <td>diff_close_mean_z_score_14</td>\n",
       "      <td>False</td>\n",
       "    </tr>\n",
       "    <tr>\n",
       "      <th>4676</th>\n",
       "      <td>0.43</td>\n",
       "      <td>0.39</td>\n",
       "      <td>0.62</td>\n",
       "      <td>0.79</td>\n",
       "      <td>2.790000e+00</td>\n",
       "      <td>ITUB3.SA</td>\n",
       "      <td>diff_close_mean_z_score_21</td>\n",
       "      <td>True</td>\n",
       "    </tr>\n",
       "    <tr>\n",
       "      <th>4677</th>\n",
       "      <td>0.30</td>\n",
       "      <td>0.26</td>\n",
       "      <td>0.51</td>\n",
       "      <td>0.86</td>\n",
       "      <td>1.940000e+00</td>\n",
       "      <td>ITUB3.SA</td>\n",
       "      <td>diff_close_mean_z_score_21</td>\n",
       "      <td>False</td>\n",
       "    </tr>\n",
       "  </tbody>\n",
       "</table>\n",
       "</div>"
      ],
      "text/plain": [
       "      Mean Absolute Error (MAE)  Mean Squared Error (MSE)  \\\n",
       "4656                       0.76                      1.00   \n",
       "4657                       0.52                      0.68   \n",
       "4660                       0.62                      0.71   \n",
       "4661                       0.43                      0.49   \n",
       "4664                       0.54                      0.52   \n",
       "4665                       0.37                      0.36   \n",
       "4668                       0.68                      0.88   \n",
       "4669                       0.46                      0.59   \n",
       "4672                       0.52                      0.55   \n",
       "4673                       0.36                      0.37   \n",
       "4676                       0.43                      0.39   \n",
       "4677                       0.30                      0.26   \n",
       "\n",
       "      Root Mean Squared Error (RMSE)  R-squared (R2)  \\\n",
       "4656                            1.00            0.17   \n",
       "4657                            0.82            0.44   \n",
       "4660                            0.84            0.50   \n",
       "4661                            0.70            0.66   \n",
       "4664                            0.72            0.66   \n",
       "4665                            0.60            0.77   \n",
       "4668                            0.94            0.33   \n",
       "4669                            0.77            0.54   \n",
       "4672                            0.74            0.67   \n",
       "4673                            0.61            0.78   \n",
       "4676                            0.62            0.79   \n",
       "4677                            0.51            0.86   \n",
       "\n",
       "      Mean Absolute Percentage Error (MAPE)     ativo  \\\n",
       "4656                           2.658000e+02  ABCB4.SA   \n",
       "4657                           1.827400e+02  ABCB4.SA   \n",
       "4660                           2.740000e+00  ABCB4.SA   \n",
       "4661                           1.900000e+00  ABCB4.SA   \n",
       "4664                           1.690000e+00  ABCB4.SA   \n",
       "4665                           1.170000e+00  ABCB4.SA   \n",
       "4668                           4.948931e+12  ITUB3.SA   \n",
       "4669                           3.402713e+12  ITUB3.SA   \n",
       "4672                           1.679800e+02  ITUB3.SA   \n",
       "4673                           1.163400e+02  ITUB3.SA   \n",
       "4676                           2.790000e+00  ITUB3.SA   \n",
       "4677                           1.940000e+00  ITUB3.SA   \n",
       "\n",
       "                            alvo   leak  \n",
       "4656   diff_close_mean_z_score_7   True  \n",
       "4657   diff_close_mean_z_score_7  False  \n",
       "4660  diff_close_mean_z_score_14   True  \n",
       "4661  diff_close_mean_z_score_14  False  \n",
       "4664  diff_close_mean_z_score_21   True  \n",
       "4665  diff_close_mean_z_score_21  False  \n",
       "4668   diff_close_mean_z_score_7   True  \n",
       "4669   diff_close_mean_z_score_7  False  \n",
       "4672  diff_close_mean_z_score_14   True  \n",
       "4673  diff_close_mean_z_score_14  False  \n",
       "4676  diff_close_mean_z_score_21   True  \n",
       "4677  diff_close_mean_z_score_21  False  "
      ]
     },
     "metadata": {},
     "output_type": "display_data"
    },
    {
     "name": "stdout",
     "output_type": "stream",
     "text": [
      "\n",
      "##############################################\n",
      "# DOMAIN: Saúde\n",
      "# ASSETS: ['FLRY3.SA', 'RADL3.SA']\n",
      "##############################################\n",
      "          \n",
      "Metricas macro - label meta\n"
     ]
    },
    {
     "data": {
      "text/html": [
       "<div>\n",
       "<style scoped>\n",
       "    .dataframe tbody tr th:only-of-type {\n",
       "        vertical-align: middle;\n",
       "    }\n",
       "\n",
       "    .dataframe tbody tr th {\n",
       "        vertical-align: top;\n",
       "    }\n",
       "\n",
       "    .dataframe thead th {\n",
       "        text-align: right;\n",
       "    }\n",
       "</style>\n",
       "<table border=\"1\" class=\"dataframe\">\n",
       "  <thead>\n",
       "    <tr style=\"text-align: right;\">\n",
       "      <th></th>\n",
       "      <th>ativo</th>\n",
       "      <th>alvo</th>\n",
       "      <th>precision</th>\n",
       "      <th>recall</th>\n",
       "      <th>f1-score</th>\n",
       "    </tr>\n",
       "  </thead>\n",
       "  <tbody>\n",
       "    <tr>\n",
       "      <th>40176</th>\n",
       "      <td>FLRY3.SA</td>\n",
       "      <td>meta_7</td>\n",
       "      <td>0.33</td>\n",
       "      <td>0.33</td>\n",
       "      <td>0.33</td>\n",
       "    </tr>\n",
       "    <tr>\n",
       "      <th>40184</th>\n",
       "      <td>FLRY3.SA</td>\n",
       "      <td>meta_7</td>\n",
       "      <td>0.51</td>\n",
       "      <td>0.51</td>\n",
       "      <td>0.51</td>\n",
       "    </tr>\n",
       "    <tr>\n",
       "      <th>40210</th>\n",
       "      <td>FLRY3.SA</td>\n",
       "      <td>meta_14</td>\n",
       "      <td>0.38</td>\n",
       "      <td>0.38</td>\n",
       "      <td>0.38</td>\n",
       "    </tr>\n",
       "    <tr>\n",
       "      <th>40220</th>\n",
       "      <td>FLRY3.SA</td>\n",
       "      <td>meta_14</td>\n",
       "      <td>0.63</td>\n",
       "      <td>0.63</td>\n",
       "      <td>0.63</td>\n",
       "    </tr>\n",
       "    <tr>\n",
       "      <th>40247</th>\n",
       "      <td>FLRY3.SA</td>\n",
       "      <td>meta_21</td>\n",
       "      <td>0.48</td>\n",
       "      <td>0.48</td>\n",
       "      <td>0.48</td>\n",
       "    </tr>\n",
       "    <tr>\n",
       "      <th>40255</th>\n",
       "      <td>FLRY3.SA</td>\n",
       "      <td>meta_21</td>\n",
       "      <td>0.70</td>\n",
       "      <td>0.70</td>\n",
       "      <td>0.70</td>\n",
       "    </tr>\n",
       "    <tr>\n",
       "      <th>40280</th>\n",
       "      <td>RADL3.SA</td>\n",
       "      <td>meta_7</td>\n",
       "      <td>0.33</td>\n",
       "      <td>0.33</td>\n",
       "      <td>0.33</td>\n",
       "    </tr>\n",
       "    <tr>\n",
       "      <th>40288</th>\n",
       "      <td>RADL3.SA</td>\n",
       "      <td>meta_7</td>\n",
       "      <td>0.50</td>\n",
       "      <td>0.50</td>\n",
       "      <td>0.50</td>\n",
       "    </tr>\n",
       "    <tr>\n",
       "      <th>40312</th>\n",
       "      <td>RADL3.SA</td>\n",
       "      <td>meta_14</td>\n",
       "      <td>0.50</td>\n",
       "      <td>0.50</td>\n",
       "      <td>0.50</td>\n",
       "    </tr>\n",
       "    <tr>\n",
       "      <th>40320</th>\n",
       "      <td>RADL3.SA</td>\n",
       "      <td>meta_14</td>\n",
       "      <td>0.66</td>\n",
       "      <td>0.66</td>\n",
       "      <td>0.66</td>\n",
       "    </tr>\n",
       "    <tr>\n",
       "      <th>40347</th>\n",
       "      <td>RADL3.SA</td>\n",
       "      <td>meta_21</td>\n",
       "      <td>0.52</td>\n",
       "      <td>0.52</td>\n",
       "      <td>0.52</td>\n",
       "    </tr>\n",
       "    <tr>\n",
       "      <th>40356</th>\n",
       "      <td>RADL3.SA</td>\n",
       "      <td>meta_21</td>\n",
       "      <td>0.61</td>\n",
       "      <td>0.61</td>\n",
       "      <td>0.61</td>\n",
       "    </tr>\n",
       "  </tbody>\n",
       "</table>\n",
       "</div>"
      ],
      "text/plain": [
       "          ativo     alvo  precision  recall  f1-score\n",
       "40176  FLRY3.SA   meta_7       0.33    0.33      0.33\n",
       "40184  FLRY3.SA   meta_7       0.51    0.51      0.51\n",
       "40210  FLRY3.SA  meta_14       0.38    0.38      0.38\n",
       "40220  FLRY3.SA  meta_14       0.63    0.63      0.63\n",
       "40247  FLRY3.SA  meta_21       0.48    0.48      0.48\n",
       "40255  FLRY3.SA  meta_21       0.70    0.70      0.70\n",
       "40280  RADL3.SA   meta_7       0.33    0.33      0.33\n",
       "40288  RADL3.SA   meta_7       0.50    0.50      0.50\n",
       "40312  RADL3.SA  meta_14       0.50    0.50      0.50\n",
       "40320  RADL3.SA  meta_14       0.66    0.66      0.66\n",
       "40347  RADL3.SA  meta_21       0.52    0.52      0.52\n",
       "40356  RADL3.SA  meta_21       0.61    0.61      0.61"
      ]
     },
     "metadata": {},
     "output_type": "display_data"
    },
    {
     "name": "stdout",
     "output_type": "stream",
     "text": [
      "Metricas regressao - label diff_close_mean_z_score\n"
     ]
    },
    {
     "data": {
      "text/html": [
       "<div>\n",
       "<style scoped>\n",
       "    .dataframe tbody tr th:only-of-type {\n",
       "        vertical-align: middle;\n",
       "    }\n",
       "\n",
       "    .dataframe tbody tr th {\n",
       "        vertical-align: top;\n",
       "    }\n",
       "\n",
       "    .dataframe thead th {\n",
       "        text-align: right;\n",
       "    }\n",
       "</style>\n",
       "<table border=\"1\" class=\"dataframe\">\n",
       "  <thead>\n",
       "    <tr style=\"text-align: right;\">\n",
       "      <th></th>\n",
       "      <th>Mean Absolute Error (MAE)</th>\n",
       "      <th>Mean Squared Error (MSE)</th>\n",
       "      <th>Root Mean Squared Error (RMSE)</th>\n",
       "      <th>R-squared (R2)</th>\n",
       "      <th>Mean Absolute Percentage Error (MAPE)</th>\n",
       "      <th>ativo</th>\n",
       "      <th>alvo</th>\n",
       "      <th>leak</th>\n",
       "    </tr>\n",
       "  </thead>\n",
       "  <tbody>\n",
       "    <tr>\n",
       "      <th>4680</th>\n",
       "      <td>0.72</td>\n",
       "      <td>0.91</td>\n",
       "      <td>0.95</td>\n",
       "      <td>0.25</td>\n",
       "      <td>2.83</td>\n",
       "      <td>FLRY3.SA</td>\n",
       "      <td>diff_close_mean_z_score_7</td>\n",
       "      <td>True</td>\n",
       "    </tr>\n",
       "    <tr>\n",
       "      <th>4681</th>\n",
       "      <td>0.49</td>\n",
       "      <td>0.62</td>\n",
       "      <td>0.79</td>\n",
       "      <td>0.48</td>\n",
       "      <td>1.94</td>\n",
       "      <td>FLRY3.SA</td>\n",
       "      <td>diff_close_mean_z_score_7</td>\n",
       "      <td>False</td>\n",
       "    </tr>\n",
       "    <tr>\n",
       "      <th>4684</th>\n",
       "      <td>0.58</td>\n",
       "      <td>0.56</td>\n",
       "      <td>0.75</td>\n",
       "      <td>0.61</td>\n",
       "      <td>2.25</td>\n",
       "      <td>FLRY3.SA</td>\n",
       "      <td>diff_close_mean_z_score_14</td>\n",
       "      <td>True</td>\n",
       "    </tr>\n",
       "    <tr>\n",
       "      <th>4685</th>\n",
       "      <td>0.39</td>\n",
       "      <td>0.39</td>\n",
       "      <td>0.62</td>\n",
       "      <td>0.74</td>\n",
       "      <td>1.56</td>\n",
       "      <td>FLRY3.SA</td>\n",
       "      <td>diff_close_mean_z_score_14</td>\n",
       "      <td>False</td>\n",
       "    </tr>\n",
       "    <tr>\n",
       "      <th>4688</th>\n",
       "      <td>0.49</td>\n",
       "      <td>0.42</td>\n",
       "      <td>0.65</td>\n",
       "      <td>0.73</td>\n",
       "      <td>203.79</td>\n",
       "      <td>FLRY3.SA</td>\n",
       "      <td>diff_close_mean_z_score_21</td>\n",
       "      <td>True</td>\n",
       "    </tr>\n",
       "    <tr>\n",
       "      <th>4689</th>\n",
       "      <td>0.34</td>\n",
       "      <td>0.29</td>\n",
       "      <td>0.54</td>\n",
       "      <td>0.81</td>\n",
       "      <td>142.19</td>\n",
       "      <td>FLRY3.SA</td>\n",
       "      <td>diff_close_mean_z_score_21</td>\n",
       "      <td>False</td>\n",
       "    </tr>\n",
       "    <tr>\n",
       "      <th>4692</th>\n",
       "      <td>0.68</td>\n",
       "      <td>0.82</td>\n",
       "      <td>0.91</td>\n",
       "      <td>0.36</td>\n",
       "      <td>2.85</td>\n",
       "      <td>RADL3.SA</td>\n",
       "      <td>diff_close_mean_z_score_7</td>\n",
       "      <td>True</td>\n",
       "    </tr>\n",
       "    <tr>\n",
       "      <th>4693</th>\n",
       "      <td>0.47</td>\n",
       "      <td>0.56</td>\n",
       "      <td>0.75</td>\n",
       "      <td>0.57</td>\n",
       "      <td>1.96</td>\n",
       "      <td>RADL3.SA</td>\n",
       "      <td>diff_close_mean_z_score_7</td>\n",
       "      <td>False</td>\n",
       "    </tr>\n",
       "    <tr>\n",
       "      <th>4696</th>\n",
       "      <td>0.56</td>\n",
       "      <td>0.58</td>\n",
       "      <td>0.76</td>\n",
       "      <td>0.62</td>\n",
       "      <td>3164.58</td>\n",
       "      <td>RADL3.SA</td>\n",
       "      <td>diff_close_mean_z_score_14</td>\n",
       "      <td>True</td>\n",
       "    </tr>\n",
       "    <tr>\n",
       "      <th>4697</th>\n",
       "      <td>0.39</td>\n",
       "      <td>0.40</td>\n",
       "      <td>0.63</td>\n",
       "      <td>0.74</td>\n",
       "      <td>2191.88</td>\n",
       "      <td>RADL3.SA</td>\n",
       "      <td>diff_close_mean_z_score_14</td>\n",
       "      <td>False</td>\n",
       "    </tr>\n",
       "    <tr>\n",
       "      <th>4700</th>\n",
       "      <td>0.48</td>\n",
       "      <td>0.43</td>\n",
       "      <td>0.65</td>\n",
       "      <td>0.74</td>\n",
       "      <td>4.37</td>\n",
       "      <td>RADL3.SA</td>\n",
       "      <td>diff_close_mean_z_score_21</td>\n",
       "      <td>True</td>\n",
       "    </tr>\n",
       "    <tr>\n",
       "      <th>4701</th>\n",
       "      <td>0.33</td>\n",
       "      <td>0.29</td>\n",
       "      <td>0.54</td>\n",
       "      <td>0.82</td>\n",
       "      <td>3.03</td>\n",
       "      <td>RADL3.SA</td>\n",
       "      <td>diff_close_mean_z_score_21</td>\n",
       "      <td>False</td>\n",
       "    </tr>\n",
       "  </tbody>\n",
       "</table>\n",
       "</div>"
      ],
      "text/plain": [
       "      Mean Absolute Error (MAE)  Mean Squared Error (MSE)  \\\n",
       "4680                       0.72                      0.91   \n",
       "4681                       0.49                      0.62   \n",
       "4684                       0.58                      0.56   \n",
       "4685                       0.39                      0.39   \n",
       "4688                       0.49                      0.42   \n",
       "4689                       0.34                      0.29   \n",
       "4692                       0.68                      0.82   \n",
       "4693                       0.47                      0.56   \n",
       "4696                       0.56                      0.58   \n",
       "4697                       0.39                      0.40   \n",
       "4700                       0.48                      0.43   \n",
       "4701                       0.33                      0.29   \n",
       "\n",
       "      Root Mean Squared Error (RMSE)  R-squared (R2)  \\\n",
       "4680                            0.95            0.25   \n",
       "4681                            0.79            0.48   \n",
       "4684                            0.75            0.61   \n",
       "4685                            0.62            0.74   \n",
       "4688                            0.65            0.73   \n",
       "4689                            0.54            0.81   \n",
       "4692                            0.91            0.36   \n",
       "4693                            0.75            0.57   \n",
       "4696                            0.76            0.62   \n",
       "4697                            0.63            0.74   \n",
       "4700                            0.65            0.74   \n",
       "4701                            0.54            0.82   \n",
       "\n",
       "      Mean Absolute Percentage Error (MAPE)     ativo  \\\n",
       "4680                                   2.83  FLRY3.SA   \n",
       "4681                                   1.94  FLRY3.SA   \n",
       "4684                                   2.25  FLRY3.SA   \n",
       "4685                                   1.56  FLRY3.SA   \n",
       "4688                                 203.79  FLRY3.SA   \n",
       "4689                                 142.19  FLRY3.SA   \n",
       "4692                                   2.85  RADL3.SA   \n",
       "4693                                   1.96  RADL3.SA   \n",
       "4696                                3164.58  RADL3.SA   \n",
       "4697                                2191.88  RADL3.SA   \n",
       "4700                                   4.37  RADL3.SA   \n",
       "4701                                   3.03  RADL3.SA   \n",
       "\n",
       "                            alvo   leak  \n",
       "4680   diff_close_mean_z_score_7   True  \n",
       "4681   diff_close_mean_z_score_7  False  \n",
       "4684  diff_close_mean_z_score_14   True  \n",
       "4685  diff_close_mean_z_score_14  False  \n",
       "4688  diff_close_mean_z_score_21   True  \n",
       "4689  diff_close_mean_z_score_21  False  \n",
       "4692   diff_close_mean_z_score_7   True  \n",
       "4693   diff_close_mean_z_score_7  False  \n",
       "4696  diff_close_mean_z_score_14   True  \n",
       "4697  diff_close_mean_z_score_14  False  \n",
       "4700  diff_close_mean_z_score_21   True  \n",
       "4701  diff_close_mean_z_score_21  False  "
      ]
     },
     "metadata": {},
     "output_type": "display_data"
    }
   ],
   "source": [
    "\n",
    "for assets, domain in assets_domain:\n",
    "    print(f'''\n",
    "##############################################\n",
    "# DOMAIN: {domain}\n",
    "# ASSETS: {assets}\n",
    "##############################################\n",
    "          ''')\n",
    "    \n",
    "    \n",
    "    \n",
    "    print('Metricas macro - label meta')\n",
    "    metrics_clf = macro_dummy[macro_dummy.label_col.str.contains('meta') & macro_dummy.asset.isin(assets)].\\\n",
    "    drop(['support', 'scaling_method', 'prediction_type', 'seq_len', 'class', 'model', 'feature_cols'], axis =1 ).\\\n",
    "            rename({'asset': 'ativo', 'label_col': 'alvo'},axis=1)[['ativo','alvo','precision','recall', 'f1-score']]\n",
    "        \n",
    "    display(metrics_clf)\n",
    "    \n",
    "    print('Metricas regressao - label diff_close_mean_z_score')\n",
    "    \n",
    "    metrics_reg = reg_dummy[reg_dummy.label_col.str.contains('diff_close_mean_z_score') & reg_dummy.asset.isin(assets)].\\\n",
    "        drop(['scaling_method', 'prediction_type', 'seq_len', 'model', 'feature_cols'], axis = 1).\\\n",
    "            rename({'asset': 'ativo', 'label_col': 'alvo'},axis=1)\n",
    "    display(metrics_reg)"
   ]
  },
  {
   "cell_type": "markdown",
   "metadata": {},
   "source": [
    "#### NN results"
   ]
  },
  {
   "cell_type": "code",
   "execution_count": 12,
   "metadata": {},
   "outputs": [],
   "source": [
    "# general \n",
    "macro_clf = final_results_clf[(final_results_clf['class'] == 'macro avg')].round(5)\n",
    "reg= final_results_reg.round(5)"
   ]
  },
  {
   "cell_type": "code",
   "execution_count": 13,
   "metadata": {},
   "outputs": [
    {
     "name": "stdout",
     "output_type": "stream",
     "text": [
      "label: diff_close_mean_z_score_7 - leak: False\n"
     ]
    },
    {
     "data": {
      "application/vnd.plotly.v1+json": {
       "config": {
        "plotlyServerURL": "https://plot.ly"
       },
       "data": [
        {
         "alignmentgroup": "True",
         "boxpoints": "all",
         "hovertemplate": "model=%{x}<br>R-squared (R2)=%{y}<extra></extra>",
         "legendgroup": "",
         "marker": {
          "color": "#636efa"
         },
         "name": "",
         "notched": false,
         "offsetgroup": "",
         "orientation": "v",
         "showlegend": false,
         "type": "box",
         "x": [
          "LSTM_with_Attention",
          "MLP",
          "KAN",
          "LSTM_with_Attention",
          "MLP",
          "KAN",
          "LSTM_with_Attention",
          "MLP",
          "KAN",
          "LSTM_with_Attention",
          "MLP",
          "KAN",
          "LSTM_with_Attention",
          "MLP",
          "KAN",
          "LSTM_with_Attention",
          "MLP",
          "KAN",
          "LSTM_with_Attention",
          "MLP",
          "KAN",
          "LSTM_with_Attention",
          "MLP",
          "KAN",
          "LSTM_with_Attention",
          "MLP",
          "KAN",
          "LSTM_with_Attention",
          "MLP",
          "KAN",
          "LSTM_with_Attention",
          "MLP",
          "KAN",
          "LSTM_with_Attention",
          "MLP",
          "KAN",
          "LSTM_with_Attention",
          "MLP",
          "KAN",
          "LSTM_with_Attention",
          "MLP",
          "KAN",
          "LSTM_with_Attention",
          "MLP",
          "KAN",
          "LSTM_with_Attention",
          "MLP",
          "KAN",
          "LSTM_with_Attention",
          "MLP",
          "KAN",
          "LSTM_with_Attention",
          "MLP",
          "KAN",
          "LSTM_with_Attention",
          "MLP",
          "KAN",
          "LSTM_with_Attention",
          "MLP",
          "KAN",
          "LSTM_with_Attention",
          "MLP",
          "KAN",
          "LSTM_with_Attention",
          "MLP",
          "KAN",
          "LSTM_with_Attention",
          "MLP",
          "KAN",
          "LSTM_with_Attention",
          "MLP",
          "KAN",
          "LSTM_with_Attention",
          "MLP",
          "KAN",
          "LSTM_with_Attention",
          "MLP",
          "KAN",
          "LSTM_with_Attention",
          "MLP",
          "KAN",
          "LSTM_with_Attention",
          "MLP",
          "KAN",
          "LSTM_with_Attention",
          "MLP",
          "KAN",
          "LSTM_with_Attention",
          "MLP",
          "KAN",
          "LSTM_with_Attention",
          "MLP",
          "KAN",
          "LSTM_with_Attention",
          "MLP",
          "KAN",
          "LSTM_with_Attention",
          "MLP",
          "KAN",
          "LSTM_with_Attention",
          "MLP",
          "KAN",
          "LSTM_with_Attention",
          "MLP",
          "KAN",
          "LSTM_with_Attention",
          "MLP",
          "KAN",
          "LSTM_with_Attention",
          "MLP",
          "KAN",
          "LSTM_with_Attention",
          "MLP",
          "KAN",
          "LSTM_with_Attention",
          "MLP",
          "KAN",
          "LSTM_with_Attention",
          "MLP",
          "KAN",
          "LSTM_with_Attention",
          "MLP",
          "KAN",
          "LSTM_with_Attention",
          "MLP",
          "KAN",
          "LSTM_with_Attention",
          "MLP",
          "KAN",
          "LSTM_with_Attention",
          "MLP",
          "KAN",
          "LSTM_with_Attention",
          "MLP",
          "KAN",
          "LSTM_with_Attention",
          "MLP",
          "KAN",
          "LSTM_with_Attention",
          "MLP",
          "KAN",
          "LSTM_with_Attention",
          "MLP",
          "KAN",
          "LSTM_with_Attention",
          "MLP",
          "KAN",
          "LSTM_with_Attention",
          "MLP",
          "KAN",
          "LSTM_with_Attention",
          "MLP",
          "KAN",
          "LSTM_with_Attention",
          "MLP",
          "KAN",
          "LSTM_with_Attention",
          "MLP",
          "KAN",
          "LSTM_with_Attention",
          "MLP",
          "KAN",
          "LSTM_with_Attention",
          "MLP",
          "KAN",
          "LSTM_with_Attention",
          "MLP",
          "KAN",
          "LSTM_with_Attention",
          "MLP",
          "KAN",
          "LSTM_with_Attention",
          "MLP",
          "KAN",
          "LSTM_with_Attention",
          "MLP",
          "KAN",
          "LSTM_with_Attention",
          "MLP",
          "KAN",
          "LSTM_with_Attention",
          "MLP",
          "KAN",
          "LSTM_with_Attention",
          "MLP",
          "KAN",
          "LSTM_with_Attention",
          "MLP",
          "KAN",
          "LSTM_with_Attention",
          "MLP",
          "KAN",
          "LSTM_with_Attention",
          "MLP",
          "KAN",
          "LSTM_with_Attention",
          "MLP",
          "KAN",
          "LSTM_with_Attention",
          "MLP",
          "KAN",
          "LSTM_with_Attention",
          "MLP",
          "KAN",
          "LSTM_with_Attention",
          "MLP",
          "KAN",
          "LSTM_with_Attention",
          "MLP",
          "KAN",
          "LSTM_with_Attention",
          "MLP",
          "KAN",
          "LSTM_with_Attention",
          "MLP",
          "KAN",
          "LSTM_with_Attention",
          "MLP",
          "KAN",
          "LSTM_with_Attention",
          "MLP",
          "KAN",
          "LSTM_with_Attention",
          "MLP",
          "KAN",
          "LSTM_with_Attention",
          "MLP",
          "KAN",
          "LSTM_with_Attention",
          "MLP",
          "KAN",
          "LSTM_with_Attention",
          "MLP",
          "KAN",
          "LSTM_with_Attention",
          "MLP",
          "KAN",
          "LSTM_with_Attention",
          "MLP",
          "KAN",
          "LSTM_with_Attention",
          "MLP",
          "KAN",
          "LSTM_with_Attention",
          "MLP",
          "KAN",
          "LSTM_with_Attention",
          "MLP",
          "KAN",
          "LSTM_with_Attention",
          "MLP",
          "KAN",
          "LSTM_with_Attention",
          "MLP",
          "KAN",
          "LSTM_with_Attention",
          "MLP",
          "KAN",
          "LSTM_with_Attention",
          "MLP",
          "KAN",
          "LSTM_with_Attention",
          "MLP",
          "KAN",
          "LSTM_with_Attention",
          "MLP",
          "KAN",
          "LSTM_with_Attention",
          "MLP",
          "KAN",
          "LSTM_with_Attention",
          "MLP",
          "KAN",
          "LSTM_with_Attention",
          "MLP",
          "KAN",
          "LSTM_with_Attention",
          "MLP",
          "KAN",
          "LSTM_with_Attention",
          "MLP",
          "KAN",
          "LSTM_with_Attention",
          "MLP",
          "KAN",
          "LSTM_with_Attention",
          "MLP",
          "KAN",
          "LSTM_with_Attention",
          "MLP",
          "KAN",
          "LSTM_with_Attention",
          "MLP",
          "KAN",
          "LSTM_with_Attention",
          "MLP",
          "KAN",
          "LSTM_with_Attention",
          "MLP",
          "KAN",
          "LSTM_with_Attention",
          "MLP",
          "KAN",
          "LSTM_with_Attention",
          "MLP",
          "KAN",
          "LSTM_with_Attention",
          "MLP",
          "KAN",
          "LSTM_with_Attention",
          "MLP",
          "KAN",
          "LSTM_with_Attention",
          "MLP",
          "KAN",
          "LSTM_with_Attention",
          "MLP",
          "KAN",
          "LSTM_with_Attention",
          "MLP",
          "KAN",
          "LSTM_with_Attention",
          "MLP",
          "KAN",
          "LSTM_with_Attention",
          "MLP",
          "KAN",
          "LSTM_with_Attention",
          "MLP",
          "KAN",
          "LSTM_with_Attention",
          "MLP",
          "KAN",
          "LSTM_with_Attention",
          "MLP",
          "KAN",
          "LSTM_with_Attention",
          "MLP",
          "KAN",
          "LSTM_with_Attention",
          "MLP",
          "KAN",
          "LSTM_with_Attention",
          "MLP",
          "KAN",
          "LSTM_with_Attention",
          "MLP",
          "KAN",
          "LSTM_with_Attention",
          "MLP",
          "KAN",
          "LSTM_with_Attention",
          "MLP",
          "KAN",
          "LSTM_with_Attention",
          "MLP",
          "KAN",
          "LSTM_with_Attention",
          "MLP",
          "KAN",
          "LSTM_with_Attention",
          "MLP",
          "KAN",
          "LSTM_with_Attention",
          "MLP",
          "KAN",
          "LSTM_with_Attention",
          "MLP",
          "KAN",
          "LSTM_with_Attention",
          "MLP",
          "KAN",
          "LSTM_with_Attention",
          "MLP",
          "KAN",
          "LSTM_with_Attention",
          "MLP",
          "KAN",
          "LSTM_with_Attention",
          "MLP",
          "KAN",
          "LSTM_with_Attention",
          "MLP",
          "KAN",
          "Dummy_model",
          "Dummy_model",
          "Dummy_model",
          "Dummy_model",
          "Dummy_model",
          "Dummy_model",
          "Dummy_model",
          "Dummy_model"
         ],
         "x0": " ",
         "xaxis": "x",
         "y": [
          0.53219,
          0.5458,
          -0.00801,
          0.56181,
          0.58224,
          -0.01078,
          0.61348,
          0.63982,
          -0.00441,
          0.53622,
          0.55497,
          -0.00017,
          0.50417,
          0.51468,
          -0.0052,
          0.55999,
          0.58601,
          -0.00004,
          0.53154,
          0.54775,
          -0.00787,
          0.58376,
          0.60933,
          -0.00001,
          0.53183,
          0.5468,
          -0.00847,
          0.5638,
          0.58548,
          -0.00954,
          0.6133,
          0.63666,
          -0.00471,
          0.53575,
          0.55764,
          -0.00004,
          0.5028,
          0.51204,
          -0.00598,
          0.56068,
          0.58734,
          -0.0001,
          0.53043,
          0.54997,
          -0.00812,
          0.57936,
          0.6093,
          -0.00012,
          0.53125,
          0.54907,
          -0.00744,
          0.55476,
          0.582,
          -0.00704,
          0.60508,
          0.6421,
          -0.00638,
          0.53316,
          0.55768,
          -0.00021,
          0.50111,
          0.51416,
          -0.0052,
          0.55595,
          0.58647,
          -0.00001,
          0.5258,
          0.54533,
          -0.00807,
          0.58416,
          0.60851,
          -0.00014,
          0.53021,
          0.54525,
          -0.00635,
          0.56428,
          0.58029,
          -0.00672,
          0.60671,
          0.63927,
          -0.0052,
          0.53047,
          0.55739,
          -0.00066,
          0.50345,
          0.51634,
          -0.00522,
          0.5551,
          0.58479,
          -0.00025,
          0.52162,
          0.54613,
          -0.00793,
          0.58584,
          0.61026,
          -0.00047,
          0.52492,
          0.54745,
          -0.00785,
          0.5593,
          0.58234,
          -0.00841,
          0.59818,
          0.62693,
          -0.00629,
          0.52498,
          0.553,
          -0.00026,
          0.50172,
          0.51454,
          -0.00509,
          0.55299,
          0.5809,
          -0.00021,
          0.52246,
          0.54829,
          -0.00859,
          0.58649,
          0.61158,
          -0.00015,
          0.52683,
          0.54573,
          -0.00565,
          0.55561,
          0.58106,
          -0.00747,
          0.59916,
          0.64005,
          -0.00708,
          0.5273,
          0.55337,
          -0.00012,
          0.50456,
          0.52193,
          -0.00579,
          0.54737,
          0.5766,
          -0.00021,
          0.51558,
          0.53781,
          -0.00684,
          0.58389,
          0.61208,
          -0.00022,
          0.52897,
          0.54234,
          -0.00862,
          0.56027,
          0.58156,
          -0.01042,
          0.60466,
          0.63877,
          -0.00379,
          0.52395,
          0.54794,
          -0.0002,
          0.50333,
          0.51737,
          -0.00673,
          0.55326,
          0.57756,
          -0.00015,
          0.51774,
          0.54761,
          -0.0087,
          0.58514,
          0.6075,
          -0.0002,
          0.52287,
          0.54276,
          -0.00991,
          0.55545,
          0.57304,
          -0.01067,
          0.59423,
          0.62573,
          -0.00413,
          0.51887,
          0.54421,
          -0.00001,
          0.49528,
          0.50503,
          -0.00822,
          0.53648,
          0.56655,
          0.00022,
          0.51493,
          0.54636,
          -0.00567,
          0.57974,
          0.59778,
          -0.00054,
          0.52599,
          0.53708,
          -0.00991,
          0.55565,
          0.56475,
          -0.01571,
          0.60116,
          0.63092,
          -0.00414,
          0.52388,
          0.53676,
          -0.00011,
          0.49175,
          0.50191,
          -0.0056,
          0.53525,
          0.55861,
          -0.00008,
          0.51088,
          0.53889,
          -0.00571,
          0.57512,
          0.59768,
          0.00009,
          0.52365,
          0.53621,
          -0.01,
          0.54875,
          0.56497,
          -0.01351,
          0.594,
          0.62011,
          -0.00315,
          0.52063,
          0.53368,
          -0.00009,
          0.49372,
          0.50928,
          -0.00808,
          0.53811,
          0.55387,
          -0.00007,
          0.51384,
          0.51815,
          -0.00568,
          0.57383,
          0.58398,
          0.00012,
          0.51986,
          0.51716,
          -0.00443,
          0.55493,
          0.54989,
          -0.01254,
          0.59412,
          0.61143,
          -0.00414,
          0.52351,
          0.53318,
          -0.00031,
          0.49176,
          0.49269,
          -0.00475,
          0.53505,
          0.5498,
          -0.0005,
          0.51447,
          0.51449,
          -0.00372,
          0.57157,
          0.58384,
          0.00004,
          0.52203,
          0.52107,
          -0.01037,
          0.55249,
          0.5588,
          -0.01349,
          0.58925,
          0.60807,
          -0.0023,
          0.51614,
          0.5223,
          -0.00025,
          0.49076,
          0.49665,
          -0.00722,
          0.53761,
          0.5418,
          -0.00011,
          0.5136,
          0.52344,
          -0.00505,
          0.57551,
          0.57902,
          -0.00003,
          0.52076,
          0.51081,
          -0.0074,
          0.55589,
          0.54236,
          -0.01287,
          0.58113,
          0.60265,
          -0.00299,
          0.51273,
          0.51404,
          -0.0003,
          0.48683,
          0.48681,
          -0.00495,
          0.53053,
          0.52032,
          -0.00054,
          0.5035,
          0.50509,
          -0.00773,
          0.56898,
          0.57059,
          -0.0004,
          0.51418,
          0.50769,
          -0.00852,
          0.55549,
          0.5419,
          -0.01063,
          0.59149,
          0.60512,
          -0.00299,
          0.51172,
          0.51953,
          -0.00025,
          0.48431,
          0.47006,
          -0.00424,
          0.52947,
          0.51572,
          -0.00046,
          0.50406,
          0.50361,
          -0.0052,
          0.57438,
          0.5601,
          -0.00003,
          0.51537,
          0.48751,
          -0.01374,
          0.5536,
          0.53296,
          -0.01263,
          0.58119,
          0.56793,
          -0.00172,
          0.51062,
          0.51356,
          -0.00039,
          0.48076,
          0.46973,
          -0.00564,
          0.52115,
          0.52614,
          -0.00009,
          0.50116,
          0.48698,
          -0.00605,
          0.58197,
          0.57861,
          0.00003,
          0.50946,
          0.47455,
          -0.01443,
          0.55022,
          0.52545,
          -0.00902,
          0.58563,
          0.568,
          -0.00081,
          0.51214,
          0.47277,
          -0.00042,
          0.47766,
          0.47246,
          -0.00741,
          0.52746,
          0.50122,
          0.0001,
          0.50479,
          0.4812,
          -0.00665,
          0.58382,
          0.56445,
          -0.00009,
          0.48052,
          0.53289,
          0.60929,
          0.49371,
          0.43751,
          0.53766,
          0.48407,
          0.5671
         ],
         "y0": " ",
         "yaxis": "y"
        }
       ],
       "layout": {
        "boxmode": "group",
        "legend": {
         "tracegroupgap": 0
        },
        "template": {
         "data": {
          "bar": [
           {
            "error_x": {
             "color": "#2a3f5f"
            },
            "error_y": {
             "color": "#2a3f5f"
            },
            "marker": {
             "line": {
              "color": "#E5ECF6",
              "width": 0.5
             },
             "pattern": {
              "fillmode": "overlay",
              "size": 10,
              "solidity": 0.2
             }
            },
            "type": "bar"
           }
          ],
          "barpolar": [
           {
            "marker": {
             "line": {
              "color": "#E5ECF6",
              "width": 0.5
             },
             "pattern": {
              "fillmode": "overlay",
              "size": 10,
              "solidity": 0.2
             }
            },
            "type": "barpolar"
           }
          ],
          "carpet": [
           {
            "aaxis": {
             "endlinecolor": "#2a3f5f",
             "gridcolor": "white",
             "linecolor": "white",
             "minorgridcolor": "white",
             "startlinecolor": "#2a3f5f"
            },
            "baxis": {
             "endlinecolor": "#2a3f5f",
             "gridcolor": "white",
             "linecolor": "white",
             "minorgridcolor": "white",
             "startlinecolor": "#2a3f5f"
            },
            "type": "carpet"
           }
          ],
          "choropleth": [
           {
            "colorbar": {
             "outlinewidth": 0,
             "ticks": ""
            },
            "type": "choropleth"
           }
          ],
          "contour": [
           {
            "colorbar": {
             "outlinewidth": 0,
             "ticks": ""
            },
            "colorscale": [
             [
              0,
              "#0d0887"
             ],
             [
              0.1111111111111111,
              "#46039f"
             ],
             [
              0.2222222222222222,
              "#7201a8"
             ],
             [
              0.3333333333333333,
              "#9c179e"
             ],
             [
              0.4444444444444444,
              "#bd3786"
             ],
             [
              0.5555555555555556,
              "#d8576b"
             ],
             [
              0.6666666666666666,
              "#ed7953"
             ],
             [
              0.7777777777777778,
              "#fb9f3a"
             ],
             [
              0.8888888888888888,
              "#fdca26"
             ],
             [
              1,
              "#f0f921"
             ]
            ],
            "type": "contour"
           }
          ],
          "contourcarpet": [
           {
            "colorbar": {
             "outlinewidth": 0,
             "ticks": ""
            },
            "type": "contourcarpet"
           }
          ],
          "heatmap": [
           {
            "colorbar": {
             "outlinewidth": 0,
             "ticks": ""
            },
            "colorscale": [
             [
              0,
              "#0d0887"
             ],
             [
              0.1111111111111111,
              "#46039f"
             ],
             [
              0.2222222222222222,
              "#7201a8"
             ],
             [
              0.3333333333333333,
              "#9c179e"
             ],
             [
              0.4444444444444444,
              "#bd3786"
             ],
             [
              0.5555555555555556,
              "#d8576b"
             ],
             [
              0.6666666666666666,
              "#ed7953"
             ],
             [
              0.7777777777777778,
              "#fb9f3a"
             ],
             [
              0.8888888888888888,
              "#fdca26"
             ],
             [
              1,
              "#f0f921"
             ]
            ],
            "type": "heatmap"
           }
          ],
          "heatmapgl": [
           {
            "colorbar": {
             "outlinewidth": 0,
             "ticks": ""
            },
            "colorscale": [
             [
              0,
              "#0d0887"
             ],
             [
              0.1111111111111111,
              "#46039f"
             ],
             [
              0.2222222222222222,
              "#7201a8"
             ],
             [
              0.3333333333333333,
              "#9c179e"
             ],
             [
              0.4444444444444444,
              "#bd3786"
             ],
             [
              0.5555555555555556,
              "#d8576b"
             ],
             [
              0.6666666666666666,
              "#ed7953"
             ],
             [
              0.7777777777777778,
              "#fb9f3a"
             ],
             [
              0.8888888888888888,
              "#fdca26"
             ],
             [
              1,
              "#f0f921"
             ]
            ],
            "type": "heatmapgl"
           }
          ],
          "histogram": [
           {
            "marker": {
             "pattern": {
              "fillmode": "overlay",
              "size": 10,
              "solidity": 0.2
             }
            },
            "type": "histogram"
           }
          ],
          "histogram2d": [
           {
            "colorbar": {
             "outlinewidth": 0,
             "ticks": ""
            },
            "colorscale": [
             [
              0,
              "#0d0887"
             ],
             [
              0.1111111111111111,
              "#46039f"
             ],
             [
              0.2222222222222222,
              "#7201a8"
             ],
             [
              0.3333333333333333,
              "#9c179e"
             ],
             [
              0.4444444444444444,
              "#bd3786"
             ],
             [
              0.5555555555555556,
              "#d8576b"
             ],
             [
              0.6666666666666666,
              "#ed7953"
             ],
             [
              0.7777777777777778,
              "#fb9f3a"
             ],
             [
              0.8888888888888888,
              "#fdca26"
             ],
             [
              1,
              "#f0f921"
             ]
            ],
            "type": "histogram2d"
           }
          ],
          "histogram2dcontour": [
           {
            "colorbar": {
             "outlinewidth": 0,
             "ticks": ""
            },
            "colorscale": [
             [
              0,
              "#0d0887"
             ],
             [
              0.1111111111111111,
              "#46039f"
             ],
             [
              0.2222222222222222,
              "#7201a8"
             ],
             [
              0.3333333333333333,
              "#9c179e"
             ],
             [
              0.4444444444444444,
              "#bd3786"
             ],
             [
              0.5555555555555556,
              "#d8576b"
             ],
             [
              0.6666666666666666,
              "#ed7953"
             ],
             [
              0.7777777777777778,
              "#fb9f3a"
             ],
             [
              0.8888888888888888,
              "#fdca26"
             ],
             [
              1,
              "#f0f921"
             ]
            ],
            "type": "histogram2dcontour"
           }
          ],
          "mesh3d": [
           {
            "colorbar": {
             "outlinewidth": 0,
             "ticks": ""
            },
            "type": "mesh3d"
           }
          ],
          "parcoords": [
           {
            "line": {
             "colorbar": {
              "outlinewidth": 0,
              "ticks": ""
             }
            },
            "type": "parcoords"
           }
          ],
          "pie": [
           {
            "automargin": true,
            "type": "pie"
           }
          ],
          "scatter": [
           {
            "fillpattern": {
             "fillmode": "overlay",
             "size": 10,
             "solidity": 0.2
            },
            "type": "scatter"
           }
          ],
          "scatter3d": [
           {
            "line": {
             "colorbar": {
              "outlinewidth": 0,
              "ticks": ""
             }
            },
            "marker": {
             "colorbar": {
              "outlinewidth": 0,
              "ticks": ""
             }
            },
            "type": "scatter3d"
           }
          ],
          "scattercarpet": [
           {
            "marker": {
             "colorbar": {
              "outlinewidth": 0,
              "ticks": ""
             }
            },
            "type": "scattercarpet"
           }
          ],
          "scattergeo": [
           {
            "marker": {
             "colorbar": {
              "outlinewidth": 0,
              "ticks": ""
             }
            },
            "type": "scattergeo"
           }
          ],
          "scattergl": [
           {
            "marker": {
             "colorbar": {
              "outlinewidth": 0,
              "ticks": ""
             }
            },
            "type": "scattergl"
           }
          ],
          "scattermapbox": [
           {
            "marker": {
             "colorbar": {
              "outlinewidth": 0,
              "ticks": ""
             }
            },
            "type": "scattermapbox"
           }
          ],
          "scatterpolar": [
           {
            "marker": {
             "colorbar": {
              "outlinewidth": 0,
              "ticks": ""
             }
            },
            "type": "scatterpolar"
           }
          ],
          "scatterpolargl": [
           {
            "marker": {
             "colorbar": {
              "outlinewidth": 0,
              "ticks": ""
             }
            },
            "type": "scatterpolargl"
           }
          ],
          "scatterternary": [
           {
            "marker": {
             "colorbar": {
              "outlinewidth": 0,
              "ticks": ""
             }
            },
            "type": "scatterternary"
           }
          ],
          "surface": [
           {
            "colorbar": {
             "outlinewidth": 0,
             "ticks": ""
            },
            "colorscale": [
             [
              0,
              "#0d0887"
             ],
             [
              0.1111111111111111,
              "#46039f"
             ],
             [
              0.2222222222222222,
              "#7201a8"
             ],
             [
              0.3333333333333333,
              "#9c179e"
             ],
             [
              0.4444444444444444,
              "#bd3786"
             ],
             [
              0.5555555555555556,
              "#d8576b"
             ],
             [
              0.6666666666666666,
              "#ed7953"
             ],
             [
              0.7777777777777778,
              "#fb9f3a"
             ],
             [
              0.8888888888888888,
              "#fdca26"
             ],
             [
              1,
              "#f0f921"
             ]
            ],
            "type": "surface"
           }
          ],
          "table": [
           {
            "cells": {
             "fill": {
              "color": "#EBF0F8"
             },
             "line": {
              "color": "white"
             }
            },
            "header": {
             "fill": {
              "color": "#C8D4E3"
             },
             "line": {
              "color": "white"
             }
            },
            "type": "table"
           }
          ]
         },
         "layout": {
          "annotationdefaults": {
           "arrowcolor": "#2a3f5f",
           "arrowhead": 0,
           "arrowwidth": 1
          },
          "autotypenumbers": "strict",
          "coloraxis": {
           "colorbar": {
            "outlinewidth": 0,
            "ticks": ""
           }
          },
          "colorscale": {
           "diverging": [
            [
             0,
             "#8e0152"
            ],
            [
             0.1,
             "#c51b7d"
            ],
            [
             0.2,
             "#de77ae"
            ],
            [
             0.3,
             "#f1b6da"
            ],
            [
             0.4,
             "#fde0ef"
            ],
            [
             0.5,
             "#f7f7f7"
            ],
            [
             0.6,
             "#e6f5d0"
            ],
            [
             0.7,
             "#b8e186"
            ],
            [
             0.8,
             "#7fbc41"
            ],
            [
             0.9,
             "#4d9221"
            ],
            [
             1,
             "#276419"
            ]
           ],
           "sequential": [
            [
             0,
             "#0d0887"
            ],
            [
             0.1111111111111111,
             "#46039f"
            ],
            [
             0.2222222222222222,
             "#7201a8"
            ],
            [
             0.3333333333333333,
             "#9c179e"
            ],
            [
             0.4444444444444444,
             "#bd3786"
            ],
            [
             0.5555555555555556,
             "#d8576b"
            ],
            [
             0.6666666666666666,
             "#ed7953"
            ],
            [
             0.7777777777777778,
             "#fb9f3a"
            ],
            [
             0.8888888888888888,
             "#fdca26"
            ],
            [
             1,
             "#f0f921"
            ]
           ],
           "sequentialminus": [
            [
             0,
             "#0d0887"
            ],
            [
             0.1111111111111111,
             "#46039f"
            ],
            [
             0.2222222222222222,
             "#7201a8"
            ],
            [
             0.3333333333333333,
             "#9c179e"
            ],
            [
             0.4444444444444444,
             "#bd3786"
            ],
            [
             0.5555555555555556,
             "#d8576b"
            ],
            [
             0.6666666666666666,
             "#ed7953"
            ],
            [
             0.7777777777777778,
             "#fb9f3a"
            ],
            [
             0.8888888888888888,
             "#fdca26"
            ],
            [
             1,
             "#f0f921"
            ]
           ]
          },
          "colorway": [
           "#636efa",
           "#EF553B",
           "#00cc96",
           "#ab63fa",
           "#FFA15A",
           "#19d3f3",
           "#FF6692",
           "#B6E880",
           "#FF97FF",
           "#FECB52"
          ],
          "font": {
           "color": "#2a3f5f"
          },
          "geo": {
           "bgcolor": "white",
           "lakecolor": "white",
           "landcolor": "#E5ECF6",
           "showlakes": true,
           "showland": true,
           "subunitcolor": "white"
          },
          "hoverlabel": {
           "align": "left"
          },
          "hovermode": "closest",
          "mapbox": {
           "style": "light"
          },
          "paper_bgcolor": "white",
          "plot_bgcolor": "#E5ECF6",
          "polar": {
           "angularaxis": {
            "gridcolor": "white",
            "linecolor": "white",
            "ticks": ""
           },
           "bgcolor": "#E5ECF6",
           "radialaxis": {
            "gridcolor": "white",
            "linecolor": "white",
            "ticks": ""
           }
          },
          "scene": {
           "xaxis": {
            "backgroundcolor": "#E5ECF6",
            "gridcolor": "white",
            "gridwidth": 2,
            "linecolor": "white",
            "showbackground": true,
            "ticks": "",
            "zerolinecolor": "white"
           },
           "yaxis": {
            "backgroundcolor": "#E5ECF6",
            "gridcolor": "white",
            "gridwidth": 2,
            "linecolor": "white",
            "showbackground": true,
            "ticks": "",
            "zerolinecolor": "white"
           },
           "zaxis": {
            "backgroundcolor": "#E5ECF6",
            "gridcolor": "white",
            "gridwidth": 2,
            "linecolor": "white",
            "showbackground": true,
            "ticks": "",
            "zerolinecolor": "white"
           }
          },
          "shapedefaults": {
           "line": {
            "color": "#2a3f5f"
           }
          },
          "ternary": {
           "aaxis": {
            "gridcolor": "white",
            "linecolor": "white",
            "ticks": ""
           },
           "baxis": {
            "gridcolor": "white",
            "linecolor": "white",
            "ticks": ""
           },
           "bgcolor": "#E5ECF6",
           "caxis": {
            "gridcolor": "white",
            "linecolor": "white",
            "ticks": ""
           }
          },
          "title": {
           "x": 0.05
          },
          "xaxis": {
           "automargin": true,
           "gridcolor": "white",
           "linecolor": "white",
           "ticks": "",
           "title": {
            "standoff": 15
           },
           "zerolinecolor": "white",
           "zerolinewidth": 2
          },
          "yaxis": {
           "automargin": true,
           "gridcolor": "white",
           "linecolor": "white",
           "ticks": "",
           "title": {
            "standoff": 15
           },
           "zerolinecolor": "white",
           "zerolinewidth": 2
          }
         }
        },
        "title": {
         "text": "Distribuição de f1 para os experimentos \n label:z_7|leak=False"
        },
        "xaxis": {
         "anchor": "y",
         "domain": [
          0,
          1
         ],
         "title": {
          "text": "model"
         }
        },
        "yaxis": {
         "anchor": "x",
         "domain": [
          0,
          1
         ],
         "title": {
          "text": "R-squared (R2)"
         }
        }
       }
      }
     },
     "metadata": {},
     "output_type": "display_data"
    },
    {
     "name": "stdout",
     "output_type": "stream",
     "text": [
      "label: diff_close_mean_z_score_14 - leak: False\n"
     ]
    },
    {
     "data": {
      "application/vnd.plotly.v1+json": {
       "config": {
        "plotlyServerURL": "https://plot.ly"
       },
       "data": [
        {
         "alignmentgroup": "True",
         "boxpoints": "all",
         "hovertemplate": "model=%{x}<br>R-squared (R2)=%{y}<extra></extra>",
         "legendgroup": "",
         "marker": {
          "color": "#636efa"
         },
         "name": "",
         "notched": false,
         "offsetgroup": "",
         "orientation": "v",
         "showlegend": false,
         "type": "box",
         "x": [
          "LSTM_with_Attention",
          "MLP",
          "KAN",
          "LSTM_with_Attention",
          "MLP",
          "KAN",
          "LSTM_with_Attention",
          "MLP",
          "KAN",
          "LSTM_with_Attention",
          "MLP",
          "KAN",
          "LSTM_with_Attention",
          "MLP",
          "KAN",
          "LSTM_with_Attention",
          "MLP",
          "KAN",
          "LSTM_with_Attention",
          "MLP",
          "KAN",
          "LSTM_with_Attention",
          "MLP",
          "KAN",
          "LSTM_with_Attention",
          "MLP",
          "KAN",
          "LSTM_with_Attention",
          "MLP",
          "KAN",
          "LSTM_with_Attention",
          "MLP",
          "KAN",
          "LSTM_with_Attention",
          "MLP",
          "KAN",
          "LSTM_with_Attention",
          "MLP",
          "KAN",
          "LSTM_with_Attention",
          "MLP",
          "KAN",
          "LSTM_with_Attention",
          "MLP",
          "KAN",
          "LSTM_with_Attention",
          "MLP",
          "KAN",
          "LSTM_with_Attention",
          "MLP",
          "KAN",
          "LSTM_with_Attention",
          "MLP",
          "KAN",
          "LSTM_with_Attention",
          "MLP",
          "KAN",
          "LSTM_with_Attention",
          "MLP",
          "KAN",
          "LSTM_with_Attention",
          "MLP",
          "KAN",
          "LSTM_with_Attention",
          "MLP",
          "KAN",
          "LSTM_with_Attention",
          "MLP",
          "KAN",
          "LSTM_with_Attention",
          "MLP",
          "KAN",
          "LSTM_with_Attention",
          "MLP",
          "KAN",
          "LSTM_with_Attention",
          "MLP",
          "KAN",
          "LSTM_with_Attention",
          "MLP",
          "KAN",
          "LSTM_with_Attention",
          "MLP",
          "KAN",
          "LSTM_with_Attention",
          "MLP",
          "KAN",
          "LSTM_with_Attention",
          "MLP",
          "KAN",
          "LSTM_with_Attention",
          "MLP",
          "KAN",
          "LSTM_with_Attention",
          "MLP",
          "KAN",
          "LSTM_with_Attention",
          "MLP",
          "KAN",
          "LSTM_with_Attention",
          "MLP",
          "KAN",
          "LSTM_with_Attention",
          "MLP",
          "KAN",
          "LSTM_with_Attention",
          "MLP",
          "KAN",
          "LSTM_with_Attention",
          "MLP",
          "KAN",
          "LSTM_with_Attention",
          "MLP",
          "KAN",
          "LSTM_with_Attention",
          "MLP",
          "KAN",
          "LSTM_with_Attention",
          "MLP",
          "KAN",
          "LSTM_with_Attention",
          "MLP",
          "KAN",
          "LSTM_with_Attention",
          "MLP",
          "KAN",
          "LSTM_with_Attention",
          "MLP",
          "KAN",
          "LSTM_with_Attention",
          "MLP",
          "KAN",
          "LSTM_with_Attention",
          "MLP",
          "KAN",
          "LSTM_with_Attention",
          "MLP",
          "KAN",
          "LSTM_with_Attention",
          "MLP",
          "KAN",
          "LSTM_with_Attention",
          "MLP",
          "KAN",
          "LSTM_with_Attention",
          "MLP",
          "KAN",
          "LSTM_with_Attention",
          "MLP",
          "KAN",
          "LSTM_with_Attention",
          "MLP",
          "KAN",
          "LSTM_with_Attention",
          "MLP",
          "KAN",
          "LSTM_with_Attention",
          "MLP",
          "KAN",
          "LSTM_with_Attention",
          "MLP",
          "KAN",
          "LSTM_with_Attention",
          "MLP",
          "KAN",
          "LSTM_with_Attention",
          "MLP",
          "KAN",
          "LSTM_with_Attention",
          "MLP",
          "KAN",
          "LSTM_with_Attention",
          "MLP",
          "KAN",
          "LSTM_with_Attention",
          "MLP",
          "KAN",
          "LSTM_with_Attention",
          "MLP",
          "KAN",
          "LSTM_with_Attention",
          "MLP",
          "KAN",
          "LSTM_with_Attention",
          "MLP",
          "KAN",
          "LSTM_with_Attention",
          "MLP",
          "KAN",
          "LSTM_with_Attention",
          "MLP",
          "KAN",
          "LSTM_with_Attention",
          "MLP",
          "KAN",
          "LSTM_with_Attention",
          "MLP",
          "KAN",
          "LSTM_with_Attention",
          "MLP",
          "KAN",
          "LSTM_with_Attention",
          "MLP",
          "KAN",
          "LSTM_with_Attention",
          "MLP",
          "KAN",
          "LSTM_with_Attention",
          "MLP",
          "KAN",
          "LSTM_with_Attention",
          "MLP",
          "KAN",
          "LSTM_with_Attention",
          "MLP",
          "KAN",
          "LSTM_with_Attention",
          "MLP",
          "KAN",
          "LSTM_with_Attention",
          "MLP",
          "KAN",
          "LSTM_with_Attention",
          "MLP",
          "KAN",
          "LSTM_with_Attention",
          "MLP",
          "KAN",
          "LSTM_with_Attention",
          "MLP",
          "KAN",
          "LSTM_with_Attention",
          "MLP",
          "KAN",
          "LSTM_with_Attention",
          "MLP",
          "KAN",
          "LSTM_with_Attention",
          "MLP",
          "KAN",
          "LSTM_with_Attention",
          "MLP",
          "KAN",
          "LSTM_with_Attention",
          "MLP",
          "KAN",
          "LSTM_with_Attention",
          "MLP",
          "KAN",
          "LSTM_with_Attention",
          "MLP",
          "KAN",
          "LSTM_with_Attention",
          "MLP",
          "KAN",
          "LSTM_with_Attention",
          "MLP",
          "KAN",
          "LSTM_with_Attention",
          "MLP",
          "KAN",
          "LSTM_with_Attention",
          "MLP",
          "KAN",
          "LSTM_with_Attention",
          "MLP",
          "KAN",
          "LSTM_with_Attention",
          "MLP",
          "KAN",
          "LSTM_with_Attention",
          "MLP",
          "KAN",
          "LSTM_with_Attention",
          "MLP",
          "KAN",
          "LSTM_with_Attention",
          "MLP",
          "KAN",
          "LSTM_with_Attention",
          "MLP",
          "KAN",
          "LSTM_with_Attention",
          "MLP",
          "KAN",
          "LSTM_with_Attention",
          "MLP",
          "KAN",
          "LSTM_with_Attention",
          "MLP",
          "KAN",
          "LSTM_with_Attention",
          "MLP",
          "KAN",
          "LSTM_with_Attention",
          "MLP",
          "KAN",
          "LSTM_with_Attention",
          "MLP",
          "KAN",
          "LSTM_with_Attention",
          "MLP",
          "KAN",
          "LSTM_with_Attention",
          "MLP",
          "KAN",
          "LSTM_with_Attention",
          "MLP",
          "KAN",
          "LSTM_with_Attention",
          "MLP",
          "KAN",
          "LSTM_with_Attention",
          "MLP",
          "KAN",
          "LSTM_with_Attention",
          "MLP",
          "KAN",
          "LSTM_with_Attention",
          "MLP",
          "KAN",
          "LSTM_with_Attention",
          "MLP",
          "KAN",
          "LSTM_with_Attention",
          "MLP",
          "KAN",
          "LSTM_with_Attention",
          "MLP",
          "KAN",
          "LSTM_with_Attention",
          "MLP",
          "KAN",
          "LSTM_with_Attention",
          "MLP",
          "KAN",
          "LSTM_with_Attention",
          "MLP",
          "KAN",
          "LSTM_with_Attention",
          "MLP",
          "KAN",
          "LSTM_with_Attention",
          "MLP",
          "KAN",
          "LSTM_with_Attention",
          "MLP",
          "KAN",
          "LSTM_with_Attention",
          "MLP",
          "KAN",
          "LSTM_with_Attention",
          "MLP",
          "KAN",
          "LSTM_with_Attention",
          "MLP",
          "KAN",
          "LSTM_with_Attention",
          "MLP",
          "KAN",
          "LSTM_with_Attention",
          "MLP",
          "KAN",
          "LSTM_with_Attention",
          "MLP",
          "KAN",
          "LSTM_with_Attention",
          "MLP",
          "KAN",
          "LSTM_with_Attention",
          "MLP",
          "KAN",
          "LSTM_with_Attention",
          "MLP",
          "KAN",
          "LSTM_with_Attention",
          "MLP",
          "KAN",
          "LSTM_with_Attention",
          "MLP",
          "KAN",
          "LSTM_with_Attention",
          "MLP",
          "KAN",
          "Dummy_model",
          "Dummy_model",
          "Dummy_model",
          "Dummy_model",
          "Dummy_model",
          "Dummy_model",
          "Dummy_model",
          "Dummy_model"
         ],
         "x0": " ",
         "xaxis": "x",
         "y": [
          0.70266,
          0.72737,
          -0.01328,
          0.72096,
          0.74709,
          -0.02271,
          0.75433,
          0.78793,
          -0.02102,
          0.73136,
          0.75846,
          -0.00057,
          0.67071,
          0.68658,
          -0.02039,
          0.74882,
          0.78431,
          0.00024,
          0.72087,
          0.75248,
          -0.0214,
          0.72722,
          0.75685,
          -0.00186,
          0.7018,
          0.72564,
          -0.01437,
          0.71988,
          0.74379,
          -0.02264,
          0.75148,
          0.78779,
          -0.02158,
          0.72805,
          0.75722,
          -0.00057,
          0.66633,
          0.68549,
          -0.02164,
          0.7446,
          0.78354,
          -0.00008,
          0.72013,
          0.74708,
          -0.02374,
          0.72319,
          0.7539,
          -0.00185,
          0.70506,
          0.72381,
          -0.0143,
          0.71674,
          0.74586,
          -0.01839,
          0.74947,
          0.78358,
          -0.02443,
          0.72466,
          0.75397,
          -0.00171,
          0.66476,
          0.68372,
          -0.02192,
          0.74353,
          0.78179,
          -0.00016,
          0.71771,
          0.75067,
          -0.02316,
          0.72679,
          0.75535,
          -0.00154,
          0.70287,
          0.724,
          -0.01139,
          0.71307,
          0.74747,
          -0.01759,
          0.74749,
          0.7817,
          -0.02371,
          0.72219,
          0.75617,
          -0.00248,
          0.66178,
          0.68662,
          -0.01973,
          0.73963,
          0.77673,
          -0.00023,
          0.70748,
          0.74817,
          -0.02464,
          0.7267,
          0.74984,
          -0.00326,
          0.70109,
          0.72403,
          -0.01249,
          0.7158,
          0.74385,
          -0.0185,
          0.74359,
          0.78003,
          -0.02653,
          0.71735,
          0.75431,
          -0.00169,
          0.66367,
          0.68526,
          -0.01996,
          0.73327,
          0.77727,
          -0.00013,
          0.71291,
          0.7479,
          -0.02359,
          0.72003,
          0.74906,
          -0.00148,
          0.7,
          0.72373,
          -0.01133,
          0.71237,
          0.74145,
          -0.01743,
          0.74465,
          0.78227,
          -0.02751,
          0.72118,
          0.75378,
          -0.00257,
          0.65975,
          0.6842,
          -0.02134,
          0.7294,
          0.77855,
          -0.00001,
          0.7059,
          0.74336,
          -0.02312,
          0.72198,
          0.74794,
          -0.00306,
          0.6974,
          0.72008,
          -0.01431,
          0.71187,
          0.74318,
          -0.02206,
          0.7448,
          0.78276,
          -0.02247,
          0.71944,
          0.75003,
          -0.00117,
          0.66194,
          0.68493,
          -0.02376,
          0.73528,
          0.77508,
          -0.00016,
          0.70895,
          0.74567,
          -0.02389,
          0.71764,
          0.74965,
          -0.00281,
          0.69685,
          0.72269,
          -0.01421,
          0.70079,
          0.73941,
          -0.02329,
          0.73633,
          0.77343,
          -0.02267,
          0.70914,
          0.74724,
          -0.00131,
          0.66094,
          0.68174,
          -0.02312,
          0.72652,
          0.76947,
          -0.00029,
          0.70505,
          0.73502,
          -0.02058,
          0.71639,
          0.74591,
          -0.00274,
          0.69425,
          0.71345,
          -0.01552,
          0.70272,
          0.72458,
          -0.03174,
          0.74922,
          0.7754,
          -0.021,
          0.7128,
          0.74371,
          -0.0006,
          0.66033,
          0.67151,
          -0.02053,
          0.72777,
          0.76151,
          0.00011,
          0.70345,
          0.73191,
          -0.0216,
          0.70857,
          0.73316,
          -0.00117,
          0.70105,
          0.72348,
          -0.01477,
          0.69354,
          0.7133,
          -0.03045,
          0.74,
          0.77793,
          -0.01822,
          0.70774,
          0.72852,
          -0.00108,
          0.65113,
          0.67087,
          -0.02375,
          0.72647,
          0.7621,
          -0.00005,
          0.70132,
          0.72375,
          -0.01899,
          0.7001,
          0.72257,
          -0.00105,
          0.69135,
          0.70764,
          -0.00877,
          0.69744,
          0.71844,
          -0.03157,
          0.73989,
          0.76084,
          -0.0207,
          0.70761,
          0.73546,
          -0.002,
          0.65098,
          0.66826,
          -0.01821,
          0.72599,
          0.75339,
          -0.0002,
          0.69489,
          0.71858,
          -0.016,
          0.70794,
          0.729,
          -0.00212,
          0.69218,
          0.705,
          -0.01477,
          0.69652,
          0.70866,
          -0.03142,
          0.74422,
          0.751,
          -0.01608,
          0.71302,
          0.71848,
          -0.00049,
          0.66072,
          0.64935,
          -0.02204,
          0.71807,
          0.74803,
          0.00006,
          0.69594,
          0.70991,
          -0.01671,
          0.71361,
          0.70964,
          -0.00118,
          0.697,
          0.7031,
          -0.01545,
          0.70145,
          0.70541,
          -0.03201,
          0.74224,
          0.74689,
          -0.01606,
          0.69994,
          0.72134,
          -0.00002,
          0.65893,
          0.65574,
          -0.01831,
          0.72096,
          0.73507,
          -0.00003,
          0.69323,
          0.71153,
          -0.02161,
          0.71534,
          0.71395,
          -0.00208,
          0.69329,
          0.68764,
          -0.01419,
          0.70103,
          0.6877,
          -0.02624,
          0.74068,
          0.75045,
          -0.01683,
          0.70245,
          0.70871,
          -0.00027,
          0.65141,
          0.64736,
          -0.01449,
          0.72056,
          0.73327,
          -0.00032,
          0.68708,
          0.71051,
          -0.02101,
          0.71476,
          0.71193,
          -0.00134,
          0.6904,
          0.69187,
          -0.02077,
          0.69818,
          0.68561,
          -0.02808,
          0.73601,
          0.74497,
          -0.01416,
          0.70081,
          0.70453,
          0.00022,
          0.65502,
          0.638,
          -0.0169,
          0.71934,
          0.73322,
          -0.0001,
          0.69169,
          0.69391,
          -0.02075,
          0.70825,
          0.72086,
          -0.00148,
          0.68938,
          0.6827,
          -0.02149,
          0.69366,
          0.68155,
          -0.02191,
          0.73991,
          0.74502,
          -0.01056,
          0.69424,
          0.70615,
          -0.00032,
          0.64733,
          0.61824,
          -0.01938,
          0.72217,
          0.72102,
          -0.00014,
          0.6984,
          0.68579,
          -0.02357,
          0.71068,
          0.71767,
          -0.00124,
          0.7086,
          0.73169,
          0.78088,
          0.74812,
          0.6576,
          0.77542,
          0.73707,
          0.74251
         ],
         "y0": " ",
         "yaxis": "y"
        }
       ],
       "layout": {
        "boxmode": "group",
        "legend": {
         "tracegroupgap": 0
        },
        "template": {
         "data": {
          "bar": [
           {
            "error_x": {
             "color": "#2a3f5f"
            },
            "error_y": {
             "color": "#2a3f5f"
            },
            "marker": {
             "line": {
              "color": "#E5ECF6",
              "width": 0.5
             },
             "pattern": {
              "fillmode": "overlay",
              "size": 10,
              "solidity": 0.2
             }
            },
            "type": "bar"
           }
          ],
          "barpolar": [
           {
            "marker": {
             "line": {
              "color": "#E5ECF6",
              "width": 0.5
             },
             "pattern": {
              "fillmode": "overlay",
              "size": 10,
              "solidity": 0.2
             }
            },
            "type": "barpolar"
           }
          ],
          "carpet": [
           {
            "aaxis": {
             "endlinecolor": "#2a3f5f",
             "gridcolor": "white",
             "linecolor": "white",
             "minorgridcolor": "white",
             "startlinecolor": "#2a3f5f"
            },
            "baxis": {
             "endlinecolor": "#2a3f5f",
             "gridcolor": "white",
             "linecolor": "white",
             "minorgridcolor": "white",
             "startlinecolor": "#2a3f5f"
            },
            "type": "carpet"
           }
          ],
          "choropleth": [
           {
            "colorbar": {
             "outlinewidth": 0,
             "ticks": ""
            },
            "type": "choropleth"
           }
          ],
          "contour": [
           {
            "colorbar": {
             "outlinewidth": 0,
             "ticks": ""
            },
            "colorscale": [
             [
              0,
              "#0d0887"
             ],
             [
              0.1111111111111111,
              "#46039f"
             ],
             [
              0.2222222222222222,
              "#7201a8"
             ],
             [
              0.3333333333333333,
              "#9c179e"
             ],
             [
              0.4444444444444444,
              "#bd3786"
             ],
             [
              0.5555555555555556,
              "#d8576b"
             ],
             [
              0.6666666666666666,
              "#ed7953"
             ],
             [
              0.7777777777777778,
              "#fb9f3a"
             ],
             [
              0.8888888888888888,
              "#fdca26"
             ],
             [
              1,
              "#f0f921"
             ]
            ],
            "type": "contour"
           }
          ],
          "contourcarpet": [
           {
            "colorbar": {
             "outlinewidth": 0,
             "ticks": ""
            },
            "type": "contourcarpet"
           }
          ],
          "heatmap": [
           {
            "colorbar": {
             "outlinewidth": 0,
             "ticks": ""
            },
            "colorscale": [
             [
              0,
              "#0d0887"
             ],
             [
              0.1111111111111111,
              "#46039f"
             ],
             [
              0.2222222222222222,
              "#7201a8"
             ],
             [
              0.3333333333333333,
              "#9c179e"
             ],
             [
              0.4444444444444444,
              "#bd3786"
             ],
             [
              0.5555555555555556,
              "#d8576b"
             ],
             [
              0.6666666666666666,
              "#ed7953"
             ],
             [
              0.7777777777777778,
              "#fb9f3a"
             ],
             [
              0.8888888888888888,
              "#fdca26"
             ],
             [
              1,
              "#f0f921"
             ]
            ],
            "type": "heatmap"
           }
          ],
          "heatmapgl": [
           {
            "colorbar": {
             "outlinewidth": 0,
             "ticks": ""
            },
            "colorscale": [
             [
              0,
              "#0d0887"
             ],
             [
              0.1111111111111111,
              "#46039f"
             ],
             [
              0.2222222222222222,
              "#7201a8"
             ],
             [
              0.3333333333333333,
              "#9c179e"
             ],
             [
              0.4444444444444444,
              "#bd3786"
             ],
             [
              0.5555555555555556,
              "#d8576b"
             ],
             [
              0.6666666666666666,
              "#ed7953"
             ],
             [
              0.7777777777777778,
              "#fb9f3a"
             ],
             [
              0.8888888888888888,
              "#fdca26"
             ],
             [
              1,
              "#f0f921"
             ]
            ],
            "type": "heatmapgl"
           }
          ],
          "histogram": [
           {
            "marker": {
             "pattern": {
              "fillmode": "overlay",
              "size": 10,
              "solidity": 0.2
             }
            },
            "type": "histogram"
           }
          ],
          "histogram2d": [
           {
            "colorbar": {
             "outlinewidth": 0,
             "ticks": ""
            },
            "colorscale": [
             [
              0,
              "#0d0887"
             ],
             [
              0.1111111111111111,
              "#46039f"
             ],
             [
              0.2222222222222222,
              "#7201a8"
             ],
             [
              0.3333333333333333,
              "#9c179e"
             ],
             [
              0.4444444444444444,
              "#bd3786"
             ],
             [
              0.5555555555555556,
              "#d8576b"
             ],
             [
              0.6666666666666666,
              "#ed7953"
             ],
             [
              0.7777777777777778,
              "#fb9f3a"
             ],
             [
              0.8888888888888888,
              "#fdca26"
             ],
             [
              1,
              "#f0f921"
             ]
            ],
            "type": "histogram2d"
           }
          ],
          "histogram2dcontour": [
           {
            "colorbar": {
             "outlinewidth": 0,
             "ticks": ""
            },
            "colorscale": [
             [
              0,
              "#0d0887"
             ],
             [
              0.1111111111111111,
              "#46039f"
             ],
             [
              0.2222222222222222,
              "#7201a8"
             ],
             [
              0.3333333333333333,
              "#9c179e"
             ],
             [
              0.4444444444444444,
              "#bd3786"
             ],
             [
              0.5555555555555556,
              "#d8576b"
             ],
             [
              0.6666666666666666,
              "#ed7953"
             ],
             [
              0.7777777777777778,
              "#fb9f3a"
             ],
             [
              0.8888888888888888,
              "#fdca26"
             ],
             [
              1,
              "#f0f921"
             ]
            ],
            "type": "histogram2dcontour"
           }
          ],
          "mesh3d": [
           {
            "colorbar": {
             "outlinewidth": 0,
             "ticks": ""
            },
            "type": "mesh3d"
           }
          ],
          "parcoords": [
           {
            "line": {
             "colorbar": {
              "outlinewidth": 0,
              "ticks": ""
             }
            },
            "type": "parcoords"
           }
          ],
          "pie": [
           {
            "automargin": true,
            "type": "pie"
           }
          ],
          "scatter": [
           {
            "fillpattern": {
             "fillmode": "overlay",
             "size": 10,
             "solidity": 0.2
            },
            "type": "scatter"
           }
          ],
          "scatter3d": [
           {
            "line": {
             "colorbar": {
              "outlinewidth": 0,
              "ticks": ""
             }
            },
            "marker": {
             "colorbar": {
              "outlinewidth": 0,
              "ticks": ""
             }
            },
            "type": "scatter3d"
           }
          ],
          "scattercarpet": [
           {
            "marker": {
             "colorbar": {
              "outlinewidth": 0,
              "ticks": ""
             }
            },
            "type": "scattercarpet"
           }
          ],
          "scattergeo": [
           {
            "marker": {
             "colorbar": {
              "outlinewidth": 0,
              "ticks": ""
             }
            },
            "type": "scattergeo"
           }
          ],
          "scattergl": [
           {
            "marker": {
             "colorbar": {
              "outlinewidth": 0,
              "ticks": ""
             }
            },
            "type": "scattergl"
           }
          ],
          "scattermapbox": [
           {
            "marker": {
             "colorbar": {
              "outlinewidth": 0,
              "ticks": ""
             }
            },
            "type": "scattermapbox"
           }
          ],
          "scatterpolar": [
           {
            "marker": {
             "colorbar": {
              "outlinewidth": 0,
              "ticks": ""
             }
            },
            "type": "scatterpolar"
           }
          ],
          "scatterpolargl": [
           {
            "marker": {
             "colorbar": {
              "outlinewidth": 0,
              "ticks": ""
             }
            },
            "type": "scatterpolargl"
           }
          ],
          "scatterternary": [
           {
            "marker": {
             "colorbar": {
              "outlinewidth": 0,
              "ticks": ""
             }
            },
            "type": "scatterternary"
           }
          ],
          "surface": [
           {
            "colorbar": {
             "outlinewidth": 0,
             "ticks": ""
            },
            "colorscale": [
             [
              0,
              "#0d0887"
             ],
             [
              0.1111111111111111,
              "#46039f"
             ],
             [
              0.2222222222222222,
              "#7201a8"
             ],
             [
              0.3333333333333333,
              "#9c179e"
             ],
             [
              0.4444444444444444,
              "#bd3786"
             ],
             [
              0.5555555555555556,
              "#d8576b"
             ],
             [
              0.6666666666666666,
              "#ed7953"
             ],
             [
              0.7777777777777778,
              "#fb9f3a"
             ],
             [
              0.8888888888888888,
              "#fdca26"
             ],
             [
              1,
              "#f0f921"
             ]
            ],
            "type": "surface"
           }
          ],
          "table": [
           {
            "cells": {
             "fill": {
              "color": "#EBF0F8"
             },
             "line": {
              "color": "white"
             }
            },
            "header": {
             "fill": {
              "color": "#C8D4E3"
             },
             "line": {
              "color": "white"
             }
            },
            "type": "table"
           }
          ]
         },
         "layout": {
          "annotationdefaults": {
           "arrowcolor": "#2a3f5f",
           "arrowhead": 0,
           "arrowwidth": 1
          },
          "autotypenumbers": "strict",
          "coloraxis": {
           "colorbar": {
            "outlinewidth": 0,
            "ticks": ""
           }
          },
          "colorscale": {
           "diverging": [
            [
             0,
             "#8e0152"
            ],
            [
             0.1,
             "#c51b7d"
            ],
            [
             0.2,
             "#de77ae"
            ],
            [
             0.3,
             "#f1b6da"
            ],
            [
             0.4,
             "#fde0ef"
            ],
            [
             0.5,
             "#f7f7f7"
            ],
            [
             0.6,
             "#e6f5d0"
            ],
            [
             0.7,
             "#b8e186"
            ],
            [
             0.8,
             "#7fbc41"
            ],
            [
             0.9,
             "#4d9221"
            ],
            [
             1,
             "#276419"
            ]
           ],
           "sequential": [
            [
             0,
             "#0d0887"
            ],
            [
             0.1111111111111111,
             "#46039f"
            ],
            [
             0.2222222222222222,
             "#7201a8"
            ],
            [
             0.3333333333333333,
             "#9c179e"
            ],
            [
             0.4444444444444444,
             "#bd3786"
            ],
            [
             0.5555555555555556,
             "#d8576b"
            ],
            [
             0.6666666666666666,
             "#ed7953"
            ],
            [
             0.7777777777777778,
             "#fb9f3a"
            ],
            [
             0.8888888888888888,
             "#fdca26"
            ],
            [
             1,
             "#f0f921"
            ]
           ],
           "sequentialminus": [
            [
             0,
             "#0d0887"
            ],
            [
             0.1111111111111111,
             "#46039f"
            ],
            [
             0.2222222222222222,
             "#7201a8"
            ],
            [
             0.3333333333333333,
             "#9c179e"
            ],
            [
             0.4444444444444444,
             "#bd3786"
            ],
            [
             0.5555555555555556,
             "#d8576b"
            ],
            [
             0.6666666666666666,
             "#ed7953"
            ],
            [
             0.7777777777777778,
             "#fb9f3a"
            ],
            [
             0.8888888888888888,
             "#fdca26"
            ],
            [
             1,
             "#f0f921"
            ]
           ]
          },
          "colorway": [
           "#636efa",
           "#EF553B",
           "#00cc96",
           "#ab63fa",
           "#FFA15A",
           "#19d3f3",
           "#FF6692",
           "#B6E880",
           "#FF97FF",
           "#FECB52"
          ],
          "font": {
           "color": "#2a3f5f"
          },
          "geo": {
           "bgcolor": "white",
           "lakecolor": "white",
           "landcolor": "#E5ECF6",
           "showlakes": true,
           "showland": true,
           "subunitcolor": "white"
          },
          "hoverlabel": {
           "align": "left"
          },
          "hovermode": "closest",
          "mapbox": {
           "style": "light"
          },
          "paper_bgcolor": "white",
          "plot_bgcolor": "#E5ECF6",
          "polar": {
           "angularaxis": {
            "gridcolor": "white",
            "linecolor": "white",
            "ticks": ""
           },
           "bgcolor": "#E5ECF6",
           "radialaxis": {
            "gridcolor": "white",
            "linecolor": "white",
            "ticks": ""
           }
          },
          "scene": {
           "xaxis": {
            "backgroundcolor": "#E5ECF6",
            "gridcolor": "white",
            "gridwidth": 2,
            "linecolor": "white",
            "showbackground": true,
            "ticks": "",
            "zerolinecolor": "white"
           },
           "yaxis": {
            "backgroundcolor": "#E5ECF6",
            "gridcolor": "white",
            "gridwidth": 2,
            "linecolor": "white",
            "showbackground": true,
            "ticks": "",
            "zerolinecolor": "white"
           },
           "zaxis": {
            "backgroundcolor": "#E5ECF6",
            "gridcolor": "white",
            "gridwidth": 2,
            "linecolor": "white",
            "showbackground": true,
            "ticks": "",
            "zerolinecolor": "white"
           }
          },
          "shapedefaults": {
           "line": {
            "color": "#2a3f5f"
           }
          },
          "ternary": {
           "aaxis": {
            "gridcolor": "white",
            "linecolor": "white",
            "ticks": ""
           },
           "baxis": {
            "gridcolor": "white",
            "linecolor": "white",
            "ticks": ""
           },
           "bgcolor": "#E5ECF6",
           "caxis": {
            "gridcolor": "white",
            "linecolor": "white",
            "ticks": ""
           }
          },
          "title": {
           "x": 0.05
          },
          "xaxis": {
           "automargin": true,
           "gridcolor": "white",
           "linecolor": "white",
           "ticks": "",
           "title": {
            "standoff": 15
           },
           "zerolinecolor": "white",
           "zerolinewidth": 2
          },
          "yaxis": {
           "automargin": true,
           "gridcolor": "white",
           "linecolor": "white",
           "ticks": "",
           "title": {
            "standoff": 15
           },
           "zerolinecolor": "white",
           "zerolinewidth": 2
          }
         }
        },
        "title": {
         "text": "Distribuição de f1 para os experimentos \n label:z_14|leak=False"
        },
        "xaxis": {
         "anchor": "y",
         "domain": [
          0,
          1
         ],
         "title": {
          "text": "model"
         }
        },
        "yaxis": {
         "anchor": "x",
         "domain": [
          0,
          1
         ],
         "title": {
          "text": "R-squared (R2)"
         }
        }
       }
      }
     },
     "metadata": {},
     "output_type": "display_data"
    },
    {
     "name": "stdout",
     "output_type": "stream",
     "text": [
      "label: diff_close_mean_z_score_21 - leak: False\n"
     ]
    },
    {
     "data": {
      "application/vnd.plotly.v1+json": {
       "config": {
        "plotlyServerURL": "https://plot.ly"
       },
       "data": [
        {
         "alignmentgroup": "True",
         "boxpoints": "all",
         "hovertemplate": "model=%{x}<br>R-squared (R2)=%{y}<extra></extra>",
         "legendgroup": "",
         "marker": {
          "color": "#636efa"
         },
         "name": "",
         "notched": false,
         "offsetgroup": "",
         "orientation": "v",
         "showlegend": false,
         "type": "box",
         "x": [
          "LSTM_with_Attention",
          "MLP",
          "KAN",
          "LSTM_with_Attention",
          "MLP",
          "KAN",
          "LSTM_with_Attention",
          "MLP",
          "KAN",
          "LSTM_with_Attention",
          "MLP",
          "KAN",
          "LSTM_with_Attention",
          "MLP",
          "KAN",
          "LSTM_with_Attention",
          "MLP",
          "KAN",
          "LSTM_with_Attention",
          "MLP",
          "KAN",
          "LSTM_with_Attention",
          "MLP",
          "KAN",
          "LSTM_with_Attention",
          "MLP",
          "KAN",
          "LSTM_with_Attention",
          "MLP",
          "KAN",
          "LSTM_with_Attention",
          "MLP",
          "KAN",
          "LSTM_with_Attention",
          "MLP",
          "KAN",
          "LSTM_with_Attention",
          "MLP",
          "KAN",
          "LSTM_with_Attention",
          "MLP",
          "KAN",
          "LSTM_with_Attention",
          "MLP",
          "KAN",
          "LSTM_with_Attention",
          "MLP",
          "KAN",
          "LSTM_with_Attention",
          "MLP",
          "KAN",
          "LSTM_with_Attention",
          "MLP",
          "KAN",
          "LSTM_with_Attention",
          "MLP",
          "KAN",
          "LSTM_with_Attention",
          "MLP",
          "KAN",
          "LSTM_with_Attention",
          "MLP",
          "KAN",
          "LSTM_with_Attention",
          "MLP",
          "KAN",
          "LSTM_with_Attention",
          "MLP",
          "KAN",
          "LSTM_with_Attention",
          "MLP",
          "KAN",
          "LSTM_with_Attention",
          "MLP",
          "KAN",
          "LSTM_with_Attention",
          "MLP",
          "KAN",
          "LSTM_with_Attention",
          "MLP",
          "KAN",
          "LSTM_with_Attention",
          "MLP",
          "KAN",
          "LSTM_with_Attention",
          "MLP",
          "KAN",
          "LSTM_with_Attention",
          "MLP",
          "KAN",
          "LSTM_with_Attention",
          "MLP",
          "KAN",
          "LSTM_with_Attention",
          "MLP",
          "KAN",
          "LSTM_with_Attention",
          "MLP",
          "KAN",
          "LSTM_with_Attention",
          "MLP",
          "KAN",
          "LSTM_with_Attention",
          "MLP",
          "KAN",
          "LSTM_with_Attention",
          "MLP",
          "KAN",
          "LSTM_with_Attention",
          "MLP",
          "KAN",
          "LSTM_with_Attention",
          "MLP",
          "KAN",
          "LSTM_with_Attention",
          "MLP",
          "KAN",
          "LSTM_with_Attention",
          "MLP",
          "KAN",
          "LSTM_with_Attention",
          "MLP",
          "KAN",
          "LSTM_with_Attention",
          "MLP",
          "KAN",
          "LSTM_with_Attention",
          "MLP",
          "KAN",
          "LSTM_with_Attention",
          "MLP",
          "KAN",
          "LSTM_with_Attention",
          "MLP",
          "KAN",
          "LSTM_with_Attention",
          "MLP",
          "KAN",
          "LSTM_with_Attention",
          "MLP",
          "KAN",
          "LSTM_with_Attention",
          "MLP",
          "KAN",
          "LSTM_with_Attention",
          "MLP",
          "KAN",
          "LSTM_with_Attention",
          "MLP",
          "KAN",
          "LSTM_with_Attention",
          "MLP",
          "KAN",
          "LSTM_with_Attention",
          "MLP",
          "KAN",
          "LSTM_with_Attention",
          "MLP",
          "KAN",
          "LSTM_with_Attention",
          "MLP",
          "KAN",
          "LSTM_with_Attention",
          "MLP",
          "KAN",
          "LSTM_with_Attention",
          "MLP",
          "KAN",
          "LSTM_with_Attention",
          "MLP",
          "KAN",
          "LSTM_with_Attention",
          "MLP",
          "KAN",
          "LSTM_with_Attention",
          "MLP",
          "KAN",
          "LSTM_with_Attention",
          "MLP",
          "KAN",
          "LSTM_with_Attention",
          "MLP",
          "KAN",
          "LSTM_with_Attention",
          "MLP",
          "KAN",
          "LSTM_with_Attention",
          "MLP",
          "KAN",
          "LSTM_with_Attention",
          "MLP",
          "KAN",
          "LSTM_with_Attention",
          "MLP",
          "KAN",
          "LSTM_with_Attention",
          "MLP",
          "KAN",
          "LSTM_with_Attention",
          "MLP",
          "KAN",
          "LSTM_with_Attention",
          "MLP",
          "KAN",
          "LSTM_with_Attention",
          "MLP",
          "KAN",
          "LSTM_with_Attention",
          "MLP",
          "KAN",
          "LSTM_with_Attention",
          "MLP",
          "KAN",
          "LSTM_with_Attention",
          "MLP",
          "KAN",
          "LSTM_with_Attention",
          "MLP",
          "KAN",
          "LSTM_with_Attention",
          "MLP",
          "KAN",
          "LSTM_with_Attention",
          "MLP",
          "KAN",
          "LSTM_with_Attention",
          "MLP",
          "KAN",
          "LSTM_with_Attention",
          "MLP",
          "KAN",
          "LSTM_with_Attention",
          "MLP",
          "KAN",
          "LSTM_with_Attention",
          "MLP",
          "KAN",
          "LSTM_with_Attention",
          "MLP",
          "KAN",
          "LSTM_with_Attention",
          "MLP",
          "KAN",
          "LSTM_with_Attention",
          "MLP",
          "KAN",
          "LSTM_with_Attention",
          "MLP",
          "KAN",
          "LSTM_with_Attention",
          "MLP",
          "KAN",
          "LSTM_with_Attention",
          "MLP",
          "KAN",
          "LSTM_with_Attention",
          "MLP",
          "KAN",
          "LSTM_with_Attention",
          "MLP",
          "KAN",
          "LSTM_with_Attention",
          "MLP",
          "KAN",
          "LSTM_with_Attention",
          "MLP",
          "KAN",
          "LSTM_with_Attention",
          "MLP",
          "KAN",
          "LSTM_with_Attention",
          "MLP",
          "KAN",
          "LSTM_with_Attention",
          "MLP",
          "KAN",
          "LSTM_with_Attention",
          "MLP",
          "KAN",
          "LSTM_with_Attention",
          "MLP",
          "KAN",
          "LSTM_with_Attention",
          "MLP",
          "KAN",
          "LSTM_with_Attention",
          "MLP",
          "KAN",
          "LSTM_with_Attention",
          "MLP",
          "KAN",
          "LSTM_with_Attention",
          "MLP",
          "KAN",
          "LSTM_with_Attention",
          "MLP",
          "KAN",
          "LSTM_with_Attention",
          "MLP",
          "KAN",
          "LSTM_with_Attention",
          "MLP",
          "KAN",
          "LSTM_with_Attention",
          "MLP",
          "KAN",
          "LSTM_with_Attention",
          "MLP",
          "KAN",
          "LSTM_with_Attention",
          "MLP",
          "KAN",
          "LSTM_with_Attention",
          "MLP",
          "KAN",
          "LSTM_with_Attention",
          "MLP",
          "KAN",
          "LSTM_with_Attention",
          "MLP",
          "KAN",
          "LSTM_with_Attention",
          "MLP",
          "KAN",
          "LSTM_with_Attention",
          "MLP",
          "KAN",
          "LSTM_with_Attention",
          "MLP",
          "KAN",
          "LSTM_with_Attention",
          "MLP",
          "KAN",
          "LSTM_with_Attention",
          "MLP",
          "KAN",
          "LSTM_with_Attention",
          "MLP",
          "KAN",
          "LSTM_with_Attention",
          "MLP",
          "KAN",
          "LSTM_with_Attention",
          "MLP",
          "KAN",
          "LSTM_with_Attention",
          "MLP",
          "KAN",
          "LSTM_with_Attention",
          "MLP",
          "KAN",
          "LSTM_with_Attention",
          "MLP",
          "KAN",
          "LSTM_with_Attention",
          "MLP",
          "KAN",
          "LSTM_with_Attention",
          "MLP",
          "KAN",
          "LSTM_with_Attention",
          "MLP",
          "KAN",
          "LSTM_with_Attention",
          "MLP",
          "KAN",
          "LSTM_with_Attention",
          "MLP",
          "KAN",
          "LSTM_with_Attention",
          "MLP",
          "KAN",
          "LSTM_with_Attention",
          "MLP",
          "KAN",
          "LSTM_with_Attention",
          "MLP",
          "KAN",
          "LSTM_with_Attention",
          "MLP",
          "KAN",
          "LSTM_with_Attention",
          "MLP",
          "KAN",
          "Dummy_model",
          "Dummy_model",
          "Dummy_model",
          "Dummy_model",
          "Dummy_model",
          "Dummy_model",
          "Dummy_model",
          "Dummy_model"
         ],
         "x0": " ",
         "xaxis": "x",
         "y": [
          0.77525,
          0.80074,
          -0.01814,
          0.79455,
          0.82653,
          -0.0365,
          0.83482,
          0.87689,
          -0.02601,
          0.79851,
          0.83157,
          -0.00402,
          0.75736,
          0.78025,
          -0.02668,
          0.81619,
          0.85462,
          0.00054,
          0.78585,
          0.81967,
          -0.02678,
          0.79286,
          0.82624,
          -0.00326,
          0.77213,
          0.79864,
          -0.01912,
          0.78011,
          0.82522,
          -0.0367,
          0.82958,
          0.87024,
          -0.02664,
          0.79055,
          0.82792,
          -0.00395,
          0.74953,
          0.77348,
          -0.02719,
          0.81299,
          0.85282,
          0.0004,
          0.78529,
          0.81952,
          -0.03016,
          0.79076,
          0.82245,
          -0.00366,
          0.7691,
          0.79785,
          -0.01914,
          0.78862,
          0.82083,
          -0.03289,
          0.83132,
          0.87371,
          -0.02809,
          0.78994,
          0.82571,
          -0.00575,
          0.74604,
          0.77758,
          -0.02878,
          0.8158,
          0.85112,
          -0.00015,
          0.78185,
          0.81806,
          -0.03192,
          0.79149,
          0.8235,
          -0.00359,
          0.76857,
          0.798,
          -0.01576,
          0.78525,
          0.82293,
          -0.03197,
          0.82828,
          0.85919,
          -0.02823,
          0.78328,
          0.82521,
          -0.00762,
          0.74547,
          0.7764,
          -0.02819,
          0.81164,
          0.85373,
          -0.00053,
          0.77505,
          0.81399,
          -0.03349,
          0.78988,
          0.81684,
          -0.00529,
          0.76662,
          0.79198,
          -0.01579,
          0.7828,
          0.82218,
          -0.03229,
          0.82381,
          0.86444,
          -0.03043,
          0.78295,
          0.82485,
          -0.0067,
          0.74489,
          0.77654,
          -0.02671,
          0.80733,
          0.8506,
          -0.00002,
          0.77913,
          0.81507,
          -0.02819,
          0.78977,
          0.81674,
          -0.00307,
          0.76624,
          0.79332,
          -0.01635,
          0.78461,
          0.81918,
          -0.031,
          0.82288,
          0.87167,
          -0.03208,
          0.7819,
          0.82422,
          -0.00739,
          0.74528,
          0.77213,
          -0.02607,
          0.80731,
          0.84757,
          -0.00011,
          0.77406,
          0.81054,
          -0.03064,
          0.79025,
          0.81774,
          -0.00444,
          0.76411,
          0.78983,
          -0.01897,
          0.78147,
          0.81655,
          -0.03607,
          0.82324,
          0.85953,
          -0.027,
          0.77971,
          0.82414,
          -0.0057,
          0.74159,
          0.77661,
          -0.03019,
          0.80485,
          0.84783,
          -0.00035,
          0.77219,
          0.81255,
          -0.03145,
          0.78933,
          0.81691,
          -0.00405,
          0.75676,
          0.79077,
          -0.02009,
          0.77773,
          0.80992,
          -0.03707,
          0.81867,
          0.86334,
          -0.02814,
          0.76997,
          0.81604,
          -0.00581,
          0.74139,
          0.77184,
          -0.02883,
          0.79985,
          0.83865,
          -0.00025,
          0.76853,
          0.80625,
          -0.02694,
          0.78004,
          0.81203,
          -0.00455,
          0.755,
          0.78395,
          -0.02053,
          0.77067,
          0.79977,
          -0.04262,
          0.81568,
          0.8556,
          -0.02623,
          0.7704,
          0.80924,
          -0.00416,
          0.73865,
          0.76329,
          -0.02573,
          0.79633,
          0.83465,
          -0.00002,
          0.76676,
          0.80644,
          -0.03258,
          0.77706,
          0.80597,
          -0.0032,
          0.76221,
          0.7893,
          -0.02076,
          0.77294,
          0.78662,
          -0.04387,
          0.81714,
          0.85118,
          -0.02167,
          0.76699,
          0.80505,
          -0.00462,
          0.72686,
          0.75103,
          -0.02952,
          0.79689,
          0.82512,
          0.00003,
          0.76361,
          0.79369,
          -0.02921,
          0.76865,
          0.80822,
          -0.00312,
          0.75642,
          0.77801,
          -0.01404,
          0.77355,
          0.78253,
          -0.04583,
          0.81996,
          0.85235,
          -0.02343,
          0.77396,
          0.80261,
          -0.0059,
          0.73456,
          0.74039,
          -0.02361,
          0.79834,
          0.81117,
          -0.00002,
          0.76699,
          0.78973,
          -0.02383,
          0.77278,
          0.79684,
          -0.0044,
          0.75564,
          0.77527,
          -0.01931,
          0.76835,
          0.78963,
          -0.04593,
          0.81431,
          0.83257,
          -0.01895,
          0.76594,
          0.79311,
          -0.00258,
          0.74122,
          0.75801,
          -0.0268,
          0.79619,
          0.81425,
          -0.00005,
          0.76409,
          0.7802,
          -0.02414,
          0.7758,
          0.79009,
          -0.00339,
          0.75867,
          0.77553,
          -0.0216,
          0.76755,
          0.7711,
          -0.04774,
          0.81133,
          0.83687,
          -0.01776,
          0.76386,
          0.78836,
          -0.0013,
          0.73837,
          0.74902,
          -0.02284,
          0.79286,
          0.80652,
          -0.00043,
          0.76307,
          0.77787,
          -0.02847,
          0.77778,
          0.7963,
          -0.00405,
          0.75398,
          0.77834,
          -0.02015,
          0.76578,
          0.76315,
          -0.04086,
          0.8149,
          0.82145,
          -0.02003,
          0.76028,
          0.7821,
          -0.00266,
          0.73246,
          0.73553,
          -0.01773,
          0.79163,
          0.7993,
          -0.00075,
          0.76299,
          0.76818,
          -0.02826,
          0.78116,
          0.77731,
          -0.0032,
          0.75447,
          0.76798,
          -0.02732,
          0.76778,
          0.76423,
          -0.04028,
          0.81308,
          0.81698,
          -0.01707,
          0.76376,
          0.78589,
          -0.00134,
          0.73377,
          0.73437,
          -0.01966,
          0.79652,
          0.81535,
          -0.00002,
          0.75657,
          0.7686,
          -0.03023,
          0.77822,
          0.80002,
          -0.00372,
          0.75227,
          0.77146,
          -0.02741,
          0.76159,
          0.75895,
          -0.03333,
          0.814,
          0.82213,
          -0.01422,
          0.75893,
          0.7679,
          -0.00119,
          0.73706,
          0.72811,
          -0.02014,
          0.79484,
          0.78612,
          0.00005,
          0.75738,
          0.75908,
          -0.03505,
          0.78157,
          0.77382,
          -0.00366,
          0.79154,
          0.82047,
          0.87392,
          0.82591,
          0.76704,
          0.85552,
          0.81337,
          0.81893
         ],
         "y0": " ",
         "yaxis": "y"
        }
       ],
       "layout": {
        "boxmode": "group",
        "legend": {
         "tracegroupgap": 0
        },
        "template": {
         "data": {
          "bar": [
           {
            "error_x": {
             "color": "#2a3f5f"
            },
            "error_y": {
             "color": "#2a3f5f"
            },
            "marker": {
             "line": {
              "color": "#E5ECF6",
              "width": 0.5
             },
             "pattern": {
              "fillmode": "overlay",
              "size": 10,
              "solidity": 0.2
             }
            },
            "type": "bar"
           }
          ],
          "barpolar": [
           {
            "marker": {
             "line": {
              "color": "#E5ECF6",
              "width": 0.5
             },
             "pattern": {
              "fillmode": "overlay",
              "size": 10,
              "solidity": 0.2
             }
            },
            "type": "barpolar"
           }
          ],
          "carpet": [
           {
            "aaxis": {
             "endlinecolor": "#2a3f5f",
             "gridcolor": "white",
             "linecolor": "white",
             "minorgridcolor": "white",
             "startlinecolor": "#2a3f5f"
            },
            "baxis": {
             "endlinecolor": "#2a3f5f",
             "gridcolor": "white",
             "linecolor": "white",
             "minorgridcolor": "white",
             "startlinecolor": "#2a3f5f"
            },
            "type": "carpet"
           }
          ],
          "choropleth": [
           {
            "colorbar": {
             "outlinewidth": 0,
             "ticks": ""
            },
            "type": "choropleth"
           }
          ],
          "contour": [
           {
            "colorbar": {
             "outlinewidth": 0,
             "ticks": ""
            },
            "colorscale": [
             [
              0,
              "#0d0887"
             ],
             [
              0.1111111111111111,
              "#46039f"
             ],
             [
              0.2222222222222222,
              "#7201a8"
             ],
             [
              0.3333333333333333,
              "#9c179e"
             ],
             [
              0.4444444444444444,
              "#bd3786"
             ],
             [
              0.5555555555555556,
              "#d8576b"
             ],
             [
              0.6666666666666666,
              "#ed7953"
             ],
             [
              0.7777777777777778,
              "#fb9f3a"
             ],
             [
              0.8888888888888888,
              "#fdca26"
             ],
             [
              1,
              "#f0f921"
             ]
            ],
            "type": "contour"
           }
          ],
          "contourcarpet": [
           {
            "colorbar": {
             "outlinewidth": 0,
             "ticks": ""
            },
            "type": "contourcarpet"
           }
          ],
          "heatmap": [
           {
            "colorbar": {
             "outlinewidth": 0,
             "ticks": ""
            },
            "colorscale": [
             [
              0,
              "#0d0887"
             ],
             [
              0.1111111111111111,
              "#46039f"
             ],
             [
              0.2222222222222222,
              "#7201a8"
             ],
             [
              0.3333333333333333,
              "#9c179e"
             ],
             [
              0.4444444444444444,
              "#bd3786"
             ],
             [
              0.5555555555555556,
              "#d8576b"
             ],
             [
              0.6666666666666666,
              "#ed7953"
             ],
             [
              0.7777777777777778,
              "#fb9f3a"
             ],
             [
              0.8888888888888888,
              "#fdca26"
             ],
             [
              1,
              "#f0f921"
             ]
            ],
            "type": "heatmap"
           }
          ],
          "heatmapgl": [
           {
            "colorbar": {
             "outlinewidth": 0,
             "ticks": ""
            },
            "colorscale": [
             [
              0,
              "#0d0887"
             ],
             [
              0.1111111111111111,
              "#46039f"
             ],
             [
              0.2222222222222222,
              "#7201a8"
             ],
             [
              0.3333333333333333,
              "#9c179e"
             ],
             [
              0.4444444444444444,
              "#bd3786"
             ],
             [
              0.5555555555555556,
              "#d8576b"
             ],
             [
              0.6666666666666666,
              "#ed7953"
             ],
             [
              0.7777777777777778,
              "#fb9f3a"
             ],
             [
              0.8888888888888888,
              "#fdca26"
             ],
             [
              1,
              "#f0f921"
             ]
            ],
            "type": "heatmapgl"
           }
          ],
          "histogram": [
           {
            "marker": {
             "pattern": {
              "fillmode": "overlay",
              "size": 10,
              "solidity": 0.2
             }
            },
            "type": "histogram"
           }
          ],
          "histogram2d": [
           {
            "colorbar": {
             "outlinewidth": 0,
             "ticks": ""
            },
            "colorscale": [
             [
              0,
              "#0d0887"
             ],
             [
              0.1111111111111111,
              "#46039f"
             ],
             [
              0.2222222222222222,
              "#7201a8"
             ],
             [
              0.3333333333333333,
              "#9c179e"
             ],
             [
              0.4444444444444444,
              "#bd3786"
             ],
             [
              0.5555555555555556,
              "#d8576b"
             ],
             [
              0.6666666666666666,
              "#ed7953"
             ],
             [
              0.7777777777777778,
              "#fb9f3a"
             ],
             [
              0.8888888888888888,
              "#fdca26"
             ],
             [
              1,
              "#f0f921"
             ]
            ],
            "type": "histogram2d"
           }
          ],
          "histogram2dcontour": [
           {
            "colorbar": {
             "outlinewidth": 0,
             "ticks": ""
            },
            "colorscale": [
             [
              0,
              "#0d0887"
             ],
             [
              0.1111111111111111,
              "#46039f"
             ],
             [
              0.2222222222222222,
              "#7201a8"
             ],
             [
              0.3333333333333333,
              "#9c179e"
             ],
             [
              0.4444444444444444,
              "#bd3786"
             ],
             [
              0.5555555555555556,
              "#d8576b"
             ],
             [
              0.6666666666666666,
              "#ed7953"
             ],
             [
              0.7777777777777778,
              "#fb9f3a"
             ],
             [
              0.8888888888888888,
              "#fdca26"
             ],
             [
              1,
              "#f0f921"
             ]
            ],
            "type": "histogram2dcontour"
           }
          ],
          "mesh3d": [
           {
            "colorbar": {
             "outlinewidth": 0,
             "ticks": ""
            },
            "type": "mesh3d"
           }
          ],
          "parcoords": [
           {
            "line": {
             "colorbar": {
              "outlinewidth": 0,
              "ticks": ""
             }
            },
            "type": "parcoords"
           }
          ],
          "pie": [
           {
            "automargin": true,
            "type": "pie"
           }
          ],
          "scatter": [
           {
            "fillpattern": {
             "fillmode": "overlay",
             "size": 10,
             "solidity": 0.2
            },
            "type": "scatter"
           }
          ],
          "scatter3d": [
           {
            "line": {
             "colorbar": {
              "outlinewidth": 0,
              "ticks": ""
             }
            },
            "marker": {
             "colorbar": {
              "outlinewidth": 0,
              "ticks": ""
             }
            },
            "type": "scatter3d"
           }
          ],
          "scattercarpet": [
           {
            "marker": {
             "colorbar": {
              "outlinewidth": 0,
              "ticks": ""
             }
            },
            "type": "scattercarpet"
           }
          ],
          "scattergeo": [
           {
            "marker": {
             "colorbar": {
              "outlinewidth": 0,
              "ticks": ""
             }
            },
            "type": "scattergeo"
           }
          ],
          "scattergl": [
           {
            "marker": {
             "colorbar": {
              "outlinewidth": 0,
              "ticks": ""
             }
            },
            "type": "scattergl"
           }
          ],
          "scattermapbox": [
           {
            "marker": {
             "colorbar": {
              "outlinewidth": 0,
              "ticks": ""
             }
            },
            "type": "scattermapbox"
           }
          ],
          "scatterpolar": [
           {
            "marker": {
             "colorbar": {
              "outlinewidth": 0,
              "ticks": ""
             }
            },
            "type": "scatterpolar"
           }
          ],
          "scatterpolargl": [
           {
            "marker": {
             "colorbar": {
              "outlinewidth": 0,
              "ticks": ""
             }
            },
            "type": "scatterpolargl"
           }
          ],
          "scatterternary": [
           {
            "marker": {
             "colorbar": {
              "outlinewidth": 0,
              "ticks": ""
             }
            },
            "type": "scatterternary"
           }
          ],
          "surface": [
           {
            "colorbar": {
             "outlinewidth": 0,
             "ticks": ""
            },
            "colorscale": [
             [
              0,
              "#0d0887"
             ],
             [
              0.1111111111111111,
              "#46039f"
             ],
             [
              0.2222222222222222,
              "#7201a8"
             ],
             [
              0.3333333333333333,
              "#9c179e"
             ],
             [
              0.4444444444444444,
              "#bd3786"
             ],
             [
              0.5555555555555556,
              "#d8576b"
             ],
             [
              0.6666666666666666,
              "#ed7953"
             ],
             [
              0.7777777777777778,
              "#fb9f3a"
             ],
             [
              0.8888888888888888,
              "#fdca26"
             ],
             [
              1,
              "#f0f921"
             ]
            ],
            "type": "surface"
           }
          ],
          "table": [
           {
            "cells": {
             "fill": {
              "color": "#EBF0F8"
             },
             "line": {
              "color": "white"
             }
            },
            "header": {
             "fill": {
              "color": "#C8D4E3"
             },
             "line": {
              "color": "white"
             }
            },
            "type": "table"
           }
          ]
         },
         "layout": {
          "annotationdefaults": {
           "arrowcolor": "#2a3f5f",
           "arrowhead": 0,
           "arrowwidth": 1
          },
          "autotypenumbers": "strict",
          "coloraxis": {
           "colorbar": {
            "outlinewidth": 0,
            "ticks": ""
           }
          },
          "colorscale": {
           "diverging": [
            [
             0,
             "#8e0152"
            ],
            [
             0.1,
             "#c51b7d"
            ],
            [
             0.2,
             "#de77ae"
            ],
            [
             0.3,
             "#f1b6da"
            ],
            [
             0.4,
             "#fde0ef"
            ],
            [
             0.5,
             "#f7f7f7"
            ],
            [
             0.6,
             "#e6f5d0"
            ],
            [
             0.7,
             "#b8e186"
            ],
            [
             0.8,
             "#7fbc41"
            ],
            [
             0.9,
             "#4d9221"
            ],
            [
             1,
             "#276419"
            ]
           ],
           "sequential": [
            [
             0,
             "#0d0887"
            ],
            [
             0.1111111111111111,
             "#46039f"
            ],
            [
             0.2222222222222222,
             "#7201a8"
            ],
            [
             0.3333333333333333,
             "#9c179e"
            ],
            [
             0.4444444444444444,
             "#bd3786"
            ],
            [
             0.5555555555555556,
             "#d8576b"
            ],
            [
             0.6666666666666666,
             "#ed7953"
            ],
            [
             0.7777777777777778,
             "#fb9f3a"
            ],
            [
             0.8888888888888888,
             "#fdca26"
            ],
            [
             1,
             "#f0f921"
            ]
           ],
           "sequentialminus": [
            [
             0,
             "#0d0887"
            ],
            [
             0.1111111111111111,
             "#46039f"
            ],
            [
             0.2222222222222222,
             "#7201a8"
            ],
            [
             0.3333333333333333,
             "#9c179e"
            ],
            [
             0.4444444444444444,
             "#bd3786"
            ],
            [
             0.5555555555555556,
             "#d8576b"
            ],
            [
             0.6666666666666666,
             "#ed7953"
            ],
            [
             0.7777777777777778,
             "#fb9f3a"
            ],
            [
             0.8888888888888888,
             "#fdca26"
            ],
            [
             1,
             "#f0f921"
            ]
           ]
          },
          "colorway": [
           "#636efa",
           "#EF553B",
           "#00cc96",
           "#ab63fa",
           "#FFA15A",
           "#19d3f3",
           "#FF6692",
           "#B6E880",
           "#FF97FF",
           "#FECB52"
          ],
          "font": {
           "color": "#2a3f5f"
          },
          "geo": {
           "bgcolor": "white",
           "lakecolor": "white",
           "landcolor": "#E5ECF6",
           "showlakes": true,
           "showland": true,
           "subunitcolor": "white"
          },
          "hoverlabel": {
           "align": "left"
          },
          "hovermode": "closest",
          "mapbox": {
           "style": "light"
          },
          "paper_bgcolor": "white",
          "plot_bgcolor": "#E5ECF6",
          "polar": {
           "angularaxis": {
            "gridcolor": "white",
            "linecolor": "white",
            "ticks": ""
           },
           "bgcolor": "#E5ECF6",
           "radialaxis": {
            "gridcolor": "white",
            "linecolor": "white",
            "ticks": ""
           }
          },
          "scene": {
           "xaxis": {
            "backgroundcolor": "#E5ECF6",
            "gridcolor": "white",
            "gridwidth": 2,
            "linecolor": "white",
            "showbackground": true,
            "ticks": "",
            "zerolinecolor": "white"
           },
           "yaxis": {
            "backgroundcolor": "#E5ECF6",
            "gridcolor": "white",
            "gridwidth": 2,
            "linecolor": "white",
            "showbackground": true,
            "ticks": "",
            "zerolinecolor": "white"
           },
           "zaxis": {
            "backgroundcolor": "#E5ECF6",
            "gridcolor": "white",
            "gridwidth": 2,
            "linecolor": "white",
            "showbackground": true,
            "ticks": "",
            "zerolinecolor": "white"
           }
          },
          "shapedefaults": {
           "line": {
            "color": "#2a3f5f"
           }
          },
          "ternary": {
           "aaxis": {
            "gridcolor": "white",
            "linecolor": "white",
            "ticks": ""
           },
           "baxis": {
            "gridcolor": "white",
            "linecolor": "white",
            "ticks": ""
           },
           "bgcolor": "#E5ECF6",
           "caxis": {
            "gridcolor": "white",
            "linecolor": "white",
            "ticks": ""
           }
          },
          "title": {
           "x": 0.05
          },
          "xaxis": {
           "automargin": true,
           "gridcolor": "white",
           "linecolor": "white",
           "ticks": "",
           "title": {
            "standoff": 15
           },
           "zerolinecolor": "white",
           "zerolinewidth": 2
          },
          "yaxis": {
           "automargin": true,
           "gridcolor": "white",
           "linecolor": "white",
           "ticks": "",
           "title": {
            "standoff": 15
           },
           "zerolinecolor": "white",
           "zerolinewidth": 2
          }
         }
        },
        "title": {
         "text": "Distribuição de f1 para os experimentos \n label:z_21|leak=False"
        },
        "xaxis": {
         "anchor": "y",
         "domain": [
          0,
          1
         ],
         "title": {
          "text": "model"
         }
        },
        "yaxis": {
         "anchor": "x",
         "domain": [
          0,
          1
         ],
         "title": {
          "text": "R-squared (R2)"
         }
        }
       }
      }
     },
     "metadata": {},
     "output_type": "display_data"
    }
   ],
   "source": [
    "for label in reg.label_col.unique():\n",
    "\n",
    "    for leak in [False]:\n",
    "\n",
    "        print(f\"label: {label} - leak: {leak}\")\n",
    "        \n",
    "        \n",
    "        if 'meta' in label: label_formated = label.replace('meta', 'k')\n",
    "        if 'diff_close_mean_z_score' in label: label_formated = label.replace('diff_close_mean_z_score', 'z')\n",
    "        \n",
    "        df_plt = reg[(reg.label_col == label) & (reg.leak == leak)]\n",
    "        \n",
    "        fig = px.box(\n",
    "            df_plt, \n",
    "            x=\"model\", \n",
    "            y=\"R-squared (R2)\", \n",
    "            points=\"all\",\n",
    "            title = f'Distribuição de f1 para os experimentos \\n label:{label_formated}|leak={leak}'\n",
    "            )\n",
    "        \n",
    "        fig.write_image(PATH_REPORTS + f\"/images/box_plot_exp_dist_label={label_formated}__leak={leak}_reg.png\")\n",
    "        # fig.update_traces(boxpoints=False) \n",
    "        fig.show()"
   ]
  },
  {
   "cell_type": "code",
   "execution_count": 14,
   "metadata": {},
   "outputs": [
    {
     "name": "stdout",
     "output_type": "stream",
     "text": [
      "label: meta_7 - leak: False\n"
     ]
    },
    {
     "data": {
      "application/vnd.plotly.v1+json": {
       "config": {
        "plotlyServerURL": "https://plot.ly"
       },
       "data": [
        {
         "alignmentgroup": "True",
         "boxpoints": "all",
         "hovertemplate": "model=%{x}<br>f1-score=%{y}<extra></extra>",
         "legendgroup": "",
         "marker": {
          "color": "#636efa"
         },
         "name": "",
         "notched": false,
         "offsetgroup": "",
         "orientation": "v",
         "showlegend": false,
         "type": "box",
         "x": [
          "LSTM_with_Attention",
          "MLP",
          "KAN",
          "LSTM_with_Attention",
          "MLP",
          "KAN",
          "LSTM_with_Attention",
          "MLP",
          "KAN",
          "LSTM_with_Attention",
          "MLP",
          "KAN",
          "LSTM_with_Attention",
          "MLP",
          "KAN",
          "LSTM_with_Attention",
          "MLP",
          "KAN",
          "LSTM_with_Attention",
          "MLP",
          "KAN",
          "LSTM_with_Attention",
          "MLP",
          "KAN",
          "LSTM_with_Attention",
          "MLP",
          "KAN",
          "LSTM_with_Attention",
          "MLP",
          "KAN",
          "LSTM_with_Attention",
          "MLP",
          "KAN",
          "LSTM_with_Attention",
          "MLP",
          "KAN",
          "LSTM_with_Attention",
          "MLP",
          "KAN",
          "LSTM_with_Attention",
          "MLP",
          "KAN",
          "LSTM_with_Attention",
          "MLP",
          "KAN",
          "LSTM_with_Attention",
          "MLP",
          "KAN",
          "LSTM_with_Attention",
          "MLP",
          "KAN",
          "LSTM_with_Attention",
          "MLP",
          "KAN",
          "LSTM_with_Attention",
          "MLP",
          "KAN",
          "LSTM_with_Attention",
          "MLP",
          "KAN",
          "LSTM_with_Attention",
          "MLP",
          "KAN",
          "LSTM_with_Attention",
          "MLP",
          "KAN",
          "LSTM_with_Attention",
          "MLP",
          "KAN",
          "LSTM_with_Attention",
          "MLP",
          "KAN",
          "LSTM_with_Attention",
          "MLP",
          "KAN",
          "LSTM_with_Attention",
          "MLP",
          "KAN",
          "LSTM_with_Attention",
          "MLP",
          "KAN",
          "LSTM_with_Attention",
          "MLP",
          "KAN",
          "LSTM_with_Attention",
          "MLP",
          "KAN",
          "LSTM_with_Attention",
          "MLP",
          "KAN",
          "LSTM_with_Attention",
          "MLP",
          "KAN",
          "LSTM_with_Attention",
          "MLP",
          "KAN",
          "LSTM_with_Attention",
          "MLP",
          "KAN",
          "LSTM_with_Attention",
          "MLP",
          "KAN",
          "LSTM_with_Attention",
          "MLP",
          "KAN",
          "LSTM_with_Attention",
          "MLP",
          "KAN",
          "LSTM_with_Attention",
          "MLP",
          "KAN",
          "LSTM_with_Attention",
          "MLP",
          "KAN",
          "LSTM_with_Attention",
          "MLP",
          "KAN",
          "LSTM_with_Attention",
          "MLP",
          "KAN",
          "LSTM_with_Attention",
          "MLP",
          "KAN",
          "LSTM_with_Attention",
          "MLP",
          "KAN",
          "LSTM_with_Attention",
          "MLP",
          "KAN",
          "LSTM_with_Attention",
          "MLP",
          "KAN",
          "LSTM_with_Attention",
          "MLP",
          "KAN",
          "LSTM_with_Attention",
          "MLP",
          "KAN",
          "LSTM_with_Attention",
          "MLP",
          "KAN",
          "LSTM_with_Attention",
          "MLP",
          "KAN",
          "LSTM_with_Attention",
          "MLP",
          "KAN",
          "LSTM_with_Attention",
          "MLP",
          "KAN",
          "LSTM_with_Attention",
          "MLP",
          "KAN",
          "LSTM_with_Attention",
          "MLP",
          "KAN",
          "LSTM_with_Attention",
          "MLP",
          "KAN",
          "LSTM_with_Attention",
          "MLP",
          "KAN",
          "LSTM_with_Attention",
          "MLP",
          "KAN",
          "LSTM_with_Attention",
          "MLP",
          "KAN",
          "LSTM_with_Attention",
          "MLP",
          "KAN",
          "LSTM_with_Attention",
          "MLP",
          "KAN",
          "LSTM_with_Attention",
          "MLP",
          "KAN",
          "LSTM_with_Attention",
          "MLP",
          "KAN",
          "LSTM_with_Attention",
          "MLP",
          "KAN",
          "LSTM_with_Attention",
          "MLP",
          "KAN",
          "LSTM_with_Attention",
          "MLP",
          "KAN",
          "LSTM_with_Attention",
          "MLP",
          "KAN",
          "LSTM_with_Attention",
          "MLP",
          "KAN",
          "LSTM_with_Attention",
          "MLP",
          "KAN",
          "LSTM_with_Attention",
          "MLP",
          "KAN",
          "LSTM_with_Attention",
          "MLP",
          "KAN",
          "LSTM_with_Attention",
          "MLP",
          "KAN",
          "LSTM_with_Attention",
          "MLP",
          "KAN",
          "LSTM_with_Attention",
          "MLP",
          "KAN",
          "LSTM_with_Attention",
          "MLP",
          "KAN",
          "LSTM_with_Attention",
          "MLP",
          "KAN",
          "LSTM_with_Attention",
          "MLP",
          "KAN",
          "LSTM_with_Attention",
          "MLP",
          "KAN",
          "LSTM_with_Attention",
          "MLP",
          "KAN",
          "LSTM_with_Attention",
          "MLP",
          "KAN",
          "LSTM_with_Attention",
          "MLP",
          "KAN",
          "LSTM_with_Attention",
          "MLP",
          "KAN",
          "LSTM_with_Attention",
          "MLP",
          "KAN",
          "LSTM_with_Attention",
          "MLP",
          "KAN",
          "LSTM_with_Attention",
          "MLP",
          "KAN",
          "LSTM_with_Attention",
          "MLP",
          "KAN",
          "LSTM_with_Attention",
          "MLP",
          "KAN",
          "LSTM_with_Attention",
          "MLP",
          "KAN",
          "LSTM_with_Attention",
          "MLP",
          "KAN",
          "LSTM_with_Attention",
          "MLP",
          "KAN",
          "LSTM_with_Attention",
          "MLP",
          "KAN",
          "LSTM_with_Attention",
          "MLP",
          "KAN",
          "LSTM_with_Attention",
          "MLP",
          "KAN",
          "LSTM_with_Attention",
          "MLP",
          "KAN",
          "LSTM_with_Attention",
          "MLP",
          "KAN",
          "LSTM_with_Attention",
          "MLP",
          "KAN",
          "LSTM_with_Attention",
          "MLP",
          "KAN",
          "LSTM_with_Attention",
          "MLP",
          "KAN",
          "LSTM_with_Attention",
          "MLP",
          "KAN",
          "LSTM_with_Attention",
          "MLP",
          "KAN",
          "LSTM_with_Attention",
          "MLP",
          "KAN",
          "LSTM_with_Attention",
          "MLP",
          "KAN",
          "LSTM_with_Attention",
          "MLP",
          "KAN",
          "LSTM_with_Attention",
          "MLP",
          "KAN",
          "LSTM_with_Attention",
          "MLP",
          "KAN",
          "LSTM_with_Attention",
          "MLP",
          "KAN",
          "LSTM_with_Attention",
          "MLP",
          "KAN",
          "LSTM_with_Attention",
          "MLP",
          "KAN",
          "LSTM_with_Attention",
          "MLP",
          "KAN",
          "LSTM_with_Attention",
          "MLP",
          "KAN",
          "LSTM_with_Attention",
          "MLP",
          "KAN",
          "LSTM_with_Attention",
          "MLP",
          "KAN",
          "LSTM_with_Attention",
          "MLP",
          "KAN",
          "LSTM_with_Attention",
          "MLP",
          "KAN",
          "LSTM_with_Attention",
          "MLP",
          "KAN",
          "LSTM_with_Attention",
          "MLP",
          "KAN",
          "LSTM_with_Attention",
          "MLP",
          "KAN",
          "LSTM_with_Attention",
          "MLP",
          "KAN",
          "LSTM_with_Attention",
          "MLP",
          "KAN",
          "LSTM_with_Attention",
          "MLP",
          "KAN",
          "LSTM_with_Attention",
          "MLP",
          "KAN",
          "LSTM_with_Attention",
          "MLP",
          "KAN",
          "LSTM_with_Attention",
          "MLP",
          "KAN",
          "LSTM_with_Attention",
          "MLP",
          "KAN",
          "LSTM_with_Attention",
          "MLP",
          "KAN",
          "LSTM_with_Attention",
          "MLP",
          "KAN",
          "LSTM_with_Attention",
          "MLP",
          "KAN",
          "LSTM_with_Attention",
          "MLP",
          "KAN",
          "LSTM_with_Attention",
          "MLP",
          "KAN",
          "LSTM_with_Attention",
          "MLP",
          "KAN",
          "LSTM_with_Attention",
          "MLP",
          "KAN",
          "Dummy_model",
          "Dummy_model",
          "Dummy_model",
          "Dummy_model",
          "Dummy_model",
          "Dummy_model",
          "Dummy_model",
          "Dummy_model"
         ],
         "x0": " ",
         "xaxis": "x",
         "y": [
          0.59319,
          0.59319,
          0.13019,
          0.74289,
          0.74289,
          0.57556,
          0.54123,
          0.54123,
          0.3228,
          0.52386,
          0.52386,
          0.12013,
          0.57072,
          0.57072,
          0.25097,
          0.54373,
          0.54373,
          0.11459,
          0.58993,
          0.58993,
          0.0516,
          0.61961,
          0.61961,
          0.0686,
          0.57408,
          0.57229,
          0.57647,
          0.7422,
          0.74289,
          0.74289,
          0.53682,
          0.53682,
          0.64306,
          0.5224,
          0.49867,
          0.41204,
          0.56023,
          0.56084,
          0.1497,
          0.54234,
          0.54373,
          0.53872,
          0.59122,
          0.56433,
          0.63135,
          0.61902,
          0.61961,
          0.36881,
          0.58706,
          0.57706,
          0.57652,
          0.73947,
          0.74015,
          0.7389,
          0.53371,
          0.53682,
          0.69573,
          0.50641,
          0.50524,
          0.60619,
          0.56023,
          0.55687,
          0.4664,
          0.54313,
          0.5446,
          0.52965,
          0.56249,
          0.58324,
          0.65306,
          0.61961,
          0.61793,
          0.6032,
          0.58021,
          0.57646,
          0.70115,
          0.73801,
          0.73938,
          0.58888,
          0.52674,
          0.53605,
          0.57934,
          0.5087,
          0.49204,
          0.58424,
          0.56023,
          0.56887,
          0.53396,
          0.5446,
          0.54321,
          0.51662,
          0.57224,
          0.57445,
          0.56321,
          0.61793,
          0.61728,
          0.5964,
          0.5853,
          0.58862,
          0.61568,
          0.72704,
          0.72348,
          0.47558,
          0.52735,
          0.52701,
          0.48179,
          0.50367,
          0.50946,
          0.57913,
          0.55573,
          0.5633,
          0.46546,
          0.53773,
          0.53523,
          0.48879,
          0.56959,
          0.58494,
          0.6829,
          0.61576,
          0.61586,
          0.57657,
          0.57445,
          0.5855,
          0.59799,
          0.7235,
          0.73612,
          0.53151,
          0.51491,
          0.52081,
          0.52412,
          0.49944,
          0.48846,
          0.53121,
          0.55204,
          0.57113,
          0.53506,
          0.53071,
          0.53048,
          0.48107,
          0.57644,
          0.57533,
          0.50381,
          0.58181,
          0.59076,
          0.53339,
          0.57555,
          0.56712,
          0.53025,
          0.72152,
          0.73686,
          0.53487,
          0.52844,
          0.53033,
          0.47867,
          0.48601,
          0.48644,
          0.60525,
          0.56059,
          0.57352,
          0.43144,
          0.53155,
          0.54427,
          0.4792,
          0.57191,
          0.5737,
          0.54498,
          0.6104,
          0.59594,
          0.52438,
          0.57364,
          0.56792,
          0.46536,
          0.69263,
          0.73661,
          0.41543,
          0.514,
          0.51251,
          0.44199,
          0.49864,
          0.48916,
          0.42443,
          0.47616,
          0.56339,
          0.39745,
          0.53217,
          0.51796,
          0.40078,
          0.56014,
          0.56076,
          0.45124,
          0.59888,
          0.59625,
          0.39812,
          0.56944,
          0.54952,
          0,
          0.70387,
          0.71979,
          0.47304,
          0.50821,
          0.50719,
          0.41869,
          0.4881,
          0.46094,
          0.41018,
          0.54515,
          0.5511,
          0.61751,
          0.52213,
          0.50505,
          0.43501,
          0.56811,
          0.54,
          0.44628,
          0.61164,
          0.5962,
          0.46602,
          0.54636,
          0.53667,
          0.37861,
          0.72309,
          0.65725,
          0.42513,
          0.5696,
          0.50906,
          0.40174,
          0.48403,
          0.43059,
          0.45466,
          0.47358,
          0.56334,
          0.37239,
          0.51891,
          0.49274,
          0.37363,
          0.51825,
          0.53056,
          0.53879,
          0.59001,
          0.60408,
          0.13154,
          0.52551,
          0.54711,
          0.35662,
          0.71071,
          0.70152,
          0.48439,
          0.49561,
          0.4993,
          0.40568,
          0.45852,
          0.47198,
          0.36653,
          0.47189,
          0.55015,
          0.39763,
          0.48286,
          0.45953,
          0.38367,
          0.52923,
          0.54459,
          0.42455,
          0.59554,
          0.59642,
          0.45926,
          0.54134,
          0.54503,
          0.3853,
          0.68837,
          0.69834,
          0.37655,
          0.51061,
          0.49045,
          0.39596,
          0.47469,
          0.46075,
          0.37226,
          0.54153,
          0.54149,
          0.38764,
          0.45816,
          0.45711,
          0.40549,
          0.52864,
          0.49129,
          0.38938,
          0.5076,
          0.58964,
          0.4613,
          0.55831,
          0.56197,
          0.45998,
          0.65459,
          0.69799,
          0.4025,
          0.56171,
          0.48196,
          0.38169,
          0.47182,
          0.44515,
          0.36525,
          0.41697,
          0.55358,
          0.35804,
          0.42465,
          0.46973,
          0.37917,
          0.50268,
          0.53752,
          0.43356,
          0.55608,
          0.57924,
          0.37159,
          0.49424,
          0.5484,
          0.36777,
          0.54408,
          0.69408,
          0.46743,
          0.45641,
          0.50271,
          0.45291,
          0.41109,
          0.46705,
          0.39645,
          0.46933,
          0.52297,
          0.36285,
          0.44671,
          0.45052,
          0.37162,
          0.49448,
          0.53743,
          0.42311,
          0.5793,
          0.57936,
          0.46819,
          0.51113,
          0.54053,
          0.38228,
          0.49768,
          0.68813,
          0.47633,
          0.48979,
          0.48129,
          0.49997,
          0.44139,
          0.44618,
          0.36292,
          0.41766,
          0.50343,
          0.43383,
          0.42749,
          0.45946,
          0.38529,
          0.50141,
          0.50918,
          0.36908,
          0.55159,
          0.56317,
          0.1902,
          0.44492,
          0.51928,
          0.43481,
          0.57882,
          0.65053,
          0.40982,
          0.47212,
          0.45945,
          0.39634,
          0.38166,
          0.43315,
          0.40416,
          0.48112,
          0.47892,
          0.37896,
          0.42536,
          0.43408,
          0.37725,
          0.45575,
          0.48834,
          0.4212,
          0.55742,
          0.5817,
          0.46052,
          0.70415,
          0.74289,
          0.70641,
          0.66179,
          0.56906,
          0.53858,
          0.70078,
          0.6114
         ],
         "y0": " ",
         "yaxis": "y"
        }
       ],
       "layout": {
        "boxmode": "group",
        "legend": {
         "tracegroupgap": 0
        },
        "template": {
         "data": {
          "bar": [
           {
            "error_x": {
             "color": "#2a3f5f"
            },
            "error_y": {
             "color": "#2a3f5f"
            },
            "marker": {
             "line": {
              "color": "#E5ECF6",
              "width": 0.5
             },
             "pattern": {
              "fillmode": "overlay",
              "size": 10,
              "solidity": 0.2
             }
            },
            "type": "bar"
           }
          ],
          "barpolar": [
           {
            "marker": {
             "line": {
              "color": "#E5ECF6",
              "width": 0.5
             },
             "pattern": {
              "fillmode": "overlay",
              "size": 10,
              "solidity": 0.2
             }
            },
            "type": "barpolar"
           }
          ],
          "carpet": [
           {
            "aaxis": {
             "endlinecolor": "#2a3f5f",
             "gridcolor": "white",
             "linecolor": "white",
             "minorgridcolor": "white",
             "startlinecolor": "#2a3f5f"
            },
            "baxis": {
             "endlinecolor": "#2a3f5f",
             "gridcolor": "white",
             "linecolor": "white",
             "minorgridcolor": "white",
             "startlinecolor": "#2a3f5f"
            },
            "type": "carpet"
           }
          ],
          "choropleth": [
           {
            "colorbar": {
             "outlinewidth": 0,
             "ticks": ""
            },
            "type": "choropleth"
           }
          ],
          "contour": [
           {
            "colorbar": {
             "outlinewidth": 0,
             "ticks": ""
            },
            "colorscale": [
             [
              0,
              "#0d0887"
             ],
             [
              0.1111111111111111,
              "#46039f"
             ],
             [
              0.2222222222222222,
              "#7201a8"
             ],
             [
              0.3333333333333333,
              "#9c179e"
             ],
             [
              0.4444444444444444,
              "#bd3786"
             ],
             [
              0.5555555555555556,
              "#d8576b"
             ],
             [
              0.6666666666666666,
              "#ed7953"
             ],
             [
              0.7777777777777778,
              "#fb9f3a"
             ],
             [
              0.8888888888888888,
              "#fdca26"
             ],
             [
              1,
              "#f0f921"
             ]
            ],
            "type": "contour"
           }
          ],
          "contourcarpet": [
           {
            "colorbar": {
             "outlinewidth": 0,
             "ticks": ""
            },
            "type": "contourcarpet"
           }
          ],
          "heatmap": [
           {
            "colorbar": {
             "outlinewidth": 0,
             "ticks": ""
            },
            "colorscale": [
             [
              0,
              "#0d0887"
             ],
             [
              0.1111111111111111,
              "#46039f"
             ],
             [
              0.2222222222222222,
              "#7201a8"
             ],
             [
              0.3333333333333333,
              "#9c179e"
             ],
             [
              0.4444444444444444,
              "#bd3786"
             ],
             [
              0.5555555555555556,
              "#d8576b"
             ],
             [
              0.6666666666666666,
              "#ed7953"
             ],
             [
              0.7777777777777778,
              "#fb9f3a"
             ],
             [
              0.8888888888888888,
              "#fdca26"
             ],
             [
              1,
              "#f0f921"
             ]
            ],
            "type": "heatmap"
           }
          ],
          "heatmapgl": [
           {
            "colorbar": {
             "outlinewidth": 0,
             "ticks": ""
            },
            "colorscale": [
             [
              0,
              "#0d0887"
             ],
             [
              0.1111111111111111,
              "#46039f"
             ],
             [
              0.2222222222222222,
              "#7201a8"
             ],
             [
              0.3333333333333333,
              "#9c179e"
             ],
             [
              0.4444444444444444,
              "#bd3786"
             ],
             [
              0.5555555555555556,
              "#d8576b"
             ],
             [
              0.6666666666666666,
              "#ed7953"
             ],
             [
              0.7777777777777778,
              "#fb9f3a"
             ],
             [
              0.8888888888888888,
              "#fdca26"
             ],
             [
              1,
              "#f0f921"
             ]
            ],
            "type": "heatmapgl"
           }
          ],
          "histogram": [
           {
            "marker": {
             "pattern": {
              "fillmode": "overlay",
              "size": 10,
              "solidity": 0.2
             }
            },
            "type": "histogram"
           }
          ],
          "histogram2d": [
           {
            "colorbar": {
             "outlinewidth": 0,
             "ticks": ""
            },
            "colorscale": [
             [
              0,
              "#0d0887"
             ],
             [
              0.1111111111111111,
              "#46039f"
             ],
             [
              0.2222222222222222,
              "#7201a8"
             ],
             [
              0.3333333333333333,
              "#9c179e"
             ],
             [
              0.4444444444444444,
              "#bd3786"
             ],
             [
              0.5555555555555556,
              "#d8576b"
             ],
             [
              0.6666666666666666,
              "#ed7953"
             ],
             [
              0.7777777777777778,
              "#fb9f3a"
             ],
             [
              0.8888888888888888,
              "#fdca26"
             ],
             [
              1,
              "#f0f921"
             ]
            ],
            "type": "histogram2d"
           }
          ],
          "histogram2dcontour": [
           {
            "colorbar": {
             "outlinewidth": 0,
             "ticks": ""
            },
            "colorscale": [
             [
              0,
              "#0d0887"
             ],
             [
              0.1111111111111111,
              "#46039f"
             ],
             [
              0.2222222222222222,
              "#7201a8"
             ],
             [
              0.3333333333333333,
              "#9c179e"
             ],
             [
              0.4444444444444444,
              "#bd3786"
             ],
             [
              0.5555555555555556,
              "#d8576b"
             ],
             [
              0.6666666666666666,
              "#ed7953"
             ],
             [
              0.7777777777777778,
              "#fb9f3a"
             ],
             [
              0.8888888888888888,
              "#fdca26"
             ],
             [
              1,
              "#f0f921"
             ]
            ],
            "type": "histogram2dcontour"
           }
          ],
          "mesh3d": [
           {
            "colorbar": {
             "outlinewidth": 0,
             "ticks": ""
            },
            "type": "mesh3d"
           }
          ],
          "parcoords": [
           {
            "line": {
             "colorbar": {
              "outlinewidth": 0,
              "ticks": ""
             }
            },
            "type": "parcoords"
           }
          ],
          "pie": [
           {
            "automargin": true,
            "type": "pie"
           }
          ],
          "scatter": [
           {
            "fillpattern": {
             "fillmode": "overlay",
             "size": 10,
             "solidity": 0.2
            },
            "type": "scatter"
           }
          ],
          "scatter3d": [
           {
            "line": {
             "colorbar": {
              "outlinewidth": 0,
              "ticks": ""
             }
            },
            "marker": {
             "colorbar": {
              "outlinewidth": 0,
              "ticks": ""
             }
            },
            "type": "scatter3d"
           }
          ],
          "scattercarpet": [
           {
            "marker": {
             "colorbar": {
              "outlinewidth": 0,
              "ticks": ""
             }
            },
            "type": "scattercarpet"
           }
          ],
          "scattergeo": [
           {
            "marker": {
             "colorbar": {
              "outlinewidth": 0,
              "ticks": ""
             }
            },
            "type": "scattergeo"
           }
          ],
          "scattergl": [
           {
            "marker": {
             "colorbar": {
              "outlinewidth": 0,
              "ticks": ""
             }
            },
            "type": "scattergl"
           }
          ],
          "scattermapbox": [
           {
            "marker": {
             "colorbar": {
              "outlinewidth": 0,
              "ticks": ""
             }
            },
            "type": "scattermapbox"
           }
          ],
          "scatterpolar": [
           {
            "marker": {
             "colorbar": {
              "outlinewidth": 0,
              "ticks": ""
             }
            },
            "type": "scatterpolar"
           }
          ],
          "scatterpolargl": [
           {
            "marker": {
             "colorbar": {
              "outlinewidth": 0,
              "ticks": ""
             }
            },
            "type": "scatterpolargl"
           }
          ],
          "scatterternary": [
           {
            "marker": {
             "colorbar": {
              "outlinewidth": 0,
              "ticks": ""
             }
            },
            "type": "scatterternary"
           }
          ],
          "surface": [
           {
            "colorbar": {
             "outlinewidth": 0,
             "ticks": ""
            },
            "colorscale": [
             [
              0,
              "#0d0887"
             ],
             [
              0.1111111111111111,
              "#46039f"
             ],
             [
              0.2222222222222222,
              "#7201a8"
             ],
             [
              0.3333333333333333,
              "#9c179e"
             ],
             [
              0.4444444444444444,
              "#bd3786"
             ],
             [
              0.5555555555555556,
              "#d8576b"
             ],
             [
              0.6666666666666666,
              "#ed7953"
             ],
             [
              0.7777777777777778,
              "#fb9f3a"
             ],
             [
              0.8888888888888888,
              "#fdca26"
             ],
             [
              1,
              "#f0f921"
             ]
            ],
            "type": "surface"
           }
          ],
          "table": [
           {
            "cells": {
             "fill": {
              "color": "#EBF0F8"
             },
             "line": {
              "color": "white"
             }
            },
            "header": {
             "fill": {
              "color": "#C8D4E3"
             },
             "line": {
              "color": "white"
             }
            },
            "type": "table"
           }
          ]
         },
         "layout": {
          "annotationdefaults": {
           "arrowcolor": "#2a3f5f",
           "arrowhead": 0,
           "arrowwidth": 1
          },
          "autotypenumbers": "strict",
          "coloraxis": {
           "colorbar": {
            "outlinewidth": 0,
            "ticks": ""
           }
          },
          "colorscale": {
           "diverging": [
            [
             0,
             "#8e0152"
            ],
            [
             0.1,
             "#c51b7d"
            ],
            [
             0.2,
             "#de77ae"
            ],
            [
             0.3,
             "#f1b6da"
            ],
            [
             0.4,
             "#fde0ef"
            ],
            [
             0.5,
             "#f7f7f7"
            ],
            [
             0.6,
             "#e6f5d0"
            ],
            [
             0.7,
             "#b8e186"
            ],
            [
             0.8,
             "#7fbc41"
            ],
            [
             0.9,
             "#4d9221"
            ],
            [
             1,
             "#276419"
            ]
           ],
           "sequential": [
            [
             0,
             "#0d0887"
            ],
            [
             0.1111111111111111,
             "#46039f"
            ],
            [
             0.2222222222222222,
             "#7201a8"
            ],
            [
             0.3333333333333333,
             "#9c179e"
            ],
            [
             0.4444444444444444,
             "#bd3786"
            ],
            [
             0.5555555555555556,
             "#d8576b"
            ],
            [
             0.6666666666666666,
             "#ed7953"
            ],
            [
             0.7777777777777778,
             "#fb9f3a"
            ],
            [
             0.8888888888888888,
             "#fdca26"
            ],
            [
             1,
             "#f0f921"
            ]
           ],
           "sequentialminus": [
            [
             0,
             "#0d0887"
            ],
            [
             0.1111111111111111,
             "#46039f"
            ],
            [
             0.2222222222222222,
             "#7201a8"
            ],
            [
             0.3333333333333333,
             "#9c179e"
            ],
            [
             0.4444444444444444,
             "#bd3786"
            ],
            [
             0.5555555555555556,
             "#d8576b"
            ],
            [
             0.6666666666666666,
             "#ed7953"
            ],
            [
             0.7777777777777778,
             "#fb9f3a"
            ],
            [
             0.8888888888888888,
             "#fdca26"
            ],
            [
             1,
             "#f0f921"
            ]
           ]
          },
          "colorway": [
           "#636efa",
           "#EF553B",
           "#00cc96",
           "#ab63fa",
           "#FFA15A",
           "#19d3f3",
           "#FF6692",
           "#B6E880",
           "#FF97FF",
           "#FECB52"
          ],
          "font": {
           "color": "#2a3f5f"
          },
          "geo": {
           "bgcolor": "white",
           "lakecolor": "white",
           "landcolor": "#E5ECF6",
           "showlakes": true,
           "showland": true,
           "subunitcolor": "white"
          },
          "hoverlabel": {
           "align": "left"
          },
          "hovermode": "closest",
          "mapbox": {
           "style": "light"
          },
          "paper_bgcolor": "white",
          "plot_bgcolor": "#E5ECF6",
          "polar": {
           "angularaxis": {
            "gridcolor": "white",
            "linecolor": "white",
            "ticks": ""
           },
           "bgcolor": "#E5ECF6",
           "radialaxis": {
            "gridcolor": "white",
            "linecolor": "white",
            "ticks": ""
           }
          },
          "scene": {
           "xaxis": {
            "backgroundcolor": "#E5ECF6",
            "gridcolor": "white",
            "gridwidth": 2,
            "linecolor": "white",
            "showbackground": true,
            "ticks": "",
            "zerolinecolor": "white"
           },
           "yaxis": {
            "backgroundcolor": "#E5ECF6",
            "gridcolor": "white",
            "gridwidth": 2,
            "linecolor": "white",
            "showbackground": true,
            "ticks": "",
            "zerolinecolor": "white"
           },
           "zaxis": {
            "backgroundcolor": "#E5ECF6",
            "gridcolor": "white",
            "gridwidth": 2,
            "linecolor": "white",
            "showbackground": true,
            "ticks": "",
            "zerolinecolor": "white"
           }
          },
          "shapedefaults": {
           "line": {
            "color": "#2a3f5f"
           }
          },
          "ternary": {
           "aaxis": {
            "gridcolor": "white",
            "linecolor": "white",
            "ticks": ""
           },
           "baxis": {
            "gridcolor": "white",
            "linecolor": "white",
            "ticks": ""
           },
           "bgcolor": "#E5ECF6",
           "caxis": {
            "gridcolor": "white",
            "linecolor": "white",
            "ticks": ""
           }
          },
          "title": {
           "x": 0.05
          },
          "xaxis": {
           "automargin": true,
           "gridcolor": "white",
           "linecolor": "white",
           "ticks": "",
           "title": {
            "standoff": 15
           },
           "zerolinecolor": "white",
           "zerolinewidth": 2
          },
          "yaxis": {
           "automargin": true,
           "gridcolor": "white",
           "linecolor": "white",
           "ticks": "",
           "title": {
            "standoff": 15
           },
           "zerolinecolor": "white",
           "zerolinewidth": 2
          }
         }
        },
        "title": {
         "text": "Distribuição dos resultados de f1 para os experimentos - label: k_7 | leak=False"
        },
        "xaxis": {
         "anchor": "y",
         "domain": [
          0,
          1
         ],
         "title": {
          "text": "model"
         }
        },
        "yaxis": {
         "anchor": "x",
         "domain": [
          0,
          1
         ],
         "title": {
          "text": "f1-score"
         }
        }
       }
      }
     },
     "metadata": {},
     "output_type": "display_data"
    },
    {
     "name": "stdout",
     "output_type": "stream",
     "text": [
      "label: meta_14 - leak: False\n"
     ]
    },
    {
     "data": {
      "application/vnd.plotly.v1+json": {
       "config": {
        "plotlyServerURL": "https://plot.ly"
       },
       "data": [
        {
         "alignmentgroup": "True",
         "boxpoints": "all",
         "hovertemplate": "model=%{x}<br>f1-score=%{y}<extra></extra>",
         "legendgroup": "",
         "marker": {
          "color": "#636efa"
         },
         "name": "",
         "notched": false,
         "offsetgroup": "",
         "orientation": "v",
         "showlegend": false,
         "type": "box",
         "x": [
          "LSTM_with_Attention",
          "MLP",
          "KAN",
          "LSTM_with_Attention",
          "MLP",
          "KAN",
          "LSTM_with_Attention",
          "MLP",
          "KAN",
          "LSTM_with_Attention",
          "MLP",
          "KAN",
          "LSTM_with_Attention",
          "MLP",
          "KAN",
          "LSTM_with_Attention",
          "MLP",
          "KAN",
          "LSTM_with_Attention",
          "MLP",
          "KAN",
          "LSTM_with_Attention",
          "MLP",
          "KAN",
          "LSTM_with_Attention",
          "MLP",
          "KAN",
          "LSTM_with_Attention",
          "MLP",
          "KAN",
          "LSTM_with_Attention",
          "MLP",
          "KAN",
          "LSTM_with_Attention",
          "MLP",
          "KAN",
          "LSTM_with_Attention",
          "MLP",
          "KAN",
          "LSTM_with_Attention",
          "MLP",
          "KAN",
          "LSTM_with_Attention",
          "MLP",
          "KAN",
          "LSTM_with_Attention",
          "MLP",
          "KAN",
          "LSTM_with_Attention",
          "MLP",
          "KAN",
          "LSTM_with_Attention",
          "MLP",
          "KAN",
          "LSTM_with_Attention",
          "MLP",
          "KAN",
          "LSTM_with_Attention",
          "MLP",
          "KAN",
          "LSTM_with_Attention",
          "MLP",
          "KAN",
          "LSTM_with_Attention",
          "MLP",
          "KAN",
          "LSTM_with_Attention",
          "MLP",
          "KAN",
          "LSTM_with_Attention",
          "MLP",
          "KAN",
          "LSTM_with_Attention",
          "MLP",
          "KAN",
          "LSTM_with_Attention",
          "MLP",
          "KAN",
          "LSTM_with_Attention",
          "MLP",
          "KAN",
          "LSTM_with_Attention",
          "MLP",
          "KAN",
          "LSTM_with_Attention",
          "MLP",
          "KAN",
          "LSTM_with_Attention",
          "MLP",
          "KAN",
          "LSTM_with_Attention",
          "MLP",
          "KAN",
          "LSTM_with_Attention",
          "MLP",
          "KAN",
          "LSTM_with_Attention",
          "MLP",
          "KAN",
          "LSTM_with_Attention",
          "MLP",
          "KAN",
          "LSTM_with_Attention",
          "MLP",
          "KAN",
          "LSTM_with_Attention",
          "MLP",
          "KAN",
          "LSTM_with_Attention",
          "MLP",
          "KAN",
          "LSTM_with_Attention",
          "MLP",
          "KAN",
          "LSTM_with_Attention",
          "MLP",
          "KAN",
          "LSTM_with_Attention",
          "MLP",
          "KAN",
          "LSTM_with_Attention",
          "MLP",
          "KAN",
          "LSTM_with_Attention",
          "MLP",
          "KAN",
          "LSTM_with_Attention",
          "MLP",
          "KAN",
          "LSTM_with_Attention",
          "MLP",
          "KAN",
          "LSTM_with_Attention",
          "MLP",
          "KAN",
          "LSTM_with_Attention",
          "MLP",
          "KAN",
          "LSTM_with_Attention",
          "MLP",
          "KAN",
          "LSTM_with_Attention",
          "MLP",
          "KAN",
          "LSTM_with_Attention",
          "MLP",
          "KAN",
          "LSTM_with_Attention",
          "MLP",
          "KAN",
          "LSTM_with_Attention",
          "MLP",
          "KAN",
          "LSTM_with_Attention",
          "MLP",
          "KAN",
          "LSTM_with_Attention",
          "MLP",
          "KAN",
          "LSTM_with_Attention",
          "MLP",
          "KAN",
          "LSTM_with_Attention",
          "MLP",
          "KAN",
          "LSTM_with_Attention",
          "MLP",
          "KAN",
          "LSTM_with_Attention",
          "MLP",
          "KAN",
          "LSTM_with_Attention",
          "MLP",
          "KAN",
          "LSTM_with_Attention",
          "MLP",
          "KAN",
          "LSTM_with_Attention",
          "MLP",
          "KAN",
          "LSTM_with_Attention",
          "MLP",
          "KAN",
          "LSTM_with_Attention",
          "MLP",
          "KAN",
          "LSTM_with_Attention",
          "MLP",
          "KAN",
          "LSTM_with_Attention",
          "MLP",
          "KAN",
          "LSTM_with_Attention",
          "MLP",
          "KAN",
          "LSTM_with_Attention",
          "MLP",
          "KAN",
          "LSTM_with_Attention",
          "MLP",
          "KAN",
          "LSTM_with_Attention",
          "MLP",
          "KAN",
          "LSTM_with_Attention",
          "MLP",
          "KAN",
          "LSTM_with_Attention",
          "MLP",
          "KAN",
          "LSTM_with_Attention",
          "MLP",
          "KAN",
          "LSTM_with_Attention",
          "MLP",
          "KAN",
          "LSTM_with_Attention",
          "MLP",
          "KAN",
          "LSTM_with_Attention",
          "MLP",
          "KAN",
          "LSTM_with_Attention",
          "MLP",
          "KAN",
          "LSTM_with_Attention",
          "MLP",
          "KAN",
          "LSTM_with_Attention",
          "MLP",
          "KAN",
          "LSTM_with_Attention",
          "MLP",
          "KAN",
          "LSTM_with_Attention",
          "MLP",
          "KAN",
          "LSTM_with_Attention",
          "MLP",
          "KAN",
          "LSTM_with_Attention",
          "MLP",
          "KAN",
          "LSTM_with_Attention",
          "MLP",
          "KAN",
          "LSTM_with_Attention",
          "MLP",
          "KAN",
          "LSTM_with_Attention",
          "MLP",
          "KAN",
          "LSTM_with_Attention",
          "MLP",
          "KAN",
          "LSTM_with_Attention",
          "MLP",
          "KAN",
          "LSTM_with_Attention",
          "MLP",
          "KAN",
          "LSTM_with_Attention",
          "MLP",
          "KAN",
          "LSTM_with_Attention",
          "MLP",
          "KAN",
          "LSTM_with_Attention",
          "MLP",
          "KAN",
          "LSTM_with_Attention",
          "MLP",
          "KAN",
          "LSTM_with_Attention",
          "MLP",
          "KAN",
          "LSTM_with_Attention",
          "MLP",
          "KAN",
          "LSTM_with_Attention",
          "MLP",
          "KAN",
          "LSTM_with_Attention",
          "MLP",
          "KAN",
          "LSTM_with_Attention",
          "MLP",
          "KAN",
          "LSTM_with_Attention",
          "MLP",
          "KAN",
          "LSTM_with_Attention",
          "MLP",
          "KAN",
          "LSTM_with_Attention",
          "MLP",
          "KAN",
          "LSTM_with_Attention",
          "MLP",
          "KAN",
          "LSTM_with_Attention",
          "MLP",
          "KAN",
          "LSTM_with_Attention",
          "MLP",
          "KAN",
          "LSTM_with_Attention",
          "MLP",
          "KAN",
          "LSTM_with_Attention",
          "MLP",
          "KAN",
          "LSTM_with_Attention",
          "MLP",
          "KAN",
          "LSTM_with_Attention",
          "MLP",
          "KAN",
          "LSTM_with_Attention",
          "MLP",
          "KAN",
          "LSTM_with_Attention",
          "MLP",
          "KAN",
          "LSTM_with_Attention",
          "MLP",
          "KAN",
          "LSTM_with_Attention",
          "MLP",
          "KAN",
          "LSTM_with_Attention",
          "MLP",
          "KAN",
          "LSTM_with_Attention",
          "MLP",
          "KAN",
          "LSTM_with_Attention",
          "MLP",
          "KAN",
          "LSTM_with_Attention",
          "MLP",
          "KAN",
          "LSTM_with_Attention",
          "MLP",
          "KAN",
          "LSTM_with_Attention",
          "MLP",
          "KAN",
          "LSTM_with_Attention",
          "MLP",
          "KAN",
          "LSTM_with_Attention",
          "MLP",
          "KAN",
          "LSTM_with_Attention",
          "MLP",
          "KAN",
          "LSTM_with_Attention",
          "MLP",
          "KAN",
          "LSTM_with_Attention",
          "MLP",
          "KAN",
          "LSTM_with_Attention",
          "MLP",
          "KAN",
          "LSTM_with_Attention",
          "MLP",
          "KAN",
          "LSTM_with_Attention",
          "MLP",
          "KAN",
          "LSTM_with_Attention",
          "MLP",
          "KAN",
          "LSTM_with_Attention",
          "MLP",
          "KAN",
          "LSTM_with_Attention",
          "MLP",
          "KAN",
          "LSTM_with_Attention",
          "MLP",
          "KAN",
          "Dummy_model",
          "Dummy_model",
          "Dummy_model",
          "Dummy_model",
          "Dummy_model",
          "Dummy_model",
          "Dummy_model",
          "Dummy_model"
         ],
         "x0": " ",
         "xaxis": "x",
         "y": [
          0.59319,
          0.59319,
          0.13019,
          0.74289,
          0.74289,
          0.57556,
          0.54123,
          0.54123,
          0.3228,
          0.52386,
          0.52386,
          0.12013,
          0.57072,
          0.57072,
          0.25097,
          0.54373,
          0.54373,
          0.11459,
          0.58993,
          0.58993,
          0.0516,
          0.61961,
          0.61961,
          0.0686,
          0.57408,
          0.57229,
          0.57647,
          0.7422,
          0.74289,
          0.74289,
          0.53682,
          0.53682,
          0.64306,
          0.5224,
          0.49867,
          0.41204,
          0.56023,
          0.56084,
          0.1497,
          0.54234,
          0.54373,
          0.53872,
          0.59122,
          0.56433,
          0.63135,
          0.61902,
          0.61961,
          0.36881,
          0.58706,
          0.57706,
          0.57652,
          0.73947,
          0.74015,
          0.7389,
          0.53371,
          0.53682,
          0.69573,
          0.50641,
          0.50524,
          0.60619,
          0.56023,
          0.55687,
          0.4664,
          0.54313,
          0.5446,
          0.52965,
          0.56249,
          0.58324,
          0.65306,
          0.61961,
          0.61793,
          0.6032,
          0.58021,
          0.57646,
          0.70115,
          0.73801,
          0.73938,
          0.58888,
          0.52674,
          0.53605,
          0.57934,
          0.5087,
          0.49204,
          0.58424,
          0.56023,
          0.56887,
          0.53396,
          0.5446,
          0.54321,
          0.51662,
          0.57224,
          0.57445,
          0.56321,
          0.61793,
          0.61728,
          0.5964,
          0.5853,
          0.58862,
          0.61568,
          0.72704,
          0.72348,
          0.47558,
          0.52735,
          0.52701,
          0.48179,
          0.50367,
          0.50946,
          0.57913,
          0.55573,
          0.5633,
          0.46546,
          0.53773,
          0.53523,
          0.48879,
          0.56959,
          0.58494,
          0.6829,
          0.61576,
          0.61586,
          0.57657,
          0.57445,
          0.5855,
          0.59799,
          0.7235,
          0.73612,
          0.53151,
          0.51491,
          0.52081,
          0.52412,
          0.49944,
          0.48846,
          0.53121,
          0.55204,
          0.57113,
          0.53506,
          0.53071,
          0.53048,
          0.48107,
          0.57644,
          0.57533,
          0.50381,
          0.58181,
          0.59076,
          0.53339,
          0.57555,
          0.56712,
          0.53025,
          0.72152,
          0.73686,
          0.53487,
          0.52844,
          0.53033,
          0.47867,
          0.48601,
          0.48644,
          0.60525,
          0.56059,
          0.57352,
          0.43144,
          0.53155,
          0.54427,
          0.4792,
          0.57191,
          0.5737,
          0.54498,
          0.6104,
          0.59594,
          0.52438,
          0.57364,
          0.56792,
          0.46536,
          0.69263,
          0.73661,
          0.41543,
          0.514,
          0.51251,
          0.44199,
          0.49864,
          0.48916,
          0.42443,
          0.47616,
          0.56339,
          0.39745,
          0.53217,
          0.51796,
          0.40078,
          0.56014,
          0.56076,
          0.45124,
          0.59888,
          0.59625,
          0.39812,
          0.56944,
          0.54952,
          0,
          0.70387,
          0.71979,
          0.47304,
          0.50821,
          0.50719,
          0.41869,
          0.4881,
          0.46094,
          0.41018,
          0.54515,
          0.5511,
          0.61751,
          0.52213,
          0.50505,
          0.43501,
          0.56811,
          0.54,
          0.44628,
          0.61164,
          0.5962,
          0.46602,
          0.54636,
          0.53667,
          0.37861,
          0.72309,
          0.65725,
          0.42513,
          0.5696,
          0.50906,
          0.40174,
          0.48403,
          0.43059,
          0.45466,
          0.47358,
          0.56334,
          0.37239,
          0.51891,
          0.49274,
          0.37363,
          0.51825,
          0.53056,
          0.53879,
          0.59001,
          0.60408,
          0.13154,
          0.52551,
          0.54711,
          0.35662,
          0.71071,
          0.70152,
          0.48439,
          0.49561,
          0.4993,
          0.40568,
          0.45852,
          0.47198,
          0.36653,
          0.47189,
          0.55015,
          0.39763,
          0.48286,
          0.45953,
          0.38367,
          0.52923,
          0.54459,
          0.42455,
          0.59554,
          0.59642,
          0.45926,
          0.54134,
          0.54503,
          0.3853,
          0.68837,
          0.69834,
          0.37655,
          0.51061,
          0.49045,
          0.39596,
          0.47469,
          0.46075,
          0.37226,
          0.54153,
          0.54149,
          0.38764,
          0.45816,
          0.45711,
          0.40549,
          0.52864,
          0.49129,
          0.38938,
          0.5076,
          0.58964,
          0.4613,
          0.55831,
          0.56197,
          0.45998,
          0.65459,
          0.69799,
          0.4025,
          0.56171,
          0.48196,
          0.38169,
          0.47182,
          0.44515,
          0.36525,
          0.41697,
          0.55358,
          0.35804,
          0.42465,
          0.46973,
          0.37917,
          0.50268,
          0.53752,
          0.43356,
          0.55608,
          0.57924,
          0.37159,
          0.49424,
          0.5484,
          0.36777,
          0.54408,
          0.69408,
          0.46743,
          0.45641,
          0.50271,
          0.45291,
          0.41109,
          0.46705,
          0.39645,
          0.46933,
          0.52297,
          0.36285,
          0.44671,
          0.45052,
          0.37162,
          0.49448,
          0.53743,
          0.42311,
          0.5793,
          0.57936,
          0.46819,
          0.51113,
          0.54053,
          0.38228,
          0.49768,
          0.68813,
          0.47633,
          0.48979,
          0.48129,
          0.49997,
          0.44139,
          0.44618,
          0.36292,
          0.41766,
          0.50343,
          0.43383,
          0.42749,
          0.45946,
          0.38529,
          0.50141,
          0.50918,
          0.36908,
          0.55159,
          0.56317,
          0.1902,
          0.44492,
          0.51928,
          0.43481,
          0.57882,
          0.65053,
          0.40982,
          0.47212,
          0.45945,
          0.39634,
          0.38166,
          0.43315,
          0.40416,
          0.48112,
          0.47892,
          0.37896,
          0.42536,
          0.43408,
          0.37725,
          0.45575,
          0.48834,
          0.4212,
          0.55742,
          0.5817,
          0.46052,
          0.70415,
          0.74289,
          0.70641,
          0.66179,
          0.56906,
          0.53858,
          0.70078,
          0.6114
         ],
         "y0": " ",
         "yaxis": "y"
        }
       ],
       "layout": {
        "boxmode": "group",
        "legend": {
         "tracegroupgap": 0
        },
        "template": {
         "data": {
          "bar": [
           {
            "error_x": {
             "color": "#2a3f5f"
            },
            "error_y": {
             "color": "#2a3f5f"
            },
            "marker": {
             "line": {
              "color": "#E5ECF6",
              "width": 0.5
             },
             "pattern": {
              "fillmode": "overlay",
              "size": 10,
              "solidity": 0.2
             }
            },
            "type": "bar"
           }
          ],
          "barpolar": [
           {
            "marker": {
             "line": {
              "color": "#E5ECF6",
              "width": 0.5
             },
             "pattern": {
              "fillmode": "overlay",
              "size": 10,
              "solidity": 0.2
             }
            },
            "type": "barpolar"
           }
          ],
          "carpet": [
           {
            "aaxis": {
             "endlinecolor": "#2a3f5f",
             "gridcolor": "white",
             "linecolor": "white",
             "minorgridcolor": "white",
             "startlinecolor": "#2a3f5f"
            },
            "baxis": {
             "endlinecolor": "#2a3f5f",
             "gridcolor": "white",
             "linecolor": "white",
             "minorgridcolor": "white",
             "startlinecolor": "#2a3f5f"
            },
            "type": "carpet"
           }
          ],
          "choropleth": [
           {
            "colorbar": {
             "outlinewidth": 0,
             "ticks": ""
            },
            "type": "choropleth"
           }
          ],
          "contour": [
           {
            "colorbar": {
             "outlinewidth": 0,
             "ticks": ""
            },
            "colorscale": [
             [
              0,
              "#0d0887"
             ],
             [
              0.1111111111111111,
              "#46039f"
             ],
             [
              0.2222222222222222,
              "#7201a8"
             ],
             [
              0.3333333333333333,
              "#9c179e"
             ],
             [
              0.4444444444444444,
              "#bd3786"
             ],
             [
              0.5555555555555556,
              "#d8576b"
             ],
             [
              0.6666666666666666,
              "#ed7953"
             ],
             [
              0.7777777777777778,
              "#fb9f3a"
             ],
             [
              0.8888888888888888,
              "#fdca26"
             ],
             [
              1,
              "#f0f921"
             ]
            ],
            "type": "contour"
           }
          ],
          "contourcarpet": [
           {
            "colorbar": {
             "outlinewidth": 0,
             "ticks": ""
            },
            "type": "contourcarpet"
           }
          ],
          "heatmap": [
           {
            "colorbar": {
             "outlinewidth": 0,
             "ticks": ""
            },
            "colorscale": [
             [
              0,
              "#0d0887"
             ],
             [
              0.1111111111111111,
              "#46039f"
             ],
             [
              0.2222222222222222,
              "#7201a8"
             ],
             [
              0.3333333333333333,
              "#9c179e"
             ],
             [
              0.4444444444444444,
              "#bd3786"
             ],
             [
              0.5555555555555556,
              "#d8576b"
             ],
             [
              0.6666666666666666,
              "#ed7953"
             ],
             [
              0.7777777777777778,
              "#fb9f3a"
             ],
             [
              0.8888888888888888,
              "#fdca26"
             ],
             [
              1,
              "#f0f921"
             ]
            ],
            "type": "heatmap"
           }
          ],
          "heatmapgl": [
           {
            "colorbar": {
             "outlinewidth": 0,
             "ticks": ""
            },
            "colorscale": [
             [
              0,
              "#0d0887"
             ],
             [
              0.1111111111111111,
              "#46039f"
             ],
             [
              0.2222222222222222,
              "#7201a8"
             ],
             [
              0.3333333333333333,
              "#9c179e"
             ],
             [
              0.4444444444444444,
              "#bd3786"
             ],
             [
              0.5555555555555556,
              "#d8576b"
             ],
             [
              0.6666666666666666,
              "#ed7953"
             ],
             [
              0.7777777777777778,
              "#fb9f3a"
             ],
             [
              0.8888888888888888,
              "#fdca26"
             ],
             [
              1,
              "#f0f921"
             ]
            ],
            "type": "heatmapgl"
           }
          ],
          "histogram": [
           {
            "marker": {
             "pattern": {
              "fillmode": "overlay",
              "size": 10,
              "solidity": 0.2
             }
            },
            "type": "histogram"
           }
          ],
          "histogram2d": [
           {
            "colorbar": {
             "outlinewidth": 0,
             "ticks": ""
            },
            "colorscale": [
             [
              0,
              "#0d0887"
             ],
             [
              0.1111111111111111,
              "#46039f"
             ],
             [
              0.2222222222222222,
              "#7201a8"
             ],
             [
              0.3333333333333333,
              "#9c179e"
             ],
             [
              0.4444444444444444,
              "#bd3786"
             ],
             [
              0.5555555555555556,
              "#d8576b"
             ],
             [
              0.6666666666666666,
              "#ed7953"
             ],
             [
              0.7777777777777778,
              "#fb9f3a"
             ],
             [
              0.8888888888888888,
              "#fdca26"
             ],
             [
              1,
              "#f0f921"
             ]
            ],
            "type": "histogram2d"
           }
          ],
          "histogram2dcontour": [
           {
            "colorbar": {
             "outlinewidth": 0,
             "ticks": ""
            },
            "colorscale": [
             [
              0,
              "#0d0887"
             ],
             [
              0.1111111111111111,
              "#46039f"
             ],
             [
              0.2222222222222222,
              "#7201a8"
             ],
             [
              0.3333333333333333,
              "#9c179e"
             ],
             [
              0.4444444444444444,
              "#bd3786"
             ],
             [
              0.5555555555555556,
              "#d8576b"
             ],
             [
              0.6666666666666666,
              "#ed7953"
             ],
             [
              0.7777777777777778,
              "#fb9f3a"
             ],
             [
              0.8888888888888888,
              "#fdca26"
             ],
             [
              1,
              "#f0f921"
             ]
            ],
            "type": "histogram2dcontour"
           }
          ],
          "mesh3d": [
           {
            "colorbar": {
             "outlinewidth": 0,
             "ticks": ""
            },
            "type": "mesh3d"
           }
          ],
          "parcoords": [
           {
            "line": {
             "colorbar": {
              "outlinewidth": 0,
              "ticks": ""
             }
            },
            "type": "parcoords"
           }
          ],
          "pie": [
           {
            "automargin": true,
            "type": "pie"
           }
          ],
          "scatter": [
           {
            "fillpattern": {
             "fillmode": "overlay",
             "size": 10,
             "solidity": 0.2
            },
            "type": "scatter"
           }
          ],
          "scatter3d": [
           {
            "line": {
             "colorbar": {
              "outlinewidth": 0,
              "ticks": ""
             }
            },
            "marker": {
             "colorbar": {
              "outlinewidth": 0,
              "ticks": ""
             }
            },
            "type": "scatter3d"
           }
          ],
          "scattercarpet": [
           {
            "marker": {
             "colorbar": {
              "outlinewidth": 0,
              "ticks": ""
             }
            },
            "type": "scattercarpet"
           }
          ],
          "scattergeo": [
           {
            "marker": {
             "colorbar": {
              "outlinewidth": 0,
              "ticks": ""
             }
            },
            "type": "scattergeo"
           }
          ],
          "scattergl": [
           {
            "marker": {
             "colorbar": {
              "outlinewidth": 0,
              "ticks": ""
             }
            },
            "type": "scattergl"
           }
          ],
          "scattermapbox": [
           {
            "marker": {
             "colorbar": {
              "outlinewidth": 0,
              "ticks": ""
             }
            },
            "type": "scattermapbox"
           }
          ],
          "scatterpolar": [
           {
            "marker": {
             "colorbar": {
              "outlinewidth": 0,
              "ticks": ""
             }
            },
            "type": "scatterpolar"
           }
          ],
          "scatterpolargl": [
           {
            "marker": {
             "colorbar": {
              "outlinewidth": 0,
              "ticks": ""
             }
            },
            "type": "scatterpolargl"
           }
          ],
          "scatterternary": [
           {
            "marker": {
             "colorbar": {
              "outlinewidth": 0,
              "ticks": ""
             }
            },
            "type": "scatterternary"
           }
          ],
          "surface": [
           {
            "colorbar": {
             "outlinewidth": 0,
             "ticks": ""
            },
            "colorscale": [
             [
              0,
              "#0d0887"
             ],
             [
              0.1111111111111111,
              "#46039f"
             ],
             [
              0.2222222222222222,
              "#7201a8"
             ],
             [
              0.3333333333333333,
              "#9c179e"
             ],
             [
              0.4444444444444444,
              "#bd3786"
             ],
             [
              0.5555555555555556,
              "#d8576b"
             ],
             [
              0.6666666666666666,
              "#ed7953"
             ],
             [
              0.7777777777777778,
              "#fb9f3a"
             ],
             [
              0.8888888888888888,
              "#fdca26"
             ],
             [
              1,
              "#f0f921"
             ]
            ],
            "type": "surface"
           }
          ],
          "table": [
           {
            "cells": {
             "fill": {
              "color": "#EBF0F8"
             },
             "line": {
              "color": "white"
             }
            },
            "header": {
             "fill": {
              "color": "#C8D4E3"
             },
             "line": {
              "color": "white"
             }
            },
            "type": "table"
           }
          ]
         },
         "layout": {
          "annotationdefaults": {
           "arrowcolor": "#2a3f5f",
           "arrowhead": 0,
           "arrowwidth": 1
          },
          "autotypenumbers": "strict",
          "coloraxis": {
           "colorbar": {
            "outlinewidth": 0,
            "ticks": ""
           }
          },
          "colorscale": {
           "diverging": [
            [
             0,
             "#8e0152"
            ],
            [
             0.1,
             "#c51b7d"
            ],
            [
             0.2,
             "#de77ae"
            ],
            [
             0.3,
             "#f1b6da"
            ],
            [
             0.4,
             "#fde0ef"
            ],
            [
             0.5,
             "#f7f7f7"
            ],
            [
             0.6,
             "#e6f5d0"
            ],
            [
             0.7,
             "#b8e186"
            ],
            [
             0.8,
             "#7fbc41"
            ],
            [
             0.9,
             "#4d9221"
            ],
            [
             1,
             "#276419"
            ]
           ],
           "sequential": [
            [
             0,
             "#0d0887"
            ],
            [
             0.1111111111111111,
             "#46039f"
            ],
            [
             0.2222222222222222,
             "#7201a8"
            ],
            [
             0.3333333333333333,
             "#9c179e"
            ],
            [
             0.4444444444444444,
             "#bd3786"
            ],
            [
             0.5555555555555556,
             "#d8576b"
            ],
            [
             0.6666666666666666,
             "#ed7953"
            ],
            [
             0.7777777777777778,
             "#fb9f3a"
            ],
            [
             0.8888888888888888,
             "#fdca26"
            ],
            [
             1,
             "#f0f921"
            ]
           ],
           "sequentialminus": [
            [
             0,
             "#0d0887"
            ],
            [
             0.1111111111111111,
             "#46039f"
            ],
            [
             0.2222222222222222,
             "#7201a8"
            ],
            [
             0.3333333333333333,
             "#9c179e"
            ],
            [
             0.4444444444444444,
             "#bd3786"
            ],
            [
             0.5555555555555556,
             "#d8576b"
            ],
            [
             0.6666666666666666,
             "#ed7953"
            ],
            [
             0.7777777777777778,
             "#fb9f3a"
            ],
            [
             0.8888888888888888,
             "#fdca26"
            ],
            [
             1,
             "#f0f921"
            ]
           ]
          },
          "colorway": [
           "#636efa",
           "#EF553B",
           "#00cc96",
           "#ab63fa",
           "#FFA15A",
           "#19d3f3",
           "#FF6692",
           "#B6E880",
           "#FF97FF",
           "#FECB52"
          ],
          "font": {
           "color": "#2a3f5f"
          },
          "geo": {
           "bgcolor": "white",
           "lakecolor": "white",
           "landcolor": "#E5ECF6",
           "showlakes": true,
           "showland": true,
           "subunitcolor": "white"
          },
          "hoverlabel": {
           "align": "left"
          },
          "hovermode": "closest",
          "mapbox": {
           "style": "light"
          },
          "paper_bgcolor": "white",
          "plot_bgcolor": "#E5ECF6",
          "polar": {
           "angularaxis": {
            "gridcolor": "white",
            "linecolor": "white",
            "ticks": ""
           },
           "bgcolor": "#E5ECF6",
           "radialaxis": {
            "gridcolor": "white",
            "linecolor": "white",
            "ticks": ""
           }
          },
          "scene": {
           "xaxis": {
            "backgroundcolor": "#E5ECF6",
            "gridcolor": "white",
            "gridwidth": 2,
            "linecolor": "white",
            "showbackground": true,
            "ticks": "",
            "zerolinecolor": "white"
           },
           "yaxis": {
            "backgroundcolor": "#E5ECF6",
            "gridcolor": "white",
            "gridwidth": 2,
            "linecolor": "white",
            "showbackground": true,
            "ticks": "",
            "zerolinecolor": "white"
           },
           "zaxis": {
            "backgroundcolor": "#E5ECF6",
            "gridcolor": "white",
            "gridwidth": 2,
            "linecolor": "white",
            "showbackground": true,
            "ticks": "",
            "zerolinecolor": "white"
           }
          },
          "shapedefaults": {
           "line": {
            "color": "#2a3f5f"
           }
          },
          "ternary": {
           "aaxis": {
            "gridcolor": "white",
            "linecolor": "white",
            "ticks": ""
           },
           "baxis": {
            "gridcolor": "white",
            "linecolor": "white",
            "ticks": ""
           },
           "bgcolor": "#E5ECF6",
           "caxis": {
            "gridcolor": "white",
            "linecolor": "white",
            "ticks": ""
           }
          },
          "title": {
           "x": 0.05
          },
          "xaxis": {
           "automargin": true,
           "gridcolor": "white",
           "linecolor": "white",
           "ticks": "",
           "title": {
            "standoff": 15
           },
           "zerolinecolor": "white",
           "zerolinewidth": 2
          },
          "yaxis": {
           "automargin": true,
           "gridcolor": "white",
           "linecolor": "white",
           "ticks": "",
           "title": {
            "standoff": 15
           },
           "zerolinecolor": "white",
           "zerolinewidth": 2
          }
         }
        },
        "title": {
         "text": "Distribuição dos resultados de f1 para os experimentos - label: k_14 | leak=False"
        },
        "xaxis": {
         "anchor": "y",
         "domain": [
          0,
          1
         ],
         "title": {
          "text": "model"
         }
        },
        "yaxis": {
         "anchor": "x",
         "domain": [
          0,
          1
         ],
         "title": {
          "text": "f1-score"
         }
        }
       }
      }
     },
     "metadata": {},
     "output_type": "display_data"
    },
    {
     "name": "stdout",
     "output_type": "stream",
     "text": [
      "label: meta_21 - leak: False\n"
     ]
    },
    {
     "data": {
      "application/vnd.plotly.v1+json": {
       "config": {
        "plotlyServerURL": "https://plot.ly"
       },
       "data": [
        {
         "alignmentgroup": "True",
         "boxpoints": "all",
         "hovertemplate": "model=%{x}<br>f1-score=%{y}<extra></extra>",
         "legendgroup": "",
         "marker": {
          "color": "#636efa"
         },
         "name": "",
         "notched": false,
         "offsetgroup": "",
         "orientation": "v",
         "showlegend": false,
         "type": "box",
         "x": [
          "LSTM_with_Attention",
          "MLP",
          "KAN",
          "LSTM_with_Attention",
          "MLP",
          "KAN",
          "LSTM_with_Attention",
          "MLP",
          "KAN",
          "LSTM_with_Attention",
          "MLP",
          "KAN",
          "LSTM_with_Attention",
          "MLP",
          "KAN",
          "LSTM_with_Attention",
          "MLP",
          "KAN",
          "LSTM_with_Attention",
          "MLP",
          "KAN",
          "LSTM_with_Attention",
          "MLP",
          "KAN",
          "LSTM_with_Attention",
          "MLP",
          "KAN",
          "LSTM_with_Attention",
          "MLP",
          "KAN",
          "LSTM_with_Attention",
          "MLP",
          "KAN",
          "LSTM_with_Attention",
          "MLP",
          "KAN",
          "LSTM_with_Attention",
          "MLP",
          "KAN",
          "LSTM_with_Attention",
          "MLP",
          "KAN",
          "LSTM_with_Attention",
          "MLP",
          "KAN",
          "LSTM_with_Attention",
          "MLP",
          "KAN",
          "LSTM_with_Attention",
          "MLP",
          "KAN",
          "LSTM_with_Attention",
          "MLP",
          "KAN",
          "LSTM_with_Attention",
          "MLP",
          "KAN",
          "LSTM_with_Attention",
          "MLP",
          "KAN",
          "LSTM_with_Attention",
          "MLP",
          "KAN",
          "LSTM_with_Attention",
          "MLP",
          "KAN",
          "LSTM_with_Attention",
          "MLP",
          "KAN",
          "LSTM_with_Attention",
          "MLP",
          "KAN",
          "LSTM_with_Attention",
          "MLP",
          "KAN",
          "LSTM_with_Attention",
          "MLP",
          "KAN",
          "LSTM_with_Attention",
          "MLP",
          "KAN",
          "LSTM_with_Attention",
          "MLP",
          "KAN",
          "LSTM_with_Attention",
          "MLP",
          "KAN",
          "LSTM_with_Attention",
          "MLP",
          "KAN",
          "LSTM_with_Attention",
          "MLP",
          "KAN",
          "LSTM_with_Attention",
          "MLP",
          "KAN",
          "LSTM_with_Attention",
          "MLP",
          "KAN",
          "LSTM_with_Attention",
          "MLP",
          "KAN",
          "LSTM_with_Attention",
          "MLP",
          "KAN",
          "LSTM_with_Attention",
          "MLP",
          "KAN",
          "LSTM_with_Attention",
          "MLP",
          "KAN",
          "LSTM_with_Attention",
          "MLP",
          "KAN",
          "LSTM_with_Attention",
          "MLP",
          "KAN",
          "LSTM_with_Attention",
          "MLP",
          "KAN",
          "LSTM_with_Attention",
          "MLP",
          "KAN",
          "LSTM_with_Attention",
          "MLP",
          "KAN",
          "LSTM_with_Attention",
          "MLP",
          "KAN",
          "LSTM_with_Attention",
          "MLP",
          "KAN",
          "LSTM_with_Attention",
          "MLP",
          "KAN",
          "LSTM_with_Attention",
          "MLP",
          "KAN",
          "LSTM_with_Attention",
          "MLP",
          "KAN",
          "LSTM_with_Attention",
          "MLP",
          "KAN",
          "LSTM_with_Attention",
          "MLP",
          "KAN",
          "LSTM_with_Attention",
          "MLP",
          "KAN",
          "LSTM_with_Attention",
          "MLP",
          "KAN",
          "LSTM_with_Attention",
          "MLP",
          "KAN",
          "LSTM_with_Attention",
          "MLP",
          "KAN",
          "LSTM_with_Attention",
          "MLP",
          "KAN",
          "LSTM_with_Attention",
          "MLP",
          "KAN",
          "LSTM_with_Attention",
          "MLP",
          "KAN",
          "LSTM_with_Attention",
          "MLP",
          "KAN",
          "LSTM_with_Attention",
          "MLP",
          "KAN",
          "LSTM_with_Attention",
          "MLP",
          "KAN",
          "LSTM_with_Attention",
          "MLP",
          "KAN",
          "LSTM_with_Attention",
          "MLP",
          "KAN",
          "LSTM_with_Attention",
          "MLP",
          "KAN",
          "LSTM_with_Attention",
          "MLP",
          "KAN",
          "LSTM_with_Attention",
          "MLP",
          "KAN",
          "LSTM_with_Attention",
          "MLP",
          "KAN",
          "LSTM_with_Attention",
          "MLP",
          "KAN",
          "LSTM_with_Attention",
          "MLP",
          "KAN",
          "LSTM_with_Attention",
          "MLP",
          "KAN",
          "LSTM_with_Attention",
          "MLP",
          "KAN",
          "LSTM_with_Attention",
          "MLP",
          "KAN",
          "LSTM_with_Attention",
          "MLP",
          "KAN",
          "LSTM_with_Attention",
          "MLP",
          "KAN",
          "LSTM_with_Attention",
          "MLP",
          "KAN",
          "LSTM_with_Attention",
          "MLP",
          "KAN",
          "LSTM_with_Attention",
          "MLP",
          "KAN",
          "LSTM_with_Attention",
          "MLP",
          "KAN",
          "LSTM_with_Attention",
          "MLP",
          "KAN",
          "LSTM_with_Attention",
          "MLP",
          "KAN",
          "LSTM_with_Attention",
          "MLP",
          "KAN",
          "LSTM_with_Attention",
          "MLP",
          "KAN",
          "LSTM_with_Attention",
          "MLP",
          "KAN",
          "LSTM_with_Attention",
          "MLP",
          "KAN",
          "LSTM_with_Attention",
          "MLP",
          "KAN",
          "LSTM_with_Attention",
          "MLP",
          "KAN",
          "LSTM_with_Attention",
          "MLP",
          "KAN",
          "LSTM_with_Attention",
          "MLP",
          "KAN",
          "LSTM_with_Attention",
          "MLP",
          "KAN",
          "LSTM_with_Attention",
          "MLP",
          "KAN",
          "LSTM_with_Attention",
          "MLP",
          "KAN",
          "LSTM_with_Attention",
          "MLP",
          "KAN",
          "LSTM_with_Attention",
          "MLP",
          "KAN",
          "LSTM_with_Attention",
          "MLP",
          "KAN",
          "LSTM_with_Attention",
          "MLP",
          "KAN",
          "LSTM_with_Attention",
          "MLP",
          "KAN",
          "LSTM_with_Attention",
          "MLP",
          "KAN",
          "LSTM_with_Attention",
          "MLP",
          "KAN",
          "LSTM_with_Attention",
          "MLP",
          "KAN",
          "LSTM_with_Attention",
          "MLP",
          "KAN",
          "LSTM_with_Attention",
          "MLP",
          "KAN",
          "LSTM_with_Attention",
          "MLP",
          "KAN",
          "LSTM_with_Attention",
          "MLP",
          "KAN",
          "LSTM_with_Attention",
          "MLP",
          "KAN",
          "LSTM_with_Attention",
          "MLP",
          "KAN",
          "LSTM_with_Attention",
          "MLP",
          "KAN",
          "LSTM_with_Attention",
          "MLP",
          "KAN",
          "LSTM_with_Attention",
          "MLP",
          "KAN",
          "LSTM_with_Attention",
          "MLP",
          "KAN",
          "LSTM_with_Attention",
          "MLP",
          "KAN",
          "LSTM_with_Attention",
          "MLP",
          "KAN",
          "LSTM_with_Attention",
          "MLP",
          "KAN",
          "LSTM_with_Attention",
          "MLP",
          "KAN",
          "LSTM_with_Attention",
          "MLP",
          "KAN",
          "LSTM_with_Attention",
          "MLP",
          "KAN",
          "LSTM_with_Attention",
          "MLP",
          "KAN",
          "LSTM_with_Attention",
          "MLP",
          "KAN",
          "LSTM_with_Attention",
          "MLP",
          "KAN",
          "LSTM_with_Attention",
          "MLP",
          "KAN",
          "LSTM_with_Attention",
          "MLP",
          "KAN",
          "LSTM_with_Attention",
          "MLP",
          "KAN",
          "LSTM_with_Attention",
          "MLP",
          "KAN",
          "LSTM_with_Attention",
          "MLP",
          "KAN",
          "LSTM_with_Attention",
          "MLP",
          "KAN",
          "LSTM_with_Attention",
          "MLP",
          "KAN",
          "LSTM_with_Attention",
          "MLP",
          "KAN",
          "LSTM_with_Attention",
          "MLP",
          "KAN",
          "LSTM_with_Attention",
          "MLP",
          "KAN",
          "LSTM_with_Attention",
          "MLP",
          "KAN",
          "LSTM_with_Attention",
          "MLP",
          "KAN",
          "Dummy_model",
          "Dummy_model",
          "Dummy_model",
          "Dummy_model",
          "Dummy_model",
          "Dummy_model",
          "Dummy_model",
          "Dummy_model"
         ],
         "x0": " ",
         "xaxis": "x",
         "y": [
          0.59319,
          0.59319,
          0.13019,
          0.74289,
          0.74289,
          0.57556,
          0.54123,
          0.54123,
          0.3228,
          0.52386,
          0.52386,
          0.12013,
          0.57072,
          0.57072,
          0.25097,
          0.54373,
          0.54373,
          0.11459,
          0.58993,
          0.58993,
          0.0516,
          0.61961,
          0.61961,
          0.0686,
          0.57408,
          0.57229,
          0.57647,
          0.7422,
          0.74289,
          0.74289,
          0.53682,
          0.53682,
          0.64306,
          0.5224,
          0.49867,
          0.41204,
          0.56023,
          0.56084,
          0.1497,
          0.54234,
          0.54373,
          0.53872,
          0.59122,
          0.56433,
          0.63135,
          0.61902,
          0.61961,
          0.36881,
          0.58706,
          0.57706,
          0.57652,
          0.73947,
          0.74015,
          0.7389,
          0.53371,
          0.53682,
          0.69573,
          0.50641,
          0.50524,
          0.60619,
          0.56023,
          0.55687,
          0.4664,
          0.54313,
          0.5446,
          0.52965,
          0.56249,
          0.58324,
          0.65306,
          0.61961,
          0.61793,
          0.6032,
          0.58021,
          0.57646,
          0.70115,
          0.73801,
          0.73938,
          0.58888,
          0.52674,
          0.53605,
          0.57934,
          0.5087,
          0.49204,
          0.58424,
          0.56023,
          0.56887,
          0.53396,
          0.5446,
          0.54321,
          0.51662,
          0.57224,
          0.57445,
          0.56321,
          0.61793,
          0.61728,
          0.5964,
          0.5853,
          0.58862,
          0.61568,
          0.72704,
          0.72348,
          0.47558,
          0.52735,
          0.52701,
          0.48179,
          0.50367,
          0.50946,
          0.57913,
          0.55573,
          0.5633,
          0.46546,
          0.53773,
          0.53523,
          0.48879,
          0.56959,
          0.58494,
          0.6829,
          0.61576,
          0.61586,
          0.57657,
          0.57445,
          0.5855,
          0.59799,
          0.7235,
          0.73612,
          0.53151,
          0.51491,
          0.52081,
          0.52412,
          0.49944,
          0.48846,
          0.53121,
          0.55204,
          0.57113,
          0.53506,
          0.53071,
          0.53048,
          0.48107,
          0.57644,
          0.57533,
          0.50381,
          0.58181,
          0.59076,
          0.53339,
          0.57555,
          0.56712,
          0.53025,
          0.72152,
          0.73686,
          0.53487,
          0.52844,
          0.53033,
          0.47867,
          0.48601,
          0.48644,
          0.60525,
          0.56059,
          0.57352,
          0.43144,
          0.53155,
          0.54427,
          0.4792,
          0.57191,
          0.5737,
          0.54498,
          0.6104,
          0.59594,
          0.52438,
          0.57364,
          0.56792,
          0.46536,
          0.69263,
          0.73661,
          0.41543,
          0.514,
          0.51251,
          0.44199,
          0.49864,
          0.48916,
          0.42443,
          0.47616,
          0.56339,
          0.39745,
          0.53217,
          0.51796,
          0.40078,
          0.56014,
          0.56076,
          0.45124,
          0.59888,
          0.59625,
          0.39812,
          0.56944,
          0.54952,
          0,
          0.70387,
          0.71979,
          0.47304,
          0.50821,
          0.50719,
          0.41869,
          0.4881,
          0.46094,
          0.41018,
          0.54515,
          0.5511,
          0.61751,
          0.52213,
          0.50505,
          0.43501,
          0.56811,
          0.54,
          0.44628,
          0.61164,
          0.5962,
          0.46602,
          0.54636,
          0.53667,
          0.37861,
          0.72309,
          0.65725,
          0.42513,
          0.5696,
          0.50906,
          0.40174,
          0.48403,
          0.43059,
          0.45466,
          0.47358,
          0.56334,
          0.37239,
          0.51891,
          0.49274,
          0.37363,
          0.51825,
          0.53056,
          0.53879,
          0.59001,
          0.60408,
          0.13154,
          0.52551,
          0.54711,
          0.35662,
          0.71071,
          0.70152,
          0.48439,
          0.49561,
          0.4993,
          0.40568,
          0.45852,
          0.47198,
          0.36653,
          0.47189,
          0.55015,
          0.39763,
          0.48286,
          0.45953,
          0.38367,
          0.52923,
          0.54459,
          0.42455,
          0.59554,
          0.59642,
          0.45926,
          0.54134,
          0.54503,
          0.3853,
          0.68837,
          0.69834,
          0.37655,
          0.51061,
          0.49045,
          0.39596,
          0.47469,
          0.46075,
          0.37226,
          0.54153,
          0.54149,
          0.38764,
          0.45816,
          0.45711,
          0.40549,
          0.52864,
          0.49129,
          0.38938,
          0.5076,
          0.58964,
          0.4613,
          0.55831,
          0.56197,
          0.45998,
          0.65459,
          0.69799,
          0.4025,
          0.56171,
          0.48196,
          0.38169,
          0.47182,
          0.44515,
          0.36525,
          0.41697,
          0.55358,
          0.35804,
          0.42465,
          0.46973,
          0.37917,
          0.50268,
          0.53752,
          0.43356,
          0.55608,
          0.57924,
          0.37159,
          0.49424,
          0.5484,
          0.36777,
          0.54408,
          0.69408,
          0.46743,
          0.45641,
          0.50271,
          0.45291,
          0.41109,
          0.46705,
          0.39645,
          0.46933,
          0.52297,
          0.36285,
          0.44671,
          0.45052,
          0.37162,
          0.49448,
          0.53743,
          0.42311,
          0.5793,
          0.57936,
          0.46819,
          0.51113,
          0.54053,
          0.38228,
          0.49768,
          0.68813,
          0.47633,
          0.48979,
          0.48129,
          0.49997,
          0.44139,
          0.44618,
          0.36292,
          0.41766,
          0.50343,
          0.43383,
          0.42749,
          0.45946,
          0.38529,
          0.50141,
          0.50918,
          0.36908,
          0.55159,
          0.56317,
          0.1902,
          0.44492,
          0.51928,
          0.43481,
          0.57882,
          0.65053,
          0.40982,
          0.47212,
          0.45945,
          0.39634,
          0.38166,
          0.43315,
          0.40416,
          0.48112,
          0.47892,
          0.37896,
          0.42536,
          0.43408,
          0.37725,
          0.45575,
          0.48834,
          0.4212,
          0.55742,
          0.5817,
          0.46052,
          0.70415,
          0.74289,
          0.70641,
          0.66179,
          0.56906,
          0.53858,
          0.70078,
          0.6114
         ],
         "y0": " ",
         "yaxis": "y"
        }
       ],
       "layout": {
        "boxmode": "group",
        "legend": {
         "tracegroupgap": 0
        },
        "template": {
         "data": {
          "bar": [
           {
            "error_x": {
             "color": "#2a3f5f"
            },
            "error_y": {
             "color": "#2a3f5f"
            },
            "marker": {
             "line": {
              "color": "#E5ECF6",
              "width": 0.5
             },
             "pattern": {
              "fillmode": "overlay",
              "size": 10,
              "solidity": 0.2
             }
            },
            "type": "bar"
           }
          ],
          "barpolar": [
           {
            "marker": {
             "line": {
              "color": "#E5ECF6",
              "width": 0.5
             },
             "pattern": {
              "fillmode": "overlay",
              "size": 10,
              "solidity": 0.2
             }
            },
            "type": "barpolar"
           }
          ],
          "carpet": [
           {
            "aaxis": {
             "endlinecolor": "#2a3f5f",
             "gridcolor": "white",
             "linecolor": "white",
             "minorgridcolor": "white",
             "startlinecolor": "#2a3f5f"
            },
            "baxis": {
             "endlinecolor": "#2a3f5f",
             "gridcolor": "white",
             "linecolor": "white",
             "minorgridcolor": "white",
             "startlinecolor": "#2a3f5f"
            },
            "type": "carpet"
           }
          ],
          "choropleth": [
           {
            "colorbar": {
             "outlinewidth": 0,
             "ticks": ""
            },
            "type": "choropleth"
           }
          ],
          "contour": [
           {
            "colorbar": {
             "outlinewidth": 0,
             "ticks": ""
            },
            "colorscale": [
             [
              0,
              "#0d0887"
             ],
             [
              0.1111111111111111,
              "#46039f"
             ],
             [
              0.2222222222222222,
              "#7201a8"
             ],
             [
              0.3333333333333333,
              "#9c179e"
             ],
             [
              0.4444444444444444,
              "#bd3786"
             ],
             [
              0.5555555555555556,
              "#d8576b"
             ],
             [
              0.6666666666666666,
              "#ed7953"
             ],
             [
              0.7777777777777778,
              "#fb9f3a"
             ],
             [
              0.8888888888888888,
              "#fdca26"
             ],
             [
              1,
              "#f0f921"
             ]
            ],
            "type": "contour"
           }
          ],
          "contourcarpet": [
           {
            "colorbar": {
             "outlinewidth": 0,
             "ticks": ""
            },
            "type": "contourcarpet"
           }
          ],
          "heatmap": [
           {
            "colorbar": {
             "outlinewidth": 0,
             "ticks": ""
            },
            "colorscale": [
             [
              0,
              "#0d0887"
             ],
             [
              0.1111111111111111,
              "#46039f"
             ],
             [
              0.2222222222222222,
              "#7201a8"
             ],
             [
              0.3333333333333333,
              "#9c179e"
             ],
             [
              0.4444444444444444,
              "#bd3786"
             ],
             [
              0.5555555555555556,
              "#d8576b"
             ],
             [
              0.6666666666666666,
              "#ed7953"
             ],
             [
              0.7777777777777778,
              "#fb9f3a"
             ],
             [
              0.8888888888888888,
              "#fdca26"
             ],
             [
              1,
              "#f0f921"
             ]
            ],
            "type": "heatmap"
           }
          ],
          "heatmapgl": [
           {
            "colorbar": {
             "outlinewidth": 0,
             "ticks": ""
            },
            "colorscale": [
             [
              0,
              "#0d0887"
             ],
             [
              0.1111111111111111,
              "#46039f"
             ],
             [
              0.2222222222222222,
              "#7201a8"
             ],
             [
              0.3333333333333333,
              "#9c179e"
             ],
             [
              0.4444444444444444,
              "#bd3786"
             ],
             [
              0.5555555555555556,
              "#d8576b"
             ],
             [
              0.6666666666666666,
              "#ed7953"
             ],
             [
              0.7777777777777778,
              "#fb9f3a"
             ],
             [
              0.8888888888888888,
              "#fdca26"
             ],
             [
              1,
              "#f0f921"
             ]
            ],
            "type": "heatmapgl"
           }
          ],
          "histogram": [
           {
            "marker": {
             "pattern": {
              "fillmode": "overlay",
              "size": 10,
              "solidity": 0.2
             }
            },
            "type": "histogram"
           }
          ],
          "histogram2d": [
           {
            "colorbar": {
             "outlinewidth": 0,
             "ticks": ""
            },
            "colorscale": [
             [
              0,
              "#0d0887"
             ],
             [
              0.1111111111111111,
              "#46039f"
             ],
             [
              0.2222222222222222,
              "#7201a8"
             ],
             [
              0.3333333333333333,
              "#9c179e"
             ],
             [
              0.4444444444444444,
              "#bd3786"
             ],
             [
              0.5555555555555556,
              "#d8576b"
             ],
             [
              0.6666666666666666,
              "#ed7953"
             ],
             [
              0.7777777777777778,
              "#fb9f3a"
             ],
             [
              0.8888888888888888,
              "#fdca26"
             ],
             [
              1,
              "#f0f921"
             ]
            ],
            "type": "histogram2d"
           }
          ],
          "histogram2dcontour": [
           {
            "colorbar": {
             "outlinewidth": 0,
             "ticks": ""
            },
            "colorscale": [
             [
              0,
              "#0d0887"
             ],
             [
              0.1111111111111111,
              "#46039f"
             ],
             [
              0.2222222222222222,
              "#7201a8"
             ],
             [
              0.3333333333333333,
              "#9c179e"
             ],
             [
              0.4444444444444444,
              "#bd3786"
             ],
             [
              0.5555555555555556,
              "#d8576b"
             ],
             [
              0.6666666666666666,
              "#ed7953"
             ],
             [
              0.7777777777777778,
              "#fb9f3a"
             ],
             [
              0.8888888888888888,
              "#fdca26"
             ],
             [
              1,
              "#f0f921"
             ]
            ],
            "type": "histogram2dcontour"
           }
          ],
          "mesh3d": [
           {
            "colorbar": {
             "outlinewidth": 0,
             "ticks": ""
            },
            "type": "mesh3d"
           }
          ],
          "parcoords": [
           {
            "line": {
             "colorbar": {
              "outlinewidth": 0,
              "ticks": ""
             }
            },
            "type": "parcoords"
           }
          ],
          "pie": [
           {
            "automargin": true,
            "type": "pie"
           }
          ],
          "scatter": [
           {
            "fillpattern": {
             "fillmode": "overlay",
             "size": 10,
             "solidity": 0.2
            },
            "type": "scatter"
           }
          ],
          "scatter3d": [
           {
            "line": {
             "colorbar": {
              "outlinewidth": 0,
              "ticks": ""
             }
            },
            "marker": {
             "colorbar": {
              "outlinewidth": 0,
              "ticks": ""
             }
            },
            "type": "scatter3d"
           }
          ],
          "scattercarpet": [
           {
            "marker": {
             "colorbar": {
              "outlinewidth": 0,
              "ticks": ""
             }
            },
            "type": "scattercarpet"
           }
          ],
          "scattergeo": [
           {
            "marker": {
             "colorbar": {
              "outlinewidth": 0,
              "ticks": ""
             }
            },
            "type": "scattergeo"
           }
          ],
          "scattergl": [
           {
            "marker": {
             "colorbar": {
              "outlinewidth": 0,
              "ticks": ""
             }
            },
            "type": "scattergl"
           }
          ],
          "scattermapbox": [
           {
            "marker": {
             "colorbar": {
              "outlinewidth": 0,
              "ticks": ""
             }
            },
            "type": "scattermapbox"
           }
          ],
          "scatterpolar": [
           {
            "marker": {
             "colorbar": {
              "outlinewidth": 0,
              "ticks": ""
             }
            },
            "type": "scatterpolar"
           }
          ],
          "scatterpolargl": [
           {
            "marker": {
             "colorbar": {
              "outlinewidth": 0,
              "ticks": ""
             }
            },
            "type": "scatterpolargl"
           }
          ],
          "scatterternary": [
           {
            "marker": {
             "colorbar": {
              "outlinewidth": 0,
              "ticks": ""
             }
            },
            "type": "scatterternary"
           }
          ],
          "surface": [
           {
            "colorbar": {
             "outlinewidth": 0,
             "ticks": ""
            },
            "colorscale": [
             [
              0,
              "#0d0887"
             ],
             [
              0.1111111111111111,
              "#46039f"
             ],
             [
              0.2222222222222222,
              "#7201a8"
             ],
             [
              0.3333333333333333,
              "#9c179e"
             ],
             [
              0.4444444444444444,
              "#bd3786"
             ],
             [
              0.5555555555555556,
              "#d8576b"
             ],
             [
              0.6666666666666666,
              "#ed7953"
             ],
             [
              0.7777777777777778,
              "#fb9f3a"
             ],
             [
              0.8888888888888888,
              "#fdca26"
             ],
             [
              1,
              "#f0f921"
             ]
            ],
            "type": "surface"
           }
          ],
          "table": [
           {
            "cells": {
             "fill": {
              "color": "#EBF0F8"
             },
             "line": {
              "color": "white"
             }
            },
            "header": {
             "fill": {
              "color": "#C8D4E3"
             },
             "line": {
              "color": "white"
             }
            },
            "type": "table"
           }
          ]
         },
         "layout": {
          "annotationdefaults": {
           "arrowcolor": "#2a3f5f",
           "arrowhead": 0,
           "arrowwidth": 1
          },
          "autotypenumbers": "strict",
          "coloraxis": {
           "colorbar": {
            "outlinewidth": 0,
            "ticks": ""
           }
          },
          "colorscale": {
           "diverging": [
            [
             0,
             "#8e0152"
            ],
            [
             0.1,
             "#c51b7d"
            ],
            [
             0.2,
             "#de77ae"
            ],
            [
             0.3,
             "#f1b6da"
            ],
            [
             0.4,
             "#fde0ef"
            ],
            [
             0.5,
             "#f7f7f7"
            ],
            [
             0.6,
             "#e6f5d0"
            ],
            [
             0.7,
             "#b8e186"
            ],
            [
             0.8,
             "#7fbc41"
            ],
            [
             0.9,
             "#4d9221"
            ],
            [
             1,
             "#276419"
            ]
           ],
           "sequential": [
            [
             0,
             "#0d0887"
            ],
            [
             0.1111111111111111,
             "#46039f"
            ],
            [
             0.2222222222222222,
             "#7201a8"
            ],
            [
             0.3333333333333333,
             "#9c179e"
            ],
            [
             0.4444444444444444,
             "#bd3786"
            ],
            [
             0.5555555555555556,
             "#d8576b"
            ],
            [
             0.6666666666666666,
             "#ed7953"
            ],
            [
             0.7777777777777778,
             "#fb9f3a"
            ],
            [
             0.8888888888888888,
             "#fdca26"
            ],
            [
             1,
             "#f0f921"
            ]
           ],
           "sequentialminus": [
            [
             0,
             "#0d0887"
            ],
            [
             0.1111111111111111,
             "#46039f"
            ],
            [
             0.2222222222222222,
             "#7201a8"
            ],
            [
             0.3333333333333333,
             "#9c179e"
            ],
            [
             0.4444444444444444,
             "#bd3786"
            ],
            [
             0.5555555555555556,
             "#d8576b"
            ],
            [
             0.6666666666666666,
             "#ed7953"
            ],
            [
             0.7777777777777778,
             "#fb9f3a"
            ],
            [
             0.8888888888888888,
             "#fdca26"
            ],
            [
             1,
             "#f0f921"
            ]
           ]
          },
          "colorway": [
           "#636efa",
           "#EF553B",
           "#00cc96",
           "#ab63fa",
           "#FFA15A",
           "#19d3f3",
           "#FF6692",
           "#B6E880",
           "#FF97FF",
           "#FECB52"
          ],
          "font": {
           "color": "#2a3f5f"
          },
          "geo": {
           "bgcolor": "white",
           "lakecolor": "white",
           "landcolor": "#E5ECF6",
           "showlakes": true,
           "showland": true,
           "subunitcolor": "white"
          },
          "hoverlabel": {
           "align": "left"
          },
          "hovermode": "closest",
          "mapbox": {
           "style": "light"
          },
          "paper_bgcolor": "white",
          "plot_bgcolor": "#E5ECF6",
          "polar": {
           "angularaxis": {
            "gridcolor": "white",
            "linecolor": "white",
            "ticks": ""
           },
           "bgcolor": "#E5ECF6",
           "radialaxis": {
            "gridcolor": "white",
            "linecolor": "white",
            "ticks": ""
           }
          },
          "scene": {
           "xaxis": {
            "backgroundcolor": "#E5ECF6",
            "gridcolor": "white",
            "gridwidth": 2,
            "linecolor": "white",
            "showbackground": true,
            "ticks": "",
            "zerolinecolor": "white"
           },
           "yaxis": {
            "backgroundcolor": "#E5ECF6",
            "gridcolor": "white",
            "gridwidth": 2,
            "linecolor": "white",
            "showbackground": true,
            "ticks": "",
            "zerolinecolor": "white"
           },
           "zaxis": {
            "backgroundcolor": "#E5ECF6",
            "gridcolor": "white",
            "gridwidth": 2,
            "linecolor": "white",
            "showbackground": true,
            "ticks": "",
            "zerolinecolor": "white"
           }
          },
          "shapedefaults": {
           "line": {
            "color": "#2a3f5f"
           }
          },
          "ternary": {
           "aaxis": {
            "gridcolor": "white",
            "linecolor": "white",
            "ticks": ""
           },
           "baxis": {
            "gridcolor": "white",
            "linecolor": "white",
            "ticks": ""
           },
           "bgcolor": "#E5ECF6",
           "caxis": {
            "gridcolor": "white",
            "linecolor": "white",
            "ticks": ""
           }
          },
          "title": {
           "x": 0.05
          },
          "xaxis": {
           "automargin": true,
           "gridcolor": "white",
           "linecolor": "white",
           "ticks": "",
           "title": {
            "standoff": 15
           },
           "zerolinecolor": "white",
           "zerolinewidth": 2
          },
          "yaxis": {
           "automargin": true,
           "gridcolor": "white",
           "linecolor": "white",
           "ticks": "",
           "title": {
            "standoff": 15
           },
           "zerolinecolor": "white",
           "zerolinewidth": 2
          }
         }
        },
        "title": {
         "text": "Distribuição dos resultados de f1 para os experimentos - label: k_21 | leak=False"
        },
        "xaxis": {
         "anchor": "y",
         "domain": [
          0,
          1
         ],
         "title": {
          "text": "model"
         }
        },
        "yaxis": {
         "anchor": "x",
         "domain": [
          0,
          1
         ],
         "title": {
          "text": "f1-score"
         }
        }
       }
      }
     },
     "metadata": {},
     "output_type": "display_data"
    }
   ],
   "source": [
    "for label in macro_clf.label_col.unique():\n",
    "\n",
    "    for leak in [False]:\n",
    "\n",
    "        print(f\"label: {label} - leak: {leak}\")\n",
    "        \n",
    "        if 'meta' in label: label = label.replace('meta', 'k')\n",
    "        if 'diff_close_mean_z_score' in label: label = label.replace('diff_close_mean_z_score', 'z')\n",
    "        \n",
    "        fig = px.box(\n",
    "            macro_clf[(macro_clf.label_col == label_col) & (macro_clf.leak == leak)], \n",
    "            x=\"model\", \n",
    "            y=\"f1-score\", \n",
    "            points=\"all\",\n",
    "            title = f'Distribuição dos resultados de f1 para os experimentos - label: {label} | leak={leak}'\n",
    "            )\n",
    "        \n",
    "        fig.write_image(PATH_REPORTS + f\"/images/box_plot_exp_dist_label={label}__leak={leak}_clf.png\")\n",
    "        fig.show()"
   ]
  },
  {
   "cell_type": "code",
   "execution_count": 15,
   "metadata": {},
   "outputs": [
    {
     "name": "stdout",
     "output_type": "stream",
     "text": [
      "\n",
      "##############################################\n",
      "# DOMAIN: Petróleo\n",
      "# ASSETS: ['PETR3.SA', 'PRIO3.SA']\n",
      "##############################################\n",
      "          \n",
      "Metricas macro - label meta\n"
     ]
    },
    {
     "data": {
      "text/html": [
       "<div>\n",
       "<style scoped>\n",
       "    .dataframe tbody tr th:only-of-type {\n",
       "        vertical-align: middle;\n",
       "    }\n",
       "\n",
       "    .dataframe tbody tr th {\n",
       "        vertical-align: top;\n",
       "    }\n",
       "\n",
       "    .dataframe thead th {\n",
       "        text-align: right;\n",
       "    }\n",
       "</style>\n",
       "<table border=\"1\" class=\"dataframe\">\n",
       "  <thead>\n",
       "    <tr style=\"text-align: right;\">\n",
       "      <th></th>\n",
       "      <th>ativo</th>\n",
       "      <th>seq_len</th>\n",
       "      <th>alvo</th>\n",
       "      <th>precision</th>\n",
       "      <th>recall</th>\n",
       "      <th>f1-score</th>\n",
       "      <th>model</th>\n",
       "      <th>leak</th>\n",
       "      <th>feature_cols</th>\n",
       "    </tr>\n",
       "  </thead>\n",
       "  <tbody>\n",
       "    <tr>\n",
       "      <th>111</th>\n",
       "      <td>PETR3.SA</td>\n",
       "      <td>1</td>\n",
       "      <td>meta_14</td>\n",
       "      <td>0.55597</td>\n",
       "      <td>0.56142</td>\n",
       "      <td>0.55860</td>\n",
       "      <td>LSTM_with_Attention</td>\n",
       "      <td>False</td>\n",
       "      <td>['meta_14']</td>\n",
       "    </tr>\n",
       "    <tr>\n",
       "      <th>39603</th>\n",
       "      <td>PETR3.SA</td>\n",
       "      <td>1</td>\n",
       "      <td>meta_14</td>\n",
       "      <td>0.66893</td>\n",
       "      <td>0.66658</td>\n",
       "      <td>0.66773</td>\n",
       "      <td>Dummy_model</td>\n",
       "      <td>False</td>\n",
       "      <td>['past_meta_14']</td>\n",
       "    </tr>\n",
       "    <tr>\n",
       "      <th>101</th>\n",
       "      <td>PETR3.SA</td>\n",
       "      <td>1</td>\n",
       "      <td>meta_14</td>\n",
       "      <td>0.43912</td>\n",
       "      <td>0.44128</td>\n",
       "      <td>0.44018</td>\n",
       "      <td>LSTM_with_Attention</td>\n",
       "      <td>True</td>\n",
       "      <td>['meta_14']</td>\n",
       "    </tr>\n",
       "    <tr>\n",
       "      <th>39594</th>\n",
       "      <td>PETR3.SA</td>\n",
       "      <td>1</td>\n",
       "      <td>meta_14</td>\n",
       "      <td>0.43335</td>\n",
       "      <td>0.43335</td>\n",
       "      <td>0.43335</td>\n",
       "      <td>Dummy_model</td>\n",
       "      <td>True</td>\n",
       "      <td>['past_meta_14']</td>\n",
       "    </tr>\n",
       "    <tr>\n",
       "      <th>15227</th>\n",
       "      <td>PRIO3.SA</td>\n",
       "      <td>7</td>\n",
       "      <td>meta_14</td>\n",
       "      <td>0.66826</td>\n",
       "      <td>0.64541</td>\n",
       "      <td>0.65540</td>\n",
       "      <td>MLP</td>\n",
       "      <td>False</td>\n",
       "      <td>['meta_14']</td>\n",
       "    </tr>\n",
       "    <tr>\n",
       "      <th>39704</th>\n",
       "      <td>PRIO3.SA</td>\n",
       "      <td>1</td>\n",
       "      <td>meta_14</td>\n",
       "      <td>0.65342</td>\n",
       "      <td>0.65342</td>\n",
       "      <td>0.65342</td>\n",
       "      <td>Dummy_model</td>\n",
       "      <td>False</td>\n",
       "      <td>['past_meta_14']</td>\n",
       "    </tr>\n",
       "    <tr>\n",
       "      <th>15219</th>\n",
       "      <td>PRIO3.SA</td>\n",
       "      <td>7</td>\n",
       "      <td>meta_14</td>\n",
       "      <td>0.50495</td>\n",
       "      <td>0.48843</td>\n",
       "      <td>0.49515</td>\n",
       "      <td>MLP</td>\n",
       "      <td>True</td>\n",
       "      <td>['meta_14']</td>\n",
       "    </tr>\n",
       "    <tr>\n",
       "      <th>39696</th>\n",
       "      <td>PRIO3.SA</td>\n",
       "      <td>1</td>\n",
       "      <td>meta_14</td>\n",
       "      <td>0.49031</td>\n",
       "      <td>0.49031</td>\n",
       "      <td>0.49031</td>\n",
       "      <td>Dummy_model</td>\n",
       "      <td>True</td>\n",
       "      <td>['past_meta_14']</td>\n",
       "    </tr>\n",
       "    <tr>\n",
       "      <th>7651</th>\n",
       "      <td>PETR3.SA</td>\n",
       "      <td>4</td>\n",
       "      <td>meta_21</td>\n",
       "      <td>0.75945</td>\n",
       "      <td>0.66258</td>\n",
       "      <td>0.70115</td>\n",
       "      <td>KAN</td>\n",
       "      <td>False</td>\n",
       "      <td>['meta_21']</td>\n",
       "    </tr>\n",
       "    <tr>\n",
       "      <th>39639</th>\n",
       "      <td>PETR3.SA</td>\n",
       "      <td>1</td>\n",
       "      <td>meta_21</td>\n",
       "      <td>0.70554</td>\n",
       "      <td>0.70281</td>\n",
       "      <td>0.70415</td>\n",
       "      <td>Dummy_model</td>\n",
       "      <td>False</td>\n",
       "      <td>['past_meta_21']</td>\n",
       "    </tr>\n",
       "    <tr>\n",
       "      <th>12556</th>\n",
       "      <td>PETR3.SA</td>\n",
       "      <td>6</td>\n",
       "      <td>meta_21</td>\n",
       "      <td>0.51268</td>\n",
       "      <td>0.49143</td>\n",
       "      <td>0.50011</td>\n",
       "      <td>MLP</td>\n",
       "      <td>True</td>\n",
       "      <td>['meta_21']</td>\n",
       "    </tr>\n",
       "    <tr>\n",
       "      <th>39630</th>\n",
       "      <td>PETR3.SA</td>\n",
       "      <td>1</td>\n",
       "      <td>meta_21</td>\n",
       "      <td>0.48540</td>\n",
       "      <td>0.48540</td>\n",
       "      <td>0.48540</td>\n",
       "      <td>Dummy_model</td>\n",
       "      <td>True</td>\n",
       "      <td>['past_meta_21']</td>\n",
       "    </tr>\n",
       "    <tr>\n",
       "      <th>522</th>\n",
       "      <td>PRIO3.SA</td>\n",
       "      <td>1</td>\n",
       "      <td>meta_21</td>\n",
       "      <td>0.74257</td>\n",
       "      <td>0.74321</td>\n",
       "      <td>0.74289</td>\n",
       "      <td>LSTM_with_Attention</td>\n",
       "      <td>False</td>\n",
       "      <td>['meta_21']</td>\n",
       "    </tr>\n",
       "    <tr>\n",
       "      <th>39735</th>\n",
       "      <td>PRIO3.SA</td>\n",
       "      <td>1</td>\n",
       "      <td>meta_21</td>\n",
       "      <td>0.74257</td>\n",
       "      <td>0.74321</td>\n",
       "      <td>0.74289</td>\n",
       "      <td>Dummy_model</td>\n",
       "      <td>False</td>\n",
       "      <td>['past_meta_21']</td>\n",
       "    </tr>\n",
       "    <tr>\n",
       "      <th>514</th>\n",
       "      <td>PRIO3.SA</td>\n",
       "      <td>1</td>\n",
       "      <td>meta_21</td>\n",
       "      <td>0.62055</td>\n",
       "      <td>0.62055</td>\n",
       "      <td>0.62055</td>\n",
       "      <td>LSTM_with_Attention</td>\n",
       "      <td>True</td>\n",
       "      <td>['meta_21']</td>\n",
       "    </tr>\n",
       "    <tr>\n",
       "      <th>39727</th>\n",
       "      <td>PRIO3.SA</td>\n",
       "      <td>1</td>\n",
       "      <td>meta_21</td>\n",
       "      <td>0.62055</td>\n",
       "      <td>0.62055</td>\n",
       "      <td>0.62055</td>\n",
       "      <td>Dummy_model</td>\n",
       "      <td>True</td>\n",
       "      <td>['past_meta_21']</td>\n",
       "    </tr>\n",
       "    <tr>\n",
       "      <th>4977</th>\n",
       "      <td>PETR3.SA</td>\n",
       "      <td>3</td>\n",
       "      <td>meta_7</td>\n",
       "      <td>0.72648</td>\n",
       "      <td>0.47579</td>\n",
       "      <td>0.50342</td>\n",
       "      <td>KAN</td>\n",
       "      <td>False</td>\n",
       "      <td>['meta_7']</td>\n",
       "    </tr>\n",
       "    <tr>\n",
       "      <th>39568</th>\n",
       "      <td>PETR3.SA</td>\n",
       "      <td>1</td>\n",
       "      <td>meta_7</td>\n",
       "      <td>0.53916</td>\n",
       "      <td>0.53916</td>\n",
       "      <td>0.53916</td>\n",
       "      <td>Dummy_model</td>\n",
       "      <td>False</td>\n",
       "      <td>['past_meta_7']</td>\n",
       "    </tr>\n",
       "    <tr>\n",
       "      <th>22207</th>\n",
       "      <td>PETR3.SA</td>\n",
       "      <td>28</td>\n",
       "      <td>meta_7</td>\n",
       "      <td>0.33797</td>\n",
       "      <td>0.34697</td>\n",
       "      <td>0.34241</td>\n",
       "      <td>LSTM_with_Attention</td>\n",
       "      <td>True</td>\n",
       "      <td>['meta_7']</td>\n",
       "    </tr>\n",
       "    <tr>\n",
       "      <th>39560</th>\n",
       "      <td>PETR3.SA</td>\n",
       "      <td>1</td>\n",
       "      <td>meta_7</td>\n",
       "      <td>0.32921</td>\n",
       "      <td>0.32921</td>\n",
       "      <td>0.32921</td>\n",
       "      <td>Dummy_model</td>\n",
       "      <td>True</td>\n",
       "      <td>['past_meta_7']</td>\n",
       "    </tr>\n",
       "    <tr>\n",
       "      <th>5257</th>\n",
       "      <td>PRIO3.SA</td>\n",
       "      <td>3</td>\n",
       "      <td>meta_7</td>\n",
       "      <td>0.62640</td>\n",
       "      <td>0.46418</td>\n",
       "      <td>0.48092</td>\n",
       "      <td>LSTM_with_Attention</td>\n",
       "      <td>False</td>\n",
       "      <td>['meta_7']</td>\n",
       "    </tr>\n",
       "    <tr>\n",
       "      <th>39672</th>\n",
       "      <td>PRIO3.SA</td>\n",
       "      <td>1</td>\n",
       "      <td>meta_7</td>\n",
       "      <td>0.48352</td>\n",
       "      <td>0.48352</td>\n",
       "      <td>0.48352</td>\n",
       "      <td>Dummy_model</td>\n",
       "      <td>False</td>\n",
       "      <td>['past_meta_7']</td>\n",
       "    </tr>\n",
       "    <tr>\n",
       "      <th>17587</th>\n",
       "      <td>PRIO3.SA</td>\n",
       "      <td>14</td>\n",
       "      <td>meta_7</td>\n",
       "      <td>0.34894</td>\n",
       "      <td>0.35718</td>\n",
       "      <td>0.35300</td>\n",
       "      <td>MLP</td>\n",
       "      <td>True</td>\n",
       "      <td>['meta_7']</td>\n",
       "    </tr>\n",
       "    <tr>\n",
       "      <th>39664</th>\n",
       "      <td>PRIO3.SA</td>\n",
       "      <td>1</td>\n",
       "      <td>meta_7</td>\n",
       "      <td>0.34315</td>\n",
       "      <td>0.34275</td>\n",
       "      <td>0.34295</td>\n",
       "      <td>Dummy_model</td>\n",
       "      <td>True</td>\n",
       "      <td>['past_meta_7']</td>\n",
       "    </tr>\n",
       "  </tbody>\n",
       "</table>\n",
       "</div>"
      ],
      "text/plain": [
       "          ativo  seq_len     alvo  precision   recall  f1-score  \\\n",
       "111    PETR3.SA        1  meta_14    0.55597  0.56142   0.55860   \n",
       "39603  PETR3.SA        1  meta_14    0.66893  0.66658   0.66773   \n",
       "101    PETR3.SA        1  meta_14    0.43912  0.44128   0.44018   \n",
       "39594  PETR3.SA        1  meta_14    0.43335  0.43335   0.43335   \n",
       "15227  PRIO3.SA        7  meta_14    0.66826  0.64541   0.65540   \n",
       "39704  PRIO3.SA        1  meta_14    0.65342  0.65342   0.65342   \n",
       "15219  PRIO3.SA        7  meta_14    0.50495  0.48843   0.49515   \n",
       "39696  PRIO3.SA        1  meta_14    0.49031  0.49031   0.49031   \n",
       "7651   PETR3.SA        4  meta_21    0.75945  0.66258   0.70115   \n",
       "39639  PETR3.SA        1  meta_21    0.70554  0.70281   0.70415   \n",
       "12556  PETR3.SA        6  meta_21    0.51268  0.49143   0.50011   \n",
       "39630  PETR3.SA        1  meta_21    0.48540  0.48540   0.48540   \n",
       "522    PRIO3.SA        1  meta_21    0.74257  0.74321   0.74289   \n",
       "39735  PRIO3.SA        1  meta_21    0.74257  0.74321   0.74289   \n",
       "514    PRIO3.SA        1  meta_21    0.62055  0.62055   0.62055   \n",
       "39727  PRIO3.SA        1  meta_21    0.62055  0.62055   0.62055   \n",
       "4977   PETR3.SA        3   meta_7    0.72648  0.47579   0.50342   \n",
       "39568  PETR3.SA        1   meta_7    0.53916  0.53916   0.53916   \n",
       "22207  PETR3.SA       28   meta_7    0.33797  0.34697   0.34241   \n",
       "39560  PETR3.SA        1   meta_7    0.32921  0.32921   0.32921   \n",
       "5257   PRIO3.SA        3   meta_7    0.62640  0.46418   0.48092   \n",
       "39672  PRIO3.SA        1   meta_7    0.48352  0.48352   0.48352   \n",
       "17587  PRIO3.SA       14   meta_7    0.34894  0.35718   0.35300   \n",
       "39664  PRIO3.SA        1   meta_7    0.34315  0.34275   0.34295   \n",
       "\n",
       "                     model   leak      feature_cols  \n",
       "111    LSTM_with_Attention  False       ['meta_14']  \n",
       "39603          Dummy_model  False  ['past_meta_14']  \n",
       "101    LSTM_with_Attention   True       ['meta_14']  \n",
       "39594          Dummy_model   True  ['past_meta_14']  \n",
       "15227                  MLP  False       ['meta_14']  \n",
       "39704          Dummy_model  False  ['past_meta_14']  \n",
       "15219                  MLP   True       ['meta_14']  \n",
       "39696          Dummy_model   True  ['past_meta_14']  \n",
       "7651                   KAN  False       ['meta_21']  \n",
       "39639          Dummy_model  False  ['past_meta_21']  \n",
       "12556                  MLP   True       ['meta_21']  \n",
       "39630          Dummy_model   True  ['past_meta_21']  \n",
       "522    LSTM_with_Attention  False       ['meta_21']  \n",
       "39735          Dummy_model  False  ['past_meta_21']  \n",
       "514    LSTM_with_Attention   True       ['meta_21']  \n",
       "39727          Dummy_model   True  ['past_meta_21']  \n",
       "4977                   KAN  False        ['meta_7']  \n",
       "39568          Dummy_model  False   ['past_meta_7']  \n",
       "22207  LSTM_with_Attention   True        ['meta_7']  \n",
       "39560          Dummy_model   True   ['past_meta_7']  \n",
       "5257   LSTM_with_Attention  False        ['meta_7']  \n",
       "39672          Dummy_model  False   ['past_meta_7']  \n",
       "17587                  MLP   True        ['meta_7']  \n",
       "39664          Dummy_model   True   ['past_meta_7']  "
      ]
     },
     "metadata": {},
     "output_type": "display_data"
    },
    {
     "name": "stdout",
     "output_type": "stream",
     "text": [
      "Metricas regressao - label diff_close_mean_z_score\n"
     ]
    },
    {
     "data": {
      "text/html": [
       "<div>\n",
       "<style scoped>\n",
       "    .dataframe tbody tr th:only-of-type {\n",
       "        vertical-align: middle;\n",
       "    }\n",
       "\n",
       "    .dataframe tbody tr th {\n",
       "        vertical-align: top;\n",
       "    }\n",
       "\n",
       "    .dataframe thead th {\n",
       "        text-align: right;\n",
       "    }\n",
       "</style>\n",
       "<table border=\"1\" class=\"dataframe\">\n",
       "  <thead>\n",
       "    <tr style=\"text-align: right;\">\n",
       "      <th></th>\n",
       "      <th>Mean Absolute Error (MAE)</th>\n",
       "      <th>Mean Squared Error (MSE)</th>\n",
       "      <th>Root Mean Squared Error (RMSE)</th>\n",
       "      <th>R-squared (R2)</th>\n",
       "      <th>Mean Absolute Percentage Error (MAPE)</th>\n",
       "      <th>ativo</th>\n",
       "      <th>alvo</th>\n",
       "      <th>seq_len</th>\n",
       "      <th>model</th>\n",
       "      <th>leak</th>\n",
       "    </tr>\n",
       "  </thead>\n",
       "  <tbody>\n",
       "    <tr>\n",
       "      <th>21</th>\n",
       "      <td>0.42061</td>\n",
       "      <td>0.42128</td>\n",
       "      <td>0.64906</td>\n",
       "      <td>0.72737</td>\n",
       "      <td>1.13465</td>\n",
       "      <td>PETR3.SA</td>\n",
       "      <td>diff_close_mean_z_score_14</td>\n",
       "      <td>1</td>\n",
       "      <td>MLP</td>\n",
       "      <td>False</td>\n",
       "    </tr>\n",
       "    <tr>\n",
       "      <th>596</th>\n",
       "      <td>0.53242</td>\n",
       "      <td>0.58694</td>\n",
       "      <td>0.76612</td>\n",
       "      <td>0.61799</td>\n",
       "      <td>1.49762</td>\n",
       "      <td>PETR3.SA</td>\n",
       "      <td>diff_close_mean_z_score_14</td>\n",
       "      <td>3</td>\n",
       "      <td>MLP</td>\n",
       "      <td>True</td>\n",
       "    </tr>\n",
       "    <tr>\n",
       "      <th>921</th>\n",
       "      <td>0.42128</td>\n",
       "      <td>0.37641</td>\n",
       "      <td>0.61352</td>\n",
       "      <td>0.74747</td>\n",
       "      <td>1.06357</td>\n",
       "      <td>PRIO3.SA</td>\n",
       "      <td>diff_close_mean_z_score_14</td>\n",
       "      <td>4</td>\n",
       "      <td>MLP</td>\n",
       "      <td>False</td>\n",
       "    </tr>\n",
       "    <tr>\n",
       "      <th>920</th>\n",
       "      <td>0.52801</td>\n",
       "      <td>0.52085</td>\n",
       "      <td>0.72170</td>\n",
       "      <td>0.64911</td>\n",
       "      <td>1.43553</td>\n",
       "      <td>PRIO3.SA</td>\n",
       "      <td>diff_close_mean_z_score_14</td>\n",
       "      <td>4</td>\n",
       "      <td>MLP</td>\n",
       "      <td>True</td>\n",
       "    </tr>\n",
       "    <tr>\n",
       "      <th>33</th>\n",
       "      <td>0.35096</td>\n",
       "      <td>0.31627</td>\n",
       "      <td>0.56238</td>\n",
       "      <td>0.80074</td>\n",
       "      <td>0.77326</td>\n",
       "      <td>PETR3.SA</td>\n",
       "      <td>diff_close_mean_z_score_21</td>\n",
       "      <td>1</td>\n",
       "      <td>MLP</td>\n",
       "      <td>False</td>\n",
       "    </tr>\n",
       "    <tr>\n",
       "      <th>32</th>\n",
       "      <td>0.45601</td>\n",
       "      <td>0.44708</td>\n",
       "      <td>0.66864</td>\n",
       "      <td>0.72368</td>\n",
       "      <td>0.99606</td>\n",
       "      <td>PETR3.SA</td>\n",
       "      <td>diff_close_mean_z_score_21</td>\n",
       "      <td>1</td>\n",
       "      <td>MLP</td>\n",
       "      <td>True</td>\n",
       "    </tr>\n",
       "    <tr>\n",
       "      <th>69</th>\n",
       "      <td>0.35600</td>\n",
       "      <td>0.28617</td>\n",
       "      <td>0.53495</td>\n",
       "      <td>0.82653</td>\n",
       "      <td>0.93495</td>\n",
       "      <td>PRIO3.SA</td>\n",
       "      <td>diff_close_mean_z_score_21</td>\n",
       "      <td>1</td>\n",
       "      <td>MLP</td>\n",
       "      <td>False</td>\n",
       "    </tr>\n",
       "    <tr>\n",
       "      <th>68</th>\n",
       "      <td>0.46039</td>\n",
       "      <td>0.40088</td>\n",
       "      <td>0.63315</td>\n",
       "      <td>0.75425</td>\n",
       "      <td>1.27224</td>\n",
       "      <td>PRIO3.SA</td>\n",
       "      <td>diff_close_mean_z_score_21</td>\n",
       "      <td>1</td>\n",
       "      <td>MLP</td>\n",
       "      <td>True</td>\n",
       "    </tr>\n",
       "    <tr>\n",
       "      <th>585</th>\n",
       "      <td>0.51527</td>\n",
       "      <td>0.54541</td>\n",
       "      <td>0.73852</td>\n",
       "      <td>0.54907</td>\n",
       "      <td>1.27261</td>\n",
       "      <td>PETR3.SA</td>\n",
       "      <td>diff_close_mean_z_score_7</td>\n",
       "      <td>3</td>\n",
       "      <td>MLP</td>\n",
       "      <td>False</td>\n",
       "    </tr>\n",
       "    <tr>\n",
       "      <th>2310</th>\n",
       "      <td>0.66265</td>\n",
       "      <td>0.74900</td>\n",
       "      <td>0.86545</td>\n",
       "      <td>0.39481</td>\n",
       "      <td>1.40114</td>\n",
       "      <td>PETR3.SA</td>\n",
       "      <td>diff_close_mean_z_score_7</td>\n",
       "      <td>21</td>\n",
       "      <td>LSTM_with_Attention</td>\n",
       "      <td>True</td>\n",
       "    </tr>\n",
       "    <tr>\n",
       "      <th>333</th>\n",
       "      <td>0.51576</td>\n",
       "      <td>0.51106</td>\n",
       "      <td>0.71488</td>\n",
       "      <td>0.58548</td>\n",
       "      <td>1.26178</td>\n",
       "      <td>PRIO3.SA</td>\n",
       "      <td>diff_close_mean_z_score_7</td>\n",
       "      <td>2</td>\n",
       "      <td>MLP</td>\n",
       "      <td>False</td>\n",
       "    </tr>\n",
       "    <tr>\n",
       "      <th>1484</th>\n",
       "      <td>0.63633</td>\n",
       "      <td>0.69748</td>\n",
       "      <td>0.83515</td>\n",
       "      <td>0.43874</td>\n",
       "      <td>1.68138</td>\n",
       "      <td>PRIO3.SA</td>\n",
       "      <td>diff_close_mean_z_score_7</td>\n",
       "      <td>6</td>\n",
       "      <td>MLP</td>\n",
       "      <td>True</td>\n",
       "    </tr>\n",
       "  </tbody>\n",
       "</table>\n",
       "</div>"
      ],
      "text/plain": [
       "      Mean Absolute Error (MAE)  Mean Squared Error (MSE)  \\\n",
       "21                      0.42061                   0.42128   \n",
       "596                     0.53242                   0.58694   \n",
       "921                     0.42128                   0.37641   \n",
       "920                     0.52801                   0.52085   \n",
       "33                      0.35096                   0.31627   \n",
       "32                      0.45601                   0.44708   \n",
       "69                      0.35600                   0.28617   \n",
       "68                      0.46039                   0.40088   \n",
       "585                     0.51527                   0.54541   \n",
       "2310                    0.66265                   0.74900   \n",
       "333                     0.51576                   0.51106   \n",
       "1484                    0.63633                   0.69748   \n",
       "\n",
       "      Root Mean Squared Error (RMSE)  R-squared (R2)  \\\n",
       "21                           0.64906         0.72737   \n",
       "596                          0.76612         0.61799   \n",
       "921                          0.61352         0.74747   \n",
       "920                          0.72170         0.64911   \n",
       "33                           0.56238         0.80074   \n",
       "32                           0.66864         0.72368   \n",
       "69                           0.53495         0.82653   \n",
       "68                           0.63315         0.75425   \n",
       "585                          0.73852         0.54907   \n",
       "2310                         0.86545         0.39481   \n",
       "333                          0.71488         0.58548   \n",
       "1484                         0.83515         0.43874   \n",
       "\n",
       "      Mean Absolute Percentage Error (MAPE)     ativo  \\\n",
       "21                                  1.13465  PETR3.SA   \n",
       "596                                 1.49762  PETR3.SA   \n",
       "921                                 1.06357  PRIO3.SA   \n",
       "920                                 1.43553  PRIO3.SA   \n",
       "33                                  0.77326  PETR3.SA   \n",
       "32                                  0.99606  PETR3.SA   \n",
       "69                                  0.93495  PRIO3.SA   \n",
       "68                                  1.27224  PRIO3.SA   \n",
       "585                                 1.27261  PETR3.SA   \n",
       "2310                                1.40114  PETR3.SA   \n",
       "333                                 1.26178  PRIO3.SA   \n",
       "1484                                1.68138  PRIO3.SA   \n",
       "\n",
       "                            alvo  seq_len                model   leak  \n",
       "21    diff_close_mean_z_score_14        1                  MLP  False  \n",
       "596   diff_close_mean_z_score_14        3                  MLP   True  \n",
       "921   diff_close_mean_z_score_14        4                  MLP  False  \n",
       "920   diff_close_mean_z_score_14        4                  MLP   True  \n",
       "33    diff_close_mean_z_score_21        1                  MLP  False  \n",
       "32    diff_close_mean_z_score_21        1                  MLP   True  \n",
       "69    diff_close_mean_z_score_21        1                  MLP  False  \n",
       "68    diff_close_mean_z_score_21        1                  MLP   True  \n",
       "585    diff_close_mean_z_score_7        3                  MLP  False  \n",
       "2310   diff_close_mean_z_score_7       21  LSTM_with_Attention   True  \n",
       "333    diff_close_mean_z_score_7        2                  MLP  False  \n",
       "1484   diff_close_mean_z_score_7        6                  MLP   True  "
      ]
     },
     "metadata": {},
     "output_type": "display_data"
    },
    {
     "name": "stdout",
     "output_type": "stream",
     "text": [
      "\n",
      "##############################################\n",
      "# DOMAIN: Mineração\n",
      "# ASSETS: ['VALE3.SA', 'GGBR3.SA']\n",
      "##############################################\n",
      "          \n",
      "Metricas macro - label meta\n"
     ]
    },
    {
     "data": {
      "text/html": [
       "<div>\n",
       "<style scoped>\n",
       "    .dataframe tbody tr th:only-of-type {\n",
       "        vertical-align: middle;\n",
       "    }\n",
       "\n",
       "    .dataframe tbody tr th {\n",
       "        vertical-align: top;\n",
       "    }\n",
       "\n",
       "    .dataframe thead th {\n",
       "        text-align: right;\n",
       "    }\n",
       "</style>\n",
       "<table border=\"1\" class=\"dataframe\">\n",
       "  <thead>\n",
       "    <tr style=\"text-align: right;\">\n",
       "      <th></th>\n",
       "      <th>ativo</th>\n",
       "      <th>seq_len</th>\n",
       "      <th>alvo</th>\n",
       "      <th>precision</th>\n",
       "      <th>recall</th>\n",
       "      <th>f1-score</th>\n",
       "      <th>model</th>\n",
       "      <th>leak</th>\n",
       "      <th>feature_cols</th>\n",
       "    </tr>\n",
       "  </thead>\n",
       "  <tbody>\n",
       "    <tr>\n",
       "      <th>10883</th>\n",
       "      <td>GGBR3.SA</td>\n",
       "      <td>5</td>\n",
       "      <td>meta_14</td>\n",
       "      <td>0.72170</td>\n",
       "      <td>0.64954</td>\n",
       "      <td>0.67334</td>\n",
       "      <td>LSTM_with_Attention</td>\n",
       "      <td>False</td>\n",
       "      <td>['meta_14']</td>\n",
       "    </tr>\n",
       "    <tr>\n",
       "      <th>39903</th>\n",
       "      <td>GGBR3.SA</td>\n",
       "      <td>1</td>\n",
       "      <td>meta_14</td>\n",
       "      <td>0.69012</td>\n",
       "      <td>0.69012</td>\n",
       "      <td>0.69012</td>\n",
       "      <td>Dummy_model</td>\n",
       "      <td>False</td>\n",
       "      <td>['past_meta_14']</td>\n",
       "    </tr>\n",
       "    <tr>\n",
       "      <th>18273</th>\n",
       "      <td>GGBR3.SA</td>\n",
       "      <td>14</td>\n",
       "      <td>meta_14</td>\n",
       "      <td>0.57122</td>\n",
       "      <td>0.49252</td>\n",
       "      <td>0.51335</td>\n",
       "      <td>LSTM_with_Attention</td>\n",
       "      <td>True</td>\n",
       "      <td>['meta_14']</td>\n",
       "    </tr>\n",
       "    <tr>\n",
       "      <th>39896</th>\n",
       "      <td>GGBR3.SA</td>\n",
       "      <td>1</td>\n",
       "      <td>meta_14</td>\n",
       "      <td>0.52911</td>\n",
       "      <td>0.52871</td>\n",
       "      <td>0.52891</td>\n",
       "      <td>Dummy_model</td>\n",
       "      <td>True</td>\n",
       "      <td>['past_meta_14']</td>\n",
       "    </tr>\n",
       "    <tr>\n",
       "      <th>10587</th>\n",
       "      <td>VALE3.SA</td>\n",
       "      <td>5</td>\n",
       "      <td>meta_14</td>\n",
       "      <td>0.70274</td>\n",
       "      <td>0.67898</td>\n",
       "      <td>0.68914</td>\n",
       "      <td>MLP</td>\n",
       "      <td>False</td>\n",
       "      <td>['meta_14']</td>\n",
       "    </tr>\n",
       "    <tr>\n",
       "      <th>39800</th>\n",
       "      <td>VALE3.SA</td>\n",
       "      <td>1</td>\n",
       "      <td>meta_14</td>\n",
       "      <td>0.70389</td>\n",
       "      <td>0.70389</td>\n",
       "      <td>0.70389</td>\n",
       "      <td>Dummy_model</td>\n",
       "      <td>False</td>\n",
       "      <td>['past_meta_14']</td>\n",
       "    </tr>\n",
       "    <tr>\n",
       "      <th>10579</th>\n",
       "      <td>VALE3.SA</td>\n",
       "      <td>5</td>\n",
       "      <td>meta_14</td>\n",
       "      <td>0.56838</td>\n",
       "      <td>0.55392</td>\n",
       "      <td>0.55995</td>\n",
       "      <td>MLP</td>\n",
       "      <td>True</td>\n",
       "      <td>['meta_14']</td>\n",
       "    </tr>\n",
       "    <tr>\n",
       "      <th>39792</th>\n",
       "      <td>VALE3.SA</td>\n",
       "      <td>1</td>\n",
       "      <td>meta_14</td>\n",
       "      <td>0.55919</td>\n",
       "      <td>0.55919</td>\n",
       "      <td>0.55919</td>\n",
       "      <td>Dummy_model</td>\n",
       "      <td>True</td>\n",
       "      <td>['past_meta_14']</td>\n",
       "    </tr>\n",
       "    <tr>\n",
       "      <th>6091</th>\n",
       "      <td>GGBR3.SA</td>\n",
       "      <td>3</td>\n",
       "      <td>meta_21</td>\n",
       "      <td>0.65164</td>\n",
       "      <td>0.57703</td>\n",
       "      <td>0.60619</td>\n",
       "      <td>KAN</td>\n",
       "      <td>False</td>\n",
       "      <td>['meta_21']</td>\n",
       "    </tr>\n",
       "    <tr>\n",
       "      <th>39944</th>\n",
       "      <td>GGBR3.SA</td>\n",
       "      <td>1</td>\n",
       "      <td>meta_21</td>\n",
       "      <td>0.66197</td>\n",
       "      <td>0.66161</td>\n",
       "      <td>0.66179</td>\n",
       "      <td>Dummy_model</td>\n",
       "      <td>False</td>\n",
       "      <td>['past_meta_21']</td>\n",
       "    </tr>\n",
       "    <tr>\n",
       "      <th>1117</th>\n",
       "      <td>GGBR3.SA</td>\n",
       "      <td>1</td>\n",
       "      <td>meta_21</td>\n",
       "      <td>0.43312</td>\n",
       "      <td>0.44283</td>\n",
       "      <td>0.43777</td>\n",
       "      <td>LSTM_with_Attention</td>\n",
       "      <td>True</td>\n",
       "      <td>['meta_21']</td>\n",
       "    </tr>\n",
       "    <tr>\n",
       "      <th>39934</th>\n",
       "      <td>GGBR3.SA</td>\n",
       "      <td>1</td>\n",
       "      <td>meta_21</td>\n",
       "      <td>0.42447</td>\n",
       "      <td>0.42408</td>\n",
       "      <td>0.42427</td>\n",
       "      <td>Dummy_model</td>\n",
       "      <td>True</td>\n",
       "      <td>['past_meta_21']</td>\n",
       "    </tr>\n",
       "    <tr>\n",
       "      <th>5779</th>\n",
       "      <td>VALE3.SA</td>\n",
       "      <td>3</td>\n",
       "      <td>meta_21</td>\n",
       "      <td>0.72269</td>\n",
       "      <td>0.67719</td>\n",
       "      <td>0.69573</td>\n",
       "      <td>KAN</td>\n",
       "      <td>False</td>\n",
       "      <td>['meta_21']</td>\n",
       "    </tr>\n",
       "    <tr>\n",
       "      <th>39839</th>\n",
       "      <td>VALE3.SA</td>\n",
       "      <td>1</td>\n",
       "      <td>meta_21</td>\n",
       "      <td>0.70587</td>\n",
       "      <td>0.70695</td>\n",
       "      <td>0.70641</td>\n",
       "      <td>Dummy_model</td>\n",
       "      <td>False</td>\n",
       "      <td>['past_meta_21']</td>\n",
       "    </tr>\n",
       "    <tr>\n",
       "      <th>805</th>\n",
       "      <td>VALE3.SA</td>\n",
       "      <td>1</td>\n",
       "      <td>meta_21</td>\n",
       "      <td>0.45829</td>\n",
       "      <td>0.46621</td>\n",
       "      <td>0.46215</td>\n",
       "      <td>LSTM_with_Attention</td>\n",
       "      <td>True</td>\n",
       "      <td>['meta_21']</td>\n",
       "    </tr>\n",
       "    <tr>\n",
       "      <th>39830</th>\n",
       "      <td>VALE3.SA</td>\n",
       "      <td>1</td>\n",
       "      <td>meta_21</td>\n",
       "      <td>0.45227</td>\n",
       "      <td>0.45227</td>\n",
       "      <td>0.45227</td>\n",
       "      <td>Dummy_model</td>\n",
       "      <td>True</td>\n",
       "      <td>['past_meta_21']</td>\n",
       "    </tr>\n",
       "    <tr>\n",
       "      <th>3427</th>\n",
       "      <td>GGBR3.SA</td>\n",
       "      <td>2</td>\n",
       "      <td>meta_7</td>\n",
       "      <td>0.60592</td>\n",
       "      <td>0.48102</td>\n",
       "      <td>0.50293</td>\n",
       "      <td>KAN</td>\n",
       "      <td>False</td>\n",
       "      <td>['meta_7']</td>\n",
       "    </tr>\n",
       "    <tr>\n",
       "      <th>39872</th>\n",
       "      <td>GGBR3.SA</td>\n",
       "      <td>1</td>\n",
       "      <td>meta_7</td>\n",
       "      <td>0.52066</td>\n",
       "      <td>0.52066</td>\n",
       "      <td>0.52066</td>\n",
       "      <td>Dummy_model</td>\n",
       "      <td>False</td>\n",
       "      <td>['past_meta_7']</td>\n",
       "    </tr>\n",
       "    <tr>\n",
       "      <th>28073</th>\n",
       "      <td>GGBR3.SA</td>\n",
       "      <td>42</td>\n",
       "      <td>meta_7</td>\n",
       "      <td>0.35475</td>\n",
       "      <td>0.36459</td>\n",
       "      <td>0.35960</td>\n",
       "      <td>LSTM_with_Attention</td>\n",
       "      <td>True</td>\n",
       "      <td>['meta_7']</td>\n",
       "    </tr>\n",
       "    <tr>\n",
       "      <th>39864</th>\n",
       "      <td>GGBR3.SA</td>\n",
       "      <td>1</td>\n",
       "      <td>meta_7</td>\n",
       "      <td>0.34135</td>\n",
       "      <td>0.34101</td>\n",
       "      <td>0.34118</td>\n",
       "      <td>Dummy_model</td>\n",
       "      <td>True</td>\n",
       "      <td>['past_meta_7']</td>\n",
       "    </tr>\n",
       "    <tr>\n",
       "      <th>3115</th>\n",
       "      <td>VALE3.SA</td>\n",
       "      <td>2</td>\n",
       "      <td>meta_7</td>\n",
       "      <td>0.56112</td>\n",
       "      <td>0.50723</td>\n",
       "      <td>0.52445</td>\n",
       "      <td>KAN</td>\n",
       "      <td>False</td>\n",
       "      <td>['meta_7']</td>\n",
       "    </tr>\n",
       "    <tr>\n",
       "      <th>39768</th>\n",
       "      <td>VALE3.SA</td>\n",
       "      <td>1</td>\n",
       "      <td>meta_7</td>\n",
       "      <td>0.60371</td>\n",
       "      <td>0.60401</td>\n",
       "      <td>0.60386</td>\n",
       "      <td>Dummy_model</td>\n",
       "      <td>False</td>\n",
       "      <td>['past_meta_7']</td>\n",
       "    </tr>\n",
       "    <tr>\n",
       "      <th>12967</th>\n",
       "      <td>VALE3.SA</td>\n",
       "      <td>6</td>\n",
       "      <td>meta_7</td>\n",
       "      <td>0.56397</td>\n",
       "      <td>0.37480</td>\n",
       "      <td>0.39547</td>\n",
       "      <td>KAN</td>\n",
       "      <td>True</td>\n",
       "      <td>['meta_7']</td>\n",
       "    </tr>\n",
       "    <tr>\n",
       "      <th>39760</th>\n",
       "      <td>VALE3.SA</td>\n",
       "      <td>1</td>\n",
       "      <td>meta_7</td>\n",
       "      <td>0.40358</td>\n",
       "      <td>0.40358</td>\n",
       "      <td>0.40358</td>\n",
       "      <td>Dummy_model</td>\n",
       "      <td>True</td>\n",
       "      <td>['past_meta_7']</td>\n",
       "    </tr>\n",
       "  </tbody>\n",
       "</table>\n",
       "</div>"
      ],
      "text/plain": [
       "          ativo  seq_len     alvo  precision   recall  f1-score  \\\n",
       "10883  GGBR3.SA        5  meta_14    0.72170  0.64954   0.67334   \n",
       "39903  GGBR3.SA        1  meta_14    0.69012  0.69012   0.69012   \n",
       "18273  GGBR3.SA       14  meta_14    0.57122  0.49252   0.51335   \n",
       "39896  GGBR3.SA        1  meta_14    0.52911  0.52871   0.52891   \n",
       "10587  VALE3.SA        5  meta_14    0.70274  0.67898   0.68914   \n",
       "39800  VALE3.SA        1  meta_14    0.70389  0.70389   0.70389   \n",
       "10579  VALE3.SA        5  meta_14    0.56838  0.55392   0.55995   \n",
       "39792  VALE3.SA        1  meta_14    0.55919  0.55919   0.55919   \n",
       "6091   GGBR3.SA        3  meta_21    0.65164  0.57703   0.60619   \n",
       "39944  GGBR3.SA        1  meta_21    0.66197  0.66161   0.66179   \n",
       "1117   GGBR3.SA        1  meta_21    0.43312  0.44283   0.43777   \n",
       "39934  GGBR3.SA        1  meta_21    0.42447  0.42408   0.42427   \n",
       "5779   VALE3.SA        3  meta_21    0.72269  0.67719   0.69573   \n",
       "39839  VALE3.SA        1  meta_21    0.70587  0.70695   0.70641   \n",
       "805    VALE3.SA        1  meta_21    0.45829  0.46621   0.46215   \n",
       "39830  VALE3.SA        1  meta_21    0.45227  0.45227   0.45227   \n",
       "3427   GGBR3.SA        2   meta_7    0.60592  0.48102   0.50293   \n",
       "39872  GGBR3.SA        1   meta_7    0.52066  0.52066   0.52066   \n",
       "28073  GGBR3.SA       42   meta_7    0.35475  0.36459   0.35960   \n",
       "39864  GGBR3.SA        1   meta_7    0.34135  0.34101   0.34118   \n",
       "3115   VALE3.SA        2   meta_7    0.56112  0.50723   0.52445   \n",
       "39768  VALE3.SA        1   meta_7    0.60371  0.60401   0.60386   \n",
       "12967  VALE3.SA        6   meta_7    0.56397  0.37480   0.39547   \n",
       "39760  VALE3.SA        1   meta_7    0.40358  0.40358   0.40358   \n",
       "\n",
       "                     model   leak      feature_cols  \n",
       "10883  LSTM_with_Attention  False       ['meta_14']  \n",
       "39903          Dummy_model  False  ['past_meta_14']  \n",
       "18273  LSTM_with_Attention   True       ['meta_14']  \n",
       "39896          Dummy_model   True  ['past_meta_14']  \n",
       "10587                  MLP  False       ['meta_14']  \n",
       "39800          Dummy_model  False  ['past_meta_14']  \n",
       "10579                  MLP   True       ['meta_14']  \n",
       "39792          Dummy_model   True  ['past_meta_14']  \n",
       "6091                   KAN  False       ['meta_21']  \n",
       "39944          Dummy_model  False  ['past_meta_21']  \n",
       "1117   LSTM_with_Attention   True       ['meta_21']  \n",
       "39934          Dummy_model   True  ['past_meta_21']  \n",
       "5779                   KAN  False       ['meta_21']  \n",
       "39839          Dummy_model  False  ['past_meta_21']  \n",
       "805    LSTM_with_Attention   True       ['meta_21']  \n",
       "39830          Dummy_model   True  ['past_meta_21']  \n",
       "3427                   KAN  False        ['meta_7']  \n",
       "39872          Dummy_model  False   ['past_meta_7']  \n",
       "28073  LSTM_with_Attention   True        ['meta_7']  \n",
       "39864          Dummy_model   True   ['past_meta_7']  \n",
       "3115                   KAN  False        ['meta_7']  \n",
       "39768          Dummy_model  False   ['past_meta_7']  \n",
       "12967                  KAN   True        ['meta_7']  \n",
       "39760          Dummy_model   True   ['past_meta_7']  "
      ]
     },
     "metadata": {},
     "output_type": "display_data"
    },
    {
     "name": "stdout",
     "output_type": "stream",
     "text": [
      "Metricas regressao - label diff_close_mean_z_score\n"
     ]
    },
    {
     "data": {
      "text/html": [
       "<div>\n",
       "<style scoped>\n",
       "    .dataframe tbody tr th:only-of-type {\n",
       "        vertical-align: middle;\n",
       "    }\n",
       "\n",
       "    .dataframe tbody tr th {\n",
       "        vertical-align: top;\n",
       "    }\n",
       "\n",
       "    .dataframe thead th {\n",
       "        text-align: right;\n",
       "    }\n",
       "</style>\n",
       "<table border=\"1\" class=\"dataframe\">\n",
       "  <thead>\n",
       "    <tr style=\"text-align: right;\">\n",
       "      <th></th>\n",
       "      <th>Mean Absolute Error (MAE)</th>\n",
       "      <th>Mean Squared Error (MSE)</th>\n",
       "      <th>Root Mean Squared Error (RMSE)</th>\n",
       "      <th>R-squared (R2)</th>\n",
       "      <th>Mean Absolute Percentage Error (MAPE)</th>\n",
       "      <th>ativo</th>\n",
       "      <th>alvo</th>\n",
       "      <th>seq_len</th>\n",
       "      <th>model</th>\n",
       "      <th>leak</th>\n",
       "    </tr>\n",
       "  </thead>\n",
       "  <tbody>\n",
       "    <tr>\n",
       "      <th>129</th>\n",
       "      <td>0.42524</td>\n",
       "      <td>0.37198</td>\n",
       "      <td>0.60990</td>\n",
       "      <td>0.75846</td>\n",
       "      <td>2.009560e+00</td>\n",
       "      <td>GGBR3.SA</td>\n",
       "      <td>diff_close_mean_z_score_14</td>\n",
       "      <td>1</td>\n",
       "      <td>MLP</td>\n",
       "      <td>False</td>\n",
       "    </tr>\n",
       "    <tr>\n",
       "      <th>128</th>\n",
       "      <td>0.53326</td>\n",
       "      <td>0.52139</td>\n",
       "      <td>0.72208</td>\n",
       "      <td>0.65578</td>\n",
       "      <td>2.693580e+00</td>\n",
       "      <td>GGBR3.SA</td>\n",
       "      <td>diff_close_mean_z_score_14</td>\n",
       "      <td>1</td>\n",
       "      <td>MLP</td>\n",
       "      <td>True</td>\n",
       "    </tr>\n",
       "    <tr>\n",
       "      <th>93</th>\n",
       "      <td>0.39608</td>\n",
       "      <td>0.34049</td>\n",
       "      <td>0.58352</td>\n",
       "      <td>0.78793</td>\n",
       "      <td>7.814200e-01</td>\n",
       "      <td>VALE3.SA</td>\n",
       "      <td>diff_close_mean_z_score_14</td>\n",
       "      <td>1</td>\n",
       "      <td>MLP</td>\n",
       "      <td>False</td>\n",
       "    </tr>\n",
       "    <tr>\n",
       "      <th>92</th>\n",
       "      <td>0.49646</td>\n",
       "      <td>0.47386</td>\n",
       "      <td>0.68837</td>\n",
       "      <td>0.69770</td>\n",
       "      <td>1.091380e+00</td>\n",
       "      <td>VALE3.SA</td>\n",
       "      <td>diff_close_mean_z_score_14</td>\n",
       "      <td>1</td>\n",
       "      <td>MLP</td>\n",
       "      <td>True</td>\n",
       "    </tr>\n",
       "    <tr>\n",
       "      <th>141</th>\n",
       "      <td>0.35077</td>\n",
       "      <td>0.28001</td>\n",
       "      <td>0.52916</td>\n",
       "      <td>0.83157</td>\n",
       "      <td>1.196700e+00</td>\n",
       "      <td>GGBR3.SA</td>\n",
       "      <td>diff_close_mean_z_score_21</td>\n",
       "      <td>1</td>\n",
       "      <td>MLP</td>\n",
       "      <td>False</td>\n",
       "    </tr>\n",
       "    <tr>\n",
       "      <th>140</th>\n",
       "      <td>0.45798</td>\n",
       "      <td>0.40463</td>\n",
       "      <td>0.63611</td>\n",
       "      <td>0.75283</td>\n",
       "      <td>1.678920e+00</td>\n",
       "      <td>GGBR3.SA</td>\n",
       "      <td>diff_close_mean_z_score_21</td>\n",
       "      <td>1</td>\n",
       "      <td>MLP</td>\n",
       "      <td>True</td>\n",
       "    </tr>\n",
       "    <tr>\n",
       "      <th>105</th>\n",
       "      <td>0.31313</td>\n",
       "      <td>0.22250</td>\n",
       "      <td>0.47170</td>\n",
       "      <td>0.87689</td>\n",
       "      <td>9.404800e-01</td>\n",
       "      <td>VALE3.SA</td>\n",
       "      <td>diff_close_mean_z_score_21</td>\n",
       "      <td>1</td>\n",
       "      <td>MLP</td>\n",
       "      <td>False</td>\n",
       "    </tr>\n",
       "    <tr>\n",
       "      <th>104</th>\n",
       "      <td>0.41640</td>\n",
       "      <td>0.34656</td>\n",
       "      <td>0.58870</td>\n",
       "      <td>0.80222</td>\n",
       "      <td>1.294200e+00</td>\n",
       "      <td>VALE3.SA</td>\n",
       "      <td>diff_close_mean_z_score_21</td>\n",
       "      <td>1</td>\n",
       "      <td>MLP</td>\n",
       "      <td>True</td>\n",
       "    </tr>\n",
       "    <tr>\n",
       "      <th>693</th>\n",
       "      <td>0.51688</td>\n",
       "      <td>0.52503</td>\n",
       "      <td>0.72459</td>\n",
       "      <td>0.55768</td>\n",
       "      <td>1.057470e+00</td>\n",
       "      <td>GGBR3.SA</td>\n",
       "      <td>diff_close_mean_z_score_7</td>\n",
       "      <td>3</td>\n",
       "      <td>MLP</td>\n",
       "      <td>False</td>\n",
       "    </tr>\n",
       "    <tr>\n",
       "      <th>114</th>\n",
       "      <td>0.66171</td>\n",
       "      <td>0.72284</td>\n",
       "      <td>0.85020</td>\n",
       "      <td>0.40137</td>\n",
       "      <td>1.241280e+00</td>\n",
       "      <td>GGBR3.SA</td>\n",
       "      <td>diff_close_mean_z_score_7</td>\n",
       "      <td>1</td>\n",
       "      <td>LSTM_with_Attention</td>\n",
       "      <td>True</td>\n",
       "    </tr>\n",
       "    <tr>\n",
       "      <th>657</th>\n",
       "      <td>0.50214</td>\n",
       "      <td>0.47063</td>\n",
       "      <td>0.68602</td>\n",
       "      <td>0.64210</td>\n",
       "      <td>1.194421e+11</td>\n",
       "      <td>VALE3.SA</td>\n",
       "      <td>diff_close_mean_z_score_7</td>\n",
       "      <td>3</td>\n",
       "      <td>MLP</td>\n",
       "      <td>False</td>\n",
       "    </tr>\n",
       "    <tr>\n",
       "      <th>1520</th>\n",
       "      <td>0.61139</td>\n",
       "      <td>0.63699</td>\n",
       "      <td>0.79812</td>\n",
       "      <td>0.50481</td>\n",
       "      <td>1.895828e+11</td>\n",
       "      <td>VALE3.SA</td>\n",
       "      <td>diff_close_mean_z_score_7</td>\n",
       "      <td>6</td>\n",
       "      <td>MLP</td>\n",
       "      <td>True</td>\n",
       "    </tr>\n",
       "  </tbody>\n",
       "</table>\n",
       "</div>"
      ],
      "text/plain": [
       "      Mean Absolute Error (MAE)  Mean Squared Error (MSE)  \\\n",
       "129                     0.42524                   0.37198   \n",
       "128                     0.53326                   0.52139   \n",
       "93                      0.39608                   0.34049   \n",
       "92                      0.49646                   0.47386   \n",
       "141                     0.35077                   0.28001   \n",
       "140                     0.45798                   0.40463   \n",
       "105                     0.31313                   0.22250   \n",
       "104                     0.41640                   0.34656   \n",
       "693                     0.51688                   0.52503   \n",
       "114                     0.66171                   0.72284   \n",
       "657                     0.50214                   0.47063   \n",
       "1520                    0.61139                   0.63699   \n",
       "\n",
       "      Root Mean Squared Error (RMSE)  R-squared (R2)  \\\n",
       "129                          0.60990         0.75846   \n",
       "128                          0.72208         0.65578   \n",
       "93                           0.58352         0.78793   \n",
       "92                           0.68837         0.69770   \n",
       "141                          0.52916         0.83157   \n",
       "140                          0.63611         0.75283   \n",
       "105                          0.47170         0.87689   \n",
       "104                          0.58870         0.80222   \n",
       "693                          0.72459         0.55768   \n",
       "114                          0.85020         0.40137   \n",
       "657                          0.68602         0.64210   \n",
       "1520                         0.79812         0.50481   \n",
       "\n",
       "      Mean Absolute Percentage Error (MAPE)     ativo  \\\n",
       "129                            2.009560e+00  GGBR3.SA   \n",
       "128                            2.693580e+00  GGBR3.SA   \n",
       "93                             7.814200e-01  VALE3.SA   \n",
       "92                             1.091380e+00  VALE3.SA   \n",
       "141                            1.196700e+00  GGBR3.SA   \n",
       "140                            1.678920e+00  GGBR3.SA   \n",
       "105                            9.404800e-01  VALE3.SA   \n",
       "104                            1.294200e+00  VALE3.SA   \n",
       "693                            1.057470e+00  GGBR3.SA   \n",
       "114                            1.241280e+00  GGBR3.SA   \n",
       "657                            1.194421e+11  VALE3.SA   \n",
       "1520                           1.895828e+11  VALE3.SA   \n",
       "\n",
       "                            alvo  seq_len                model   leak  \n",
       "129   diff_close_mean_z_score_14        1                  MLP  False  \n",
       "128   diff_close_mean_z_score_14        1                  MLP   True  \n",
       "93    diff_close_mean_z_score_14        1                  MLP  False  \n",
       "92    diff_close_mean_z_score_14        1                  MLP   True  \n",
       "141   diff_close_mean_z_score_21        1                  MLP  False  \n",
       "140   diff_close_mean_z_score_21        1                  MLP   True  \n",
       "105   diff_close_mean_z_score_21        1                  MLP  False  \n",
       "104   diff_close_mean_z_score_21        1                  MLP   True  \n",
       "693    diff_close_mean_z_score_7        3                  MLP  False  \n",
       "114    diff_close_mean_z_score_7        1  LSTM_with_Attention   True  \n",
       "657    diff_close_mean_z_score_7        3                  MLP  False  \n",
       "1520   diff_close_mean_z_score_7        6                  MLP   True  "
      ]
     },
     "metadata": {},
     "output_type": "display_data"
    },
    {
     "name": "stdout",
     "output_type": "stream",
     "text": [
      "\n",
      "##############################################\n",
      "# DOMAIN: Financeiro\n",
      "# ASSETS: ['ABCB4.SA', 'ITUB3.SA']\n",
      "##############################################\n",
      "          \n",
      "Metricas macro - label meta\n"
     ]
    },
    {
     "data": {
      "text/html": [
       "<div>\n",
       "<style scoped>\n",
       "    .dataframe tbody tr th:only-of-type {\n",
       "        vertical-align: middle;\n",
       "    }\n",
       "\n",
       "    .dataframe tbody tr th {\n",
       "        vertical-align: top;\n",
       "    }\n",
       "\n",
       "    .dataframe thead th {\n",
       "        text-align: right;\n",
       "    }\n",
       "</style>\n",
       "<table border=\"1\" class=\"dataframe\">\n",
       "  <thead>\n",
       "    <tr style=\"text-align: right;\">\n",
       "      <th></th>\n",
       "      <th>ativo</th>\n",
       "      <th>seq_len</th>\n",
       "      <th>alvo</th>\n",
       "      <th>precision</th>\n",
       "      <th>recall</th>\n",
       "      <th>f1-score</th>\n",
       "      <th>model</th>\n",
       "      <th>leak</th>\n",
       "      <th>feature_cols</th>\n",
       "    </tr>\n",
       "  </thead>\n",
       "  <tbody>\n",
       "    <tr>\n",
       "      <th>6281</th>\n",
       "      <td>ABCB4.SA</td>\n",
       "      <td>3</td>\n",
       "      <td>meta_14</td>\n",
       "      <td>0.66345</td>\n",
       "      <td>0.65114</td>\n",
       "      <td>0.65700</td>\n",
       "      <td>MLP</td>\n",
       "      <td>False</td>\n",
       "      <td>['meta_14']</td>\n",
       "    </tr>\n",
       "    <tr>\n",
       "      <th>40008</th>\n",
       "      <td>ABCB4.SA</td>\n",
       "      <td>1</td>\n",
       "      <td>meta_14</td>\n",
       "      <td>0.64893</td>\n",
       "      <td>0.64893</td>\n",
       "      <td>0.64893</td>\n",
       "      <td>Dummy_model</td>\n",
       "      <td>False</td>\n",
       "      <td>['past_meta_14']</td>\n",
       "    </tr>\n",
       "    <tr>\n",
       "      <th>6273</th>\n",
       "      <td>ABCB4.SA</td>\n",
       "      <td>3</td>\n",
       "      <td>meta_14</td>\n",
       "      <td>0.48402</td>\n",
       "      <td>0.47445</td>\n",
       "      <td>0.47889</td>\n",
       "      <td>MLP</td>\n",
       "      <td>True</td>\n",
       "      <td>['meta_14']</td>\n",
       "    </tr>\n",
       "    <tr>\n",
       "      <th>40000</th>\n",
       "      <td>ABCB4.SA</td>\n",
       "      <td>1</td>\n",
       "      <td>meta_14</td>\n",
       "      <td>0.47122</td>\n",
       "      <td>0.47122</td>\n",
       "      <td>0.47122</td>\n",
       "      <td>Dummy_model</td>\n",
       "      <td>True</td>\n",
       "      <td>['past_meta_14']</td>\n",
       "    </tr>\n",
       "    <tr>\n",
       "      <th>1643</th>\n",
       "      <td>ITUB3.SA</td>\n",
       "      <td>1</td>\n",
       "      <td>meta_14</td>\n",
       "      <td>0.57765</td>\n",
       "      <td>0.57957</td>\n",
       "      <td>0.57860</td>\n",
       "      <td>LSTM_with_Attention</td>\n",
       "      <td>False</td>\n",
       "      <td>['meta_14']</td>\n",
       "    </tr>\n",
       "    <tr>\n",
       "      <th>40112</th>\n",
       "      <td>ITUB3.SA</td>\n",
       "      <td>1</td>\n",
       "      <td>meta_14</td>\n",
       "      <td>0.57602</td>\n",
       "      <td>0.57630</td>\n",
       "      <td>0.57616</td>\n",
       "      <td>Dummy_model</td>\n",
       "      <td>False</td>\n",
       "      <td>['past_meta_14']</td>\n",
       "    </tr>\n",
       "    <tr>\n",
       "      <th>1634</th>\n",
       "      <td>ITUB3.SA</td>\n",
       "      <td>1</td>\n",
       "      <td>meta_14</td>\n",
       "      <td>0.46318</td>\n",
       "      <td>0.46499</td>\n",
       "      <td>0.46407</td>\n",
       "      <td>LSTM_with_Attention</td>\n",
       "      <td>True</td>\n",
       "      <td>['meta_14']</td>\n",
       "    </tr>\n",
       "    <tr>\n",
       "      <th>40103</th>\n",
       "      <td>ITUB3.SA</td>\n",
       "      <td>1</td>\n",
       "      <td>meta_14</td>\n",
       "      <td>0.46040</td>\n",
       "      <td>0.46071</td>\n",
       "      <td>0.46056</td>\n",
       "      <td>Dummy_model</td>\n",
       "      <td>True</td>\n",
       "      <td>['past_meta_14']</td>\n",
       "    </tr>\n",
       "    <tr>\n",
       "      <th>21205</th>\n",
       "      <td>ABCB4.SA</td>\n",
       "      <td>21</td>\n",
       "      <td>meta_21</td>\n",
       "      <td>0.62418</td>\n",
       "      <td>0.61196</td>\n",
       "      <td>0.61751</td>\n",
       "      <td>KAN</td>\n",
       "      <td>False</td>\n",
       "      <td>['meta_21']</td>\n",
       "    </tr>\n",
       "    <tr>\n",
       "      <th>40045</th>\n",
       "      <td>ABCB4.SA</td>\n",
       "      <td>1</td>\n",
       "      <td>meta_21</td>\n",
       "      <td>0.56930</td>\n",
       "      <td>0.56882</td>\n",
       "      <td>0.56906</td>\n",
       "      <td>Dummy_model</td>\n",
       "      <td>False</td>\n",
       "      <td>['past_meta_21']</td>\n",
       "    </tr>\n",
       "    <tr>\n",
       "      <th>21196</th>\n",
       "      <td>ABCB4.SA</td>\n",
       "      <td>21</td>\n",
       "      <td>meta_21</td>\n",
       "      <td>0.54597</td>\n",
       "      <td>0.53944</td>\n",
       "      <td>0.54235</td>\n",
       "      <td>KAN</td>\n",
       "      <td>True</td>\n",
       "      <td>['meta_21']</td>\n",
       "    </tr>\n",
       "    <tr>\n",
       "      <th>40035</th>\n",
       "      <td>ABCB4.SA</td>\n",
       "      <td>1</td>\n",
       "      <td>meta_21</td>\n",
       "      <td>0.44868</td>\n",
       "      <td>0.44868</td>\n",
       "      <td>0.44868</td>\n",
       "      <td>Dummy_model</td>\n",
       "      <td>True</td>\n",
       "      <td>['past_meta_21']</td>\n",
       "    </tr>\n",
       "    <tr>\n",
       "      <th>6699</th>\n",
       "      <td>ITUB3.SA</td>\n",
       "      <td>3</td>\n",
       "      <td>meta_21</td>\n",
       "      <td>0.54275</td>\n",
       "      <td>0.54650</td>\n",
       "      <td>0.54460</td>\n",
       "      <td>MLP</td>\n",
       "      <td>False</td>\n",
       "      <td>['meta_21']</td>\n",
       "    </tr>\n",
       "    <tr>\n",
       "      <th>40152</th>\n",
       "      <td>ITUB3.SA</td>\n",
       "      <td>1</td>\n",
       "      <td>meta_21</td>\n",
       "      <td>0.53849</td>\n",
       "      <td>0.53866</td>\n",
       "      <td>0.53858</td>\n",
       "      <td>Dummy_model</td>\n",
       "      <td>False</td>\n",
       "      <td>['past_meta_21']</td>\n",
       "    </tr>\n",
       "    <tr>\n",
       "      <th>6689</th>\n",
       "      <td>ITUB3.SA</td>\n",
       "      <td>3</td>\n",
       "      <td>meta_21</td>\n",
       "      <td>0.46559</td>\n",
       "      <td>0.47002</td>\n",
       "      <td>0.46776</td>\n",
       "      <td>MLP</td>\n",
       "      <td>True</td>\n",
       "      <td>['meta_21']</td>\n",
       "    </tr>\n",
       "    <tr>\n",
       "      <th>40142</th>\n",
       "      <td>ITUB3.SA</td>\n",
       "      <td>1</td>\n",
       "      <td>meta_21</td>\n",
       "      <td>0.45801</td>\n",
       "      <td>0.45834</td>\n",
       "      <td>0.45817</td>\n",
       "      <td>Dummy_model</td>\n",
       "      <td>True</td>\n",
       "      <td>['past_meta_21']</td>\n",
       "    </tr>\n",
       "    <tr>\n",
       "      <th>6201</th>\n",
       "      <td>ABCB4.SA</td>\n",
       "      <td>3</td>\n",
       "      <td>meta_7</td>\n",
       "      <td>0.61649</td>\n",
       "      <td>0.46016</td>\n",
       "      <td>0.47687</td>\n",
       "      <td>KAN</td>\n",
       "      <td>False</td>\n",
       "      <td>['meta_7']</td>\n",
       "    </tr>\n",
       "    <tr>\n",
       "      <th>39976</th>\n",
       "      <td>ABCB4.SA</td>\n",
       "      <td>1</td>\n",
       "      <td>meta_7</td>\n",
       "      <td>0.51475</td>\n",
       "      <td>0.51433</td>\n",
       "      <td>0.51454</td>\n",
       "      <td>Dummy_model</td>\n",
       "      <td>False</td>\n",
       "      <td>['past_meta_7']</td>\n",
       "    </tr>\n",
       "    <tr>\n",
       "      <th>16021</th>\n",
       "      <td>ABCB4.SA</td>\n",
       "      <td>7</td>\n",
       "      <td>meta_7</td>\n",
       "      <td>0.34573</td>\n",
       "      <td>0.35268</td>\n",
       "      <td>0.34907</td>\n",
       "      <td>LSTM_with_Attention</td>\n",
       "      <td>True</td>\n",
       "      <td>['meta_7']</td>\n",
       "    </tr>\n",
       "    <tr>\n",
       "      <th>39968</th>\n",
       "      <td>ABCB4.SA</td>\n",
       "      <td>1</td>\n",
       "      <td>meta_7</td>\n",
       "      <td>0.35303</td>\n",
       "      <td>0.35303</td>\n",
       "      <td>0.35303</td>\n",
       "      <td>Dummy_model</td>\n",
       "      <td>True</td>\n",
       "      <td>['past_meta_7']</td>\n",
       "    </tr>\n",
       "    <tr>\n",
       "      <th>1545</th>\n",
       "      <td>ITUB3.SA</td>\n",
       "      <td>1</td>\n",
       "      <td>meta_7</td>\n",
       "      <td>0.43355</td>\n",
       "      <td>0.44121</td>\n",
       "      <td>0.43733</td>\n",
       "      <td>LSTM_with_Attention</td>\n",
       "      <td>False</td>\n",
       "      <td>['meta_7']</td>\n",
       "    </tr>\n",
       "    <tr>\n",
       "      <th>40076</th>\n",
       "      <td>ITUB3.SA</td>\n",
       "      <td>1</td>\n",
       "      <td>meta_7</td>\n",
       "      <td>0.43297</td>\n",
       "      <td>0.43297</td>\n",
       "      <td>0.43297</td>\n",
       "      <td>Dummy_model</td>\n",
       "      <td>False</td>\n",
       "      <td>['past_meta_7']</td>\n",
       "    </tr>\n",
       "    <tr>\n",
       "      <th>13875</th>\n",
       "      <td>ITUB3.SA</td>\n",
       "      <td>6</td>\n",
       "      <td>meta_7</td>\n",
       "      <td>0.35642</td>\n",
       "      <td>0.36528</td>\n",
       "      <td>0.36077</td>\n",
       "      <td>MLP</td>\n",
       "      <td>True</td>\n",
       "      <td>['meta_7']</td>\n",
       "    </tr>\n",
       "    <tr>\n",
       "      <th>40068</th>\n",
       "      <td>ITUB3.SA</td>\n",
       "      <td>1</td>\n",
       "      <td>meta_7</td>\n",
       "      <td>0.35265</td>\n",
       "      <td>0.35265</td>\n",
       "      <td>0.35265</td>\n",
       "      <td>Dummy_model</td>\n",
       "      <td>True</td>\n",
       "      <td>['past_meta_7']</td>\n",
       "    </tr>\n",
       "  </tbody>\n",
       "</table>\n",
       "</div>"
      ],
      "text/plain": [
       "          ativo  seq_len     alvo  precision   recall  f1-score  \\\n",
       "6281   ABCB4.SA        3  meta_14    0.66345  0.65114   0.65700   \n",
       "40008  ABCB4.SA        1  meta_14    0.64893  0.64893   0.64893   \n",
       "6273   ABCB4.SA        3  meta_14    0.48402  0.47445   0.47889   \n",
       "40000  ABCB4.SA        1  meta_14    0.47122  0.47122   0.47122   \n",
       "1643   ITUB3.SA        1  meta_14    0.57765  0.57957   0.57860   \n",
       "40112  ITUB3.SA        1  meta_14    0.57602  0.57630   0.57616   \n",
       "1634   ITUB3.SA        1  meta_14    0.46318  0.46499   0.46407   \n",
       "40103  ITUB3.SA        1  meta_14    0.46040  0.46071   0.46056   \n",
       "21205  ABCB4.SA       21  meta_21    0.62418  0.61196   0.61751   \n",
       "40045  ABCB4.SA        1  meta_21    0.56930  0.56882   0.56906   \n",
       "21196  ABCB4.SA       21  meta_21    0.54597  0.53944   0.54235   \n",
       "40035  ABCB4.SA        1  meta_21    0.44868  0.44868   0.44868   \n",
       "6699   ITUB3.SA        3  meta_21    0.54275  0.54650   0.54460   \n",
       "40152  ITUB3.SA        1  meta_21    0.53849  0.53866   0.53858   \n",
       "6689   ITUB3.SA        3  meta_21    0.46559  0.47002   0.46776   \n",
       "40142  ITUB3.SA        1  meta_21    0.45801  0.45834   0.45817   \n",
       "6201   ABCB4.SA        3   meta_7    0.61649  0.46016   0.47687   \n",
       "39976  ABCB4.SA        1   meta_7    0.51475  0.51433   0.51454   \n",
       "16021  ABCB4.SA        7   meta_7    0.34573  0.35268   0.34907   \n",
       "39968  ABCB4.SA        1   meta_7    0.35303  0.35303   0.35303   \n",
       "1545   ITUB3.SA        1   meta_7    0.43355  0.44121   0.43733   \n",
       "40076  ITUB3.SA        1   meta_7    0.43297  0.43297   0.43297   \n",
       "13875  ITUB3.SA        6   meta_7    0.35642  0.36528   0.36077   \n",
       "40068  ITUB3.SA        1   meta_7    0.35265  0.35265   0.35265   \n",
       "\n",
       "                     model   leak      feature_cols  \n",
       "6281                   MLP  False       ['meta_14']  \n",
       "40008          Dummy_model  False  ['past_meta_14']  \n",
       "6273                   MLP   True       ['meta_14']  \n",
       "40000          Dummy_model   True  ['past_meta_14']  \n",
       "1643   LSTM_with_Attention  False       ['meta_14']  \n",
       "40112          Dummy_model  False  ['past_meta_14']  \n",
       "1634   LSTM_with_Attention   True       ['meta_14']  \n",
       "40103          Dummy_model   True  ['past_meta_14']  \n",
       "21205                  KAN  False       ['meta_21']  \n",
       "40045          Dummy_model  False  ['past_meta_21']  \n",
       "21196                  KAN   True       ['meta_21']  \n",
       "40035          Dummy_model   True  ['past_meta_21']  \n",
       "6699                   MLP  False       ['meta_21']  \n",
       "40152          Dummy_model  False  ['past_meta_21']  \n",
       "6689                   MLP   True       ['meta_21']  \n",
       "40142          Dummy_model   True  ['past_meta_21']  \n",
       "6201                   KAN  False        ['meta_7']  \n",
       "39976          Dummy_model  False   ['past_meta_7']  \n",
       "16021  LSTM_with_Attention   True        ['meta_7']  \n",
       "39968          Dummy_model   True   ['past_meta_7']  \n",
       "1545   LSTM_with_Attention  False        ['meta_7']  \n",
       "40076          Dummy_model  False   ['past_meta_7']  \n",
       "13875                  MLP   True        ['meta_7']  \n",
       "40068          Dummy_model   True   ['past_meta_7']  "
      ]
     },
     "metadata": {},
     "output_type": "display_data"
    },
    {
     "name": "stdout",
     "output_type": "stream",
     "text": [
      "Metricas regressao - label diff_close_mean_z_score\n"
     ]
    },
    {
     "data": {
      "text/html": [
       "<div>\n",
       "<style scoped>\n",
       "    .dataframe tbody tr th:only-of-type {\n",
       "        vertical-align: middle;\n",
       "    }\n",
       "\n",
       "    .dataframe tbody tr th {\n",
       "        vertical-align: top;\n",
       "    }\n",
       "\n",
       "    .dataframe thead th {\n",
       "        text-align: right;\n",
       "    }\n",
       "</style>\n",
       "<table border=\"1\" class=\"dataframe\">\n",
       "  <thead>\n",
       "    <tr style=\"text-align: right;\">\n",
       "      <th></th>\n",
       "      <th>Mean Absolute Error (MAE)</th>\n",
       "      <th>Mean Squared Error (MSE)</th>\n",
       "      <th>Root Mean Squared Error (RMSE)</th>\n",
       "      <th>R-squared (R2)</th>\n",
       "      <th>Mean Absolute Percentage Error (MAPE)</th>\n",
       "      <th>ativo</th>\n",
       "      <th>alvo</th>\n",
       "      <th>seq_len</th>\n",
       "      <th>model</th>\n",
       "      <th>leak</th>\n",
       "    </tr>\n",
       "  </thead>\n",
       "  <tbody>\n",
       "    <tr>\n",
       "      <th>1029</th>\n",
       "      <td>0.46039</td>\n",
       "      <td>0.44700</td>\n",
       "      <td>0.66858</td>\n",
       "      <td>0.68662</td>\n",
       "      <td>1.770360e+00</td>\n",
       "      <td>ABCB4.SA</td>\n",
       "      <td>diff_close_mean_z_score_14</td>\n",
       "      <td>4</td>\n",
       "      <td>MLP</td>\n",
       "      <td>False</td>\n",
       "    </tr>\n",
       "    <tr>\n",
       "      <th>162</th>\n",
       "      <td>0.59619</td>\n",
       "      <td>0.62396</td>\n",
       "      <td>0.78991</td>\n",
       "      <td>0.56245</td>\n",
       "      <td>2.071310e+00</td>\n",
       "      <td>ABCB4.SA</td>\n",
       "      <td>diff_close_mean_z_score_14</td>\n",
       "      <td>1</td>\n",
       "      <td>LSTM_with_Attention</td>\n",
       "      <td>True</td>\n",
       "    </tr>\n",
       "    <tr>\n",
       "      <th>201</th>\n",
       "      <td>0.40605</td>\n",
       "      <td>0.35764</td>\n",
       "      <td>0.59803</td>\n",
       "      <td>0.78431</td>\n",
       "      <td>1.062147e+02</td>\n",
       "      <td>ITUB3.SA</td>\n",
       "      <td>diff_close_mean_z_score_14</td>\n",
       "      <td>1</td>\n",
       "      <td>MLP</td>\n",
       "      <td>False</td>\n",
       "    </tr>\n",
       "    <tr>\n",
       "      <th>200</th>\n",
       "      <td>0.50626</td>\n",
       "      <td>0.49884</td>\n",
       "      <td>0.70629</td>\n",
       "      <td>0.69884</td>\n",
       "      <td>1.532851e+02</td>\n",
       "      <td>ITUB3.SA</td>\n",
       "      <td>diff_close_mean_z_score_14</td>\n",
       "      <td>1</td>\n",
       "      <td>MLP</td>\n",
       "      <td>True</td>\n",
       "    </tr>\n",
       "    <tr>\n",
       "      <th>177</th>\n",
       "      <td>0.39372</td>\n",
       "      <td>0.34028</td>\n",
       "      <td>0.58333</td>\n",
       "      <td>0.78025</td>\n",
       "      <td>1.189840e+00</td>\n",
       "      <td>ABCB4.SA</td>\n",
       "      <td>diff_close_mean_z_score_21</td>\n",
       "      <td>1</td>\n",
       "      <td>MLP</td>\n",
       "      <td>False</td>\n",
       "    </tr>\n",
       "    <tr>\n",
       "      <th>176</th>\n",
       "      <td>0.51252</td>\n",
       "      <td>0.48195</td>\n",
       "      <td>0.69423</td>\n",
       "      <td>0.68704</td>\n",
       "      <td>1.590710e+00</td>\n",
       "      <td>ABCB4.SA</td>\n",
       "      <td>diff_close_mean_z_score_21</td>\n",
       "      <td>1</td>\n",
       "      <td>MLP</td>\n",
       "      <td>True</td>\n",
       "    </tr>\n",
       "    <tr>\n",
       "      <th>4677</th>\n",
       "      <td>0.29513</td>\n",
       "      <td>0.26442</td>\n",
       "      <td>0.51422</td>\n",
       "      <td>0.85552</td>\n",
       "      <td>1.936570e+00</td>\n",
       "      <td>ITUB3.SA</td>\n",
       "      <td>diff_close_mean_z_score_21</td>\n",
       "      <td>1</td>\n",
       "      <td>Dummy_model</td>\n",
       "      <td>False</td>\n",
       "    </tr>\n",
       "    <tr>\n",
       "      <th>212</th>\n",
       "      <td>0.42709</td>\n",
       "      <td>0.37301</td>\n",
       "      <td>0.61074</td>\n",
       "      <td>0.79576</td>\n",
       "      <td>2.587100e+00</td>\n",
       "      <td>ITUB3.SA</td>\n",
       "      <td>diff_close_mean_z_score_21</td>\n",
       "      <td>1</td>\n",
       "      <td>MLP</td>\n",
       "      <td>True</td>\n",
       "    </tr>\n",
       "    <tr>\n",
       "      <th>1593</th>\n",
       "      <td>0.55276</td>\n",
       "      <td>0.57438</td>\n",
       "      <td>0.75788</td>\n",
       "      <td>0.52193</td>\n",
       "      <td>1.296199e+02</td>\n",
       "      <td>ABCB4.SA</td>\n",
       "      <td>diff_close_mean_z_score_7</td>\n",
       "      <td>6</td>\n",
       "      <td>MLP</td>\n",
       "      <td>False</td>\n",
       "    </tr>\n",
       "    <tr>\n",
       "      <th>1878</th>\n",
       "      <td>0.69537</td>\n",
       "      <td>0.78788</td>\n",
       "      <td>0.88762</td>\n",
       "      <td>0.34793</td>\n",
       "      <td>1.530098e+02</td>\n",
       "      <td>ABCB4.SA</td>\n",
       "      <td>diff_close_mean_z_score_7</td>\n",
       "      <td>7</td>\n",
       "      <td>LSTM_with_Attention</td>\n",
       "      <td>True</td>\n",
       "    </tr>\n",
       "    <tr>\n",
       "      <th>477</th>\n",
       "      <td>0.52975</td>\n",
       "      <td>0.52953</td>\n",
       "      <td>0.72769</td>\n",
       "      <td>0.58734</td>\n",
       "      <td>2.308262e+12</td>\n",
       "      <td>ITUB3.SA</td>\n",
       "      <td>diff_close_mean_z_score_7</td>\n",
       "      <td>2</td>\n",
       "      <td>MLP</td>\n",
       "      <td>False</td>\n",
       "    </tr>\n",
       "    <tr>\n",
       "      <th>476</th>\n",
       "      <td>0.63764</td>\n",
       "      <td>0.72656</td>\n",
       "      <td>0.85238</td>\n",
       "      <td>0.44177</td>\n",
       "      <td>3.357153e+12</td>\n",
       "      <td>ITUB3.SA</td>\n",
       "      <td>diff_close_mean_z_score_7</td>\n",
       "      <td>2</td>\n",
       "      <td>MLP</td>\n",
       "      <td>True</td>\n",
       "    </tr>\n",
       "  </tbody>\n",
       "</table>\n",
       "</div>"
      ],
      "text/plain": [
       "      Mean Absolute Error (MAE)  Mean Squared Error (MSE)  \\\n",
       "1029                    0.46039                   0.44700   \n",
       "162                     0.59619                   0.62396   \n",
       "201                     0.40605                   0.35764   \n",
       "200                     0.50626                   0.49884   \n",
       "177                     0.39372                   0.34028   \n",
       "176                     0.51252                   0.48195   \n",
       "4677                    0.29513                   0.26442   \n",
       "212                     0.42709                   0.37301   \n",
       "1593                    0.55276                   0.57438   \n",
       "1878                    0.69537                   0.78788   \n",
       "477                     0.52975                   0.52953   \n",
       "476                     0.63764                   0.72656   \n",
       "\n",
       "      Root Mean Squared Error (RMSE)  R-squared (R2)  \\\n",
       "1029                         0.66858         0.68662   \n",
       "162                          0.78991         0.56245   \n",
       "201                          0.59803         0.78431   \n",
       "200                          0.70629         0.69884   \n",
       "177                          0.58333         0.78025   \n",
       "176                          0.69423         0.68704   \n",
       "4677                         0.51422         0.85552   \n",
       "212                          0.61074         0.79576   \n",
       "1593                         0.75788         0.52193   \n",
       "1878                         0.88762         0.34793   \n",
       "477                          0.72769         0.58734   \n",
       "476                          0.85238         0.44177   \n",
       "\n",
       "      Mean Absolute Percentage Error (MAPE)     ativo  \\\n",
       "1029                           1.770360e+00  ABCB4.SA   \n",
       "162                            2.071310e+00  ABCB4.SA   \n",
       "201                            1.062147e+02  ITUB3.SA   \n",
       "200                            1.532851e+02  ITUB3.SA   \n",
       "177                            1.189840e+00  ABCB4.SA   \n",
       "176                            1.590710e+00  ABCB4.SA   \n",
       "4677                           1.936570e+00  ITUB3.SA   \n",
       "212                            2.587100e+00  ITUB3.SA   \n",
       "1593                           1.296199e+02  ABCB4.SA   \n",
       "1878                           1.530098e+02  ABCB4.SA   \n",
       "477                            2.308262e+12  ITUB3.SA   \n",
       "476                            3.357153e+12  ITUB3.SA   \n",
       "\n",
       "                            alvo  seq_len                model   leak  \n",
       "1029  diff_close_mean_z_score_14        4                  MLP  False  \n",
       "162   diff_close_mean_z_score_14        1  LSTM_with_Attention   True  \n",
       "201   diff_close_mean_z_score_14        1                  MLP  False  \n",
       "200   diff_close_mean_z_score_14        1                  MLP   True  \n",
       "177   diff_close_mean_z_score_21        1                  MLP  False  \n",
       "176   diff_close_mean_z_score_21        1                  MLP   True  \n",
       "4677  diff_close_mean_z_score_21        1          Dummy_model  False  \n",
       "212   diff_close_mean_z_score_21        1                  MLP   True  \n",
       "1593   diff_close_mean_z_score_7        6                  MLP  False  \n",
       "1878   diff_close_mean_z_score_7        7  LSTM_with_Attention   True  \n",
       "477    diff_close_mean_z_score_7        2                  MLP  False  \n",
       "476    diff_close_mean_z_score_7        2                  MLP   True  "
      ]
     },
     "metadata": {},
     "output_type": "display_data"
    },
    {
     "name": "stdout",
     "output_type": "stream",
     "text": [
      "\n",
      "##############################################\n",
      "# DOMAIN: Saúde\n",
      "# ASSETS: ['FLRY3.SA', 'RADL3.SA']\n",
      "##############################################\n",
      "          \n",
      "Metricas macro - label meta\n"
     ]
    },
    {
     "data": {
      "text/html": [
       "<div>\n",
       "<style scoped>\n",
       "    .dataframe tbody tr th:only-of-type {\n",
       "        vertical-align: middle;\n",
       "    }\n",
       "\n",
       "    .dataframe tbody tr th {\n",
       "        vertical-align: top;\n",
       "    }\n",
       "\n",
       "    .dataframe thead th {\n",
       "        text-align: right;\n",
       "    }\n",
       "</style>\n",
       "<table border=\"1\" class=\"dataframe\">\n",
       "  <thead>\n",
       "    <tr style=\"text-align: right;\">\n",
       "      <th></th>\n",
       "      <th>ativo</th>\n",
       "      <th>seq_len</th>\n",
       "      <th>alvo</th>\n",
       "      <th>precision</th>\n",
       "      <th>recall</th>\n",
       "      <th>f1-score</th>\n",
       "      <th>model</th>\n",
       "      <th>leak</th>\n",
       "      <th>feature_cols</th>\n",
       "    </tr>\n",
       "  </thead>\n",
       "  <tbody>\n",
       "    <tr>\n",
       "      <th>4428</th>\n",
       "      <td>FLRY3.SA</td>\n",
       "      <td>2</td>\n",
       "      <td>meta_14</td>\n",
       "      <td>0.52365</td>\n",
       "      <td>0.52896</td>\n",
       "      <td>0.52603</td>\n",
       "      <td>LSTM_with_Attention</td>\n",
       "      <td>False</td>\n",
       "      <td>['meta_14']</td>\n",
       "    </tr>\n",
       "    <tr>\n",
       "      <th>40220</th>\n",
       "      <td>FLRY3.SA</td>\n",
       "      <td>1</td>\n",
       "      <td>meta_14</td>\n",
       "      <td>0.63270</td>\n",
       "      <td>0.63292</td>\n",
       "      <td>0.63281</td>\n",
       "      <td>Dummy_model</td>\n",
       "      <td>False</td>\n",
       "      <td>['past_meta_14']</td>\n",
       "    </tr>\n",
       "    <tr>\n",
       "      <th>14279</th>\n",
       "      <td>FLRY3.SA</td>\n",
       "      <td>6</td>\n",
       "      <td>meta_14</td>\n",
       "      <td>0.41068</td>\n",
       "      <td>0.38572</td>\n",
       "      <td>0.39369</td>\n",
       "      <td>LSTM_with_Attention</td>\n",
       "      <td>True</td>\n",
       "      <td>['meta_14']</td>\n",
       "    </tr>\n",
       "    <tr>\n",
       "      <th>40210</th>\n",
       "      <td>FLRY3.SA</td>\n",
       "      <td>1</td>\n",
       "      <td>meta_14</td>\n",
       "      <td>0.37578</td>\n",
       "      <td>0.37601</td>\n",
       "      <td>0.37590</td>\n",
       "      <td>Dummy_model</td>\n",
       "      <td>True</td>\n",
       "      <td>['past_meta_14']</td>\n",
       "    </tr>\n",
       "    <tr>\n",
       "      <th>4741</th>\n",
       "      <td>RADL3.SA</td>\n",
       "      <td>2</td>\n",
       "      <td>meta_14</td>\n",
       "      <td>0.66935</td>\n",
       "      <td>0.65568</td>\n",
       "      <td>0.66191</td>\n",
       "      <td>LSTM_with_Attention</td>\n",
       "      <td>False</td>\n",
       "      <td>['meta_14']</td>\n",
       "    </tr>\n",
       "    <tr>\n",
       "      <th>40320</th>\n",
       "      <td>RADL3.SA</td>\n",
       "      <td>1</td>\n",
       "      <td>meta_14</td>\n",
       "      <td>0.66057</td>\n",
       "      <td>0.66030</td>\n",
       "      <td>0.66044</td>\n",
       "      <td>Dummy_model</td>\n",
       "      <td>False</td>\n",
       "      <td>['past_meta_14']</td>\n",
       "    </tr>\n",
       "    <tr>\n",
       "      <th>22003</th>\n",
       "      <td>RADL3.SA</td>\n",
       "      <td>21</td>\n",
       "      <td>meta_14</td>\n",
       "      <td>0.54020</td>\n",
       "      <td>0.49680</td>\n",
       "      <td>0.51122</td>\n",
       "      <td>LSTM_with_Attention</td>\n",
       "      <td>True</td>\n",
       "      <td>['meta_14']</td>\n",
       "    </tr>\n",
       "    <tr>\n",
       "      <th>40312</th>\n",
       "      <td>RADL3.SA</td>\n",
       "      <td>1</td>\n",
       "      <td>meta_14</td>\n",
       "      <td>0.50464</td>\n",
       "      <td>0.50435</td>\n",
       "      <td>0.50450</td>\n",
       "      <td>Dummy_model</td>\n",
       "      <td>True</td>\n",
       "      <td>['past_meta_14']</td>\n",
       "    </tr>\n",
       "    <tr>\n",
       "      <th>11969</th>\n",
       "      <td>FLRY3.SA</td>\n",
       "      <td>5</td>\n",
       "      <td>meta_21</td>\n",
       "      <td>0.73944</td>\n",
       "      <td>0.65042</td>\n",
       "      <td>0.68290</td>\n",
       "      <td>KAN</td>\n",
       "      <td>False</td>\n",
       "      <td>['meta_21']</td>\n",
       "    </tr>\n",
       "    <tr>\n",
       "      <th>40255</th>\n",
       "      <td>FLRY3.SA</td>\n",
       "      <td>1</td>\n",
       "      <td>meta_21</td>\n",
       "      <td>0.69998</td>\n",
       "      <td>0.70159</td>\n",
       "      <td>0.70078</td>\n",
       "      <td>Dummy_model</td>\n",
       "      <td>False</td>\n",
       "      <td>['past_meta_21']</td>\n",
       "    </tr>\n",
       "    <tr>\n",
       "      <th>34195</th>\n",
       "      <td>FLRY3.SA</td>\n",
       "      <td>56</td>\n",
       "      <td>meta_21</td>\n",
       "      <td>0.52664</td>\n",
       "      <td>0.47592</td>\n",
       "      <td>0.49440</td>\n",
       "      <td>MLP</td>\n",
       "      <td>True</td>\n",
       "      <td>['meta_21']</td>\n",
       "    </tr>\n",
       "    <tr>\n",
       "      <th>40247</th>\n",
       "      <td>FLRY3.SA</td>\n",
       "      <td>1</td>\n",
       "      <td>meta_21</td>\n",
       "      <td>0.47878</td>\n",
       "      <td>0.48026</td>\n",
       "      <td>0.47951</td>\n",
       "      <td>Dummy_model</td>\n",
       "      <td>True</td>\n",
       "      <td>['past_meta_21']</td>\n",
       "    </tr>\n",
       "    <tr>\n",
       "      <th>2378</th>\n",
       "      <td>RADL3.SA</td>\n",
       "      <td>1</td>\n",
       "      <td>meta_21</td>\n",
       "      <td>0.61627</td>\n",
       "      <td>0.62320</td>\n",
       "      <td>0.61961</td>\n",
       "      <td>LSTM_with_Attention</td>\n",
       "      <td>False</td>\n",
       "      <td>['meta_21']</td>\n",
       "    </tr>\n",
       "    <tr>\n",
       "      <th>40356</th>\n",
       "      <td>RADL3.SA</td>\n",
       "      <td>1</td>\n",
       "      <td>meta_21</td>\n",
       "      <td>0.61151</td>\n",
       "      <td>0.61130</td>\n",
       "      <td>0.61140</td>\n",
       "      <td>Dummy_model</td>\n",
       "      <td>False</td>\n",
       "      <td>['past_meta_21']</td>\n",
       "    </tr>\n",
       "    <tr>\n",
       "      <th>2368</th>\n",
       "      <td>RADL3.SA</td>\n",
       "      <td>1</td>\n",
       "      <td>meta_21</td>\n",
       "      <td>0.52498</td>\n",
       "      <td>0.53231</td>\n",
       "      <td>0.52847</td>\n",
       "      <td>LSTM_with_Attention</td>\n",
       "      <td>True</td>\n",
       "      <td>['meta_21']</td>\n",
       "    </tr>\n",
       "    <tr>\n",
       "      <th>40347</th>\n",
       "      <td>RADL3.SA</td>\n",
       "      <td>1</td>\n",
       "      <td>meta_21</td>\n",
       "      <td>0.51669</td>\n",
       "      <td>0.51643</td>\n",
       "      <td>0.51656</td>\n",
       "      <td>Dummy_model</td>\n",
       "      <td>True</td>\n",
       "      <td>['past_meta_21']</td>\n",
       "    </tr>\n",
       "    <tr>\n",
       "      <th>9291</th>\n",
       "      <td>FLRY3.SA</td>\n",
       "      <td>4</td>\n",
       "      <td>meta_7</td>\n",
       "      <td>0.70839</td>\n",
       "      <td>0.48968</td>\n",
       "      <td>0.52261</td>\n",
       "      <td>KAN</td>\n",
       "      <td>False</td>\n",
       "      <td>['meta_7']</td>\n",
       "    </tr>\n",
       "    <tr>\n",
       "      <th>40184</th>\n",
       "      <td>FLRY3.SA</td>\n",
       "      <td>1</td>\n",
       "      <td>meta_7</td>\n",
       "      <td>0.51439</td>\n",
       "      <td>0.51439</td>\n",
       "      <td>0.51439</td>\n",
       "      <td>Dummy_model</td>\n",
       "      <td>False</td>\n",
       "      <td>['past_meta_7']</td>\n",
       "    </tr>\n",
       "    <tr>\n",
       "      <th>9267</th>\n",
       "      <td>FLRY3.SA</td>\n",
       "      <td>4</td>\n",
       "      <td>meta_7</td>\n",
       "      <td>0.33232</td>\n",
       "      <td>0.34073</td>\n",
       "      <td>0.33644</td>\n",
       "      <td>MLP</td>\n",
       "      <td>True</td>\n",
       "      <td>['meta_7']</td>\n",
       "    </tr>\n",
       "    <tr>\n",
       "      <th>40176</th>\n",
       "      <td>FLRY3.SA</td>\n",
       "      <td>1</td>\n",
       "      <td>meta_7</td>\n",
       "      <td>0.32899</td>\n",
       "      <td>0.32930</td>\n",
       "      <td>0.32914</td>\n",
       "      <td>Dummy_model</td>\n",
       "      <td>True</td>\n",
       "      <td>['past_meta_7']</td>\n",
       "    </tr>\n",
       "    <tr>\n",
       "      <th>26859</th>\n",
       "      <td>RADL3.SA</td>\n",
       "      <td>35</td>\n",
       "      <td>meta_7</td>\n",
       "      <td>0.55053</td>\n",
       "      <td>0.47234</td>\n",
       "      <td>0.49076</td>\n",
       "      <td>LSTM_with_Attention</td>\n",
       "      <td>False</td>\n",
       "      <td>['meta_7']</td>\n",
       "    </tr>\n",
       "    <tr>\n",
       "      <th>40288</th>\n",
       "      <td>RADL3.SA</td>\n",
       "      <td>1</td>\n",
       "      <td>meta_7</td>\n",
       "      <td>0.50011</td>\n",
       "      <td>0.50031</td>\n",
       "      <td>0.50021</td>\n",
       "      <td>Dummy_model</td>\n",
       "      <td>False</td>\n",
       "      <td>['past_meta_7']</td>\n",
       "    </tr>\n",
       "    <tr>\n",
       "      <th>24395</th>\n",
       "      <td>RADL3.SA</td>\n",
       "      <td>28</td>\n",
       "      <td>meta_7</td>\n",
       "      <td>0.34948</td>\n",
       "      <td>0.34949</td>\n",
       "      <td>0.34898</td>\n",
       "      <td>MLP</td>\n",
       "      <td>True</td>\n",
       "      <td>['meta_7']</td>\n",
       "    </tr>\n",
       "    <tr>\n",
       "      <th>40280</th>\n",
       "      <td>RADL3.SA</td>\n",
       "      <td>1</td>\n",
       "      <td>meta_7</td>\n",
       "      <td>0.33450</td>\n",
       "      <td>0.33473</td>\n",
       "      <td>0.33462</td>\n",
       "      <td>Dummy_model</td>\n",
       "      <td>True</td>\n",
       "      <td>['past_meta_7']</td>\n",
       "    </tr>\n",
       "  </tbody>\n",
       "</table>\n",
       "</div>"
      ],
      "text/plain": [
       "          ativo  seq_len     alvo  precision   recall  f1-score  \\\n",
       "4428   FLRY3.SA        2  meta_14    0.52365  0.52896   0.52603   \n",
       "40220  FLRY3.SA        1  meta_14    0.63270  0.63292   0.63281   \n",
       "14279  FLRY3.SA        6  meta_14    0.41068  0.38572   0.39369   \n",
       "40210  FLRY3.SA        1  meta_14    0.37578  0.37601   0.37590   \n",
       "4741   RADL3.SA        2  meta_14    0.66935  0.65568   0.66191   \n",
       "40320  RADL3.SA        1  meta_14    0.66057  0.66030   0.66044   \n",
       "22003  RADL3.SA       21  meta_14    0.54020  0.49680   0.51122   \n",
       "40312  RADL3.SA        1  meta_14    0.50464  0.50435   0.50450   \n",
       "11969  FLRY3.SA        5  meta_21    0.73944  0.65042   0.68290   \n",
       "40255  FLRY3.SA        1  meta_21    0.69998  0.70159   0.70078   \n",
       "34195  FLRY3.SA       56  meta_21    0.52664  0.47592   0.49440   \n",
       "40247  FLRY3.SA        1  meta_21    0.47878  0.48026   0.47951   \n",
       "2378   RADL3.SA        1  meta_21    0.61627  0.62320   0.61961   \n",
       "40356  RADL3.SA        1  meta_21    0.61151  0.61130   0.61140   \n",
       "2368   RADL3.SA        1  meta_21    0.52498  0.53231   0.52847   \n",
       "40347  RADL3.SA        1  meta_21    0.51669  0.51643   0.51656   \n",
       "9291   FLRY3.SA        4   meta_7    0.70839  0.48968   0.52261   \n",
       "40184  FLRY3.SA        1   meta_7    0.51439  0.51439   0.51439   \n",
       "9267   FLRY3.SA        4   meta_7    0.33232  0.34073   0.33644   \n",
       "40176  FLRY3.SA        1   meta_7    0.32899  0.32930   0.32914   \n",
       "26859  RADL3.SA       35   meta_7    0.55053  0.47234   0.49076   \n",
       "40288  RADL3.SA        1   meta_7    0.50011  0.50031   0.50021   \n",
       "24395  RADL3.SA       28   meta_7    0.34948  0.34949   0.34898   \n",
       "40280  RADL3.SA        1   meta_7    0.33450  0.33473   0.33462   \n",
       "\n",
       "                     model   leak      feature_cols  \n",
       "4428   LSTM_with_Attention  False       ['meta_14']  \n",
       "40220          Dummy_model  False  ['past_meta_14']  \n",
       "14279  LSTM_with_Attention   True       ['meta_14']  \n",
       "40210          Dummy_model   True  ['past_meta_14']  \n",
       "4741   LSTM_with_Attention  False       ['meta_14']  \n",
       "40320          Dummy_model  False  ['past_meta_14']  \n",
       "22003  LSTM_with_Attention   True       ['meta_14']  \n",
       "40312          Dummy_model   True  ['past_meta_14']  \n",
       "11969                  KAN  False       ['meta_21']  \n",
       "40255          Dummy_model  False  ['past_meta_21']  \n",
       "34195                  MLP   True       ['meta_21']  \n",
       "40247          Dummy_model   True  ['past_meta_21']  \n",
       "2378   LSTM_with_Attention  False       ['meta_21']  \n",
       "40356          Dummy_model  False  ['past_meta_21']  \n",
       "2368   LSTM_with_Attention   True       ['meta_21']  \n",
       "40347          Dummy_model   True  ['past_meta_21']  \n",
       "9291                   KAN  False        ['meta_7']  \n",
       "40184          Dummy_model  False   ['past_meta_7']  \n",
       "9267                   MLP   True        ['meta_7']  \n",
       "40176          Dummy_model   True   ['past_meta_7']  \n",
       "26859  LSTM_with_Attention  False        ['meta_7']  \n",
       "40288          Dummy_model  False   ['past_meta_7']  \n",
       "24395                  MLP   True        ['meta_7']  \n",
       "40280          Dummy_model   True   ['past_meta_7']  "
      ]
     },
     "metadata": {},
     "output_type": "display_data"
    },
    {
     "name": "stdout",
     "output_type": "stream",
     "text": [
      "Metricas regressao - label diff_close_mean_z_score\n"
     ]
    },
    {
     "data": {
      "text/html": [
       "<div>\n",
       "<style scoped>\n",
       "    .dataframe tbody tr th:only-of-type {\n",
       "        vertical-align: middle;\n",
       "    }\n",
       "\n",
       "    .dataframe tbody tr th {\n",
       "        vertical-align: top;\n",
       "    }\n",
       "\n",
       "    .dataframe thead th {\n",
       "        text-align: right;\n",
       "    }\n",
       "</style>\n",
       "<table border=\"1\" class=\"dataframe\">\n",
       "  <thead>\n",
       "    <tr style=\"text-align: right;\">\n",
       "      <th></th>\n",
       "      <th>Mean Absolute Error (MAE)</th>\n",
       "      <th>Mean Squared Error (MSE)</th>\n",
       "      <th>Root Mean Squared Error (RMSE)</th>\n",
       "      <th>R-squared (R2)</th>\n",
       "      <th>Mean Absolute Percentage Error (MAPE)</th>\n",
       "      <th>ativo</th>\n",
       "      <th>alvo</th>\n",
       "      <th>seq_len</th>\n",
       "      <th>model</th>\n",
       "      <th>leak</th>\n",
       "    </tr>\n",
       "  </thead>\n",
       "  <tbody>\n",
       "    <tr>\n",
       "      <th>237</th>\n",
       "      <td>0.42929</td>\n",
       "      <td>0.36396</td>\n",
       "      <td>0.60329</td>\n",
       "      <td>0.75248</td>\n",
       "      <td>1.44920</td>\n",
       "      <td>FLRY3.SA</td>\n",
       "      <td>diff_close_mean_z_score_14</td>\n",
       "      <td>1</td>\n",
       "      <td>MLP</td>\n",
       "      <td>False</td>\n",
       "    </tr>\n",
       "    <tr>\n",
       "      <th>236</th>\n",
       "      <td>0.54371</td>\n",
       "      <td>0.50705</td>\n",
       "      <td>0.71207</td>\n",
       "      <td>0.65219</td>\n",
       "      <td>2.02373</td>\n",
       "      <td>FLRY3.SA</td>\n",
       "      <td>diff_close_mean_z_score_14</td>\n",
       "      <td>1</td>\n",
       "      <td>MLP</td>\n",
       "      <td>True</td>\n",
       "    </tr>\n",
       "    <tr>\n",
       "      <th>273</th>\n",
       "      <td>0.41696</td>\n",
       "      <td>0.37753</td>\n",
       "      <td>0.61444</td>\n",
       "      <td>0.75685</td>\n",
       "      <td>1978.84622</td>\n",
       "      <td>RADL3.SA</td>\n",
       "      <td>diff_close_mean_z_score_14</td>\n",
       "      <td>1</td>\n",
       "      <td>MLP</td>\n",
       "      <td>False</td>\n",
       "    </tr>\n",
       "    <tr>\n",
       "      <th>848</th>\n",
       "      <td>0.53352</td>\n",
       "      <td>0.52831</td>\n",
       "      <td>0.72685</td>\n",
       "      <td>0.65624</td>\n",
       "      <td>2365.65046</td>\n",
       "      <td>RADL3.SA</td>\n",
       "      <td>diff_close_mean_z_score_14</td>\n",
       "      <td>3</td>\n",
       "      <td>MLP</td>\n",
       "      <td>True</td>\n",
       "    </tr>\n",
       "    <tr>\n",
       "      <th>249</th>\n",
       "      <td>0.37334</td>\n",
       "      <td>0.28285</td>\n",
       "      <td>0.53184</td>\n",
       "      <td>0.81967</td>\n",
       "      <td>340.72122</td>\n",
       "      <td>FLRY3.SA</td>\n",
       "      <td>diff_close_mean_z_score_21</td>\n",
       "      <td>1</td>\n",
       "      <td>MLP</td>\n",
       "      <td>False</td>\n",
       "    </tr>\n",
       "    <tr>\n",
       "      <th>536</th>\n",
       "      <td>0.47316</td>\n",
       "      <td>0.39225</td>\n",
       "      <td>0.62630</td>\n",
       "      <td>0.74608</td>\n",
       "      <td>71.38017</td>\n",
       "      <td>FLRY3.SA</td>\n",
       "      <td>diff_close_mean_z_score_21</td>\n",
       "      <td>2</td>\n",
       "      <td>MLP</td>\n",
       "      <td>True</td>\n",
       "    </tr>\n",
       "    <tr>\n",
       "      <th>285</th>\n",
       "      <td>0.35329</td>\n",
       "      <td>0.28109</td>\n",
       "      <td>0.53018</td>\n",
       "      <td>0.82624</td>\n",
       "      <td>2.79281</td>\n",
       "      <td>RADL3.SA</td>\n",
       "      <td>diff_close_mean_z_score_21</td>\n",
       "      <td>1</td>\n",
       "      <td>MLP</td>\n",
       "      <td>False</td>\n",
       "    </tr>\n",
       "    <tr>\n",
       "      <th>284</th>\n",
       "      <td>0.46245</td>\n",
       "      <td>0.39842</td>\n",
       "      <td>0.63121</td>\n",
       "      <td>0.75261</td>\n",
       "      <td>3.98159</td>\n",
       "      <td>RADL3.SA</td>\n",
       "      <td>diff_close_mean_z_score_21</td>\n",
       "      <td>1</td>\n",
       "      <td>MLP</td>\n",
       "      <td>True</td>\n",
       "    </tr>\n",
       "    <tr>\n",
       "      <th>513</th>\n",
       "      <td>0.53640</td>\n",
       "      <td>0.54470</td>\n",
       "      <td>0.73804</td>\n",
       "      <td>0.54997</td>\n",
       "      <td>1.61485</td>\n",
       "      <td>FLRY3.SA</td>\n",
       "      <td>diff_close_mean_z_score_7</td>\n",
       "      <td>2</td>\n",
       "      <td>MLP</td>\n",
       "      <td>False</td>\n",
       "    </tr>\n",
       "    <tr>\n",
       "      <th>2240</th>\n",
       "      <td>0.66824</td>\n",
       "      <td>0.73317</td>\n",
       "      <td>0.85625</td>\n",
       "      <td>0.39484</td>\n",
       "      <td>2.02946</td>\n",
       "      <td>FLRY3.SA</td>\n",
       "      <td>diff_close_mean_z_score_7</td>\n",
       "      <td>14</td>\n",
       "      <td>MLP</td>\n",
       "      <td>True</td>\n",
       "    </tr>\n",
       "    <tr>\n",
       "      <th>1701</th>\n",
       "      <td>0.52730</td>\n",
       "      <td>0.50514</td>\n",
       "      <td>0.71073</td>\n",
       "      <td>0.61208</td>\n",
       "      <td>1.70030</td>\n",
       "      <td>RADL3.SA</td>\n",
       "      <td>diff_close_mean_z_score_7</td>\n",
       "      <td>6</td>\n",
       "      <td>MLP</td>\n",
       "      <td>False</td>\n",
       "    </tr>\n",
       "    <tr>\n",
       "      <th>1124</th>\n",
       "      <td>0.63626</td>\n",
       "      <td>0.68101</td>\n",
       "      <td>0.82523</td>\n",
       "      <td>0.47140</td>\n",
       "      <td>2.15553</td>\n",
       "      <td>RADL3.SA</td>\n",
       "      <td>diff_close_mean_z_score_7</td>\n",
       "      <td>4</td>\n",
       "      <td>MLP</td>\n",
       "      <td>True</td>\n",
       "    </tr>\n",
       "  </tbody>\n",
       "</table>\n",
       "</div>"
      ],
      "text/plain": [
       "      Mean Absolute Error (MAE)  Mean Squared Error (MSE)  \\\n",
       "237                     0.42929                   0.36396   \n",
       "236                     0.54371                   0.50705   \n",
       "273                     0.41696                   0.37753   \n",
       "848                     0.53352                   0.52831   \n",
       "249                     0.37334                   0.28285   \n",
       "536                     0.47316                   0.39225   \n",
       "285                     0.35329                   0.28109   \n",
       "284                     0.46245                   0.39842   \n",
       "513                     0.53640                   0.54470   \n",
       "2240                    0.66824                   0.73317   \n",
       "1701                    0.52730                   0.50514   \n",
       "1124                    0.63626                   0.68101   \n",
       "\n",
       "      Root Mean Squared Error (RMSE)  R-squared (R2)  \\\n",
       "237                          0.60329         0.75248   \n",
       "236                          0.71207         0.65219   \n",
       "273                          0.61444         0.75685   \n",
       "848                          0.72685         0.65624   \n",
       "249                          0.53184         0.81967   \n",
       "536                          0.62630         0.74608   \n",
       "285                          0.53018         0.82624   \n",
       "284                          0.63121         0.75261   \n",
       "513                          0.73804         0.54997   \n",
       "2240                         0.85625         0.39484   \n",
       "1701                         0.71073         0.61208   \n",
       "1124                         0.82523         0.47140   \n",
       "\n",
       "      Mean Absolute Percentage Error (MAPE)     ativo  \\\n",
       "237                                 1.44920  FLRY3.SA   \n",
       "236                                 2.02373  FLRY3.SA   \n",
       "273                              1978.84622  RADL3.SA   \n",
       "848                              2365.65046  RADL3.SA   \n",
       "249                               340.72122  FLRY3.SA   \n",
       "536                                71.38017  FLRY3.SA   \n",
       "285                                 2.79281  RADL3.SA   \n",
       "284                                 3.98159  RADL3.SA   \n",
       "513                                 1.61485  FLRY3.SA   \n",
       "2240                                2.02946  FLRY3.SA   \n",
       "1701                                1.70030  RADL3.SA   \n",
       "1124                                2.15553  RADL3.SA   \n",
       "\n",
       "                            alvo  seq_len model   leak  \n",
       "237   diff_close_mean_z_score_14        1   MLP  False  \n",
       "236   diff_close_mean_z_score_14        1   MLP   True  \n",
       "273   diff_close_mean_z_score_14        1   MLP  False  \n",
       "848   diff_close_mean_z_score_14        3   MLP   True  \n",
       "249   diff_close_mean_z_score_21        1   MLP  False  \n",
       "536   diff_close_mean_z_score_21        2   MLP   True  \n",
       "285   diff_close_mean_z_score_21        1   MLP  False  \n",
       "284   diff_close_mean_z_score_21        1   MLP   True  \n",
       "513    diff_close_mean_z_score_7        2   MLP  False  \n",
       "2240   diff_close_mean_z_score_7       14   MLP   True  \n",
       "1701   diff_close_mean_z_score_7        6   MLP  False  \n",
       "1124   diff_close_mean_z_score_7        4   MLP   True  "
      ]
     },
     "metadata": {},
     "output_type": "display_data"
    }
   ],
   "source": [
    "for assets, domain in assets_domain:\n",
    "    print(f'''\n",
    "##############################################\n",
    "# DOMAIN: {domain}\n",
    "# ASSETS: {assets}\n",
    "##############################################\n",
    "          ''')\n",
    "    \n",
    "    print('Metricas macro - label meta')\n",
    "    metrics_clf = macro_clf[macro_clf.label_col.str.contains('meta') & macro_clf.asset.isin(assets)].\\\n",
    "    drop(['support', 'scaling_method', 'prediction_type', 'class'], axis =1 ).\\\n",
    "            rename({'asset': 'ativo', 'label_col': 'alvo'},axis=1)[['ativo','seq_len','alvo','precision','recall', 'f1-score', 'model', 'leak', 'feature_cols']]\n",
    "    \n",
    "    display(metrics_clf.loc[metrics_clf.groupby(['alvo','ativo', 'leak', 'feature_cols'])['f1-score'].idxmax()])\n",
    "    \n",
    "    print('Metricas regressao - label diff_close_mean_z_score')\n",
    "    \n",
    "    \n",
    "    metrics_reg = reg[reg.label_col.str.contains('diff_close_mean_z_score') & reg.asset.isin(assets)].\\\n",
    "        drop(['scaling_method', 'prediction_type', 'feature_cols'], axis = 1).\\\n",
    "            rename({'asset': 'ativo', 'label_col': 'alvo','f1-score':'valor'},axis=1)\n",
    "    \n",
    "    display(metrics_reg.loc[metrics_reg.groupby(['alvo','ativo', 'leak'])['R-squared (R2)'].idxmax()])"
   ]
  },
  {
   "cell_type": "code",
   "execution_count": 16,
   "metadata": {},
   "outputs": [],
   "source": [
    "# for assets, domain in assets_domain:\n",
    "#     print(f'''\n",
    "# ##############################################\n",
    "# # DOMAIN: {domain}\n",
    "# # ASSETS: {assets}\n",
    "# ##############################################\n",
    "#           ''')\n",
    "    \n",
    "#     print('Metricas macro - label meta')\n",
    "#     metrics_clf = macro_clf[macro_clf.label_col.str.contains('meta') & macro_clf.asset.isin(assets)].\\\n",
    "#     drop(['support', 'scaling_method', 'prediction_type', 'class', 'feature_cols'], axis =1 ).\\\n",
    "#             rename({'asset': 'ativo', 'label_col': 'alvo'},axis=1)[['ativo','seq_len','alvo','precision','recall', 'f1-score', 'model', 'leak']]\n",
    "    \n",
    "#     display(metrics_clf)\n",
    "    \n",
    "#     print('Metricas regressao - label diff_close_mean_z_score')\n",
    "    \n",
    "    \n",
    "#     metrics_reg = reg[reg.label_col.str.contains('diff_close_mean_z_score') & reg.asset.isin(assets)].\\\n",
    "#         drop(['scaling_method', 'prediction_type', 'feature_cols'], axis = 1).\\\n",
    "#             rename({'asset': 'ativo', 'label_col': 'alvo','f1-score':'valor'},axis=1)\n",
    "#     display(metrics_reg)"
   ]
  }
 ],
 "metadata": {
  "kernelspec": {
   "display_name": "env-tcc-tf-gpu",
   "language": "python",
   "name": "python3"
  },
  "language_info": {
   "codemirror_mode": {
    "name": "ipython",
    "version": 3
   },
   "file_extension": ".py",
   "mimetype": "text/x-python",
   "name": "python",
   "nbconvert_exporter": "python",
   "pygments_lexer": "ipython3",
   "version": "3.12.4"
  }
 },
 "nbformat": 4,
 "nbformat_minor": 2
}
